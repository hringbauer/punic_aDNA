{
 "cells": [
  {
   "cell_type": "markdown",
   "metadata": {},
   "source": [
    "# Run Dates Analysis\n",
    "Try to install dates software"
   ]
  },
  {
   "cell_type": "code",
   "execution_count": 1,
   "metadata": {},
   "outputs": [
    {
     "name": "stdout",
     "output_type": "stream",
     "text": [
      "compute-a-17-91.o2.rc.hms.harvard.edu\n",
      "HSM Computational partition detected.\n",
      "/n/groups/reich/hringbauer\n",
      "CPU Count: 32\n",
      "3.7.4 (default, Sep 11 2019, 11:24:51) \n",
      "[GCC 6.2.0]\n"
     ]
    }
   ],
   "source": [
    "import numpy as np\n",
    "import os  # For Saving to Folder\n",
    "import pandas as pd\n",
    "import matplotlib.pyplot as plt\n",
    "\n",
    "import socket\n",
    "import os as os\n",
    "import sys as sys\n",
    "import multiprocessing as mp\n",
    "\n",
    "### For Arial Font\n",
    "from matplotlib import rcParams\n",
    "rcParams['font.family'] = 'sans-serif'   # Set the defaul\n",
    "### Make sure to have the font installed (it is on cluster for Harald)\n",
    "rcParams['font.sans-serif'] = ['Arial']\n",
    "\n",
    "socket_name = socket.gethostname()\n",
    "print(socket_name)\n",
    "\n",
    "if socket_name.startswith(\"compute-\"):\n",
    "    print(\"HSM Computational partition detected.\")\n",
    "    path = \"/n/groups/reich/hringbauer/\"  # The Path on Midway Cluster\n",
    "else:\n",
    "    raise RuntimeWarning(\"Not compatible machine. Check!!\")\n",
    "\n",
    "os.chdir(path)  # Set the right Path (in line with Atom default)\n",
    "# Show the current working directory. Should be HAPSBURG/Notebooks/ParallelRuns\n",
    "print(os.getcwd())\n",
    "print(f\"CPU Count: {mp.cpu_count()}\")\n",
    "print(sys.version)"
   ]
  },
  {
   "cell_type": "markdown",
   "metadata": {},
   "source": [
    "# Install\n",
    "For install, do a git clone from Priyas git site,\n",
    "\n",
    "git clone https://github.com/priyamoorjani/DATES"
   ]
  },
  {
   "cell_type": "markdown",
   "metadata": {},
   "source": [
    "# Run DATES"
   ]
  },
  {
   "cell_type": "markdown",
   "metadata": {},
   "source": [
    "### Modify the code here"
   ]
  },
  {
   "cell_type": "code",
   "execution_count": null,
   "metadata": {},
   "outputs": [],
   "source": [
    "def qpAdm_run(leftpops, rightpops, output_file, \n",
    "              input_folder = \"./eigenstrat/combined/\", \n",
    "              input_file=\"punic.v44\",\n",
    "              par_file_folder = \"./parfiles/\", \n",
    "              input_ind_suff=\"_mod1\", \n",
    "              output_folder =\"./output/qpAdm/\", \n",
    "              path_bin_qpAdm = \"/n/groups/reich/hringbauer/o2bin/qpAdm\",\n",
    "              all_snps=False):\n",
    "    \"\"\"Run qpAdm. Write temporary parfile and run the analysis\n",
    "    leftpops: List of left populations\n",
    "    rightpops: List of right populations\n",
    "    input_folder: Where to find the input files\n",
    "    par_file_folder: Folder of the parameterfile\n",
    "    input_file: The name of the input file\n",
    "    input_ind_suff: Suffix of .ind file. To allow modified populations\n",
    "    input_ind: name of the input .ind file. If given - write over default\"\"\"\n",
    "    #print(os.getcwd())\n",
    "    parfile_path = par_file_folder + \"parfile.\" + output_file\n",
    "    left_path = par_file_folder + \"left.\" + output_file\n",
    "    right_path = par_file_folder + \"right.\" + output_file\n",
    "    \n",
    "    ### Create the parfile:\n",
    "    with open(parfile_path, 'w') as f:\n",
    "        f.write(\"%s\\n\" % (\"DIR: \" + input_folder))\n",
    "        f.write(\"%s\\n\" % (\"S1: \" + input_file))\n",
    "        \n",
    "        indline = \"indivname: DIR/S1\" + input_ind_suff + \".ind\"\n",
    "        f.write(\"%s\\n\" % indline)\n",
    "        f.write(\"%s\\n\" % \"snpname: DIR/S1.snp\")\n",
    "        f.write(\"%s\\n\" % \"genotypename: DIR/S1.geno\")\n",
    "        f.write(\"%s\\n\" % (\"popleft: \" + left_path))\n",
    "        f.write(\"%s\\n\" % (\"popright: \" + right_path))\n",
    "        f.write(\"%s\\n\" % \"details: YES\")   \n",
    "        if all_snps==True:\n",
    "            f.write(\"%s\\n\" % \"allsnps: YES\")\n",
    "    \n",
    "    ### Write leftpops rightpops:       \n",
    "    with open(left_path, 'w') as f:\n",
    "        f.write(\"\\n\".join(leftpops))\n",
    "        \n",
    "    with open(right_path, 'w') as f:\n",
    "        f.write(\"\\n\".join(rightpops))\n",
    "    \n",
    "    output_path = output_folder + output_file + \".log\"\n",
    "    command = f\"{path_bin_qpAdm} -p {parfile_path} > {output_path}\"\n",
    "    #print(f\"Running command: \\n{command}\")\n",
    "    \n",
    "    ### Run qpAdm\n",
    "    start = time()\n",
    "    #!$path_bin_qpAdm -p $parfile_path > $output_path\n",
    "    os.system(command)\n",
    "    end = time()\n",
    "    \n",
    "    print(\"Runtime: %2f\" % (end - start))\n",
    "    return 0"
   ]
  },
  {
   "cell_type": "code",
   "execution_count": 17,
   "metadata": {},
   "outputs": [],
   "source": [
    "path_bin = \"/n/groups/reich/hringbauer/o2bin/dates\"\n",
    "par_file = \"/n/groups/reich/hringbauer/git/DATES/test_hr/par.dates\""
   ]
  },
  {
   "cell_type": "code",
   "execution_count": 19,
   "metadata": {},
   "outputs": [
    {
     "name": "stdout",
     "output_type": "stream",
     "text": [
      "\n",
      "## DATES.  Version 3530\n",
      "\n",
      "parameter file: /n/groups/reich/hringbauer/git/DATES/test_hr/par.dates\n",
      "DIR: /n/groups/reich/hringbauer/git/DATES/test_hr/\n",
      "indivname: /n/groups/reich/hringbauer/git/DATES/test_hr//family_packed.ind\t\n",
      "snpname: /n/groups/reich/hringbauer/git/DATES/test_hr//family_packed.snp\n",
      "genotypename: /n/groups/reich/hringbauer/git/DATES/test_hr//family_packed.geno\n",
      "admixlist: /n/groups/reich/hringbauer/git/DATES/test_hr//admix\t\n",
      "binsize: 0.001\n",
      "maxdis: 1.0\n",
      "seed: 77\n",
      "runmode: 1\n",
      "chithresh: 0.0\n",
      "mincount: 1\n",
      "zdipcorrmode: YES\n",
      "qbin: 10\n",
      "runfit: YES\n",
      "afffit: YES\n",
      "lovalfit: 0.45\n",
      "usevar set!\n",
      "\n",
      "seed: 77\n",
      "genotypename:  /n/groups/reich/hringbauer/git/DATES/test_hr//family_packed.geno\n",
      "packed geno read OK\n",
      "end of inpack\n",
      "valid snps: 378678\n",
      "zzsnp: 248156 rs3781759     0.627147     0.445896\n",
      "calling dowork:  French  Yoruba  Simulation \n",
      "\n",
      "French\n",
      "Yoruba\n",
      "admix: Simulation\n",
      "\n",
      "countpops called\n",
      "output tables: Simulation.out\n",
      "mesh used :: qbin: 10  numqbins: 1404425\n",
      "regdim: 2\n",
      "number admixed: 1 numeg: 2\n",
      "group 0          French samplesize:   28\n",
      "group 1          Yoruba samplesize:   21\n",
      "numsnps: 378678  numindivs: 54\n",
      "coeffs:  NA00000     0.251     0.749 \n",
      "coeff: 378678              NA00000     0.251\n",
      " calcab:              NA00000 :: 72381.651\n",
      "numx: 32766\n",
      "sample:              NA00000 completed.  Total CPU since start:     4.950\n",
      "calling fit!...\n",
      "dates_jackknife -p /n/groups/reich/hringbauer/git/DATES/test_hr/par.dates -l     0.450 -z Simulation -r 77  -a >Simulation:log\n",
      "sh: dates_jackknife: command not found\n",
      "calling dowork:  French  Yoruba  Simulation.1 \n",
      "\n",
      "French\n",
      "Yoruba\n",
      "admix: Simulation.1\n",
      "\n",
      "countpops called\n",
      "output tables: Simulation.1.out\n",
      "mesh used :: qbin: 10  numqbins: 1404425\n",
      "regdim: 2\n",
      "number admixed: 4 numeg: 2\n",
      "group 0          French samplesize:   28\n",
      "group 1          Yoruba samplesize:   21\n",
      "numsnps: 378678  numindivs: 54\n",
      "coeffs:  NA00001     0.234     0.766 \n",
      "coeff: 378678              NA00001     0.234\n",
      "coeffs:  NA00002     0.246     0.754 \n",
      "coeff: 378678              NA00002     0.246\n",
      "coeffs:  NA00003     0.243     0.757 \n",
      "coeff: 378678              NA00003     0.243\n",
      "coeffs:  NA00004     0.235     0.765 \n",
      "coeff: 378678              NA00004     0.235\n",
      " calcab:              NA00001 :: 73244.444\n",
      "numx: 32766\n",
      "sample:              NA00001 completed.  Total CPU since start:     7.880\n",
      " calcab:              NA00002 :: 73071.120\n",
      "numx: 373825\n",
      "sample:              NA00002 completed.  Total CPU since start:     8.540\n",
      " calcab:              NA00003 :: 72883.424\n",
      "numx: 373825\n",
      "sample:              NA00003 completed.  Total CPU since start:     9.200\n",
      " calcab:              NA00004 :: 72981.403\n",
      "numx: 373825\n",
      "sample:              NA00004 completed.  Total CPU since start:     9.840\n",
      "calling fit!...\n",
      "dates_jackknife -p /n/groups/reich/hringbauer/git/DATES/test_hr/par.dates -l     0.450 -z Simulation.1 -r 77  -a >Simulation.1:log\n",
      "sh: dates_jackknife: command not found\n",
      "##end of dates:        9.970 seconds cpu      461.853 Mbytes in use\n",
      "CPU times: user 325 ms, sys: 80.9 ms, total: 406 ms\n",
      "Wall time: 10.7 s\n"
     ]
    }
   ],
   "source": [
    "%%time\n",
    "!module load fftw/3.3.7; $path_bin -p $par_file"
   ]
  },
  {
   "cell_type": "code",
   "execution_count": null,
   "metadata": {},
   "outputs": [],
   "source": []
  }
 ],
 "metadata": {
  "kernelspec": {
   "display_name": "Python 3",
   "language": "python",
   "name": "python3"
  },
  "language_info": {
   "codemirror_mode": {
    "name": "ipython",
    "version": 3
   },
   "file_extension": ".py",
   "mimetype": "text/x-python",
   "name": "python",
   "nbconvert_exporter": "python",
   "pygments_lexer": "ipython3",
   "version": "3.7.4"
  }
 },
 "nbformat": 4,
 "nbformat_minor": 4
}
