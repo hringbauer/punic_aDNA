{
 "cells": [
  {
   "cell_type": "markdown",
   "metadata": {},
   "source": [
    "### Produce Maps"
   ]
  },
  {
   "cell_type": "code",
   "execution_count": 7,
   "metadata": {},
   "outputs": [
    {
     "name": "stdout",
     "output_type": "stream",
     "text": [
      "compute-e-16-229.o2.rc.hms.harvard.edu\n",
      "HSM Computational partition detected.\n",
      "/n/groups/reich/hringbauer/git/punic_aDNA\n",
      "CPU Count: 28\n",
      "3.7.4 (default, Sep 11 2019, 11:24:51) \n",
      "[GCC 6.2.0]\n"
     ]
    }
   ],
   "source": [
    "import numpy as np\n",
    "import os  # For Saving to Folder\n",
    "import pandas as pd\n",
    "import matplotlib.pyplot as plt\n",
    "\n",
    "import socket\n",
    "import os as os\n",
    "import sys as sys\n",
    "import multiprocessing as mp\n",
    "import matplotlib.cm as cm\n",
    "import matplotlib.colors as cls\n",
    "import matplotlib.colorbar as clb\n",
    "from matplotlib import gridspec\n",
    "\n",
    "# For Arial Font\n",
    "from matplotlib import rcParams\n",
    "rcParams['font.family'] = 'sans-serif'   # Set the defaul\n",
    "# Make sure to have the font installed (it is on cluster for Harald)\n",
    "rcParams['font.sans-serif'] = ['Arial']\n",
    "\n",
    "socket_name = socket.gethostname()\n",
    "print(socket_name)\n",
    "\n",
    "if socket_name.startswith(\"compute-\"):\n",
    "    print(\"HSM Computational partition detected.\")\n",
    "    path = \"/n/groups/reich/hringbauer/git/punic_aDNA/\"  # The Path on HMS Cluster\n",
    "else:\n",
    "    raise RuntimeWarning(\"Not compatible machine. Check!!\")\n",
    "\n",
    "os.chdir(path)  # Set the right Path (in line with Atom default)\n",
    "# Show the current working directory. Should be HAPSBURG/Notebooks/ParallelRuns\n",
    "print(os.getcwd())\n",
    "print(f\"CPU Count: {mp.cpu_count()}\")\n",
    "print(sys.version)\n",
    "\n",
    "import mpl_toolkits\n",
    "mpl_toolkits.__path__.append('/n/groups/reich/hringbauer/explore_ntbk/jptvenv37/lib/python3.7/site-packages/basemap-1.2.1-py3.7-linux-x86_64.egg/mpl_toolkits/')\n",
    "from mpl_toolkits.basemap import Basemap"
   ]
  },
  {
   "cell_type": "markdown",
   "metadata": {},
   "source": [
    "# Helper Function"
   ]
  },
  {
   "cell_type": "code",
   "execution_count": 14,
   "metadata": {},
   "outputs": [],
   "source": [
    "def remove_individuals(df, remove_list=[\"_d\"], iid_col=\"iid\"):\n",
    "    \"\"\"Remove indivdiuals from PCA dataframe\"\"\"\n",
    "    idx = df[iid_col].str.contains(\"|\".join(remove_list))\n",
    "    df = df[~idx].copy()\n",
    "    print(f\"Filtering to {len(df)}/{len(idx)}\")\n",
    "    return df\n",
    "\n",
    "def get_sub_iid(df, pops=[\"\"], iid_col=\"iid\"):\n",
    "    \"\"\"Remove indivdiuals from PCA dataframe\"\"\"\n",
    "    idx = df[iid_col].str.contains(\"|\".join(pops))\n",
    "    df = df[idx].copy()\n",
    "    print(f\"Found: {len(df)}/{len(idx)}\")\n",
    "    return df\n",
    "\n",
    "def get_sub_pops(df, pop_list=[], pop_col=\"pop\"):\n",
    "    \"\"\"Get Sub Populations\"\"\"\n",
    "    idx = df[pop_col].str.contains(\"|\".join(pop_list))\n",
    "    df = df[idx].copy()\n",
    "    print(f\"Found: {len(df)}/{len(idx)}\")\n",
    "    return df\n",
    "\n",
    "def get_sub_pops_exact(df, pop_list=[], pop_col=\"pop\"):\n",
    "    \"\"\"Get Sub Populations\"\"\"\n",
    "    idx = df[pop_col].isin(pop_list)\n",
    "    df = df[idx].copy()\n",
    "    print(f\"Found: {len(df)}/{len(idx)}\")\n",
    "    return df"
   ]
  },
  {
   "cell_type": "markdown",
   "metadata": {},
   "source": [
    "# Get the Data"
   ]
  },
  {
   "cell_type": "code",
   "execution_count": 15,
   "metadata": {},
   "outputs": [
    {
     "name": "stdout",
     "output_type": "stream",
     "text": [
      "Filtering to 2209/2209\n",
      "Filtered to 2164 Individuals based on Min SNP: 30000\n",
      "Filtered to 2099 based on duplicates\n"
     ]
    }
   ],
   "source": [
    "min_snp = 30000\n",
    "path_pca = \"./output/pca/v49.2/20210809.punic.v49.2_HO.construct_WE_NA_PCA.smYES.outitY.evec.txt\"\n",
    "df = pd.read_csv(path_pca, \n",
    "                 sep=r\"\\s+\", skiprows=1, header=None)\n",
    "df.columns=[\"iid\", \"pc1\", \"pc2\", \"pc3\", \"pc4\", \"pop\"]\n",
    "df = remove_individuals(df, remove_list=[\"_d\"])\n",
    "\n",
    "df_meta = pd.read_csv(\"/n/groups/reich/hringbauer/Data/v51.1.anno.csv\", sep=\",\")\n",
    "df2 = df_meta[[\"iid\", \"Master ID\", \"loc\", \"n_cov_snp\", \"avg_cov_snp\", \"sex\", \"age\"]]\n",
    "df = pd.merge(df, df2, on=\"iid\", how=\"left\")\n",
    "idx = (df[\"n_cov_snp\"]<min_snp)\n",
    "df = df[~idx]\n",
    "df.loc[df[\"loc\"].isnull(), \"loc\"]=\"not assigned\"\n",
    "print(f\"Filtered to {len(df)} Individuals based on Min SNP: {min_snp}\")\n",
    "\n",
    "df = df.sort_values(by=\"n_cov_snp\", ascending=False)\n",
    "dup = (df[\"Master ID\"].duplicated() & ~df[\"Master ID\"].isnull())\n",
    "df = df[~dup].copy().reset_index(drop=True)\n",
    "print(f\"Filtered to {len(df)} based on duplicates\")"
   ]
  },
  {
   "cell_type": "code",
   "execution_count": 4,
   "metadata": {},
   "outputs": [
    {
     "name": "stdout",
     "output_type": "stream",
     "text": [
      "Found: 18/2095\n"
     ]
    }
   ],
   "source": [
    "df_sard = get_sub_pops(df, pop_list=[\"Italy_Sardinia_Punic\"])"
   ]
  },
  {
   "cell_type": "markdown",
   "metadata": {},
   "source": [
    "# Do the Timeline Plot"
   ]
  },
  {
   "cell_type": "code",
   "execution_count": 13,
   "metadata": {},
   "outputs": [],
   "source": [
    "def plot_timeline(df, fs = 10, c = \"royalblue\", marker=\"o\", plot_col=\"avg_cov_snp\",\n",
    "                  xlim=[0,700], ylim=[1e-2, 1.25e1], ylabel=\"Mean Coverage on 1240K SNPs\",\n",
    "                  x_ticks = [0.1, 1,10], s=70, savepath=\"\", invert_age=True):\n",
    "    \"\"\"Plot timeline of samples\"\"\"\n",
    "    \n",
    "    ### Transform to calBCE\n",
    "    x, y = df[\"age\"].values-1950, df[plot_col].values.astype(\"float\")\n",
    "    txts = df[\"iid\"].values\n",
    "    \n",
    "    plt.figure(figsize=(8,3))\n",
    "    ax = plt.gca()\n",
    "    \n",
    "    unique_markers = set(marker)  # or yo can use: np.unique(m)\n",
    "    for um in unique_markers:\n",
    "        mask = marker == um \n",
    "        ax.scatter(x[mask], y[mask], edgecolors=\"k\", marker=um, \n",
    "                   c=c[mask], s=s)\n",
    "    \n",
    "    if len(ylim)>0:\n",
    "        ax.set_ylim(ylim)\n",
    "    if len(xlim)>0:\n",
    "        ax.set_xlim(xlim)\n",
    "    ax.set_ylabel(ylabel, fontsize=fs)\n",
    "    ax.set_xlabel(\"Age [years BCE]\", fontsize=fs)\n",
    "    ax.set_yscale(\"log\")\n",
    "\n",
    "    for i, txt in enumerate(txts):\n",
    "        plt.text(x[i], y[i]*1.25, txt, fontsize=9, clip_on=True)\n",
    "\n",
    "    ### Horizontal Lines:\n",
    "\n",
    "    for x in x_ticks:\n",
    "        ax.axhline(x, color=\"gray\", linestyle=\"dashed\", linewidth=0.5, zorder=0)\n",
    "\n",
    "    ax.axhline(0.024, color=\"red\", linestyle=\"-\", linewidth=0.5, zorder=0)  \n",
    "        \n",
    "    if invert_age:\n",
    "        ax.invert_xaxis()     \n",
    "        \n",
    "    if len(savepath)>0:\n",
    "        plt.savefig(savepath, bbox_inches = 'tight', pad_inches = 0)\n",
    "        print(f\"Saved to {savepath}\")\n",
    "        \n",
    "    plt.show()"
   ]
  },
  {
   "cell_type": "code",
   "execution_count": 15,
   "metadata": {},
   "outputs": [
    {
     "data": {
      "image/png": "[encoded data removed]",
      "text/plain": [
       "<Figure size 576x216 with 1 Axes>"
      ]
     },
     "metadata": {
      "needs_background": "light"
     },
     "output_type": "display_data"
    }
   ],
   "source": [
    "plot_timeline(df_sard, savepath=\"\", invert_age=True) # ./figures/timeline/timeline_sard.pdf"
   ]
  },
  {
   "cell_type": "code",
   "execution_count": 13,
   "metadata": {},
   "outputs": [
    {
     "name": "stdout",
     "output_type": "stream",
     "text": [
      "Found: 29/1770\n",
      "Saved to ./figures/timeline/timeline_kerk.pdf\n"
     ]
    },
    {
     "data": {
      "image/png": "[encoded data removed]",
      "text/plain": [
       "<Figure size 576x216 with 1 Axes>"
      ]
     },
     "metadata": {
      "needs_background": "light"
     },
     "output_type": "display_data"
    }
   ],
   "source": [
    "df_kerk = get_sub_pops(df, pop_list=[\"Tunisia_Punic\"])\n",
    "plot_timeline(df_kerk, savepath=\"./figures/timeline/timeline_kerk.pdf\")"
   ]
  },
  {
   "cell_type": "code",
   "execution_count": 38,
   "metadata": {},
   "outputs": [
    {
     "data": {
      "text/plain": [
       "14"
      ]
     },
     "execution_count": 38,
     "metadata": {},
     "output_type": "execute_result"
    }
   ],
   "source": [
    "np.sum(df_kerk[\"avg_cov_snp\"].astype(\"float\")>2.5)"
   ]
  },
  {
   "cell_type": "code",
   "execution_count": 24,
   "metadata": {},
   "outputs": [
    {
     "data": {
      "text/plain": [
       "29"
      ]
     },
     "execution_count": 24,
     "metadata": {},
     "output_type": "execute_result"
    }
   ],
   "source": [
    "len(df_kerk)"
   ]
  },
  {
   "cell_type": "markdown",
   "metadata": {},
   "source": [
    "### Villaricos"
   ]
  },
  {
   "cell_type": "code",
   "execution_count": 22,
   "metadata": {},
   "outputs": [
    {
     "name": "stdout",
     "output_type": "stream",
     "text": [
      "Found: 13/1770\n",
      "Saved to ./figures/timeline/timeline_vill.pdf\n"
     ]
    },
    {
     "data": {
      "image/png": "[encoded data removed]",
      "text/plain": [
       "<Figure size 576x216 with 1 Axes>"
      ]
     },
     "metadata": {
      "needs_background": "light"
     },
     "output_type": "display_data"
    }
   ],
   "source": [
    "df_ib = get_sub_pops(df, pop_list=[\"Spain_Punic\"])\n",
    "plot_timeline(df_ib, savepath=\"./figures/timeline/timeline_vill.pdf\")"
   ]
  },
  {
   "cell_type": "markdown",
   "metadata": {},
   "source": [
    "# Plot Timeline for North African Samples"
   ]
  },
  {
   "cell_type": "code",
   "execution_count": 98,
   "metadata": {},
   "outputs": [
    {
     "name": "stdout",
     "output_type": "stream",
     "text": [
      "Found: 2/2099\n"
     ]
    }
   ],
   "source": [
    "df_alg = get_sub_pops(df, pop_list=[\"Algeria\"])"
   ]
  },
  {
   "cell_type": "code",
   "execution_count": 99,
   "metadata": {},
   "outputs": [
    {
     "data": {
      "text/html": [
       "<div>\n",
       "<style scoped>\n",
       "    .dataframe tbody tr th:only-of-type {\n",
       "        vertical-align: middle;\n",
       "    }\n",
       "\n",
       "    .dataframe tbody tr th {\n",
       "        vertical-align: top;\n",
       "    }\n",
       "\n",
       "    .dataframe thead th {\n",
       "        text-align: right;\n",
       "    }\n",
       "</style>\n",
       "<table border=\"1\" class=\"dataframe\">\n",
       "  <thead>\n",
       "    <tr style=\"text-align: right;\">\n",
       "      <th></th>\n",
       "      <th>iid</th>\n",
       "      <th>pc1</th>\n",
       "      <th>pc2</th>\n",
       "      <th>pc3</th>\n",
       "      <th>pc4</th>\n",
       "      <th>pop</th>\n",
       "      <th>Master ID</th>\n",
       "      <th>loc</th>\n",
       "      <th>n_cov_snp</th>\n",
       "      <th>avg_cov_snp</th>\n",
       "      <th>sex</th>\n",
       "      <th>age</th>\n",
       "    </tr>\n",
       "  </thead>\n",
       "  <tbody>\n",
       "    <tr>\n",
       "      <th>211</th>\n",
       "      <td>I12433</td>\n",
       "      <td>-0.046233</td>\n",
       "      <td>-0.053706</td>\n",
       "      <td>-0.051445</td>\n",
       "      <td>-0.050176</td>\n",
       "      <td>Algeria_IA</td>\n",
       "      <td>I12433</td>\n",
       "      <td>Aurès, Constantine, Khenchela Cave</td>\n",
       "      <td>756415.0</td>\n",
       "      <td>4.103941</td>\n",
       "      <td>F</td>\n",
       "      <td>2752.0</td>\n",
       "    </tr>\n",
       "    <tr>\n",
       "      <th>348</th>\n",
       "      <td>I11896</td>\n",
       "      <td>-0.061789</td>\n",
       "      <td>-0.053084</td>\n",
       "      <td>-0.093039</td>\n",
       "      <td>-0.081204</td>\n",
       "      <td>Algeria_N</td>\n",
       "      <td>I11896</td>\n",
       "      <td>Meskiana</td>\n",
       "      <td>615277.0</td>\n",
       "      <td>1.005341</td>\n",
       "      <td>F</td>\n",
       "      <td>6550.0</td>\n",
       "    </tr>\n",
       "  </tbody>\n",
       "</table>\n",
       "</div>"
      ],
      "text/plain": [
       "        iid       pc1       pc2       pc3       pc4         pop Master ID  \\\n",
       "211  I12433 -0.046233 -0.053706 -0.051445 -0.050176  Algeria_IA    I12433   \n",
       "348  I11896 -0.061789 -0.053084 -0.093039 -0.081204   Algeria_N    I11896   \n",
       "\n",
       "                                    loc  n_cov_snp avg_cov_snp sex     age  \n",
       "211  Aurès, Constantine, Khenchela Cave   756415.0    4.103941   F  2752.0  \n",
       "348                            Meskiana   615277.0    1.005341   F  6550.0  "
      ]
     },
     "execution_count": 99,
     "metadata": {},
     "output_type": "execute_result"
    }
   ],
   "source": [
    "df_alg"
   ]
  },
  {
   "cell_type": "code",
   "execution_count": 33,
   "metadata": {},
   "outputs": [
    {
     "name": "stdout",
     "output_type": "stream",
     "text": [
      "Found: 8/2099\n"
     ]
    }
   ],
   "source": [
    "df_tun = get_sub_pops(df, pop_list=[\"Tunisia_Mesolithic|Tunisia_N|Tunisia_EN|Tunisia_LN\"])\n",
    "#df_tun = get_sub_pops(df, pop_list=[\"Tunisia\"])\n",
    "#plot_timeline(df_ib, savepath=\"./figures/timeline/timeline_vill.pdf\")"
   ]
  },
  {
   "cell_type": "code",
   "execution_count": 39,
   "metadata": {},
   "outputs": [
    {
     "data": {
      "image/png": "[encoded data removed]",
      "text/plain": [
       "<Figure size 576x216 with 1 Axes>"
      ]
     },
     "metadata": {
      "needs_background": "light"
     },
     "output_type": "display_data"
    }
   ],
   "source": [
    "plot_timeline(df_tun, savepath=\"\", xlim=[])"
   ]
  },
  {
   "cell_type": "code",
   "execution_count": null,
   "metadata": {},
   "outputs": [],
   "source": [
    "color_dct = {\"Djebba\":\"red\", \"Doukanet el Khoutifa\":\"blue\", \"Hergla\":\"green\"}"
   ]
  },
  {
   "cell_type": "markdown",
   "metadata": {},
   "source": [
    "# Timeline for new Morocco Sample"
   ]
  },
  {
   "cell_type": "code",
   "execution_count": 16,
   "metadata": {},
   "outputs": [
    {
     "name": "stdout",
     "output_type": "stream",
     "text": [
      "Found: 13/2099\n"
     ]
    }
   ],
   "source": [
    "df_mor = get_sub_pops(df, pop_list=[\"Morocco_EN|Morocco_Iberomaurusian|Morocco_LN\"])"
   ]
  },
  {
   "cell_type": "code",
   "execution_count": 17,
   "metadata": {},
   "outputs": [
    {
     "data": {
      "text/html": [
       "<div>\n",
       "<style scoped>\n",
       "    .dataframe tbody tr th:only-of-type {\n",
       "        vertical-align: middle;\n",
       "    }\n",
       "\n",
       "    .dataframe tbody tr th {\n",
       "        vertical-align: top;\n",
       "    }\n",
       "\n",
       "    .dataframe thead th {\n",
       "        text-align: right;\n",
       "    }\n",
       "</style>\n",
       "<table border=\"1\" class=\"dataframe\">\n",
       "  <thead>\n",
       "    <tr style=\"text-align: right;\">\n",
       "      <th></th>\n",
       "      <th>iid</th>\n",
       "      <th>pc1</th>\n",
       "      <th>pc2</th>\n",
       "      <th>pc3</th>\n",
       "      <th>pc4</th>\n",
       "      <th>pop</th>\n",
       "      <th>Master ID</th>\n",
       "      <th>loc</th>\n",
       "      <th>n_cov_snp</th>\n",
       "      <th>avg_cov_snp</th>\n",
       "      <th>sex</th>\n",
       "      <th>age</th>\n",
       "    </tr>\n",
       "  </thead>\n",
       "  <tbody>\n",
       "    <tr>\n",
       "      <th>234</th>\n",
       "      <td>TAF010</td>\n",
       "      <td>-0.075535</td>\n",
       "      <td>-0.071517</td>\n",
       "      <td>-0.099871</td>\n",
       "      <td>-0.104475</td>\n",
       "      <td>Morocco_Iberomaurusian</td>\n",
       "      <td>TAF010</td>\n",
       "      <td>Taforalt</td>\n",
       "      <td>742144.0</td>\n",
       "      <td>3.060592</td>\n",
       "      <td>M</td>\n",
       "      <td>14649.0</td>\n",
       "    </tr>\n",
       "    <tr>\n",
       "      <th>69</th>\n",
       "      <td>TAF013</td>\n",
       "      <td>-0.076437</td>\n",
       "      <td>-0.070282</td>\n",
       "      <td>-0.102683</td>\n",
       "      <td>-0.097554</td>\n",
       "      <td>Morocco_Iberomaurusian</td>\n",
       "      <td>TAF013</td>\n",
       "      <td>Taforalt</td>\n",
       "      <td>922415.0</td>\n",
       "      <td>7.166829</td>\n",
       "      <td>M</td>\n",
       "      <td>14500.0</td>\n",
       "    </tr>\n",
       "    <tr>\n",
       "      <th>72</th>\n",
       "      <td>TAF014</td>\n",
       "      <td>-0.075051</td>\n",
       "      <td>-0.074609</td>\n",
       "      <td>-0.100253</td>\n",
       "      <td>-0.104398</td>\n",
       "      <td>Morocco_Iberomaurusian</td>\n",
       "      <td>TAF014</td>\n",
       "      <td>Taforalt</td>\n",
       "      <td>897022.0</td>\n",
       "      <td>5.801154</td>\n",
       "      <td>M</td>\n",
       "      <td>14500.0</td>\n",
       "    </tr>\n",
       "    <tr>\n",
       "      <th>737</th>\n",
       "      <td>TAF015</td>\n",
       "      <td>-0.065028</td>\n",
       "      <td>-0.062944</td>\n",
       "      <td>-0.087499</td>\n",
       "      <td>-0.088468</td>\n",
       "      <td>Morocco_Iberomaurusian</td>\n",
       "      <td>TAF015</td>\n",
       "      <td>Taforalt</td>\n",
       "      <td>51825.0</td>\n",
       "      <td>0.083724</td>\n",
       "      <td>M</td>\n",
       "      <td>14500.0</td>\n",
       "    </tr>\n",
       "    <tr>\n",
       "      <th>583</th>\n",
       "      <td>TAF012</td>\n",
       "      <td>-0.071256</td>\n",
       "      <td>-0.062607</td>\n",
       "      <td>-0.091876</td>\n",
       "      <td>-0.093376</td>\n",
       "      <td>Morocco_Iberomaurusian_sibling.TAF011</td>\n",
       "      <td>TAF012</td>\n",
       "      <td>Taforalt</td>\n",
       "      <td>231972.0</td>\n",
       "      <td>0.44607</td>\n",
       "      <td>F</td>\n",
       "      <td>14455.0</td>\n",
       "    </tr>\n",
       "    <tr>\n",
       "      <th>55</th>\n",
       "      <td>TAF011</td>\n",
       "      <td>-0.073408</td>\n",
       "      <td>-0.068435</td>\n",
       "      <td>-0.098723</td>\n",
       "      <td>-0.094772</td>\n",
       "      <td>Morocco_Iberomaurusian</td>\n",
       "      <td>TAF011</td>\n",
       "      <td>Taforalt</td>\n",
       "      <td>964548.0</td>\n",
       "      <td>8.261887</td>\n",
       "      <td>M</td>\n",
       "      <td>14450.0</td>\n",
       "    </tr>\n",
       "    <tr>\n",
       "      <th>603</th>\n",
       "      <td>TAF009</td>\n",
       "      <td>-0.061972</td>\n",
       "      <td>-0.057810</td>\n",
       "      <td>-0.083785</td>\n",
       "      <td>-0.103052</td>\n",
       "      <td>Morocco_Iberomaurusian</td>\n",
       "      <td>TAF009</td>\n",
       "      <td>Taforalt</td>\n",
       "      <td>195396.0</td>\n",
       "      <td>0.34242</td>\n",
       "      <td>M</td>\n",
       "      <td>14221.0</td>\n",
       "    </tr>\n",
       "    <tr>\n",
       "      <th>775</th>\n",
       "      <td>IAM.6.SG</td>\n",
       "      <td>-0.055040</td>\n",
       "      <td>-0.046554</td>\n",
       "      <td>-0.061656</td>\n",
       "      <td>-0.070428</td>\n",
       "      <td>Morocco_EN.SG</td>\n",
       "      <td>IAM.6</td>\n",
       "      <td>Ifri n'Amr or Moussa</td>\n",
       "      <td>36342.0</td>\n",
       "      <td>0.032767</td>\n",
       "      <td>F</td>\n",
       "      <td>7098.0</td>\n",
       "    </tr>\n",
       "    <tr>\n",
       "      <th>355</th>\n",
       "      <td>IAM.4_IAM.5.SG</td>\n",
       "      <td>-0.060232</td>\n",
       "      <td>-0.059170</td>\n",
       "      <td>-0.074910</td>\n",
       "      <td>-0.095525</td>\n",
       "      <td>Morocco_EN.SG</td>\n",
       "      <td>IAM.4.plus.5</td>\n",
       "      <td>Ifri n'Amr or Moussa</td>\n",
       "      <td>609541.0</td>\n",
       "      <td>0.746077</td>\n",
       "      <td>M</td>\n",
       "      <td>7063.0</td>\n",
       "    </tr>\n",
       "    <tr>\n",
       "      <th>694</th>\n",
       "      <td>IAM.7.SG</td>\n",
       "      <td>-0.052010</td>\n",
       "      <td>-0.049405</td>\n",
       "      <td>-0.062673</td>\n",
       "      <td>-0.092460</td>\n",
       "      <td>Morocco_EN.SG</td>\n",
       "      <td>IAM.7</td>\n",
       "      <td>Ifri n'Amr or Moussa</td>\n",
       "      <td>88973.0</td>\n",
       "      <td>0.083964</td>\n",
       "      <td>M</td>\n",
       "      <td>6871.0</td>\n",
       "    </tr>\n",
       "    <tr>\n",
       "      <th>644</th>\n",
       "      <td>KEB.1_KEB.8.SG</td>\n",
       "      <td>-0.032748</td>\n",
       "      <td>-0.036174</td>\n",
       "      <td>-0.014391</td>\n",
       "      <td>-0.004513</td>\n",
       "      <td>Morocco_LN.SG</td>\n",
       "      <td>KEB.1.plus.8</td>\n",
       "      <td>Kelif el Boroud</td>\n",
       "      <td>135515.0</td>\n",
       "      <td>0.122527</td>\n",
       "      <td>F</td>\n",
       "      <td>5657.0</td>\n",
       "    </tr>\n",
       "    <tr>\n",
       "      <th>634</th>\n",
       "      <td>KEB.4.SG</td>\n",
       "      <td>-0.024357</td>\n",
       "      <td>-0.041479</td>\n",
       "      <td>-0.011275</td>\n",
       "      <td>-0.027497</td>\n",
       "      <td>Morocco_LN.SG</td>\n",
       "      <td>KEB.4</td>\n",
       "      <td>Kelif el Boroud</td>\n",
       "      <td>153451.0</td>\n",
       "      <td>0.164114</td>\n",
       "      <td>F</td>\n",
       "      <td>5650.0</td>\n",
       "    </tr>\n",
       "    <tr>\n",
       "      <th>706</th>\n",
       "      <td>KEB.6.SG</td>\n",
       "      <td>-0.024155</td>\n",
       "      <td>-0.045080</td>\n",
       "      <td>-0.014755</td>\n",
       "      <td>-0.000348</td>\n",
       "      <td>Morocco_LN.SG</td>\n",
       "      <td>KEB.6</td>\n",
       "      <td>Kelif el Boroud</td>\n",
       "      <td>74728.0</td>\n",
       "      <td>0.064759</td>\n",
       "      <td>M</td>\n",
       "      <td>5650.0</td>\n",
       "    </tr>\n",
       "  </tbody>\n",
       "</table>\n",
       "</div>"
      ],
      "text/plain": [
       "                iid       pc1       pc2       pc3       pc4  \\\n",
       "234          TAF010 -0.075535 -0.071517 -0.099871 -0.104475   \n",
       "69           TAF013 -0.076437 -0.070282 -0.102683 -0.097554   \n",
       "72           TAF014 -0.075051 -0.074609 -0.100253 -0.104398   \n",
       "737          TAF015 -0.065028 -0.062944 -0.087499 -0.088468   \n",
       "583          TAF012 -0.071256 -0.062607 -0.091876 -0.093376   \n",
       "55           TAF011 -0.073408 -0.068435 -0.098723 -0.094772   \n",
       "603          TAF009 -0.061972 -0.057810 -0.083785 -0.103052   \n",
       "775        IAM.6.SG -0.055040 -0.046554 -0.061656 -0.070428   \n",
       "355  IAM.4_IAM.5.SG -0.060232 -0.059170 -0.074910 -0.095525   \n",
       "694        IAM.7.SG -0.052010 -0.049405 -0.062673 -0.092460   \n",
       "644  KEB.1_KEB.8.SG -0.032748 -0.036174 -0.014391 -0.004513   \n",
       "634        KEB.4.SG -0.024357 -0.041479 -0.011275 -0.027497   \n",
       "706        KEB.6.SG -0.024155 -0.045080 -0.014755 -0.000348   \n",
       "\n",
       "                                       pop     Master ID  \\\n",
       "234                 Morocco_Iberomaurusian        TAF010   \n",
       "69                  Morocco_Iberomaurusian        TAF013   \n",
       "72                  Morocco_Iberomaurusian        TAF014   \n",
       "737                 Morocco_Iberomaurusian        TAF015   \n",
       "583  Morocco_Iberomaurusian_sibling.TAF011        TAF012   \n",
       "55                  Morocco_Iberomaurusian        TAF011   \n",
       "603                 Morocco_Iberomaurusian        TAF009   \n",
       "775                          Morocco_EN.SG         IAM.6   \n",
       "355                          Morocco_EN.SG  IAM.4.plus.5   \n",
       "694                          Morocco_EN.SG         IAM.7   \n",
       "644                          Morocco_LN.SG  KEB.1.plus.8   \n",
       "634                          Morocco_LN.SG         KEB.4   \n",
       "706                          Morocco_LN.SG         KEB.6   \n",
       "\n",
       "                      loc  n_cov_snp avg_cov_snp sex      age  \n",
       "234              Taforalt   742144.0    3.060592   M  14649.0  \n",
       "69               Taforalt   922415.0    7.166829   M  14500.0  \n",
       "72               Taforalt   897022.0    5.801154   M  14500.0  \n",
       "737              Taforalt    51825.0    0.083724   M  14500.0  \n",
       "583              Taforalt   231972.0     0.44607   F  14455.0  \n",
       "55               Taforalt   964548.0    8.261887   M  14450.0  \n",
       "603              Taforalt   195396.0     0.34242   M  14221.0  \n",
       "775  Ifri n'Amr or Moussa    36342.0    0.032767   F   7098.0  \n",
       "355  Ifri n'Amr or Moussa   609541.0    0.746077   M   7063.0  \n",
       "694  Ifri n'Amr or Moussa    88973.0    0.083964   M   6871.0  \n",
       "644       Kelif el Boroud   135515.0    0.122527   F   5657.0  \n",
       "634       Kelif el Boroud   153451.0    0.164114   F   5650.0  \n",
       "706       Kelif el Boroud    74728.0    0.064759   M   5650.0  "
      ]
     },
     "execution_count": 17,
     "metadata": {},
     "output_type": "execute_result"
    }
   ],
   "source": [
    "df_mor.sort_values(by=\"age\", ascending=False)"
   ]
  },
  {
   "cell_type": "code",
   "execution_count": 49,
   "metadata": {},
   "outputs": [
    {
     "data": {
      "image/png": "[encoded data removed]",
      "text/plain": [
       "<Figure size 576x216 with 1 Axes>"
      ]
     },
     "metadata": {
      "needs_background": "light"
     },
     "output_type": "display_data"
    }
   ],
   "source": [
    "plot_timeline(df_mor, savepath=\"\", xlim=[])"
   ]
  },
  {
   "cell_type": "markdown",
   "metadata": {},
   "source": [
    "### Do the Figure plot for North African Time Transect"
   ]
  },
  {
   "cell_type": "code",
   "execution_count": 18,
   "metadata": {},
   "outputs": [],
   "source": [
    "df_nafr = pd.read_csv(\"./data/plot_nafr.v51.1.tsv\", sep=\"\\t\")\n",
    "df1 = df[[\"iid\", \"age\", \"avg_cov_snp\", \"n_cov_snp\", \"pop\", \"loc\"]]\n",
    "\n",
    "df_plot = pd.merge(df1, df_nafr[[\"iid\", \"color\", \"symbol\"]], on=\"iid\")"
   ]
  },
  {
   "cell_type": "code",
   "execution_count": 23,
   "metadata": {},
   "outputs": [
    {
     "name": "stdout",
     "output_type": "stream",
     "text": [
      "Saved to ./figures/nafr/coverage.v51.pdf\n"
     ]
    },
    {
     "data": {
      "image/png": "[encoded data removed]",
      "text/plain": [
       "<Figure size 576x216 with 1 Axes>"
      ]
     },
     "metadata": {
      "needs_background": "light"
     },
     "output_type": "display_data"
    }
   ],
   "source": [
    "plot_timeline(df_plot, xlim=[0,13000],\n",
    "              c=df_plot[\"color\"], marker=df_plot[\"symbol\"].values,\n",
    "              savepath=\"./figures/nafr/coverage.v51.pdf\")"
   ]
  },
  {
   "cell_type": "markdown",
   "metadata": {},
   "source": [
    "### Plot the Legend"
   ]
  },
  {
   "cell_type": "code",
   "execution_count": 24,
   "metadata": {},
   "outputs": [],
   "source": [
    "def plot_legend(label, c, marker, figsize = (3,2), s=60, lw=0.4, savepath=\"\"):\n",
    "    \"\"\"Plot Legend of the Scatter plot only\"\"\"\n",
    "    fig = plt.figure(figsize=figsize)\n",
    "    ax = plt.gca()\n",
    "\n",
    "    # Create the figure\n",
    "    handles = []\n",
    "    for i in range(len(label)):\n",
    "        select = ax.scatter([], [], c=c[i], marker=marker[i],\n",
    "                            s=s, lw=lw, label=label[i], ec=\"k\")\n",
    "        handles += [select]\n",
    "    ax.legend(handles=handles, loc=\"center\")\n",
    "    ax.axis(\"off\")\n",
    "    \n",
    "    ### Save\n",
    "    if len(savepath)>0:\n",
    "        plt.savefig(savepath, pad_inches = 0,  \n",
    "                    bbox_inches = 'tight', dpi=600) #pad_inches = 0, bbox_inches = 'tight'\n",
    "        print(f\"Saved to {savepath}\")\n",
    "    plt.show()"
   ]
  },
  {
   "cell_type": "code",
   "execution_count": 53,
   "metadata": {},
   "outputs": [],
   "source": [
    "df_leg = df_plot[[\"symbol\",\"loc\", \"color\"]].value_counts().reset_index().sort_values(by=[\"color\"])\n",
    "df_leg = df_leg.reset_index(drop=True)\n",
    "\n",
    "df_leg1 = df_leg.iloc[[0,2,5,1],:].copy().reset_index(drop=True)\n",
    "df_leg2 = df_leg.iloc[[6,4,3],:].copy().reset_index(drop=True)"
   ]
  },
  {
   "cell_type": "code",
   "execution_count": 54,
   "metadata": {},
   "outputs": [
    {
     "name": "stdout",
     "output_type": "stream",
     "text": [
      "Saved to ./figures/nafr/legend.v51.pdf\n"
     ]
    },
    {
     "data": {
      "image/png": "[encoded data removed]",
      "text/plain": [
       "<Figure size 216x144 with 1 Axes>"
      ]
     },
     "metadata": {
      "needs_background": "light"
     },
     "output_type": "display_data"
    }
   ],
   "source": [
    "plot_legend(label=df_leg1[\"loc\"], c=df_leg1[\"color\"], marker=df_leg1[\"symbol\"], \n",
    "            figsize=(3, 2), s=60, lw=0.4, savepath='./figures/nafr/legend.v51.pdf')"
   ]
  },
  {
   "cell_type": "code",
   "execution_count": 56,
   "metadata": {},
   "outputs": [
    {
     "name": "stdout",
     "output_type": "stream",
     "text": [
      "Saved to ./figures/nafr/legend.v51b.pdf\n"
     ]
    },
    {
     "data": {
      "image/png": "[encoded data removed]",
      "text/plain": [
       "<Figure size 216x144 with 1 Axes>"
      ]
     },
     "metadata": {
      "needs_background": "light"
     },
     "output_type": "display_data"
    }
   ],
   "source": [
    "plot_legend(label=df_leg2[\"loc\"], c=df_leg2[\"color\"], marker=df_leg2[\"symbol\"], \n",
    "            figsize=(3, 2), s=60, lw=0.4, savepath='./figures/nafr/legend.v51b.pdf')"
   ]
  },
  {
   "cell_type": "markdown",
   "metadata": {},
   "source": [
    "# Area 51"
   ]
  },
  {
   "cell_type": "code",
   "execution_count": 50,
   "metadata": {},
   "outputs": [
    {
     "data": {
      "text/html": [
       "<div>\n",
       "<style scoped>\n",
       "    .dataframe tbody tr th:only-of-type {\n",
       "        vertical-align: middle;\n",
       "    }\n",
       "\n",
       "    .dataframe tbody tr th {\n",
       "        vertical-align: top;\n",
       "    }\n",
       "\n",
       "    .dataframe thead th {\n",
       "        text-align: right;\n",
       "    }\n",
       "</style>\n",
       "<table border=\"1\" class=\"dataframe\">\n",
       "  <thead>\n",
       "    <tr style=\"text-align: right;\">\n",
       "      <th></th>\n",
       "      <th>symbol</th>\n",
       "      <th>loc</th>\n",
       "      <th>color</th>\n",
       "      <th>0</th>\n",
       "    </tr>\n",
       "  </thead>\n",
       "  <tbody>\n",
       "    <tr>\n",
       "      <th>0</th>\n",
       "      <td>X</td>\n",
       "      <td>Djebba</td>\n",
       "      <td>#003049</td>\n",
       "      <td>2</td>\n",
       "    </tr>\n",
       "    <tr>\n",
       "      <th>1</th>\n",
       "      <td>o</td>\n",
       "      <td>Aurès, Constantine, Khenchela Cave</td>\n",
       "      <td>#343a40</td>\n",
       "      <td>1</td>\n",
       "    </tr>\n",
       "    <tr>\n",
       "      <th>2</th>\n",
       "      <td>X</td>\n",
       "      <td>Doukanet el Khoutifa</td>\n",
       "      <td>#d62828</td>\n",
       "      <td>5</td>\n",
       "    </tr>\n",
       "    <tr>\n",
       "      <th>3</th>\n",
       "      <td>h</td>\n",
       "      <td>Ifri n'Amr or Moussa</td>\n",
       "      <td>#d62828</td>\n",
       "      <td>3</td>\n",
       "    </tr>\n",
       "    <tr>\n",
       "      <th>4</th>\n",
       "      <td>h</td>\n",
       "      <td>Kelif el Boroud</td>\n",
       "      <td>#fcbf49</td>\n",
       "      <td>3</td>\n",
       "    </tr>\n",
       "    <tr>\n",
       "      <th>5</th>\n",
       "      <td>X</td>\n",
       "      <td>Hergla</td>\n",
       "      <td>#fcbf49</td>\n",
       "      <td>1</td>\n",
       "    </tr>\n",
       "    <tr>\n",
       "      <th>6</th>\n",
       "      <td>h</td>\n",
       "      <td>Taforalt</td>\n",
       "      <td>black</td>\n",
       "      <td>7</td>\n",
       "    </tr>\n",
       "  </tbody>\n",
       "</table>\n",
       "</div>"
      ],
      "text/plain": [
       "  symbol                                 loc    color  0\n",
       "0      X                              Djebba  #003049  2\n",
       "1      o  Aurès, Constantine, Khenchela Cave  #343a40  1\n",
       "2      X                Doukanet el Khoutifa  #d62828  5\n",
       "3      h                Ifri n'Amr or Moussa  #d62828  3\n",
       "4      h                     Kelif el Boroud  #fcbf49  3\n",
       "5      X                              Hergla  #fcbf49  1\n",
       "6      h                            Taforalt    black  7"
      ]
     },
     "execution_count": 50,
     "metadata": {},
     "output_type": "execute_result"
    }
   ],
   "source": [
    "df_leg"
   ]
  },
  {
   "cell_type": "code",
   "execution_count": 42,
   "metadata": {},
   "outputs": [
    {
     "data": {
      "text/html": [
       "<div>\n",
       "<style scoped>\n",
       "    .dataframe tbody tr th:only-of-type {\n",
       "        vertical-align: middle;\n",
       "    }\n",
       "\n",
       "    .dataframe tbody tr th {\n",
       "        vertical-align: top;\n",
       "    }\n",
       "\n",
       "    .dataframe thead th {\n",
       "        text-align: right;\n",
       "    }\n",
       "</style>\n",
       "<table border=\"1\" class=\"dataframe\">\n",
       "  <thead>\n",
       "    <tr style=\"text-align: right;\">\n",
       "      <th></th>\n",
       "      <th>symbol</th>\n",
       "      <th>loc</th>\n",
       "      <th>color</th>\n",
       "      <th>0</th>\n",
       "    </tr>\n",
       "  </thead>\n",
       "  <tbody>\n",
       "    <tr>\n",
       "      <th>0</th>\n",
       "      <td>X</td>\n",
       "      <td>Djebba</td>\n",
       "      <td>#003049</td>\n",
       "      <td>2</td>\n",
       "    </tr>\n",
       "    <tr>\n",
       "      <th>1</th>\n",
       "      <td>o</td>\n",
       "      <td>Aurès, Constantine, Khenchela Cave</td>\n",
       "      <td>#343a40</td>\n",
       "      <td>1</td>\n",
       "    </tr>\n",
       "    <tr>\n",
       "      <th>2</th>\n",
       "      <td>X</td>\n",
       "      <td>Doukanet el Khoutifa</td>\n",
       "      <td>#d62828</td>\n",
       "      <td>5</td>\n",
       "    </tr>\n",
       "    <tr>\n",
       "      <th>3</th>\n",
       "      <td>h</td>\n",
       "      <td>Ifri n'Amr or Moussa</td>\n",
       "      <td>#d62828</td>\n",
       "      <td>3</td>\n",
       "    </tr>\n",
       "    <tr>\n",
       "      <th>4</th>\n",
       "      <td>h</td>\n",
       "      <td>Kelif el Boroud</td>\n",
       "      <td>#fcbf49</td>\n",
       "      <td>3</td>\n",
       "    </tr>\n",
       "    <tr>\n",
       "      <th>5</th>\n",
       "      <td>X</td>\n",
       "      <td>Hergla</td>\n",
       "      <td>#fcbf49</td>\n",
       "      <td>1</td>\n",
       "    </tr>\n",
       "    <tr>\n",
       "      <th>6</th>\n",
       "      <td>h</td>\n",
       "      <td>Taforalt</td>\n",
       "      <td>black</td>\n",
       "      <td>7</td>\n",
       "    </tr>\n",
       "  </tbody>\n",
       "</table>\n",
       "</div>"
      ],
      "text/plain": [
       "  symbol                                 loc    color  0\n",
       "0      X                              Djebba  #003049  2\n",
       "1      o  Aurès, Constantine, Khenchela Cave  #343a40  1\n",
       "2      X                Doukanet el Khoutifa  #d62828  5\n",
       "3      h                Ifri n'Amr or Moussa  #d62828  3\n",
       "4      h                     Kelif el Boroud  #fcbf49  3\n",
       "5      X                              Hergla  #fcbf49  1\n",
       "6      h                            Taforalt    black  7"
      ]
     },
     "execution_count": 42,
     "metadata": {},
     "output_type": "execute_result"
    }
   ],
   "source": [
    "df_leg"
   ]
  },
  {
   "cell_type": "code",
   "execution_count": null,
   "metadata": {},
   "outputs": [],
   "source": []
  }
 ],
 "metadata": {
  "kernelspec": {
   "display_name": "Python 3",
   "language": "python",
   "name": "python3"
  },
  "language_info": {
   "codemirror_mode": {
    "name": "ipython",
    "version": 3
   },
   "file_extension": ".py",
   "mimetype": "text/x-python",
   "name": "python",
   "nbconvert_exporter": "python",
   "pygments_lexer": "ipython3",
   "version": "3.7.4"
  }
 },
 "nbformat": 4,
 "nbformat_minor": 4
}
