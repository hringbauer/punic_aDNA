{
 "cells": [
  {
   "cell_type": "markdown",
   "metadata": {},
   "source": [
    "### Produce Maps"
   ]
  },
  {
   "cell_type": "code",
   "execution_count": 1,
   "metadata": {},
   "outputs": [
    {
     "name": "stdout",
     "output_type": "stream",
     "text": [
      "compute-e-16-231.o2.rc.hms.harvard.edu\n",
      "HSM Computational partition detected.\n",
      "/n/groups/reich/hringbauer/git/punic_aDNA\n",
      "CPU Count: 28\n",
      "3.7.4 (default, Sep 11 2019, 11:24:51) \n",
      "[GCC 6.2.0]\n"
     ]
    }
   ],
   "source": [
    "import numpy as np\n",
    "import os  # For Saving to Folder\n",
    "import pandas as pd\n",
    "import matplotlib.pyplot as plt\n",
    "\n",
    "import socket\n",
    "import os as os\n",
    "import sys as sys\n",
    "import multiprocessing as mp\n",
    "import matplotlib.cm as cm\n",
    "import matplotlib.colors as cls\n",
    "import matplotlib.colorbar as clb\n",
    "from matplotlib import gridspec\n",
    "\n",
    "# For Arial Font\n",
    "from matplotlib import rcParams\n",
    "rcParams['font.family'] = 'sans-serif'   # Set the defaul\n",
    "# Make sure to have the font installed (it is on cluster for Harald)\n",
    "rcParams['font.sans-serif'] = ['Arial']\n",
    "\n",
    "socket_name = socket.gethostname()\n",
    "print(socket_name)\n",
    "\n",
    "if socket_name.startswith(\"compute-\"):\n",
    "    print(\"HSM Computational partition detected.\")\n",
    "    path = \"/n/groups/reich/hringbauer/git/punic_aDNA/\"  # The Path on HMS Cluster\n",
    "else:\n",
    "    raise RuntimeWarning(\"Not compatible machine. Check!!\")\n",
    "\n",
    "os.chdir(path)  # Set the right Path (in line with Atom default)\n",
    "# Show the current working directory. Should be HAPSBURG/Notebooks/ParallelRuns\n",
    "print(os.getcwd())\n",
    "print(f\"CPU Count: {mp.cpu_count()}\")\n",
    "print(sys.version)\n",
    "\n",
    "import mpl_toolkits\n",
    "mpl_toolkits.__path__.append('/n/groups/reich/hringbauer/explore_ntbk/jptvenv37/lib/python3.7/site-packages/basemap-1.2.1-py3.7-linux-x86_64.egg/mpl_toolkits/')\n",
    "from mpl_toolkits.basemap import Basemap"
   ]
  },
  {
   "cell_type": "markdown",
   "metadata": {},
   "source": [
    "# Helper Function"
   ]
  },
  {
   "cell_type": "code",
   "execution_count": 4,
   "metadata": {},
   "outputs": [],
   "source": [
    "def remove_individuals(df, remove_list=[\"_d\"], iid_col=\"iid\"):\n",
    "    \"\"\"Remove indivdiuals from PCA dataframe\"\"\"\n",
    "    idx = df[iid_col].str.contains(\"|\".join(remove_list))\n",
    "    df = df[~idx].copy()\n",
    "    print(f\"Filtering to {len(df)}/{len(idx)}\")\n",
    "    return df\n",
    "\n",
    "def get_sub_iid(df, pops=[\"\"], iid_col=\"iid\"):\n",
    "    \"\"\"Remove indivdiuals from PCA dataframe\"\"\"\n",
    "    idx = df[iid_col].str.contains(\"|\".join(pops))\n",
    "    df = df[idx].copy()\n",
    "    print(f\"Found: {len(df)}/{len(idx)}\")\n",
    "    return df\n",
    "\n",
    "def get_sub_pops(df, pop_list=[], pop_col=\"pop\"):\n",
    "    \"\"\"Get Sub Populations\"\"\"\n",
    "    idx = df[pop_col].str.contains(\"|\".join(pop_list))\n",
    "    df = df[idx].copy()\n",
    "    print(f\"Found: {len(df)}/{len(idx)}\")\n",
    "    return df\n",
    "\n",
    "def get_sub_pops_exact(df, pop_list=[], pop_col=\"pop\"):\n",
    "    \"\"\"Get Sub Populations\"\"\"\n",
    "    idx = df[pop_col].isin(pop_list)\n",
    "    df = df[idx].copy()\n",
    "    print(f\"Found: {len(df)}/{len(idx)}\")\n",
    "    return df"
   ]
  },
  {
   "cell_type": "markdown",
   "metadata": {},
   "source": [
    "# Get the Data"
   ]
  },
  {
   "cell_type": "code",
   "execution_count": 28,
   "metadata": {},
   "outputs": [
    {
     "name": "stdout",
     "output_type": "stream",
     "text": [
      "Filtering to 2020/2131\n",
      "Filtered to 1967 Individuals based on Min SNP: 30000\n",
      "Filtered to 1899 based on duplicates\n"
     ]
    }
   ],
   "source": [
    "min_snp = 30000\n",
    "path_pca = \"./output/pca/v44/20201116.punic1.v44_HO.construct_WE_NA_PCA.shrinkmode.evec.txt\"\n",
    "\n",
    "df = pd.read_csv(path_pca, \n",
    "                 sep=r\"\\s+\", skiprows=1, header=None)\n",
    "df.columns=[\"iid\", \"pc1\", \"pc2\", \"pc3\", \"pc4\", \"pop\"]\n",
    "df = remove_individuals(df, remove_list=[\"_d\"])\n",
    "\n",
    "df_meta = pd.read_csv(\"/n/groups/reich/hringbauer/Data/v44.0.anno.csv\", sep=\",\")\n",
    "df2 = df_meta[[\"iid\", \"Master ID\", \"loc\", \"n_cov_snp\", \"avg_cov_snp\", \"sex\", \"age\"]]\n",
    "df = pd.merge(df, df2, on=\"iid\", how=\"left\")\n",
    "idx = (df[\"n_cov_snp\"]<min_snp)\n",
    "df = df[~idx]\n",
    "df.loc[df[\"loc\"].isnull(), \"loc\"]=\"not assigned\"\n",
    "print(f\"Filtered to {len(df)} Individuals based on Min SNP: {min_snp}\")\n",
    "\n",
    "df = df.sort_values(by=\"n_cov_snp\", ascending=False)\n",
    "dup = (df[\"Master ID\"].duplicated() & ~df[\"Master ID\"].isnull())\n",
    "df = df[~dup].copy().reset_index(drop=True)\n",
    "print(f\"Filtered to {len(df)} based on duplicates\")"
   ]
  },
  {
   "cell_type": "code",
   "execution_count": 30,
   "metadata": {},
   "outputs": [
    {
     "name": "stdout",
     "output_type": "stream",
     "text": [
      "Found: 19/1899\n"
     ]
    }
   ],
   "source": [
    "df_sard = get_sub_pops(df, pop_list=[\"Italy_Sardinia_Punic\"])"
   ]
  },
  {
   "cell_type": "markdown",
   "metadata": {},
   "source": [
    "# Do the Timeline Plot"
   ]
  },
  {
   "cell_type": "code",
   "execution_count": 62,
   "metadata": {},
   "outputs": [],
   "source": [
    "def plot_timeline(df, fs = 10, c = \"royalblue\", xlim=[0,700], ylim=[1e-2, 1.25e1],\n",
    "                  x_ticks = [0.1, 1,10], s=70, savepath=\"\"):\n",
    "    \"\"\"Plot timeline of samples\"\"\"\n",
    "    x, y = df[\"age\"].values-1950, df[\"avg_cov_snp\"].values.astype(\"float\")\n",
    "    txts = df[\"iid\"].values\n",
    "\n",
    "    plt.figure(figsize=(8,3))\n",
    "    ax = plt.gca()\n",
    "    ax.scatter(x, y, edgecolors=\"k\", c=c, s=s)\n",
    "\n",
    "    ax.invert_xaxis()\n",
    "    ax.set_ylim(ylim)\n",
    "    ax.set_xlim(xlim)\n",
    "    ax.set_ylabel(\"Mean Coverage on 1240K SNPs\", fontsize=fs)\n",
    "    ax.set_xlabel(\"Age [years BCE]\", fontsize=fs)\n",
    "    ax.set_yscale(\"log\")\n",
    "\n",
    "    for i, txt in enumerate(txts):\n",
    "        plt.text(x[i], y[i]*1.25, txt, fontsize=9)\n",
    "\n",
    "    # Horizontal Lines:\n",
    "\n",
    "    for x in x_ticks:\n",
    "        ax.axhline(x, color=\"gray\", linestyle=\"dashed\", linewidth=0.5, zorder=0)\n",
    "\n",
    "    ax.axhline(0.024, color=\"red\", linestyle=\"-\", linewidth=0.5, zorder=0)\n",
    "    if len(savepath)>0:\n",
    "        plt.savefig(savepath, bbox_inches = 'tight', pad_inches = 0)\n",
    "        print(f\"Saved to {savepath}\")  \n",
    "    plt.show()"
   ]
  },
  {
   "cell_type": "code",
   "execution_count": 64,
   "metadata": {},
   "outputs": [
    {
     "data": {
      "text/plain": [
       "19"
      ]
     },
     "execution_count": 64,
     "metadata": {},
     "output_type": "execute_result"
    }
   ],
   "source": [
    "len(df_sard)"
   ]
  },
  {
   "cell_type": "code",
   "execution_count": 63,
   "metadata": {},
   "outputs": [
    {
     "name": "stdout",
     "output_type": "stream",
     "text": [
      "Saved to ./figures/timeline/timeline.pdf\n"
     ]
    },
    {
     "data": {
      "image/png": "[encoded data removed]",
      "text/plain": [
       "<Figure size 576x216 with 1 Axes>"
      ]
     },
     "metadata": {
      "needs_background": "light"
     },
     "output_type": "display_data"
    }
   ],
   "source": [
    "plot_timeline(df_sard, savepath=\"./figures/timeline/timeline.pdf\")"
   ]
  },
  {
   "cell_type": "code",
   "execution_count": 32,
   "metadata": {},
   "outputs": [
    {
     "data": {
      "text/plain": [
       "112    5.509\n",
       "123    5.296\n",
       "143    4.219\n",
       "145    7.051\n",
       "155    4.584\n",
       "156    4.827\n",
       "167    4.794\n",
       "168     5.12\n",
       "176    4.377\n",
       "188    4.958\n",
       "198    2.335\n",
       "296    0.778\n",
       "318    0.552\n",
       "380    0.361\n",
       "435    0.155\n",
       "530    0.056\n",
       "551    0.044\n",
       "554    0.043\n",
       "558    0.038\n",
       "Name: avg_cov_snp, dtype: object"
      ]
     },
     "execution_count": 32,
     "metadata": {},
     "output_type": "execute_result"
    }
   ],
   "source": [
    " df_sard[\"avg_cov_snp\"]"
   ]
  },
  {
   "cell_type": "code",
   "execution_count": null,
   "metadata": {},
   "outputs": [],
   "source": []
  }
 ],
 "metadata": {
  "kernelspec": {
   "display_name": "Python 3",
   "language": "python",
   "name": "python3"
  },
  "language_info": {
   "codemirror_mode": {
    "name": "ipython",
    "version": 3
   },
   "file_extension": ".py",
   "mimetype": "text/x-python",
   "name": "python",
   "nbconvert_exporter": "python",
   "pygments_lexer": "ipython3",
   "version": "3.7.4"
  }
 },
 "nbformat": 4,
 "nbformat_minor": 4
}
