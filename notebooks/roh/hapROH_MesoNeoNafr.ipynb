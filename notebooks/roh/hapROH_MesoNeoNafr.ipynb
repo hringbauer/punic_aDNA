{
 "cells": [
  {
   "cell_type": "code",
   "execution_count": 23,
   "id": "66091897-73d1-4e96-a40d-91288a091cd2",
   "metadata": {},
   "outputs": [
    {
     "name": "stdout",
     "output_type": "stream",
     "text": [
      "compute-e-16-231.o2.rc.hms.harvard.edu\n",
      "HSM Computational partition detected.\n",
      "/n/groups/reich/hringbauer/git/punic_aDNA\n",
      "CPU Count: 28\n"
     ]
    }
   ],
   "source": [
    "import numpy as np\n",
    "import pandas as pd\n",
    "import matplotlib.pyplot as plt\n",
    "import socket as socket\n",
    "import os as os\n",
    "import sys as sys\n",
    "import multiprocessing as mp\n",
    "\n",
    "socket_name = socket.gethostname()\n",
    "print(socket_name)\n",
    "\n",
    "if socket_name.startswith(\"compute-\"):\n",
    "    print(\"HSM Computational partition detected.\")\n",
    "    path = \"/n/groups/reich/hringbauer/git/punic_aDNA/\"  # The Path on Midway Cluster\n",
    "else:\n",
    "    raise RuntimeWarning(\"No compatible machine. Check!!\")\n",
    "\n",
    "os.chdir(path)  # Set the right Path (in line with Atom default)\n",
    "# Show the current working directory. Should be HAPSBURG/Notebooks/ParallelRuns\n",
    "\n",
    "print(os.getcwd())\n",
    "print(f\"CPU Count: {mp.cpu_count()}\")\n",
    "\n",
    "from hapsburg.figures.plot_bars import plot_panel_row, prepare_dfs_plot\n",
    "\n",
    "### Hack for Basemaps\n",
    "import mpl_toolkits\n",
    "mpl_toolkits.__path__.append(\n",
    "    '/n/groups/reich/hringbauer/explore_ntbk/jptvenv37/lib/python3.7/site-packages/basemap-1.2.1-py3.7-linux-x86_64.egg/mpl_toolkits/')\n",
    "#from hapsburg.figures.plot_timelines import plot_map_time, extract_pop, prep_label\n",
    "from hapsburg.figures.plot_individual_roh import plot_pde_individual, plot_roh_individual\n",
    "from hapsburg.figures.plot_posterior import plot_posterior_cm"
   ]
  },
  {
   "cell_type": "markdown",
   "id": "1e768b3f-8ec5-4aba-920d-17e1de8c7ec5",
   "metadata": {},
   "source": [
    "## 1) Load ROH data"
   ]
  },
  {
   "cell_type": "code",
   "execution_count": 2,
   "id": "d328fb83-4f66-4fa3-9eb0-bc0098f3199c",
   "metadata": {},
   "outputs": [
    {
     "name": "stdout",
     "output_type": "stream",
     "text": [
      "Loaded 20398 Individuals with ROH\n"
     ]
    }
   ],
   "source": [
    "df1 = pd.read_csv(\"/n/groups/reich/hringbauer/hapsburg_runs/output/combined_roh05.v56.1.unique.tsv\", sep='\\t')\n",
    "df1 = df1.sort_values(by=\"sum_roh>20\", ascending=False)\n",
    "print(f\"Loaded {len(df1)} Individuals with ROH\")"
   ]
  },
  {
   "cell_type": "code",
   "execution_count": 9,
   "id": "f49f0ce8-503d-4aec-b43c-1e010c83b237",
   "metadata": {},
   "outputs": [
    {
     "name": "stdout",
     "output_type": "stream",
     "text": [
      "Found 7 out of 8 in ROH table\n"
     ]
    }
   ],
   "source": [
    "iids_tun = [\"I20824\",\"I20825\",\"I22580\",\"I22866\",\"I22867\",\"I22862\",\"I22577\",\"I22852\"]\n",
    "dft=df1[df1[\"iid\"].isin(iids_tun)]\n",
    "print(f\"Found {len(dft)} out of {len(iids_tun)} in ROH table\")"
   ]
  },
  {
   "cell_type": "code",
   "execution_count": 26,
   "id": "e446ebf2-2994-4c25-aaf7-62b2db99787a",
   "metadata": {},
   "outputs": [
    {
     "data": {
      "text/html": [
       "<div>\n",
       "<style scoped>\n",
       "    .dataframe tbody tr th:only-of-type {\n",
       "        vertical-align: middle;\n",
       "    }\n",
       "\n",
       "    .dataframe tbody tr th {\n",
       "        vertical-align: top;\n",
       "    }\n",
       "\n",
       "    .dataframe thead th {\n",
       "        text-align: right;\n",
       "    }\n",
       "</style>\n",
       "<table border=\"1\" class=\"dataframe\">\n",
       "  <thead>\n",
       "    <tr style=\"text-align: right;\">\n",
       "      <th></th>\n",
       "      <th>max_roh</th>\n",
       "      <th>iid</th>\n",
       "      <th>pop</th>\n",
       "      <th>sum_roh&gt;4</th>\n",
       "      <th>n_roh&gt;4</th>\n",
       "      <th>sum_roh&gt;8</th>\n",
       "      <th>n_roh&gt;8</th>\n",
       "      <th>sum_roh&gt;12</th>\n",
       "      <th>n_roh&gt;12</th>\n",
       "      <th>sum_roh&gt;20</th>\n",
       "      <th>...</th>\n",
       "      <th>study</th>\n",
       "      <th>clst</th>\n",
       "      <th>mean_cov</th>\n",
       "      <th>n_cov_snp</th>\n",
       "      <th>avg_cov_snp</th>\n",
       "      <th>include_alt</th>\n",
       "      <th>family</th>\n",
       "      <th>sex</th>\n",
       "      <th>contact</th>\n",
       "      <th>data_type</th>\n",
       "    </tr>\n",
       "  </thead>\n",
       "  <tbody>\n",
       "    <tr>\n",
       "      <th>1687</th>\n",
       "      <td>22.917104</td>\n",
       "      <td>I22580</td>\n",
       "      <td>Tunisia_N</td>\n",
       "      <td>98.973010</td>\n",
       "      <td>6</td>\n",
       "      <td>98.973010</td>\n",
       "      <td>6</td>\n",
       "      <td>81.810805</td>\n",
       "      <td>4</td>\n",
       "      <td>44.259304</td>\n",
       "      <td>...</td>\n",
       "      <td>Unpublished (Harald Punic)</td>\n",
       "      <td>Tunisia_N</td>\n",
       "      <td>0.787969</td>\n",
       "      <td>945563</td>\n",
       "      <td>3.347709</td>\n",
       "      <td>True</td>\n",
       "      <td>n/a (no relatives detected)</td>\n",
       "      <td>F</td>\n",
       "      <td>Pinhasi, Ron</td>\n",
       "      <td>1240k</td>\n",
       "    </tr>\n",
       "    <tr>\n",
       "      <th>2333</th>\n",
       "      <td>27.140200</td>\n",
       "      <td>I22862</td>\n",
       "      <td>Tunisia_N</td>\n",
       "      <td>73.191406</td>\n",
       "      <td>8</td>\n",
       "      <td>51.790506</td>\n",
       "      <td>4</td>\n",
       "      <td>27.140200</td>\n",
       "      <td>1</td>\n",
       "      <td>27.140200</td>\n",
       "      <td>...</td>\n",
       "      <td>Unpublished (Harald Punic)</td>\n",
       "      <td>Tunisia_N</td>\n",
       "      <td>0.348303</td>\n",
       "      <td>417964</td>\n",
       "      <td>0.287122</td>\n",
       "      <td>True</td>\n",
       "      <td>n/a (no relatives detected)</td>\n",
       "      <td>F</td>\n",
       "      <td>Pinhasi, Ron</td>\n",
       "      <td>1240k</td>\n",
       "    </tr>\n",
       "    <tr>\n",
       "      <th>16412</th>\n",
       "      <td>0.000000</td>\n",
       "      <td>I22866</td>\n",
       "      <td>Tunisia_N</td>\n",
       "      <td>0.000000</td>\n",
       "      <td>0</td>\n",
       "      <td>0.000000</td>\n",
       "      <td>0</td>\n",
       "      <td>0.000000</td>\n",
       "      <td>0</td>\n",
       "      <td>0.000000</td>\n",
       "      <td>...</td>\n",
       "      <td>Unpublished (Harald Punic)</td>\n",
       "      <td>Tunisia_N</td>\n",
       "      <td>0.702394</td>\n",
       "      <td>842873</td>\n",
       "      <td>1.795329</td>\n",
       "      <td>True</td>\n",
       "      <td>n/a (no relatives detected)</td>\n",
       "      <td>F</td>\n",
       "      <td>Pinhasi, Ron</td>\n",
       "      <td>1240k</td>\n",
       "    </tr>\n",
       "    <tr>\n",
       "      <th>17136</th>\n",
       "      <td>0.000000</td>\n",
       "      <td>I22867</td>\n",
       "      <td>Tunisia_N</td>\n",
       "      <td>0.000000</td>\n",
       "      <td>0</td>\n",
       "      <td>0.000000</td>\n",
       "      <td>0</td>\n",
       "      <td>0.000000</td>\n",
       "      <td>0</td>\n",
       "      <td>0.000000</td>\n",
       "      <td>...</td>\n",
       "      <td>Unpublished (Harald Punic)</td>\n",
       "      <td>Tunisia_N</td>\n",
       "      <td>0.699105</td>\n",
       "      <td>838926</td>\n",
       "      <td>1.537174</td>\n",
       "      <td>True</td>\n",
       "      <td>n/a (no relatives detected)</td>\n",
       "      <td>M</td>\n",
       "      <td>Pinhasi, Ron</td>\n",
       "      <td>1240k</td>\n",
       "    </tr>\n",
       "    <tr>\n",
       "      <th>3477</th>\n",
       "      <td>9.204996</td>\n",
       "      <td>I20824</td>\n",
       "      <td>Tunisia_N</td>\n",
       "      <td>46.160207</td>\n",
       "      <td>8</td>\n",
       "      <td>17.652799</td>\n",
       "      <td>2</td>\n",
       "      <td>0.000000</td>\n",
       "      <td>0</td>\n",
       "      <td>0.000000</td>\n",
       "      <td>...</td>\n",
       "      <td>Unpublished (Harald Punic)</td>\n",
       "      <td>Tunisia_N</td>\n",
       "      <td>0.398042</td>\n",
       "      <td>477650</td>\n",
       "      <td>0.364876</td>\n",
       "      <td>True</td>\n",
       "      <td>n/a (no relatives detected)</td>\n",
       "      <td>F</td>\n",
       "      <td>Pinhasi, Ron</td>\n",
       "      <td>1240k</td>\n",
       "    </tr>\n",
       "    <tr>\n",
       "      <th>8745</th>\n",
       "      <td>7.147002</td>\n",
       "      <td>I22577</td>\n",
       "      <td>Tunisia_N</td>\n",
       "      <td>7.147002</td>\n",
       "      <td>1</td>\n",
       "      <td>0.000000</td>\n",
       "      <td>0</td>\n",
       "      <td>0.000000</td>\n",
       "      <td>0</td>\n",
       "      <td>0.000000</td>\n",
       "      <td>...</td>\n",
       "      <td>Unpublished (Harald Punic)</td>\n",
       "      <td>Tunisia_N</td>\n",
       "      <td>0.693777</td>\n",
       "      <td>832532</td>\n",
       "      <td>1.237893</td>\n",
       "      <td>True</td>\n",
       "      <td>n/a (no relatives detected)</td>\n",
       "      <td>M</td>\n",
       "      <td>Pinhasi, Ron</td>\n",
       "      <td>1240k</td>\n",
       "    </tr>\n",
       "    <tr>\n",
       "      <th>8190</th>\n",
       "      <td>4.999102</td>\n",
       "      <td>I22852</td>\n",
       "      <td>Tunisia_LN</td>\n",
       "      <td>9.020301</td>\n",
       "      <td>2</td>\n",
       "      <td>0.000000</td>\n",
       "      <td>0</td>\n",
       "      <td>0.000000</td>\n",
       "      <td>0</td>\n",
       "      <td>0.000000</td>\n",
       "      <td>...</td>\n",
       "      <td>Unpublished (Harald Punic)</td>\n",
       "      <td>Tunisia_LN</td>\n",
       "      <td>0.474592</td>\n",
       "      <td>569510</td>\n",
       "      <td>0.494816</td>\n",
       "      <td>True</td>\n",
       "      <td>n/a (no relatives detected)</td>\n",
       "      <td>M</td>\n",
       "      <td>Pinhasi, Ron</td>\n",
       "      <td>1240k</td>\n",
       "    </tr>\n",
       "  </tbody>\n",
       "</table>\n",
       "<p>7 rows × 28 columns</p>\n",
       "</div>"
      ],
      "text/plain": [
       "         max_roh     iid         pop  sum_roh>4  n_roh>4  sum_roh>8  n_roh>8  \\\n",
       "1687   22.917104  I22580   Tunisia_N  98.973010        6  98.973010        6   \n",
       "2333   27.140200  I22862   Tunisia_N  73.191406        8  51.790506        4   \n",
       "16412   0.000000  I22866   Tunisia_N   0.000000        0   0.000000        0   \n",
       "17136   0.000000  I22867   Tunisia_N   0.000000        0   0.000000        0   \n",
       "3477    9.204996  I20824   Tunisia_N  46.160207        8  17.652799        2   \n",
       "8745    7.147002  I22577   Tunisia_N   7.147002        1   0.000000        0   \n",
       "8190    4.999102  I22852  Tunisia_LN   9.020301        2   0.000000        0   \n",
       "\n",
       "       sum_roh>12  n_roh>12  sum_roh>20  ...                       study  \\\n",
       "1687    81.810805         4   44.259304  ...  Unpublished (Harald Punic)   \n",
       "2333    27.140200         1   27.140200  ...  Unpublished (Harald Punic)   \n",
       "16412    0.000000         0    0.000000  ...  Unpublished (Harald Punic)   \n",
       "17136    0.000000         0    0.000000  ...  Unpublished (Harald Punic)   \n",
       "3477     0.000000         0    0.000000  ...  Unpublished (Harald Punic)   \n",
       "8745     0.000000         0    0.000000  ...  Unpublished (Harald Punic)   \n",
       "8190     0.000000         0    0.000000  ...  Unpublished (Harald Punic)   \n",
       "\n",
       "             clst  mean_cov  n_cov_snp  avg_cov_snp  include_alt  \\\n",
       "1687    Tunisia_N  0.787969     945563     3.347709         True   \n",
       "2333    Tunisia_N  0.348303     417964     0.287122         True   \n",
       "16412   Tunisia_N  0.702394     842873     1.795329         True   \n",
       "17136   Tunisia_N  0.699105     838926     1.537174         True   \n",
       "3477    Tunisia_N  0.398042     477650     0.364876         True   \n",
       "8745    Tunisia_N  0.693777     832532     1.237893         True   \n",
       "8190   Tunisia_LN  0.474592     569510     0.494816         True   \n",
       "\n",
       "                            family sex       contact data_type  \n",
       "1687   n/a (no relatives detected)   F  Pinhasi, Ron     1240k  \n",
       "2333   n/a (no relatives detected)   F  Pinhasi, Ron     1240k  \n",
       "16412  n/a (no relatives detected)   F  Pinhasi, Ron     1240k  \n",
       "17136  n/a (no relatives detected)   M  Pinhasi, Ron     1240k  \n",
       "3477   n/a (no relatives detected)   F  Pinhasi, Ron     1240k  \n",
       "8745   n/a (no relatives detected)   M  Pinhasi, Ron     1240k  \n",
       "8190   n/a (no relatives detected)   M  Pinhasi, Ron     1240k  \n",
       "\n",
       "[7 rows x 28 columns]"
      ]
     },
     "execution_count": 26,
     "metadata": {},
     "output_type": "execute_result"
    }
   ],
   "source": [
    "dft.to_csv(\"./output/dumpster/roh_summary_tunisia_meso_neo.tsv\", sep=\"\\t\", index=None)\n",
    "dft"
   ]
  },
  {
   "cell_type": "code",
   "execution_count": 24,
   "id": "e5d86b70-3fcc-44c0-bca0-9909af629e97",
   "metadata": {},
   "outputs": [
    {
     "name": "stdout",
     "output_type": "stream",
     "text": [
      "Saved figure to ./figures/div/roh_tunisia_meso_neo.pdf\n"
     ]
    },
    {
     "data": {
      "image/png": "[encoded data removed]",
      "text/plain": [
       "<Figure size 700x350 with 6 Axes>"
      ]
     },
     "metadata": {},
     "output_type": "display_data"
    }
   ],
   "source": [
    "plot_dfs, cols = prepare_dfs_plot(dft, cms=[4, 8, 12, 20], col_group='loc')\n",
    "labels = [\"Djebba (~6000 BCE)\", \"Doukanet (~5000 BCE)\", \"Hergla (~4000 BCE)\"]\n",
    "\n",
    "plot_panel_row(plot_dfs[:], wspace=0.1, r_title=15, leg_pos=-2,\n",
    "               figsize=(7, 3.5), titles=labels,\n",
    "               ylim=[0, 400], hlines=[100,200, 300, 400],\n",
    "               degrees=[1,2,3], ticks_c=['1st C.', '2nd C.', '3rd C.'],\n",
    "               savepath=\"./figures/div/roh_tunisia_meso_neo.pdf\")"
   ]
  },
  {
   "cell_type": "markdown",
   "id": "f6ce252c-aad1-4f66-a72f-1d66bd963b02",
   "metadata": {},
   "source": [
    "# 2) Ne estimates"
   ]
  },
  {
   "cell_type": "markdown",
   "id": "af1c7947-8f4c-4d8e-b9ad-090b7b676a42",
   "metadata": {},
   "source": [
    "## 2)a) Run indivdiual ROH (to save ROH lists)"
   ]
  },
  {
   "cell_type": "code",
   "execution_count": 27,
   "id": "9ca6010b-bd00-494d-807a-3ee298b7f3f4",
   "metadata": {},
   "outputs": [],
   "source": [
    "from hapsburg.PackagesSupport.hapsburg_run import hapsb_ind  # Import to run single sample"
   ]
  },
  {
   "cell_type": "code",
   "execution_count": 39,
   "id": "4feace9a-3a41-4e33-9a0f-a82af82801ae",
   "metadata": {},
   "outputs": [],
   "source": [
    "dft2 = dft[dft[\"n_cov_snp\"]>4e5]\n",
    "iids = dft2[\"iid\"].values"
   ]
  },
  {
   "cell_type": "code",
   "execution_count": 40,
   "id": "a4089af0-2cbe-49a2-837e-46bbc9231c09",
   "metadata": {},
   "outputs": [
    {
     "data": {
      "text/plain": [
       "array(['I22580', 'I22862', 'I22866', 'I22867', 'I20824', 'I22577',\n",
       "       'I22852'], dtype=object)"
      ]
     },
     "execution_count": 40,
     "metadata": {},
     "output_type": "execute_result"
    }
   ],
   "source": [
    "iids"
   ]
  },
  {
   "cell_type": "code",
   "execution_count": 41,
   "id": "73b63bc7-5cfb-4de8-9f21-a5e022ab8aa9",
   "metadata": {},
   "outputs": [
    {
     "name": "stdout",
     "output_type": "stream",
     "text": [
      "Running IID: I22580\n",
      "Doing Individual I22580...\n",
      "Set Output Log path: /n/groups/reich/hringbauer/hapsburg_runs/output/Punic/I22580/chr1/hmm_run_log.txtSet Output Log path: /n/groups/reich/hringbauer/hapsburg_runs/output/Punic/I22580/chr5/hmm_run_log.txt\n",
      "\n",
      "Set Output Log path: /n/groups/reich/hringbauer/hapsburg_runs/output/Punic/I22580/chr3/hmm_run_log.txtSet Output Log path: /n/groups/reich/hringbauer/hapsburg_runs/output/Punic/I22580/chr2/hmm_run_log.txt\n",
      "Set Output Log path: /n/groups/reich/hringbauer/hapsburg_runs/output/Punic/I22580/chr4/hmm_run_log.txt\n",
      "Set Output Log path: /n/groups/reich/hringbauer/hapsburg_runs/output/Punic/I22580/chr6/hmm_run_log.txt\n",
      "\n",
      "Combining Information for 22 Chromosomes...\n",
      "Running IID: I22862\n",
      "Doing Individual I22862...\n",
      "Set Output Log path: /n/groups/reich/hringbauer/hapsburg_runs/output/Punic/I22862/chr2/hmm_run_log.txt\n",
      "Set Output Log path: /n/groups/reich/hringbauer/hapsburg_runs/output/Punic/I22862/chr1/hmm_run_log.txt\n",
      "Set Output Log path: /n/groups/reich/hringbauer/hapsburg_runs/output/Punic/I22862/chr3/hmm_run_log.txtSet Output Log path: /n/groups/reich/hringbauer/hapsburg_runs/output/Punic/I22862/chr4/hmm_run_log.txt\n",
      "\n",
      "Set Output Log path: /n/groups/reich/hringbauer/hapsburg_runs/output/Punic/I22862/chr5/hmm_run_log.txt\n",
      "Set Output Log path: /n/groups/reich/hringbauer/hapsburg_runs/output/Punic/I22862/chr6/hmm_run_log.txt\n",
      "Combining Information for 22 Chromosomes...\n",
      "Running IID: I22866\n",
      "Doing Individual I22866...\n",
      "Set Output Log path: /n/groups/reich/hringbauer/hapsburg_runs/output/Punic/I22866/chr2/hmm_run_log.txtSet Output Log path: /n/groups/reich/hringbauer/hapsburg_runs/output/Punic/I22866/chr1/hmm_run_log.txt\n",
      "\n",
      "Set Output Log path: /n/groups/reich/hringbauer/hapsburg_runs/output/Punic/I22866/chr3/hmm_run_log.txt\n",
      "Set Output Log path: /n/groups/reich/hringbauer/hapsburg_runs/output/Punic/I22866/chr4/hmm_run_log.txtSet Output Log path: /n/groups/reich/hringbauer/hapsburg_runs/output/Punic/I22866/chr5/hmm_run_log.txt\n",
      "\n",
      "Set Output Log path: /n/groups/reich/hringbauer/hapsburg_runs/output/Punic/I22866/chr6/hmm_run_log.txt\n",
      "Combining Information for 22 Chromosomes...\n",
      "Running IID: I22867\n",
      "Doing Individual I22867...\n",
      "Set Output Log path: /n/groups/reich/hringbauer/hapsburg_runs/output/Punic/I22867/chr5/hmm_run_log.txt\n",
      "Set Output Log path: /n/groups/reich/hringbauer/hapsburg_runs/output/Punic/I22867/chr1/hmm_run_log.txt\n",
      "Set Output Log path: /n/groups/reich/hringbauer/hapsburg_runs/output/Punic/I22867/chr3/hmm_run_log.txt\n",
      "Set Output Log path: /n/groups/reich/hringbauer/hapsburg_runs/output/Punic/I22867/chr4/hmm_run_log.txt\n",
      "Set Output Log path: /n/groups/reich/hringbauer/hapsburg_runs/output/Punic/I22867/chr2/hmm_run_log.txtSet Output Log path: /n/groups/reich/hringbauer/hapsburg_runs/output/Punic/I22867/chr6/hmm_run_log.txt\n",
      "\n",
      "Combining Information for 22 Chromosomes...\n",
      "Running IID: I20824\n",
      "Doing Individual I20824...\n",
      "Set Output Log path: /n/groups/reich/hringbauer/hapsburg_runs/output/Punic/I20824/chr2/hmm_run_log.txt\n",
      "Set Output Log path: /n/groups/reich/hringbauer/hapsburg_runs/output/Punic/I20824/chr3/hmm_run_log.txt\n",
      "Set Output Log path: /n/groups/reich/hringbauer/hapsburg_runs/output/Punic/I20824/chr4/hmm_run_log.txtSet Output Log path: /n/groups/reich/hringbauer/hapsburg_runs/output/Punic/I20824/chr5/hmm_run_log.txt\n",
      "\n",
      "Set Output Log path: /n/groups/reich/hringbauer/hapsburg_runs/output/Punic/I20824/chr6/hmm_run_log.txt\n",
      "Set Output Log path: /n/groups/reich/hringbauer/hapsburg_runs/output/Punic/I20824/chr1/hmm_run_log.txt\n",
      "Combining Information for 22 Chromosomes...\n",
      "Running IID: I22577\n",
      "Doing Individual I22577...\n",
      "Set Output Log path: /n/groups/reich/hringbauer/hapsburg_runs/output/Punic/I22577/chr5/hmm_run_log.txtSet Output Log path: /n/groups/reich/hringbauer/hapsburg_runs/output/Punic/I22577/chr3/hmm_run_log.txt\n",
      "Set Output Log path: /n/groups/reich/hringbauer/hapsburg_runs/output/Punic/I22577/chr1/hmm_run_log.txt\n",
      "Set Output Log path: /n/groups/reich/hringbauer/hapsburg_runs/output/Punic/I22577/chr2/hmm_run_log.txt\n",
      "Set Output Log path: /n/groups/reich/hringbauer/hapsburg_runs/output/Punic/I22577/chr4/hmm_run_log.txt\n",
      "\n",
      "Set Output Log path: /n/groups/reich/hringbauer/hapsburg_runs/output/Punic/I22577/chr6/hmm_run_log.txt\n",
      "Combining Information for 22 Chromosomes...\n",
      "Running IID: I22852\n",
      "Doing Individual I22852...\n",
      "Set Output Log path: /n/groups/reich/hringbauer/hapsburg_runs/output/Punic/I22852/chr6/hmm_run_log.txtSet Output Log path: /n/groups/reich/hringbauer/hapsburg_runs/output/Punic/I22852/chr4/hmm_run_log.txt\n",
      "\n",
      "Set Output Log path: /n/groups/reich/hringbauer/hapsburg_runs/output/Punic/I22852/chr1/hmm_run_log.txt\n",
      "Set Output Log path: /n/groups/reich/hringbauer/hapsburg_runs/output/Punic/I22852/chr2/hmm_run_log.txt\n",
      "Set Output Log path: /n/groups/reich/hringbauer/hapsburg_runs/output/Punic/I22852/chr3/hmm_run_log.txt\n",
      "Set Output Log path: /n/groups/reich/hringbauer/hapsburg_runs/output/Punic/I22852/chr5/hmm_run_log.txt\n",
      "Combining Information for 22 Chromosomes...\n"
     ]
    }
   ],
   "source": [
    "for iid in iids:\n",
    "    print(f\"Running IID: {iid}\")\n",
    "\n",
    "    hapsb_ind(iid=iid, chs=range(1, 23), \n",
    "              path_targets=\"/n/groups/reich/DAVID/V56/V56.1/v56.1_1240k_all\", # The path before the .ind, .snp, .geno\n",
    "              h5_path1000g='/n/groups/reich/hringbauer/Data/1000G_hdf5s/chr', \n",
    "              meta_path_ref='/n/groups/reich/hringbauer/Data/1000G_hdf5s/meta_df_all.csv', \n",
    "              e_model=\"haploid\",\n",
    "              folder_out='/n/groups/reich/hringbauer/hapsburg_runs/output/Punic/',  # Folder where you want to save the results to \n",
    "              readcounts=False, random_allele = True,\n",
    "              processes=6, delete = False, logfile = True, combine = True)"
   ]
  },
  {
   "cell_type": "markdown",
   "id": "3c8607b2-b9d7-4cd3-bbe7-613828765384",
   "metadata": {},
   "source": [
    "# 2) Estimate Ne from ROH values"
   ]
  },
  {
   "cell_type": "code",
   "execution_count": 44,
   "id": "1f40b99f-0117-4d74-b026-2bea4cba688f",
   "metadata": {},
   "outputs": [],
   "source": [
    "from hapsburg.PackagesSupport.fit_ne import MLE_ROH_Ne, load_roh_vec"
   ]
  },
  {
   "cell_type": "code",
   "execution_count": 45,
   "id": "d6ec1855-e280-436a-a6a5-eb4eac8a656e",
   "metadata": {},
   "outputs": [],
   "source": [
    "### Load ROH Vector\n",
    "roh_vec = load_roh_vec(iids=iids, base_path = \"/n/groups/reich/hringbauer/hapsburg_runs/output/Punic/\", suffix=\"_roh_full.csv\")"
   ]
  },
  {
   "cell_type": "markdown",
   "id": "de2b25f5-0203-4721-b2e3-b118dcea1a9a",
   "metadata": {},
   "source": [
    "## 2a) Run for Djebba"
   ]
  },
  {
   "cell_type": "code",
   "execution_count": 50,
   "id": "feff3662-33a9-4efc-91cb-6ceed020bd1b",
   "metadata": {},
   "outputs": [
    {
     "name": "stdout",
     "output_type": "stream",
     "text": [
      "CPU times: user 2.07 s, sys: 3.75 ms, total: 2.07 s\n",
      "Wall time: 2.08 s\n"
     ]
    },
    {
     "data": {
      "text/html": [
       "<div>\n",
       "<style scoped>\n",
       "    .dataframe tbody tr th:only-of-type {\n",
       "        vertical-align: middle;\n",
       "    }\n",
       "\n",
       "    .dataframe tbody tr th {\n",
       "        vertical-align: top;\n",
       "    }\n",
       "\n",
       "    .dataframe thead th {\n",
       "        text-align: right;\n",
       "    }\n",
       "</style>\n",
       "<table border=\"1\" class=\"dataframe\">\n",
       "  <thead>\n",
       "    <tr style=\"text-align: right;\">\n",
       "      <th></th>\n",
       "      <th>coef</th>\n",
       "      <th>std err</th>\n",
       "      <th>0.025</th>\n",
       "      <th>0.975</th>\n",
       "      <th>n</th>\n",
       "    </tr>\n",
       "  </thead>\n",
       "  <tbody>\n",
       "    <tr>\n",
       "      <th>0</th>\n",
       "      <td>636.905662</td>\n",
       "      <td>NaN</td>\n",
       "      <td>337.131112</td>\n",
       "      <td>1400.933278</td>\n",
       "      <td>0.5</td>\n",
       "    </tr>\n",
       "  </tbody>\n",
       "</table>\n",
       "</div>"
      ],
      "text/plain": [
       "         coef  std err       0.025        0.975    n\n",
       "0  636.905662      NaN  337.131112  1400.933278  0.5"
      ]
     },
     "execution_count": 50,
     "metadata": {},
     "output_type": "execute_result"
    }
   ],
   "source": [
    "%%time\n",
    "iids = [\"I20824\"]\n",
    "roh_vec = load_roh_vec(iids=iids, base_path = \"/n/groups/reich/hringbauer/hapsburg_runs/output/Punic/\", suffix=\"_roh_full.csv\")\n",
    "\n",
    "min_len = 4 # Min ROH length in cM to fit\n",
    "max_len = 16 # Max ROH length in cM to fit\n",
    "\n",
    "mle = MLE_ROH_Ne(start_params=1000, endog=roh_vec,\n",
    "                 min_len=4, max_len=16,\n",
    "                 chr_lgts=[],      # lengths of Chromosomes to fit (in cM). If len 0, use default for 1240K\n",
    "                 error_model=False, output=False)\n",
    "fit = mle.fit_ll_profile()\n",
    "#summary = fit.summary()\n",
    "mle.summary/2  # to get estimates in terms of Ne"
   ]
  },
  {
   "cell_type": "markdown",
   "id": "98e0b98a-93a1-4a91-b72d-8c4448d84cf4",
   "metadata": {},
   "source": [
    "### 2b) Run for Doukanet"
   ]
  },
  {
   "cell_type": "code",
   "execution_count": 54,
   "id": "77ec7efb-1f51-46fb-870a-b02caab66386",
   "metadata": {},
   "outputs": [
    {
     "data": {
      "text/html": [
       "<div>\n",
       "<style scoped>\n",
       "    .dataframe tbody tr th:only-of-type {\n",
       "        vertical-align: middle;\n",
       "    }\n",
       "\n",
       "    .dataframe tbody tr th {\n",
       "        vertical-align: top;\n",
       "    }\n",
       "\n",
       "    .dataframe thead th {\n",
       "        text-align: right;\n",
       "    }\n",
       "</style>\n",
       "<table border=\"1\" class=\"dataframe\">\n",
       "  <thead>\n",
       "    <tr style=\"text-align: right;\">\n",
       "      <th></th>\n",
       "      <th>coef</th>\n",
       "      <th>std err</th>\n",
       "      <th>0.025</th>\n",
       "      <th>0.975</th>\n",
       "      <th>n</th>\n",
       "    </tr>\n",
       "  </thead>\n",
       "  <tbody>\n",
       "    <tr>\n",
       "      <th>0</th>\n",
       "      <td>15540.410869</td>\n",
       "      <td>NaN</td>\n",
       "      <td>3538.505331</td>\n",
       "      <td>50000.0</td>\n",
       "      <td>1.5</td>\n",
       "    </tr>\n",
       "  </tbody>\n",
       "</table>\n",
       "</div>"
      ],
      "text/plain": [
       "           coef  std err        0.025    0.975    n\n",
       "0  15540.410869      NaN  3538.505331  50000.0  1.5"
      ]
     },
     "execution_count": 54,
     "metadata": {},
     "output_type": "execute_result"
    }
   ],
   "source": [
    "iids = [\"I22577\", \"I22866\", \"I22867\"]\n",
    "roh_vec = load_roh_vec(iids=iids, base_path = \"/n/groups/reich/hringbauer/hapsburg_runs/output/Punic/\", suffix=\"_roh_full.csv\")\n",
    "\n",
    "min_len = 4 # Min ROH length in cM to fit\n",
    "max_len = 16 # Max ROH length in cM to fit\n",
    "\n",
    "mle = MLE_ROH_Ne(start_params=1000, endog=roh_vec,\n",
    "                 min_len=4, max_len=16,\n",
    "                 chr_lgts=[],      # lengths of Chromosomes to fit (in cM). If len 0, use default for 1240K\n",
    "                 error_model=False, output=False)\n",
    "fit = mle.fit_ll_profile()\n",
    "#summary = fit.summary()\n",
    "mle.summary/2  # to get estimates in terms of Ne"
   ]
  },
  {
   "cell_type": "markdown",
   "id": "1e1092aa-0d8f-4767-b7e4-e342c23174bb",
   "metadata": {},
   "source": [
    "### 2c) Run for Hergla"
   ]
  },
  {
   "cell_type": "code",
   "execution_count": 53,
   "id": "67c85636-8ae5-4f91-8d20-0dbf614b0fbb",
   "metadata": {},
   "outputs": [
    {
     "data": {
      "text/html": [
       "<div>\n",
       "<style scoped>\n",
       "    .dataframe tbody tr th:only-of-type {\n",
       "        vertical-align: middle;\n",
       "    }\n",
       "\n",
       "    .dataframe tbody tr th {\n",
       "        vertical-align: top;\n",
       "    }\n",
       "\n",
       "    .dataframe thead th {\n",
       "        text-align: right;\n",
       "    }\n",
       "</style>\n",
       "<table border=\"1\" class=\"dataframe\">\n",
       "  <thead>\n",
       "    <tr style=\"text-align: right;\">\n",
       "      <th></th>\n",
       "      <th>coef</th>\n",
       "      <th>std err</th>\n",
       "      <th>0.025</th>\n",
       "      <th>0.975</th>\n",
       "      <th>n</th>\n",
       "    </tr>\n",
       "  </thead>\n",
       "  <tbody>\n",
       "    <tr>\n",
       "      <th>0</th>\n",
       "      <td>2574.433725</td>\n",
       "      <td>NaN</td>\n",
       "      <td>828.302979</td>\n",
       "      <td>15540.410869</td>\n",
       "      <td>0.5</td>\n",
       "    </tr>\n",
       "  </tbody>\n",
       "</table>\n",
       "</div>"
      ],
      "text/plain": [
       "          coef  std err       0.025         0.975    n\n",
       "0  2574.433725      NaN  828.302979  15540.410869  0.5"
      ]
     },
     "execution_count": 53,
     "metadata": {},
     "output_type": "execute_result"
    }
   ],
   "source": [
    "iids = [\"I22852\"]\n",
    "roh_vec = load_roh_vec(iids=iids, base_path = \"/n/groups/reich/hringbauer/hapsburg_runs/output/Punic/\", suffix=\"_roh_full.csv\")\n",
    "\n",
    "min_len = 4 # Min ROH length in cM to fit\n",
    "max_len = 16 # Max ROH length in cM to fit\n",
    "\n",
    "mle = MLE_ROH_Ne(start_params=1000, endog=roh_vec,\n",
    "                 min_len=4, max_len=16,\n",
    "                 chr_lgts=[],      # lengths of Chromosomes to fit (in cM). If len 0, use default for 1240K\n",
    "                 error_model=False, output=False)\n",
    "fit = mle.fit_ll_profile()\n",
    "#summary = fit.summary()\n",
    "mle.summary/2  # to get estimates in terms of Ne"
   ]
  },
  {
   "cell_type": "code",
   "execution_count": null,
   "id": "7426b359-cc5c-4355-b982-36801f1d05a0",
   "metadata": {},
   "outputs": [],
   "source": []
  }
 ],
 "metadata": {
  "kernelspec": {
   "display_name": "Python 3 (ipykernel)",
   "language": "python",
   "name": "python3"
  },
  "language_info": {
   "codemirror_mode": {
    "name": "ipython",
    "version": 3
   },
   "file_extension": ".py",
   "mimetype": "text/x-python",
   "name": "python",
   "nbconvert_exporter": "python",
   "pygments_lexer": "ipython3",
   "version": "3.8.12"
  }
 },
 "nbformat": 4,
 "nbformat_minor": 5
}
