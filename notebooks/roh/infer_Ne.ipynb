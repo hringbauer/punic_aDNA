{
 "cells": [
  {
   "cell_type": "markdown",
   "id": "ab9b7af6-8270-4ddc-8e66-6598e62911ed",
   "metadata": {},
   "source": [
    "# Infer Ne from Punic ROH"
   ]
  },
  {
   "cell_type": "code",
   "execution_count": 6,
   "id": "adfe8ec7-4ec8-4081-8554-15b58b2e2249",
   "metadata": {
    "tags": []
   },
   "outputs": [
    {
     "name": "stdout",
     "output_type": "stream",
     "text": [
      "compute-a-16-58.o2.rc.hms.harvard.edu\n",
      "HSM Computational partition detected.\n",
      "/n/groups/reich/hringbauer/git/punic_aDNA\n",
      "CPU Count: 32\n"
     ]
    }
   ],
   "source": [
    "import numpy as np\n",
    "import pandas as pd\n",
    "import matplotlib.pyplot as plt\n",
    "import socket as socket\n",
    "import os as os\n",
    "import sys as sys\n",
    "import multiprocessing as mp\n",
    "\n",
    "socket_name = socket.gethostname()\n",
    "print(socket_name)\n",
    "\n",
    "if socket_name.startswith(\"compute-\"):\n",
    "    print(\"HSM Computational partition detected.\")\n",
    "    path = \"/n/groups/reich/hringbauer/git/punic_aDNA/\"  # The Path on Midway Cluster\n",
    "else:\n",
    "    raise RuntimeWarning(\"No compatible machine. Check!!\")\n",
    "\n",
    "os.chdir(path)  # Set the right Path (in line with Atom default)\n",
    "print(os.getcwd())\n",
    "print(f\"CPU Count: {mp.cpu_count()}\")\n",
    "\n",
    "from hapsburg.figures.plot_bars import plot_panel_row, prepare_dfs_plot\n",
    "from hapsburg.PackagesSupport.fit_ne import MLE_ROH_Ne, load_roh_vec # For Ne MLE Analysis"
   ]
  },
  {
   "cell_type": "markdown",
   "id": "9ed8483a-c0ce-4112-a4e4-eca4dd35893e",
   "metadata": {},
   "source": [
    "# Load Data and browse Indivdiuals"
   ]
  },
  {
   "cell_type": "code",
   "execution_count": 9,
   "id": "8ba9d61d-8cd9-4328-983a-274530162c56",
   "metadata": {
    "tags": []
   },
   "outputs": [
    {
     "name": "stdout",
     "output_type": "stream",
     "text": [
      "Loaded 20398 Individuals with ROH\n",
      "Loaded Cluster Information for 153 Individuals.\n",
      "\n",
      "\n",
      "Loaded 140 Punic Indiviudals\n",
      "With ROH info: n=90\n"
     ]
    },
    {
     "data": {
      "text/plain": [
       "Punic_Early    44\n",
       "Punic_Late     25\n",
       "Punic_NoRC     13\n",
       "Punic_Late2     8\n",
       "Name: label, dtype: int64"
      ]
     },
     "execution_count": 9,
     "metadata": {},
     "output_type": "execute_result"
    }
   ],
   "source": [
    "### Load ROH data\n",
    "df1 = pd.read_csv(\"/n/groups/reich/hringbauer/hapsburg_runs/output/combined_roh05.v56.1.unique.tsv\", sep='\\t')\n",
    "df1 = df1.sort_values(by=\"sum_roh>4\", ascending=False)\n",
    "print(f\"Loaded {len(df1)} Individuals with ROH\")\n",
    "\n",
    "### Load Punic Cluster Assignments\n",
    "df_clst = pd.read_csv(\"./data/cluster_assignments_punic.v54.1h.tsv\", sep=\"\\t\")\n",
    "print(f\"Loaded Cluster Information for {len(df_clst)} Individuals.\\n\")\n",
    "df_pun = df_clst.copy()\n",
    "\n",
    "df_pun = df_pun[df_pun[\"label\"].str.contains(\"Punic\")].copy()\n",
    "print(f\"\\nLoaded {len(df_pun)} Punic Indiviudals\")\n",
    "\n",
    "### With ROH info:\n",
    "df_proh = pd.merge(df_pun, df1, on=\"iid\")\n",
    "print(f\"With ROH info: n={len(df_proh)}\")\n",
    "\n",
    "df_proh[\"label\"].value_counts()"
   ]
  },
  {
   "cell_type": "markdown",
   "id": "3ddff52a-b0ad-4dab-90e1-a867918a8dcd",
   "metadata": {},
   "source": [
    "### Filter to Individuals to fit Ne"
   ]
  },
  {
   "cell_type": "code",
   "execution_count": 11,
   "id": "7d7ebb54-5817-4e94-8ab9-2105f3f2a463",
   "metadata": {
    "tags": []
   },
   "outputs": [
    {
     "name": "stdout",
     "output_type": "stream",
     "text": [
      "Loaded 79/90 IIDs without >50cm ROH20\n"
     ]
    }
   ],
   "source": [
    "dft = df_proh[df_proh[\"sum_roh>20\"]<50] # Remove close-kin consanguineous individuals - 50 cm in total of very long ROH (>20cm) is the cutoff chosen here.\n",
    "iids = dft[\"iid\"].values # Load list of all iids\n",
    "print(f\"Loaded {len(iids)}/{len(df_proh)} IIDs without >50cm ROH20\")"
   ]
  },
  {
   "cell_type": "markdown",
   "id": "5780c5e9-60d1-4824-a3a4-ee1abdce2621",
   "metadata": {},
   "source": [
    "### Load the ROH segments of Target Indivdiuals"
   ]
  },
  {
   "cell_type": "code",
   "execution_count": 17,
   "id": "72ddbf4f-b473-40a4-9ee4-d376fea1ab19",
   "metadata": {
    "tags": []
   },
   "outputs": [
    {
     "name": "stdout",
     "output_type": "stream",
     "text": [
      "Loaded ROH Vector for 79 IIDs\n"
     ]
    }
   ],
   "source": [
    "roh_vec = load_roh_vec(iids=iids, base_path = \"/n/groups/reich/hringbauer/hapsburg_runs/output/v56.1/\", suffix=\"_roh_full.csv\")\n",
    "print(f\"Loaded ROH Vector for {len(roh_vec)} IIDs\")\n",
    "assert(len(roh_vec)==len(iids))"
   ]
  },
  {
   "cell_type": "markdown",
   "id": "c8c381c3-5cd9-4a01-a6d0-1485e2710a0f",
   "metadata": {},
   "source": [
    "### Run Ne estimates [4-8 cm, IN MANUSCRIPT]"
   ]
  },
  {
   "cell_type": "code",
   "execution_count": 18,
   "id": "d5c3c106-034e-484c-a8eb-fcd5f7843ffa",
   "metadata": {
    "tags": []
   },
   "outputs": [
    {
     "name": "stdout",
     "output_type": "stream",
     "text": [
      "CPU times: user 4.21 s, sys: 7.12 ms, total: 4.22 s\n",
      "Wall time: 4.22 s\n"
     ]
    },
    {
     "data": {
      "text/html": [
       "<div>\n",
       "<style scoped>\n",
       "    .dataframe tbody tr th:only-of-type {\n",
       "        vertical-align: middle;\n",
       "    }\n",
       "\n",
       "    .dataframe tbody tr th {\n",
       "        vertical-align: top;\n",
       "    }\n",
       "\n",
       "    .dataframe thead th {\n",
       "        text-align: right;\n",
       "    }\n",
       "</style>\n",
       "<table border=\"1\" class=\"dataframe\">\n",
       "  <thead>\n",
       "    <tr style=\"text-align: right;\">\n",
       "      <th></th>\n",
       "      <th>coef</th>\n",
       "      <th>std err</th>\n",
       "      <th>0.025</th>\n",
       "      <th>0.975</th>\n",
       "      <th>n</th>\n",
       "    </tr>\n",
       "  </thead>\n",
       "  <tbody>\n",
       "    <tr>\n",
       "      <th>0</th>\n",
       "      <td>6413.249153</td>\n",
       "      <td>NaN</td>\n",
       "      <td>4931.329231</td>\n",
       "      <td>8515.325146</td>\n",
       "      <td>39.5</td>\n",
       "    </tr>\n",
       "  </tbody>\n",
       "</table>\n",
       "</div>"
      ],
      "text/plain": [
       "          coef  std err        0.025        0.975     n\n",
       "0  6413.249153      NaN  4931.329231  8515.325146  39.5"
      ]
     },
     "execution_count": 18,
     "metadata": {},
     "output_type": "execute_result"
    }
   ],
   "source": [
    "%%time\n",
    "output = True\n",
    "min_len = 4 # Min ROH length in cM to fit\n",
    "max_len = 8 # Max ROH length in cM to fit\n",
    "\n",
    "mle = MLE_ROH_Ne(start_params=1000, endog=roh_vec,\n",
    "                 min_len=min_len, max_len=max_len,\n",
    "                 chr_lgts=[],      # lengths of Chromosomes to fit (in cM). If len 0, use default for 1240K\n",
    "                 error_model=False, output=False)\n",
    "fit = mle.fit_ll_profile()\n",
    "#summary = fit.summary()\n",
    "mle.summary/2  # to get estimates in terms of Ne"
   ]
  },
  {
   "cell_type": "markdown",
   "id": "36b7c887-7033-458e-bb72-664eda13e7eb",
   "metadata": {},
   "source": [
    "### Run Ne estimates [4-20 cm]"
   ]
  },
  {
   "cell_type": "code",
   "execution_count": 19,
   "id": "4d6d7ed3-136c-4a2d-b8a4-32a95fd99b88",
   "metadata": {
    "tags": []
   },
   "outputs": [
    {
     "name": "stdout",
     "output_type": "stream",
     "text": [
      "CPU times: user 4.46 s, sys: 19.9 ms, total: 4.48 s\n",
      "Wall time: 4.48 s\n"
     ]
    },
    {
     "data": {
      "text/html": [
       "<div>\n",
       "<style scoped>\n",
       "    .dataframe tbody tr th:only-of-type {\n",
       "        vertical-align: middle;\n",
       "    }\n",
       "\n",
       "    .dataframe tbody tr th {\n",
       "        vertical-align: top;\n",
       "    }\n",
       "\n",
       "    .dataframe thead th {\n",
       "        text-align: right;\n",
       "    }\n",
       "</style>\n",
       "<table border=\"1\" class=\"dataframe\">\n",
       "  <thead>\n",
       "    <tr style=\"text-align: right;\">\n",
       "      <th></th>\n",
       "      <th>coef</th>\n",
       "      <th>std err</th>\n",
       "      <th>0.025</th>\n",
       "      <th>0.975</th>\n",
       "      <th>n</th>\n",
       "    </tr>\n",
       "  </thead>\n",
       "  <tbody>\n",
       "    <tr>\n",
       "      <th>0</th>\n",
       "      <td>4698.324157</td>\n",
       "      <td>NaN</td>\n",
       "      <td>3844.64186</td>\n",
       "      <td>5821.515665</td>\n",
       "      <td>39.5</td>\n",
       "    </tr>\n",
       "  </tbody>\n",
       "</table>\n",
       "</div>"
      ],
      "text/plain": [
       "          coef  std err       0.025        0.975     n\n",
       "0  4698.324157      NaN  3844.64186  5821.515665  39.5"
      ]
     },
     "execution_count": 19,
     "metadata": {},
     "output_type": "execute_result"
    }
   ],
   "source": [
    "%%time\n",
    "output = True\n",
    "min_len = 4 # Min ROH length in cM to fit\n",
    "max_len = 20 # Max ROH length in cM to fit\n",
    "\n",
    "mle = MLE_ROH_Ne(start_params=1000, endog=roh_vec,\n",
    "                 min_len=min_len, max_len=max_len,\n",
    "                 chr_lgts=[],      # lengths of Chromosomes to fit (in cM). If len 0, use default for 1240K\n",
    "                 error_model=False, output=False)\n",
    "fit = mle.fit_ll_profile()\n",
    "#summary = fit.summary()\n",
    "mle.summary/2  # to get estimates in terms of Ne"
   ]
  },
  {
   "cell_type": "code",
   "execution_count": null,
   "id": "a2c17fd3-89d4-41f8-8787-1af4b98a8854",
   "metadata": {},
   "outputs": [],
   "source": []
  }
 ],
 "metadata": {
  "kernelspec": {
   "display_name": "Python 3",
   "language": "python",
   "name": "python3"
  },
  "language_info": {
   "codemirror_mode": {
    "name": "ipython",
    "version": 3
   },
   "file_extension": ".py",
   "mimetype": "text/x-python",
   "name": "python",
   "nbconvert_exporter": "python",
   "pygments_lexer": "ipython3",
   "version": "3.7.4"
  }
 },
 "nbformat": 4,
 "nbformat_minor": 5
}
