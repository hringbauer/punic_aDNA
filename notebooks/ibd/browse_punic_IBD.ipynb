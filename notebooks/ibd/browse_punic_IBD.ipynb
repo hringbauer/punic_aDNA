{
 "cells": [
  {
   "cell_type": "code",
   "execution_count": 2,
   "metadata": {},
   "outputs": [
    {
     "name": "stdout",
     "output_type": "stream",
     "text": [
      "compute-a-17-57.o2.rc.hms.harvard.edu\n",
      "HSM Computational partition detected.\n",
      "/n/groups/reich/hringbauer/git/punic_aDNA\n",
      "CPU Count: 32\n"
     ]
    }
   ],
   "source": [
    "import numpy as np\n",
    "import pandas as pd\n",
    "import os\n",
    "import sys as sys\n",
    "import socket\n",
    "import matplotlib.pyplot as plt\n",
    "import multiprocessing as mp\n",
    "import itertools as it\n",
    "#from adjustText import adjust_text\n",
    "\n",
    "import warnings\n",
    "warnings.filterwarnings(\"ignore\") # Great Style\n",
    "socket_name = socket.gethostname()\n",
    "print(socket_name)\n",
    "\n",
    "if socket_name.startswith(\"compute-\"):\n",
    "    print(\"HSM Computational partition detected.\")\n",
    "    path = \"/n/groups/reich/hringbauer/git/punic_aDNA/\"  # The Path on Midway Cluster\n",
    "else:\n",
    "    raise RuntimeWarning(\"No compatible machine. Check!!\")\n",
    "\n",
    "os.chdir(path)  # Set the right Path (in line with Atom default)\n",
    "# Show the current working directory. Should be HAPSBURG/Notebooks/ParallelRuns\n",
    "\n",
    "print(os.getcwd())\n",
    "print(f\"CPU Count: {mp.cpu_count()}\")\n",
    "\n",
    "#sys.path.insert(0,\"/n/groups/reich/hringbauer/git/hapBLOCK/package/\")  # hack to get development package first in path\n",
    "from ancIBD.ibd_stats.funcs import new_columns, find_relatives, give_sub_df, plot_age_diff, rc_date"
   ]
  },
  {
   "cell_type": "markdown",
   "metadata": {},
   "source": [
    "# 1) Browse full IBD dataset (Eurasia)"
   ]
  },
  {
   "cell_type": "code",
   "execution_count": 8,
   "metadata": {},
   "outputs": [],
   "source": [
    "#path_save = f\"/n/groups/reich/hringbauer/git/ibd_euro/output/ibd/ibd220.ind.v56.3.tsv\" # for IBD csv file\n",
    "#path_meta_ibd =  f\"/n/groups/reich/hringbauer/git/ibd_euro/data/iid_lists/iid_ibd_v56.3.tsv\" # for iids\n",
    "\n",
    "path_save = f\"/n/groups/reich/hringbauer/git/ibd_euro/output/ibd/ibd220.ind.v61.0a.tsv\" # for IBD csv file\n",
    "path_meta_ibd =  f\"/n/groups/reich/hringbauer/git/ibd_euro/data/iid_lists/iid_ibd_v61.0.tsv\" # for iids\n",
    "\n",
    "df = pd.read_csv(path_save, sep=\"\\t\")\n",
    "df_meta_ibd =  pd.read_csv(path_meta_ibd, sep=\"\\t\")\n",
    "\n",
    "new_columns(df, df_meta_ibd, col = [\"age\", \"loc\", \"n_cov_snp\", \"frac_gp\", \"clst\"]) #\"clst\"\n",
    "\n",
    "df=df.sort_values(by=\"sum_IBD>20\", ascending=False)\n",
    "df20 = df[df[\"max_IBD\"]>16].copy()"
   ]
  },
  {
   "cell_type": "code",
   "execution_count": null,
   "metadata": {},
   "outputs": [],
   "source": [
    "give_sub_df(df, pop1='', pop2='I24494', col='iid').sort_values(by=\"max_IBD\", ascending=False)[:50]"
   ]
  },
  {
   "cell_type": "markdown",
   "metadata": {},
   "source": [
    "# Cut out IBD within Punic"
   ]
  },
  {
   "cell_type": "code",
   "execution_count": 23,
   "metadata": {},
   "outputs": [
    {
     "name": "stdout",
     "output_type": "stream",
     "text": [
      "Found 82 Punic IIDs in IBD Dataset\n"
     ]
    }
   ],
   "source": [
    "df_p = pd.read_csv(\"/n/groups/reich/hringbauer/git/punic_aDNA/data/cluster_assignments_punic.v54.1j.tsv\", sep=\"\\t\")\n",
    "iids = df_p[\"iid\"].values\n",
    "\n",
    "idx = df_meta_ibd[\"iid\"].isin(iids)\n",
    "print(f\"Found {np.sum(idx)} Punic IIDs in IBD Dataset\")\n",
    "dft = df_meta_ibd[idx]\n",
    "\n",
    "s = \"|\".join(iids)"
   ]
  },
  {
   "cell_type": "code",
   "execution_count": 28,
   "metadata": {},
   "outputs": [
    {
     "name": "stdout",
     "output_type": "stream",
     "text": [
      "Found 95/753387 Punic IBD pairs\n"
     ]
    }
   ],
   "source": [
    "idx = (df[\"iid1\"].isin(iids)) & (df[\"iid2\"].isin(iids))\n",
    "print(f\"Found {np.sum(idx)}/{len(idx)} Punic IBD pairs\")\n",
    "df_s = df[idx].copy()"
   ]
  },
  {
   "cell_type": "code",
   "execution_count": 29,
   "metadata": {},
   "outputs": [
    {
     "data": {
      "text/html": [
       "<div>\n",
       "<style scoped>\n",
       "    .dataframe tbody tr th:only-of-type {\n",
       "        vertical-align: middle;\n",
       "    }\n",
       "\n",
       "    .dataframe tbody tr th {\n",
       "        vertical-align: top;\n",
       "    }\n",
       "\n",
       "    .dataframe thead th {\n",
       "        text-align: right;\n",
       "    }\n",
       "</style>\n",
       "<table border=\"1\" class=\"dataframe\">\n",
       "  <thead>\n",
       "    <tr style=\"text-align: right;\">\n",
       "      <th></th>\n",
       "      <th>iid1</th>\n",
       "      <th>iid2</th>\n",
       "      <th>max_IBD</th>\n",
       "      <th>sum_IBD&gt;8</th>\n",
       "      <th>n_IBD&gt;8</th>\n",
       "      <th>sum_IBD&gt;12</th>\n",
       "      <th>n_IBD&gt;12</th>\n",
       "      <th>sum_IBD&gt;16</th>\n",
       "      <th>n_IBD&gt;16</th>\n",
       "      <th>sum_IBD&gt;20</th>\n",
       "      <th>n_IBD&gt;20</th>\n",
       "      <th>age1</th>\n",
       "      <th>age2</th>\n",
       "      <th>loc1</th>\n",
       "      <th>loc2</th>\n",
       "      <th>n_cov_snp1</th>\n",
       "      <th>n_cov_snp2</th>\n",
       "      <th>clst1</th>\n",
       "      <th>clst2</th>\n",
       "    </tr>\n",
       "  </thead>\n",
       "  <tbody>\n",
       "    <tr>\n",
       "      <th>426</th>\n",
       "      <td>I22122</td>\n",
       "      <td>I22118</td>\n",
       "      <td>213.983188</td>\n",
       "      <td>3310.906489</td>\n",
       "      <td>25.0</td>\n",
       "      <td>3310.906489</td>\n",
       "      <td>25.0</td>\n",
       "      <td>3310.906489</td>\n",
       "      <td>25.0</td>\n",
       "      <td>3276.589797</td>\n",
       "      <td>23.0</td>\n",
       "      <td>2419.0</td>\n",
       "      <td>2589.0</td>\n",
       "      <td>Sardinia, Tharros</td>\n",
       "      <td>Sardinia, Tharros</td>\n",
       "      <td>711166</td>\n",
       "      <td>802359</td>\n",
       "      <td>Italy_Sardinia_Punic_Early</td>\n",
       "      <td>Italy_Sardinia_Punic_Early</td>\n",
       "    </tr>\n",
       "    <tr>\n",
       "      <th>989</th>\n",
       "      <td>I24494</td>\n",
       "      <td>I24193</td>\n",
       "      <td>283.652203</td>\n",
       "      <td>2005.149298</td>\n",
       "      <td>32.0</td>\n",
       "      <td>1985.909503</td>\n",
       "      <td>30.0</td>\n",
       "      <td>1958.025506</td>\n",
       "      <td>28.0</td>\n",
       "      <td>1922.099313</td>\n",
       "      <td>26.0</td>\n",
       "      <td>2464.0</td>\n",
       "      <td>2500.0</td>\n",
       "      <td>Kerkouane</td>\n",
       "      <td>Kerkouane</td>\n",
       "      <td>791516</td>\n",
       "      <td>789887</td>\n",
       "      <td>Tunisia_Punic_mother.or.daughter.I24040</td>\n",
       "      <td>Tunisia_Punic</td>\n",
       "    </tr>\n",
       "    <tr>\n",
       "      <th>1243</th>\n",
       "      <td>I22122</td>\n",
       "      <td>I22117</td>\n",
       "      <td>176.443803</td>\n",
       "      <td>1689.705997</td>\n",
       "      <td>23.0</td>\n",
       "      <td>1689.705997</td>\n",
       "      <td>23.0</td>\n",
       "      <td>1689.705997</td>\n",
       "      <td>23.0</td>\n",
       "      <td>1689.705997</td>\n",
       "      <td>23.0</td>\n",
       "      <td>2419.0</td>\n",
       "      <td>2582.0</td>\n",
       "      <td>Sardinia, Tharros</td>\n",
       "      <td>Sardinia, Tharros</td>\n",
       "      <td>711166</td>\n",
       "      <td>791179</td>\n",
       "      <td>Italy_Sardinia_Punic_Early</td>\n",
       "      <td>Italy_Sardinia_Punic_Early</td>\n",
       "    </tr>\n",
       "    <tr>\n",
       "      <th>2162</th>\n",
       "      <td>I22001</td>\n",
       "      <td>I22000</td>\n",
       "      <td>95.567897</td>\n",
       "      <td>917.425610</td>\n",
       "      <td>22.0</td>\n",
       "      <td>906.871714</td>\n",
       "      <td>21.0</td>\n",
       "      <td>894.147016</td>\n",
       "      <td>20.0</td>\n",
       "      <td>856.561117</td>\n",
       "      <td>18.0</td>\n",
       "      <td>2500.0</td>\n",
       "      <td>2500.0</td>\n",
       "      <td>Sicily, Marsala, Lilybaeum, Necropoli Monumentale</td>\n",
       "      <td>Sicily, Marsala, Lilybaeum, Necropoli Monumentale</td>\n",
       "      <td>743817</td>\n",
       "      <td>803880</td>\n",
       "      <td>Italy_Sicily_Punic_Possible</td>\n",
       "      <td>Italy_Sicily_Punic_Possible</td>\n",
       "    </tr>\n",
       "    <tr>\n",
       "      <th>2611</th>\n",
       "      <td>I24194</td>\n",
       "      <td>I24494</td>\n",
       "      <td>75.874001</td>\n",
       "      <td>714.631484</td>\n",
       "      <td>16.0</td>\n",
       "      <td>696.773581</td>\n",
       "      <td>14.0</td>\n",
       "      <td>696.773581</td>\n",
       "      <td>14.0</td>\n",
       "      <td>679.805879</td>\n",
       "      <td>13.0</td>\n",
       "      <td>2500.0</td>\n",
       "      <td>2464.0</td>\n",
       "      <td>Kerkouane</td>\n",
       "      <td>Kerkouane</td>\n",
       "      <td>791265</td>\n",
       "      <td>791516</td>\n",
       "      <td>Tunisia_Punic</td>\n",
       "      <td>Tunisia_Punic_mother.or.daughter.I24040</td>\n",
       "    </tr>\n",
       "    <tr>\n",
       "      <th>...</th>\n",
       "      <td>...</td>\n",
       "      <td>...</td>\n",
       "      <td>...</td>\n",
       "      <td>...</td>\n",
       "      <td>...</td>\n",
       "      <td>...</td>\n",
       "      <td>...</td>\n",
       "      <td>...</td>\n",
       "      <td>...</td>\n",
       "      <td>...</td>\n",
       "      <td>...</td>\n",
       "      <td>...</td>\n",
       "      <td>...</td>\n",
       "      <td>...</td>\n",
       "      <td>...</td>\n",
       "      <td>...</td>\n",
       "      <td>...</td>\n",
       "      <td>...</td>\n",
       "      <td>...</td>\n",
       "    </tr>\n",
       "    <tr>\n",
       "      <th>262694</th>\n",
       "      <td>I24196</td>\n",
       "      <td>I35339</td>\n",
       "      <td>10.757494</td>\n",
       "      <td>10.757494</td>\n",
       "      <td>1.0</td>\n",
       "      <td>0.000000</td>\n",
       "      <td>0.0</td>\n",
       "      <td>0.000000</td>\n",
       "      <td>0.0</td>\n",
       "      <td>0.000000</td>\n",
       "      <td>0.0</td>\n",
       "      <td>2500.0</td>\n",
       "      <td>2500.0</td>\n",
       "      <td>Kerkouane</td>\n",
       "      <td>Tunis, Carthage</td>\n",
       "      <td>553006</td>\n",
       "      <td>759862</td>\n",
       "      <td>Tunisia_Punic</td>\n",
       "      <td>Tunisia_Punic</td>\n",
       "    </tr>\n",
       "    <tr>\n",
       "      <th>276883</th>\n",
       "      <td>I35339</td>\n",
       "      <td>I4799</td>\n",
       "      <td>10.506599</td>\n",
       "      <td>10.506599</td>\n",
       "      <td>1.0</td>\n",
       "      <td>0.000000</td>\n",
       "      <td>0.0</td>\n",
       "      <td>0.000000</td>\n",
       "      <td>0.0</td>\n",
       "      <td>0.000000</td>\n",
       "      <td>0.0</td>\n",
       "      <td>2500.0</td>\n",
       "      <td>2442.0</td>\n",
       "      <td>Tunis, Carthage</td>\n",
       "      <td>Sicily, Motya</td>\n",
       "      <td>759862</td>\n",
       "      <td>837043</td>\n",
       "      <td>Tunisia_Punic</td>\n",
       "      <td>Italy_Sicily_Punic_Early</td>\n",
       "    </tr>\n",
       "    <tr>\n",
       "      <th>277318</th>\n",
       "      <td>I24032</td>\n",
       "      <td>I22235</td>\n",
       "      <td>10.499001</td>\n",
       "      <td>10.499001</td>\n",
       "      <td>1.0</td>\n",
       "      <td>0.000000</td>\n",
       "      <td>0.0</td>\n",
       "      <td>0.000000</td>\n",
       "      <td>0.0</td>\n",
       "      <td>0.000000</td>\n",
       "      <td>0.0</td>\n",
       "      <td>2500.0</td>\n",
       "      <td>2620.0</td>\n",
       "      <td>Kerkouane</td>\n",
       "      <td>Sicily, Motya</td>\n",
       "      <td>758572</td>\n",
       "      <td>749463</td>\n",
       "      <td>Tunisia_Punic</td>\n",
       "      <td>Italy_Sicily_Punic_Early</td>\n",
       "    </tr>\n",
       "    <tr>\n",
       "      <th>273565</th>\n",
       "      <td>I27613</td>\n",
       "      <td>I28504</td>\n",
       "      <td>10.559803</td>\n",
       "      <td>10.559803</td>\n",
       "      <td>1.0</td>\n",
       "      <td>0.000000</td>\n",
       "      <td>0.0</td>\n",
       "      <td>0.000000</td>\n",
       "      <td>0.0</td>\n",
       "      <td>0.000000</td>\n",
       "      <td>0.0</td>\n",
       "      <td>2225.0</td>\n",
       "      <td>2337.0</td>\n",
       "      <td>Eivissa, Ses Païsses de Cala d'Hort</td>\n",
       "      <td>Carthage</td>\n",
       "      <td>681319</td>\n",
       "      <td>679772</td>\n",
       "      <td>Spain_Punic</td>\n",
       "      <td>Tunisia_Punic</td>\n",
       "    </tr>\n",
       "    <tr>\n",
       "      <th>272219</th>\n",
       "      <td>I24192</td>\n",
       "      <td>I4800</td>\n",
       "      <td>10.582399</td>\n",
       "      <td>10.582399</td>\n",
       "      <td>1.0</td>\n",
       "      <td>0.000000</td>\n",
       "      <td>0.0</td>\n",
       "      <td>0.000000</td>\n",
       "      <td>0.0</td>\n",
       "      <td>0.000000</td>\n",
       "      <td>0.0</td>\n",
       "      <td>2500.0</td>\n",
       "      <td>2554.0</td>\n",
       "      <td>Kerkouane</td>\n",
       "      <td>Sicily, Motya</td>\n",
       "      <td>702886</td>\n",
       "      <td>727906</td>\n",
       "      <td>Tunisia_Punic</td>\n",
       "      <td>Italy_Sicily_Punic_Early</td>\n",
       "    </tr>\n",
       "  </tbody>\n",
       "</table>\n",
       "<p>95 rows × 19 columns</p>\n",
       "</div>"
      ],
      "text/plain": [
       "          iid1    iid2     max_IBD    sum_IBD>8  n_IBD>8   sum_IBD>12  \\\n",
       "426     I22122  I22118  213.983188  3310.906489     25.0  3310.906489   \n",
       "989     I24494  I24193  283.652203  2005.149298     32.0  1985.909503   \n",
       "1243    I22122  I22117  176.443803  1689.705997     23.0  1689.705997   \n",
       "2162    I22001  I22000   95.567897   917.425610     22.0   906.871714   \n",
       "2611    I24194  I24494   75.874001   714.631484     16.0   696.773581   \n",
       "...        ...     ...         ...          ...      ...          ...   \n",
       "262694  I24196  I35339   10.757494    10.757494      1.0     0.000000   \n",
       "276883  I35339   I4799   10.506599    10.506599      1.0     0.000000   \n",
       "277318  I24032  I22235   10.499001    10.499001      1.0     0.000000   \n",
       "273565  I27613  I28504   10.559803    10.559803      1.0     0.000000   \n",
       "272219  I24192   I4800   10.582399    10.582399      1.0     0.000000   \n",
       "\n",
       "        n_IBD>12   sum_IBD>16  n_IBD>16   sum_IBD>20  n_IBD>20    age1  \\\n",
       "426         25.0  3310.906489      25.0  3276.589797      23.0  2419.0   \n",
       "989         30.0  1958.025506      28.0  1922.099313      26.0  2464.0   \n",
       "1243        23.0  1689.705997      23.0  1689.705997      23.0  2419.0   \n",
       "2162        21.0   894.147016      20.0   856.561117      18.0  2500.0   \n",
       "2611        14.0   696.773581      14.0   679.805879      13.0  2500.0   \n",
       "...          ...          ...       ...          ...       ...     ...   \n",
       "262694       0.0     0.000000       0.0     0.000000       0.0  2500.0   \n",
       "276883       0.0     0.000000       0.0     0.000000       0.0  2500.0   \n",
       "277318       0.0     0.000000       0.0     0.000000       0.0  2500.0   \n",
       "273565       0.0     0.000000       0.0     0.000000       0.0  2225.0   \n",
       "272219       0.0     0.000000       0.0     0.000000       0.0  2500.0   \n",
       "\n",
       "          age2                                               loc1  \\\n",
       "426     2589.0                                  Sardinia, Tharros   \n",
       "989     2500.0                                          Kerkouane   \n",
       "1243    2582.0                                  Sardinia, Tharros   \n",
       "2162    2500.0  Sicily, Marsala, Lilybaeum, Necropoli Monumentale   \n",
       "2611    2464.0                                          Kerkouane   \n",
       "...        ...                                                ...   \n",
       "262694  2500.0                                          Kerkouane   \n",
       "276883  2442.0                                    Tunis, Carthage   \n",
       "277318  2620.0                                          Kerkouane   \n",
       "273565  2337.0                Eivissa, Ses Païsses de Cala d'Hort   \n",
       "272219  2554.0                                          Kerkouane   \n",
       "\n",
       "                                                     loc2  n_cov_snp1  \\\n",
       "426                                     Sardinia, Tharros      711166   \n",
       "989                                             Kerkouane      791516   \n",
       "1243                                    Sardinia, Tharros      711166   \n",
       "2162    Sicily, Marsala, Lilybaeum, Necropoli Monumentale      743817   \n",
       "2611                                            Kerkouane      791265   \n",
       "...                                                   ...         ...   \n",
       "262694                                    Tunis, Carthage      553006   \n",
       "276883                                      Sicily, Motya      759862   \n",
       "277318                                      Sicily, Motya      758572   \n",
       "273565                                           Carthage      681319   \n",
       "272219                                      Sicily, Motya      702886   \n",
       "\n",
       "        n_cov_snp2                                    clst1  \\\n",
       "426         802359               Italy_Sardinia_Punic_Early   \n",
       "989         789887  Tunisia_Punic_mother.or.daughter.I24040   \n",
       "1243        791179               Italy_Sardinia_Punic_Early   \n",
       "2162        803880              Italy_Sicily_Punic_Possible   \n",
       "2611        791516                            Tunisia_Punic   \n",
       "...            ...                                      ...   \n",
       "262694      759862                            Tunisia_Punic   \n",
       "276883      837043                            Tunisia_Punic   \n",
       "277318      749463                            Tunisia_Punic   \n",
       "273565      679772                              Spain_Punic   \n",
       "272219      727906                            Tunisia_Punic   \n",
       "\n",
       "                                          clst2  \n",
       "426                  Italy_Sardinia_Punic_Early  \n",
       "989                               Tunisia_Punic  \n",
       "1243                 Italy_Sardinia_Punic_Early  \n",
       "2162                Italy_Sicily_Punic_Possible  \n",
       "2611    Tunisia_Punic_mother.or.daughter.I24040  \n",
       "...                                         ...  \n",
       "262694                            Tunisia_Punic  \n",
       "276883                 Italy_Sicily_Punic_Early  \n",
       "277318                 Italy_Sicily_Punic_Early  \n",
       "273565                            Tunisia_Punic  \n",
       "272219                 Italy_Sicily_Punic_Early  \n",
       "\n",
       "[95 rows x 19 columns]"
      ]
     },
     "execution_count": 29,
     "metadata": {},
     "output_type": "execute_result"
    }
   ],
   "source": [
    "df_s"
   ]
  },
  {
   "cell_type": "markdown",
   "metadata": {},
   "source": [
    "### Save IBD within Punic data [for Supp. Table!]"
   ]
  },
  {
   "cell_type": "code",
   "execution_count": 27,
   "metadata": {},
   "outputs": [],
   "source": [
    "dft.to_csv(\"/n/groups/reich/hringbauer/git/punic_aDNA/output/tables/ibd/iids_ibd_punic.v56.3.tsv\", sep=\"\\t\", index=False)\n",
    "df_s.to_csv(\"/n/groups/reich/hringbauer/git/punic_aDNA/output/tables/ibd/ibd_punic.v56.3.tsv\", sep=\"\\t\", index=False)"
   ]
  },
  {
   "cell_type": "markdown",
   "metadata": {},
   "source": [
    "# 2) Browse specfically run Punic IBD Dataset\n",
    "Contains more low coverage Indidivuals. Only run within Punic data!"
   ]
  },
  {
   "cell_type": "code",
   "execution_count": null,
   "metadata": {
    "tags": []
   },
   "outputs": [],
   "source": [
    "df = pd.read_csv(\"/n/groups/reich/hringbauer/git/punic_aDNA/output/ibd/v54.1.ibd_ind.d220.tsv\", sep=\"\\t\")\n",
    "path_save = \"/n/groups/reich/hringbauer/Data/v54.1.anno.csv\"# for IBD csv file\n",
    "df_meta = pd.read_csv(path_save, sep=\",\")\n",
    "\n",
    "new_columns(df, df_meta, col = [\"age\", \"loc\", \"n_cov_snp\"]) #\"clst\""
   ]
  },
  {
   "cell_type": "code",
   "execution_count": 5,
   "metadata": {
    "tags": []
   },
   "outputs": [],
   "source": [
    "iids = [\"18199\", \"I18201\", \"I18203\"]\n"
   ]
  },
  {
   "cell_type": "code",
   "execution_count": null,
   "metadata": {
    "tags": []
   },
   "outputs": [],
   "source": [
    "df[df[\"iid1\"].isin(iids) | df[\"iid2\"].isin(iids)]"
   ]
  },
  {
   "cell_type": "markdown",
   "metadata": {},
   "source": [
    "# Area 51"
   ]
  },
  {
   "cell_type": "markdown",
   "metadata": {},
   "source": [
    "### Check Intersection v61.0 IBD run & Punic data"
   ]
  },
  {
   "cell_type": "code",
   "execution_count": 7,
   "metadata": {},
   "outputs": [],
   "source": [
    "df_p = pd.read_csv(\"/n/groups/reich/hringbauer/git/punic_aDNA/data/cluster_assignments_punic.v54.1j.tsv\", sep=\"\\t\")\n",
    "df_iid = pd.read_csv(\"/n/groups/reich/hringbauer/git/ibd_euro/data/iid_lists/iid_ibd_v61.0.tsv\", sep=\"\\t\") # for iids"
   ]
  },
  {
   "cell_type": "code",
   "execution_count": 8,
   "metadata": {},
   "outputs": [
    {
     "data": {
      "text/plain": [
       "16287"
      ]
     },
     "execution_count": 8,
     "metadata": {},
     "output_type": "execute_result"
    }
   ],
   "source": [
    "len(df_iid)"
   ]
  },
  {
   "cell_type": "code",
   "execution_count": 10,
   "metadata": {},
   "outputs": [
    {
     "name": "stdout",
     "output_type": "stream",
     "text": [
      "Found 82 of 160 Punic IIDs in IBD v61.0 run iids\n"
     ]
    }
   ],
   "source": [
    "dft = pd.merge(df_p, df_iid, left_on=\"iid\", right_on=\"Master ID\")\n",
    "print(f\"Found {len(dft)} of {len(df_p)} Punic IIDs in IBD v61.0 run iids\")"
   ]
  },
  {
   "cell_type": "code",
   "execution_count": 11,
   "metadata": {},
   "outputs": [
    {
     "data": {
      "text/plain": [
       "location\n",
       "Lilybaeum     14\n",
       "Kerkouene     13\n",
       "Birgi         12\n",
       "Tharros       11\n",
       "Motya          6\n",
       "Carthage       6\n",
       "Eivissa        5\n",
       "Malaga         4\n",
       "Selinunte      4\n",
       "Villaricos     3\n",
       "Palermo        2\n",
       "Cadiz          1\n",
       "Akhziv         1\n",
       "Name: count, dtype: int64"
      ]
     },
     "execution_count": 11,
     "metadata": {},
     "output_type": "execute_result"
    }
   ],
   "source": [
    "dft[\"location\"].value_counts()"
   ]
  },
  {
   "cell_type": "code",
   "execution_count": null,
   "metadata": {},
   "outputs": [],
   "source": []
  }
 ],
 "metadata": {
  "kernelspec": {
   "display_name": "Python 3 (ipykernel)",
   "language": "python",
   "name": "python3"
  },
  "language_info": {
   "codemirror_mode": {
    "name": "ipython",
    "version": 3
   },
   "file_extension": ".py",
   "mimetype": "text/x-python",
   "name": "python",
   "nbconvert_exporter": "python",
   "pygments_lexer": "ipython3",
   "version": "3.8.12"
  }
 },
 "nbformat": 4,
 "nbformat_minor": 4
}
