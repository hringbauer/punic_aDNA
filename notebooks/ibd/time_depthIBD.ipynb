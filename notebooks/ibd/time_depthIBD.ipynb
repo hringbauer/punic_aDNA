{
 "cells": [
  {
   "cell_type": "markdown",
   "id": "8d35f1e1-5418-4c31-9935-800924c0afd2",
   "metadata": {},
   "source": [
    "# Calculate the time depth of IBD \n",
    "Assuming constant Ne"
   ]
  },
  {
   "cell_type": "code",
   "execution_count": 2,
   "id": "4b4755ba-ef65-4cab-bf60-5404d486a000",
   "metadata": {},
   "outputs": [
    {
     "name": "stdout",
     "output_type": "stream",
     "text": [
      "compute-a-16-132.o2.rc.hms.harvard.edu\n",
      "HSM Computational partition detected.\n",
      "/n/groups/reich/hringbauer/git/HAPSBURG\n",
      "CPU Count: 32\n"
     ]
    }
   ],
   "source": [
    "import pandas as pd\n",
    "import numpy as np\n",
    "import matplotlib.pyplot as plt\n",
    "import matplotlib.cm as cm\n",
    "from matplotlib import gridspec\n",
    "import socket\n",
    "import os as os\n",
    "import sys as sys\n",
    "import multiprocessing as mp\n",
    "import matplotlib.colors as cls\n",
    "import h5py   # For Processing HDF5s\n",
    "\n",
    "### For Arial Font\n",
    "from matplotlib import rcParams\n",
    "rcParams['font.family'] = 'sans-serif'   # Set the defaul\n",
    "rcParams['font.sans-serif'] = ['Arial']  # Make sure to have the font installed (it is on cluster for Harald)\n",
    "rcParams['axes.linewidth'] = 0.2  # Set the Default Size of the Boundary for small 2.25in width figures\n",
    "\n",
    "socket_name = socket.gethostname()\n",
    "print(socket_name)\n",
    "if socket_name == \"VioletQueen\":\n",
    "    path = \"/home/harald/git/HAPSBURG/\"   # The Path on Harald's machine\n",
    "elif socket_name.startswith(\"midway2\"):\n",
    "    print(\"Midway jnovmbre partition detected.\")\n",
    "    path = \"/project2/jnovembre/hringbauer/HAPSBURG/\"  # The Path on Midway Cluster\n",
    "elif socket_name.startswith(\"compute-\"):\n",
    "    print(\"HSM Computational partition detected.\")\n",
    "    path = \"/n/groups/reich/hringbauer/git/HAPSBURG/\"  # The Path on Midway Cluster\n",
    "else: \n",
    "    raise RuntimeWarning(\"Not compatible machine. Check!!\")\n",
    "    \n",
    "os.chdir(path)  # Set the right Path (in line with Atom default)\n",
    "\n",
    "sys.path.append(\"./package/\")\n",
    "from hapsburg.PackagesSupport.roh_expectations import Expected_Roh\n",
    "\n",
    "print(os.getcwd()) # Show the current working directory. Should be HAPSBURG/Notebooks/ParallelRuns\n",
    "print(f\"CPU Count: {mp.cpu_count()}\")"
   ]
  },
  {
   "cell_type": "code",
   "execution_count": 43,
   "id": "4cdde77a-eef4-46fc-b3d4-402d0e2fedf6",
   "metadata": {},
   "outputs": [],
   "source": [
    "def get_time_bands(fracs=[], N=2000, t_vec = np.linspace(1,200,200),\n",
    "                   bl_lengths=np.linspace(0.04, 0.2, 20)):\n",
    "    \"\"\"Get Time Bands for when block sharing originates from.\n",
    "    Return array of time depths [#blocks, #fracs]\"\"\"\n",
    "    e_roh = Expected_Roh()  # The object to calculate the expected IBD sharing\n",
    "    y = np.array([e_roh.roh_pdf_allchr_t_N(bl, t=t_vec, N=N) for bl in bl_lengths])\n",
    "    yc = np.cumsum(y, axis=1)\n",
    "    m = yc[:,-1]\n",
    "    i_m = np.argmax(y, axis=1)\n",
    "    tm = t_vec[i_m]\n",
    "\n",
    "    t_bands= np.zeros((len(bl_lengths), len(fracs)))\n",
    "    for i in range(len(bl_lengths)):\n",
    "        idx_ts = np.searchsorted(yc[i,:], fracs * m[i])\n",
    "        t_bands[i,:]= t_vec[idx_ts]\n",
    "    return t_bands\n",
    "\n",
    "def plot_timebands(bl_lengths, t_bands, figsize=(5,3), gen_time=28,\n",
    "                   ylim=[0,60], xlim=[4,18],\n",
    "                   cs = [\"black\", \"darkgray\", \"gainsboro\"], fs_big=16, fs_l=12,\n",
    "                   legend=False, frameon=False, xlabel=\"Block Length [cm]\",\n",
    "                   dpi=600, yscale=\"\", savepath=\"\"):\n",
    "    \"\"\"Plot Time Bands.\n",
    "    Input: Block Lengths and Time Bands when ROH originates from\"\"\"\n",
    "    \n",
    "    plt.figure(figsize=figsize)\n",
    "    ax = plt.gca()\n",
    "    bl_cm = bl_lengths*100\n",
    "    #ax.plot(bl_lengths*100, tm, c=\"green\", lw=2, label=\"Highest Density\")\n",
    "    ax.plot(bl_cm, t_bands[:,2], c=cs[0], lw=2, label=\"50%\",zorder=3)\n",
    "    ax.fill_between(bl_cm, t_bands[:,1], t_bands[:,3], color=cs[1], zorder=2, label=\"25-75%\")\n",
    "    ax.fill_between(bl_cm, t_bands[:,0], t_bands[:,4], color=cs[2], zorder=1, label=\"10-90%\")\n",
    "    ax.set_ylabel(\"Generations Ago\", fontsize=fs_big)\n",
    "    ax.set_xlabel(xlabel, fontsize=fs_big)\n",
    "    if legend:\n",
    "        ax.legend(title=\"Time Shared Haplotypes\", loc=\"upper right\", \n",
    "                  fontsize=fs_l, frameon=frameon)\n",
    "    ax.set_ylim(ylim)\n",
    "    if len(yscale)>0:\n",
    "        ax.set_yscale(yscale)\n",
    "    \n",
    "    ax.set_xlim(xlim)\n",
    "    \n",
    "    ### Make a second axis\n",
    "    if gen_time>0:\n",
    "        ax2 = ax.twinx()\n",
    "        ax2.set_ylabel(\"Years Ago [BP]\", labelpad=fs_big, fontsize=fs_big, rotation=270)\n",
    "        lbls = (ax.yaxis.get_ticklocs() * gen_time).astype(\"int\")\n",
    "        ax2.set_yticklabels(lbls)\n",
    "        \n",
    "    ### Save the data\n",
    "    if len(savepath)>0:\n",
    "        plt.savefig(savepath, bbox_inches = 'tight', pad_inches = 0, dpi=dpi)\n",
    "        print(f\"Saved to {savepath}\")\n",
    "    plt.show()"
   ]
  },
  {
   "cell_type": "code",
   "execution_count": 45,
   "id": "d1de3b1d-f2f7-49bb-b44c-2186595f3072",
   "metadata": {},
   "outputs": [],
   "source": [
    "bl_lengths=np.linspace(0.04, 0.3, 100)"
   ]
  },
  {
   "cell_type": "code",
   "execution_count": 46,
   "id": "34b54ea8-0544-45ad-b968-eaa9e233d32a",
   "metadata": {},
   "outputs": [],
   "source": [
    "t_bands = get_time_bands(bl_lengths=bl_lengths,\n",
    "                         t_vec = np.linspace(1,200,1000), N=2000,\n",
    "                         fracs = np.array([0.1, 0.25,0.5,0.75, 0.9]))"
   ]
  },
  {
   "cell_type": "code",
   "execution_count": 49,
   "id": "95fad199-d390-4e28-8d6a-f5d4a032697c",
   "metadata": {},
   "outputs": [
    {
     "name": "stderr",
     "output_type": "stream",
     "text": [
      "/tmp/ipykernel_958/4138683956.py:49: UserWarning: FixedFormatter should only be used together with FixedLocator\n",
      "  ax2.set_yticklabels(lbls)\n"
     ]
    },
    {
     "data": {
      "image/png": "[encoded data removed]",
      "text/plain": [
       "<Figure size 600x200 with 2 Axes>"
      ]
     },
     "metadata": {},
     "output_type": "display_data"
    }
   ],
   "source": [
    "plot_timebands(bl_lengths, t_bands, gen_time=28,\n",
    "               ylim=[1,50], xlim=[4,30], \n",
    "               xlabel=\"\", fs_big=12, fs_l=9,\n",
    "               legend=True, figsize=(6,2), yscale=\"\",\n",
    "               savepath=\"\")"
   ]
  },
  {
   "cell_type": "markdown",
   "id": "a4bf2373-c53d-4de6-9efb-a89359a2f67e",
   "metadata": {},
   "source": [
    "# 2) Calculate IBD sharing timing band for 16 cm [Number given in Paper]"
   ]
  },
  {
   "cell_type": "code",
   "execution_count": 39,
   "id": "35da3497-bf6e-4337-b80f-74b30e302bcd",
   "metadata": {},
   "outputs": [
    {
     "data": {
      "text/plain": [
       "array([[ 1.7967968 ,  7.97197197, 19.12712713, 21.91591592, 25.5015015 ],\n",
       "       [ 1.5975976 ,  6.37837838, 15.34234234, 17.53353353, 20.52152152]])"
      ]
     },
     "execution_count": 39,
     "metadata": {},
     "output_type": "execute_result"
    }
   ],
   "source": [
    "get_time_bands(fracs=np.array([0.025,0.5,0.95,0.975, 0.99]), \n",
    "               N=200, t_vec = np.linspace(1,200,1000),\n",
    "               bl_lengths=np.array([0.16,0.2]))"
   ]
  },
  {
   "cell_type": "code",
   "execution_count": 50,
   "id": "ea8ae504-de7d-4dca-af35-91b060d9ae2d",
   "metadata": {},
   "outputs": [
    {
     "data": {
      "text/plain": [
       "array([[ 1.7967968 ,  7.97197197, 19.32632633, 22.31431431, 25.8998999 ],\n",
       "       [ 1.5975976 ,  6.37837838, 15.34234234, 17.73273273, 20.72072072],\n",
       "       [ 1.1991992 ,  5.18318318, 12.35435435, 14.14714715, 16.53753754],\n",
       "       [ 1.1991992 ,  4.18718719, 10.16316316, 11.75675676, 13.74874875]])"
      ]
     },
     "execution_count": 50,
     "metadata": {},
     "output_type": "execute_result"
    }
   ],
   "source": [
    "get_time_bands(fracs=np.array([0.025,0.5,0.95,0.975, 0.99]), \n",
    "               N=2000, t_vec = np.linspace(1,200,1000),\n",
    "               bl_lengths=np.array([0.16,0.2, 0.25, 0.3]))"
   ]
  },
  {
   "cell_type": "code",
   "execution_count": 41,
   "id": "b4aa370b-bd44-4331-9108-7df70cf83422",
   "metadata": {},
   "outputs": [
    {
     "data": {
      "text/plain": [
       "array([[ 1.7967968 ,  8.17117117, 19.32632633, 22.31431431, 25.8998999 ],\n",
       "       [ 1.5975976 ,  6.37837838, 15.54154154, 17.73273273, 20.72072072]])"
      ]
     },
     "execution_count": 41,
     "metadata": {},
     "output_type": "execute_result"
    }
   ],
   "source": [
    "get_time_bands(fracs=np.array([0.025,0.5,0.95,0.975, 0.99]), \n",
    "               N=20000, t_vec = np.linspace(1,200,1000),\n",
    "               bl_lengths=np.array([0.16,0.2]))"
   ]
  },
  {
   "cell_type": "code",
   "execution_count": null,
   "id": "dc7bb3db-4e1f-4b67-b032-ba3a5bf580f9",
   "metadata": {},
   "outputs": [],
   "source": []
  }
 ],
 "metadata": {
  "kernelspec": {
   "display_name": "Python 3 (ipykernel)",
   "language": "python",
   "name": "python3"
  },
  "language_info": {
   "codemirror_mode": {
    "name": "ipython",
    "version": 3
   },
   "file_extension": ".py",
   "mimetype": "text/x-python",
   "name": "python",
   "nbconvert_exporter": "python",
   "pygments_lexer": "ipython3",
   "version": "3.8.12"
  }
 },
 "nbformat": 4,
 "nbformat_minor": 5
}
