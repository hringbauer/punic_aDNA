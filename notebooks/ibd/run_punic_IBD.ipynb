{
 "cells": [
  {
   "cell_type": "markdown",
   "metadata": {},
   "source": [
    "# Run IBD on Punic Sample (including non-located indivdiuals)"
   ]
  },
  {
   "cell_type": "code",
   "execution_count": 1,
   "metadata": {},
   "outputs": [
    {
     "name": "stdout",
     "output_type": "stream",
     "text": [
      "compute-e-16-229.o2.rc.hms.harvard.edu\n",
      "HSM Computational partition detected.\n",
      "/n/groups/reich/hringbauer/git/punic_aDNA\n",
      "CPU Count: 28\n"
     ]
    }
   ],
   "source": [
    "import numpy as np\n",
    "import pandas as pd\n",
    "import os\n",
    "import sys as sys\n",
    "import socket\n",
    "import matplotlib.pyplot as plt\n",
    "import multiprocessing as mp\n",
    "import itertools as it\n",
    "#from adjustText import adjust_text\n",
    "\n",
    "import warnings\n",
    "warnings.filterwarnings(\"ignore\") # Great Style\n",
    "socket_name = socket.gethostname()\n",
    "print(socket_name)\n",
    "\n",
    "if socket_name.startswith(\"compute-\"):\n",
    "    print(\"HSM Computational partition detected.\")\n",
    "    path = \"/n/groups/reich/hringbauer/git/punic_aDNA/\"  # The Path on Midway Cluster\n",
    "else:\n",
    "    raise RuntimeWarning(\"No compatible machine. Check!!\")\n",
    "\n",
    "os.chdir(path)  # Set the right Path (in line with Atom default)\n",
    "# Show the current working directory. Should be HAPSBURG/Notebooks/ParallelRuns\n",
    "\n",
    "print(os.getcwd())\n",
    "print(f\"CPU Count: {mp.cpu_count()}\")\n",
    "\n",
    "sys.path.insert(0,\"/n/groups/reich/hringbauer/git/hapBLOCK/package/\")  # hack to get development package first in path\n",
    "from ancIBD.run import hapBLOCK_chroms\n",
    "from ancIBD.IO.batch_run import get_run_params_from_i, save_ibd_df\n",
    "from ancIBD.IO.ind_ibd import create_ind_ibd_df, ind_all_ibd_df"
   ]
  },
  {
   "cell_type": "markdown",
   "metadata": {},
   "source": [
    "## 1) Get the indivdiuals to run "
   ]
  },
  {
   "cell_type": "code",
   "execution_count": 5,
   "metadata": {},
   "outputs": [
    {
     "name": "stdout",
     "output_type": "stream",
     "text": [
      "Loaded 33967 Indiviuals for meta data\n",
      "\n",
      "Loaded 144 Punic Indiviudals\n",
      "Merged in meta to 144 Punic Indivdiuals\n",
      "91 Individuals with >500000 1240k SNPs covered\n"
     ]
    }
   ],
   "source": [
    "min_snp = 500000\n",
    "\n",
    "df_meta = pd.read_csv(\"/n/groups/reich/hringbauer/Data/v54.1.anno.csv\")\n",
    "print(f\"Loaded {len(df_meta)} Indiviuals for meta data\")\n",
    "\n",
    "### Load Punic indivdiuals from Assignement\n",
    "df_pun = pd.read_csv(\"./data/cluster_assignments_punic.v54.1d.tsv\", sep=\"\\t\")\n",
    "df_pun = df_pun[df_pun[\"label\"].str.contains(\"Punic\")].copy()\n",
    "print(f\"\\nLoaded {len(df_pun)} Punic Indiviudals\")\n",
    "\n",
    "### Merge Meta Data and Punic Indivdiuals\n",
    "df_p = pd.merge(df_pun, df_meta, on=\"iid\")\n",
    "print(f\"Merged in meta to {len(df_p)} Punic Indivdiuals\")\n",
    "\n",
    "df_ibd_iid = df_p[df_p[\"n_cov_snp\"]>min_snp].reset_index(drop=True)\n",
    "iids = df_ibd_iid[\"iid\"].values\n",
    "print(f\"{len(df_ibd_iid)} Individuals with >{min_snp} 1240k SNPs covered\")"
   ]
  },
  {
   "cell_type": "code",
   "execution_count": 6,
   "metadata": {},
   "outputs": [
    {
     "data": {
      "text/plain": [
       "Kerkouene     23\n",
       "Tharros        9\n",
       "Birgi          9\n",
       "Cap Bon        8\n",
       "Carthage       8\n",
       "Lilybaeum      6\n",
       "Motya          6\n",
       "Eivissa        5\n",
       "Villaricos     4\n",
       "Malaga         4\n",
       "Selinunte      4\n",
       "Akhziv         3\n",
       "Cadiz          1\n",
       "Palermo        1\n",
       "Name: location, dtype: int64"
      ]
     },
     "execution_count": 6,
     "metadata": {},
     "output_type": "execute_result"
    }
   ],
   "source": [
    "df_ibd_iid[\"location\"].value_counts()"
   ]
  },
  {
   "cell_type": "markdown",
   "metadata": {},
   "source": [
    "## 2) Run the ancIBD IBD Inference"
   ]
  },
  {
   "cell_type": "markdown",
   "metadata": {},
   "source": [
    "### Test Chromosome 20 for full sample"
   ]
  },
  {
   "cell_type": "code",
   "execution_count": 7,
   "metadata": {},
   "outputs": [
    {
     "name": "stdout",
     "output_type": "stream",
     "text": [
      "Saved 43 IBD blocks.\n",
      "CPU times: user 48.1 s, sys: 1.26 s, total: 49.3 s\n",
      "Wall time: 51.7 s\n"
     ]
    }
   ],
   "source": [
    "%%time\n",
    "version = \"v54.1\"\n",
    "folder_in =  f\"/n/groups/reich/hringbauer/git/hapBLOCK/data/hdf5/1240k_{version}/ch\" # for hdf5\n",
    "ch = 20\n",
    "path_ibd = f'/n/groups/reich/hringbauer/git/punic_aDNA/output/ibd/{version}.ch{ch}.tsv'\n",
    "path_ibd\n",
    "\n",
    "df_ibd = hapBLOCK_chroms(folder_in=folder_in,\n",
    "                         iids=iids[:], run_iids=[],\n",
    "                         ch=ch, folder_out=\"\",\n",
    "                         output=False, prefix_out='', logfile=False,\n",
    "                         l_model='h5', e_model='haploid_gl2', h_model='FiveStateScaled', \n",
    "                         t_model='standard', p_col=\"variants/AF_ALL\",\n",
    "                         ibd_in=1, ibd_out=10, ibd_jump=400,\n",
    "                         min_cm=6, cutoff_post=0.99, max_gap=0.0075,\n",
    "                         processes=1)\n",
    "\n",
    "save_ibd_df(df_ibd, savepath=path_ibd, create=False)"
   ]
  },
  {
   "cell_type": "markdown",
   "metadata": {},
   "source": [
    "### 2a) Run all Chromosomes"
   ]
  },
  {
   "cell_type": "code",
   "execution_count": 8,
   "metadata": {},
   "outputs": [
    {
     "name": "stdout",
     "output_type": "stream",
     "text": [
      "Running ch: 1\n",
      "Saved 724 IBD blocks.\n",
      "Running ch: 2\n",
      "Saved 133 IBD blocks.\n",
      "Running ch: 3\n",
      "Saved 72 IBD blocks.\n",
      "Running ch: 4\n",
      "Saved 72 IBD blocks.\n",
      "Running ch: 5\n",
      "Saved 58 IBD blocks.\n",
      "Running ch: 6\n",
      "Saved 48 IBD blocks.\n",
      "Running ch: 7\n",
      "Saved 77 IBD blocks.\n",
      "Running ch: 8\n",
      "Saved 92 IBD blocks.\n",
      "Running ch: 9\n",
      "Saved 62 IBD blocks.\n",
      "Running ch: 10\n",
      "Saved 108 IBD blocks.\n",
      "Running ch: 11\n",
      "Saved 42 IBD blocks.\n",
      "Running ch: 12\n",
      "Saved 53 IBD blocks.\n",
      "Running ch: 13\n",
      "Saved 44 IBD blocks.\n",
      "Running ch: 14\n",
      "Saved 104 IBD blocks.\n",
      "Running ch: 15\n",
      "Saved 495 IBD blocks.\n",
      "Running ch: 16\n",
      "Saved 42 IBD blocks.\n",
      "Running ch: 17\n",
      "Saved 73 IBD blocks.\n",
      "Running ch: 18\n",
      "Saved 60 IBD blocks.\n",
      "Running ch: 19\n",
      "Saved 58 IBD blocks.\n",
      "Running ch: 20\n",
      "Saved 43 IBD blocks.\n",
      "Running ch: 21\n",
      "Saved 146 IBD blocks.\n",
      "Running ch: 22\n",
      "Saved 41 IBD blocks.\n"
     ]
    }
   ],
   "source": [
    "for ch in range(1,23):\n",
    "    print(f\"Running ch: {ch}\")\n",
    "    version = \"v54.1\"\n",
    "    folder_in =  f\"/n/groups/reich/hringbauer/git/hapBLOCK/data/hdf5/1240k_{version}/ch\" # for hdf5\n",
    "    path_ibd = f'/n/groups/reich/hringbauer/git/punic_aDNA/output/ibd/{version}.ch{ch}.tsv'\n",
    "\n",
    "    df_ibd = hapBLOCK_chroms(folder_in=folder_in,\n",
    "                             iids=iids[:], run_iids=[],\n",
    "                             ch=ch, folder_out=\"\",\n",
    "                             output=False, prefix_out='', logfile=False,\n",
    "                             l_model='h5', e_model='haploid_gl2', h_model='FiveStateScaled', \n",
    "                             t_model='standard', p_col=\"variants/AF_ALL\",\n",
    "                             ibd_in=1, ibd_out=10, ibd_jump=400,\n",
    "                             min_cm=6, cutoff_post=0.99, max_gap=0.0075,\n",
    "                             processes=1)\n",
    "\n",
    "    save_ibd_df(df_ibd, savepath=path_ibd, create=False)"
   ]
  },
  {
   "cell_type": "markdown",
   "metadata": {},
   "source": [
    "# 2b) Post-process IBD Run"
   ]
  },
  {
   "cell_type": "code",
   "execution_count": 9,
   "metadata": {},
   "outputs": [],
   "source": [
    "from ancIBD.IO.ind_ibd import create_ind_ibd_df, combine_all_chroms"
   ]
  },
  {
   "cell_type": "code",
   "execution_count": 10,
   "metadata": {},
   "outputs": [
    {
     "name": "stdout",
     "output_type": "stream",
     "text": [
      "Chromosome 1; Loaded 724 IBD\n",
      "Chromosome 2; Loaded 133 IBD\n",
      "Chromosome 3; Loaded 72 IBD\n",
      "Chromosome 4; Loaded 72 IBD\n",
      "Chromosome 5; Loaded 58 IBD\n",
      "Chromosome 6; Loaded 48 IBD\n",
      "Chromosome 7; Loaded 77 IBD\n",
      "Chromosome 8; Loaded 92 IBD\n",
      "Chromosome 9; Loaded 62 IBD\n",
      "Chromosome 10; Loaded 108 IBD\n",
      "Chromosome 11; Loaded 42 IBD\n",
      "Chromosome 12; Loaded 53 IBD\n",
      "Chromosome 13; Loaded 44 IBD\n",
      "Chromosome 14; Loaded 104 IBD\n",
      "Chromosome 15; Loaded 495 IBD\n",
      "Chromosome 16; Loaded 42 IBD\n",
      "Chromosome 17; Loaded 73 IBD\n",
      "Chromosome 18; Loaded 60 IBD\n",
      "Chromosome 19; Loaded 58 IBD\n",
      "Chromosome 20; Loaded 43 IBD\n",
      "Chromosome 21; Loaded 146 IBD\n",
      "Chromosome 22; Loaded 41 IBD\n",
      "Saved 2647 IBD to /n/groups/reich/hringbauer/git/punic_aDNA/output/ibd/v54.1.ch_all.tsv.\n",
      "CPU times: user 195 ms, sys: 15.6 ms, total: 211 ms\n",
      "Wall time: 239 ms\n"
     ]
    }
   ],
   "source": [
    "%%time\n",
    "combine_all_chroms(folder_base=f\"/n/groups/reich/hringbauer/git/punic_aDNA/output/ibd/{version}.ch\",\n",
    "                   path_save=f\"/n/groups/reich/hringbauer/git/punic_aDNA/output/ibd/{version}.ch_all.tsv\")"
   ]
  },
  {
   "cell_type": "code",
   "execution_count": 11,
   "metadata": {},
   "outputs": [
    {
     "name": "stdout",
     "output_type": "stream",
     "text": [
      "> 5 cM: 2647/2647\n",
      "Of these with suff. SNPs per cM> 220:               829/2647\n",
      "2     94\n",
      "1     69\n",
      "3     59\n",
      "7     52\n",
      "5     50\n",
      "4     47\n",
      "6     47\n",
      "9     46\n",
      "10    44\n",
      "11    42\n",
      "8     41\n",
      "12    36\n",
      "13    31\n",
      "17    30\n",
      "14    24\n",
      "15    23\n",
      "20    23\n",
      "18    22\n",
      "16    21\n",
      "21    18\n",
      "22     6\n",
      "19     4\n",
      "Name: ch, dtype: int64\n",
      "Saved 363 individual IBD pairs to: /n/groups/reich/hringbauer/git/punic_aDNA/output/ibd/v54.1.ibd_ind.d220.tsv\n",
      "CPU times: user 792 ms, sys: 34.6 ms, total: 827 ms\n",
      "Wall time: 876 ms\n"
     ]
    }
   ],
   "source": [
    "%%time\n",
    "\n",
    "### Takes about 1 min\n",
    "df_res = create_ind_ibd_df(ibd_data = f\"/n/groups/reich/hringbauer/git/punic_aDNA/output/ibd/{version}.ch_all.tsv\",\n",
    "                      min_cms = [8, 12, 16, 20], snp_cm = 220, min_cm = 5, sort_col = 0,\n",
    "                      savepath = f\"/n/groups/reich/hringbauer/git/punic_aDNA/output/ibd/{version}.ibd_ind.d220.tsv\")"
   ]
  },
  {
   "cell_type": "markdown",
   "metadata": {},
   "source": [
    "### 3) Explore Results"
   ]
  },
  {
   "cell_type": "code",
   "execution_count": 12,
   "metadata": {},
   "outputs": [
    {
     "data": {
      "text/html": [
       "<div>\n",
       "<style scoped>\n",
       "    .dataframe tbody tr th:only-of-type {\n",
       "        vertical-align: middle;\n",
       "    }\n",
       "\n",
       "    .dataframe tbody tr th {\n",
       "        vertical-align: top;\n",
       "    }\n",
       "\n",
       "    .dataframe thead th {\n",
       "        text-align: right;\n",
       "    }\n",
       "</style>\n",
       "<table border=\"1\" class=\"dataframe\">\n",
       "  <thead>\n",
       "    <tr style=\"text-align: right;\">\n",
       "      <th></th>\n",
       "      <th>iid1</th>\n",
       "      <th>iid2</th>\n",
       "      <th>max_IBD</th>\n",
       "      <th>sum_IBD&gt;8</th>\n",
       "      <th>n_IBD&gt;8</th>\n",
       "      <th>sum_IBD&gt;12</th>\n",
       "      <th>n_IBD&gt;12</th>\n",
       "      <th>sum_IBD&gt;16</th>\n",
       "      <th>n_IBD&gt;16</th>\n",
       "      <th>sum_IBD&gt;20</th>\n",
       "      <th>n_IBD&gt;20</th>\n",
       "    </tr>\n",
       "  </thead>\n",
       "  <tbody>\n",
       "    <tr>\n",
       "      <th>329</th>\n",
       "      <td>I35351</td>\n",
       "      <td>I35333</td>\n",
       "      <td>282.987110</td>\n",
       "      <td>3332.207697</td>\n",
       "      <td>21.0</td>\n",
       "      <td>3332.207697</td>\n",
       "      <td>21.0</td>\n",
       "      <td>3332.207697</td>\n",
       "      <td>21.0</td>\n",
       "      <td>3332.207697</td>\n",
       "      <td>21.0</td>\n",
       "    </tr>\n",
       "    <tr>\n",
       "      <th>217</th>\n",
       "      <td>I24494</td>\n",
       "      <td>I24040</td>\n",
       "      <td>283.652203</td>\n",
       "      <td>3326.638294</td>\n",
       "      <td>20.0</td>\n",
       "      <td>3326.638294</td>\n",
       "      <td>20.0</td>\n",
       "      <td>3326.638294</td>\n",
       "      <td>20.0</td>\n",
       "      <td>3326.638294</td>\n",
       "      <td>20.0</td>\n",
       "    </tr>\n",
       "    <tr>\n",
       "      <th>86</th>\n",
       "      <td>I22122</td>\n",
       "      <td>I22118</td>\n",
       "      <td>213.983188</td>\n",
       "      <td>3308.844301</td>\n",
       "      <td>25.0</td>\n",
       "      <td>3308.844301</td>\n",
       "      <td>25.0</td>\n",
       "      <td>3308.844301</td>\n",
       "      <td>25.0</td>\n",
       "      <td>3274.698507</td>\n",
       "      <td>23.0</td>\n",
       "    </tr>\n",
       "    <tr>\n",
       "      <th>219</th>\n",
       "      <td>I24494</td>\n",
       "      <td>I24193</td>\n",
       "      <td>283.652203</td>\n",
       "      <td>2048.808393</td>\n",
       "      <td>33.0</td>\n",
       "      <td>2029.570302</td>\n",
       "      <td>31.0</td>\n",
       "      <td>2001.710003</td>\n",
       "      <td>29.0</td>\n",
       "      <td>1966.079616</td>\n",
       "      <td>27.0</td>\n",
       "    </tr>\n",
       "    <tr>\n",
       "      <th>85</th>\n",
       "      <td>I22122</td>\n",
       "      <td>I22117</td>\n",
       "      <td>176.386502</td>\n",
       "      <td>1706.853619</td>\n",
       "      <td>24.0</td>\n",
       "      <td>1706.853619</td>\n",
       "      <td>24.0</td>\n",
       "      <td>1706.853619</td>\n",
       "      <td>24.0</td>\n",
       "      <td>1706.853619</td>\n",
       "      <td>24.0</td>\n",
       "    </tr>\n",
       "    <tr>\n",
       "      <th>...</th>\n",
       "      <td>...</td>\n",
       "      <td>...</td>\n",
       "      <td>...</td>\n",
       "      <td>...</td>\n",
       "      <td>...</td>\n",
       "      <td>...</td>\n",
       "      <td>...</td>\n",
       "      <td>...</td>\n",
       "      <td>...</td>\n",
       "      <td>...</td>\n",
       "      <td>...</td>\n",
       "    </tr>\n",
       "    <tr>\n",
       "      <th>132</th>\n",
       "      <td>I22252</td>\n",
       "      <td>I28504</td>\n",
       "      <td>0.000000</td>\n",
       "      <td>0.000000</td>\n",
       "      <td>0.0</td>\n",
       "      <td>0.000000</td>\n",
       "      <td>0.0</td>\n",
       "      <td>0.000000</td>\n",
       "      <td>0.0</td>\n",
       "      <td>0.000000</td>\n",
       "      <td>0.0</td>\n",
       "    </tr>\n",
       "    <tr>\n",
       "      <th>131</th>\n",
       "      <td>I22252</td>\n",
       "      <td>I22260</td>\n",
       "      <td>0.000000</td>\n",
       "      <td>0.000000</td>\n",
       "      <td>0.0</td>\n",
       "      <td>0.000000</td>\n",
       "      <td>0.0</td>\n",
       "      <td>0.000000</td>\n",
       "      <td>0.0</td>\n",
       "      <td>0.000000</td>\n",
       "      <td>0.0</td>\n",
       "    </tr>\n",
       "    <tr>\n",
       "      <th>130</th>\n",
       "      <td>I22236</td>\n",
       "      <td>I35334</td>\n",
       "      <td>0.000000</td>\n",
       "      <td>0.000000</td>\n",
       "      <td>0.0</td>\n",
       "      <td>0.000000</td>\n",
       "      <td>0.0</td>\n",
       "      <td>0.000000</td>\n",
       "      <td>0.0</td>\n",
       "      <td>0.000000</td>\n",
       "      <td>0.0</td>\n",
       "    </tr>\n",
       "    <tr>\n",
       "      <th>128</th>\n",
       "      <td>I22236</td>\n",
       "      <td>I24045</td>\n",
       "      <td>0.000000</td>\n",
       "      <td>0.000000</td>\n",
       "      <td>0.0</td>\n",
       "      <td>0.000000</td>\n",
       "      <td>0.0</td>\n",
       "      <td>0.000000</td>\n",
       "      <td>0.0</td>\n",
       "      <td>0.000000</td>\n",
       "      <td>0.0</td>\n",
       "    </tr>\n",
       "    <tr>\n",
       "      <th>362</th>\n",
       "      <td>I8577</td>\n",
       "      <td>I24045</td>\n",
       "      <td>0.000000</td>\n",
       "      <td>0.000000</td>\n",
       "      <td>0.0</td>\n",
       "      <td>0.000000</td>\n",
       "      <td>0.0</td>\n",
       "      <td>0.000000</td>\n",
       "      <td>0.0</td>\n",
       "      <td>0.000000</td>\n",
       "      <td>0.0</td>\n",
       "    </tr>\n",
       "  </tbody>\n",
       "</table>\n",
       "<p>363 rows × 11 columns</p>\n",
       "</div>"
      ],
      "text/plain": [
       "       iid1    iid2     max_IBD    sum_IBD>8  n_IBD>8   sum_IBD>12  n_IBD>12  \\\n",
       "329  I35351  I35333  282.987110  3332.207697     21.0  3332.207697      21.0   \n",
       "217  I24494  I24040  283.652203  3326.638294     20.0  3326.638294      20.0   \n",
       "86   I22122  I22118  213.983188  3308.844301     25.0  3308.844301      25.0   \n",
       "219  I24494  I24193  283.652203  2048.808393     33.0  2029.570302      31.0   \n",
       "85   I22122  I22117  176.386502  1706.853619     24.0  1706.853619      24.0   \n",
       "..      ...     ...         ...          ...      ...          ...       ...   \n",
       "132  I22252  I28504    0.000000     0.000000      0.0     0.000000       0.0   \n",
       "131  I22252  I22260    0.000000     0.000000      0.0     0.000000       0.0   \n",
       "130  I22236  I35334    0.000000     0.000000      0.0     0.000000       0.0   \n",
       "128  I22236  I24045    0.000000     0.000000      0.0     0.000000       0.0   \n",
       "362   I8577  I24045    0.000000     0.000000      0.0     0.000000       0.0   \n",
       "\n",
       "      sum_IBD>16  n_IBD>16   sum_IBD>20  n_IBD>20  \n",
       "329  3332.207697      21.0  3332.207697      21.0  \n",
       "217  3326.638294      20.0  3326.638294      20.0  \n",
       "86   3308.844301      25.0  3274.698507      23.0  \n",
       "219  2001.710003      29.0  1966.079616      27.0  \n",
       "85   1706.853619      24.0  1706.853619      24.0  \n",
       "..           ...       ...          ...       ...  \n",
       "132     0.000000       0.0     0.000000       0.0  \n",
       "131     0.000000       0.0     0.000000       0.0  \n",
       "130     0.000000       0.0     0.000000       0.0  \n",
       "128     0.000000       0.0     0.000000       0.0  \n",
       "362     0.000000       0.0     0.000000       0.0  \n",
       "\n",
       "[363 rows x 11 columns]"
      ]
     },
     "execution_count": 12,
     "metadata": {},
     "output_type": "execute_result"
    }
   ],
   "source": [
    "df_res"
   ]
  },
  {
   "cell_type": "markdown",
   "metadata": {},
   "source": [
    "# Area 51\n",
    "Try out code here"
   ]
  }
 ],
 "metadata": {
  "kernelspec": {
   "display_name": "Python 3",
   "language": "python",
   "name": "python3"
  },
  "language_info": {
   "codemirror_mode": {
    "name": "ipython",
    "version": 3
   },
   "file_extension": ".py",
   "mimetype": "text/x-python",
   "name": "python",
   "nbconvert_exporter": "python",
   "pygments_lexer": "ipython3",
   "version": "3.7.4"
  }
 },
 "nbformat": 4,
 "nbformat_minor": 4
}
