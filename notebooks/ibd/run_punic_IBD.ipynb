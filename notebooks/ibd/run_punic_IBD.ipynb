{
 "cells": [
  {
   "cell_type": "markdown",
   "metadata": {},
   "source": [
    "# Run IBD on Punic Sample (including non-located indivdiuals)"
   ]
  },
  {
   "cell_type": "code",
   "execution_count": 1,
   "metadata": {},
   "outputs": [
    {
     "name": "stdout",
     "output_type": "stream",
     "text": [
      "compute-e-16-229.o2.rc.hms.harvard.edu\n",
      "HSM Computational partition detected.\n",
      "/n/groups/reich/hringbauer/git/punic_aDNA\n",
      "CPU Count: 28\n"
     ]
    }
   ],
   "source": [
    "import numpy as np\n",
    "import pandas as pd\n",
    "import os\n",
    "import sys as sys\n",
    "import socket\n",
    "import matplotlib.pyplot as plt\n",
    "import multiprocessing as mp\n",
    "import itertools as it\n",
    "#from adjustText import adjust_text\n",
    "\n",
    "import warnings\n",
    "warnings.filterwarnings(\"ignore\") # Great Style\n",
    "socket_name = socket.gethostname()\n",
    "print(socket_name)\n",
    "\n",
    "if socket_name.startswith(\"compute-\"):\n",
    "    print(\"HSM Computational partition detected.\")\n",
    "    path = \"/n/groups/reich/hringbauer/git/punic_aDNA/\"  # The Path on Midway Cluster\n",
    "else:\n",
    "    raise RuntimeWarning(\"No compatible machine. Check!!\")\n",
    "\n",
    "os.chdir(path)  # Set the right Path (in line with Atom default)\n",
    "# Show the current working directory. Should be HAPSBURG/Notebooks/ParallelRuns\n",
    "\n",
    "print(os.getcwd())\n",
    "print(f\"CPU Count: {mp.cpu_count()}\")\n",
    "\n",
    "sys.path.insert(0,\"/n/groups/reich/hringbauer/git/hapBLOCK/package/\")  # hack to get development package first in path\n",
    "from ancIBD.run import hapBLOCK_chroms\n",
    "from ancIBD.IO.batch_run import get_run_params_from_i, save_ibd_df\n",
    "from ancIBD.IO.ind_ibd import create_ind_ibd_df, ind_all_ibd_df"
   ]
  },
  {
   "cell_type": "markdown",
   "metadata": {},
   "source": [
    "## 1) Get the indivdiuals to run "
   ]
  },
  {
   "cell_type": "code",
   "execution_count": 2,
   "metadata": {},
   "outputs": [
    {
     "name": "stdout",
     "output_type": "stream",
     "text": [
      "Loaded 33967 Indiviuals for meta data\n",
      "\n",
      "Loaded 138 Punic Indiviudals\n",
      "Merged in meta to 138 Punic Indivdiuals\n",
      "81 Individuals with >600000 1240k SNPs covered\n"
     ]
    }
   ],
   "source": [
    "min_snp = 600000\n",
    "\n",
    "df_meta = pd.read_csv(\"/n/groups/reich/hringbauer/Data/v54.1.anno.csv\")\n",
    "print(f\"Loaded {len(df_meta)} Indiviuals for meta data\")\n",
    "\n",
    "### Load Punic indivdiuals from Assignement\n",
    "df_pun = pd.read_csv(\"./data/cluster_assignments_punic.v54.1.tsv\", sep=\"\\t\")\n",
    "df_pun = df_pun[df_pun[\"label\"].str.contains(\"Punic\")].copy()\n",
    "print(f\"\\nLoaded {len(df_pun)} Punic Indiviudals\")\n",
    "\n",
    "### Merge Meta Data and Punic Indivdiuals\n",
    "df_p = pd.merge(df_pun, df_meta, on=\"iid\")\n",
    "print(f\"Merged in meta to {len(df_p)} Punic Indivdiuals\")\n",
    "\n",
    "df_ibd_iid = df_p[df_p[\"n_cov_snp\"]>min_snp].reset_index(drop=True)\n",
    "iids = df_ibd_iid[\"iid\"].values\n",
    "print(f\"{len(df_ibd_iid)} Individuals with >{min_snp} 1240k SNPs covered\")"
   ]
  },
  {
   "cell_type": "code",
   "execution_count": 30,
   "metadata": {},
   "outputs": [
    {
     "data": {
      "text/plain": [
       "Kerkouene     22\n",
       "Tharros        9\n",
       "Birgi          9\n",
       "Cap Bon        8\n",
       "Carthage       7\n",
       "Lilybaeum      5\n",
       "Motya          5\n",
       "Eivissa        4\n",
       "Malaga         4\n",
       "Selinunte      3\n",
       "Villaricos     3\n",
       "Akhziv         1\n",
       "Cadiz          1\n",
       "Name: location, dtype: int64"
      ]
     },
     "execution_count": 30,
     "metadata": {},
     "output_type": "execute_result"
    }
   ],
   "source": [
    "df_ibd_iid[\"location\"].value_counts()"
   ]
  },
  {
   "cell_type": "markdown",
   "metadata": {},
   "source": [
    "## 2) Run the ancIBD IBD Inference"
   ]
  },
  {
   "cell_type": "code",
   "execution_count": 5,
   "metadata": {},
   "outputs": [
    {
     "name": "stdout",
     "output_type": "stream",
     "text": [
      "Saved 28 IBD blocks.\n",
      "CPU times: user 34.4 s, sys: 337 ms, total: 34.8 s\n",
      "Wall time: 35.7 s\n"
     ]
    }
   ],
   "source": [
    "%%time\n",
    "version = \"v54.1\"\n",
    "folder_in =  f\"/n/groups/reich/hringbauer/git/hapBLOCK/data/hdf5/1240k_{version}/ch\" # for hdf5\n",
    "ch = 20\n",
    "path_ibd = f'/n/groups/reich/hringbauer/git/punic_aDNA/output/ibd/{version}.ch{ch}.tsv'\n",
    "path_ibd\n",
    "\n",
    "df_ibd = hapBLOCK_chroms(folder_in=folder_in,\n",
    "                         iids=iids[:], run_iids=[],\n",
    "                         ch=ch, folder_out=\"\",\n",
    "                         output=False, prefix_out='', logfile=False,\n",
    "                         l_model='h5', e_model='haploid_gl2', h_model='FiveStateScaled', \n",
    "                         t_model='standard', p_col=\"variants/AF_ALL\",\n",
    "                         ibd_in=1, ibd_out=10, ibd_jump=400,\n",
    "                         min_cm=6, cutoff_post=0.99, max_gap=0.0075,\n",
    "                         processes=1)\n",
    "\n",
    "save_ibd_df(df_ibd, savepath=path_ibd, create=False)"
   ]
  },
  {
   "cell_type": "code",
   "execution_count": 8,
   "metadata": {},
   "outputs": [
    {
     "name": "stdout",
     "output_type": "stream",
     "text": [
      "Running ch: 1\n",
      "Saved 574 IBD blocks.\n",
      "Running ch: 2\n",
      "Saved 76 IBD blocks.\n",
      "Running ch: 3\n",
      "Saved 47 IBD blocks.\n",
      "Running ch: 4\n",
      "Saved 50 IBD blocks.\n",
      "Running ch: 5\n",
      "Saved 37 IBD blocks.\n",
      "Running ch: 6\n",
      "Saved 39 IBD blocks.\n",
      "Running ch: 7\n",
      "Saved 56 IBD blocks.\n",
      "Running ch: 8\n",
      "Saved 58 IBD blocks.\n",
      "Running ch: 9\n",
      "Saved 40 IBD blocks.\n",
      "Running ch: 10\n",
      "Saved 75 IBD blocks.\n",
      "Running ch: 11\n",
      "Saved 31 IBD blocks.\n",
      "Running ch: 12\n",
      "Saved 38 IBD blocks.\n",
      "Running ch: 13\n",
      "Saved 28 IBD blocks.\n",
      "Running ch: 14\n",
      "Saved 70 IBD blocks.\n",
      "Running ch: 15\n",
      "Saved 360 IBD blocks.\n",
      "Running ch: 16\n",
      "Saved 30 IBD blocks.\n",
      "Running ch: 17\n",
      "Saved 45 IBD blocks.\n",
      "Running ch: 18\n",
      "Saved 36 IBD blocks.\n",
      "Running ch: 19\n",
      "Saved 43 IBD blocks.\n",
      "Running ch: 20\n",
      "Saved 28 IBD blocks.\n",
      "Running ch: 21\n",
      "Saved 113 IBD blocks.\n",
      "Running ch: 22\n",
      "Saved 33 IBD blocks.\n"
     ]
    }
   ],
   "source": [
    "for ch in range(1,23):\n",
    "    print(f\"Running ch: {ch}\")\n",
    "    version = \"v54.1\"\n",
    "    folder_in =  f\"/n/groups/reich/hringbauer/git/hapBLOCK/data/hdf5/1240k_{version}/ch\" # for hdf5\n",
    "    path_ibd = f'/n/groups/reich/hringbauer/git/punic_aDNA/output/ibd/{version}.ch{ch}.tsv'\n",
    "\n",
    "    df_ibd = hapBLOCK_chroms(folder_in=folder_in,\n",
    "                             iids=iids[:], run_iids=[],\n",
    "                             ch=ch, folder_out=\"\",\n",
    "                             output=False, prefix_out='', logfile=False,\n",
    "                             l_model='h5', e_model='haploid_gl2', h_model='FiveStateScaled', \n",
    "                             t_model='standard', p_col=\"variants/AF_ALL\",\n",
    "                             ibd_in=1, ibd_out=10, ibd_jump=400,\n",
    "                             min_cm=6, cutoff_post=0.99, max_gap=0.0075,\n",
    "                             processes=1)\n",
    "\n",
    "    save_ibd_df(df_ibd, savepath=path_ibd, create=False)"
   ]
  },
  {
   "cell_type": "markdown",
   "metadata": {},
   "source": [
    "# Post-process IBD Run"
   ]
  },
  {
   "cell_type": "code",
   "execution_count": 11,
   "metadata": {},
   "outputs": [],
   "source": [
    "from ancIBD.IO.ind_ibd import create_ind_ibd_df, combine_all_chroms"
   ]
  },
  {
   "cell_type": "code",
   "execution_count": 13,
   "metadata": {},
   "outputs": [
    {
     "name": "stdout",
     "output_type": "stream",
     "text": [
      "Chromosome 1; Loaded 574 IBD\n",
      "Chromosome 2; Loaded 76 IBD\n",
      "Chromosome 3; Loaded 47 IBD\n",
      "Chromosome 4; Loaded 50 IBD\n",
      "Chromosome 5; Loaded 37 IBD\n",
      "Chromosome 6; Loaded 39 IBD\n",
      "Chromosome 7; Loaded 56 IBD\n",
      "Chromosome 8; Loaded 58 IBD\n",
      "Chromosome 9; Loaded 40 IBD\n",
      "Chromosome 10; Loaded 75 IBD\n",
      "Chromosome 11; Loaded 31 IBD\n",
      "Chromosome 12; Loaded 38 IBD\n",
      "Chromosome 13; Loaded 28 IBD\n",
      "Chromosome 14; Loaded 70 IBD\n",
      "Chromosome 15; Loaded 360 IBD\n",
      "Chromosome 16; Loaded 30 IBD\n",
      "Chromosome 17; Loaded 45 IBD\n",
      "Chromosome 18; Loaded 36 IBD\n",
      "Chromosome 19; Loaded 43 IBD\n",
      "Chromosome 20; Loaded 28 IBD\n",
      "Chromosome 21; Loaded 113 IBD\n",
      "Chromosome 22; Loaded 33 IBD\n",
      "Saved 1907 IBD to /n/groups/reich/hringbauer/git/punic_aDNA/output/ibd/v54.1.ch_all.tsv.\n"
     ]
    }
   ],
   "source": [
    "combine_all_chroms(folder_base=f\"/n/groups/reich/hringbauer/git/punic_aDNA/output/ibd/{version}.ch\",\n",
    "                   path_save=f\"/n/groups/reich/hringbauer/git/punic_aDNA/output/ibd/{version}.ch_all.tsv\")"
   ]
  },
  {
   "cell_type": "code",
   "execution_count": 14,
   "metadata": {},
   "outputs": [
    {
     "name": "stdout",
     "output_type": "stream",
     "text": [
      "> 5 cM: 1907/1907\n",
      "Of these with suff. SNPs per cM> 220:               600/1907\n",
      "2     59\n",
      "1     55\n",
      "3     41\n",
      "7     40\n",
      "6     38\n",
      "10    34\n",
      "4     32\n",
      "5     31\n",
      "11    31\n",
      "9     30\n",
      "8     30\n",
      "12    27\n",
      "13    21\n",
      "17    21\n",
      "14    18\n",
      "21    17\n",
      "16    17\n",
      "18    17\n",
      "20    17\n",
      "15    16\n",
      "19     4\n",
      "22     4\n",
      "Name: ch, dtype: int64\n",
      "Saved 245 individual IBD pairs to: /n/groups/reich/hringbauer/git/punic_aDNA/output/ibd/v54.1.ibd_ind.d220.tsv\n",
      "CPU times: user 566 ms, sys: 7.03 ms, total: 573 ms\n",
      "Wall time: 598 ms\n"
     ]
    }
   ],
   "source": [
    "%%time\n",
    "\n",
    "### Takes about 1 min\n",
    "df_res = create_ind_ibd_df(ibd_data = f\"/n/groups/reich/hringbauer/git/punic_aDNA/output/ibd/{version}.ch_all.tsv\",\n",
    "                      min_cms = [8, 12, 16, 20], snp_cm = 220, min_cm = 5, sort_col = 0,\n",
    "                      savepath = f\"/n/groups/reich/hringbauer/git/punic_aDNA/output/ibd/{version}.ibd_ind.d220.tsv\")"
   ]
  },
  {
   "cell_type": "markdown",
   "metadata": {},
   "source": [
    "# Area 51\n",
    "Try out code here"
   ]
  }
 ],
 "metadata": {
  "kernelspec": {
   "display_name": "Python 3",
   "language": "python",
   "name": "python3"
  },
  "language_info": {
   "codemirror_mode": {
    "name": "ipython",
    "version": 3
   },
   "file_extension": ".py",
   "mimetype": "text/x-python",
   "name": "python",
   "nbconvert_exporter": "python",
   "pygments_lexer": "ipython3",
   "version": "3.7.4"
  }
 },
 "nbformat": 4,
 "nbformat_minor": 4
}
