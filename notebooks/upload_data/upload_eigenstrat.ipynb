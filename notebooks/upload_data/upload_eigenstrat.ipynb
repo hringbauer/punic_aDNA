{
 "cells": [
  {
   "cell_type": "markdown",
   "id": "89e6a2b8-2f49-49ff-afac-c2cb35bdc7b8",
   "metadata": {},
   "source": [
    "# Produce Eigenstrat File\n",
    "Will be uploaded to Harvard dataverse"
   ]
  },
  {
   "cell_type": "code",
   "execution_count": 1,
   "id": "f97220c5-a5a0-419b-b628-d0848a689931",
   "metadata": {},
   "outputs": [
    {
     "name": "stdout",
     "output_type": "stream",
     "text": [
      "compute-a-16-107.o2.rc.hms.harvard.edu\n",
      "HSM Computational partition detected.\n",
      "/n/groups/reich/hringbauer/git/punic_aDNA\n",
      "CPU Count: 32\n",
      "3.8.12 (default, Sep 13 2021, 17:05:27) \n",
      "[GCC 9.2.0]\n"
     ]
    }
   ],
   "source": [
    "import numpy as np\n",
    "import os  # For Saving to Folder\n",
    "import pandas as pd\n",
    "import socket\n",
    "import os as os\n",
    "import sys as sys\n",
    "import multiprocessing as mp\n",
    "import itertools as it\n",
    "from hashlib import md5\n",
    "\n",
    "socket_name = socket.gethostname()\n",
    "print(socket_name)\n",
    "\n",
    "if socket_name.startswith(\"compute-\"):\n",
    "    print(\"HSM Computational partition detected.\")\n",
    "    path = \"/n/groups/reich/hringbauer/git/punic_aDNA/\"  # The Path on Midway Cluster\n",
    "else:\n",
    "    raise RuntimeWarning(\"Not compatible machine. Check!!\")\n",
    "\n",
    "os.chdir(path)  # Set the right Path (in line with Atom default)\n",
    "# Show the current working directory. Should be HAPSBURG/Notebooks/ParallelRuns\n",
    "print(os.getcwd())\n",
    "print(f\"CPU Count: {mp.cpu_count()}\")\n",
    "print(sys.version)"
   ]
  },
  {
   "cell_type": "markdown",
   "id": "7dd259f6-1988-47be-9137-a4279c7c2c28",
   "metadata": {},
   "source": [
    "# 1) Load the IID tables"
   ]
  },
  {
   "cell_type": "code",
   "execution_count": 26,
   "id": "76eff4a2-d6d4-4081-a234-28177e539ad6",
   "metadata": {},
   "outputs": [
    {
     "name": "stdout",
     "output_type": "stream",
     "text": [
      "Loaded table of 210 iids to upload.\n",
      "Loaded eigenstrat file with 46354 iids\n",
      "Found 210/210 new iids in Eigenstrat\n"
     ]
    }
   ],
   "source": [
    "df = pd.read_csv(\"/n/groups/reich/hringbauer/git/punic_aDNA/data/final_new_genomes210.v54.1.tsv\", sep=\"\\t\") \n",
    "#df = pd.read_csv(\"/n/groups/reich/hringbauer/git/punic_aDNA/data/final_new_genomes210.v56.3.tsv\", sep=\"\\t\") \n",
    "print(f\"Loaded table of {len(df)} iids to upload.\")\n",
    "\n",
    "### Load the data table from the PCA file\n",
    "#path_ind = \"/n/groups/reich//hringbauer/git/punic_aDNA/eigenstrat/punic.v54.1_HO2.ind\" # PCA .ind\n",
    "path_ind = f\"/n/groups/reich/DAVID/V54/V54.1/v54.1_HO_all.ind\" # v54.1 anno .ind\n",
    "\n",
    "df_ind = pd.read_csv(path_ind, header=None, sep=r\"\\s+\", engine=\"python\")\n",
    "df_ind.columns = [\"iid\", \"sex\", \"pop\"]\n",
    "print(f\"Loaded eigenstrat file with {len(df_ind)} iids\")\n",
    "\n",
    "### Attempt the merge\n",
    "idx = df[\"Genetic ID\"].isin(df_ind[\"iid\"])\n",
    "print(f\"Found {np.sum(idx)}/{len(idx)} new iids in Eigenstrat\")"
   ]
  },
  {
   "cell_type": "markdown",
   "id": "dd06e1a9-083a-4270-a59b-87b5f98047e9",
   "metadata": {},
   "source": [
    "## 2) Extract target eigenstrat with `convertf`"
   ]
  },
  {
   "cell_type": "markdown",
   "id": "9856f7c3-acf9-4ffb-b50f-00555a33db2b",
   "metadata": {},
   "source": [
    "## 2a) Manually create parfile for `convertf`"
   ]
  },
  {
   "cell_type": "code",
   "execution_count": null,
   "id": "c3e1c85b-4712-40bc-9e80-e3198846fbd8",
   "metadata": {},
   "outputs": [],
   "source": [
    "### Sanity Check whether update done correctly!\n",
    "command = f\"cat /n/groups/reich/hringbauer/git/punic_aDNA/parfiles/pca/convertf.keep.v{vrs}.par\"\n",
    "!$command"
   ]
  },
  {
   "cell_type": "code",
   "execution_count": null,
   "id": "75e59979-48df-4e2d-9684-6da78ba14ac2",
   "metadata": {},
   "outputs": [],
   "source": [
    "%%time\n",
    "run_convertf(path_convertf = \"/n/groups/reich/hringbauer/o2bin/convertf\", \n",
    "             parfile = f\"./parfiles/pca/convertf.keep.v{vrs}.par\")"
   ]
  }
 ],
 "metadata": {
  "kernelspec": {
   "display_name": "Python 3 (ipykernel)",
   "language": "python",
   "name": "python3"
  },
  "language_info": {
   "codemirror_mode": {
    "name": "ipython",
    "version": 3
   },
   "file_extension": ".py",
   "mimetype": "text/x-python",
   "name": "python",
   "nbconvert_exporter": "python",
   "pygments_lexer": "ipython3",
   "version": "3.8.12"
  }
 },
 "nbformat": 4,
 "nbformat_minor": 5
}
