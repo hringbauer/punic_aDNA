{
 "cells": [
  {
   "cell_type": "markdown",
   "id": "89e6a2b8-2f49-49ff-afac-c2cb35bdc7b8",
   "metadata": {},
   "source": [
    "# Produce Eigenstrat File\n",
    "This file will be uploaded to Harvard dataverse\n",
    "\n",
    "Update June 2025: Produce HO (original) as well as 1240k files"
   ]
  },
  {
   "cell_type": "code",
   "execution_count": 1,
   "id": "f97220c5-a5a0-419b-b628-d0848a689931",
   "metadata": {},
   "outputs": [
    {
     "name": "stdout",
     "output_type": "stream",
     "text": [
      "compute-b-16-194.o2.rc.hms.harvard.edu\n",
      "HSM Computational partition detected.\n",
      "/n/groups/reich/hringbauer/git/punic_aDNA\n",
      "CPU Count: 96\n",
      "3.8.12 (default, Sep 13 2021, 17:05:27) \n",
      "[GCC 9.2.0]\n"
     ]
    }
   ],
   "source": [
    "import numpy as np\n",
    "import os  # For Saving to Folder\n",
    "import pandas as pd\n",
    "import socket\n",
    "import os as os\n",
    "import sys as sys\n",
    "import multiprocessing as mp\n",
    "import itertools as it\n",
    "from hashlib import md5\n",
    "\n",
    "socket_name = socket.gethostname()\n",
    "print(socket_name)\n",
    "\n",
    "if socket_name.startswith(\"compute-\"):\n",
    "    print(\"HSM Computational partition detected.\")\n",
    "    path = \"/n/groups/reich/hringbauer/git/punic_aDNA/\"  # The Path on Midway Cluster\n",
    "else:\n",
    "    raise RuntimeWarning(\"Not compatible machine. Check!!\")\n",
    "\n",
    "os.chdir(path)  # Set the right Path (in line with Atom default)\n",
    "# Show the current working directory. Should be HAPSBURG/Notebooks/ParallelRuns\n",
    "print(os.getcwd())\n",
    "print(f\"CPU Count: {mp.cpu_count()}\")\n",
    "print(sys.version)"
   ]
  },
  {
   "cell_type": "markdown",
   "id": "07716500-0cb9-47e8-ac00-28df17ecd525",
   "metadata": {},
   "source": [
    "# 0) Helper Functions"
   ]
  },
  {
   "cell_type": "code",
   "execution_count": 17,
   "id": "73ea913c-f66a-44e9-af15-0aaecca81db0",
   "metadata": {},
   "outputs": [],
   "source": [
    "def run_convertf(path_convertf = \"./o2bin/convertf\", parfile = \"./parfiles/convertf.keep.par\"):\n",
    "    \"\"\"Runs the Downsampling\"\"\"\n",
    "    #c = f\"{path_convertf} -p {parfile}\"\n",
    "    #print(c)\n",
    "    #!$path_convertf -p $parfile\n",
    "    !module load gcc gsl/2.3 openblas/0.2.19; $path_convertf -p $parfile"
   ]
  },
  {
   "cell_type": "markdown",
   "id": "7dd259f6-1988-47be-9137-a4279c7c2c28",
   "metadata": {},
   "source": [
    "# 1) Load the IID tables"
   ]
  },
  {
   "cell_type": "code",
   "execution_count": 4,
   "id": "76eff4a2-d6d4-4081-a234-28177e539ad6",
   "metadata": {},
   "outputs": [
    {
     "name": "stdout",
     "output_type": "stream",
     "text": [
      "Loaded table of 210 iids to upload.\n",
      "Loaded eigenstrat file with 46354 iids\n",
      "Found 210/210 new iids in Eigenstrat\n"
     ]
    }
   ],
   "source": [
    "df = pd.read_csv(\"/n/groups/reich/hringbauer/git/punic_aDNA/data/final_new_genomes210.v54.1.tsv\", sep=\"\\t\") \n",
    "#df = pd.read_csv(\"/n/groups/reich/hringbauer/git/punic_aDNA/data/final_new_genomes210.v56.3.tsv\", sep=\"\\t\") \n",
    "print(f\"Loaded table of {len(df)} iids to upload.\")\n",
    "\n",
    "### Load the data table from the PCA file\n",
    "#path_ind = \"/n/groups/reich//hringbauer/git/punic_aDNA/eigenstrat/punic.v54.1_HO2.ind\" # PCA .ind\n",
    "path_ind = f\"/n/groups/reich/DAVID/V54/V54.1/v54.1_HO_all.ind\" # v54.1 anno .ind\n",
    "\n",
    "df_ind = pd.read_csv(path_ind, header=None, sep=r\"\\s+\", engine=\"python\")\n",
    "df_ind.columns = [\"iid\", \"sex\", \"pop\"]\n",
    "print(f\"Loaded eigenstrat file with {len(df_ind)} iids\")\n",
    "\n",
    "### Attempt the merge\n",
    "idx = df[\"Genetic ID\"].isin(df_ind[\"iid\"])\n",
    "print(f\"Found {np.sum(idx)}/{len(idx)} new iids in Eigenstrat\")"
   ]
  },
  {
   "cell_type": "markdown",
   "id": "557a4352-8b3a-4932-9cbc-7ca47c32573d",
   "metadata": {},
   "source": [
    "## 1b) Prepare the modified .ind file"
   ]
  },
  {
   "cell_type": "code",
   "execution_count": 9,
   "id": "e901bbdd-f14c-4f6d-bcfd-3d8412c0823f",
   "metadata": {},
   "outputs": [
    {
     "name": "stdout",
     "output_type": "stream",
     "text": [
      "Set 210 IIDs to pop: Release\n"
     ]
    }
   ],
   "source": [
    "release_pop = \"Release\"\n",
    "idx1 = df_ind[\"iid\"].isin(df[\"Genetic ID\"])\n",
    "df_ind.loc[idx1,\"pop\"] = release_pop\n",
    "\n",
    "### Sanity Check\n",
    "n = np.sum(df_ind[\"pop\"]==release_pop)\n",
    "print(f\"Set {n} IIDs to pop: {release_pop}\")"
   ]
  },
  {
   "cell_type": "markdown",
   "id": "8e6aa9b2-82a9-49af-beef-367c32946a33",
   "metadata": {},
   "source": [
    "## 1c) Save the modified .ind file"
   ]
  },
  {
   "cell_type": "code",
   "execution_count": 12,
   "id": "506764e1-6b64-4d95-aec3-1b72d3532c13",
   "metadata": {},
   "outputs": [
    {
     "name": "stdout",
     "output_type": "stream",
     "text": [
      "Saved modified .ind file to: \n",
      "/n/groups/reich/hringbauer/git/punic_aDNA/parfiles/ind_mod/v54.1._HO_all.flagged.release.ind\n"
     ]
    }
   ],
   "source": [
    "save_path = f\"/n/groups/reich/hringbauer/git/punic_aDNA/parfiles/ind_mod/v54.1._HO_all.flagged.release.ind\"\n",
    "df_ind.to_csv(save_path, header=False, sep=\" \", index=False)\n",
    "print(f\"Saved modified .ind file to: \\n{save_path}\")"
   ]
  },
  {
   "cell_type": "markdown",
   "id": "dd06e1a9-083a-4270-a59b-87b5f98047e9",
   "metadata": {},
   "source": [
    "# 1d) Extract target eigenstrat with `convertf`"
   ]
  },
  {
   "cell_type": "markdown",
   "id": "9856f7c3-acf9-4ffb-b50f-00555a33db2b",
   "metadata": {},
   "source": [
    "## Manually create parfile for `convertf`"
   ]
  },
  {
   "cell_type": "code",
   "execution_count": 13,
   "id": "c3e1c85b-4712-40bc-9e80-e3198846fbd8",
   "metadata": {},
   "outputs": [
    {
     "name": "stdout",
     "output_type": "stream",
     "text": [
      "/bin/bash: /n/groups/reich/hringbauer/git/punic_aDNA/parfiles/convertf/convertf.extract.dataverse.v54.1.par: Permission denied\n"
     ]
    }
   ],
   "source": [
    "### Sanity Check whether update done correctly!\n",
    "command = f\"/n/groups/reich/hringbauer/git/punic_aDNA/parfiles/convertf/convertf.extract.dataverse.v54.1.par\"\n",
    "!$command"
   ]
  },
  {
   "cell_type": "code",
   "execution_count": 24,
   "id": "75e59979-48df-4e2d-9684-6da78ba14ac2",
   "metadata": {},
   "outputs": [
    {
     "name": "stdout",
     "output_type": "stream",
     "text": [
      "\n",
      "Inactive Modules:\n",
      "  1) python/3.8.12\n",
      "\n",
      "Due to MODULEPATH changes, the following have been reloaded:\n",
      "  1) htslib/1.14     2) samtools/1.15.1\n",
      "\n",
      "The following have been reloaded with a version change:\n",
      "  1) bcftools/1.14 => bcftools/1.13     4) gsl/2.7.1 => gsl/2.3\n",
      "  2) fftw/3.3.10 => fftw/3.3.7          5) openblas/0.3.26 => openblas/0.2.19\n",
      "  3) gcc/9.2.0 => gcc/6.2.0\n",
      "\n",
      "parameter file: /n/groups/reich/hringbauer/git/punic_aDNA/parfiles/convertf/convertf.extract.dataverse.v54.1.par\n",
      "BASE: /n/groups/reich/\n",
      "DIR: DAVID/V54/V54.1/v54.1_HO_all\n",
      "OUT: hringbauer/git/punic_aDNA/eigenstrat/release/punic210.v54.1_HO2\n",
      "genotypename: /n/groups/reich//DAVID/V54/V54.1/v54.1_HO_all.geno\n",
      "snpname: /n/groups/reich//DAVID/V54/V54.1/v54.1_HO_all.snp\n",
      "indivname: /n/groups/reich/hringbauer/git/punic_aDNA/parfiles/ind_mod/v54.1._HO_all.flagged.release.ind\n",
      "genooutfilename: /n/groups/reich//hringbauer/git/punic_aDNA/eigenstrat/release/punic210.v54.1_HO2.geno\n",
      "snpoutfilename: /n/groups/reich//hringbauer/git/punic_aDNA/eigenstrat/release/punic210.v54.1_HO2.snp\n",
      "indoutfilename: /n/groups/reich//hringbauer/git/punic_aDNA/eigenstrat/release/punic210.v54.1_HO2.ind\n",
      "outputformat: PACKEDANCESTRYMAP\n",
      "hashcheck: NO\n",
      "poplistname: /n/groups/reich//hringbauer/git/punic_aDNA/parfiles/pca/keep_pops.release.v54.1\n",
      "## /n/groups/reich/hringbauer/o2bin/convertf version: 8700\n",
      "read 1073741824 bytes\n",
      "read 2147483648 bytes\n",
      "read 3221225472 bytes\n",
      "read 4294967296 bytes\n",
      "read 5368709120 bytes\n",
      "read 6442450944 bytes\n",
      "read 6925273497 bytes\n",
      "packed geno read OK\n",
      "end of inpack\n",
      "before compress: snps: 597573 indivs: 46354\n",
      "after compress: snps: 597573 indivs: 210\n",
      "numvalidind:    210  maxmiss: 210001\n",
      "callng outfiles\n",
      "packedancestrymap output\n",
      "numsnps output: 597573\n",
      "##end of convertf:      106.460 seconds cpu      501.907 Mbytes in use\n",
      "CPU times: user 2.93 s, sys: 502 ms, total: 3.43 s\n",
      "Wall time: 1min 51s\n"
     ]
    }
   ],
   "source": [
    "%%time\n",
    "run_convertf(path_convertf = \"/n/groups/reich/hringbauer/o2bin/convertf\", \n",
    "             parfile = f\"/n/groups/reich/hringbauer/git/punic_aDNA/parfiles/convertf/convertf.extract.dataverse.v54.1.par\")"
   ]
  },
  {
   "cell_type": "code",
   "execution_count": 25,
   "id": "45a02083-1d21-437e-8c17-72d6ba264790",
   "metadata": {},
   "outputs": [
    {
     "name": "stdout",
     "output_type": "stream",
     "text": [
      "Finished!\n"
     ]
    }
   ],
   "source": [
    "print(f\"Finished!\")"
   ]
  },
  {
   "cell_type": "markdown",
   "id": "ae1cbbe9-62e2-4deb-a600-13f54e97dc1d",
   "metadata": {},
   "source": [
    "### 1e) Post-process Release (bring back original annotations)"
   ]
  },
  {
   "cell_type": "code",
   "execution_count": 35,
   "id": "c2aa65f1-0065-47f8-92d5-a7fbb4d48cd5",
   "metadata": {},
   "outputs": [
    {
     "name": "stdout",
     "output_type": "stream",
     "text": [
      "Loaded table of 210 iids to upload.\n",
      "Loaded Release eigenstrat .ind file with 210 iids\n"
     ]
    }
   ],
   "source": [
    "df = pd.read_csv(\"/n/groups/reich/hringbauer/git/punic_aDNA/data/final_new_genomes210.v54.1.tsv\", sep=\"\\t\") \n",
    "print(f\"Loaded table of {len(df)} iids to upload.\")\n",
    "\n",
    "path_ind = \"/n/groups/reich//hringbauer/git/punic_aDNA/eigenstrat/release/punic210.v54.1_HO2.ind\" # v54.1 anno .ind\n",
    "df_ind = pd.read_csv(path_ind, header=None, sep=r\"\\s+\", engine=\"python\")\n",
    "df_ind.columns = [\"iid\", \"sex\", \"pop\"]\n",
    "print(f\"Loaded Release eigenstrat .ind file with {len(df_ind)} iids\")"
   ]
  },
  {
   "cell_type": "code",
   "execution_count": 46,
   "id": "64d0164c-3c16-40b4-a4e3-0f8a89ee4d22",
   "metadata": {},
   "outputs": [],
   "source": [
    "dft = df[[\"Genetic ID\", \"Group ID\"]]\n",
    "dft.columns = [\"iid\", \"Group ID\"]\n",
    "df_ind1 = pd.merge(df_ind, dft, how=\"left\", on=\"iid\")\n",
    "\n",
    "df_ind1[\"pop\"] = df_ind1[\"Group ID\"]\n",
    "df_ind1.drop(columns=\"Group ID\", inplace=True)"
   ]
  },
  {
   "cell_type": "code",
   "execution_count": 48,
   "id": "fb0bad7a-8d84-4899-b6a5-cbdc2dd5bcb3",
   "metadata": {},
   "outputs": [
    {
     "name": "stdout",
     "output_type": "stream",
     "text": [
      "Saved modified .ind file to: \n",
      "/n/groups/reich//hringbauer/git/punic_aDNA/eigenstrat/release/punic210.v54.1_HO2_groups.ind\n"
     ]
    }
   ],
   "source": [
    "save_path = f\"/n/groups/reich//hringbauer/git/punic_aDNA/eigenstrat/release/punic210.v54.1_HO2_groups.ind\"\n",
    "df_ind1.to_csv(save_path, header=False, sep=\" \", index=False)\n",
    "print(f\"Saved modified .ind file to: \\n{save_path}\")"
   ]
  },
  {
   "cell_type": "markdown",
   "id": "e5ecbce4-862a-4a4d-8606-ab38676ddc3c",
   "metadata": {},
   "source": [
    "# 2) Produce the 1240k SNP file"
   ]
  },
  {
   "cell_type": "code",
   "execution_count": 7,
   "id": "2159de51-bfb5-44e8-b8b3-bff5cc8c5faa",
   "metadata": {},
   "outputs": [
    {
     "name": "stdout",
     "output_type": "stream",
     "text": [
      "Loaded table of 210 iids to upload.\n",
      "Loaded eigenstrat file with 35835 iids\n",
      "Found 208/210 new iids in Eigenstrat\n"
     ]
    }
   ],
   "source": [
    "df = pd.read_csv(\"/n/groups/reich/hringbauer/git/punic_aDNA/data/final_new_genomes210.v54.1.tsv\", sep=\"\\t\") \n",
    "#df = pd.read_csv(\"/n/groups/reich/hringbauer/git/punic_aDNA/data/final_new_genomes210.v56.3.tsv\", sep=\"\\t\") \n",
    "print(f\"Loaded table of {len(df)} iids to upload.\")\n",
    "\n",
    "### Load the data table from the PCA file\n",
    "#path_ind = \"/n/groups/reich//hringbauer/git/punic_aDNA/eigenstrat/punic.v54.1_HO2.ind\" # PCA .ind\n",
    "path_ind = f\"/n/groups/reich/DAVID/V54/V54.3/v54.3_1240k_all.ind\" # v54.1 anno .ind\n",
    "\n",
    "df_ind = pd.read_csv(path_ind, header=None, sep=r\"\\s+\", engine=\"python\")\n",
    "df_ind.columns = [\"iid\", \"sex\", \"pop\"]\n",
    "print(f\"Loaded eigenstrat file with {len(df_ind)} iids\")\n",
    "\n",
    "### Attempt the merge\n",
    "idx = df[\"Genetic ID\"].isin(df_ind[\"iid\"])\n",
    "print(f\"Found {np.sum(idx)}/{len(idx)} new iids in Eigenstrat\")"
   ]
  },
  {
   "cell_type": "markdown",
   "id": "62e0fef2-6cfd-43bc-835b-0ff9c69e1007",
   "metadata": {},
   "source": [
    "### 2b) Prepare and save modified IND file"
   ]
  },
  {
   "cell_type": "code",
   "execution_count": 9,
   "id": "9f969a5d-1b30-4878-b89d-9b6150db5d45",
   "metadata": {},
   "outputs": [
    {
     "name": "stdout",
     "output_type": "stream",
     "text": [
      "Set 208 IIDs to pop: Release\n",
      "Saved modified .ind file to: \n",
      "/n/groups/reich/hringbauer/git/punic_aDNA/parfiles/ind_mod/v54.3_1240k_all.flagged.release.ind\n"
     ]
    }
   ],
   "source": [
    "release_pop = \"Release\"\n",
    "idx1 = df_ind[\"iid\"].isin(df[\"Genetic ID\"])\n",
    "df_ind.loc[idx1,\"pop\"] = release_pop\n",
    "\n",
    "### Sanity Check\n",
    "n = np.sum(df_ind[\"pop\"]==release_pop)\n",
    "print(f\"Set {n} IIDs to pop: {release_pop}\")\n",
    "\n",
    "save_path = f\"/n/groups/reich/hringbauer/git/punic_aDNA/parfiles/ind_mod/v54.3_1240k_all.flagged.release.ind\"\n",
    "df_ind.to_csv(save_path, header=False, sep=\" \", index=False)\n",
    "print(f\"Saved modified .ind file to: \\n{save_path}\")"
   ]
  },
  {
   "cell_type": "markdown",
   "id": "a776cc42-b0db-4e19-8b2e-7627343b35fc",
   "metadata": {},
   "source": [
    "### 2c) Manually prepare parfile and run convertf"
   ]
  },
  {
   "cell_type": "code",
   "execution_count": 15,
   "id": "b7bacf16-6673-4276-902c-5eca5ce3fee7",
   "metadata": {},
   "outputs": [
    {
     "name": "stdout",
     "output_type": "stream",
     "text": [
      "BASE:       /n/groups/reich/  \n",
      "DIR:\t\tDAVID/V54/V54.3/v54.3_1240k_all\n",
      "OUT:        hringbauer/git/punic_aDNA/eigenstrat/release/punic208.v54.3_1240k\n",
      "genotypename:\tBASE/DIR.geno\n",
      "snpname:\tBASE/DIR.snp\n",
      "indivname:\t/n/groups/reich/hringbauer/git/punic_aDNA/parfiles/ind_mod/v54.3_1240k_all.flagged.release.ind\n",
      "genooutfilename:   BASE/OUT.geno\n",
      "snpoutfilename:    BASE/OUT.snp\n",
      "indoutfilename:    BASE/OUT.ind\n",
      "outputformat:   PACKEDANCESTRYMAP\n",
      "hashcheck: NO\n",
      "poplistname: BASE/hringbauer/git/punic_aDNA/parfiles/pca/keep_pops.release.v54.1\n"
     ]
    }
   ],
   "source": [
    "### Sanity Check whether update done correctly!\n",
    "command = \"cat /n/groups/reich/hringbauer/git/punic_aDNA/parfiles/convertf/convertf.extract.dataverse.1240k.v54.3.par\"\n",
    "!$command"
   ]
  },
  {
   "cell_type": "code",
   "execution_count": 18,
   "id": "dfc6c70c-6699-4182-9c45-615ee18929ec",
   "metadata": {},
   "outputs": [
    {
     "name": "stdout",
     "output_type": "stream",
     "text": [
      "\n",
      "Inactive Modules:\n",
      "  1) python/3.8.12\n",
      "\n",
      "Due to MODULEPATH changes, the following have been reloaded:\n",
      "  1) htslib/1.14     2) samtools/1.15.1\n",
      "\n",
      "The following have been reloaded with a version change:\n",
      "  1) bcftools/1.14 => bcftools/1.13     4) gsl/2.7.1 => gsl/2.3\n",
      "  2) fftw/3.3.10 => fftw/3.3.7          5) openblas/0.3.26 => openblas/0.2.19\n",
      "  3) gcc/9.2.0 => gcc/6.2.0\n",
      "\n",
      "parameter file: /n/groups/reich/hringbauer/git/punic_aDNA/parfiles/convertf/convertf.extract.dataverse.1240k.v54.3.par\n",
      "BASE: /n/groups/reich/\n",
      "DIR: DAVID/V54/V54.3/v54.3_1240k_all\n",
      "OUT: hringbauer/git/punic_aDNA/eigenstrat/release/punic208.v54.3_1240k\n",
      "genotypename: /n/groups/reich//DAVID/V54/V54.3/v54.3_1240k_all.geno\n",
      "snpname: /n/groups/reich//DAVID/V54/V54.3/v54.3_1240k_all.snp\n",
      "indivname: /n/groups/reich/hringbauer/git/punic_aDNA/parfiles/ind_mod/v54.3_1240k_all.flagged.release.ind\n",
      "genooutfilename: /n/groups/reich//hringbauer/git/punic_aDNA/eigenstrat/release/punic208.v54.3_1240k.geno\n",
      "snpoutfilename: /n/groups/reich//hringbauer/git/punic_aDNA/eigenstrat/release/punic208.v54.3_1240k.snp\n",
      "indoutfilename: /n/groups/reich//hringbauer/git/punic_aDNA/eigenstrat/release/punic208.v54.3_1240k.ind\n",
      "outputformat: PACKEDANCESTRYMAP\n",
      "hashcheck: NO\n",
      "poplistname: /n/groups/reich//hringbauer/git/punic_aDNA/parfiles/pca/keep_pops.release.v54.1\n",
      "## /n/groups/reich/hringbauer/o2bin/convertf version: 8621\n",
      "read 1073741824 bytes\n",
      "read 2147483648 bytes\n",
      "read 3221225472 bytes\n",
      "read 4294967296 bytes\n",
      "read 5368709120 bytes\n",
      "read 6442450944 bytes\n",
      "read 7516192768 bytes\n",
      "read 8589934592 bytes\n",
      "read 9663676416 bytes\n",
      "read 10737418240 bytes\n",
      "read 10814444736 bytes\n",
      "packed geno read OK\n",
      "end of inpack\n",
      "before compress: snps: 1207104 indivs: 35835\n",
      "after compress: snps: 1207104 indivs: 208\n",
      "numvalidind:    208  maxmiss: 208001\n",
      "calling outfiles\n",
      "packedancestrymap output\n",
      "numsnps output: 1207104\n",
      "##end of convertf:       91.610 seconds cpu     1013.854 Mbytes in use\n",
      "CPU times: user 397 ms, sys: 134 ms, total: 531 ms\n",
      "Wall time: 1min 37s\n"
     ]
    }
   ],
   "source": [
    "%%time\n",
    "run_convertf(path_convertf = \"/n/groups/reich/hringbauer/o2bin/convertf\", \n",
    "             parfile = \"/n/groups/reich/hringbauer/git/punic_aDNA/parfiles/convertf/convertf.extract.dataverse.1240k.v54.3.par\")"
   ]
  },
  {
   "cell_type": "code",
   "execution_count": 19,
   "id": "355e49ae-c0b1-4e35-b6a2-7363bdf623f9",
   "metadata": {},
   "outputs": [
    {
     "name": "stdout",
     "output_type": "stream",
     "text": [
      "Finished!\n"
     ]
    }
   ],
   "source": [
    "print(f\"Finished!\")"
   ]
  },
  {
   "cell_type": "code",
   "execution_count": 20,
   "id": "2a8650a3-9509-483b-9bc7-2f83f6869831",
   "metadata": {},
   "outputs": [
    {
     "name": "stdout",
     "output_type": "stream",
     "text": [
      "Loaded table of 210 iids to upload.\n",
      "Loaded Release eigenstrat .ind file with 208 iids\n",
      "Saved modified .ind file to: \n",
      "/n/groups/reich//hringbauer/git/punic_aDNA/eigenstrat/release/punic208.v54.3_1240k_groups.ind\n"
     ]
    }
   ],
   "source": [
    "df = pd.read_csv(\"/n/groups/reich/hringbauer/git/punic_aDNA/data/final_new_genomes210.v54.1.tsv\", sep=\"\\t\") \n",
    "print(f\"Loaded table of {len(df)} iids to upload.\")\n",
    "\n",
    "path_ind = \"/n/groups/reich//hringbauer/git/punic_aDNA/eigenstrat/release/punic208.v54.3_1240k.ind\" # v54.1 anno .ind\n",
    "df_ind = pd.read_csv(path_ind, header=None, sep=r\"\\s+\", engine=\"python\")\n",
    "df_ind.columns = [\"iid\", \"sex\", \"pop\"]\n",
    "print(f\"Loaded Release eigenstrat .ind file with {len(df_ind)} iids\")\n",
    "\n",
    "\n",
    "dft = df[[\"Genetic ID\", \"Group ID\"]]\n",
    "dft.columns = [\"iid\", \"Group ID\"]\n",
    "df_ind1 = pd.merge(df_ind, dft, how=\"left\", on=\"iid\")\n",
    "\n",
    "df_ind1[\"pop\"] = df_ind1[\"Group ID\"]\n",
    "df_ind1.drop(columns=\"Group ID\", inplace=True)\n",
    "\n",
    "save_path = f\"/n/groups/reich//hringbauer/git/punic_aDNA/eigenstrat/release/punic208.v54.3_1240k_groups.ind\"\n",
    "df_ind1.to_csv(save_path, header=False, sep=\" \", index=False)\n",
    "print(f\"Saved modified .ind file to: \\n{save_path}\")"
   ]
  },
  {
   "cell_type": "markdown",
   "id": "8018da1f-9739-4d9c-af3b-9eb21c3f411f",
   "metadata": {},
   "source": [
    "# Area 51"
   ]
  },
  {
   "cell_type": "code",
   "execution_count": 28,
   "id": "ef01367f-8bd1-435c-87b0-0933a2177306",
   "metadata": {},
   "outputs": [
    {
     "name": "stdout",
     "output_type": "stream",
     "text": [
      "1207104 /n/groups/reich//hringbauer/git/punic_aDNA/eigenstrat/release/punic208.v54.3_1240k.snp\n",
      "208 /n/groups/reich//hringbauer/git/punic_aDNA/eigenstrat/release/punic208.v54.3_1240k_groups.ind\n"
     ]
    }
   ],
   "source": [
    "!wc -l /n/groups/reich//hringbauer/git/punic_aDNA/eigenstrat/release/punic208.v54.3_1240k.snp\n",
    "!wc -l /n/groups/reich//hringbauer/git/punic_aDNA/eigenstrat/release/punic208.v54.3_1240k_groups.ind"
   ]
  },
  {
   "cell_type": "code",
   "execution_count": 29,
   "id": "49958d62-5e27-4eb0-84a1-a1f906ad1694",
   "metadata": {},
   "outputs": [
    {
     "name": "stdout",
     "output_type": "stream",
     "text": [
      "597573 /n/groups/reich//hringbauer/git/punic_aDNA/eigenstrat/release/punic210.v54.1_HO2.snp\n",
      "210 /n/groups/reich//hringbauer/git/punic_aDNA/eigenstrat/release/punic210.v54.1_HO2_groups.ind\n"
     ]
    }
   ],
   "source": [
    "!wc -l /n/groups/reich//hringbauer/git/punic_aDNA/eigenstrat/release/punic210.v54.1_HO2.snp\n",
    "!wc -l /n/groups/reich//hringbauer/git/punic_aDNA/eigenstrat/release/punic210.v54.1_HO2_groups.ind"
   ]
  },
  {
   "cell_type": "code",
   "execution_count": 25,
   "id": "47711784-1d88-4e21-a597-9e26a628b743",
   "metadata": {},
   "outputs": [
    {
     "name": "stdout",
     "output_type": "stream",
     "text": [
      "210 /n/groups/reich//hringbauer/git/punic_aDNA/eigenstrat/release/punic210.v54.1_HO2.ind\n"
     ]
    }
   ],
   "source": []
  },
  {
   "cell_type": "code",
   "execution_count": null,
   "id": "d6107271-c573-4c26-8fc6-455622025af9",
   "metadata": {},
   "outputs": [],
   "source": []
  }
 ],
 "metadata": {
  "kernelspec": {
   "display_name": "Python 3 (ipykernel)",
   "language": "python",
   "name": "python3"
  },
  "language_info": {
   "codemirror_mode": {
    "name": "ipython",
    "version": 3
   },
   "file_extension": ".py",
   "mimetype": "text/x-python",
   "name": "python",
   "nbconvert_exporter": "python",
   "pygments_lexer": "ipython3",
   "version": "3.13.1"
  }
 },
 "nbformat": 4,
 "nbformat_minor": 5
}
