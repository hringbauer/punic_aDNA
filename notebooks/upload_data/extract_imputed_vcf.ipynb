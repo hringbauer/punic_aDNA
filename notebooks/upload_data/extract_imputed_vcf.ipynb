{
 "cells": [
  {
   "cell_type": "markdown",
   "id": "09d1f621-e8ab-4019-b195-634444b0404b",
   "metadata": {},
   "source": [
    "# Extract imuted VCF file\n",
    "Extract the imputed VCF files on 1240k SNPs.\n",
    "\n",
    "For reproducibilty of ancIBD results and allow others to double-check."
   ]
  },
  {
   "cell_type": "code",
   "execution_count": 1,
   "id": "8c561edc-a02f-412f-a260-81ce4c489dd5",
   "metadata": {},
   "outputs": [
    {
     "name": "stdout",
     "output_type": "stream",
     "text": [
      "compute-b-16-177.o2.rc.hms.harvard.edu\n",
      "HSM O2 Computational partition detected.\n",
      "/n/groups/reich/hringbauer/git/punic_aDNA\n",
      "CPU Count: 96\n"
     ]
    }
   ],
   "source": [
    "import numpy as np\n",
    "import pandas as pd\n",
    "import matplotlib.pyplot as plt\n",
    "import socket as socket\n",
    "import os as os\n",
    "import sys as sys\n",
    "import multiprocessing as mp\n",
    "import h5py\n",
    "import allel\n",
    "\n",
    "socket_name = socket.gethostname()\n",
    "print(socket_name)\n",
    "\n",
    "if socket_name.startswith(\"compute-\"):\n",
    "    print(\"HSM O2 Computational partition detected.\")\n",
    "    path = \"/n/groups/reich/hringbauer/git/punic_aDNA/\"  # The Path on Harvard Cluster\n",
    "else: \n",
    "    raise RuntimeWarning(\"Not compatible machine. Check!!\")\n",
    "\n",
    "os.chdir(path)  # Set the right Path (in line with Atom default)\n",
    "\n",
    "print(os.getcwd())\n",
    "print(f\"CPU Count: {mp.cpu_count()}\")"
   ]
  },
  {
   "cell_type": "code",
   "execution_count": 2,
   "id": "90d35bff-fef8-42b8-acbf-561a16f3c572",
   "metadata": {},
   "outputs": [
    {
     "name": "stdout",
     "output_type": "stream",
     "text": [
      "Loaded imputed Meta File of 57929 iids\n",
      "Loaded Punic table of 210 iids to upload.\n",
      "Found 302/57929 Punic iids in master df\n",
      "Kept 210/302 unique Master IDs.\n"
     ]
    }
   ],
   "source": [
    "### Version\n",
    "vrs = 64.0\n",
    "\n",
    "### Load Meta Data\n",
    "df_meta = pd.read_csv(f\"/n/groups/reich/hringbauer/git/ibd_euro/data/hdf5/1240k_v{vrs}/meta_maxgp.tsv\", sep=\"\\t\")\n",
    "print(f\"Loaded imputed Meta File of {len(df_meta)} iids\")\n",
    "\n",
    "dfp = pd.read_csv(\"/n/groups/reich/hringbauer/git/punic_aDNA/data/final_new_genomes210.v54.1.tsv\", sep=\"\\t\") \n",
    "#df = pd.read_csv(\"/n/groups/reich/hringbauer/git/punic_aDNA/data/final_new_genomes210.v56.3.tsv\", sep=\"\\t\") \n",
    "print(f\"Loaded Punic table of {len(dfp)} iids to upload.\")\n",
    "\n",
    "### Intersect\n",
    "idx = df_meta[\"Master ID\"].isin(dfp[\"Master ID\"])\n",
    "print(f\"Found {np.sum(idx)}/{len(idx)} Punic iids in master df\")\n",
    "\n",
    "### Keep only the highest maxGP\n",
    "df_upload = df_meta[idx].sort_values(by=\"frac_gp\", ascending=False)\n",
    "idx = df_upload[\"Master ID\"].duplicated()\n",
    "df_upload=df_upload[~idx].reset_index(drop=True)\n",
    "print(f\"Kept {np.sum(~idx)}/{len(idx)} unique Master IDs.\")\n",
    "\n",
    "iids = df_upload[\"iid\"].values\n",
    "iids_all = \",\".join(iids)"
   ]
  },
  {
   "cell_type": "markdown",
   "id": "8863b105-46a8-4b3d-943d-c75b5f5586e6",
   "metadata": {},
   "source": [
    "## 1a) Extract all Punic iids in Punic VCF (faster)\n",
    "Takes about 30min per long Chromosome"
   ]
  },
  {
   "cell_type": "code",
   "execution_count": null,
   "id": "6a849d26-d2b7-40f6-b90e-b2b80a58e25f",
   "metadata": {},
   "outputs": [],
   "source": [
    "iids_all"
   ]
  },
  {
   "cell_type": "code",
   "execution_count": null,
   "id": "3bac314e-f3f1-4bb6-970f-d19505fee768",
   "metadata": {},
   "outputs": [
    {
     "name": "stdout",
     "output_type": "stream",
     "text": [
      "Running Chr.: 1\n"
     ]
    }
   ],
   "source": [
    "for ch in range(1,23):\n",
    "    path_main_imputed_vcf = f\"/n/groups/reich/hringbauer/git/ibd_euro/data/vcf/1240k_v{vrs}/ch{ch}.vcf.gz\"\n",
    "    print(f\"Running Chr.: {ch}\")\n",
    "    out_vcf_path = f\"/n/groups/reich/hringbauer/git/punic_aDNA/output/v{vrs}_imputed/punic210_ch{ch}.vcf.gz\"\n",
    "        \n",
    "    !bcftools view -s $iids_all -Oz -o  $out_vcf_path $path_main_imputed_vcf\n",
    "    !bcftools index $out_vcf_path\n",
    "print(f\"Finished!\")"
   ]
  },
  {
   "cell_type": "code",
   "execution_count": null,
   "id": "a858735c-8ab9-458b-991e-8ff093ddf7f5",
   "metadata": {},
   "outputs": [],
   "source": [
    "print(\"Finished!\")"
   ]
  },
  {
   "cell_type": "markdown",
   "id": "f4865580-942e-4698-a5d7-577d20b01439",
   "metadata": {},
   "source": [
    "# Extract the individual VCFs in target list From this smaller VCF: \n",
    "Takes about 5-10s per long Chromosome"
   ]
  },
  {
   "cell_type": "code",
   "execution_count": null,
   "id": "2df50a8f-a765-47b4-94c1-4de2f61d31ba",
   "metadata": {},
   "outputs": [],
   "source": [
    "for ch in range(1,23):\n",
    "    path_main_imputed_vcf = f\"/n/groups/reich/hringbauer/git/punic_aDNA/output/v{vrs}_imputed/punic210_ch{ch}.vcf.gz\"\n",
    "    for iid in iids:\n",
    "        print(f\"Running Chr.: {ch}; iid: {iid}\")\n",
    "        out_vcf_path = f\"/n/groups/reich/hringbauer/git/punic_aDNA/output/v{vrs}_imputed/{iid}/1240k.imputed/{iid}.ch{ch}.vcf.gz\"\n",
    "        out_folder = os.path.dirname(out_vcf_path)\n",
    "        ### Create Output folder if not there\n",
    "        if not os.path.exists(out_folder):\n",
    "            os.makedirs(out_folder)\n",
    "            \n",
    "        !bcftools view -s $iid -Oz -o  $out_vcf_path $path_main_imputed_vcf\n",
    "        !bcftools index $out_vcf_path\n",
    "print(f\"Finished!\")"
   ]
  },
  {
   "cell_type": "code",
   "execution_count": null,
   "id": "11fad143-24cc-4244-9805-01dd7521f5f4",
   "metadata": {},
   "outputs": [],
   "source": [
    "iids"
   ]
  },
  {
   "cell_type": "code",
   "execution_count": null,
   "id": "90274f17-f592-4afc-9ce8-6c52bcfeee48",
   "metadata": {},
   "outputs": [],
   "source": [
    "print('Finished')"
   ]
  },
  {
   "cell_type": "markdown",
   "id": "d0cf3d4b-2ef3-4d36-bf72-06da5f7fe023",
   "metadata": {},
   "source": [
    "# 2) Extract Pablo's imputed data\n",
    "### 2a) Find all IIDs"
   ]
  },
  {
   "cell_type": "code",
   "execution_count": 2,
   "id": "b15009e8-344f-402d-b730-d165b2c713e9",
   "metadata": {},
   "outputs": [
    {
     "name": "stdout",
     "output_type": "stream",
     "text": [
      "Loaded imputed Meta File of 61237 iids\n",
      "Loaded Visigoth table of 65 iids to upload.\n",
      "Found 69/65 iids with matching Visigoth master id\n",
      "Kept 65/69 unique Master IDs.\n"
     ]
    }
   ],
   "source": [
    "### Version\n",
    "vrs = 65.0\n",
    "\n",
    "### Load Meta Data\n",
    "df_meta = pd.read_csv(f\"/n/groups/reich/hringbauer/git/ibd_euro/data/hdf5/1240k_v{vrs}/meta_maxgp.tsv\", sep=\"\\t\")\n",
    "print(f\"Loaded imputed Meta File of {len(df_meta)} iids\")\n",
    "\n",
    "dfp = pd.read_csv(\"/n/groups/reich/hringbauer/git/punic_aDNA/data/tmp.Visi_ID_60ok.tsv\", sep=\"\\t\") \n",
    "dfp[\"Master ID\"] = dfp[\"iid\"].str.split(\".\").str[0]\n",
    "print(f\"Loaded Visigoth table of {len(dfp)} iids to upload.\")\n",
    "\n",
    "### Intersect\n",
    "idx = df_meta[\"Master ID\"].isin(dfp[\"Master ID\"])\n",
    "print(f\"Found {np.sum(idx)}/{len(dfp)} iids with matching Visigoth master id\")\n",
    "\n",
    "### Keep only the highest maxGP\n",
    "df_upload = df_meta[idx].sort_values(by=\"frac_gp\", ascending=False)\n",
    "idx = df_upload[\"Master ID\"].duplicated()\n",
    "df_upload=df_upload[~idx].reset_index(drop=True)\n",
    "print(f\"Kept {np.sum(~idx)}/{len(idx)} unique Master IDs.\")\n",
    "\n",
    "iids = df_upload[\"iid\"].values\n",
    "iids_all = \",\".join(iids)"
   ]
  },
  {
   "cell_type": "markdown",
   "id": "624aed4c-4e97-4d9f-b534-6e810ce30e89",
   "metadata": {},
   "source": [
    "## 2b) Extract first all IIDs into one subset imputed VCF\n",
    "Takes about 15-30min per long Chromosome"
   ]
  },
  {
   "cell_type": "code",
   "execution_count": null,
   "id": "9f4c4af7-3343-4457-957e-a0a6699c5304",
   "metadata": {},
   "outputs": [
    {
     "name": "stdout",
     "output_type": "stream",
     "text": [
      "Running Chr.: 1\n",
      "Running Chr.: 2\n",
      "Running Chr.: 3\n",
      "Running Chr.: 4\n"
     ]
    }
   ],
   "source": [
    "for ch in range(1,23):\n",
    "    path_main_imputed_vcf = f\"/n/groups/reich/hringbauer/git/ibd_euro/data/vcf/1240k_v{vrs}/ch{ch}.vcf.gz\"\n",
    "    print(f\"Running Chr.: {ch}\")\n",
    "    out_vcf_path = f\"/n/groups/reich/hringbauer/git/punic_aDNA/output/v{vrs}_imputed/pablo65_ch{ch}.vcf.gz\"\n",
    "    !module load bcftools; bcftools view -s $iids_all -Oz -o  $out_vcf_path $path_main_imputed_vcf\n",
    "    !module load bcftools; bcftools index $out_vcf_path\n",
    "print(f\"Finished!\")"
   ]
  },
  {
   "cell_type": "code",
   "execution_count": 12,
   "id": "fe51aa16-aaa1-401c-afa3-7382dad03dd9",
   "metadata": {},
   "outputs": [],
   "source": [
    "#df_upload.sort_values(by=\"frac_gp\")"
   ]
  },
  {
   "cell_type": "markdown",
   "id": "faa2be13-b6e3-4af3-b3e1-33c48aa693f4",
   "metadata": {},
   "source": [
    "# 2c) Extract Pablo's iids into indivdiual 1240 Files\n",
    "These are alrady formatted in ancIBD main run format"
   ]
  },
  {
   "cell_type": "code",
   "execution_count": null,
   "id": "4599ef69-6914-4dc9-b43b-8e76b6029c8c",
   "metadata": {},
   "outputs": [],
   "source": [
    "for ch in range(1,23):\n",
    "    path_main_imputed_vcf = f\"/n/groups/reich/hringbauer/git/punic_aDNA/output/v{vrs}_imputed/pablo65_ch{ch}.vcf.gz\"\n",
    "    for iid in iids:\n",
    "        print(f\"Running Chr.: {ch}; iid: {iid}\")\n",
    "        out_vcf_path = f\"/n/groups/reich/hringbauer/git/punic_aDNA/output/v{vrs}_imputed_pablo/{iid}/1240k.imputed/{iid}.ch{ch}.vcf.gz\"\n",
    "        out_folder = os.path.dirname(out_vcf_path)\n",
    "        ### Create Output folder if not there\n",
    "        if not os.path.exists(out_folder):\n",
    "            os.makedirs(out_folder)\n",
    "            \n",
    "        !bcftools view -s $iid -Oz -o  $out_vcf_path $path_main_imputed_vcf\n",
    "        !bcftools index $out_vcf_path\n",
    "print(f\"Finished!\")"
   ]
  },
  {
   "cell_type": "markdown",
   "id": "352aa652-4f83-4ab3-a297-11d0730c6e63",
   "metadata": {},
   "source": [
    "### 2d) Zip the folder into one file\n",
    "Run from shell:\n",
    "\n",
    "`zip -r v65.0_imputed_pablo.zip ./v65.0_imputed_pablo/`\n",
    "\n",
    "## Now you can download this file!"
   ]
  },
  {
   "cell_type": "markdown",
   "id": "2f2746c7-346a-4088-9c3a-f4191148f532",
   "metadata": {},
   "source": [
    "# Area51"
   ]
  },
  {
   "cell_type": "markdown",
   "id": "584436b9-e144-4600-8814-4e31a9599c62",
   "metadata": {},
   "source": [
    "## Browse VCF files"
   ]
  },
  {
   "cell_type": "code",
   "execution_count": 5,
   "id": "8fc8f266-b1ea-4fc6-8278-165ced5fd626",
   "metadata": {},
   "outputs": [],
   "source": [
    "vrs = 64.0\n",
    "ch = 3\n",
    "#path_vcf = f\"/n/groups/reich/hringbauer/git/ibd_euro/data/vcf/1240k_v{vrs}/ch{ch}.vcf.gz\"\n",
    "\n",
    "### Intermediate VCF:\n",
    "path_vcf = f\"/n/groups/reich/hringbauer/git/punic_aDNA/output/v65.0_imputed_pablo/I12031.AG/1240k.imputed/I12031.AG.ch3.vcf.gz\""
   ]
  },
  {
   "cell_type": "code",
   "execution_count": 9,
   "id": "80155f5f-60ea-4eb6-8ad5-403e79ede5d1",
   "metadata": {},
   "outputs": [
    {
     "name": "stdout",
     "output_type": "stream",
     "text": [
      "##fileformat=VCFv4.2\n",
      "##FILTER=<ID=PASS,Description=\"All filters passed\">\n",
      "##fileDate=15/07/2024 - 12:33:28\n",
      "##source=GLIMPSE_phase v1.0.0\n",
      "##contig=<ID=3>\n",
      "##INFO=<ID=RAF,Number=A,Type=Float,Description=\"ALT allele frequency in the reference panel\">\n",
      "##INFO=<ID=AF,Number=A,Type=Float,Description=\"ALT allele frequency computed from DS/GP field across target samples\">\n",
      "##INFO=<ID=INFO,Number=A,Type=Float,Description=\"Imputation information or quality score\">\n",
      "##INFO=<ID=BUF,Number=A,Type=Integer,Description=\"Is it a variant site falling within buffer regions? (0=no/1=yes)\">\n",
      "##FORMAT=<ID=GT,Number=1,Type=String,Description=\"Unphased genotypes\">\n",
      "##FORMAT=<ID=DS,Number=1,Type=Float,Description=\"Genotype dosage\">\n",
      "##FORMAT=<ID=GP,Number=3,Type=Float,Description=\"Genotype posteriors\">\n",
      "##FORMAT=<ID=HS,Number=1,Type=Integer,Description=\"Sampled haplotype pairs packed into intergers (max: 15 pairs, see NMAIN header line)\">\n",
      "##NMAIN=10\n",
      "##bcftools_annotateVersion=1.14+htslib-1.14\n",
      "##bcftools_annotateCommand=annotate -a /n/data1/hms/genetics/reich/1000Genomes/ali/WholeGenomeImputation/data/chr3/ERS1790732.SG/phased.bcf -c FORMAT/GT -o /n/data1/hms/genetics/reich/1000Genomes/ali/WholeGenomeImputation/data/chr3/ERS1790732.SG/phased_imputed.bcf -Ob /n/data1/hms/genetics/reich/1000Genomes/ali/WholeGenomeImputation/data/chr3/ERS1790732.SG/ligate.bcf; Date=Mon Jul 15 13:47:55 2024\n",
      "##FORMAT=<ID=PL,Number=G,Type=Integer,Description=\"List of Phred-scaled genotype likelihoods\">\n",
      "##FORMAT=<ID=AD,Number=R,Type=Integer,Description=\"Allelic depths (high-quality bases)\">\n",
      "##bcftools_annotateCommand=annotate -a /n/data1/hms/genetics/reich/1000Genomes/ali/WholeGenomeImputation/data/chr3/ERS1790732.SG/annotation.bcf -c ^FORMAT/GT -o /n/data1/hms/genetics/reich/1000Genomes/ali/WholeGenomeImputation/data/chr3/ERS1790732.SG/glimpse_mpileup.bcf -Ob /n/data1/hms/genetics/reich/1000Genomes/ali/WholeGenomeImputation/data/chr3/ERS1790732.SG/phased_imputed.bcf; Date=Mon Jul 15 13:48:14 2024\n",
      "##bcftools_mergeVersion=1.21+htslib-1.21\n",
      "##bcftools_mergeCommand=merge -l /n/data1/hms/genetics/reich/1000Genomes/ali/WholeGenomeImputation/merged/v65.0/chr3/chr3_chunk0_bcf_list.txt -o /n/data1/hms/genetics/reich/1000Genomes/ali/WholeGenomeImputation/merged/v65.0/chr3/chr3_chunk0.bcf -Ob --threads 1; Date=Sun Jul 27 00:09:30 2025\n",
      "##bcftools_mergeCommand=merge -l /n/data1/hms/genetics/reich/1000Genomes/ali/WholeGenomeImputation/merged/v65.0/chr3/chr3_all_chunks_bcf_list.txt -o /n/data1/hms/genetics/reich/1000Genomes/ali/WholeGenomeImputation/merged/v65.0/chr3/chr3_all_chunks.bcf -Ob; Date=Sun Jul 27 12:04:00 2025\n",
      "##bcftools_viewVersion=1.21+htslib-1.21\n",
      "##bcftools_viewCommand=view -T /n/groups/reich/datasets/1kg/snps_1kg_1240k/chr3.1kg_and_1240k.bed -m2 -M2 -v snps -Ob -o /n/data1/hms/genetics/reich/1000Genomes/ali/WholeGenomeImputation/imputed_r2/v65.0/1240k/chr3.bcf /n/data1/hms/genetics/reich/1000Genomes/ali/WholeGenomeImputation/imputed_r2/v65.0/chr3.bcf; Date=Thu Jul 31 09:08:29 2025\n",
      "##bcftools_viewCommand=view -Oz -o /n/groups/reich/hringbauer/git/ibd_euro/data/vcf/1240k_v65.0/ch3.vcf.gz -T /n/groups/reich/hringbauer/git/ibd_euro/data/markers_1240k/snps_bcftools_ch3.csv -M2 -v snps /n/data1/hms/genetics/reich/1000Genomes/ali/WholeGenomeImputation/imputed_r2/v65.0/1240k/chr3.bcf; Date=Mon Aug  4 04:30:31 2025\n",
      "##INFO=<ID=AC,Number=A,Type=Integer,Description=\"Allele count in genotypes\">\n",
      "##INFO=<ID=AN,Number=1,Type=Integer,Description=\"Total number of alleles in called genotypes\">\n",
      "##bcftools_viewCommand=view -s I30586.TW,I35949.TW,I35947.TW,I30590.TW,I30591.TW,I30599.TW,I30598.TW,I30589.TW,I30587.TW,I30592.TW,I37206.TW,I30597.TW,I35899.TW,I35946.TW,I37254.TW,I35944.TW,I29575.TW,I37209.TW,I37257.TW,I37250.TW,I35945.TW,I37208.TW,I19661.AG,I37255.TW,I23762.AG,I35806.TW,I35803.TW,I19673.AG,I37253.TW,I37256.TW,I23772.AG,I37207.TW,I7499.AG,I37210.TW,I36196.TW,I10866.AG,I36199.TW,I24953.AG,I23763.AG,I27078.AG,I19665.AG,I35948.TW,I3576.AG,I35804.TW,I19675.AG,I19666.AG,I3982.AG,I32157.TW,I35942.TW,I30930.TW,I28354.AG,I23768.AG,I19663.AG,I3585.AG,I19659.AG,I19670.AG,I30932.TW,I19897.AG.TW,I19796.AG,I29525.TW,I19667.AG,I12031.AG,I12647.AG,I20394_d.AG,I3808.AG -Oz -o /n/groups/reich/hringbauer/git/punic_aDNA/output/v65.0_imputed/pablo65_ch3.vcf.gz /n/groups/reich/hringbauer/git/ibd_euro/data/vcf/1240k_v65.0/ch3.vcf.gz; Date=Fri Aug  8 07:01:16 2025\n",
      "##bcftools_viewCommand=view -s I12031.AG -Oz -o /n/groups/reich/hringbauer/git/punic_aDNA/output/v65.0_imputed_pablo/I12031.AG/1240k.imputed/I12031.AG.ch3.vcf.gz /n/groups/reich/hringbauer/git/punic_aDNA/output/v65.0_imputed/pablo65_ch3.vcf.gz; Date=Sun Aug 10 11:34:58 2025\n",
      "##bcftools_viewCommand=view /n/groups/reich/hringbauer/git/punic_aDNA/output/v65.0_imputed_pablo/I12031.AG/1240k.imputed/I12031.AG.ch3.vcf.gz; Date=Sun Aug 10 13:20:50 2025\n",
      "#CHROM\tPOS\tID\tREF\tALT\tQUAL\tFILTER\tINFO\tFORMAT\tI12031.AG\n",
      "3\t66894\t.\tG\tA\t.\t.\tRAF=0.214856;AF=0.499693;INFO=0.999;AC=0;AN=2\tGT:DS:GP:HS:PL:AD\t0|0:0:1,0,0:0:0,6,72:2,0\n",
      "3\t82010\t.\tA\tG\t.\t.\tRAF=0.124201;AF=0.5;INFO=1;AC=1;AN=2\tGT:DS:GP:HS:PL:AD\t0|1:1:0,1,0:415062:79,0,24:1,3\n",
      "3\t95973\t.\tC\tT\t.\t.\tRAF=0.854233;AF=0.00452503;INFO=0;AC=2;AN=2\tGT:DS:GP:HS:PL:AD\t1|1:1.998:0,0.002,0.998:1048575:.:.\n",
      "3\t104972\t.\tA\tG\t.\t.\tRAF=0.511781;AF=0.500001;INFO=1;AC=1;AN=2\tGT:DS:GP:HS:PL:AD\t0|1:1.001:0,0.999,0.001:415062:.:.\n",
      "3\t105365\t.\tT\tC\t.\t.\tRAF=0.453874;AF=0.5;INFO=1;AC=1;AN=2\tGT:DS:GP:HS:PL:AD\t0|1:1.001:0,0.999,0.001:415062:.:.\n",
      "3\t107626\t.\tA\tC\t.\t.\tRAF=0.0766773;AF=1.19898e-05;INFO=0;AC=0;AN=2\tGT:DS:GP:HS:PL:AD\t0|0:0:1,0,0:0:0,3,36:1,0\n",
      "3\t108226\t.\tA\tG\t.\t.\tRAF=0.215256;AF=1.33267e-05;INFO=0;AC=0;AN=2\tGT:DS:GP:HS:PL:AD\t0|0:0:1,0,0:0:0,12,131:4,0\n",
      "3\t108804\t.\tG\tA\t.\t.\tRAF=0.393171;AF=0.00148247;INFO=0.001;AC=1;AN=2\tGT:DS:GP:HS:PL:AD\t1|0:0.998:0.002,0.998,0:633513:.:.\n",
      "3\t108993\t.\tA\tG\t.\t.\tRAF=0.307708;AF=6.49303e-06;INFO=0;AC=0;AN=2\tGT:DS:GP:HS:PL:AD\t0|0:0.001:0.999,0.001,0:0:0,6,72:2,0\n",
      "3\t114133\t.\tT\tC\t.\t.\tRAF=0.353235;AF=0.495943;INFO=0.984;AC=1;AN=2\tGT:DS:GP:HS:PL:AD\t1|0:0.999:0.001,0.998,0:633513:.:.\n",
      "3\t115040\t.\tG\tA\t.\t.\tRAF=0.147364;AF=0.499538;INFO=0.998;AC=0;AN=2\tGT:DS:GP:HS:PL:AD\t0|0:0:1,0,0:0:0,3,36:1,0\n",
      "3\t117152\t.\tC\tA\t.\t.\tRAF=0.374601;AF=3.19671e-05;INFO=0;AC=1;AN=2\tGT:DS:GP:HS:PL:AD\t1|0:1:0,1,0:633513:0,3,36:1,0\n",
      "3\t118567\t.\tC\tA\t.\t.\tRAF=0.00519169;AF=5.0279e-05;INFO=0;AC=0;AN=2\tGT:DS:GP:HS:PL:AD\t0|0:0:1,0,0:0:.:.\n",
      "3\t119892\t.\tG\tA\t.\t.\tRAF=0.552516;AF=0.5;INFO=1;AC=1;AN=2\tGT:DS:GP:HS:PL:AD\t1|0:1:0,1,0:633513:36,3,0:0,1\n",
      "3\t120321\t.\tG\tA\t.\t.\tRAF=0.57488;AF=0.000242116;INFO=0;AC=2;AN=2\tGT:DS:GP:HS:PL:AD\t1|1:2:0,0,1:1048575:72,6,0:0,2\n",
      "3\t121226\t.\tC\tT\t.\t.\tRAF=0.334265;AF=0.000191733;INFO=0;AC=1;AN=2\tGT:DS:GP:HS:PL:AD\t1|0:1:0,1,0:633513:.:.\n",
      "3\t121958\t.\tG\tA\t.\t.\tRAF=0.000399361;AF=0.000100095;INFO=0;AC=0;AN=2\tGT:DS:GP:HS:PL:AD\t0|0:0:1,0,0:0:.:.\n",
      "3\t125808\t.\tA\tG\t.\t.\tRAF=0.271965;AF=0.000104787;INFO=0;AC=1;AN=2\tGT:DS:GP:HS:PL:AD\t0|1:1.001:0,0.999,0.001:415062:.:.\n",
      "3\t126158\t.\tC\tA\t.\t.\tRAF=0.0515176;AF=3.21688e-06;INFO=0;AC=0;AN=2\tGT:DS:GP:HS:PL:AD\t0|0:0:1,0,0:0:0,9,90:3,0\n",
      "[main_vcfview] Error: cannot write to (null)\n"
     ]
    }
   ],
   "source": [
    "!bcftools view $path_vcf | head -50"
   ]
  },
  {
   "cell_type": "code",
   "execution_count": 2,
   "id": "00f9e14a-522a-472b-9f67-58ae0c4a81fb",
   "metadata": {},
   "outputs": [
    {
     "name": "stdout",
     "output_type": "stream",
     "text": [
      "77345\n"
     ]
    }
   ],
   "source": [
    "### Should be 88407 variantsb\n",
    "!bcftools query -f '%POS\\n' $path_vcf | wc -l "
   ]
  },
  {
   "cell_type": "code",
   "execution_count": 4,
   "id": "8b08ddf5-1b91-4b4e-b2dd-7e6b3380f750",
   "metadata": {},
   "outputs": [
    {
     "name": "stdout",
     "output_type": "stream",
     "text": [
      "I12031.AG\n"
     ]
    }
   ],
   "source": [
    "### Gives number of individuals\n",
    "!bcftools query -l $path_vcf #| wc -l # 19260"
   ]
  },
  {
   "cell_type": "code",
   "execution_count": null,
   "id": "7e255417-cd62-430d-ad3f-761a613626d8",
   "metadata": {},
   "outputs": [],
   "source": []
  }
 ],
 "metadata": {
  "kernelspec": {
   "display_name": "Python 3 (ipykernel)",
   "language": "python",
   "name": "python3"
  },
  "language_info": {
   "codemirror_mode": {
    "name": "ipython",
    "version": 3
   },
   "file_extension": ".py",
   "mimetype": "text/x-python",
   "name": "python",
   "nbconvert_exporter": "python",
   "pygments_lexer": "ipython3",
   "version": "3.13.1"
  }
 },
 "nbformat": 4,
 "nbformat_minor": 5
}
