{
 "cells": [
  {
   "cell_type": "code",
   "execution_count": 1,
   "id": "0265cab1-f263-4c90-9dea-c8b00a55af65",
   "metadata": {},
   "outputs": [
    {
     "name": "stdout",
     "output_type": "stream",
     "text": [
      "compute-a-17-102.o2.rc.hms.harvard.edu\n",
      "HSM Computational partition detected.\n",
      "/n/groups/reich/hringbauer/git/punic_aDNA\n",
      "CPU Count: 32\n",
      "3.8.12 (default, Sep 13 2021, 17:05:27) \n",
      "[GCC 9.2.0]\n"
     ]
    }
   ],
   "source": [
    "import numpy as np\n",
    "import os  # For Saving to Folder\n",
    "import pandas as pd\n",
    "import socket\n",
    "import os as os\n",
    "import sys as sys\n",
    "import multiprocessing as mp\n",
    "import itertools as it\n",
    "\n",
    "socket_name = socket.gethostname()\n",
    "print(socket_name)\n",
    "\n",
    "if socket_name.startswith(\"compute-\"):\n",
    "    print(\"HSM Computational partition detected.\")\n",
    "    path = \"/n/groups/reich/hringbauer/git/punic_aDNA/\"  # The Path on Midway Cluster\n",
    "else:\n",
    "    raise RuntimeWarning(\"Not compatible machine. Check!!\")\n",
    "\n",
    "os.chdir(path)  # Set the right Path (in line with Atom default)\n",
    "# Show the current working directory. Should be HAPSBURG/Notebooks/ParallelRuns\n",
    "print(os.getcwd())\n",
    "print(f\"CPU Count: {mp.cpu_count()}\")\n",
    "print(sys.version)"
   ]
  },
  {
   "cell_type": "markdown",
   "id": "3fa7e425-4ee3-4619-8b8b-4f67cbc11ac9",
   "metadata": {},
   "source": [
    "# 1) Load Table of Genomes"
   ]
  },
  {
   "cell_type": "code",
   "execution_count": 90,
   "id": "9590dd24-7f28-4f9c-b0b9-c2a15a0087c3",
   "metadata": {},
   "outputs": [],
   "source": [
    "def check_paths_exist(path_list):\n",
    "    \"\"\"\"Check whether paths exist.\n",
    "    Print nont exisiting ones\"\"\"\n",
    "    for p in path_list:\n",
    "        if not os.path.exists(p):\n",
    "            print(p)"
   ]
  },
  {
   "cell_type": "code",
   "execution_count": 70,
   "id": "0603fbf7-10eb-4da3-b2d1-f59b1cb7b0ef",
   "metadata": {},
   "outputs": [
    {
     "name": "stdout",
     "output_type": "stream",
     "text": [
      "Loaded table of 210 iids to upload.\n",
      "Loaded meta table of 48014 iids to upload.\n",
      "Found all Target Genetic IDs in Meta Table\n"
     ]
    }
   ],
   "source": [
    "df = pd.read_csv(\"/n/groups/reich/hringbauer/git/punic_aDNA/data/final_new_genomes210.v56.3.tsv\", sep=\"\\t\")\n",
    "print(f\"Loaded table of {len(df)} iids to upload.\")\n",
    "\n",
    "### Load Meta File\n",
    "anno_path = \"/n/groups/reich/DAVID/V56/V56.3/v56.3_HO_all.anno\"\n",
    "df_meta = pd.read_csv(anno_path, sep='\\t', low_memory=False)\n",
    "print(f\"Loaded meta table of {len(df_meta)} iids to upload.\")\n",
    "\n",
    "### Find Genetic IDs in meta file that are in target\n",
    "df1 = df_meta[df_meta[\"Genetic ID\"].isin(df[\"Genetic ID\"])]\n",
    "assert(len(df1)==len(df))\n",
    "print(\"Found all Target Genetic IDs in Meta Table\")\n",
    "\n",
    "## Print Genetic IDs not matchable to meta file\n",
    "#df[~df[\"Genetic ID\"].isin(df_meta[\"Genetic ID\"])] "
   ]
  },
  {
   "cell_type": "code",
   "execution_count": 107,
   "id": "ceaa9356-1570-40b4-9c4b-2171eadddc78",
   "metadata": {},
   "outputs": [],
   "source": [
    "df1_paths = df1[[\"Genetic ID\", \"Master ID\", \"Data mtDNA bam\", \"Data mtDNA fasta\", \"Data autosomal bam\"]].copy()\n",
    "df_missing_mtDNA = df1_paths[df1_paths[\"Data mtDNA bam\"]==\"..\"]"
   ]
  },
  {
   "cell_type": "code",
   "execution_count": 84,
   "id": "b180cbf8-5532-4f1c-a8ac-9b176aa9a06b",
   "metadata": {},
   "outputs": [],
   "source": [
    "\"Genetic ID\", \"Lat.\", \"Long.\", \"Political Entity\""
   ]
  },
  {
   "cell_type": "code",
   "execution_count": null,
   "id": "32c6f8bf-b7cc-4ec8-9ed2-7ecfc295959a",
   "metadata": {},
   "outputs": [],
   "source": [
    "for c in df1.columns:\n",
    "    print(c)"
   ]
  },
  {
   "cell_type": "code",
   "execution_count": 92,
   "id": "c1cf9009-3f13-43b9-91e5-72dfdb2ef85d",
   "metadata": {},
   "outputs": [],
   "source": [
    "check_paths_exist(df1_paths[\"Data autosomal bam\"])\n",
    "check_paths_exist(df1_paths[\"Data mtDNA bam\"])"
   ]
  },
  {
   "cell_type": "code",
   "execution_count": null,
   "id": "4c2578c0-fdfb-4a75-8a08-cf549d8f9b55",
   "metadata": {},
   "outputs": [],
   "source": [
    "df1_paths[\"Data mtDNA bam\"].values"
   ]
  },
  {
   "cell_type": "markdown",
   "id": "cc805176-2ada-49d2-9121-0d7de39d284a",
   "metadata": {},
   "source": [
    "### Optional: Save paths for IT team review"
   ]
  },
  {
   "cell_type": "code",
   "execution_count": 101,
   "id": "54f7bdb1-fd80-4279-a55b-bd10dcfe0bd7",
   "metadata": {},
   "outputs": [],
   "source": [
    "df1_paths.to_csv(\"/n/groups/reich/hringbauer/git/punic_aDNA/output/share/path_bams.tsv\", sep=\"\\t\", index=False)\n",
    "df_missing_mtDNA.to_csv(\"/n/groups/reich/hringbauer/git/punic_aDNA/output/share/path_bams_missing_mtDNA_path.tsv\", sep=\"\\t\", index=False)"
   ]
  },
  {
   "cell_type": "code",
   "execution_count": 100,
   "id": "7dcc0fa4-7da3-49bc-b5ba-35d3169ab72c",
   "metadata": {},
   "outputs": [
    {
     "data": {
      "text/plain": [
       "37"
      ]
     },
     "execution_count": 100,
     "metadata": {},
     "output_type": "execute_result"
    }
   ],
   "source": [
    "len(df_missing_mtDNA)"
   ]
  },
  {
   "cell_type": "markdown",
   "id": "2b285243-e763-4b76-b11b-999db262590a",
   "metadata": {},
   "source": [
    "# 2) Extract Relevant Entries for ENA upload"
   ]
  },
  {
   "cell_type": "code",
   "execution_count": 108,
   "id": "f3f38dc5-31c2-4f11-8689-34dcfb74f4ee",
   "metadata": {},
   "outputs": [],
   "source": [
    "dfs = df1[[\"Genetic ID\", \"Master ID\", \"Group ID\", \"Locality\", \"Political Entity\", \"Lat.\", \"Long.\"]].copy()"
   ]
  },
  {
   "cell_type": "code",
   "execution_count": 110,
   "id": "1fefb87f-9867-45f3-b4bf-19704c943ba2",
   "metadata": {},
   "outputs": [],
   "source": [
    "dfs.to_csv(\"/n/groups/reich/hringbauer/git/punic_aDNA/output/release/sample_list_punic.tsv\", sep=\"\\t\", index=False)"
   ]
  },
  {
   "cell_type": "markdown",
   "id": "284e4691-3f1a-4304-8854-b3aeaf7e6ba8",
   "metadata": {},
   "source": [
    "## 2a) Prepare Sample tsv"
   ]
  },
  {
   "cell_type": "markdown",
   "id": "d45be2d1-11a7-4866-ba23-cb990cf4e26e",
   "metadata": {},
   "source": [
    "## 2b) Bam Paths"
   ]
  },
  {
   "cell_type": "code",
   "execution_count": 105,
   "id": "3fac1c95-7421-401b-a2a9-25f2b3b6bc8b",
   "metadata": {},
   "outputs": [
    {
     "name": "stdout",
     "output_type": "stream",
     "text": [
      "Index\n",
      "Genetic ID\n",
      "Master ID\n",
      "Skeletal code\n",
      "Skeletal element\n",
      "Published (0=no, 1=yes)\n",
      "Year data from this individual was first published [for a present-day individuals we give the data of the data reported here; missing GreenScience 2010 (Vi33.15, Vi33.26), Olalde2018 (I2657), RasmussenNature2010 (Australian)]\n",
      "Publication abbreviation\n",
      "doi for publication of this representation of the data\n",
      "Link to the most permanent repository hosting these data\n",
      "Representative contact\n",
      "Method for Determining Date; unless otherwise specified, calibrations use 95.4% intervals from OxCal v4.4.2 Bronk Ramsey (2009); r5; Atmospheric data from Reimer et al (2020)\n",
      "Date mean in BP in years before 1950 CE [OxCal mu for a direct radiocarbon date, and average of range for a contextual date]\n",
      "Date standard deviation in BP [OxCal sigma for a direct radiocarbon date, and standard deviation of the uniform distribution between the two bounds for a contextual date]\n",
      "Full Date One of two formats. (Format 1) 95.4% CI calibrated radiocarbon age (Conventional Radiocarbon Age BP, Lab number) e.g. 2624-2350 calBCE (3990±40 BP, Ua-35016). (Format 2) Archaeological context range, e.g. 2500-1700 BCE\n",
      "Age at death, Morphological sex from physical anthropology\n",
      "Group ID\n",
      "Locality\n",
      "Political Entity\n",
      "Lat.\n",
      "Long.\n",
      "Restrictions (0=none; 1=Basic signed letter; 2=Restrictive signed letter affirmation; 2a=Restrictive signed letteraffirmation; 3=Bolnick signed letter; 4=Never release; 5=Disease patient; 6=Basic signed letter but drafts should be circulated to Papua New Guinea Medical Research Advisory Group in advance of publication; 7=Restrictive signed letter affirmatino implemented either through EGA or Dataverse with log-access for paper authors\n",
      "Pulldown Strategy\n",
      "Data source\n",
      "No. Libraries\n",
      "Data mtDNA bam\n",
      "Data mtDNA fasta\n",
      "Data original pulldown logfile location\n",
      "Data repulldown logfile location\n",
      "Data pulldown sample ID\n",
      "Data autosomal bam\n",
      "Data autosomal readgroups or hetfa or ranfa\n",
      "Mean coverage on 1.15M autosomal targets (if no off-target entry not up-to-date)\n",
      "Mean coverage on non-targeted autosomal SNPs - not yet computed if \"..\" and bam restricted to on-target SNPs if \"0\"\n",
      "SNPs hit on autosomal targets (Computed at pulldown for non-padded samples)\n",
      "SNPs hit on autosomal targets (Computed using easystats on 3.2M snpset)\n",
      "SNPs hit on autosomal targets (Computed using easystats on 1240k snpset)\n",
      "SNPs hit on autosomal targets (Computed using easystats on HO snpset)\n",
      "Mean length of shotgun sequences (merged data)\n",
      "Molecular Sex\n",
      "Family ID and position within family\n",
      "Sum total of ROH segments >4 cM\n",
      "Sum total of ROH segments >20cM\n",
      "Y haplogroup in terminal mutation notation\n",
      "Y haplogroup  in ISOGG v15.73 notation\n",
      "mtDNA coverage (merged data)\n",
      "mtDNA haplogroup if >2x or published\n",
      "mtDNA match to consensus if >2x (merged data)\n",
      "Damage rate in first nucleotide on sequences overlapping 1240k targets (merged data)\n",
      "Sex ratio [Y/(Y+X) counts] (merged data)\n",
      "Xcontam ANGSD MOM 95% CI truncated at 0 (only if male and >=200 SNPs)\n",
      "Library type (minus=no.damage.correction, half=damage.retained.at.last.position, plus=damage.fully.corrected, ds=double.stranded.library.preparation, ss=single.stranded.library.preparation)\n",
      "Libraries\n",
      "endogenous by library (computed on shotgun data)\n",
      "ASSESSMENT\n",
      "ASSESSMENT WARNINGS: Xcontam interval is listed if lower bound is >0.005, \"QUESTIONABLE\" if lower bound is 0.01-0.02, \"QUESTIONABLE_CRITICAL\" or \"FAIL\" if lower bound is >0.02 | mtcontam confidence interval is listed if coverage >2 and upper bound is <0.98, \"QUESTIONABLE\" if upper bound is 0.9-0.95; \"QUESTIONABLE_CRITICAL\" if upper bound is <0.9, QUESTIONABLE status gets overriden by ANGSD if upper bound of contamination estimate is <0.01 | damage for ds.half is \"QUESTIONABLE_CRITICAL/FAIL\" if <0.01, and recorded but passed if 0.01-0.03; libraries with untreated last base are \"QUESTIONABLE_CRITICAL\" or \"FAIL\" if <0.01, \"QUESTIONABLE\" if 0.01-0.03, and recorded but passed if 0.03-0.1 | sexratio is listed if in the range [0.02,0.03) or (0.32,0.33], QUESTIONABLE if [0.03,0.1) or (0.30,0.32]; QUESTIONABLE_CRITICAL/FAIL if [0.1,0.3])\n"
     ]
    }
   ],
   "source": [
    "for c in df1.columns:\n",
    "    print(c)"
   ]
  },
  {
   "cell_type": "code",
   "execution_count": 40,
   "id": "e2dcf571-b5af-468c-a66d-55ab7cc0026d",
   "metadata": {},
   "outputs": [
    {
     "data": {
      "text/html": [
       "<div>\n",
       "<style scoped>\n",
       "    .dataframe tbody tr th:only-of-type {\n",
       "        vertical-align: middle;\n",
       "    }\n",
       "\n",
       "    .dataframe tbody tr th {\n",
       "        vertical-align: top;\n",
       "    }\n",
       "\n",
       "    .dataframe thead th {\n",
       "        text-align: right;\n",
       "    }\n",
       "</style>\n",
       "<table border=\"1\" class=\"dataframe\">\n",
       "  <thead>\n",
       "    <tr style=\"text-align: right;\">\n",
       "      <th></th>\n",
       "      <th>Genetic ID</th>\n",
       "      <th>Data mtDNA ID</th>\n",
       "      <th>Data mtDNA fasta</th>\n",
       "      <th>Data autosomal ID</th>\n",
       "    </tr>\n",
       "  </thead>\n",
       "  <tbody>\n",
       "    <tr>\n",
       "      <th>12528</th>\n",
       "      <td>I12433</td>\n",
       "      <td>..</td>\n",
       "      <td>..</td>\n",
       "      <td>/n/groups/reich/matt/pipeline/released_librari...</td>\n",
       "    </tr>\n",
       "    <tr>\n",
       "      <th>23246</th>\n",
       "      <td>I11788</td>\n",
       "      <td>..</td>\n",
       "      <td>..</td>\n",
       "      <td>/n/groups/reich/matt/pipeline/released_librari...</td>\n",
       "    </tr>\n",
       "    <tr>\n",
       "      <th>23247</th>\n",
       "      <td>I11794</td>\n",
       "      <td>..</td>\n",
       "      <td>..</td>\n",
       "      <td>/n/groups/reich/matt/pipeline/sample_merge/I11...</td>\n",
       "    </tr>\n",
       "    <tr>\n",
       "      <th>23248</th>\n",
       "      <td>I11804</td>\n",
       "      <td>/n/groups/reich/matt/pipeline/sample_merge/I11...</td>\n",
       "      <td>..</td>\n",
       "      <td>/n/groups/reich/matt/pipeline/sample_merge/I11...</td>\n",
       "    </tr>\n",
       "    <tr>\n",
       "      <th>23249</th>\n",
       "      <td>I11805</td>\n",
       "      <td>/n/groups/reich/matt/pipeline/sample_merge/I11...</td>\n",
       "      <td>..</td>\n",
       "      <td>/n/groups/reich/matt/pipeline/sample_merge/I11...</td>\n",
       "    </tr>\n",
       "    <tr>\n",
       "      <th>...</th>\n",
       "      <td>...</td>\n",
       "      <td>...</td>\n",
       "      <td>...</td>\n",
       "      <td>...</td>\n",
       "    </tr>\n",
       "    <tr>\n",
       "      <th>45798</th>\n",
       "      <td>I35329</td>\n",
       "      <td>/n/groups/reich/matt/pipeline/released_librari...</td>\n",
       "      <td>..</td>\n",
       "      <td>/n/groups/reich/matt/pipeline/released_librari...</td>\n",
       "    </tr>\n",
       "    <tr>\n",
       "      <th>45805</th>\n",
       "      <td>I35338</td>\n",
       "      <td>/n/groups/reich/matt/pipeline/released_librari...</td>\n",
       "      <td>..</td>\n",
       "      <td>/n/groups/reich/matt/pipeline/released_librari...</td>\n",
       "    </tr>\n",
       "    <tr>\n",
       "      <th>45810</th>\n",
       "      <td>I35342</td>\n",
       "      <td>/n/groups/reich/matt/pipeline/released_librari...</td>\n",
       "      <td>..</td>\n",
       "      <td>/n/groups/reich/matt/pipeline/released_librari...</td>\n",
       "    </tr>\n",
       "    <tr>\n",
       "      <th>46334</th>\n",
       "      <td>I7258_v54.1_addback</td>\n",
       "      <td>/n/data1/hms/genetics/reich/1000Genomes/amh_sa...</td>\n",
       "      <td>..</td>\n",
       "      <td>/n/data1/hms/genetics/reich/1000Genomes/amh_sa...</td>\n",
       "    </tr>\n",
       "    <tr>\n",
       "      <th>46335</th>\n",
       "      <td>I7267_v54.1_addback</td>\n",
       "      <td>/n/data1/hms/genetics/reich/1000Genomes/amh_sa...</td>\n",
       "      <td>..</td>\n",
       "      <td>/n/data1/hms/genetics/reich/1000Genomes/amh_sa...</td>\n",
       "    </tr>\n",
       "  </tbody>\n",
       "</table>\n",
       "<p>210 rows × 4 columns</p>\n",
       "</div>"
      ],
      "text/plain": [
       "                Genetic ID                                      Data mtDNA ID  \\\n",
       "12528               I12433                                                 ..   \n",
       "23246               I11788                                                 ..   \n",
       "23247               I11794                                                 ..   \n",
       "23248               I11804  /n/groups/reich/matt/pipeline/sample_merge/I11...   \n",
       "23249               I11805  /n/groups/reich/matt/pipeline/sample_merge/I11...   \n",
       "...                    ...                                                ...   \n",
       "45798               I35329  /n/groups/reich/matt/pipeline/released_librari...   \n",
       "45805               I35338  /n/groups/reich/matt/pipeline/released_librari...   \n",
       "45810               I35342  /n/groups/reich/matt/pipeline/released_librari...   \n",
       "46334  I7258_v54.1_addback  /n/data1/hms/genetics/reich/1000Genomes/amh_sa...   \n",
       "46335  I7267_v54.1_addback  /n/data1/hms/genetics/reich/1000Genomes/amh_sa...   \n",
       "\n",
       "      Data mtDNA fasta                                  Data autosomal ID  \n",
       "12528               ..  /n/groups/reich/matt/pipeline/released_librari...  \n",
       "23246               ..  /n/groups/reich/matt/pipeline/released_librari...  \n",
       "23247               ..  /n/groups/reich/matt/pipeline/sample_merge/I11...  \n",
       "23248               ..  /n/groups/reich/matt/pipeline/sample_merge/I11...  \n",
       "23249               ..  /n/groups/reich/matt/pipeline/sample_merge/I11...  \n",
       "...                ...                                                ...  \n",
       "45798               ..  /n/groups/reich/matt/pipeline/released_librari...  \n",
       "45805               ..  /n/groups/reich/matt/pipeline/released_librari...  \n",
       "45810               ..  /n/groups/reich/matt/pipeline/released_librari...  \n",
       "46334               ..  /n/data1/hms/genetics/reich/1000Genomes/amh_sa...  \n",
       "46335               ..  /n/data1/hms/genetics/reich/1000Genomes/amh_sa...  \n",
       "\n",
       "[210 rows x 4 columns]"
      ]
     },
     "execution_count": 40,
     "metadata": {},
     "output_type": "execute_result"
    }
   ],
   "source": []
  },
  {
   "cell_type": "code",
   "execution_count": null,
   "id": "c88210b7-fafa-46e5-8518-a245ff1719b1",
   "metadata": {},
   "outputs": [],
   "source": [
    "df1[\"Data mtDNA ID\"].values"
   ]
  },
  {
   "cell_type": "code",
   "execution_count": null,
   "id": "bb34c991-6352-46bf-b3e9-ef1ce12dd297",
   "metadata": {},
   "outputs": [],
   "source": [
    "df1[\"Data autosomal ID\"].values"
   ]
  },
  {
   "cell_type": "code",
   "execution_count": 51,
   "id": "551c2792-401d-40c4-8f2e-d5a248b22464",
   "metadata": {},
   "outputs": [
    {
     "data": {
      "text/html": [
       "<div>\n",
       "<style scoped>\n",
       "    .dataframe tbody tr th:only-of-type {\n",
       "        vertical-align: middle;\n",
       "    }\n",
       "\n",
       "    .dataframe tbody tr th {\n",
       "        vertical-align: top;\n",
       "    }\n",
       "\n",
       "    .dataframe thead th {\n",
       "        text-align: right;\n",
       "    }\n",
       "</style>\n",
       "<table border=\"1\" class=\"dataframe\">\n",
       "  <thead>\n",
       "    <tr style=\"text-align: right;\">\n",
       "      <th></th>\n",
       "      <th>Genetic ID</th>\n",
       "      <th>Data mtDNA bam</th>\n",
       "      <th>Data mtDNA fasta</th>\n",
       "      <th>Data autosomal bam</th>\n",
       "    </tr>\n",
       "  </thead>\n",
       "  <tbody>\n",
       "    <tr>\n",
       "      <th>12453</th>\n",
       "      <td>I12433</td>\n",
       "      <td>..</td>\n",
       "      <td>..</td>\n",
       "      <td>/n/groups/reich/matt/pipeline/released_librari...</td>\n",
       "    </tr>\n",
       "    <tr>\n",
       "      <th>22936</th>\n",
       "      <td>I11788</td>\n",
       "      <td>..</td>\n",
       "      <td>..</td>\n",
       "      <td>/n/groups/reich/matt/pipeline/released_librari...</td>\n",
       "    </tr>\n",
       "    <tr>\n",
       "      <th>22937</th>\n",
       "      <td>I11794</td>\n",
       "      <td>..</td>\n",
       "      <td>..</td>\n",
       "      <td>/n/groups/reich/matt/pipeline/sample_merge/I11...</td>\n",
       "    </tr>\n",
       "    <tr>\n",
       "      <th>22938</th>\n",
       "      <td>I11804</td>\n",
       "      <td>/n/groups/reich/matt/pipeline/sample_merge/I11...</td>\n",
       "      <td>..</td>\n",
       "      <td>/n/groups/reich/matt/pipeline/sample_merge/I11...</td>\n",
       "    </tr>\n",
       "    <tr>\n",
       "      <th>22939</th>\n",
       "      <td>I11805</td>\n",
       "      <td>/n/groups/reich/matt/pipeline/sample_merge/I11...</td>\n",
       "      <td>..</td>\n",
       "      <td>/n/groups/reich/matt/pipeline/sample_merge/I11...</td>\n",
       "    </tr>\n",
       "    <tr>\n",
       "      <th>...</th>\n",
       "      <td>...</td>\n",
       "      <td>...</td>\n",
       "      <td>...</td>\n",
       "      <td>...</td>\n",
       "    </tr>\n",
       "    <tr>\n",
       "      <th>44854</th>\n",
       "      <td>I18202</td>\n",
       "      <td>/n/groups/reich/matt/pipeline/sample_merge/I18...</td>\n",
       "      <td>..</td>\n",
       "      <td>/n/groups/reich/matt/pipeline/sample_merge/I18...</td>\n",
       "    </tr>\n",
       "    <tr>\n",
       "      <th>44871</th>\n",
       "      <td>I22284</td>\n",
       "      <td>/n/groups/reich/matt/pipeline/sample_merge/I22...</td>\n",
       "      <td>..</td>\n",
       "      <td>/n/groups/reich/matt/pipeline/sample_merge/I22...</td>\n",
       "    </tr>\n",
       "    <tr>\n",
       "      <th>47380</th>\n",
       "      <td>I30080</td>\n",
       "      <td>/n/groups/reich/matt/pipeline/released_librari...</td>\n",
       "      <td>..</td>\n",
       "      <td>/n/groups/reich/matt/pipeline/released_librari...</td>\n",
       "    </tr>\n",
       "    <tr>\n",
       "      <th>47828</th>\n",
       "      <td>I27613</td>\n",
       "      <td>/n/groups/reich/matt/pipeline/sample_merge/I27...</td>\n",
       "      <td>..</td>\n",
       "      <td>/n/groups/reich/matt/pipeline/sample_merge/I27...</td>\n",
       "    </tr>\n",
       "    <tr>\n",
       "      <th>47936</th>\n",
       "      <td>I24215</td>\n",
       "      <td>/n/groups/reich/matt/pipeline/sample_merge/I24...</td>\n",
       "      <td>..</td>\n",
       "      <td>/n/groups/reich/matt/pipeline/sample_merge/I24...</td>\n",
       "    </tr>\n",
       "  </tbody>\n",
       "</table>\n",
       "<p>202 rows × 4 columns</p>\n",
       "</div>"
      ],
      "text/plain": [
       "      Genetic ID                                     Data mtDNA bam  \\\n",
       "12453     I12433                                                 ..   \n",
       "22936     I11788                                                 ..   \n",
       "22937     I11794                                                 ..   \n",
       "22938     I11804  /n/groups/reich/matt/pipeline/sample_merge/I11...   \n",
       "22939     I11805  /n/groups/reich/matt/pipeline/sample_merge/I11...   \n",
       "...          ...                                                ...   \n",
       "44854     I18202  /n/groups/reich/matt/pipeline/sample_merge/I18...   \n",
       "44871     I22284  /n/groups/reich/matt/pipeline/sample_merge/I22...   \n",
       "47380     I30080  /n/groups/reich/matt/pipeline/released_librari...   \n",
       "47828     I27613  /n/groups/reich/matt/pipeline/sample_merge/I27...   \n",
       "47936     I24215  /n/groups/reich/matt/pipeline/sample_merge/I24...   \n",
       "\n",
       "      Data mtDNA fasta                                 Data autosomal bam  \n",
       "12453               ..  /n/groups/reich/matt/pipeline/released_librari...  \n",
       "22936               ..  /n/groups/reich/matt/pipeline/released_librari...  \n",
       "22937               ..  /n/groups/reich/matt/pipeline/sample_merge/I11...  \n",
       "22938               ..  /n/groups/reich/matt/pipeline/sample_merge/I11...  \n",
       "22939               ..  /n/groups/reich/matt/pipeline/sample_merge/I11...  \n",
       "...                ...                                                ...  \n",
       "44854               ..  /n/groups/reich/matt/pipeline/sample_merge/I18...  \n",
       "44871               ..  /n/groups/reich/matt/pipeline/sample_merge/I22...  \n",
       "47380               ..  /n/groups/reich/matt/pipeline/released_librari...  \n",
       "47828               ..  /n/groups/reich/matt/pipeline/sample_merge/I27...  \n",
       "47936               ..  /n/groups/reich/matt/pipeline/sample_merge/I24...  \n",
       "\n",
       "[202 rows x 4 columns]"
      ]
     },
     "execution_count": 51,
     "metadata": {},
     "output_type": "execute_result"
    }
   ],
   "source": []
  },
  {
   "cell_type": "code",
   "execution_count": null,
   "id": "ddeac529-f5ab-4da5-b0aa-f051fc710e11",
   "metadata": {},
   "outputs": [],
   "source": [
    "df1[\"Data autosomal bam\"].values"
   ]
  },
  {
   "cell_type": "code",
   "execution_count": null,
   "id": "b89955e8-f7dd-4600-bdca-e8d1f94ce7c9",
   "metadata": {},
   "outputs": [],
   "source": [
    "for c in df1.columns:\n",
    "    print(c)"
   ]
  },
  {
   "cell_type": "markdown",
   "id": "29e588cb-c343-46da-a238-fd1c18454670",
   "metadata": {},
   "source": [
    "# Area 51"
   ]
  },
  {
   "cell_type": "markdown",
   "id": "44509e7c-5033-49e1-9a88-59c22727bbfd",
   "metadata": {},
   "source": [
    "## Explore Iosif Tables for ENA upload"
   ]
  },
  {
   "cell_type": "code",
   "execution_count": 5,
   "id": "3042773c-a407-4d1f-9c5a-1823315808fb",
   "metadata": {},
   "outputs": [],
   "source": [
    "path_ibams = \"/n/groups/reich/iosif/SteppeEneolithic/V10a/TOPUBLISH/BAM/IE_BAMs.tsv\"\n",
    "path_isamples = \"/n/groups/reich/iosif/SteppeEneolithic/V10a/TOPUBLISH/BAM/IE_Samples.tsv\""
   ]
  },
  {
   "cell_type": "code",
   "execution_count": 12,
   "id": "6ed395df-19c9-45f2-b3cf-c70779d673d9",
   "metadata": {},
   "outputs": [
    {
     "name": "stdout",
     "output_type": "stream",
     "text": [
      "Loaded table of 708\n"
     ]
    }
   ],
   "source": [
    "dft = pd.read_csv(path_ibams, sep=\"\\t\")\n",
    "print(f\"Loaded table of {len(dft)}\")"
   ]
  },
  {
   "cell_type": "code",
   "execution_count": 10,
   "id": "1b0035bf-6636-4ec4-ad4f-0519959ca2c0",
   "metadata": {},
   "outputs": [
    {
     "name": "stdout",
     "output_type": "stream",
     "text": [
      "Loaded table of 356\n"
     ]
    }
   ],
   "source": [
    "dft2 = pd.read_csv(path_isamples, sep=\"\\t\")\n",
    "print(f\"Loaded table of {len(dft)}\")"
   ]
  },
  {
   "cell_type": "code",
   "execution_count": 104,
   "id": "c410856b-b86b-4710-9fc4-3f303fe3f755",
   "metadata": {},
   "outputs": [
    {
     "data": {
      "text/html": [
       "<div>\n",
       "<style scoped>\n",
       "    .dataframe tbody tr th:only-of-type {\n",
       "        vertical-align: middle;\n",
       "    }\n",
       "\n",
       "    .dataframe tbody tr th {\n",
       "        vertical-align: top;\n",
       "    }\n",
       "\n",
       "    .dataframe thead th {\n",
       "        text-align: right;\n",
       "    }\n",
       "</style>\n",
       "<table border=\"1\" class=\"dataframe\">\n",
       "  <thead>\n",
       "    <tr style=\"text-align: right;\">\n",
       "      <th></th>\n",
       "      <th></th>\n",
       "      <th></th>\n",
       "      <th></th>\n",
       "      <th>Checklist</th>\n",
       "      <th>ERC000011</th>\n",
       "      <th>ENA default sample checklist</th>\n",
       "    </tr>\n",
       "  </thead>\n",
       "  <tbody>\n",
       "    <tr>\n",
       "      <th>tax_id</th>\n",
       "      <th>scientific_name</th>\n",
       "      <th>sample_alias</th>\n",
       "      <th>sample_title</th>\n",
       "      <td>sample_description</td>\n",
       "      <td>collection date</td>\n",
       "      <td>geographic location (country and/or sea)</td>\n",
       "    </tr>\n",
       "    <tr>\n",
       "      <th>#units</th>\n",
       "      <th></th>\n",
       "      <th></th>\n",
       "      <th></th>\n",
       "      <td></td>\n",
       "      <td></td>\n",
       "      <td></td>\n",
       "    </tr>\n",
       "    <tr>\n",
       "      <th rowspan=\"9\" valign=\"top\">9606</th>\n",
       "      <th rowspan=\"9\" valign=\"top\">Homo sapiens</th>\n",
       "      <th>I26224_IE</th>\n",
       "      <th>I26224</th>\n",
       "      <td>Kazakhstan_EBA_Yamnaya_o_1d.rel.I11501; Kumsay...</td>\n",
       "      <td>2024</td>\n",
       "      <td>Kazakhstan</td>\n",
       "    </tr>\n",
       "    <tr>\n",
       "      <th>I26289_IE</th>\n",
       "      <th>I26289</th>\n",
       "      <td>Kazakhstan_EBA_Yamnaya_possible.1d.rel.I26227_...</td>\n",
       "      <td>2024</td>\n",
       "      <td>Kazakhstan</td>\n",
       "    </tr>\n",
       "    <tr>\n",
       "      <th>I26303_IE</th>\n",
       "      <th>I26303</th>\n",
       "      <td>Kazakhstan_Kumsay_EBA_Yamnaya_brother.I26230; ...</td>\n",
       "      <td>2024</td>\n",
       "      <td>Kazakhstan</td>\n",
       "    </tr>\n",
       "    <tr>\n",
       "      <th>...</th>\n",
       "      <th>...</th>\n",
       "      <td>...</td>\n",
       "      <td>...</td>\n",
       "      <td>...</td>\n",
       "    </tr>\n",
       "    <tr>\n",
       "      <th>I4118_IE_new</th>\n",
       "      <th>I4118</th>\n",
       "      <td>SSmed; Olexandria (Kharkiv Oblast, Kupiansk Di...</td>\n",
       "      <td>2024</td>\n",
       "      <td>Ukraine</td>\n",
       "    </tr>\n",
       "    <tr>\n",
       "      <th>I6563_IE_new</th>\n",
       "      <th>I6563</th>\n",
       "      <td>Ukraine_MBA; Olexandria (Kharkiv Oblast, Kupia...</td>\n",
       "      <td>2024</td>\n",
       "      <td>Ukraine</td>\n",
       "    </tr>\n",
       "    <tr>\n",
       "      <th>I5894_IE_new</th>\n",
       "      <th>I5894</th>\n",
       "      <td>SSmed; Оleksandria (Donets Basin, Kharkiv Regi...</td>\n",
       "      <td>2024</td>\n",
       "      <td>Ukraine</td>\n",
       "    </tr>\n",
       "    <tr>\n",
       "      <th>I6558_IE_new</th>\n",
       "      <th>I6558</th>\n",
       "      <td>SSmed; Оleksandria (Donets Basin, Kharkiv Regi...</td>\n",
       "      <td>2024</td>\n",
       "      <td>Ukraine</td>\n",
       "    </tr>\n",
       "    <tr>\n",
       "      <th>I6559_IE_new</th>\n",
       "      <th>I6559</th>\n",
       "      <td>SShi; Оleksandria (Donets Basin, Kharkiv Regio...</td>\n",
       "      <td>2024</td>\n",
       "      <td>Ukraine</td>\n",
       "    </tr>\n",
       "  </tbody>\n",
       "</table>\n",
       "<p>356 rows × 3 columns</p>\n",
       "</div>"
      ],
      "text/plain": [
       "                                                                                          Checklist  \\\n",
       "tax_id scientific_name sample_alias sample_title                                 sample_description   \n",
       "#units                                                                                                \n",
       "9606   Homo sapiens    I26224_IE    I26224        Kazakhstan_EBA_Yamnaya_o_1d.rel.I11501; Kumsay...   \n",
       "                       I26289_IE    I26289        Kazakhstan_EBA_Yamnaya_possible.1d.rel.I26227_...   \n",
       "                       I26303_IE    I26303        Kazakhstan_Kumsay_EBA_Yamnaya_brother.I26230; ...   \n",
       "...                                                                                             ...   \n",
       "                       I4118_IE_new I4118         SSmed; Olexandria (Kharkiv Oblast, Kupiansk Di...   \n",
       "                       I6563_IE_new I6563         Ukraine_MBA; Olexandria (Kharkiv Oblast, Kupia...   \n",
       "                       I5894_IE_new I5894         SSmed; Оleksandria (Donets Basin, Kharkiv Regi...   \n",
       "                       I6558_IE_new I6558         SSmed; Оleksandria (Donets Basin, Kharkiv Regi...   \n",
       "                       I6559_IE_new I6559         SShi; Оleksandria (Donets Basin, Kharkiv Regio...   \n",
       "\n",
       "                                                        ERC000011  \\\n",
       "tax_id scientific_name sample_alias sample_title  collection date   \n",
       "#units                                                              \n",
       "9606   Homo sapiens    I26224_IE    I26224                   2024   \n",
       "                       I26289_IE    I26289                   2024   \n",
       "                       I26303_IE    I26303                   2024   \n",
       "...                                                           ...   \n",
       "                       I4118_IE_new I4118                    2024   \n",
       "                       I6563_IE_new I6563                    2024   \n",
       "                       I5894_IE_new I5894                    2024   \n",
       "                       I6558_IE_new I6558                    2024   \n",
       "                       I6559_IE_new I6559                    2024   \n",
       "\n",
       "                                                              ENA default sample checklist  \n",
       "tax_id scientific_name sample_alias sample_title  geographic location (country and/or sea)  \n",
       "#units                                                                                      \n",
       "9606   Homo sapiens    I26224_IE    I26224                                      Kazakhstan  \n",
       "                       I26289_IE    I26289                                      Kazakhstan  \n",
       "                       I26303_IE    I26303                                      Kazakhstan  \n",
       "...                                                                                    ...  \n",
       "                       I4118_IE_new I4118                                          Ukraine  \n",
       "                       I6563_IE_new I6563                                          Ukraine  \n",
       "                       I5894_IE_new I5894                                          Ukraine  \n",
       "                       I6558_IE_new I6558                                          Ukraine  \n",
       "                       I6559_IE_new I6559                                          Ukraine  \n",
       "\n",
       "[356 rows x 3 columns]"
      ]
     },
     "execution_count": 104,
     "metadata": {},
     "output_type": "execute_result"
    }
   ],
   "source": [
    "dft2"
   ]
  },
  {
   "cell_type": "code",
   "execution_count": 19,
   "id": "368c6495-6b3a-4178-b5a5-542d8343e0cb",
   "metadata": {},
   "outputs": [
    {
     "data": {
      "text/plain": [
       "sample_alias\n",
       "I26224_IE       2\n",
       "I32864_IE       2\n",
       "I6729_IE        2\n",
       "I6728_IE        2\n",
       "I6727_IE        2\n",
       "               ..\n",
       "I6068_IE        2\n",
       "I6066_IE        2\n",
       "I6065_IE        2\n",
       "I6064_IE        2\n",
       "I6559_IE_new    2\n",
       "Name: count, Length: 354, dtype: int64"
      ]
     },
     "execution_count": 19,
     "metadata": {},
     "output_type": "execute_result"
    }
   ],
   "source": [
    "dft[\"sample_alias\"].value_counts()"
   ]
  },
  {
   "cell_type": "code",
   "execution_count": 21,
   "id": "36b2bdb6-0cb5-448d-9c39-f8f374facdfb",
   "metadata": {},
   "outputs": [
    {
     "data": {
      "text/html": [
       "<div>\n",
       "<style scoped>\n",
       "    .dataframe tbody tr th:only-of-type {\n",
       "        vertical-align: middle;\n",
       "    }\n",
       "\n",
       "    .dataframe tbody tr th {\n",
       "        vertical-align: top;\n",
       "    }\n",
       "\n",
       "    .dataframe thead th {\n",
       "        text-align: right;\n",
       "    }\n",
       "</style>\n",
       "<table border=\"1\" class=\"dataframe\">\n",
       "  <thead>\n",
       "    <tr style=\"text-align: right;\">\n",
       "      <th></th>\n",
       "      <th>study</th>\n",
       "      <th>sample_alias</th>\n",
       "      <th>instrument_model</th>\n",
       "      <th>library_name</th>\n",
       "      <th>library_source</th>\n",
       "      <th>library_selection</th>\n",
       "      <th>library_strategy</th>\n",
       "      <th>library_layout</th>\n",
       "      <th>file_name</th>\n",
       "      <th>file_md5</th>\n",
       "    </tr>\n",
       "  </thead>\n",
       "  <tbody>\n",
       "    <tr>\n",
       "      <th>0</th>\n",
       "      <td>PRJEB81467</td>\n",
       "      <td>I26224_IE</td>\n",
       "      <td>Illumina NextSeq 500</td>\n",
       "      <td>I26224_IE</td>\n",
       "      <td>GENOMIC</td>\n",
       "      <td>Hybrid Selection</td>\n",
       "      <td>OTHER</td>\n",
       "      <td>SINGLE</td>\n",
       "      <td>I26224.bam</td>\n",
       "      <td>118b7625e3c9d917bcece0d4687f5708</td>\n",
       "    </tr>\n",
       "    <tr>\n",
       "      <th>354</th>\n",
       "      <td>PRJEB81467</td>\n",
       "      <td>I26224_IE</td>\n",
       "      <td>Illumina NextSeq 500</td>\n",
       "      <td>I26224.MT</td>\n",
       "      <td>GENOMIC</td>\n",
       "      <td>Hybrid Selection</td>\n",
       "      <td>OTHER</td>\n",
       "      <td>SINGLE</td>\n",
       "      <td>I26224.MT.bam</td>\n",
       "      <td>8166e24de5b7673cf666c8c5bd2c5ed5</td>\n",
       "    </tr>\n",
       "  </tbody>\n",
       "</table>\n",
       "</div>"
      ],
      "text/plain": [
       "          study sample_alias      instrument_model library_name  \\\n",
       "0    PRJEB81467    I26224_IE  Illumina NextSeq 500    I26224_IE   \n",
       "354  PRJEB81467    I26224_IE  Illumina NextSeq 500    I26224.MT   \n",
       "\n",
       "    library_source library_selection library_strategy library_layout  \\\n",
       "0          GENOMIC  Hybrid Selection            OTHER         SINGLE   \n",
       "354        GENOMIC  Hybrid Selection            OTHER         SINGLE   \n",
       "\n",
       "         file_name                          file_md5  \n",
       "0       I26224.bam  118b7625e3c9d917bcece0d4687f5708  \n",
       "354  I26224.MT.bam  8166e24de5b7673cf666c8c5bd2c5ed5  "
      ]
     },
     "execution_count": 21,
     "metadata": {},
     "output_type": "execute_result"
    }
   ],
   "source": [
    "dft[dft[\"sample_alias\"]==\"I26224_IE\"]"
   ]
  },
  {
   "cell_type": "code",
   "execution_count": null,
   "id": "4c6ef42b-db4d-457c-920f-6708e2cbd72e",
   "metadata": {},
   "outputs": [],
   "source": []
  }
 ],
 "metadata": {
  "kernelspec": {
   "display_name": "Python 3 (ipykernel)",
   "language": "python",
   "name": "python3"
  },
  "language_info": {
   "codemirror_mode": {
    "name": "ipython",
    "version": 3
   },
   "file_extension": ".py",
   "mimetype": "text/x-python",
   "name": "python",
   "nbconvert_exporter": "python",
   "pygments_lexer": "ipython3",
   "version": "3.8.12"
  }
 },
 "nbformat": 4,
 "nbformat_minor": 5
}
