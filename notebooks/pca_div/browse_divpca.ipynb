{
 "cells": [
  {
   "cell_type": "markdown",
   "metadata": {},
   "source": [
    "# Browse the Diversity PCA \n",
    "Visualize interesting sites"
   ]
  },
  {
   "cell_type": "code",
   "execution_count": 1,
   "metadata": {},
   "outputs": [
    {
     "name": "stdout",
     "output_type": "stream",
     "text": [
      "compute-e-16-233.o2.rc.hms.harvard.edu\n",
      "HSM Computational partition detected.\n",
      "/n/groups/reich/hringbauer/git/punic_aDNA\n",
      "CPU Count: 28\n",
      "3.7.4 (default, Sep 11 2019, 11:24:51) \n",
      "[GCC 6.2.0]\n"
     ]
    }
   ],
   "source": [
    "import numpy as np\n",
    "import os  # For Saving to Folder\n",
    "import pandas as pd\n",
    "import matplotlib.pyplot as plt\n",
    "\n",
    "import socket\n",
    "import os as os\n",
    "import sys as sys\n",
    "import multiprocessing as mp\n",
    "import itertools as it\n",
    "from time import time\n",
    "from scipy.spatial.distance import pdist\n",
    "from matplotlib import gridspec\n",
    "\n",
    "# For Arial Font\n",
    "from matplotlib import rcParams\n",
    "rcParams['font.family'] = 'sans-serif'   # Set the defaul\n",
    "rcParams['font.sans-serif'] = ['Arial']\n",
    "\n",
    "socket_name = socket.gethostname()\n",
    "print(socket_name)\n",
    "\n",
    "if socket_name.startswith(\"compute-\"):\n",
    "    print(\"HSM Computational partition detected.\")\n",
    "    path = \"/n/groups/reich/hringbauer/git/punic_aDNA/\"  # The Path on Midway Cluster\n",
    "else:\n",
    "    raise RuntimeWarning(\"Not compatible machine. Check!!\")\n",
    "\n",
    "os.chdir(path)  # Set the right Path (in line with Atom default)\n",
    "# Show the current working directory. Should be HAPSBURG/Notebooks/ParallelRuns\n",
    "print(os.getcwd())\n",
    "print(f\"CPU Count: {mp.cpu_count()}\")\n",
    "print(sys.version)"
   ]
  },
  {
   "cell_type": "code",
   "execution_count": 3,
   "metadata": {},
   "outputs": [
    {
     "name": "stdout",
     "output_type": "stream",
     "text": [
      "Filtered to 3568 Individuals based on Min SNP: 20000\n",
      "Filtered to 3568 based on duplicates\n",
      "Filtered to 3568 based on manual removals\n",
      "Extracted IIDs of 160 IIDs in Punic Project\n",
      "Merged to 149 Punic IIDs\n",
      "Filtered to 136 actually Punic Samples\n",
      "Filtered general Meta to 2287 ancient, non Punic individuals\n"
     ]
    }
   ],
   "source": [
    "min_snp = 20000\n",
    "#path_pca = \"./output/pca/v54.1var/20230424.varPCA.v54.1.construct_WE_NA_PCA.smYES.outitY.evec.txt\"\n",
    "path_pca = \"./output/pca/v54.1var/20230425.varPCA.v54.1.construct_WE_NA_PCA.smYES.outitY.evec.txt\"\n",
    "path_meta = \"/n/groups/reich/hringbauer/Data/v54.1.anno.csv\"\n",
    "\n",
    "savepath=\"\" #\"./output/pca/v54.1/pcs_meta.tsv\"\n",
    "\n",
    "df = pd.read_csv(path_pca, \n",
    "                 sep=r\"\\s+\", skiprows=1, header=None)\n",
    "df.columns=[\"iid\", \"pc1\", \"pc2\", \"pc3\", \"pc4\", \"pop\"]\n",
    "#df = remove_individuals(df, remove_list=[\"_d\"])\n",
    "df_meta = pd.read_csv(path_meta, sep=\",\")\n",
    "df2 = df_meta[[\"iid\", \"Master ID\", \"loc\", \"n_cov_snp\", \n",
    "               \"mean_cov\", \"sex\", \"age\", \"contact\", \"clst\", \"region\"]]\n",
    "df = pd.merge(df, df2, on=\"iid\", how=\"left\")\n",
    "df[\"clst\"].fillna(inplace = True, value=\"missing\") # Fill NaNs\n",
    "\n",
    "idx = (df[\"n_cov_snp\"]<min_snp)\n",
    "df = df[~idx]\n",
    "df.loc[df[\"loc\"].isnull(), \"loc\"]=\"not assigned\"\n",
    "print(f\"Filtered to {len(df)} Individuals based on Min SNP: {min_snp}\")\n",
    "\n",
    "df = df.sort_values(by=\"n_cov_snp\", ascending=False)\n",
    "dup = (df[\"Master ID\"].duplicated() & ~df[\"Master ID\"].isnull())\n",
    "df = df[~dup].copy().reset_index(drop=True)\n",
    "print(f\"Filtered to {len(df)} based on duplicates\")\n",
    "\n",
    "idx = df[\"iid\"]==\"I22257\" # The Sudan Outlier\n",
    "df=df[~idx].copy().reset_index(drop=True)\n",
    "print(f\"Filtered to {len(df)} based on manual removals\")\n",
    "#df[df[\"pop\"].str.contains(\"Lebanon\")]\n",
    "\n",
    "### Add Individuals from Punic project\n",
    "df1 = pd.read_csv(\"./data/cluster_assignments_punic.v54.1i.tsv\", sep=\"\\t\")\n",
    "#iids_anc2 = df1[\"iid\"].values\n",
    "print(f\"Extracted IIDs of {len(df1)} IIDs in Punic Project\")\n",
    "df_punic = pd.merge(df, df1, on=\"iid\")\n",
    "print(f\"Merged to {len(df_punic)} Punic IIDs\")\n",
    "\n",
    "### Remove Romans\n",
    "df_punic = df_punic[~df_punic[\"label\"].str.contains(\"Roman\")]\n",
    "print(f\"Filtered to {len(df_punic)} actually Punic Samples\")\n",
    "\n",
    "### Remove Punics from generat Meta\n",
    "df = df[~df[\"iid\"].isin(df1[\"iid\"])]\n",
    "df_anc = df[df[\"pop\"]==\"keep_anc\"]\n",
    "print(f\"Filtered general Meta to {len(df_anc)} ancient, non Punic individuals\")"
   ]
  },
  {
   "cell_type": "code",
   "execution_count": null,
   "metadata": {},
   "outputs": [],
   "source": [
    "df_punic[df_punic[\"loc\"].str.contains(\"Tharros\")][[\"age\", \"date range\"]]"
   ]
  },
  {
   "cell_type": "markdown",
   "metadata": {},
   "source": [
    "# Plot PCA to check background"
   ]
  },
  {
   "cell_type": "code",
   "execution_count": 7,
   "metadata": {},
   "outputs": [],
   "source": [
    "def plot_pca_ho(ax, df, c=\"gray\", alpha=1.0, legend=\"\", marker=\"o\",\n",
    "                s=30, ec=None, text=False):\n",
    "    \"\"\"Plot PCA onto Axis\"\"\"\n",
    "    ax.scatter(-df[\"pc1\"], df[\"pc2\"], c=c, alpha=alpha, label=legend, \n",
    "               ec=ec, s=s, marker=marker)\n",
    "    if text:\n",
    "        x, y = -df[\"pc1\"].values, df[\"pc2\"].values\n",
    "        for i, txt in enumerate(df[\"iid\"]):\n",
    "            ax.annotate(txt[:3], (x[i], y[i]), ha=\"center\", va=\"center\") \n",
    "\n",
    "def plot_pca(ax, df, c=\"\", alpha=1.0, legend=\"\", marker=\"o\",\n",
    "             s=30, ec=None, text=False, lw=1):\n",
    "    \"\"\"Plot PCA onto Axis\"\"\"\n",
    "    if len(c)==0:\n",
    "        c = df[\"color\"].values\n",
    "    a = ax.scatter(-df[\"pc1\"], df[\"pc2\"], c=c, alpha=alpha, label=legend, \n",
    "               ec=ec, s=s, marker=marker, lw=lw)\n",
    "    if text:\n",
    "        x, y = -df[\"pc1\"].values, df[\"pc2\"].values\n",
    "        for i, txt in enumerate(df[\"iid\"]):\n",
    "            ax.annotate(txt, (x[i], y[i]), ha=\"left\", va=\"bottom\", c=c)\n",
    "    return a\n",
    "            \n",
    "def get_sub_pops_exact(df, pop_list=[], pop_col=\"pop\"):\n",
    "    \"\"\"Get Sub Populations\"\"\"\n",
    "    idx = df[pop_col].isin(pop_list)\n",
    "    df = df[idx].copy()\n",
    "    print(f\"Found {pop_list} (exact): {len(df)}/{len(idx)}\")\n",
    "    return df"
   ]
  },
  {
   "cell_type": "code",
   "execution_count": 6,
   "metadata": {},
   "outputs": [
    {
     "name": "stdout",
     "output_type": "stream",
     "text": [
      "Found ['keep_ho'] (exact): 1132/3419\n"
     ]
    },
    {
     "data": {
      "image/png": "[encoded data removed]",
      "text/plain": [
       "<Figure size 576x576 with 1 Axes>"
      ]
     },
     "metadata": {
      "needs_background": "light"
     },
     "output_type": "display_data"
    }
   ],
   "source": [
    "df_ho = get_sub_pops_exact(df, pop_list=[\"keep_ho\"])\n",
    "plt.figure(figsize=(8,8))\n",
    "ax = plt.gca()\n",
    "plot_pca_ho(ax, df_ho, c=\"lightgray\", text=False)\n",
    "\n",
    "plt.show()"
   ]
  },
  {
   "cell_type": "code",
   "execution_count": 18,
   "metadata": {
    "tags": []
   },
   "outputs": [
    {
     "data": {
      "image/png": "[encoded data removed]",
      "text/plain": [
       "<Figure size 576x576 with 1 Axes>"
      ]
     },
     "metadata": {
      "needs_background": "light"
     },
     "output_type": "display_data"
    }
   ],
   "source": [
    "plt.figure(figsize=(8,8))\n",
    "ax = plt.gca()\n",
    "plot_pca_ho(ax, df_ho, c=\"lightgray\", text=False)\n",
    "\n",
    "dft = df[df[\"loc\"]==\"Esperstedt\"]\n",
    "plot_pca(ax, dft, c=\"red\", legend=\"Esperstedt\")\n",
    "\n",
    "dft = df[df[\"loc\"].str.contains(\"Tollense battlefield\")]\n",
    "plot_pca(ax, dft, c=\"green\", legend=\"Tollense\")\n",
    "\n",
    "ax.legend(loc=\"upper right\")\n",
    "plt.show()"
   ]
  },
  {
   "cell_type": "code",
   "execution_count": 15,
   "metadata": {
    "tags": []
   },
   "outputs": [
    {
     "data": {
      "text/html": [
       "<div>\n",
       "<style scoped>\n",
       "    .dataframe tbody tr th:only-of-type {\n",
       "        vertical-align: middle;\n",
       "    }\n",
       "\n",
       "    .dataframe tbody tr th {\n",
       "        vertical-align: top;\n",
       "    }\n",
       "\n",
       "    .dataframe thead th {\n",
       "        text-align: right;\n",
       "    }\n",
       "</style>\n",
       "<table border=\"1\" class=\"dataframe\">\n",
       "  <thead>\n",
       "    <tr style=\"text-align: right;\">\n",
       "      <th></th>\n",
       "      <th>iid</th>\n",
       "      <th>pc1</th>\n",
       "      <th>pc2</th>\n",
       "      <th>pc3</th>\n",
       "      <th>pc4</th>\n",
       "      <th>pop</th>\n",
       "      <th>Master ID</th>\n",
       "      <th>loc</th>\n",
       "      <th>n_cov_snp</th>\n",
       "      <th>mean_cov</th>\n",
       "      <th>sex</th>\n",
       "      <th>age</th>\n",
       "      <th>contact</th>\n",
       "      <th>clst</th>\n",
       "      <th>region</th>\n",
       "    </tr>\n",
       "  </thead>\n",
       "  <tbody>\n",
       "  </tbody>\n",
       "</table>\n",
       "</div>"
      ],
      "text/plain": [
       "Empty DataFrame\n",
       "Columns: [iid, pc1, pc2, pc3, pc4, pop, Master ID, loc, n_cov_snp, mean_cov, sex, age, contact, clst, region]\n",
       "Index: []"
      ]
     },
     "execution_count": 15,
     "metadata": {},
     "output_type": "execute_result"
    }
   ],
   "source": [
    "dft = df[df[\"loc\"]==\"Mecklenburg-Vorpommern, Tollense battlefield\"]\n",
    "dft"
   ]
  },
  {
   "cell_type": "code",
   "execution_count": 17,
   "metadata": {
    "tags": []
   },
   "outputs": [
    {
     "data": {
      "text/html": [
       "<div>\n",
       "<style scoped>\n",
       "    .dataframe tbody tr th:only-of-type {\n",
       "        vertical-align: middle;\n",
       "    }\n",
       "\n",
       "    .dataframe tbody tr th {\n",
       "        vertical-align: top;\n",
       "    }\n",
       "\n",
       "    .dataframe thead th {\n",
       "        text-align: right;\n",
       "    }\n",
       "</style>\n",
       "<table border=\"1\" class=\"dataframe\">\n",
       "  <thead>\n",
       "    <tr style=\"text-align: right;\">\n",
       "      <th></th>\n",
       "      <th>iid</th>\n",
       "      <th>pc1</th>\n",
       "      <th>pc2</th>\n",
       "      <th>pc3</th>\n",
       "      <th>pc4</th>\n",
       "      <th>pop</th>\n",
       "      <th>Master ID</th>\n",
       "      <th>loc</th>\n",
       "      <th>n_cov_snp</th>\n",
       "      <th>mean_cov</th>\n",
       "      <th>sex</th>\n",
       "      <th>age</th>\n",
       "      <th>contact</th>\n",
       "      <th>clst</th>\n",
       "      <th>region</th>\n",
       "    </tr>\n",
       "  </thead>\n",
       "  <tbody>\n",
       "    <tr>\n",
       "      <th>2124</th>\n",
       "      <td>WEZ15_noUDG.SG</td>\n",
       "      <td>0.033652</td>\n",
       "      <td>-0.015847</td>\n",
       "      <td>-0.024889</td>\n",
       "      <td>0.010015</td>\n",
       "      <td>keep_anc</td>\n",
       "      <td>WEZ15</td>\n",
       "      <td>Mecklenburg-Vorpommern, Tollense battlefield</td>\n",
       "      <td>132404.0</td>\n",
       "      <td>0.110337</td>\n",
       "      <td>M</td>\n",
       "      <td>3200.0</td>\n",
       "      <td>Burger, Joachim; Wegmann, Daniel</td>\n",
       "      <td>Germany_Tollense_BA.SG</td>\n",
       "      <td>Germany</td>\n",
       "    </tr>\n",
       "    <tr>\n",
       "      <th>2292</th>\n",
       "      <td>WEZ64_noUDG.SG</td>\n",
       "      <td>0.033612</td>\n",
       "      <td>-0.011141</td>\n",
       "      <td>-0.022750</td>\n",
       "      <td>0.004613</td>\n",
       "      <td>keep_anc</td>\n",
       "      <td>WEZ64</td>\n",
       "      <td>Mecklenburg-Vorpommern, Tollense battlefield</td>\n",
       "      <td>73680.0</td>\n",
       "      <td>0.061400</td>\n",
       "      <td>M</td>\n",
       "      <td>3200.0</td>\n",
       "      <td>Burger, Joachim; Wegmann, Daniel</td>\n",
       "      <td>Germany_Tollense_BA.SG</td>\n",
       "      <td>Germany</td>\n",
       "    </tr>\n",
       "    <tr>\n",
       "      <th>2313</th>\n",
       "      <td>WEZ56_noUDG.SG</td>\n",
       "      <td>0.038584</td>\n",
       "      <td>0.009828</td>\n",
       "      <td>-0.029772</td>\n",
       "      <td>0.003254</td>\n",
       "      <td>keep_anc</td>\n",
       "      <td>WEZ56</td>\n",
       "      <td>Mecklenburg-Vorpommern, Tollense battlefield</td>\n",
       "      <td>65475.0</td>\n",
       "      <td>0.054562</td>\n",
       "      <td>M</td>\n",
       "      <td>3200.0</td>\n",
       "      <td>Burger, Joachim; Wegmann, Daniel</td>\n",
       "      <td>Germany_Tollense_BA_o2.SG</td>\n",
       "      <td>Germany</td>\n",
       "    </tr>\n",
       "    <tr>\n",
       "      <th>2318</th>\n",
       "      <td>WEZ59_noUDG.SG</td>\n",
       "      <td>0.026715</td>\n",
       "      <td>-0.011881</td>\n",
       "      <td>-0.029808</td>\n",
       "      <td>0.004868</td>\n",
       "      <td>keep_anc</td>\n",
       "      <td>WEZ59</td>\n",
       "      <td>Mecklenburg-Vorpommern, Tollense battlefield</td>\n",
       "      <td>64231.0</td>\n",
       "      <td>0.053526</td>\n",
       "      <td>M</td>\n",
       "      <td>3200.0</td>\n",
       "      <td>Burger, Joachim; Wegmann, Daniel</td>\n",
       "      <td>Germany_Tollense_BA.SG</td>\n",
       "      <td>Germany</td>\n",
       "    </tr>\n",
       "    <tr>\n",
       "      <th>2332</th>\n",
       "      <td>WEZ61_noUDG.SG</td>\n",
       "      <td>0.021961</td>\n",
       "      <td>-0.012274</td>\n",
       "      <td>-0.033222</td>\n",
       "      <td>-0.007835</td>\n",
       "      <td>keep_anc</td>\n",
       "      <td>WEZ61</td>\n",
       "      <td>Mecklenburg-Vorpommern, Tollense battlefield</td>\n",
       "      <td>60671.0</td>\n",
       "      <td>0.050559</td>\n",
       "      <td>F</td>\n",
       "      <td>3200.0</td>\n",
       "      <td>Burger, Joachim; Wegmann, Daniel</td>\n",
       "      <td>Germany_Tollense_BA.SG</td>\n",
       "      <td>Germany</td>\n",
       "    </tr>\n",
       "    <tr>\n",
       "      <th>2356</th>\n",
       "      <td>WEZ40_noUDG.SG</td>\n",
       "      <td>0.033673</td>\n",
       "      <td>-0.007914</td>\n",
       "      <td>-0.029965</td>\n",
       "      <td>0.004362</td>\n",
       "      <td>keep_anc</td>\n",
       "      <td>WEZ40</td>\n",
       "      <td>Mecklenburg-Vorpommern, Tollense battlefield</td>\n",
       "      <td>51849.0</td>\n",
       "      <td>0.043207</td>\n",
       "      <td>M</td>\n",
       "      <td>3200.0</td>\n",
       "      <td>Burger, Joachim; Wegmann, Daniel</td>\n",
       "      <td>Germany_Tollense_BA.SG</td>\n",
       "      <td>Germany</td>\n",
       "    </tr>\n",
       "    <tr>\n",
       "      <th>2388</th>\n",
       "      <td>WEZ35_noUDG.SG</td>\n",
       "      <td>0.029962</td>\n",
       "      <td>-0.024549</td>\n",
       "      <td>-0.012236</td>\n",
       "      <td>-0.006575</td>\n",
       "      <td>keep_anc</td>\n",
       "      <td>WEZ35</td>\n",
       "      <td>Mecklenburg-Vorpommern, Tollense battlefield</td>\n",
       "      <td>43810.0</td>\n",
       "      <td>0.036508</td>\n",
       "      <td>M</td>\n",
       "      <td>3200.0</td>\n",
       "      <td>Burger, Joachim; Wegmann, Daniel</td>\n",
       "      <td>Germany_Tollense_BA.SG</td>\n",
       "      <td>Germany</td>\n",
       "    </tr>\n",
       "    <tr>\n",
       "      <th>2413</th>\n",
       "      <td>WEZ57_noUDG.SG</td>\n",
       "      <td>0.027561</td>\n",
       "      <td>-0.018849</td>\n",
       "      <td>-0.005473</td>\n",
       "      <td>0.001530</td>\n",
       "      <td>keep_anc</td>\n",
       "      <td>WEZ57</td>\n",
       "      <td>Mecklenburg-Vorpommern, Tollense battlefield</td>\n",
       "      <td>39267.0</td>\n",
       "      <td>0.032723</td>\n",
       "      <td>M</td>\n",
       "      <td>3200.0</td>\n",
       "      <td>Burger, Joachim; Wegmann, Daniel</td>\n",
       "      <td>Germany_Tollense_BA.SG</td>\n",
       "      <td>Germany</td>\n",
       "    </tr>\n",
       "    <tr>\n",
       "      <th>2419</th>\n",
       "      <td>WEZ54_noUDG.SG</td>\n",
       "      <td>0.024172</td>\n",
       "      <td>-0.029920</td>\n",
       "      <td>-0.000463</td>\n",
       "      <td>-0.016793</td>\n",
       "      <td>keep_anc</td>\n",
       "      <td>WEZ54</td>\n",
       "      <td>Mecklenburg-Vorpommern, Tollense battlefield</td>\n",
       "      <td>37383.0</td>\n",
       "      <td>0.031152</td>\n",
       "      <td>M</td>\n",
       "      <td>3200.0</td>\n",
       "      <td>Burger, Joachim; Wegmann, Daniel</td>\n",
       "      <td>Germany_Tollense_BA.SG</td>\n",
       "      <td>Germany</td>\n",
       "    </tr>\n",
       "    <tr>\n",
       "      <th>2421</th>\n",
       "      <td>WEZ51_noUDG.SG</td>\n",
       "      <td>0.031651</td>\n",
       "      <td>-0.004069</td>\n",
       "      <td>-0.023502</td>\n",
       "      <td>0.023279</td>\n",
       "      <td>keep_anc</td>\n",
       "      <td>WEZ51</td>\n",
       "      <td>Mecklenburg-Vorpommern, Tollense battlefield</td>\n",
       "      <td>37280.0</td>\n",
       "      <td>0.031067</td>\n",
       "      <td>M</td>\n",
       "      <td>3200.0</td>\n",
       "      <td>Burger, Joachim; Wegmann, Daniel</td>\n",
       "      <td>Germany_Tollense_BA.SG</td>\n",
       "      <td>Germany</td>\n",
       "    </tr>\n",
       "    <tr>\n",
       "      <th>2423</th>\n",
       "      <td>WEZ53_noUDG.SG</td>\n",
       "      <td>0.026162</td>\n",
       "      <td>-0.013046</td>\n",
       "      <td>-0.021281</td>\n",
       "      <td>0.010320</td>\n",
       "      <td>keep_anc</td>\n",
       "      <td>WEZ53</td>\n",
       "      <td>Mecklenburg-Vorpommern, Tollense battlefield</td>\n",
       "      <td>36988.0</td>\n",
       "      <td>0.030823</td>\n",
       "      <td>M</td>\n",
       "      <td>3200.0</td>\n",
       "      <td>Burger, Joachim; Wegmann, Daniel</td>\n",
       "      <td>Germany_Tollense_BA.SG</td>\n",
       "      <td>Germany</td>\n",
       "    </tr>\n",
       "    <tr>\n",
       "      <th>2426</th>\n",
       "      <td>WEZ58_noUDG.SG</td>\n",
       "      <td>0.030854</td>\n",
       "      <td>-0.009110</td>\n",
       "      <td>-0.037752</td>\n",
       "      <td>-0.001156</td>\n",
       "      <td>keep_anc</td>\n",
       "      <td>WEZ58</td>\n",
       "      <td>Mecklenburg-Vorpommern, Tollense battlefield</td>\n",
       "      <td>35844.0</td>\n",
       "      <td>0.029870</td>\n",
       "      <td>M</td>\n",
       "      <td>3200.0</td>\n",
       "      <td>Burger, Joachim; Wegmann, Daniel</td>\n",
       "      <td>Germany_Tollense_BA.SG</td>\n",
       "      <td>Germany</td>\n",
       "    </tr>\n",
       "  </tbody>\n",
       "</table>\n",
       "</div>"
      ],
      "text/plain": [
       "                 iid       pc1       pc2       pc3       pc4       pop  \\\n",
       "2124  WEZ15_noUDG.SG  0.033652 -0.015847 -0.024889  0.010015  keep_anc   \n",
       "2292  WEZ64_noUDG.SG  0.033612 -0.011141 -0.022750  0.004613  keep_anc   \n",
       "2313  WEZ56_noUDG.SG  0.038584  0.009828 -0.029772  0.003254  keep_anc   \n",
       "2318  WEZ59_noUDG.SG  0.026715 -0.011881 -0.029808  0.004868  keep_anc   \n",
       "2332  WEZ61_noUDG.SG  0.021961 -0.012274 -0.033222 -0.007835  keep_anc   \n",
       "2356  WEZ40_noUDG.SG  0.033673 -0.007914 -0.029965  0.004362  keep_anc   \n",
       "2388  WEZ35_noUDG.SG  0.029962 -0.024549 -0.012236 -0.006575  keep_anc   \n",
       "2413  WEZ57_noUDG.SG  0.027561 -0.018849 -0.005473  0.001530  keep_anc   \n",
       "2419  WEZ54_noUDG.SG  0.024172 -0.029920 -0.000463 -0.016793  keep_anc   \n",
       "2421  WEZ51_noUDG.SG  0.031651 -0.004069 -0.023502  0.023279  keep_anc   \n",
       "2423  WEZ53_noUDG.SG  0.026162 -0.013046 -0.021281  0.010320  keep_anc   \n",
       "2426  WEZ58_noUDG.SG  0.030854 -0.009110 -0.037752 -0.001156  keep_anc   \n",
       "\n",
       "     Master ID                                            loc  n_cov_snp  \\\n",
       "2124     WEZ15  Mecklenburg-Vorpommern, Tollense battlefield    132404.0   \n",
       "2292     WEZ64  Mecklenburg-Vorpommern, Tollense battlefield     73680.0   \n",
       "2313     WEZ56  Mecklenburg-Vorpommern, Tollense battlefield     65475.0   \n",
       "2318     WEZ59  Mecklenburg-Vorpommern, Tollense battlefield     64231.0   \n",
       "2332     WEZ61  Mecklenburg-Vorpommern, Tollense battlefield     60671.0   \n",
       "2356     WEZ40  Mecklenburg-Vorpommern, Tollense battlefield     51849.0   \n",
       "2388     WEZ35  Mecklenburg-Vorpommern, Tollense battlefield     43810.0   \n",
       "2413     WEZ57  Mecklenburg-Vorpommern, Tollense battlefield     39267.0   \n",
       "2419     WEZ54  Mecklenburg-Vorpommern, Tollense battlefield     37383.0   \n",
       "2421     WEZ51  Mecklenburg-Vorpommern, Tollense battlefield     37280.0   \n",
       "2423     WEZ53  Mecklenburg-Vorpommern, Tollense battlefield     36988.0   \n",
       "2426     WEZ58  Mecklenburg-Vorpommern, Tollense battlefield     35844.0   \n",
       "\n",
       "      mean_cov sex     age                           contact  \\\n",
       "2124  0.110337   M  3200.0  Burger, Joachim; Wegmann, Daniel   \n",
       "2292  0.061400   M  3200.0  Burger, Joachim; Wegmann, Daniel   \n",
       "2313  0.054562   M  3200.0  Burger, Joachim; Wegmann, Daniel   \n",
       "2318  0.053526   M  3200.0  Burger, Joachim; Wegmann, Daniel   \n",
       "2332  0.050559   F  3200.0  Burger, Joachim; Wegmann, Daniel   \n",
       "2356  0.043207   M  3200.0  Burger, Joachim; Wegmann, Daniel   \n",
       "2388  0.036508   M  3200.0  Burger, Joachim; Wegmann, Daniel   \n",
       "2413  0.032723   M  3200.0  Burger, Joachim; Wegmann, Daniel   \n",
       "2419  0.031152   M  3200.0  Burger, Joachim; Wegmann, Daniel   \n",
       "2421  0.031067   M  3200.0  Burger, Joachim; Wegmann, Daniel   \n",
       "2423  0.030823   M  3200.0  Burger, Joachim; Wegmann, Daniel   \n",
       "2426  0.029870   M  3200.0  Burger, Joachim; Wegmann, Daniel   \n",
       "\n",
       "                           clst   region  \n",
       "2124     Germany_Tollense_BA.SG  Germany  \n",
       "2292     Germany_Tollense_BA.SG  Germany  \n",
       "2313  Germany_Tollense_BA_o2.SG  Germany  \n",
       "2318     Germany_Tollense_BA.SG  Germany  \n",
       "2332     Germany_Tollense_BA.SG  Germany  \n",
       "2356     Germany_Tollense_BA.SG  Germany  \n",
       "2388     Germany_Tollense_BA.SG  Germany  \n",
       "2413     Germany_Tollense_BA.SG  Germany  \n",
       "2419     Germany_Tollense_BA.SG  Germany  \n",
       "2421     Germany_Tollense_BA.SG  Germany  \n",
       "2423     Germany_Tollense_BA.SG  Germany  \n",
       "2426     Germany_Tollense_BA.SG  Germany  "
      ]
     },
     "execution_count": 17,
     "metadata": {},
     "output_type": "execute_result"
    }
   ],
   "source": [
    "df[df[\"loc\"].str.contains(\"Tollense\")]"
   ]
  },
  {
   "cell_type": "code",
   "execution_count": 16,
   "metadata": {},
   "outputs": [
    {
     "data": {
      "text/plain": [
       "not assigned                                                   1132\n",
       "Bohemia, Mikulovice                                              88\n",
       "Murcia, Pliego, La Almoloya                                      66\n",
       "Kamennyi Ambar 5 Cemetery                                        47\n",
       "England, North Yorkshire, Vale of Pickering, West Heslerton      43\n",
       "                                                               ... \n",
       "Tarquinia Monterozzi                                             10\n",
       "Ganj Dareh                                                       10\n",
       "Barcelona, Cova de la Guineu                                     10\n",
       "Bohemia, Brandýs nad Labem                                       10\n",
       "Cap Bon, Kelibia                                                  8\n",
       "Name: loc, Length: 128, dtype: int64"
      ]
     },
     "execution_count": 16,
     "metadata": {},
     "output_type": "execute_result"
    }
   ],
   "source": [
    "df[\"loc\"].value_counts()"
   ]
  },
  {
   "cell_type": "markdown",
   "metadata": {},
   "source": [
    "# Organize samples from each site"
   ]
  },
  {
   "cell_type": "code",
   "execution_count": null,
   "metadata": {},
   "outputs": [],
   "source": [
    "df_anc[\"loc\"].value_counts()"
   ]
  },
  {
   "cell_type": "code",
   "execution_count": 6,
   "metadata": {},
   "outputs": [],
   "source": [
    "def get_sub_df_region(df, region=\"\", min_n=10, metric=\"mean_dist\"):\n",
    "    \"\"\"Get a Dataframe of Y haplogroup diversities per sites\"\"\"\n",
    "    df_reg = df[df[\"region\"].isin(region)]\n",
    "    cts = df_reg[\"loc\"].value_counts()\n",
    "    sites = cts[cts>=min_n].index.values\n",
    "    \n",
    "    df_res = create_pca_div_df(df, sites=sites, metric=metric)\n",
    "    return df_res\n",
    "\n",
    "def create_pca_div_df(df, sites=[], min_n=10, metric=\"mean_dist\"):\n",
    "    \"\"\"Take Meta Data as input, and for each site calculates\n",
    "    the Simpson Index of Y chromosomes\"\"\"\n",
    "    data = []\n",
    "    \n",
    "    for s in sites:\n",
    "        dft = df[df[\"loc\"]==s] # Extract Site df \n",
    "        m = len(dft)\n",
    "        if m==0:\n",
    "            raise RuntimeWarning(f\"Site {s} has no matching samples\")\n",
    "        age = np.median(dft[\"age\"]) # Get the median Age\n",
    "        \n",
    "        if m >= min_n: # Calculate Variance\n",
    "            if metric==\"var\":\n",
    "                vars2 = np.var(dft[[\"pc1\", \"pc2\"]], axis=0)\n",
    "                var = np.sum(vars2)\n",
    "                      \n",
    "            elif metric==\"mean_dist\":\n",
    "                ds = pdist(dft[[\"pc1\", \"pc2\"]].values)\n",
    "                var = np.mean(ds)\n",
    "       \n",
    "            else:\n",
    "                raise RuntimeWarning(f\"Metric {metric} not found!\")\n",
    "                \n",
    "            data.append([s, age, m, var]) \n",
    "        else:\n",
    "            continue\n",
    "    \n",
    "    # Make the summary Data Frame\n",
    "    df_res = pd.DataFrame(data)\n",
    "    df_res.columns = [\"loc\", \"age\", \"n\", \"var\"]\n",
    "    return df_res"
   ]
  },
  {
   "cell_type": "code",
   "execution_count": 74,
   "metadata": {},
   "outputs": [
    {
     "data": {
      "text/html": [
       "<div>\n",
       "<style scoped>\n",
       "    .dataframe tbody tr th:only-of-type {\n",
       "        vertical-align: middle;\n",
       "    }\n",
       "\n",
       "    .dataframe tbody tr th {\n",
       "        vertical-align: top;\n",
       "    }\n",
       "\n",
       "    .dataframe thead th {\n",
       "        text-align: right;\n",
       "    }\n",
       "</style>\n",
       "<table border=\"1\" class=\"dataframe\">\n",
       "  <thead>\n",
       "    <tr style=\"text-align: right;\">\n",
       "      <th></th>\n",
       "      <th>loc</th>\n",
       "      <th>age</th>\n",
       "      <th>n</th>\n",
       "      <th>var</th>\n",
       "    </tr>\n",
       "  </thead>\n",
       "  <tbody>\n",
       "    <tr>\n",
       "      <th>0</th>\n",
       "      <td>Piedmont, Collegno</td>\n",
       "      <td>1345.0</td>\n",
       "      <td>22</td>\n",
       "      <td>0.019920</td>\n",
       "    </tr>\n",
       "    <tr>\n",
       "      <th>1</th>\n",
       "      <td>Isola Sacra</td>\n",
       "      <td>1750.0</td>\n",
       "      <td>20</td>\n",
       "      <td>0.024799</td>\n",
       "    </tr>\n",
       "    <tr>\n",
       "      <th>2</th>\n",
       "      <td>Lazio, Viterbo, Tarquinia</td>\n",
       "      <td>2151.0</td>\n",
       "      <td>17</td>\n",
       "      <td>0.009339</td>\n",
       "    </tr>\n",
       "    <tr>\n",
       "      <th>3</th>\n",
       "      <td>Basilicata, Potenza, Venosa</td>\n",
       "      <td>1250.0</td>\n",
       "      <td>14</td>\n",
       "      <td>0.013856</td>\n",
       "    </tr>\n",
       "    <tr>\n",
       "      <th>4</th>\n",
       "      <td>Sardinia, Tharros</td>\n",
       "      <td>2272.0</td>\n",
       "      <td>14</td>\n",
       "      <td>0.034455</td>\n",
       "    </tr>\n",
       "    <tr>\n",
       "      <th>5</th>\n",
       "      <td>Sicily, Birgi</td>\n",
       "      <td>2473.5</td>\n",
       "      <td>12</td>\n",
       "      <td>0.019580</td>\n",
       "    </tr>\n",
       "    <tr>\n",
       "      <th>6</th>\n",
       "      <td>Villa Magna</td>\n",
       "      <td>595.0</td>\n",
       "      <td>12</td>\n",
       "      <td>0.014235</td>\n",
       "    </tr>\n",
       "    <tr>\n",
       "      <th>7</th>\n",
       "      <td>Tarquinia Monterozzi</td>\n",
       "      <td>2238.5</td>\n",
       "      <td>10</td>\n",
       "      <td>0.029262</td>\n",
       "    </tr>\n",
       "    <tr>\n",
       "      <th>8</th>\n",
       "      <td>Tuscany, Grosseto, Casenovole</td>\n",
       "      <td>2350.0</td>\n",
       "      <td>10</td>\n",
       "      <td>0.007200</td>\n",
       "    </tr>\n",
       "  </tbody>\n",
       "</table>\n",
       "</div>"
      ],
      "text/plain": [
       "                             loc     age   n       var\n",
       "0             Piedmont, Collegno  1345.0  22  0.019920\n",
       "1                    Isola Sacra  1750.0  20  0.024799\n",
       "2      Lazio, Viterbo, Tarquinia  2151.0  17  0.009339\n",
       "3    Basilicata, Potenza, Venosa  1250.0  14  0.013856\n",
       "4              Sardinia, Tharros  2272.0  14  0.034455\n",
       "5                  Sicily, Birgi  2473.5  12  0.019580\n",
       "6                    Villa Magna   595.0  12  0.014235\n",
       "7           Tarquinia Monterozzi  2238.5  10  0.029262\n",
       "8  Tuscany, Grosseto, Casenovole  2350.0  10  0.007200"
      ]
     },
     "execution_count": 74,
     "metadata": {},
     "output_type": "execute_result"
    }
   ],
   "source": [
    "get_sub_df_region(df_anc, region=[\"Italy\"])"
   ]
  },
  {
   "cell_type": "markdown",
   "metadata": {},
   "source": [
    "# Run the Diversity Plot"
   ]
  },
  {
   "cell_type": "code",
   "execution_count": 8,
   "metadata": {},
   "outputs": [],
   "source": [
    "min_n = 10 # In Prep the Cutoff is at 10\n",
    "df_it = get_sub_df_region(df, [\"Italy\"], min_n=min_n)\n",
    "df_fr = get_sub_df_region(df_anc, [\"France\", \"Germany\", \"Austria\"], min_n=min_n)\n",
    "df_ib = get_sub_df_region(df_anc, [\"Spain\", \"Portugal\"], min_n=min_n)\n",
    "df_lev = get_sub_df_region(df_anc, [\"Israel\", \"Lebanon\"], min_n=min_n)\n",
    "#df_y_ib = get_sub_df_region([\"Spain\", \"Portugal\"])\n",
    "\n",
    "df_pun = create_pca_div_df(df_punic, sites=[\"Kerkouene\", \"Sardinia, Tharros\",  \"Sicily, Selinunte, Manuzza\", \"Sicily, Birgi\", \n",
    "                                            'Almería, Cuevas del Almazora, Villaricos', \"Tunis, Carthage\"], min_n=7) # \n",
    "#df_y_him = create_pca_div_df(df_anc, sites=[\"Sicily, Himera\"], min_n=5)"
   ]
  },
  {
   "cell_type": "code",
   "execution_count": 9,
   "metadata": {},
   "outputs": [
    {
     "data": {
      "text/html": [
       "<div>\n",
       "<style scoped>\n",
       "    .dataframe tbody tr th:only-of-type {\n",
       "        vertical-align: middle;\n",
       "    }\n",
       "\n",
       "    .dataframe tbody tr th {\n",
       "        vertical-align: top;\n",
       "    }\n",
       "\n",
       "    .dataframe thead th {\n",
       "        text-align: right;\n",
       "    }\n",
       "</style>\n",
       "<table border=\"1\" class=\"dataframe\">\n",
       "  <thead>\n",
       "    <tr style=\"text-align: right;\">\n",
       "      <th></th>\n",
       "      <th>loc</th>\n",
       "      <th>age</th>\n",
       "      <th>n</th>\n",
       "      <th>var</th>\n",
       "    </tr>\n",
       "  </thead>\n",
       "  <tbody>\n",
       "    <tr>\n",
       "      <th>5</th>\n",
       "      <td>Tunis, Carthage</td>\n",
       "      <td>2500.0</td>\n",
       "      <td>14</td>\n",
       "      <td>0.012339</td>\n",
       "    </tr>\n",
       "    <tr>\n",
       "      <th>3</th>\n",
       "      <td>Sicily, Birgi</td>\n",
       "      <td>2582.0</td>\n",
       "      <td>9</td>\n",
       "      <td>0.017400</td>\n",
       "    </tr>\n",
       "    <tr>\n",
       "      <th>2</th>\n",
       "      <td>Sicily, Selinunte, Manuzza</td>\n",
       "      <td>2500.0</td>\n",
       "      <td>7</td>\n",
       "      <td>0.022302</td>\n",
       "    </tr>\n",
       "    <tr>\n",
       "      <th>0</th>\n",
       "      <td>Kerkouene</td>\n",
       "      <td>2500.0</td>\n",
       "      <td>27</td>\n",
       "      <td>0.027586</td>\n",
       "    </tr>\n",
       "    <tr>\n",
       "      <th>1</th>\n",
       "      <td>Sardinia, Tharros</td>\n",
       "      <td>2272.0</td>\n",
       "      <td>14</td>\n",
       "      <td>0.034455</td>\n",
       "    </tr>\n",
       "    <tr>\n",
       "      <th>4</th>\n",
       "      <td>Almería, Cuevas del Almazora, Villaricos</td>\n",
       "      <td>2219.5</td>\n",
       "      <td>8</td>\n",
       "      <td>0.035718</td>\n",
       "    </tr>\n",
       "  </tbody>\n",
       "</table>\n",
       "</div>"
      ],
      "text/plain": [
       "                                        loc     age   n       var\n",
       "5                           Tunis, Carthage  2500.0  14  0.012339\n",
       "3                             Sicily, Birgi  2582.0   9  0.017400\n",
       "2                Sicily, Selinunte, Manuzza  2500.0   7  0.022302\n",
       "0                                 Kerkouene  2500.0  27  0.027586\n",
       "1                         Sardinia, Tharros  2272.0  14  0.034455\n",
       "4  Almería, Cuevas del Almazora, Villaricos  2219.5   8  0.035718"
      ]
     },
     "execution_count": 9,
     "metadata": {},
     "output_type": "execute_result"
    }
   ],
   "source": [
    "df_pun.sort_values(by=\"var\")"
   ]
  },
  {
   "cell_type": "markdown",
   "metadata": {},
   "source": [
    "## 1)b) Plot PCA diversity"
   ]
  },
  {
   "cell_type": "code",
   "execution_count": 158,
   "metadata": {},
   "outputs": [
    {
     "data": {
      "image/png": "[encoded data removed]",
      "text/plain": [
       "<Figure size 432x216 with 1 Axes>"
      ]
     },
     "metadata": {
      "needs_background": "light"
     },
     "output_type": "display_data"
    }
   ],
   "source": [
    "epsilon=0.0\n",
    "xlim = [5500, -1500]\n",
    "\n",
    "plt.figure(figsize=(6,3))\n",
    "ax = plt.gca()\n",
    "ax.scatter(df_it[\"age\"]-1950, df_it[\"var\"]+epsilon, ec=\"gray\", label=\"Italy\")\n",
    "ax.scatter(df_fr[\"age\"]-1950, df_fr[\"var\"]+epsilon, c=\"yellow\", ec=\"gray\", label=\"C. Europe\")\n",
    "ax.scatter(df_ib[\"age\"]-1950, df_ib[\"var\"]+epsilon, c=\"orange\", ec=\"gray\", label=\"Iberia\")\n",
    "ax.scatter(df_lev[\"age\"]-1950, df_lev[\"var\"]+epsilon, c=\"green\", ec=\"gray\", label=\"Levant\")\n",
    "ax.scatter(df_pun[\"age\"]-1950, df_pun[\"var\"]+epsilon, ec=\"k\", c=\"red\", label=\"Phoenician-Punic\")\n",
    "#ax.scatter(df_y_him[\"age\"]-1950, df_y_him[\"D\"]+epsilon, ec=\"k\", c=\"orange\", label=\"Himera\")\n",
    "\n",
    "ax.set_ylabel(\"PCA Diversity per Site\")\n",
    "ax.set_xlabel(\"BCE/CE\")\n",
    "ax.invert_xaxis()\n",
    "ax.legend(loc=\"upper left\", title=\"Arch. Sites\") # bbox_to_anchor=(1.02, 1.01)\n",
    "#ax.set_yscale('squareroot')\n",
    "ax.set_ylim([0,0.04])\n",
    "ax.set_xlim(xlim)\n",
    "plt.show()"
   ]
  },
  {
   "cell_type": "code",
   "execution_count": null,
   "metadata": {},
   "outputs": [],
   "source": [
    "df_y_pun.sort_values(by=\"var\")"
   ]
  },
  {
   "cell_type": "code",
   "execution_count": null,
   "metadata": {},
   "outputs": [],
   "source": [
    "df_y_it.sort_values(by=\"var\", ascending=False)"
   ]
  },
  {
   "cell_type": "code",
   "execution_count": 107,
   "metadata": {},
   "outputs": [
    {
     "data": {
      "text/html": [
       "<div>\n",
       "<style scoped>\n",
       "    .dataframe tbody tr th:only-of-type {\n",
       "        vertical-align: middle;\n",
       "    }\n",
       "\n",
       "    .dataframe tbody tr th {\n",
       "        vertical-align: top;\n",
       "    }\n",
       "\n",
       "    .dataframe thead th {\n",
       "        text-align: right;\n",
       "    }\n",
       "</style>\n",
       "<table border=\"1\" class=\"dataframe\">\n",
       "  <thead>\n",
       "    <tr style=\"text-align: right;\">\n",
       "      <th></th>\n",
       "      <th>loc</th>\n",
       "      <th>age</th>\n",
       "      <th>n</th>\n",
       "      <th>var</th>\n",
       "    </tr>\n",
       "  </thead>\n",
       "  <tbody>\n",
       "    <tr>\n",
       "      <th>0</th>\n",
       "      <td>Murcia, Pliego, La Almoloya</td>\n",
       "      <td>3825.0</td>\n",
       "      <td>66</td>\n",
       "      <td>0.004878</td>\n",
       "    </tr>\n",
       "    <tr>\n",
       "      <th>1</th>\n",
       "      <td>Burgos, Atapuerca, El Mirador Cave</td>\n",
       "      <td>4550.0</td>\n",
       "      <td>14</td>\n",
       "      <td>0.005530</td>\n",
       "    </tr>\n",
       "    <tr>\n",
       "      <th>2</th>\n",
       "      <td>Barcelona, Cova de la Guineu</td>\n",
       "      <td>4900.0</td>\n",
       "      <td>10</td>\n",
       "      <td>0.005214</td>\n",
       "    </tr>\n",
       "    <tr>\n",
       "      <th>3</th>\n",
       "      <td>Girona, Empuries, necropolis Centre de Visitants</td>\n",
       "      <td>2202.5</td>\n",
       "      <td>10</td>\n",
       "      <td>0.023326</td>\n",
       "    </tr>\n",
       "    <tr>\n",
       "      <th>4</th>\n",
       "      <td>Alicante, Villena, Cueva de las Lechuzas</td>\n",
       "      <td>4750.0</td>\n",
       "      <td>10</td>\n",
       "      <td>0.003059</td>\n",
       "    </tr>\n",
       "    <tr>\n",
       "      <th>5</th>\n",
       "      <td>Almería, Cuevas del Almazora, Villaricos</td>\n",
       "      <td>2046.5</td>\n",
       "      <td>10</td>\n",
       "      <td>0.039364</td>\n",
       "    </tr>\n",
       "  </tbody>\n",
       "</table>\n",
       "</div>"
      ],
      "text/plain": [
       "                                                loc     age   n       var\n",
       "0                       Murcia, Pliego, La Almoloya  3825.0  66  0.004878\n",
       "1                Burgos, Atapuerca, El Mirador Cave  4550.0  14  0.005530\n",
       "2                      Barcelona, Cova de la Guineu  4900.0  10  0.005214\n",
       "3  Girona, Empuries, necropolis Centre de Visitants  2202.5  10  0.023326\n",
       "4          Alicante, Villena, Cueva de las Lechuzas  4750.0  10  0.003059\n",
       "5          Almería, Cuevas del Almazora, Villaricos  2046.5  10  0.039364"
      ]
     },
     "execution_count": 107,
     "metadata": {},
     "output_type": "execute_result"
    }
   ],
   "source": [
    "df_y_ib"
   ]
  },
  {
   "cell_type": "markdown",
   "metadata": {},
   "source": [
    "# 2) Plot PCA and Y Haplogroup Diversity in one Plot"
   ]
  },
  {
   "cell_type": "markdown",
   "metadata": {},
   "source": [
    "### 2)a) Load the Y Results"
   ]
  },
  {
   "cell_type": "code",
   "execution_count": 138,
   "metadata": {},
   "outputs": [],
   "source": [
    "df_y_it = pd.read_csv(\"./output/tables/ydiv/it.tsv\", sep=\"\\t\")\n",
    "df_y_fr = pd.read_csv(\"./output/tables/ydiv/fr.tsv\", sep=\"\\t\")\n",
    "df_y_ib = pd.read_csv(\"./output/tables/ydiv/ib.tsv\", sep=\"\\t\")\n",
    "df_y_lev = pd.read_csv(\"./output/tables/ydiv/lev.tsv\", sep=\"\\t\")\n",
    "df_y_pun = pd.read_csv(\"./output/tables/ydiv/pun.tsv\", sep=\"\\t\")"
   ]
  },
  {
   "cell_type": "markdown",
   "metadata": {},
   "source": [
    "# Make the big Plot for Paper"
   ]
  },
  {
   "cell_type": "code",
   "execution_count": 198,
   "metadata": {},
   "outputs": [
    {
     "name": "stdout",
     "output_type": "stream",
     "text": [
      "Saved to ./figures/div/panel.v54.1.png\n"
     ]
    },
    {
     "data": {
      "image/png": "[encoded data removed]",
      "text/plain": [
       "<Figure size 432x432 with 2 Axes>"
      ]
     },
     "metadata": {
      "needs_background": "light"
     },
     "output_type": "display_data"
    }
   ],
   "source": [
    "savepath=\"./figures/div/panel.v54.1.png\"\n",
    "figsize=(6,6)\n",
    "hspace = 0.076\n",
    "epsilon=0.0\n",
    "xlim = [5500, -1500]\n",
    "\n",
    "\n",
    "fig = plt.figure(figsize=figsize)\n",
    "\n",
    "gs = gridspec.GridSpec(2, 1, height_ratios=[1,1], figure=fig)\n",
    "ax_pca = plt.subplot(gs[0])    # The left subplot (Timeline)\n",
    "ax_y =  plt.subplot(gs[1])\n",
    "gs.update(hspace=hspace) # set the spacing between axes\n",
    "\n",
    "\n",
    "ax_pca.scatter(df_it[\"age\"]-1950, df_it[\"var\"]+epsilon, ec=\"gray\", label=\"Italy\")\n",
    "ax_pca.scatter(df_fr[\"age\"]-1950, df_fr[\"var\"]+epsilon, c=\"yellow\", ec=\"gray\", label=\"C. Europe\")\n",
    "ax_pca.scatter(df_ib[\"age\"]-1950, df_ib[\"var\"]+epsilon, c=\"orange\", ec=\"gray\", label=\"Iberia\")\n",
    "ax_pca.scatter(df_lev[\"age\"]-1950, df_lev[\"var\"]+epsilon, c=\"green\", ec=\"gray\", label=\"Levant\")\n",
    "ax_pca.scatter(df_pun[\"age\"]-1950, df_pun[\"var\"]+epsilon, ec=\"k\", c=\"red\", label=\"Phoenician-Punic\")\n",
    "ax_pca.legend(loc=\"upper left\", title=\"Archeological Site\") # bbox_to_anchor=(1.02, 1.01) $\\bf{Archeological Sites}$\n",
    "#ax.scatter(df_y_him[\"age\"]-1950, df_y_him[\"D\"]+epsilon, ec=\"k\", c=\"orange\", label=\"Himera\")\n",
    "ax_pca.set_ylabel(\"Diversity PCA \\nper Site\")\n",
    "ax_pca.set_xlim(xlim)\n",
    "#ax_pca.invert_xaxis()\n",
    "ax_pca.set_ylim([0,0.04])\n",
    "ax_pca.set_xticklabels([])\n",
    "\n",
    "###########################\n",
    "### Plot Y Diversity\n",
    "ax_y.scatter(df_y_it[\"age\"]-1950, df_y_it[\"D\"]+epsilon, ec=\"gray\", label=\"Italy\")\n",
    "ax_y.scatter(df_y_fr[\"age\"]-1950, df_y_fr[\"D\"]+epsilon, c=\"yellow\", ec=\"gray\", label=\"C. Europe\")\n",
    "ax_y.scatter(df_y_ib[\"age\"]-1950, df_y_ib[\"D\"]+epsilon, c=\"orange\", ec=\"gray\", label=\"Iberia\")\n",
    "ax_y.scatter(df_y_lev[\"age\"]-1950, df_y_lev[\"D\"]+epsilon, c=\"green\", ec=\"gray\", label=\"Levant\")\n",
    "ax_y.scatter(df_y_pun[\"age\"]-1950, df_y_pun[\"D\"]+epsilon, ec=\"k\", c=\"red\", label=\"Phoenician-Punic\")\n",
    "#ax.scatter(df_y_him[\"age\"]-1950, df_y_him[\"D\"]+epsilon, ec=\"k\", c=\"orange\", label=\"Himera\")\n",
    "ax_y.set_ylabel(\"Y Haplogroup Diversity\\nper Site\")\n",
    "ax_y.set_xlabel(\"BCE/CE\")\n",
    "ax_y.set_xlim(xlim)\n",
    "#ax_y.invert_xaxis()\n",
    "\n",
    "#ax.set_yscale('squareroot')\n",
    "\n",
    "\n",
    "if len(savepath)>0:\n",
    "        plt.savefig(savepath, bbox_inches = 'tight', pad_inches = 0, dpi=600)\n",
    "        print(f\"Saved to {savepath}\")\n",
    "\n",
    "plt.show()"
   ]
  },
  {
   "cell_type": "code",
   "execution_count": 201,
   "metadata": {},
   "outputs": [
    {
     "data": {
      "text/html": [
       "<div>\n",
       "<style scoped>\n",
       "    .dataframe tbody tr th:only-of-type {\n",
       "        vertical-align: middle;\n",
       "    }\n",
       "\n",
       "    .dataframe tbody tr th {\n",
       "        vertical-align: top;\n",
       "    }\n",
       "\n",
       "    .dataframe thead th {\n",
       "        text-align: right;\n",
       "    }\n",
       "</style>\n",
       "<table border=\"1\" class=\"dataframe\">\n",
       "  <thead>\n",
       "    <tr style=\"text-align: right;\">\n",
       "      <th></th>\n",
       "      <th>loc</th>\n",
       "      <th>age</th>\n",
       "      <th>n</th>\n",
       "      <th>var</th>\n",
       "    </tr>\n",
       "  </thead>\n",
       "  <tbody>\n",
       "    <tr>\n",
       "      <th>5</th>\n",
       "      <td>Tuscany, Grosseto, Casenovole</td>\n",
       "      <td>2350.0</td>\n",
       "      <td>10</td>\n",
       "      <td>0.007200</td>\n",
       "    </tr>\n",
       "    <tr>\n",
       "      <th>2</th>\n",
       "      <td>Lazio, Viterbo, Tarquinia</td>\n",
       "      <td>2151.0</td>\n",
       "      <td>17</td>\n",
       "      <td>0.009339</td>\n",
       "    </tr>\n",
       "    <tr>\n",
       "      <th>3</th>\n",
       "      <td>Basilicata, Potenza, Venosa</td>\n",
       "      <td>1250.0</td>\n",
       "      <td>14</td>\n",
       "      <td>0.013856</td>\n",
       "    </tr>\n",
       "    <tr>\n",
       "      <th>4</th>\n",
       "      <td>Villa Magna</td>\n",
       "      <td>595.0</td>\n",
       "      <td>12</td>\n",
       "      <td>0.014235</td>\n",
       "    </tr>\n",
       "    <tr>\n",
       "      <th>0</th>\n",
       "      <td>Piedmont, Collegno</td>\n",
       "      <td>1345.0</td>\n",
       "      <td>22</td>\n",
       "      <td>0.019920</td>\n",
       "    </tr>\n",
       "    <tr>\n",
       "      <th>1</th>\n",
       "      <td>Isola Sacra</td>\n",
       "      <td>1750.0</td>\n",
       "      <td>20</td>\n",
       "      <td>0.024799</td>\n",
       "    </tr>\n",
       "    <tr>\n",
       "      <th>6</th>\n",
       "      <td>Tarquinia Monterozzi</td>\n",
       "      <td>2238.5</td>\n",
       "      <td>10</td>\n",
       "      <td>0.029262</td>\n",
       "    </tr>\n",
       "  </tbody>\n",
       "</table>\n",
       "</div>"
      ],
      "text/plain": [
       "                             loc     age   n       var\n",
       "5  Tuscany, Grosseto, Casenovole  2350.0  10  0.007200\n",
       "2      Lazio, Viterbo, Tarquinia  2151.0  17  0.009339\n",
       "3    Basilicata, Potenza, Venosa  1250.0  14  0.013856\n",
       "4                    Villa Magna   595.0  12  0.014235\n",
       "0             Piedmont, Collegno  1345.0  22  0.019920\n",
       "1                    Isola Sacra  1750.0  20  0.024799\n",
       "6           Tarquinia Monterozzi  2238.5  10  0.029262"
      ]
     },
     "execution_count": 201,
     "metadata": {},
     "output_type": "execute_result"
    }
   ],
   "source": [
    "df_it.sort_values(by=\"var\")"
   ]
  },
  {
   "cell_type": "markdown",
   "metadata": {},
   "source": [
    "# Area 51"
   ]
  },
  {
   "cell_type": "code",
   "execution_count": 46,
   "metadata": {},
   "outputs": [
    {
     "data": {
      "text/plain": [
       "Sicily, Selinunte, Manuzza    7\n",
       "Name: loc, dtype: int64"
      ]
     },
     "execution_count": 46,
     "metadata": {},
     "output_type": "execute_result"
    }
   ],
   "source": [
    "df_anc[df_anc[\"loc\"].str.contains(\"Sicily, Selinunte, Manuzza\")][\"loc\"].value_counts()"
   ]
  },
  {
   "cell_type": "code",
   "execution_count": null,
   "metadata": {},
   "outputs": [],
   "source": [
    "df_anc[df_anc[\"loc\"].str.contains(\"Sicily\")]"
   ]
  },
  {
   "cell_type": "code",
   "execution_count": null,
   "metadata": {},
   "outputs": [],
   "source": [
    "df_anc[df_anc[\"loc\"].str.contains(\"Villaricos\")]"
   ]
  },
  {
   "cell_type": "code",
   "execution_count": 38,
   "metadata": {},
   "outputs": [],
   "source": [
    "df_punic = df_anc[df_anc[\"clst\"].str.contains(\"Punic\")]"
   ]
  }
 ],
 "metadata": {
  "kernelspec": {
   "display_name": "Python 3",
   "language": "python",
   "name": "python3"
  },
  "language_info": {
   "codemirror_mode": {
    "name": "ipython",
    "version": 3
   },
   "file_extension": ".py",
   "mimetype": "text/x-python",
   "name": "python",
   "nbconvert_exporter": "python",
   "pygments_lexer": "ipython3",
   "version": "3.7.4"
  }
 },
 "nbformat": 4,
 "nbformat_minor": 4
}
