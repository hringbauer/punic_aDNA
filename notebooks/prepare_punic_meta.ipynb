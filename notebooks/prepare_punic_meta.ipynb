{
 "cells": [
  {
   "cell_type": "markdown",
   "metadata": {},
   "source": [
    "# Prepare Punic Meta File"
   ]
  },
  {
   "cell_type": "code",
   "execution_count": 1,
   "metadata": {},
   "outputs": [
    {
     "name": "stdout",
     "output_type": "stream",
     "text": [
      "compute-a-17-76.o2.rc.hms.harvard.edu\n",
      "HSM Computational partition detected.\n",
      "/n/groups/reich/hringbauer\n",
      "CPU Count: 32\n",
      "3.7.4 (default, Sep 11 2019, 11:24:51) \n",
      "[GCC 6.2.0]\n"
     ]
    }
   ],
   "source": [
    "import numpy as np\n",
    "import os  # For Saving to Folder\n",
    "import pandas as pd\n",
    "import matplotlib.pyplot as plt\n",
    "\n",
    "import socket\n",
    "import os as os\n",
    "import sys as sys\n",
    "import multiprocessing as mp\n",
    "\n",
    "# For Arial Font\n",
    "from matplotlib import rcParams\n",
    "rcParams['font.family'] = 'sans-serif'   # Set the defaul\n",
    "# Make sure to have the font installed (it is on cluster for Harald)\n",
    "rcParams['font.sans-serif'] = ['Arial']\n",
    "\n",
    "socket_name = socket.gethostname()\n",
    "print(socket_name)\n",
    "\n",
    "if socket_name.startswith(\"compute-\"):\n",
    "    print(\"HSM Computational partition detected.\")\n",
    "    path = \"/n/groups/reich/hringbauer/\"  # The Path on Midway Cluster\n",
    "else:\n",
    "    raise RuntimeWarning(\"Not compatible machine. Check!!\")\n",
    "\n",
    "os.chdir(path)  # Set the right Path (in line with Atom default)\n",
    "# Show the current working directory. Should be HAPSBURG/Notebooks/ParallelRuns\n",
    "print(os.getcwd())\n",
    "print(f\"CPU Count: {mp.cpu_count()}\")\n",
    "print(sys.version)"
   ]
  },
  {
   "cell_type": "markdown",
   "metadata": {},
   "source": [
    "### Load full Anno (here v42.3)"
   ]
  },
  {
   "cell_type": "code",
   "execution_count": 2,
   "metadata": {},
   "outputs": [
    {
     "data": {
      "text/plain": [
       "Index(['Index',\n",
       "       'Instance ID (\"_all\" means includes a mix of UDG-treated and non-UDG-treated; \"_published\" distinguishes a published sample for a still-unpublished higher quality version)',\n",
       "       'Master ID', 'Skeletal code', 'Skeletal element',\n",
       "       'Year this sample was first published [missing: GreenScience 2010 (Vi33.15, Vi33.26), Olalde2018 (I2657), RasmussenNature2010 (Australian)]',\n",
       "       'Publication', 'Representative contact',\n",
       "       'Completeness of Date Information',\n",
       "       'Average of 95.4% date range in calBP (defined as 1950 CE)  ',\n",
       "       'Date: One of two formats. (Format 1) 95.4% CI calibrated radiocarbon age (Conventional Radiocarbon Age BP, Lab number) e.g. 5983-5747 calBCE (6980±50 BP, Beta-226472). (Format 2) Archaeological context date, e.g. 2500-1700 BCE',\n",
       "       'Group_ID (format convention which we try to adhere to is \"Country_<Geographic.Region_<Geographic.Subregion_>><Archaeological.Period.Or.DateBP_<Alternative.Archaeological.Period_>><Archaeological.Culture_<Alternative.Archaeological.Culture>><genetic.subgrouping.index.if.necessary_><\"o_\"sometimes.with.additional.detail.if.an.outlier><additional.suffix.especially.relative.status.if.we.recommend.removing.from.main.analysis.grouping><\"contam_\".if.contaminated><\"lc_\".if.<15000.SNPs.on.autosomal.targets><\".SG\".or.\".DG\".if.shotgun.data>; HG=hunter-gatherer, N=Neolithic, C=Chalcolithic/CopperAge, BA=BronzeAge, IA=IronAge, E=Early, M=Middle, L=Late, A=Antiquity)',\n",
       "       'Locality', 'Country', 'Lat.', 'Long.', 'Data type', 'No. Libraries',\n",
       "       'Data: mtDNA bam', 'Data: mtDNA fasta',\n",
       "       'Data: pulldown logfile location', 'Data: pulldown sample ID',\n",
       "       'Data: autosomal bam', 'Data: autosomal readgroups or hetfa or ranfa',\n",
       "       'Coverage on autosomal targets', 'SNPs hit on autosomal targets',\n",
       "       'Mean length of shotgun sequences (merged data)', 'Sex',\n",
       "       'Family ID and position within family',\n",
       "       'Y chrom. (automatically called only if >50000 autosomal SNPs hit)',\n",
       "       'mtDNA coverage (merged data)',\n",
       "       'mtDNA haplogroup if ≥2 coverage or published (merged data or consensus if not available)',\n",
       "       'mtDNA match to consensus if ≥2 coverage (merged data)',\n",
       "       'Damage rate in first nucleotide on sequences overlapping 1240k targets (merged data)',\n",
       "       'Sex ratio [Y/(Y+X) counts] (merged data)',\n",
       "       'Xcontam ANGSD SNPs (only if male and ≥200)',\n",
       "       'Xcontam ANGSD MOM point estimate (only if male and ≥200)',\n",
       "       'Xcontam ANGSD MOM Z-score (only if male and ≥200)',\n",
       "       'Xcontam ANGSD MOM 95% CI truncated at 0 (only if male and ≥200)',\n",
       "       'Library type (minus=no.damage.correction, half=damage.retained.at.last.position, plus=damage.fully.corrected, ss=single.stranded.library.preparation)',\n",
       "       'LibraryID(s)', 'endogenous by library (computed on shotgun data)',\n",
       "       '1240k coverage (by library)',\n",
       "       'Damage rate in first nucleotide on sequences overlapping 1240k targets (by library)',\n",
       "       'mtDNA coverage (by library)',\n",
       "       'mtDNA haplogroup if ≥2 coverage (by library)',\n",
       "       'mtDNA match to consensus if ≥2 coverage (by library)',\n",
       "       'batch notes (e.g. if a control well looks contaminated)',\n",
       "       'ASSESSMENT (Xcontam listed if |Z|>2 standard errors from zero: 0.02-0.05=\"QUESTIONABLE\", >0.05=\"QUESTIONABLE_CRITICAL\" or \"FAIL\") (mtcontam 97.5th percentile estimates listed if coverage >2: <0.8 is \"QUESTIONABLE_CRITICAL\", 0.8-0.95 is \"QUESTIONABLE\", and 0.95-0.98 is recorded but \"PASS\", gets overriden by ANGSD)'],\n",
       "      dtype='object')"
      ]
     },
     "execution_count": 2,
     "metadata": {},
     "output_type": "execute_result"
    }
   ],
   "source": [
    "anno_path = \"/n/groups/reich/hringbauer/explore_ntbk/v42/V42.3/v42.3.anno\"\n",
    "df = pd.read_csv(anno_path, sep='\\t', low_memory=False)\n",
    "\n",
    "age_col = 'Average of 95.4% date range in calBP (defined as 1950 CE)  '\n",
    "age_rc = 'Date: One of two formats. (Format 1) 95.4% CI calibrated radiocarbon age (Conventional Radiocarbon Age BP, Lab number) e.g. 5983-5747 calBCE (6980±50 BP, Beta-226472). (Format 2) Archaeological context date, e.g. 2500-1700 BCE'\n",
    "cov_col = 'Coverage on autosomal targets'\n",
    "cov_col1 = \"SNPs hit on autosomal targets\"\n",
    "sex_col = \"Sex ratio [Y/(Y+X) counts] (merged data)\"\n",
    "clst_col = 'Group_ID (format convention which we try to adhere to is \"Country_<Geographic.Region_<Geographic.Subregion_>><Archaeological.Period.Or.DateBP_<Alternative.Archaeological.Period_>><Archaeological.Culture_<Alternative.Archaeological.Culture>><genetic.subgrouping.index.if.necessary_><\"o_\"sometimes.with.additional.detail.if.an.outlier><additional.suffix.especially.relative.status.if.we.recommend.removing.from.main.analysis.grouping><\"contam_\".if.contaminated><\"lc_\".if.<15000.SNPs.on.autosomal.targets><\".SG\".or.\".DG\".if.shotgun.data>; HG=hunter-gatherer, N=Neolithic, C=Chalcolithic/CopperAge, BA=BronzeAge, IA=IronAge, E=Early, M=Middle, L=Late, A=Antiquity)'\n",
    "rep_col = 'Representative contact'\n",
    "id_col = 'Instance ID (\"_all\" means includes a mix of UDG-treated and non-UDG-treated; \"_published\" distinguishes a published sample for a still-unpublished higher quality version)'\n",
    "pub_col = 'Publication'\n",
    "mtd_col = \"mtDNA haplogroup if ≥2 coverage (by library)\"\n",
    "y_col = 'Y chrom. (automatically called only if >50000 autosomal SNPs hit)'\n",
    "skel_col = 'Skeletal code'\n",
    "skel_col1 = 'Skeletal element'\n",
    "as_col = 'ASSESSMENT (Xcontam listed if |Z|>2 standard errors from zero: 0.02-0.05=\"QUESTIONABLE\", >0.05=\"QUESTIONABLE_CRITICAL\" or \"FAIL\") (mtcontam 97.5th percentile estimates listed if coverage >2: <0.8 is \"QUESTIONABLE_CRITICAL\", 0.8-0.95 is \"QUESTIONABLE\", and 0.95-0.98 is recorded but \"PASS\", gets overriden by ANGSD)'\n",
    "\n",
    "core_cols = [id_col, skel_col, skel_col1, pub_col, rep_col, age_col, age_rc,\n",
    "             cov_col, cov_col1, mtd_col, y_col, sex_col, clst_col]\n",
    "\n",
    "df.columns # Prints all columns for Info"
   ]
  },
  {
   "cell_type": "code",
   "execution_count": 5,
   "metadata": {},
   "outputs": [],
   "source": [
    "pops = [\"Algeria\", \"Morocco\", \"Punic\", \"Phoenician\", \n",
    "        \"Canaanite\", \"Ashkelon\", \"Greek_Sicily\", \"Sicily_IA\",\n",
    "        \"Israel_IA\", \"Israel_EIA\", \"Israel_Persian\", \"Gibraltar\",\n",
    "        \"Iberia_North_BA_Africa_all\", \"Iberia_BellBeaker_o\", \"Iberia_Greek\",\n",
    "        \"Iberia_Hellenistic\"]\n",
    "pops = '|'.join(pops)\n",
    "#pops"
   ]
  },
  {
   "cell_type": "code",
   "execution_count": 6,
   "metadata": {},
   "outputs": [],
   "source": [
    "df = pd.read_csv(anno_path, sep='\\t', low_memory=False)\n",
    "idx = df[clst_col].str.contains(pops)\n",
    "df1 = df[idx]\n",
    "\n",
    "idx = ~df1[clst_col].str.contains(\"_lc|contam\")\n",
    "df1=df1[idx]\n",
    "df1 = df1.drop(columns=\"Index\")"
   ]
  },
  {
   "cell_type": "code",
   "execution_count": 11,
   "metadata": {},
   "outputs": [
    {
     "name": "stdout",
     "output_type": "stream",
     "text": [
      "Saved 22 Individuals to /n/groups/reich/hringbauer/git/punic_aDNA/data/meta/v43.3_meta0.csv\n"
     ]
    }
   ],
   "source": [
    "path = \"/n/groups/reich/hringbauer/git/punic_aDNA/data/meta/v43.3_meta0.csv\"\n",
    "df1.to_csv(path, sep=\"\\t\", index=False)\n",
    "print(f\"Saved {len(df1)} Individuals to {path}\")"
   ]
  },
  {
   "cell_type": "markdown",
   "metadata": {},
   "source": [
    "# Prepare IIDs for Y calling [standalone]"
   ]
  },
  {
   "cell_type": "code",
   "execution_count": 9,
   "metadata": {},
   "outputs": [
    {
     "name": "stdout",
     "output_type": "stream",
     "text": [
      "Saved 10 Individuals to ./git/punic_aDNA/data/males_sic_feb20.csv\n"
     ]
    }
   ],
   "source": [
    "pop = \"Iberia_Punic\"\n",
    "pop = \"Sicily_Phoenician\"\n",
    "savepath = \"./git/punic_aDNA/data/males_sic_feb20.csv\"\n",
    "\n",
    "df = pd.read_csv(anno_path, sep='\\t', low_memory=False)\n",
    "idx = df[clst_col].str.contains(pop)\n",
    "\n",
    "df1 = df[idx]\n",
    "\n",
    "idx = ~df1[clst_col].str.contains(\"_lc|contam\")\n",
    "df1=df1[idx]\n",
    "df1 = df1.drop(columns=\"Index\")\n",
    "\n",
    "idx_male = (df1[sex_col].astype(\"float\")>0.1)\n",
    "df_male = df1[idx_male]\n",
    "if len(savepath)>0:\n",
    "    df_male.to_csv(savepath, index=False)\n",
    "    print(f\"Saved {len(df_male)} Individuals to {savepath}\")"
   ]
  },
  {
   "cell_type": "code",
   "execution_count": null,
   "metadata": {},
   "outputs": [],
   "source": []
  }
 ],
 "metadata": {
  "kernelspec": {
   "display_name": "Python 3",
   "language": "python",
   "name": "python3"
  },
  "language_info": {
   "codemirror_mode": {
    "name": "ipython",
    "version": 3
   },
   "file_extension": ".py",
   "mimetype": "text/x-python",
   "name": "python",
   "nbconvert_exporter": "python",
   "pygments_lexer": "ipython3",
   "version": "3.7.4"
  }
 },
 "nbformat": 4,
 "nbformat_minor": 4
}
