{
 "cells": [
  {
   "cell_type": "markdown",
   "metadata": {},
   "source": [
    "# Prepare Files for qpAdm"
   ]
  },
  {
   "cell_type": "code",
   "execution_count": 1,
   "metadata": {},
   "outputs": [
    {
     "name": "stdout",
     "output_type": "stream",
     "text": [
      "compute-a-16-163.o2.rc.hms.harvard.edu\n",
      "HSM Computational partition detected.\n",
      "/n/groups/reich/hringbauer/git/punic_aDNA\n",
      "CPU Count: 32\n",
      "3.7.4 (default, Sep 11 2019, 11:24:51) \n",
      "[GCC 6.2.0]\n"
     ]
    }
   ],
   "source": [
    "import numpy as np\n",
    "import os  # For Saving to Folder\n",
    "import pandas as pd\n",
    "import matplotlib.pyplot as plt\n",
    "\n",
    "import socket\n",
    "import os as os\n",
    "import sys as sys\n",
    "import multiprocessing as mp\n",
    "import itertools as it\n",
    "from time import time\n",
    "\n",
    "# For Arial Font\n",
    "from matplotlib import rcParams\n",
    "rcParams['font.family'] = 'sans-serif'   # Set the defaul\n",
    "# Make sure to have the font installed (it is on cluster for Harald)\n",
    "rcParams['font.sans-serif'] = ['Arial']\n",
    "\n",
    "socket_name = socket.gethostname()\n",
    "print(socket_name)\n",
    "\n",
    "if socket_name.startswith(\"compute-\"):\n",
    "    print(\"HSM Computational partition detected.\")\n",
    "    path = \"/n/groups/reich/hringbauer/git/punic_aDNA/\"  # The Path on Midway Cluster\n",
    "else:\n",
    "    raise RuntimeWarning(\"Not compatible machine. Check!!\")\n",
    "\n",
    "os.chdir(path)  # Set the right Path (in line with Atom default)\n",
    "# Show the current working directory. Should be HAPSBURG/Notebooks/ParallelRuns\n",
    "print(os.getcwd())\n",
    "print(f\"CPU Count: {mp.cpu_count()}\")\n",
    "print(sys.version)"
   ]
  },
  {
   "cell_type": "code",
   "execution_count": 3,
   "metadata": {},
   "outputs": [],
   "source": [
    "def run_convertf(path_convertf = \"./o2bin/convertf\", parfile = \"./explore_ntbk/parfiles/convertf.keep.par\"):\n",
    "    \"\"\"Runs the Downsampling\"\"\"\n",
    "    ! $path_convertf -p $parfile"
   ]
  },
  {
   "cell_type": "markdown",
   "metadata": {},
   "source": [
    "# Load Ind File"
   ]
  },
  {
   "cell_type": "code",
   "execution_count": 15,
   "metadata": {},
   "outputs": [
    {
     "name": "stdout",
     "output_type": "stream",
     "text": [
      "Loaded 34764 Individuals\n"
     ]
    }
   ],
   "source": [
    "base_path = \"/n/groups/reich/DAVID/V46/V46.3/v46.3_HO\"\n",
    "ind_path = base_path + \".ind\"\n",
    "\n",
    "df_ind = pd.read_csv(ind_path, delim_whitespace=True, header=None)\n",
    "df_ind.columns=[\"iid\", \"sex\", \"clst\"]\n",
    "print(f\"Loaded {len(df_ind)} Individuals\")\n",
    "\n",
    "df_anno = pd.read_csv(base_path + \".anno\", sep=\"\\t\", low_memory=False)"
   ]
  },
  {
   "cell_type": "code",
   "execution_count": 72,
   "metadata": {},
   "outputs": [],
   "source": [
    "#lat = df[\"Lat.\"].values\n",
    "#lon = df[\"Long.\"].values"
   ]
  },
  {
   "cell_type": "code",
   "execution_count": 127,
   "metadata": {},
   "outputs": [],
   "source": [
    "def return_pops(df, string, col=\"clst\", \n",
    "                output=False):\n",
    "    \"\"\"Return list of clusters that contain string.\"\"\"\n",
    "    df1 = df[df[col].str.contains(string)]\n",
    "    if output:\n",
    "        print(df1[col].value_counts())\n",
    "    clsts = list(set(df1[col].values))\n",
    "    print(f\"Found #clsts labels containing {string}: {len(clsts)}\")\n",
    "    return clsts\n",
    "\n",
    "def extract_df_countries(df, countries, age_col=\"\", snp_col=\"\", min_snps=0):\n",
    "    \"\"\"Extract Individuals from list of countries\"\"\"\n",
    "    age = pd.to_numeric(df[age_col], errors=\"coerce\")\n",
    "    snps = pd.to_numeric(df[snp_col], errors=\"coerce\")\n",
    "    idx0 = snps>=min_snps\n",
    "    \n",
    "    for c in countries:\n",
    "        idx = df[\"Country\"].isin([c])\n",
    "        \n",
    "        idxb = idx & idx0\n",
    "        print(f\"{c}: {np.sum(idxb)}/{np.sum(idx)} inds\")\n",
    "\n",
    "    idx = (df[\"Country\"].isin(countries)) & idx0\n",
    "    print(f\"Returning {np.sum(idx)} Indivdiual Dataframe\")\n",
    "    return df[idx]"
   ]
  },
  {
   "cell_type": "markdown",
   "metadata": {},
   "source": [
    "### Extract based on Country"
   ]
  },
  {
   "cell_type": "code",
   "execution_count": 112,
   "metadata": {},
   "outputs": [
    {
     "name": "stdout",
     "output_type": "stream",
     "text": [
      "Morocco: 58/81 inds\n",
      "Algeria: 37/70 inds\n",
      "Tunisia: 15/54 inds\n",
      "Libya: 15/15 inds\n",
      "Egypt: 22/75 inds\n",
      "Sudan: 240/355 inds\n",
      "Eritrea: 0/4 inds\n",
      "Chad: 0/5 inds\n",
      "Niger: 0/10 inds\n",
      "Nigeria: 459/706 inds\n",
      "Burkina Faso: 30/31 inds\n",
      "Mali: 0/1 inds\n",
      "Senegal: 37/70 inds\n",
      "Mauritania: 0/0 inds\n",
      "Canary Islands: 0/5 inds\n",
      "Returning 1482 Indivdiual Dataframe\n",
      "Extracting 234 Group Labels\n"
     ]
    }
   ],
   "source": [
    "### Extract all modern samples:\n",
    "\n",
    "df_afr = extract_df_countries(df_anno, \n",
    "                              countries = [\"Morocco\", \"Algeria\", \"Tunisia\", \"Libya\", \"Egypt\", \"Sudan\", \"Eritrea\", \"Chad\", \n",
    "                                           \"Niger\", \"Nigeria\", \"Burkina Faso\", \"Mali\", \"Senegal\", \"Mauritania\", \"Canary Islands\"],\n",
    "                              age_col = 'Date mean in BP [OxCal mu for a direct radiocarbon date, and average of range for a contextual date]',\n",
    "                              snp_col = \"SNPs hit on autosomal targets\")\n",
    "clsts_countries = set(df_afr[\"Group Label\"])\n",
    "print(f\"Extracting {len(clsts_countries)} Group Labels\")"
   ]
  },
  {
   "cell_type": "code",
   "execution_count": 109,
   "metadata": {},
   "outputs": [
    {
     "name": "stdout",
     "output_type": "stream",
     "text": [
      "Found #clsts labels containing Punic: 38\n",
      "Found #clsts labels containing Phoenician: 3\n",
      "Found #clsts labels containing Ibiza: 1\n",
      "Found #clsts labels containing Phoenician: 3\n",
      "Found #clsts labels containing Ashkelon: 4\n",
      "Found #clsts labels containing Spain_EBA_Afric: 3\n",
      "Found #clsts labels containing Spain_BellBeaker_oAfrican: 2\n",
      "Found #clsts labels containing Italy_Sardinia_C_oAfrican: 2\n"
     ]
    },
    {
     "data": {
      "text/plain": [
       "56"
      ]
     },
     "execution_count": 109,
     "metadata": {},
     "output_type": "execute_result"
    }
   ],
   "source": [
    "pops = [\"Punic\", \"Phoenician\", \"Ibiza\", \"Phoenician\", \"Ashkelon\",\n",
    "        \"Spain_EBA_Afric\", \"Spain_BellBeaker_oAfrican\",\n",
    "        \"Italy_Sardinia_C_oAfrican\"]\n",
    "\n",
    "exclude_strings = [\"_lc\", \"contam\"]\n",
    "\n",
    "clsts = [return_pops(df_ind, string=pop, \n",
    "                     output=False) for pop in pops]\n",
    "\n",
    "clsts = [inner for ls in clsts for inner in ls]\n",
    "len(clsts)"
   ]
  },
  {
   "cell_type": "markdown",
   "metadata": {},
   "source": [
    "# Prepare and save Pop List to extract"
   ]
  },
  {
   "cell_type": "code",
   "execution_count": 114,
   "metadata": {},
   "outputs": [
    {
     "name": "stdout",
     "output_type": "stream",
     "text": [
      "Total: 279 Populations\n",
      "After Exclusion: 223 Poulation Labels\n"
     ]
    }
   ],
   "source": [
    "exclude_strings = [\"_lc\", \"contam\"]\n",
    "\n",
    "clsts1 = list(set(clsts).union(set(clsts_countries))) # Filter to unique Elements\n",
    "print(f\"Total: {len(clsts1)} Populations\")\n",
    "\n",
    "### Exclude Strings\n",
    "for ex in exclude_strings:\n",
    "    clsts1 = [c for c in clsts1 if ex not in c]\n",
    "print(f\"After Exclusion: {len(clsts1)} Poulation Labels\")"
   ]
  },
  {
   "cell_type": "code",
   "execution_count": 115,
   "metadata": {},
   "outputs": [
    {
     "name": "stdout",
     "output_type": "stream",
     "text": [
      "Saved 223 population names to ./parfiles/pca/keep_pops_nafr\n"
     ]
    }
   ],
   "source": [
    "keep = np.array(clsts1)\n",
    "path_keep = \"./parfiles/pca/keep_pops_nafr\" # keep_pops for Kerkouane\n",
    "np.savetxt(path_keep, keep, fmt=\"%s\")\n",
    "print(f\"Saved {len(keep)} population names to {path_keep}\")"
   ]
  },
  {
   "cell_type": "markdown",
   "metadata": {},
   "source": [
    "### Manually Adjust Parfile Here, then run convertf"
   ]
  },
  {
   "cell_type": "code",
   "execution_count": 118,
   "metadata": {},
   "outputs": [
    {
     "name": "stdout",
     "output_type": "stream",
     "text": [
      "parameter file: ./parfiles/convertf.afr.v46.3.par\n",
      "BASE: /n/groups/reich/\n",
      "DIR: DAVID/V46/V46.3/v46.3_HO\n",
      "OUT: hringbauer/git/punic_aDNA/eigenstrat/nafr/v46.3\n",
      "genotypename: /n/groups/reich//DAVID/V46/V46.3/v46.3_HO.geno\n",
      "snpname: /n/groups/reich//DAVID/V46/V46.3/v46.3_HO.snp\n",
      "indivname: /n/groups/reich//DAVID/V46/V46.3/v46.3_HO.ind\n",
      "genooutfilename: /n/groups/reich//hringbauer/git/punic_aDNA/eigenstrat/nafr/v46.3.geno\n",
      "snpoutfilename: /n/groups/reich//hringbauer/git/punic_aDNA/eigenstrat/nafr/v46.3.snp\n",
      "indoutfilename: /n/groups/reich//hringbauer/git/punic_aDNA/eigenstrat/nafr/v46.3.ind\n",
      "outputformat: PACKEDANCESTRYMAP\n",
      "hashcheck: YES\n",
      "poplistname: /n/groups/reich//hringbauer/git/punic_aDNA/parfiles/pops/keep_pops_nafr\n",
      "## /n/groups/reich/hringbauer/o2bin/convertf version: 5722\n",
      "read 1073741824 bytes\n",
      "read 2147483648 bytes\n",
      "read 3221225472 bytes\n",
      "read 4294967296 bytes\n",
      "read 5193506943 bytes\n",
      "packed geno read OK\n",
      "end of inpack\n",
      "before compress: snps: 597573 indivs: 34764\n",
      "after compress: snps: 597573 indivs: 1492\n",
      "numvalidind:   1492  maxmiss: 1492001\n",
      "packedancestrymap output\n",
      "numsnps output: 597573\n",
      "##end of convertf:     1381.900 seconds cpu      368.038 Mbytes in use\n",
      "CPU times: user 34.6 s, sys: 7.23 s, total: 41.8 s\n",
      "Wall time: 23min 3s\n"
     ]
    }
   ],
   "source": [
    "%%time\n",
    "run_convertf(path_convertf = \"/n/groups/reich/hringbauer/o2bin/convertf\", \n",
    "             parfile = \"./parfiles/convertf.afr.v46.3.par\")"
   ]
  },
  {
   "cell_type": "markdown",
   "metadata": {},
   "source": [
    "# Modify .ind file to have projection available"
   ]
  },
  {
   "cell_type": "code",
   "execution_count": 159,
   "metadata": {},
   "outputs": [
    {
     "name": "stdout",
     "output_type": "stream",
     "text": [
      "Morocco: 58/81 inds\n",
      "Algeria: 37/70 inds\n",
      "Tunisia: 15/54 inds\n",
      "Libya: 15/15 inds\n",
      "Egypt: 22/75 inds\n",
      "Sudan: 240/355 inds\n",
      "Eritrea: 0/4 inds\n",
      "Chad: 0/5 inds\n",
      "Niger: 0/10 inds\n",
      "Nigeria: 459/706 inds\n",
      "Burkina Faso: 30/31 inds\n",
      "Mali: 0/1 inds\n",
      "Senegal: 37/70 inds\n",
      "Mauritania: 0/0 inds\n",
      "Canary Islands: 0/5 inds\n",
      "Returning 913 Indivdiual Dataframe\n"
     ]
    }
   ],
   "source": [
    "path_ind = \"/n/groups/reich/hringbauer/git/punic_aDNA/eigenstrat/nafr/v46.3.ind\"\n",
    "path_mod = \"/n/groups/reich/hringbauer/git/punic_aDNA/eigenstrat/nafr/v46.3_mod.ind\"\n",
    "\n",
    "df_ind = pd.read_csv(path_ind, header=None, sep=r\"\\s+\", engine=\"python\")\n",
    "df_ind.columns = [\"iid\", \"sex\", \"pop\"]\n",
    "\n",
    "### Extract Individuals with sufficiently many SNPs\n",
    "df_pca = extract_df_countries(df_anno, \n",
    "                              countries = [\"Morocco\", \"Algeria\", \"Tunisia\", \"Libya\", \"Egypt\", \"Sudan\", \"Eritrea\", \"Chad\", \n",
    "                                           \"Niger\", \"Nigeria\", \"Burkina Faso\", \"Mali\", \"Senegal\", \"Mauritania\", \"Canary Islands\"],\n",
    "                              age_col = 'Date mean in BP [OxCal mu for a direct radiocarbon date, and average of range for a contextual date]',\n",
    "                              snp_col = \"SNPs hit on autosomal targets\", min_snps=550000)"
   ]
  },
  {
   "cell_type": "code",
   "execution_count": 160,
   "metadata": {},
   "outputs": [],
   "source": [
    "def extract_subset_df(df, countries, n_per_c=50):\n",
    "    \"\"\"Extract subset of n_per_c random samples per country in list.\n",
    "    Return dataframe\"\"\"\n",
    "    dfs = []\n",
    "\n",
    "    for c in countries:\n",
    "        idx = (df[\"Country\"]==c)\n",
    "        dft = df[idx]\n",
    "        if len(dft)>n_per_c:\n",
    "            dft = dft.sample(n=n_per_c, replace=False)\n",
    "        dfs.append(dft.copy())\n",
    "        \n",
    "    df = pd.concat(dfs)\n",
    "    print(f\"Subset to: {len(df)} Individuals\")\n",
    "    return df"
   ]
  },
  {
   "cell_type": "code",
   "execution_count": 161,
   "metadata": {},
   "outputs": [
    {
     "name": "stdout",
     "output_type": "stream",
     "text": [
      "Subset to: 364 Individuals\n",
      "Unique Indivdiuals: 364\n"
     ]
    }
   ],
   "source": [
    "countries = [\"Morocco\", \"Algeria\", \"Tunisia\", \"Libya\", \"Egypt\", \n",
    "             \"Sudan\", \"Eritrea\", \"Chad\", \n",
    "             \"Niger\", \"Nigeria\", \"Burkina Faso\", \"Mali\", \n",
    "             \"Senegal\", \"Mauritania\", \"Canary Islands\"]\n",
    "\n",
    "df_pca1 = extract_subset_df(df_pca, countries, n_per_c=75)\n",
    "idx_dup = df_pca1.duplicated(subset=\"Master ID\")\n",
    "df_pca1 = df_pca1[~idx_dup]\n",
    "print(f\"Unique Indivdiuals: {len(df_pca1)}\")\n",
    "iids_pca = df_pca1[\"Master ID\"].values"
   ]
  },
  {
   "cell_type": "code",
   "execution_count": 147,
   "metadata": {},
   "outputs": [
    {
     "data": {
      "text/plain": [
       "Nigeria         75\n",
       "Sudan           75\n",
       "Morocco         58\n",
       "Algeria         37\n",
       "Senegal         37\n",
       "Burkina Faso    30\n",
       "Egypt           22\n",
       "Tunisia         15\n",
       "Libya           15\n",
       "Name: Country, dtype: int64"
      ]
     },
     "execution_count": 147,
     "metadata": {},
     "output_type": "execute_result"
    }
   ],
   "source": [
    "#df_pca1[\"Country\"].value_counts()"
   ]
  },
  {
   "cell_type": "code",
   "execution_count": 164,
   "metadata": {},
   "outputs": [
    {
     "name": "stdout",
     "output_type": "stream",
     "text": [
      "Set 329/1492 pops to: construct_NAFR_PCA\n",
      "Saved 1492 overall individuals to /n/groups/reich/hringbauer/git/punic_aDNA/eigenstrat/nafr/v46.3_mod.ind\n"
     ]
    }
   ],
   "source": [
    "idx = df_ind[\"iid\"].isin(iids_pca)\n",
    "df_ind.loc[idx, \"pop\"]  = \"construct_NAFR_PCA\" #df_ind.loc[idx, \"pop\"] + \"_mod\" \n",
    "\n",
    "idx = [(p==\"construct_NAFR_PCA\") for p in df_ind[\"pop\"]] \n",
    "print(f\"Set {np.sum(idx)}/{len(idx)} pops to: construct_NAFR_PCA\")\n",
    "\n",
    "df_ind.to_csv(path_mod, sep=\" \", index=None, header=False)\n",
    "print(f\"Saved {len(df_ind)} overall individuals to {path_mod}\")"
   ]
  },
  {
   "cell_type": "code",
   "execution_count": 157,
   "metadata": {},
   "outputs": [
    {
     "data": {
      "text/html": [
       "<div>\n",
       "<style scoped>\n",
       "    .dataframe tbody tr th:only-of-type {\n",
       "        vertical-align: middle;\n",
       "    }\n",
       "\n",
       "    .dataframe tbody tr th {\n",
       "        vertical-align: top;\n",
       "    }\n",
       "\n",
       "    .dataframe thead th {\n",
       "        text-align: right;\n",
       "    }\n",
       "</style>\n",
       "<table border=\"1\" class=\"dataframe\">\n",
       "  <thead>\n",
       "    <tr style=\"text-align: right;\">\n",
       "      <th></th>\n",
       "      <th>iid</th>\n",
       "      <th>sex</th>\n",
       "      <th>pop</th>\n",
       "    </tr>\n",
       "  </thead>\n",
       "  <tbody>\n",
       "    <tr>\n",
       "      <th>0</th>\n",
       "      <td>ABK-056</td>\n",
       "      <td>M</td>\n",
       "      <td>construct_NAFR_PCA</td>\n",
       "    </tr>\n",
       "    <tr>\n",
       "      <th>1</th>\n",
       "      <td>ABK-065</td>\n",
       "      <td>M</td>\n",
       "      <td>construct_NAFR_PCA</td>\n",
       "    </tr>\n",
       "    <tr>\n",
       "      <th>2</th>\n",
       "      <td>ABK-068</td>\n",
       "      <td>M</td>\n",
       "      <td>construct_NAFR_PCA</td>\n",
       "    </tr>\n",
       "    <tr>\n",
       "      <th>3</th>\n",
       "      <td>ABK-070</td>\n",
       "      <td>M</td>\n",
       "      <td>construct_NAFR_PCA</td>\n",
       "    </tr>\n",
       "    <tr>\n",
       "      <th>4</th>\n",
       "      <td>ABK-073</td>\n",
       "      <td>M</td>\n",
       "      <td>construct_NAFR_PCA</td>\n",
       "    </tr>\n",
       "    <tr>\n",
       "      <th>...</th>\n",
       "      <td>...</td>\n",
       "      <td>...</td>\n",
       "      <td>...</td>\n",
       "    </tr>\n",
       "    <tr>\n",
       "      <th>1487</th>\n",
       "      <td>I6331</td>\n",
       "      <td>M</td>\n",
       "      <td>Sudan_EarlyChristian_R_dup.I21009</td>\n",
       "    </tr>\n",
       "    <tr>\n",
       "      <th>1488</th>\n",
       "      <td>I22852</td>\n",
       "      <td>M</td>\n",
       "      <td>Tunisia_N</td>\n",
       "    </tr>\n",
       "    <tr>\n",
       "      <th>1489</th>\n",
       "      <td>I22336</td>\n",
       "      <td>F</td>\n",
       "      <td>Sudan_PostMerotic_oNativeAmerican</td>\n",
       "    </tr>\n",
       "    <tr>\n",
       "      <th>1490</th>\n",
       "      <td>I11896_d</td>\n",
       "      <td>F</td>\n",
       "      <td>Algeria_N_d</td>\n",
       "    </tr>\n",
       "    <tr>\n",
       "      <th>1491</th>\n",
       "      <td>I6130_d</td>\n",
       "      <td>M</td>\n",
       "      <td>Egypt_MiddleKingdom</td>\n",
       "    </tr>\n",
       "  </tbody>\n",
       "</table>\n",
       "<p>1492 rows × 3 columns</p>\n",
       "</div>"
      ],
      "text/plain": [
       "           iid sex                                pop\n",
       "0      ABK-056   M                 construct_NAFR_PCA\n",
       "1      ABK-065   M                 construct_NAFR_PCA\n",
       "2      ABK-068   M                 construct_NAFR_PCA\n",
       "3      ABK-070   M                 construct_NAFR_PCA\n",
       "4      ABK-073   M                 construct_NAFR_PCA\n",
       "...        ...  ..                                ...\n",
       "1487     I6331   M  Sudan_EarlyChristian_R_dup.I21009\n",
       "1488    I22852   M                          Tunisia_N\n",
       "1489    I22336   F  Sudan_PostMerotic_oNativeAmerican\n",
       "1490  I11896_d   F                        Algeria_N_d\n",
       "1491   I6130_d   M                Egypt_MiddleKingdom\n",
       "\n",
       "[1492 rows x 3 columns]"
      ]
     },
     "execution_count": 157,
     "metadata": {},
     "output_type": "execute_result"
    }
   ],
   "source": [
    "df_ind"
   ]
  },
  {
   "cell_type": "markdown",
   "metadata": {},
   "source": [
    "# Now you can sbatch the PCA script"
   ]
  },
  {
   "cell_type": "markdown",
   "metadata": {},
   "source": [
    "Takes about 9h for 1000 extra samples\n",
    "\n",
    "See in `./parfiles/pca/`"
   ]
  },
  {
   "cell_type": "markdown",
   "metadata": {},
   "source": [
    "# Area 51"
   ]
  },
  {
   "cell_type": "code",
   "execution_count": null,
   "metadata": {},
   "outputs": [],
   "source": [
    "pops"
   ]
  },
  {
   "cell_type": "code",
   "execution_count": null,
   "metadata": {},
   "outputs": [],
   "source": []
  }
 ],
 "metadata": {
  "kernelspec": {
   "display_name": "Python 3",
   "language": "python",
   "name": "python3"
  },
  "language_info": {
   "codemirror_mode": {
    "name": "ipython",
    "version": 3
   },
   "file_extension": ".py",
   "mimetype": "text/x-python",
   "name": "python",
   "nbconvert_exporter": "python",
   "pygments_lexer": "ipython3",
   "version": "3.7.4"
  }
 },
 "nbformat": 4,
 "nbformat_minor": 4
}
