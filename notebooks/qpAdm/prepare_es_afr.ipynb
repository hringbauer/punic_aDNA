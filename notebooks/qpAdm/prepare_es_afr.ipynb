{
 "cells": [
  {
   "cell_type": "markdown",
   "metadata": {},
   "source": [
    "# Prepare Files for qpAdm"
   ]
  },
  {
   "cell_type": "code",
   "execution_count": 56,
   "metadata": {},
   "outputs": [
    {
     "name": "stdout",
     "output_type": "stream",
     "text": [
      "compute-a-16-59.o2.rc.hms.harvard.edu\n",
      "HSM Computational partition detected.\n",
      "/n/groups/reich/hringbauer/git/punic_aDNA\n",
      "CPU Count: 32\n",
      "3.7.4 (default, Sep 11 2019, 11:24:51) \n",
      "[GCC 6.2.0]\n"
     ]
    }
   ],
   "source": [
    "import numpy as np\n",
    "import os  # For Saving to Folder\n",
    "import pandas as pd\n",
    "import matplotlib.pyplot as plt\n",
    "\n",
    "import socket\n",
    "import os as os\n",
    "import sys as sys\n",
    "import multiprocessing as mp\n",
    "import itertools as it\n",
    "from time import time\n",
    "\n",
    "# For Arial Font\n",
    "from matplotlib import rcParams\n",
    "rcParams['font.family'] = 'sans-serif'   # Set the defaul\n",
    "# Make sure to have the font installed (it is on cluster for Harald)\n",
    "rcParams['font.sans-serif'] = ['Arial']\n",
    "\n",
    "socket_name = socket.gethostname()\n",
    "print(socket_name)\n",
    "\n",
    "if socket_name.startswith(\"compute-\"):\n",
    "    print(\"HSM Computational partition detected.\")\n",
    "    path = \"/n/groups/reich/hringbauer/git/punic_aDNA/\"  # The Path on Midway Cluster\n",
    "else:\n",
    "    raise RuntimeWarning(\"Not compatible machine. Check!!\")\n",
    "\n",
    "os.chdir(path)  # Set the right Path (in line with Atom default)\n",
    "# Show the current working directory. Should be HAPSBURG/Notebooks/ParallelRuns\n",
    "print(os.getcwd())\n",
    "print(f\"CPU Count: {mp.cpu_count()}\")\n",
    "print(sys.version)"
   ]
  },
  {
   "cell_type": "code",
   "execution_count": 116,
   "metadata": {},
   "outputs": [],
   "source": [
    "def run_convertf(path_convertf = \"./o2bin/convertf\", parfile = \"./explore_ntbk/parfiles/convertf.keep.par\"):\n",
    "    \"\"\"Runs the Downsampling\"\"\"\n",
    "    ! $path_convertf -p $parfile\n",
    "    \n",
    "def return_pops(df, string, col=\"clst\", \n",
    "                output=False):\n",
    "    \"\"\"Return list of clusters that contain string.\"\"\"\n",
    "    df1 = df[df[col].str.contains(string)]\n",
    "    if output:\n",
    "        print(df1[col].value_counts())\n",
    "    clsts = list(set(df1[col].values))\n",
    "    print(f\"Found #clsts labels containing {string}: {len(clsts)}\")\n",
    "    return clsts\n",
    "\n",
    "def extract_df_countries(df, countries, age_col=\"\", \n",
    "                         snp_col=\"\", min_snps=0):\n",
    "    \"\"\"Extract Individuals from list of countries\"\"\"\n",
    "    age = pd.to_numeric(df[age_col], errors=\"coerce\")\n",
    "    snps = pd.to_numeric(df[snp_col], errors=\"coerce\")\n",
    "    if min_snps>0:\n",
    "        idx0 = snps>=min_snps\n",
    "    else:\n",
    "        idx0 = np.ones(len(df), dtype=\"bool\")\n",
    "    \n",
    "    for c in countries:\n",
    "        idx = df[\"Country\"].isin([c])\n",
    "        idxb = idx & idx0\n",
    "        print(f\"{c}: {np.sum(idxb)}/{np.sum(idx)} inds\")\n",
    "\n",
    "    idx = (df[\"Country\"].isin(countries)) & idx0\n",
    "    print(f\"Returning {np.sum(idx)} Indivdiual Dataframe\")\n",
    "    return df[idx]\n",
    "\n",
    "def extract_subset_df(df, countries, n_per_c=50):\n",
    "    \"\"\"Extract subset of n_per_c random samples per country in list.\n",
    "    Return dataframe\"\"\"\n",
    "    dfs = []\n",
    "\n",
    "    for c in countries:\n",
    "        idx = (df[\"Country\"]==c)\n",
    "        dft = df[idx]\n",
    "        if len(dft)>n_per_c:\n",
    "            dft = dft.sample(n=n_per_c, replace=False)\n",
    "        dfs.append(dft.copy())\n",
    "        \n",
    "    df = pd.concat(dfs)\n",
    "    print(f\"Subset to: {len(df)} Individuals\")\n",
    "    return df"
   ]
  },
  {
   "cell_type": "markdown",
   "metadata": {},
   "source": [
    "# Load Ind File"
   ]
  },
  {
   "cell_type": "code",
   "execution_count": 117,
   "metadata": {},
   "outputs": [
    {
     "name": "stdout",
     "output_type": "stream",
     "text": [
      "Loaded 34764 Individuals\n"
     ]
    }
   ],
   "source": [
    "base_path = \"/n/groups/reich/DAVID/V46/V46.3/v46.3_HO\"\n",
    "ind_path = base_path + \".ind\"\n",
    "\n",
    "df_ind = pd.read_csv(ind_path, delim_whitespace=True, header=None)\n",
    "df_ind.columns=[\"iid\", \"sex\", \"clst\"]\n",
    "print(f\"Loaded {len(df_ind)} Individuals\")\n",
    "\n",
    "df_anno = pd.read_csv(base_path + \".anno\", sep=\"\\t\", low_memory=False)"
   ]
  },
  {
   "cell_type": "code",
   "execution_count": null,
   "metadata": {},
   "outputs": [],
   "source": [
    "#df_anno[df_anno[\"Country\"].str.contains(\"Egypt\")]"
   ]
  },
  {
   "cell_type": "markdown",
   "metadata": {},
   "source": [
    "### Extract based on Country"
   ]
  },
  {
   "cell_type": "code",
   "execution_count": 119,
   "metadata": {},
   "outputs": [
    {
     "name": "stdout",
     "output_type": "stream",
     "text": [
      "Morocco: 81/81 inds\n",
      "Algeria: 70/70 inds\n",
      "Tunisia: 54/54 inds\n",
      "Libya: 15/15 inds\n",
      "Egypt: 75/75 inds\n",
      "Sudan: 355/355 inds\n",
      "Eritrea: 4/4 inds\n",
      "Chad: 5/5 inds\n",
      "Niger: 10/10 inds\n",
      "Nigeria: 706/706 inds\n",
      "Burkina Faso: 31/31 inds\n",
      "Mali: 1/1 inds\n",
      "Senegal: 70/70 inds\n",
      "Mauritania: 0/0 inds\n",
      "Canary Islands: 5/5 inds\n",
      "Gambia: 121/121 inds\n",
      "Jordan: 71/71 inds\n",
      "Sierra Leone: 95/95 inds\n",
      "Returning 1769 Indivdiual Dataframe\n",
      "Found 1769/1769 North African  IIDs from Meta\n",
      "Extracting 262 Group Labels\n"
     ]
    }
   ],
   "source": [
    "### Extract all modern samples:\n",
    "df_afr = extract_df_countries(df_anno, \n",
    "                              countries = [\"Morocco\", \"Algeria\", \"Tunisia\", \"Libya\", \"Egypt\", \"Sudan\", \"Eritrea\", \"Chad\", \n",
    "                                           \"Niger\", \"Nigeria\", \"Burkina Faso\", \"Mali\", \"Senegal\", \n",
    "                                           \"Mauritania\", \"Canary Islands\", \"Gambia\", \"Jordan\", \"Sierra Leone\"],\n",
    "                              age_col = 'Date mean in BP [OxCal mu for a direct radiocarbon date, and average of range for a contextual date]',\n",
    "                              snp_col = \"Coverage on autosomal targets\")\n",
    "\n",
    "iids_meta = df_afr[\"Version ID\"].values\n",
    "idx = [iid in iids_meta for iid in df_ind[\"iid\"]]\n",
    "print(f\"Found {np.sum(idx)}/{len(df_afr)} North African  IIDs from Meta\")\n",
    "clsts_countries = set(df_ind[\"clst\"][idx])\n",
    "print(f\"Extracting {len(clsts_countries)} Group Labels\")"
   ]
  },
  {
   "cell_type": "code",
   "execution_count": null,
   "metadata": {},
   "outputs": [],
   "source": [
    "df_afr[df_afr[\"Country\"].str.contains(\"Egypt\")]"
   ]
  },
  {
   "cell_type": "code",
   "execution_count": 93,
   "metadata": {},
   "outputs": [
    {
     "name": "stdout",
     "output_type": "stream",
     "text": [
      "Found #clsts labels containing Punic: 38\n",
      "Found #clsts labels containing Phoenician: 3\n",
      "Found #clsts labels containing Ibiza: 1\n",
      "Found #clsts labels containing Phoenician: 3\n",
      "Found #clsts labels containing Ashkelon: 4\n",
      "Found #clsts labels containing Spain_EBA_Afric: 3\n",
      "Found #clsts labels containing Spain_BellBeaker_oAfrican: 2\n",
      "Found #clsts labels containing Italy_Sardinia_C_oAfrican: 2\n"
     ]
    },
    {
     "data": {
      "text/plain": [
       "56"
      ]
     },
     "execution_count": 93,
     "metadata": {},
     "output_type": "execute_result"
    }
   ],
   "source": [
    "pops = [\"Punic\", \"Phoenician\", \"Ibiza\", \"Phoenician\", \"Ashkelon\",\n",
    "        \"Spain_EBA_Afric\", \"Spain_BellBeaker_oAfrican\",\n",
    "        \"Italy_Sardinia_C_oAfrican\"]\n",
    "\n",
    "exclude_strings = [\"_lc\", \"contam\"]\n",
    "\n",
    "clsts = [return_pops(df_ind, string=pop, \n",
    "                     output=False) for pop in pops]\n",
    "clsts = [inner for ls in clsts for inner in ls]\n",
    "len(clsts)"
   ]
  },
  {
   "cell_type": "markdown",
   "metadata": {},
   "source": [
    "# Prepare and save Pop List to extract"
   ]
  },
  {
   "cell_type": "code",
   "execution_count": 94,
   "metadata": {},
   "outputs": [
    {
     "name": "stdout",
     "output_type": "stream",
     "text": [
      "Total: 307 Populations\n",
      "After Exclusion: 245 Population Labels\n"
     ]
    }
   ],
   "source": [
    "exclude_strings = [\"_lc\", \"contam\"]\n",
    "clsts1 = list(set(clsts).union(set(clsts_countries))) # Filter to unique Elements\n",
    "print(f\"Total: {len(clsts1)} Populations\")\n",
    "\n",
    "### Exclude Strings\n",
    "for ex in exclude_strings:\n",
    "    clsts1 = [c for c in clsts1 if ex not in c]\n",
    "print(f\"After Exclusion: {len(clsts1)} Population Labels\")"
   ]
  },
  {
   "cell_type": "code",
   "execution_count": 114,
   "metadata": {},
   "outputs": [
    {
     "name": "stdout",
     "output_type": "stream",
     "text": [
      "Saved 245 population names to ./parfiles/pops/keep_pops_nafr\n"
     ]
    }
   ],
   "source": [
    "keep = np.array(clsts1)\n",
    "path_keep = \"./parfiles/pops/keep_pops_nafr\" # keep_pops for Kerkouane\n",
    "np.savetxt(path_keep, keep, fmt=\"%s\")\n",
    "print(f\"Saved {len(keep)} population names to {path_keep}\")"
   ]
  },
  {
   "cell_type": "markdown",
   "metadata": {},
   "source": [
    "### Manually Adjust Parfile Here, then run convertf"
   ]
  },
  {
   "cell_type": "code",
   "execution_count": 115,
   "metadata": {},
   "outputs": [
    {
     "name": "stdout",
     "output_type": "stream",
     "text": [
      "parameter file: ./parfiles/convertf/afr.v46.3.par\n",
      "BASE: /n/groups/reich/\n",
      "DIR: DAVID/V46/V46.3/v46.3_HO\n",
      "OUT: hringbauer/git/punic_aDNA/eigenstrat/nafr/v46.3.v2\n",
      "genotypename: /n/groups/reich//DAVID/V46/V46.3/v46.3_HO.geno\n",
      "snpname: /n/groups/reich//DAVID/V46/V46.3/v46.3_HO.snp\n",
      "indivname: /n/groups/reich//DAVID/V46/V46.3/v46.3_HO.ind\n",
      "genooutfilename: /n/groups/reich//hringbauer/git/punic_aDNA/eigenstrat/nafr/v46.3.v2.geno\n",
      "snpoutfilename: /n/groups/reich//hringbauer/git/punic_aDNA/eigenstrat/nafr/v46.3.v2.snp\n",
      "indoutfilename: /n/groups/reich//hringbauer/git/punic_aDNA/eigenstrat/nafr/v46.3.v2.ind\n",
      "outputformat: PACKEDANCESTRYMAP\n",
      "hashcheck: YES\n",
      "poplistname: /n/groups/reich//hringbauer/git/punic_aDNA/parfiles/pops/keep_pops_nafr\n",
      "## /n/groups/reich/hringbauer/o2bin/convertf version: 5722\n",
      "read 1073741824 bytes\n",
      "read 2147483648 bytes\n",
      "read 3221225472 bytes\n",
      "read 4294967296 bytes\n",
      "read 5193506943 bytes\n",
      "packed geno read OK\n",
      "end of inpack\n",
      "before compress: snps: 597573 indivs: 34764\n",
      "after compress: snps: 597573 indivs: 1831\n",
      "numvalidind:   1831  maxmiss: 1831001\n",
      "packedancestrymap output\n",
      "numsnps output: 597573\n",
      "##end of convertf:     1152.020 seconds cpu      368.038 Mbytes in use\n",
      "CPU times: user 27.6 s, sys: 5.85 s, total: 33.4 s\n",
      "Wall time: 19min 13s\n"
     ]
    }
   ],
   "source": [
    "%%time\n",
    "run_convertf(path_convertf = \"/n/groups/reich/hringbauer/o2bin/convertf\", \n",
    "             parfile = \"./parfiles/convertf/afr.v46.3.par\")"
   ]
  },
  {
   "cell_type": "markdown",
   "metadata": {},
   "source": [
    "# Modify .ind file to have projection available"
   ]
  },
  {
   "cell_type": "code",
   "execution_count": 150,
   "metadata": {},
   "outputs": [
    {
     "name": "stdout",
     "output_type": "stream",
     "text": [
      "Morocco: 58/81 inds\n",
      "Algeria: 37/70 inds\n",
      "Tunisia: 15/54 inds\n",
      "Libya: 15/15 inds\n",
      "Egypt: 22/75 inds\n",
      "Sudan: 240/355 inds\n",
      "Eritrea: 0/4 inds\n",
      "Chad: 0/5 inds\n",
      "Niger: 0/10 inds\n",
      "Nigeria: 459/706 inds\n",
      "Burkina Faso: 30/31 inds\n",
      "Mali: 0/1 inds\n",
      "Senegal: 37/70 inds\n",
      "Mauritania: 0/0 inds\n",
      "Canary Islands: 0/5 inds\n",
      "Returning 913 Indivdiual Dataframe\n"
     ]
    }
   ],
   "source": [
    "path_ind = \"/n/groups/reich/hringbauer/git/punic_aDNA/eigenstrat/nafr/v46.3.v2.ind\"\n",
    "path_mod = \"/n/groups/reich/hringbauer/git/punic_aDNA/eigenstrat/nafr/v46.3.v2_mod.ind\"\n",
    "base_path = \"/n/groups/reich/DAVID/V46/V46.3/v46.3_HO\"\n",
    "\n",
    "df_ind = pd.read_csv(path_ind, header=None, sep=r\"\\s+\", engine=\"python\")\n",
    "df_ind.columns = [\"iid\", \"sex\", \"pop\"]\n",
    "\n",
    "df_anno = pd.read_csv(base_path + \".anno\", sep=\"\\t\", low_memory=False)\n",
    "### Extract Individuals with sufficiently many SNPs\n",
    "df_pca = extract_df_countries(df_anno, \n",
    "                              countries = [\"Morocco\", \"Algeria\", \"Tunisia\", \"Libya\", \"Egypt\", \n",
    "                                           \"Sudan\", \"Eritrea\", \"Chad\", \n",
    "                                           \"Niger\", \"Nigeria\", \"Burkina Faso\", \"Mali\", \"Senegal\", \n",
    "                                           \"Mauritania\", \"Canary Islands\"],\n",
    "                              age_col = 'Date mean in BP [OxCal mu for a direct radiocarbon date, and average of range for a contextual date]',\n",
    "                              snp_col = \"SNPs hit on autosomal targets\", min_snps=550000)"
   ]
  },
  {
   "cell_type": "code",
   "execution_count": 151,
   "metadata": {},
   "outputs": [
    {
     "name": "stdout",
     "output_type": "stream",
     "text": [
      "Subset to: 334 Individuals\n",
      "Unique Indivdiuals for PCA: 334\n"
     ]
    }
   ],
   "source": [
    "countries = [\"Morocco\", \"Algeria\", \"Tunisia\", \"Libya\", \"Egypt\", \n",
    "             \"Sudan\", \"Eritrea\", \"Chad\", \n",
    "             \"Niger\", \"Nigeria\", \"Burkina Faso\", \"Mali\", \n",
    "             \"Senegal\", \"Mauritania\", \"Canary Islands\"]\n",
    "\n",
    "df_pca1 = extract_subset_df(df_pca, countries, n_per_c=60)\n",
    "idx_dup = df_pca1.duplicated(subset=\"Master ID\")\n",
    "df_pca1 = df_pca1[~idx_dup]\n",
    "print(f\"Unique Indivdiuals for PCA: {len(df_pca1)}\")\n",
    "iids_pca = df_pca1[\"Master ID\"].values"
   ]
  },
  {
   "cell_type": "code",
   "execution_count": 152,
   "metadata": {},
   "outputs": [],
   "source": [
    "#df_pca1[\"Country\"].value_counts()"
   ]
  },
  {
   "cell_type": "code",
   "execution_count": 153,
   "metadata": {},
   "outputs": [
    {
     "name": "stdout",
     "output_type": "stream",
     "text": [
      "Found 334/334 Inds for PCA. Set Pop to: construct_NAFR_PCA\n",
      "Saved 1831 overall individuals to /n/groups/reich/hringbauer/git/punic_aDNA/eigenstrat/nafr/v46.3.v2_mod.ind\n"
     ]
    }
   ],
   "source": [
    "idx = df_ind[\"iid\"].isin(iids_pca)\n",
    "idx0=df_ind[\"pop\"].str.contains(\"Jew\")\n",
    "idx1=df_ind[\"iid\"].str.contains(\"Jew\")\n",
    "idx2 = (idx0 | idx1)\n",
    "\n",
    "### Set Population Label\n",
    "label_pop_pca = \"construct_NAFR_PCA\"\n",
    "df_ind.loc[idx, \"pop\"]  = label_pop_pca #df_ind.loc[idx, \"pop\"] + \"_mod\" \n",
    "\n",
    "### Sanity Check\n",
    "idx = [(p==label_pop_pca) for p in df_ind[\"pop\"]] \n",
    "print(f\"Found {np.sum(idx)}/{len(iids_pca)} Inds for PCA. Set Pop to: {label_pop_pca}\")\n",
    "\n",
    "df_ind.to_csv(path_mod, sep=\" \", index=None, header=False)\n",
    "print(f\"Saved {len(df_ind)} overall individuals to {path_mod}\")"
   ]
  },
  {
   "cell_type": "markdown",
   "metadata": {},
   "source": [
    "### Set Jewish Pops to not included"
   ]
  },
  {
   "cell_type": "code",
   "execution_count": 156,
   "metadata": {},
   "outputs": [
    {
     "name": "stdout",
     "output_type": "stream",
     "text": [
      "Found 35 Pop Jewish\n",
      "Found 23 IID Jewish\n",
      "Found 299/334 Inds for PCA. Set Pop to: construct_NAFR_PCA\n",
      "Saved 1831 overall individuals to /n/groups/reich/hringbauer/git/punic_aDNA/eigenstrat/nafr/v46.3.v2_mod2.ind\n"
     ]
    }
   ],
   "source": [
    "path_mod = \"/n/groups/reich/hringbauer/git/punic_aDNA/eigenstrat/nafr/v46.3.v2_mod2.ind\"\n",
    "\n",
    "print(f\"Found {np.sum(idx0)} Pop Jewish\")\n",
    "print(f\"Found {np.sum(idx1)} IID Jewish\")\n",
    "\n",
    "df_ind1 = df_ind.copy()\n",
    "df_ind1.loc[idx2, \"pop\"]  = \"Jew\" \n",
    "idxt = df_ind1[\"pop\"]==\"construct_NAFR_PCA\"\n",
    "print(f\"Found {np.sum(idxt)}/{len(iids_pca)} Inds for PCA. Set Pop to: {label_pop_pca}\")\n",
    "\n",
    "df_ind1.to_csv(path_mod, sep=\" \", index=None, header=False)\n",
    "print(f\"Saved {len(df_ind)} overall individuals to {path_mod}\")"
   ]
  },
  {
   "cell_type": "markdown",
   "metadata": {},
   "source": [
    "# Now you can sbatch the PCA script"
   ]
  },
  {
   "cell_type": "markdown",
   "metadata": {},
   "source": [
    "Takes about 9h for 1000 extra samples\n",
    "\n",
    "See in `./parfiles/pca/`"
   ]
  },
  {
   "cell_type": "markdown",
   "metadata": {},
   "source": [
    "# Area 51"
   ]
  },
  {
   "cell_type": "code",
   "execution_count": 2,
   "metadata": {},
   "outputs": [
    {
     "data": {
      "text/plain": [
       "'/n/groups/reich/hringbauer/git/punic_aDNA/eigenstrat/nafr/v46.3.ind'"
      ]
     },
     "execution_count": 2,
     "metadata": {},
     "output_type": "execute_result"
    }
   ],
   "source": []
  },
  {
   "cell_type": "code",
   "execution_count": 42,
   "metadata": {},
   "outputs": [],
   "source": [
    "df_ind = pd.read_csv(\"/n/groups/reich/DAVID/V46/V46.3/v46.3_HO.ind\", header=None, sep=r\"\\s+\", engine=\"python\")\n",
    "df_ind.columns = [\"iid\", \"sex\", \"pop\"]"
   ]
  },
  {
   "cell_type": "code",
   "execution_count": null,
   "metadata": {},
   "outputs": [],
   "source": [
    "df_ind[df_ind[\"pop\"].str.contains(\"Egypt\")][\"pop\"].value_counts()"
   ]
  },
  {
   "cell_type": "code",
   "execution_count": 51,
   "metadata": {},
   "outputs": [
    {
     "data": {
      "text/plain": [
       "Egyptian1                                11\n",
       "Egyptian2                                 7\n",
       "Ignore_Egyptian_Comas(PCA_outlier)        3\n",
       "Ignore_Egyptian_Metspalu(PCA_outlier)     1\n",
       "Name: Group Label, dtype: int64"
      ]
     },
     "execution_count": 51,
     "metadata": {},
     "output_type": "execute_result"
    }
   ],
   "source": [
    "df_pca[df_pca[\"Group Label\"].str.contains(\"Egypt\")][\"Group Label\"].value_counts()"
   ]
  },
  {
   "cell_type": "code",
   "execution_count": 49,
   "metadata": {},
   "outputs": [
    {
     "data": {
      "text/html": [
       "<div>\n",
       "<style scoped>\n",
       "    .dataframe tbody tr th:only-of-type {\n",
       "        vertical-align: middle;\n",
       "    }\n",
       "\n",
       "    .dataframe tbody tr th {\n",
       "        vertical-align: top;\n",
       "    }\n",
       "\n",
       "    .dataframe thead th {\n",
       "        text-align: right;\n",
       "    }\n",
       "</style>\n",
       "<table border=\"1\" class=\"dataframe\">\n",
       "  <thead>\n",
       "    <tr style=\"text-align: right;\">\n",
       "      <th></th>\n",
       "      <th>Index</th>\n",
       "      <th>Version ID</th>\n",
       "      <th>Master ID</th>\n",
       "      <th>Publication (or OK to use in a paper)</th>\n",
       "      <th>Representative contact</th>\n",
       "      <th>Date mean in BP [OxCal mu for a direct radiocarbon date, and average of range for a contextual date]</th>\n",
       "      <th>Full Date: One of two formats. (Format 1) 95.4% CI calibrated radiocarbon age (Conventional Radiocarbon Age BP, Lab number) e.g. 2624-2350 calBCE (3990±40 BP, Ua-35016). (Format 2) Archaeological context range, e.g. 2500-1700 BCE</th>\n",
       "      <th>Group Label</th>\n",
       "      <th>Locality</th>\n",
       "      <th>Country</th>\n",
       "      <th>Lat.</th>\n",
       "      <th>Long.</th>\n",
       "      <th>Data source</th>\n",
       "      <th>Coverage on autosomal targets</th>\n",
       "      <th>SNPs hit on autosomal targets</th>\n",
       "      <th>Sex</th>\n",
       "      <th>Library type (minus=no.damage.correction, half=damage.retained.at.last.position, plus=damage.fully.corrected, ds=double.stranded.library.preparation, ss=single.stranded.library.preparation)</th>\n",
       "      <th>Restrictions (0=none; 1=Basic signed letter; 2=Restrictive signed letter; 3=Bolnick signed letter; 4=Never release; 5=Disease patient; 6=Basic signed letter but drafts should be circulated to Papua New Guinea Medical Research Advisory Group in advance of publication)</th>\n",
       "      <th>Published(0=no,1=yes.including.data.release.of.bioRxiv.version)</th>\n",
       "      <th>ASSESSMENT (Xcontam interval is listed if lower bound is &gt;0.005, \"QUESTIONABLE\" if lower bound is 0.01-0.02, \"QUESTIONABLE_CRITICAL\" or \"FAIL\" if lower bound is &gt;0.02) (mtcontam confidence interval is listed if coverage &gt;2 and upper bound is &lt;0.98: 0.9-0.95 is \"QUESTIONABLE\"; &lt;0.9 is \"QUESTIONABLE_CRITICAL\", questionable status gets overriden by ANGSD with PASS if upper bound of contamination is &lt;0.01 and QUESTIONABLE if upper bound is 0.01-0.05) (damage for ds.half is \"QUESTIONABLE_CRITICAL/FAIL\" if &lt;0.01, \"QUESTIONABLE\" for 0.01-0.03, and recorded but passed if 0.03-0.05; libraries with fully-treated last base are \"QUESTIONABLE_CRITICAL\" or \"FAIL\" if &lt;0.03, \"QUESTIONABLE\" if 0.03-0.06, and recorded but passed if 0.06-0.1) (sexratio is QUESTIONABLE if [0.03,0.10] or [0.30,0.35); QUESTIONABLE_CRITICAL/FAIL if (0.10,0.30))</th>\n",
       "    </tr>\n",
       "  </thead>\n",
       "  <tbody>\n",
       "    <tr>\n",
       "      <th>19</th>\n",
       "      <td>20</td>\n",
       "      <td>ABK-056</td>\n",
       "      <td>ABK-056</td>\n",
       "      <td>Unpublished / Unclaimed (Hellenthal lab / can ...</td>\n",
       "      <td>Garrett Hellenthal / Saioa Lopez / Mark Thomas...</td>\n",
       "      <td>..</td>\n",
       "      <td>..</td>\n",
       "      <td>Nigeria_Anang_Ediene_Abak</td>\n",
       "      <td>Ediene Abak // English</td>\n",
       "      <td>Nigeria</td>\n",
       "      <td>4.855284</td>\n",
       "      <td>7.755609</td>\n",
       "      <td>Fall2015</td>\n",
       "      <td>586299</td>\n",
       "      <td>586299</td>\n",
       "      <td>M</td>\n",
       "      <td>..</td>\n",
       "      <td>1</td>\n",
       "      <td>0</td>\n",
       "      <td>PASS (genotyping)</td>\n",
       "    </tr>\n",
       "    <tr>\n",
       "      <th>20</th>\n",
       "      <td>21</td>\n",
       "      <td>ABK-065</td>\n",
       "      <td>ABK-065</td>\n",
       "      <td>Unpublished / Unclaimed (Hellenthal lab / can ...</td>\n",
       "      <td>Garrett Hellenthal / Saioa Lopez / Mark Thomas...</td>\n",
       "      <td>..</td>\n",
       "      <td>..</td>\n",
       "      <td>Nigeria_Anang_Ediene_Abak</td>\n",
       "      <td>Otoro Abak // Anang</td>\n",
       "      <td>Nigeria</td>\n",
       "      <td>5.276574</td>\n",
       "      <td>7.752279</td>\n",
       "      <td>Fall2015</td>\n",
       "      <td>586336</td>\n",
       "      <td>586336</td>\n",
       "      <td>M</td>\n",
       "      <td>..</td>\n",
       "      <td>1</td>\n",
       "      <td>0</td>\n",
       "      <td>PASS (genotyping)</td>\n",
       "    </tr>\n",
       "    <tr>\n",
       "      <th>21</th>\n",
       "      <td>22</td>\n",
       "      <td>ABK-068</td>\n",
       "      <td>ABK-068</td>\n",
       "      <td>Unpublished (individuals less than 18 at colle...</td>\n",
       "      <td>Garrett Hellenthal / Saioa Lopez / Mark Thomas...</td>\n",
       "      <td>..</td>\n",
       "      <td>..</td>\n",
       "      <td>Nigeria_Anang_Ediene_Abak</td>\n",
       "      <td>Ediene Abak // English</td>\n",
       "      <td>Nigeria</td>\n",
       "      <td>4.855284</td>\n",
       "      <td>7.755609</td>\n",
       "      <td>Fall2015</td>\n",
       "      <td>586416</td>\n",
       "      <td>586416</td>\n",
       "      <td>M</td>\n",
       "      <td>..</td>\n",
       "      <td>4</td>\n",
       "      <td>0</td>\n",
       "      <td>PASS (genotyping)</td>\n",
       "    </tr>\n",
       "    <tr>\n",
       "      <th>22</th>\n",
       "      <td>23</td>\n",
       "      <td>ABK-070</td>\n",
       "      <td>ABK-070</td>\n",
       "      <td>Unpublished / Unclaimed (Hellenthal lab / can ...</td>\n",
       "      <td>Garrett Hellenthal / Saioa Lopez / Mark Thomas...</td>\n",
       "      <td>..</td>\n",
       "      <td>..</td>\n",
       "      <td>Nigeria_Anang_Ediene_Abak</td>\n",
       "      <td>Ediene Abak // English</td>\n",
       "      <td>Nigeria</td>\n",
       "      <td>4.855284</td>\n",
       "      <td>7.755609</td>\n",
       "      <td>Fall2015</td>\n",
       "      <td>586234</td>\n",
       "      <td>586234</td>\n",
       "      <td>M</td>\n",
       "      <td>..</td>\n",
       "      <td>1</td>\n",
       "      <td>0</td>\n",
       "      <td>PASS (genotyping)</td>\n",
       "    </tr>\n",
       "    <tr>\n",
       "      <th>23</th>\n",
       "      <td>24</td>\n",
       "      <td>ABK-073</td>\n",
       "      <td>ABK-073</td>\n",
       "      <td>Unpublished / Unclaimed (Hellenthal lab / can ...</td>\n",
       "      <td>Garrett Hellenthal / Saioa Lopez / Mark Thomas...</td>\n",
       "      <td>..</td>\n",
       "      <td>..</td>\n",
       "      <td>Nigeria_Anang_Ediene_Abak</td>\n",
       "      <td>Ediene Abak // English</td>\n",
       "      <td>Nigeria</td>\n",
       "      <td>4.855284</td>\n",
       "      <td>7.755609</td>\n",
       "      <td>Fall2015</td>\n",
       "      <td>586407</td>\n",
       "      <td>586407</td>\n",
       "      <td>M</td>\n",
       "      <td>..</td>\n",
       "      <td>1</td>\n",
       "      <td>0</td>\n",
       "      <td>PASS (genotyping)</td>\n",
       "    </tr>\n",
       "    <tr>\n",
       "      <th>...</th>\n",
       "      <td>...</td>\n",
       "      <td>...</td>\n",
       "      <td>...</td>\n",
       "      <td>...</td>\n",
       "      <td>...</td>\n",
       "      <td>...</td>\n",
       "      <td>...</td>\n",
       "      <td>...</td>\n",
       "      <td>...</td>\n",
       "      <td>...</td>\n",
       "      <td>...</td>\n",
       "      <td>...</td>\n",
       "      <td>...</td>\n",
       "      <td>...</td>\n",
       "      <td>...</td>\n",
       "      <td>...</td>\n",
       "      <td>...</td>\n",
       "      <td>...</td>\n",
       "      <td>...</td>\n",
       "      <td>...</td>\n",
       "    </tr>\n",
       "    <tr>\n",
       "      <th>11429</th>\n",
       "      <td>11430</td>\n",
       "      <td>IGB-033</td>\n",
       "      <td>IGB-033</td>\n",
       "      <td>Unpublished / Unclaimed (Hellenthal lab / can ...</td>\n",
       "      <td>Garrett Hellenthal / Saioa Lopez / Mark Thomas...</td>\n",
       "      <td>..</td>\n",
       "      <td>..</td>\n",
       "      <td>Nigeria_Igbo</td>\n",
       "      <td>..</td>\n",
       "      <td>Nigeria</td>\n",
       "      <td>..</td>\n",
       "      <td>..</td>\n",
       "      <td>Hellenthal.Supplement.2017</td>\n",
       "      <td>553598</td>\n",
       "      <td>553598</td>\n",
       "      <td>M</td>\n",
       "      <td>..</td>\n",
       "      <td>1</td>\n",
       "      <td>0</td>\n",
       "      <td>PASS (genotyping)</td>\n",
       "    </tr>\n",
       "    <tr>\n",
       "      <th>11433</th>\n",
       "      <td>11434</td>\n",
       "      <td>IKA-023</td>\n",
       "      <td>IKA-023</td>\n",
       "      <td>Unpublished / Unclaimed (Hellenthal lab / can ...</td>\n",
       "      <td>Garrett Hellenthal / Saioa Lopez / Mark Thomas...</td>\n",
       "      <td>..</td>\n",
       "      <td>..</td>\n",
       "      <td>Nigeria_Ibibio_Ukpom_Ete</td>\n",
       "      <td>..</td>\n",
       "      <td>Nigeria</td>\n",
       "      <td>..</td>\n",
       "      <td>..</td>\n",
       "      <td>Hellenthal.Supplement.2017</td>\n",
       "      <td>553403</td>\n",
       "      <td>553403</td>\n",
       "      <td>M</td>\n",
       "      <td>..</td>\n",
       "      <td>1</td>\n",
       "      <td>0</td>\n",
       "      <td>PASS (genotyping)</td>\n",
       "    </tr>\n",
       "    <tr>\n",
       "      <th>11435</th>\n",
       "      <td>11436</td>\n",
       "      <td>IGB-037</td>\n",
       "      <td>IGB-037</td>\n",
       "      <td>Unpublished / Unclaimed (Hellenthal lab / can ...</td>\n",
       "      <td>Garrett Hellenthal / Saioa Lopez / Mark Thomas...</td>\n",
       "      <td>..</td>\n",
       "      <td>..</td>\n",
       "      <td>Nigeria_Igbo</td>\n",
       "      <td>..</td>\n",
       "      <td>Nigeria</td>\n",
       "      <td>..</td>\n",
       "      <td>..</td>\n",
       "      <td>Hellenthal.Supplement.2017</td>\n",
       "      <td>553374</td>\n",
       "      <td>553374</td>\n",
       "      <td>M</td>\n",
       "      <td>..</td>\n",
       "      <td>1</td>\n",
       "      <td>0</td>\n",
       "      <td>PASS (genotyping)</td>\n",
       "    </tr>\n",
       "    <tr>\n",
       "      <th>11436</th>\n",
       "      <td>11437</td>\n",
       "      <td>ORNN-079</td>\n",
       "      <td>ORNN-079</td>\n",
       "      <td>Unpublished / Unclaimed (Hellenthal lab / can ...</td>\n",
       "      <td>Garrett Hellenthal / Saioa Lopez / Mark Thomas...</td>\n",
       "      <td>..</td>\n",
       "      <td>..</td>\n",
       "      <td>Nigeria_Oron_Afaha_Okpo</td>\n",
       "      <td>..</td>\n",
       "      <td>Nigeria</td>\n",
       "      <td>..</td>\n",
       "      <td>..</td>\n",
       "      <td>Hellenthal.Supplement.2017</td>\n",
       "      <td>552347</td>\n",
       "      <td>552347</td>\n",
       "      <td>M</td>\n",
       "      <td>..</td>\n",
       "      <td>1</td>\n",
       "      <td>0</td>\n",
       "      <td>PASS (genotyping)</td>\n",
       "    </tr>\n",
       "    <tr>\n",
       "      <th>11438</th>\n",
       "      <td>11439</td>\n",
       "      <td>IGB-052</td>\n",
       "      <td>IGB-052</td>\n",
       "      <td>Unpublished / Unclaimed (Hellenthal lab / can ...</td>\n",
       "      <td>Garrett Hellenthal / Saioa Lopez / Mark Thomas...</td>\n",
       "      <td>..</td>\n",
       "      <td>..</td>\n",
       "      <td>Nigeria_Igbo</td>\n",
       "      <td>..</td>\n",
       "      <td>Nigeria</td>\n",
       "      <td>..</td>\n",
       "      <td>..</td>\n",
       "      <td>Hellenthal.Supplement.2017</td>\n",
       "      <td>553589</td>\n",
       "      <td>553589</td>\n",
       "      <td>M</td>\n",
       "      <td>..</td>\n",
       "      <td>1</td>\n",
       "      <td>0</td>\n",
       "      <td>PASS (genotyping)</td>\n",
       "    </tr>\n",
       "  </tbody>\n",
       "</table>\n",
       "<p>913 rows × 20 columns</p>\n",
       "</div>"
      ],
      "text/plain": [
       "       Index Version ID Master ID  \\\n",
       "19        20    ABK-056   ABK-056   \n",
       "20        21    ABK-065   ABK-065   \n",
       "21        22    ABK-068   ABK-068   \n",
       "22        23    ABK-070   ABK-070   \n",
       "23        24    ABK-073   ABK-073   \n",
       "...      ...        ...       ...   \n",
       "11429  11430    IGB-033   IGB-033   \n",
       "11433  11434    IKA-023   IKA-023   \n",
       "11435  11436    IGB-037   IGB-037   \n",
       "11436  11437   ORNN-079  ORNN-079   \n",
       "11438  11439    IGB-052   IGB-052   \n",
       "\n",
       "                   Publication (or OK to use in a paper)  \\\n",
       "19     Unpublished / Unclaimed (Hellenthal lab / can ...   \n",
       "20     Unpublished / Unclaimed (Hellenthal lab / can ...   \n",
       "21     Unpublished (individuals less than 18 at colle...   \n",
       "22     Unpublished / Unclaimed (Hellenthal lab / can ...   \n",
       "23     Unpublished / Unclaimed (Hellenthal lab / can ...   \n",
       "...                                                  ...   \n",
       "11429  Unpublished / Unclaimed (Hellenthal lab / can ...   \n",
       "11433  Unpublished / Unclaimed (Hellenthal lab / can ...   \n",
       "11435  Unpublished / Unclaimed (Hellenthal lab / can ...   \n",
       "11436  Unpublished / Unclaimed (Hellenthal lab / can ...   \n",
       "11438  Unpublished / Unclaimed (Hellenthal lab / can ...   \n",
       "\n",
       "                                  Representative contact  \\\n",
       "19     Garrett Hellenthal / Saioa Lopez / Mark Thomas...   \n",
       "20     Garrett Hellenthal / Saioa Lopez / Mark Thomas...   \n",
       "21     Garrett Hellenthal / Saioa Lopez / Mark Thomas...   \n",
       "22     Garrett Hellenthal / Saioa Lopez / Mark Thomas...   \n",
       "23     Garrett Hellenthal / Saioa Lopez / Mark Thomas...   \n",
       "...                                                  ...   \n",
       "11429  Garrett Hellenthal / Saioa Lopez / Mark Thomas...   \n",
       "11433  Garrett Hellenthal / Saioa Lopez / Mark Thomas...   \n",
       "11435  Garrett Hellenthal / Saioa Lopez / Mark Thomas...   \n",
       "11436  Garrett Hellenthal / Saioa Lopez / Mark Thomas...   \n",
       "11438  Garrett Hellenthal / Saioa Lopez / Mark Thomas...   \n",
       "\n",
       "      Date mean in BP [OxCal mu for a direct radiocarbon date, and average of range for a contextual date]  \\\n",
       "19                                                    ..                                                     \n",
       "20                                                    ..                                                     \n",
       "21                                                    ..                                                     \n",
       "22                                                    ..                                                     \n",
       "23                                                    ..                                                     \n",
       "...                                                  ...                                                     \n",
       "11429                                                 ..                                                     \n",
       "11433                                                 ..                                                     \n",
       "11435                                                 ..                                                     \n",
       "11436                                                 ..                                                     \n",
       "11438                                                 ..                                                     \n",
       "\n",
       "      Full Date: One of two formats. (Format 1) 95.4% CI calibrated radiocarbon age (Conventional Radiocarbon Age BP, Lab number) e.g. 2624-2350 calBCE (3990±40 BP, Ua-35016). (Format 2) Archaeological context range, e.g. 2500-1700 BCE  \\\n",
       "19                                                    ..                                                                                                                                                                                      \n",
       "20                                                    ..                                                                                                                                                                                      \n",
       "21                                                    ..                                                                                                                                                                                      \n",
       "22                                                    ..                                                                                                                                                                                      \n",
       "23                                                    ..                                                                                                                                                                                      \n",
       "...                                                  ...                                                                                                                                                                                      \n",
       "11429                                                 ..                                                                                                                                                                                      \n",
       "11433                                                 ..                                                                                                                                                                                      \n",
       "11435                                                 ..                                                                                                                                                                                      \n",
       "11436                                                 ..                                                                                                                                                                                      \n",
       "11438                                                 ..                                                                                                                                                                                      \n",
       "\n",
       "                     Group Label                Locality  Country      Lat.  \\\n",
       "19     Nigeria_Anang_Ediene_Abak  Ediene Abak // English  Nigeria  4.855284   \n",
       "20     Nigeria_Anang_Ediene_Abak     Otoro Abak // Anang  Nigeria  5.276574   \n",
       "21     Nigeria_Anang_Ediene_Abak  Ediene Abak // English  Nigeria  4.855284   \n",
       "22     Nigeria_Anang_Ediene_Abak  Ediene Abak // English  Nigeria  4.855284   \n",
       "23     Nigeria_Anang_Ediene_Abak  Ediene Abak // English  Nigeria  4.855284   \n",
       "...                          ...                     ...      ...       ...   \n",
       "11429               Nigeria_Igbo                      ..  Nigeria        ..   \n",
       "11433   Nigeria_Ibibio_Ukpom_Ete                      ..  Nigeria        ..   \n",
       "11435               Nigeria_Igbo                      ..  Nigeria        ..   \n",
       "11436    Nigeria_Oron_Afaha_Okpo                      ..  Nigeria        ..   \n",
       "11438               Nigeria_Igbo                      ..  Nigeria        ..   \n",
       "\n",
       "          Long.                 Data source  Coverage on autosomal targets  \\\n",
       "19     7.755609                    Fall2015                         586299   \n",
       "20     7.752279                    Fall2015                         586336   \n",
       "21     7.755609                    Fall2015                         586416   \n",
       "22     7.755609                    Fall2015                         586234   \n",
       "23     7.755609                    Fall2015                         586407   \n",
       "...         ...                         ...                            ...   \n",
       "11429        ..  Hellenthal.Supplement.2017                         553598   \n",
       "11433        ..  Hellenthal.Supplement.2017                         553403   \n",
       "11435        ..  Hellenthal.Supplement.2017                         553374   \n",
       "11436        ..  Hellenthal.Supplement.2017                         552347   \n",
       "11438        ..  Hellenthal.Supplement.2017                         553589   \n",
       "\n",
       "      SNPs hit on autosomal targets Sex  \\\n",
       "19                           586299   M   \n",
       "20                           586336   M   \n",
       "21                           586416   M   \n",
       "22                           586234   M   \n",
       "23                           586407   M   \n",
       "...                             ...  ..   \n",
       "11429                        553598   M   \n",
       "11433                        553403   M   \n",
       "11435                        553374   M   \n",
       "11436                        552347   M   \n",
       "11438                        553589   M   \n",
       "\n",
       "      Library type (minus=no.damage.correction, half=damage.retained.at.last.position, plus=damage.fully.corrected, ds=double.stranded.library.preparation, ss=single.stranded.library.preparation)  \\\n",
       "19                                                    ..                                                                                                                                              \n",
       "20                                                    ..                                                                                                                                              \n",
       "21                                                    ..                                                                                                                                              \n",
       "22                                                    ..                                                                                                                                              \n",
       "23                                                    ..                                                                                                                                              \n",
       "...                                                  ...                                                                                                                                              \n",
       "11429                                                 ..                                                                                                                                              \n",
       "11433                                                 ..                                                                                                                                              \n",
       "11435                                                 ..                                                                                                                                              \n",
       "11436                                                 ..                                                                                                                                              \n",
       "11438                                                 ..                                                                                                                                              \n",
       "\n",
       "       Restrictions (0=none; 1=Basic signed letter; 2=Restrictive signed letter; 3=Bolnick signed letter; 4=Never release; 5=Disease patient; 6=Basic signed letter but drafts should be circulated to Papua New Guinea Medical Research Advisory Group in advance of publication)  \\\n",
       "19                                                     1                                                                                                                                                                                                                             \n",
       "20                                                     1                                                                                                                                                                                                                             \n",
       "21                                                     4                                                                                                                                                                                                                             \n",
       "22                                                     1                                                                                                                                                                                                                             \n",
       "23                                                     1                                                                                                                                                                                                                             \n",
       "...                                                  ...                                                                                                                                                                                                                             \n",
       "11429                                                  1                                                                                                                                                                                                                             \n",
       "11433                                                  1                                                                                                                                                                                                                             \n",
       "11435                                                  1                                                                                                                                                                                                                             \n",
       "11436                                                  1                                                                                                                                                                                                                             \n",
       "11438                                                  1                                                                                                                                                                                                                             \n",
       "\n",
       "       Published(0=no,1=yes.including.data.release.of.bioRxiv.version)  \\\n",
       "19                                                     0                 \n",
       "20                                                     0                 \n",
       "21                                                     0                 \n",
       "22                                                     0                 \n",
       "23                                                     0                 \n",
       "...                                                  ...                 \n",
       "11429                                                  0                 \n",
       "11433                                                  0                 \n",
       "11435                                                  0                 \n",
       "11436                                                  0                 \n",
       "11438                                                  0                 \n",
       "\n",
       "      ASSESSMENT (Xcontam interval is listed if lower bound is >0.005, \"QUESTIONABLE\" if lower bound is 0.01-0.02, \"QUESTIONABLE_CRITICAL\" or \"FAIL\" if lower bound is >0.02) (mtcontam confidence interval is listed if coverage >2 and upper bound is <0.98: 0.9-0.95 is \"QUESTIONABLE\"; <0.9 is \"QUESTIONABLE_CRITICAL\", questionable status gets overriden by ANGSD with PASS if upper bound of contamination is <0.01 and QUESTIONABLE if upper bound is 0.01-0.05) (damage for ds.half is \"QUESTIONABLE_CRITICAL/FAIL\" if <0.01, \"QUESTIONABLE\" for 0.01-0.03, and recorded but passed if 0.03-0.05; libraries with fully-treated last base are \"QUESTIONABLE_CRITICAL\" or \"FAIL\" if <0.03, \"QUESTIONABLE\" if 0.03-0.06, and recorded but passed if 0.06-0.1) (sexratio is QUESTIONABLE if [0.03,0.10] or [0.30,0.35); QUESTIONABLE_CRITICAL/FAIL if (0.10,0.30))  \n",
       "19                                     PASS (genotyping)                                                                                                                                                                                                                                                                                                                                                                                                                                                                                                                                                                                                                                                                                                                                                                                                                 \n",
       "20                                     PASS (genotyping)                                                                                                                                                                                                                                                                                                                                                                                                                                                                                                                                                                                                                                                                                                                                                                                                                 \n",
       "21                                     PASS (genotyping)                                                                                                                                                                                                                                                                                                                                                                                                                                                                                                                                                                                                                                                                                                                                                                                                                 \n",
       "22                                     PASS (genotyping)                                                                                                                                                                                                                                                                                                                                                                                                                                                                                                                                                                                                                                                                                                                                                                                                                 \n",
       "23                                     PASS (genotyping)                                                                                                                                                                                                                                                                                                                                                                                                                                                                                                                                                                                                                                                                                                                                                                                                                 \n",
       "...                                                  ...                                                                                                                                                                                                                                                                                                                                                                                                                                                                                                                                                                                                                                                                                                                                                                                                                 \n",
       "11429                                  PASS (genotyping)                                                                                                                                                                                                                                                                                                                                                                                                                                                                                                                                                                                                                                                                                                                                                                                                                 \n",
       "11433                                  PASS (genotyping)                                                                                                                                                                                                                                                                                                                                                                                                                                                                                                                                                                                                                                                                                                                                                                                                                 \n",
       "11435                                  PASS (genotyping)                                                                                                                                                                                                                                                                                                                                                                                                                                                                                                                                                                                                                                                                                                                                                                                                                 \n",
       "11436                                  PASS (genotyping)                                                                                                                                                                                                                                                                                                                                                                                                                                                                                                                                                                                                                                                                                                                                                                                                                 \n",
       "11438                                  PASS (genotyping)                                                                                                                                                                                                                                                                                                                                                                                                                                                                                                                                                                                                                                                                                                                                                                                                                 \n",
       "\n",
       "[913 rows x 20 columns]"
      ]
     },
     "execution_count": 49,
     "metadata": {},
     "output_type": "execute_result"
    }
   ],
   "source": [
    "df_pca"
   ]
  },
  {
   "cell_type": "code",
   "execution_count": null,
   "metadata": {},
   "outputs": [],
   "source": []
  }
 ],
 "metadata": {
  "kernelspec": {
   "display_name": "Python 3",
   "language": "python",
   "name": "python3"
  },
  "language_info": {
   "codemirror_mode": {
    "name": "ipython",
    "version": 3
   },
   "file_extension": ".py",
   "mimetype": "text/x-python",
   "name": "python",
   "nbconvert_exporter": "python",
   "pygments_lexer": "ipython3",
   "version": "3.7.4"
  }
 },
 "nbformat": 4,
 "nbformat_minor": 4
}
