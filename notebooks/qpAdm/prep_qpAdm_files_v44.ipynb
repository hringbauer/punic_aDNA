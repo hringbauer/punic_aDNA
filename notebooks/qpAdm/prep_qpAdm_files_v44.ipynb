{
 "cells": [
  {
   "cell_type": "markdown",
   "metadata": {},
   "source": [
    "# Prepare Files for qpAdm"
   ]
  },
  {
   "cell_type": "code",
   "execution_count": 1,
   "metadata": {},
   "outputs": [
    {
     "name": "stdout",
     "output_type": "stream",
     "text": [
      "compute-e-16-235.o2.rc.hms.harvard.edu\n",
      "HSM Computational partition detected.\n",
      "/n/groups/reich/hringbauer/git/punic_aDNA\n",
      "CPU Count: 28\n",
      "3.7.4 (default, Sep 11 2019, 11:24:51) \n",
      "[GCC 6.2.0]\n"
     ]
    }
   ],
   "source": [
    "import numpy as np\n",
    "import os  # For Saving to Folder\n",
    "import pandas as pd\n",
    "import matplotlib.pyplot as plt\n",
    "\n",
    "import socket\n",
    "import os as os\n",
    "import sys as sys\n",
    "import multiprocessing as mp\n",
    "import itertools as it\n",
    "from time import time\n",
    "\n",
    "# For Arial Font\n",
    "from matplotlib import rcParams\n",
    "rcParams['font.family'] = 'sans-serif'   # Set the defaul\n",
    "rcParams['font.sans-serif'] = ['Arial']\n",
    "\n",
    "socket_name = socket.gethostname()\n",
    "print(socket_name)\n",
    "\n",
    "if socket_name.startswith(\"compute-\"):\n",
    "    print(\"HSM Computational partition detected.\")\n",
    "    path = \"/n/groups/reich/hringbauer/git/punic_aDNA/\"  # The Path on Midway Cluster\n",
    "else:\n",
    "    raise RuntimeWarning(\"Not compatible machine. Check!!\")\n",
    "\n",
    "os.chdir(path)  # Set the right Path (in line with Atom default)\n",
    "# Show the current working directory. Should be HAPSBURG/Notebooks/ParallelRuns\n",
    "print(os.getcwd())\n",
    "print(f\"CPU Count: {mp.cpu_count()}\")\n",
    "print(sys.version)"
   ]
  },
  {
   "cell_type": "markdown",
   "metadata": {},
   "source": [
    "# Key Definitions"
   ]
  },
  {
   "cell_type": "code",
   "execution_count": 52,
   "metadata": {},
   "outputs": [],
   "source": [
    "base_path = \"/n/groups/reich/DAVID/V44/V44.0/v44.0\"\n",
    "ind_path = base_path + \".ind\""
   ]
  },
  {
   "cell_type": "markdown",
   "metadata": {},
   "source": [
    "# Save Population File (what to pull)"
   ]
  },
  {
   "cell_type": "code",
   "execution_count": 53,
   "metadata": {},
   "outputs": [],
   "source": [
    "def return_pops(df, string, col=\"clst\", \n",
    "                output=False):\n",
    "    \"\"\"Return list of clusters that contain string.\"\"\"\n",
    "    df1 = df[df[col].str.contains(string)]\n",
    "    if output:\n",
    "        print(df1[col].value_counts())\n",
    "    clsts = list(set(df1[col].values))\n",
    "\n",
    "    return clsts\n",
    "\n",
    "def run_convertf(path_convertf = \"./o2bin/convertf\", parfile = \"./parfiles/convertf.keep.par\"):\n",
    "    \"\"\"Runs the Downsampling\"\"\"\n",
    "    ! $path_convertf -p $parfile"
   ]
  },
  {
   "cell_type": "code",
   "execution_count": 54,
   "metadata": {},
   "outputs": [
    {
     "name": "stdout",
     "output_type": "stream",
     "text": [
      "Loaded 20692 Individuals\n"
     ]
    }
   ],
   "source": [
    "df_ind = pd.read_csv(ind_path, delim_whitespace=True, header=None)\n",
    "df_ind.columns=[\"iid\", \"sex\", \"clst\"]\n",
    "print(f\"Loaded {len(df_ind)} Individuals\")"
   ]
  },
  {
   "cell_type": "code",
   "execution_count": 55,
   "metadata": {},
   "outputs": [
    {
     "name": "stdout",
     "output_type": "stream",
     "text": [
      "Italy_Sardinia_Punic                37\n",
      "Sardinian.SDG                       25\n",
      "Italy_Sardinia_EBA                  18\n",
      "Italy_Sardinia_C_BA                 15\n",
      "Italy_Sardinia_N                    12\n",
      "                                    ..\n",
      "Italy_Sardinia_C_lc                  1\n",
      "Italy_Sardinia_EarlyC_o              1\n",
      "Italy_Sardinia_EBA_dup.S1250         1\n",
      "Italy_Sardinia_EBA_dup.SUC004.SG     1\n",
      "Italy_Sardinia_EBA_dup.S1252         1\n",
      "Name: clst, Length: 61, dtype: int64\n"
     ]
    }
   ],
   "source": [
    "##############################################\n",
    "### Testing for single Populations Populations\n",
    "return_pops(df_ind, string=\"Sardinia\", \n",
    "            output=True);"
   ]
  },
  {
   "cell_type": "code",
   "execution_count": 56,
   "metadata": {},
   "outputs": [],
   "source": [
    "pops = [\"Algeria\", \"Morocco\", \"Tunisia\", \"Punic\", \"Phoenician\", \n",
    "        \"Sardinia\", \"Ibiza\",\n",
    "        \"Canaanite\", \"Ashkelon\", \"Sicily\", \"Hellenistic\",\n",
    "        \"Israel_IA\", \"Israel_EIA\", \"Israel_Persian\", \"Gibraltar\",\n",
    "        \"Spain_EBA_Afric\", \"Spain_BellBeaker_o\", \"Spain_Greek\",\n",
    "        \"Spain_Hellenistic\", \"Spain_IA\",\n",
    "        \"Nigeria_IA\", \"Nigeria_Medieval\",\n",
    "        \"Spain_LBA\", \"Greece_\"]\n",
    "\n",
    "exclude_strings = [\"_lc\", \"contam\"]"
   ]
  },
  {
   "cell_type": "code",
   "execution_count": 57,
   "metadata": {},
   "outputs": [
    {
     "name": "stdout",
     "output_type": "stream",
     "text": [
      "Loaded 282 Populations\n",
      "After Exclusion 228\n"
     ]
    }
   ],
   "source": [
    "clsts = [return_pops(df_ind, string=pop, \n",
    "                     output=False) for pop in pops]\n",
    "\n",
    "clsts = [inner for ls in clsts for inner in ls]\n",
    "clsts = list(set(clsts)) # Filter to unique Elements\n",
    "print(f\"Loaded {len(clsts)} Populations\")\n",
    "\n",
    "### Exclude Strings\n",
    "for ex in exclude_strings:\n",
    "    clsts = [c for c in clsts if ex not in c]\n",
    "print(f\"After Exclusion {len(clsts)}\")"
   ]
  },
  {
   "cell_type": "markdown",
   "metadata": {},
   "source": [
    "# Save List of populations to keep"
   ]
  },
  {
   "cell_type": "code",
   "execution_count": 47,
   "metadata": {},
   "outputs": [],
   "source": [
    "#keep = np.array([\"Anatolia_N\", \"Iberia_HG\"])\n",
    "keep = np.array(clsts)\n",
    "path_keep = \"./parfiles/keep_pops\"\n",
    "np.savetxt(path_keep, keep, fmt=\"%s\")"
   ]
  },
  {
   "cell_type": "markdown",
   "metadata": {},
   "source": [
    "### Run convertf (with population list to keep)\n",
    "Additional parameters (such as position of output file) are coded into the parameter file"
   ]
  },
  {
   "cell_type": "code",
   "execution_count": null,
   "metadata": {},
   "outputs": [],
   "source": [
    "%%time\n",
    "run_convertf(path_convertf = \"/n/groups/reich/hringbauer/o2bin/convertf\", \n",
    "             parfile = \"./parfiles/convertf.keep.par\")"
   ]
  },
  {
   "cell_type": "markdown",
   "metadata": {},
   "source": [
    "## Merge in Lazaridis Ancients with mergeit (with population list to keep)"
   ]
  },
  {
   "cell_type": "code",
   "execution_count": 62,
   "metadata": {},
   "outputs": [],
   "source": [
    "bin_merge_it = \"/n/groups/reich/hringbauer/o2bin/mergeit\"\n",
    "parfile_path = \"./parfiles/parMergeAddAnc\""
   ]
  },
  {
   "cell_type": "code",
   "execution_count": 63,
   "metadata": {},
   "outputs": [
    {
     "name": "stdout",
     "output_type": "stream",
     "text": [
      "parameter file: ./parfiles/parMergeAddAnc\n",
      "BASE: /n/groups/reich/hringbauer/git/punic_aDNA\n",
      "S1: eigenstrat/punic1.v44\n",
      "S2: eigenstrat/additional/MinMyc\n",
      "OUT: eigenstrat/combined/punic1.v44\n",
      "geno1: /n/groups/reich/hringbauer/git/punic_aDNA/eigenstrat/punic1.v44.geno\n",
      "snp1: /n/groups/reich/hringbauer/git/punic_aDNA/eigenstrat/punic1.v44.snp\n",
      "ind1: /n/groups/reich/hringbauer/git/punic_aDNA/eigenstrat/punic1.v44.ind\n",
      "geno2: /n/groups/reich/hringbauer/git/punic_aDNA/eigenstrat/additional/MinMyc.geno\n",
      "snp2: /n/groups/reich/hringbauer/git/punic_aDNA/eigenstrat/additional/MinMyc.snp\n",
      "ind2: /n/groups/reich/hringbauer/git/punic_aDNA/eigenstrat/additional/MinMyc.ind\n",
      "genooutfilename: /n/groups/reich/hringbauer/git/punic_aDNA/eigenstrat/combined/punic1.v44.geno\n",
      "snpoutfilename: /n/groups/reich/hringbauer/git/punic_aDNA/eigenstrat/combined/punic1.v44.snp\n",
      "indoutfilename: /n/groups/reich/hringbauer/git/punic_aDNA/eigenstrat/combined/punic1.v44.ind\n",
      "docheck: YES\n",
      "hashcheck: NO\n",
      "allowdups: YES\n",
      "packed geno read OK\n",
      "end of inpack\n",
      "packed geno read OK\n",
      "end of inpack\n",
      "numsnps input: 1233013 1233013\n",
      "packedancestrymap output\n",
      "numsnps output: 1196712  numindivs: 1150\n",
      "\n",
      "\n",
      "Histogram of checkmatch return codes\n",
      "kode:   -2  36301  A/T or C/G and strandcheck\n",
      "kode:    1 1196712  SNP OK (no flip)\n",
      "total:        1233013\n",
      "\n",
      "##end of mergeit:      181.810 seconds cpu     1356.235 Mbytes in use\n",
      "CPU times: user 3.8 s, sys: 1 s, total: 4.8 s\n",
      "Wall time: 3min 3s\n"
     ]
    }
   ],
   "source": [
    "%%time\n",
    "! $bin_merge_it -p $parfile_path"
   ]
  },
  {
   "cell_type": "markdown",
   "metadata": {},
   "source": [
    "# Prepare Individual File [Stand Alone from here]\n",
    "Overwrite Individuals with their individual labels"
   ]
  },
  {
   "cell_type": "code",
   "execution_count": 20,
   "metadata": {},
   "outputs": [],
   "source": [
    "def overwrite_ind_df(df, string, col=\"clst\", \n",
    "                     output=False, overwrite=\"\", iids=False):\n",
    "    \"\"\"Overwrite Individual Dataframe where col\n",
    "    contains string. Return modified dataframe (Copy)\n",
    "    where overwrite is the new Cluster ID\n",
    "    iids: Overwrite with IIDs if given!\"\"\"\n",
    "    idx = df[col].str.contains(string)\n",
    "    \n",
    "    if np.sum(idx)==0:\n",
    "        if output: \n",
    "            print(\"No Indivdiuals found\")\n",
    "        return\n",
    "    \n",
    "    if output:\n",
    "        print(f\"Found {np.sum(idx)} Matches\")\n",
    "        print(df[idx][col].value_counts())\n",
    "    \n",
    "    ### Actually  overwrite the Column\n",
    "    if len(overwrite)>0:\n",
    "        df.loc[idx, col] = overwrite\n",
    "        if output: \n",
    "            print(f\"{np.sum(idx)} Overwritten!\")\n",
    "            \n",
    "    if iids:\n",
    "        df.loc[idx, col] = df.loc[idx, \"iid\"] \n",
    "        \n",
    "        \n",
    "### Overwrite Individual IIDs\n",
    "def modifiy_iid_files(df_ind, pops_overwrite, \n",
    "                      pops_overwrite12=[], ind_modified=\"\"):\n",
    "    \"\"\"Modify .ind file. Overwrite individuals from pops_overwrite (list)\n",
    "    with their individuals labels. \n",
    "    df_int: Dataframe from Individuals.\n",
    "    pops_overwrite12: [[pop1,pop2]] list (nx2). Overwrites ALL string matches\n",
    "    for pop1 (contain) with pop2\"\"\"\n",
    "    \n",
    "    ### Overwrite with other Label\n",
    "    for pop1,pop2 in pops_overwrite12:\n",
    "        overwrite_ind_df(df_ind, pop1, overwrite=pop2)\n",
    "        \n",
    "    ### Overwrite with individual IIds\n",
    "    for pop in pops_overwrite:\n",
    "        overwrite_ind_df(df_ind, pop, \n",
    "                     iids=True, output=True)\n",
    "    \n",
    "    ### Save here\n",
    "    df_ind.to_csv(ind_modified, sep=\" \", index=None, header=False)\n",
    "    print(f\"Saved {len(df_ind)} Individuals to {ind_modified}\")"
   ]
  },
  {
   "cell_type": "markdown",
   "metadata": {},
   "source": [
    "### Version 1: Overwrite narrow target Individuals\n",
    "(For testing please see below)"
   ]
  },
  {
   "cell_type": "code",
   "execution_count": 21,
   "metadata": {},
   "outputs": [
    {
     "name": "stdout",
     "output_type": "stream",
     "text": [
      "Loaded 655 Individuals\n"
     ]
    }
   ],
   "source": [
    "ind_merged=\"./eigenstrat/combined/punic1.v43.ind\"          # What .ind to load\n",
    "df_ind = pd.read_csv(ind_merged, delim_whitespace=True, header=None)\n",
    "df_ind.columns=[\"iid\", \"sex\", \"clst\"]\n",
    "print(f\"Loaded {len(df_ind)} Individuals\")"
   ]
  },
  {
   "cell_type": "code",
   "execution_count": 24,
   "metadata": {},
   "outputs": [],
   "source": [
    "### Overwrite Group Names DELETE NEXT TIME\n",
    "#overwrite_ind_df(df_ind, \"Morocco_LN\", overwrite=\"Morocco_LN\")\n",
    "#overwrite_ind_df(df_ind, \"Morocco_EN\", overwrite=\"Morocco_EN\")\n",
    "#overwrite_ind_df(df_ind, \"Morocco_Iberomaurusian\", overwrite=\"Morocco_Iberomaurusian\")\n",
    "#overwrite_ind_df(df_ind, \"YRI\", overwrite=\"YRI\")"
   ]
  },
  {
   "cell_type": "code",
   "execution_count": 22,
   "metadata": {},
   "outputs": [
    {
     "name": "stdout",
     "output_type": "stream",
     "text": [
      "Found 2 Matches\n",
      "Algeria_N    2\n",
      "Name: clst, dtype: int64\n",
      "Found 27 Matches\n",
      "Italy_Sardinia_IA_Punic                       9\n",
      "Iberia_Punic_oAfrican2                        4\n",
      "Iberia_Punic_o.3rd.degree.relative.cluster    4\n",
      "Iberia_Punic_oAfrican1                        3\n",
      "Iberia_Punic_o3                               2\n",
      "Iberia_Punic                                  2\n",
      "Iberia_Punic_oEuropean1                       1\n",
      "Iberia_Punic_oEuropean2                       1\n",
      "Ibiza_Punic.SG                                1\n",
      "Name: clst, dtype: int64\n",
      "Found 22 Matches\n",
      "Italy_Sicily_Phoenician      19\n",
      "Italy_Sicily_Phoenician_o     3\n",
      "Name: clst, dtype: int64\n",
      "Found 19 Matches\n",
      "Italy_Sicily_IA_Polizzello    19\n",
      "Name: clst, dtype: int64\n",
      "Found 4 Matches\n",
      "Italy_Sicily_IA_Sicani    4\n",
      "Name: clst, dtype: int64\n",
      "Found 3 Matches\n",
      "Morocco_LN    3\n",
      "Name: clst, dtype: int64\n",
      "No Indivdiuals found\n",
      "Found 1 Matches\n",
      "Iberia_North_BA_Africa_all    1\n",
      "Name: clst, dtype: int64\n",
      "Found 4 Matches\n",
      "Iberia_Greek     2\n",
      "Iberia_Greek1    1\n",
      "Iberia_Greek2    1\n",
      "Name: clst, dtype: int64\n",
      "Found 7 Matches\n",
      "Iberia_Hellenistic      5\n",
      "Iberia_Hellenistic_B    2\n",
      "Name: clst, dtype: int64\n",
      "Found 4 Matches\n",
      "Iberia_BellBeaker_o              2\n",
      "Iberia_BellBeaker_o2             1\n",
      "Iberia_BellBeaker_o_published    1\n",
      "Name: clst, dtype: int64\n",
      "Found 1 Matches\n",
      "Gibraltar_N    1\n",
      "Name: clst, dtype: int64\n",
      "Found 1 Matches\n",
      "Italy_Sardinia_C_o    1\n",
      "Name: clst, dtype: int64\n",
      "Found 4 Matches\n",
      "Nigeria_IA    4\n",
      "Name: clst, dtype: int64\n",
      "Found 1 Matches\n",
      "Nigeria_Medieval    1\n",
      "Name: clst, dtype: int64\n",
      "Saved 655 Individuals to ./eigenstrat/combined/punic1.v43_mod1.ind\n"
     ]
    }
   ],
   "source": [
    "pops_overwrite12 = [[\"Morocco_LN\", \"Morocco_LN\"], [\"Morocco_EN\", \"Morocco_EN\"],\n",
    "                   [\"Morocco_Iberomaurusian\",\"Morocco_Iberomaurusian\"], [\"YRI\", \"YRI\"]]\n",
    "\n",
    "pops_overwrite = [\"Algeria_N\", \"Punic\", \"Italy_Sicily_Phoenician\", \n",
    "                  \"Sicily_IA_Polizzello\", \"Sicani\", \"Morocco_LN\", \"Punic_oAfrican\", \n",
    "                  \"Iberia_North_BA_Africa_all\", \"Iberia_Greek\", \"Iberia_Hellenistic\",\n",
    "                  \"Iberia_BellBeaker_o\", \"Gibraltar_N\", \"Italy_Sardinia_C_o\",\n",
    "                  \"Nigeria_IA\", \"Nigeria_Medieval\"]\n",
    "\n",
    "ind_modified=\"./eigenstrat/combined/punic1.v43_mod1.ind\"    # Where to save the modified version to\n",
    "\n",
    "modifiy_iid_files(df_ind, pops_overwrite=pops_overwrite, \n",
    "                  pops_overwrite12=pops_overwrite12,\n",
    "                  ind_modified = ind_modified)"
   ]
  },
  {
   "cell_type": "markdown",
   "metadata": {},
   "source": [
    "### Split up Iberian Bronze Age and Sardinian Nuragic too"
   ]
  },
  {
   "cell_type": "code",
   "execution_count": 23,
   "metadata": {},
   "outputs": [
    {
     "name": "stdout",
     "output_type": "stream",
     "text": [
      "No Indivdiuals found\n",
      "No Indivdiuals found\n",
      "No Indivdiuals found\n",
      "No Indivdiuals found\n",
      "No Indivdiuals found\n",
      "No Indivdiuals found\n",
      "No Indivdiuals found\n",
      "No Indivdiuals found\n",
      "Found 56 Matches\n",
      "Iberia_BA                 42\n",
      "Iberia_BA.SG               5\n",
      "Iberia_BA_Cogotas          4\n",
      "Iberia_BA_all              2\n",
      "Iberia_BA_published        1\n",
      "Iberia_BA_1d.rel.I4560     1\n",
      "Iberia_BA_1d.rel.I4561     1\n",
      "Name: clst, dtype: int64\n",
      "Found 9 Matches\n",
      "Iberia_IA                         6\n",
      "Iberia_IA_PreIberian_published    1\n",
      "Iberia_IA_PreIberian_all          1\n",
      "Iberia_IA_PreIberian              1\n",
      "Name: clst, dtype: int64\n",
      "No Indivdiuals found\n",
      "No Indivdiuals found\n",
      "No Indivdiuals found\n",
      "No Indivdiuals found\n",
      "Found 11 Matches\n",
      "Iberia_Iberian              7\n",
      "Iberia_Iberian_all          2\n",
      "Iberia_Iberian_published    2\n",
      "Name: clst, dtype: int64\n",
      "Found 5 Matches\n",
      "Iberia_Celtiberian       3\n",
      "Iberia_Celtiberian.SG    1\n",
      "Iberia_Celtiberian.DG    1\n",
      "Name: clst, dtype: int64\n",
      "Found 4 Matches\n",
      "Iberia_Tartessian              2\n",
      "Iberia_Tartessian_all          1\n",
      "Iberia_Tartessian_published    1\n",
      "Name: clst, dtype: int64\n",
      "No Indivdiuals found\n",
      "Found 15 Matches\n",
      "Italy_Sardinia_BA_Nuragic    15\n",
      "Name: clst, dtype: int64\n",
      "No Indivdiuals found\n",
      "No Indivdiuals found\n",
      "Saved 655 Individuals to ./eigenstrat/combined/punic1.v43_mod_ib.ind\n"
     ]
    }
   ],
   "source": [
    "pops_overwrite = [\"Algeria_N\", \"Punic\", \"Italy_Sicily_Phoenician\",\n",
    "                  \"Sicily_IA_Polizzello\", \"Sicani\",\n",
    "                  \"Morocco_LN\", \"Punic_oAfrican\", \n",
    "                  \"Iberia_North_BA_Africa_all\", \"Iberia_BA\", \"Iberia_IA\",\n",
    "                  \"Iberia_Greek\", \"Iberia_Hellenistic\",\n",
    "                  \"Iberia_BellBeaker_o\", \"Gibraltar_N\", \n",
    "                  \"Iberia_Iberian\", \"Iberia_Celtiberian\", \"Iberia_Tartessian\",\n",
    "                  \"Italy_Sardinia_C_o\", \"Nuragic\",\n",
    "                  \"Nigeria_IA\", \"Nigeria_Medieval\"\n",
    "                  ]\n",
    "\n",
    "pops_overwrite12 = [[\"Morocco_LN\", \"Morocco_LN\"], [\"Morocco_EN\", \"Morocco_EN\"],\n",
    "                   [\"Morocco_Iberomaurusian\",\"Morocco_Iberomaurusian\"], [\"YRI\",\"YRI\"]]\n",
    "\n",
    "ind_modified=\"./eigenstrat/combined/punic1.v43_mod_ib.ind\"    # Where to save the modified version to\n",
    "\n",
    "modifiy_iid_files(df_ind, pops_overwrite=pops_overwrite, \n",
    "                  pops_overwrite12=pops_overwrite12,\n",
    "                  ind_modified = ind_modified)"
   ]
  },
  {
   "cell_type": "markdown",
   "metadata": {},
   "source": [
    "### Test indivdiual overwrites"
   ]
  },
  {
   "cell_type": "code",
   "execution_count": null,
   "metadata": {},
   "outputs": [],
   "source": [
    "overwrite_ind_df(df_ind, \"Canaanite\", \n",
    "                 output=True, overwrite=\"\")\n",
    "#YRI.SG\n",
    "#Gibraltar_N\n",
    "#Italy_Sardinia_C_o\n",
    "#Nigeria_IA"
   ]
  },
  {
   "cell_type": "markdown",
   "metadata": {},
   "source": [
    "# Area 51"
   ]
  },
  {
   "cell_type": "markdown",
   "metadata": {},
   "source": [
    "### Compare to David's Assignments"
   ]
  },
  {
   "cell_type": "code",
   "execution_count": 54,
   "metadata": {},
   "outputs": [],
   "source": [
    "df_t = pd.read_csv(\"/n/groups/reich/hringbauer/Data/Unpublished_data.tsv\", sep=\"\\t\")\n",
    "age_col = \"Average of 95.4% date range in calBP (defined as 1950 CE)  \""
   ]
  },
  {
   "cell_type": "code",
   "execution_count": null,
   "metadata": {},
   "outputs": [],
   "source": [
    "df_t.str.contains()"
   ]
  },
  {
   "cell_type": "code",
   "execution_count": 35,
   "metadata": {},
   "outputs": [],
   "source": [
    "group_col = 'Group_ID (format convention which we try to adhere to is \"Country_<Geographic.Region_<Geographic.Subregion_>><Archaeological.Period.Or.DateBP_<Alternative.Archaeological.Period_>><Archaeological.Culture_<Alternative.Archaeological.Culture>><genetic.subgrouping.index.if.necessary_><\"o_\"sometimes.with.additional.detail.if.an.outlier><additional.suffix.especially.relative.status.if.we.recommend.removing.from.main.analysis.grouping><\"contam_\".if.contaminated><\"lc_\".if.<15000.SNPs.on.autosomal.targets><\".SG\".or.\".DG\".if.shotgun.data>; HG=hunter-gatherer, N=Neolithic, C=Chalcolithic/CopperAge, BA=BronzeAge, IA=IronAge, E=Early, M=Middle, L=Late, A=Antiquity)'\n",
    "groups = df_t[group_col]"
   ]
  },
  {
   "cell_type": "code",
   "execution_count": 36,
   "metadata": {},
   "outputs": [
    {
     "name": "stdout",
     "output_type": "stream",
     "text": [
      "Found 174 Individuals\n"
     ]
    }
   ],
   "source": [
    "clsts_list = \"|\".join(clsts)\n",
    "idx = groups.str.contains(clsts_list)\n",
    "print(f\"Found {np.sum(idx)} Individuals\")\n",
    "df_found = df_t[idx]"
   ]
  },
  {
   "cell_type": "code",
   "execution_count": 56,
   "metadata": {},
   "outputs": [
    {
     "data": {
      "text/html": [
       "<div>\n",
       "<style scoped>\n",
       "    .dataframe tbody tr th:only-of-type {\n",
       "        vertical-align: middle;\n",
       "    }\n",
       "\n",
       "    .dataframe tbody tr th {\n",
       "        vertical-align: top;\n",
       "    }\n",
       "\n",
       "    .dataframe thead th {\n",
       "        text-align: right;\n",
       "    }\n",
       "</style>\n",
       "<table border=\"1\" class=\"dataframe\">\n",
       "  <thead>\n",
       "    <tr style=\"text-align: right;\">\n",
       "      <th></th>\n",
       "      <th>Master ID</th>\n",
       "      <th>Group_ID (format convention which we try to adhere to is \"Country_&lt;Geographic.Region_&lt;Geographic.Subregion_&gt;&gt;&lt;Archaeological.Period.Or.DateBP_&lt;Alternative.Archaeological.Period_&gt;&gt;&lt;Archaeological.Culture_&lt;Alternative.Archaeological.Culture&gt;&gt;&lt;genetic.subgrouping.index.if.necessary_&gt;&lt;\"o_\"sometimes.with.additional.detail.if.an.outlier&gt;&lt;additional.suffix.especially.relative.status.if.we.recommend.removing.from.main.analysis.grouping&gt;&lt;\"contam_\".if.contaminated&gt;&lt;\"lc_\".if.&lt;15000.SNPs.on.autosomal.targets&gt;&lt;\".SG\".or.\".DG\".if.shotgun.data&gt;; HG=hunter-gatherer, N=Neolithic, C=Chalcolithic/CopperAge, BA=BronzeAge, IA=IronAge, E=Early, M=Middle, L=Late, A=Antiquity)</th>\n",
       "      <th>Publication</th>\n",
       "      <th>Locality</th>\n",
       "      <th>Average of 95.4% date range in calBP (defined as 1950 CE)</th>\n",
       "    </tr>\n",
       "  </thead>\n",
       "  <tbody>\n",
       "    <tr>\n",
       "      <th>7257</th>\n",
       "      <td>I7117</td>\n",
       "      <td>Nigeria_Medieval_lc</td>\n",
       "      <td>Unpublished / Unclaimed</td>\n",
       "      <td>Ngala</td>\n",
       "      <td>1050.0</td>\n",
       "    </tr>\n",
       "    <tr>\n",
       "      <th>8498</th>\n",
       "      <td>I3997</td>\n",
       "      <td>Iberia_BA_all</td>\n",
       "      <td>Unpublished / Unclaimed (new version of previo...</td>\n",
       "      <td>Valencia, Paterna, Lloma de Betxí</td>\n",
       "      <td>3635.0</td>\n",
       "    </tr>\n",
       "    <tr>\n",
       "      <th>8499</th>\n",
       "      <td>I8142</td>\n",
       "      <td>Iberia_BA_lc</td>\n",
       "      <td>Unpublished / Unclaimed (new version of previo...</td>\n",
       "      <td>Granada, Arenas del Rey</td>\n",
       "      <td>3850.0</td>\n",
       "    </tr>\n",
       "    <tr>\n",
       "      <th>8500</th>\n",
       "      <td>I8142</td>\n",
       "      <td>Iberia_BA_lc_all</td>\n",
       "      <td>Unpublished / Unclaimed (new version of previo...</td>\n",
       "      <td>Granada, Arenas del Rey</td>\n",
       "      <td>3850.0</td>\n",
       "    </tr>\n",
       "    <tr>\n",
       "      <th>8503</th>\n",
       "      <td>I4246</td>\n",
       "      <td>Iberia_BellBeaker_oAfrican</td>\n",
       "      <td>Unpublished / Unclaimed (new version of previo...</td>\n",
       "      <td>Madrid, San Fernando de Henares, Camino de las...</td>\n",
       "      <td>4202.0</td>\n",
       "    </tr>\n",
       "    <tr>\n",
       "      <th>8504</th>\n",
       "      <td>I6626</td>\n",
       "      <td>Iberia_BellBeaker_oSteppe</td>\n",
       "      <td>Unpublished / Unclaimed (new version of previo...</td>\n",
       "      <td>Madrid, San Fernando de Henares, Camino de las...</td>\n",
       "      <td>4100.0</td>\n",
       "    </tr>\n",
       "    <tr>\n",
       "      <th>8505</th>\n",
       "      <td>I6471</td>\n",
       "      <td>Iberia_BellBeaker_oSteppe</td>\n",
       "      <td>Unpublished / Unclaimed (new version of previo...</td>\n",
       "      <td>La Magdalena</td>\n",
       "      <td>4250.0</td>\n",
       "    </tr>\n",
       "    <tr>\n",
       "      <th>8506</th>\n",
       "      <td>I6589</td>\n",
       "      <td>Iberia_BellBeaker_oSteppe</td>\n",
       "      <td>Unpublished / Unclaimed (new version of previo...</td>\n",
       "      <td>Madrid, Humanejos</td>\n",
       "      <td>4200.0</td>\n",
       "    </tr>\n",
       "    <tr>\n",
       "      <th>8507</th>\n",
       "      <td>I6471</td>\n",
       "      <td>Iberia_BellBeaker_oSteppe_all</td>\n",
       "      <td>Unpublished / Unclaimed (new version of previo...</td>\n",
       "      <td>La Magdalena</td>\n",
       "      <td>4250.0</td>\n",
       "    </tr>\n",
       "    <tr>\n",
       "      <th>8508</th>\n",
       "      <td>I6589</td>\n",
       "      <td>Iberia_BellBeaker_oSteppe_all</td>\n",
       "      <td>Unpublished / Unclaimed (new version of previo...</td>\n",
       "      <td>Madrid, Humanejos</td>\n",
       "      <td>4200.0</td>\n",
       "    </tr>\n",
       "    <tr>\n",
       "      <th>8522</th>\n",
       "      <td>I4556</td>\n",
       "      <td>Iberia_IA_PreIberian_all</td>\n",
       "      <td>Unpublished / Unclaimed (new version of previo...</td>\n",
       "      <td>Barcelona, Avinyonet del Penedès, Font de la C...</td>\n",
       "      <td>2550.0</td>\n",
       "    </tr>\n",
       "    <tr>\n",
       "      <th>8523</th>\n",
       "      <td>I3320</td>\n",
       "      <td>Iberia_Iberian_all</td>\n",
       "      <td>Unpublished / Unclaimed (new version of previo...</td>\n",
       "      <td>Castelló, Vilafamés, Els Estrets de la Rata</td>\n",
       "      <td>2150.0</td>\n",
       "    </tr>\n",
       "    <tr>\n",
       "      <th>8524</th>\n",
       "      <td>I3321</td>\n",
       "      <td>Iberia_Iberian_all</td>\n",
       "      <td>Unpublished / Unclaimed (new version of previo...</td>\n",
       "      <td>Castelló, Vilafamés, Els Estrets de la Rata</td>\n",
       "      <td>2150.0</td>\n",
       "    </tr>\n",
       "    <tr>\n",
       "      <th>8553</th>\n",
       "      <td>I7162</td>\n",
       "      <td>Iberia_North_BA_Africa_all</td>\n",
       "      <td>Unpublished / Unclaimed (new version of previo...</td>\n",
       "      <td>Cádiz, Chiclana de la Frontera, Loma del Puerco</td>\n",
       "      <td>3765.0</td>\n",
       "    </tr>\n",
       "    <tr>\n",
       "      <th>8556</th>\n",
       "      <td>I12171</td>\n",
       "      <td>Iberia_Tartessian_all</td>\n",
       "      <td>Unpublished / Unclaimed (new version of previo...</td>\n",
       "      <td>Sevilla, Alcalá del Río, La Angorrilla</td>\n",
       "      <td>2550.0</td>\n",
       "    </tr>\n",
       "    <tr>\n",
       "      <th>8557</th>\n",
       "      <td>I12173</td>\n",
       "      <td>Iberia_Tartessian_lc</td>\n",
       "      <td>Unpublished / Unclaimed (new version of previo...</td>\n",
       "      <td>Sevilla, Alcalá del Río, La Angorrilla</td>\n",
       "      <td>2550.0</td>\n",
       "    </tr>\n",
       "    <tr>\n",
       "      <th>8762</th>\n",
       "      <td>I8140</td>\n",
       "      <td>Iberia_BA</td>\n",
       "      <td>Unpublished / Unclaimed (red flag so be carefu...</td>\n",
       "      <td>Granada, Monachil</td>\n",
       "      <td>3705.0</td>\n",
       "    </tr>\n",
       "    <tr>\n",
       "      <th>8763</th>\n",
       "      <td>I8140</td>\n",
       "      <td>Iberia_BA_all</td>\n",
       "      <td>Unpublished / Unclaimed (red flag so be carefu...</td>\n",
       "      <td>Granada, Monachil</td>\n",
       "      <td>3705.0</td>\n",
       "    </tr>\n",
       "    <tr>\n",
       "      <th>8773</th>\n",
       "      <td>I12854</td>\n",
       "      <td>Iberia_Punic1_contam_lc</td>\n",
       "      <td>Unpublished / Unclaimed (red flag so be carefu...</td>\n",
       "      <td>Cádiz, Teatro Andalucía</td>\n",
       "      <td>2150.0</td>\n",
       "    </tr>\n",
       "    <tr>\n",
       "      <th>8806</th>\n",
       "      <td>I11778</td>\n",
       "      <td>Israel_Phoenician_o_contam_lc</td>\n",
       "      <td>Unpublished / Unclaimed (red flag so be carefu...</td>\n",
       "      <td>Akhziv, northern cemetery</td>\n",
       "      <td>2550.0</td>\n",
       "    </tr>\n",
       "    <tr>\n",
       "      <th>9144</th>\n",
       "      <td>I4562</td>\n",
       "      <td>Iberia_BA.SG</td>\n",
       "      <td>Unpublished / Unclaimed (shotgun)</td>\n",
       "      <td>Tarragona, Galls Carboners</td>\n",
       "      <td>3631.0</td>\n",
       "    </tr>\n",
       "    <tr>\n",
       "      <th>9145</th>\n",
       "      <td>I6470</td>\n",
       "      <td>Iberia_BA.SG</td>\n",
       "      <td>Unpublished / Unclaimed (shotgun)</td>\n",
       "      <td>Ciempozuelos, Burgos, Virgazal</td>\n",
       "      <td>3601.0</td>\n",
       "    </tr>\n",
       "    <tr>\n",
       "      <th>9150</th>\n",
       "      <td>I3758</td>\n",
       "      <td>Iberia_Celtiberian.DG</td>\n",
       "      <td>Unpublished / Unclaimed (shotgun)</td>\n",
       "      <td>Basque Country, Alava, La Hoya</td>\n",
       "      <td>2235.0</td>\n",
       "    </tr>\n",
       "    <tr>\n",
       "      <th>9151</th>\n",
       "      <td>I3758</td>\n",
       "      <td>Iberia_Celtiberian.SG</td>\n",
       "      <td>Unpublished / Unclaimed (shotgun)</td>\n",
       "      <td>Basque Country, Alava, La Hoya</td>\n",
       "      <td>2235.0</td>\n",
       "    </tr>\n",
       "  </tbody>\n",
       "</table>\n",
       "</div>"
      ],
      "text/plain": [
       "     Master ID  \\\n",
       "7257     I7117   \n",
       "8498     I3997   \n",
       "8499     I8142   \n",
       "8500     I8142   \n",
       "8503     I4246   \n",
       "8504     I6626   \n",
       "8505     I6471   \n",
       "8506     I6589   \n",
       "8507     I6471   \n",
       "8508     I6589   \n",
       "8522     I4556   \n",
       "8523     I3320   \n",
       "8524     I3321   \n",
       "8553     I7162   \n",
       "8556    I12171   \n",
       "8557    I12173   \n",
       "8762     I8140   \n",
       "8763     I8140   \n",
       "8773    I12854   \n",
       "8806    I11778   \n",
       "9144     I4562   \n",
       "9145     I6470   \n",
       "9150     I3758   \n",
       "9151     I3758   \n",
       "\n",
       "     Group_ID (format convention which we try to adhere to is \"Country_<Geographic.Region_<Geographic.Subregion_>><Archaeological.Period.Or.DateBP_<Alternative.Archaeological.Period_>><Archaeological.Culture_<Alternative.Archaeological.Culture>><genetic.subgrouping.index.if.necessary_><\"o_\"sometimes.with.additional.detail.if.an.outlier><additional.suffix.especially.relative.status.if.we.recommend.removing.from.main.analysis.grouping><\"contam_\".if.contaminated><\"lc_\".if.<15000.SNPs.on.autosomal.targets><\".SG\".or.\".DG\".if.shotgun.data>; HG=hunter-gatherer, N=Neolithic, C=Chalcolithic/CopperAge, BA=BronzeAge, IA=IronAge, E=Early, M=Middle, L=Late, A=Antiquity)  \\\n",
       "7257                                Nigeria_Medieval_lc                                                                                                                                                                                                                                                                                                                                                                                                                                                                                                                                                                                                                                     \n",
       "8498                                      Iberia_BA_all                                                                                                                                                                                                                                                                                                                                                                                                                                                                                                                                                                                                                                     \n",
       "8499                                       Iberia_BA_lc                                                                                                                                                                                                                                                                                                                                                                                                                                                                                                                                                                                                                                     \n",
       "8500                                   Iberia_BA_lc_all                                                                                                                                                                                                                                                                                                                                                                                                                                                                                                                                                                                                                                     \n",
       "8503                         Iberia_BellBeaker_oAfrican                                                                                                                                                                                                                                                                                                                                                                                                                                                                                                                                                                                                                                     \n",
       "8504                          Iberia_BellBeaker_oSteppe                                                                                                                                                                                                                                                                                                                                                                                                                                                                                                                                                                                                                                     \n",
       "8505                          Iberia_BellBeaker_oSteppe                                                                                                                                                                                                                                                                                                                                                                                                                                                                                                                                                                                                                                     \n",
       "8506                          Iberia_BellBeaker_oSteppe                                                                                                                                                                                                                                                                                                                                                                                                                                                                                                                                                                                                                                     \n",
       "8507                      Iberia_BellBeaker_oSteppe_all                                                                                                                                                                                                                                                                                                                                                                                                                                                                                                                                                                                                                                     \n",
       "8508                      Iberia_BellBeaker_oSteppe_all                                                                                                                                                                                                                                                                                                                                                                                                                                                                                                                                                                                                                                     \n",
       "8522                           Iberia_IA_PreIberian_all                                                                                                                                                                                                                                                                                                                                                                                                                                                                                                                                                                                                                                     \n",
       "8523                                 Iberia_Iberian_all                                                                                                                                                                                                                                                                                                                                                                                                                                                                                                                                                                                                                                     \n",
       "8524                                 Iberia_Iberian_all                                                                                                                                                                                                                                                                                                                                                                                                                                                                                                                                                                                                                                     \n",
       "8553                         Iberia_North_BA_Africa_all                                                                                                                                                                                                                                                                                                                                                                                                                                                                                                                                                                                                                                     \n",
       "8556                              Iberia_Tartessian_all                                                                                                                                                                                                                                                                                                                                                                                                                                                                                                                                                                                                                                     \n",
       "8557                               Iberia_Tartessian_lc                                                                                                                                                                                                                                                                                                                                                                                                                                                                                                                                                                                                                                     \n",
       "8762                                          Iberia_BA                                                                                                                                                                                                                                                                                                                                                                                                                                                                                                                                                                                                                                     \n",
       "8763                                      Iberia_BA_all                                                                                                                                                                                                                                                                                                                                                                                                                                                                                                                                                                                                                                     \n",
       "8773                            Iberia_Punic1_contam_lc                                                                                                                                                                                                                                                                                                                                                                                                                                                                                                                                                                                                                                     \n",
       "8806                      Israel_Phoenician_o_contam_lc                                                                                                                                                                                                                                                                                                                                                                                                                                                                                                                                                                                                                                     \n",
       "9144                                       Iberia_BA.SG                                                                                                                                                                                                                                                                                                                                                                                                                                                                                                                                                                                                                                     \n",
       "9145                                       Iberia_BA.SG                                                                                                                                                                                                                                                                                                                                                                                                                                                                                                                                                                                                                                     \n",
       "9150                              Iberia_Celtiberian.DG                                                                                                                                                                                                                                                                                                                                                                                                                                                                                                                                                                                                                                     \n",
       "9151                              Iberia_Celtiberian.SG                                                                                                                                                                                                                                                                                                                                                                                                                                                                                                                                                                                                                                     \n",
       "\n",
       "                                            Publication  \\\n",
       "7257                            Unpublished / Unclaimed   \n",
       "8498  Unpublished / Unclaimed (new version of previo...   \n",
       "8499  Unpublished / Unclaimed (new version of previo...   \n",
       "8500  Unpublished / Unclaimed (new version of previo...   \n",
       "8503  Unpublished / Unclaimed (new version of previo...   \n",
       "8504  Unpublished / Unclaimed (new version of previo...   \n",
       "8505  Unpublished / Unclaimed (new version of previo...   \n",
       "8506  Unpublished / Unclaimed (new version of previo...   \n",
       "8507  Unpublished / Unclaimed (new version of previo...   \n",
       "8508  Unpublished / Unclaimed (new version of previo...   \n",
       "8522  Unpublished / Unclaimed (new version of previo...   \n",
       "8523  Unpublished / Unclaimed (new version of previo...   \n",
       "8524  Unpublished / Unclaimed (new version of previo...   \n",
       "8553  Unpublished / Unclaimed (new version of previo...   \n",
       "8556  Unpublished / Unclaimed (new version of previo...   \n",
       "8557  Unpublished / Unclaimed (new version of previo...   \n",
       "8762  Unpublished / Unclaimed (red flag so be carefu...   \n",
       "8763  Unpublished / Unclaimed (red flag so be carefu...   \n",
       "8773  Unpublished / Unclaimed (red flag so be carefu...   \n",
       "8806  Unpublished / Unclaimed (red flag so be carefu...   \n",
       "9144                  Unpublished / Unclaimed (shotgun)   \n",
       "9145                  Unpublished / Unclaimed (shotgun)   \n",
       "9150                  Unpublished / Unclaimed (shotgun)   \n",
       "9151                  Unpublished / Unclaimed (shotgun)   \n",
       "\n",
       "                                               Locality  \\\n",
       "7257                                              Ngala   \n",
       "8498                  Valencia, Paterna, Lloma de Betxí   \n",
       "8499                            Granada, Arenas del Rey   \n",
       "8500                            Granada, Arenas del Rey   \n",
       "8503  Madrid, San Fernando de Henares, Camino de las...   \n",
       "8504  Madrid, San Fernando de Henares, Camino de las...   \n",
       "8505                                       La Magdalena   \n",
       "8506                                  Madrid, Humanejos   \n",
       "8507                                       La Magdalena   \n",
       "8508                                  Madrid, Humanejos   \n",
       "8522  Barcelona, Avinyonet del Penedès, Font de la C...   \n",
       "8523        Castelló, Vilafamés, Els Estrets de la Rata   \n",
       "8524        Castelló, Vilafamés, Els Estrets de la Rata   \n",
       "8553    Cádiz, Chiclana de la Frontera, Loma del Puerco   \n",
       "8556             Sevilla, Alcalá del Río, La Angorrilla   \n",
       "8557             Sevilla, Alcalá del Río, La Angorrilla   \n",
       "8762                                  Granada, Monachil   \n",
       "8763                                  Granada, Monachil   \n",
       "8773                            Cádiz, Teatro Andalucía   \n",
       "8806                          Akhziv, northern cemetery   \n",
       "9144                         Tarragona, Galls Carboners   \n",
       "9145                     Ciempozuelos, Burgos, Virgazal   \n",
       "9150                     Basque Country, Alava, La Hoya   \n",
       "9151                     Basque Country, Alava, La Hoya   \n",
       "\n",
       "      Average of 95.4% date range in calBP (defined as 1950 CE)    \n",
       "7257                                             1050.0            \n",
       "8498                                             3635.0            \n",
       "8499                                             3850.0            \n",
       "8500                                             3850.0            \n",
       "8503                                             4202.0            \n",
       "8504                                             4100.0            \n",
       "8505                                             4250.0            \n",
       "8506                                             4200.0            \n",
       "8507                                             4250.0            \n",
       "8508                                             4200.0            \n",
       "8522                                             2550.0            \n",
       "8523                                             2150.0            \n",
       "8524                                             2150.0            \n",
       "8553                                             3765.0            \n",
       "8556                                             2550.0            \n",
       "8557                                             2550.0            \n",
       "8762                                             3705.0            \n",
       "8763                                             3705.0            \n",
       "8773                                             2150.0            \n",
       "8806                                             2550.0            \n",
       "9144                                             3631.0            \n",
       "9145                                             3601.0            \n",
       "9150                                             2235.0            \n",
       "9151                                             2235.0            "
      ]
     },
     "execution_count": 56,
     "metadata": {},
     "output_type": "execute_result"
    }
   ],
   "source": [
    "df_found[150:174][[\"Master ID\", group_col, \"Publication\", \"Locality\", age_col]]"
   ]
  },
  {
   "cell_type": "code",
   "execution_count": 59,
   "metadata": {},
   "outputs": [],
   "source": [
    "df_found.to_csv(\"./output/tables/samples_claim.tsv\", sep=\"\\t\")"
   ]
  },
  {
   "cell_type": "code",
   "execution_count": 17,
   "metadata": {},
   "outputs": [
    {
     "name": "stdout",
     "output_type": "stream",
     "text": [
      "Loaded 635 Individuals\n"
     ]
    }
   ],
   "source": [
    "ind_merged=\"./eigenstrat/combined/punic1.v43.ind\"          # What .ind to load\n",
    "df_ind = pd.read_csv(ind_merged, delim_whitespace=True, header=None)\n",
    "df_ind.columns=[\"iid\", \"sex\", \"clst\"]\n",
    "print(f\"Loaded {len(df_ind)} Individuals\")"
   ]
  },
  {
   "cell_type": "code",
   "execution_count": null,
   "metadata": {},
   "outputs": [],
   "source": [
    "overwrite_ind_df(df_ind, \"Iberia\", output=True)"
   ]
  },
  {
   "cell_type": "code",
   "execution_count": null,
   "metadata": {},
   "outputs": [],
   "source": [
    "df_ind[df_ind[\"clst\"].str.contains(\"Iberia_Punic\")]"
   ]
  },
  {
   "cell_type": "code",
   "execution_count": null,
   "metadata": {},
   "outputs": [],
   "source": []
  }
 ],
 "metadata": {
  "kernelspec": {
   "display_name": "Python 3",
   "language": "python",
   "name": "python3"
  },
  "language_info": {
   "codemirror_mode": {
    "name": "ipython",
    "version": 3
   },
   "file_extension": ".py",
   "mimetype": "text/x-python",
   "name": "python",
   "nbconvert_exporter": "python",
   "pygments_lexer": "ipython3",
   "version": "3.7.4"
  }
 },
 "nbformat": 4,
 "nbformat_minor": 4
}
