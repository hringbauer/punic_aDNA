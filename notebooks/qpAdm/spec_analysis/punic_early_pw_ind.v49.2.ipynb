{
 "cells": [
  {
   "cell_type": "markdown",
   "metadata": {},
   "source": [
    "# Run pw. qpAdm Model for all indivdiuals of the early cluster\n",
    "\n",
    "Goal: Show that this cluster is heterogenous\n",
    "In other analysis it was already established that there is substantial heterogeneity"
   ]
  },
  {
   "cell_type": "code",
   "execution_count": 1,
   "metadata": {},
   "outputs": [
    {
     "name": "stdout",
     "output_type": "stream",
     "text": [
      "compute-a-17-134.o2.rc.hms.harvard.edu\n",
      "HSM Computational partition detected.\n",
      "/n/groups/reich/hringbauer/git/punic_aDNA\n",
      "CPU Count: 32\n",
      "3.7.4 (default, Sep 11 2019, 11:24:51) \n",
      "[GCC 6.2.0]\n"
     ]
    }
   ],
   "source": [
    "import numpy as np\n",
    "import os  # For Saving to Folder\n",
    "import pandas as pd\n",
    "import matplotlib.pyplot as plt\n",
    "\n",
    "import socket\n",
    "import os as os\n",
    "import sys as sys\n",
    "import multiprocessing as mp\n",
    "import itertools as it\n",
    "from time import time\n",
    "\n",
    "# For Arial Font\n",
    "from matplotlib import rcParams\n",
    "rcParams['font.family'] = 'sans-serif'   # Set the defaul\n",
    "# Make sure to have the font installed (it is on cluster for Harald)\n",
    "rcParams['font.sans-serif'] = ['Arial']\n",
    "\n",
    "socket_name = socket.gethostname()\n",
    "print(socket_name)\n",
    "\n",
    "if socket_name.startswith(\"compute-\"):\n",
    "    print(\"HSM Computational partition detected.\")\n",
    "    path = \"/n/groups/reich/hringbauer/git/punic_aDNA/\"  # The Path on Midway Cluster\n",
    "else:\n",
    "    raise RuntimeWarning(\"Not compatible machine. Check!!\")\n",
    "\n",
    "os.chdir(path)  # Set the right Path (in line with Atom default)\n",
    "os.sys.path.append(path)\n",
    "# Show the current working directory. Should be HAPSBURG/Notebooks/ParallelRuns\n",
    "print(os.getcwd())\n",
    "print(f\"CPU Count: {mp.cpu_count()}\")\n",
    "print(sys.version)"
   ]
  },
  {
   "cell_type": "markdown",
   "metadata": {},
   "source": [
    "### Do qpAdm Function Imports and Definitions"
   ]
  },
  {
   "cell_type": "code",
   "execution_count": 2,
   "metadata": {},
   "outputs": [
    {
     "name": "stdout",
     "output_type": "stream",
     "text": [
      "# Anc_Euro: 12 populations\n",
      "# Distal sources:5 populations\n"
     ]
    }
   ],
   "source": [
    "from python.run_qpadm import qpAdm_run, get_meta_ind_table, modifiy_iid_files, set_iids_to_label\n",
    "from python.plot_qpadm import plot_qpadm, load_pvals\n",
    "\n",
    "### Parameters for qpAdm_run are set there!\n",
    "a12 = [\"Mota\", \"Ust_Ishim\", \"Kostenki14\", \"GoyetQ116-1\", \"Vestonice16\", \"MA1\",\n",
    "           \"ElMiron\", \"Villabruna\", \"EHG\", \"CHG\", \"Natufian\",\n",
    "           \"Levant_N\"] # List of ancient European populations for right populations\n",
    "distal = [\"Anatolia_N\", \"WHG\", \"Steppe_EMBA\", \n",
    "          \"Iran_N\", \"Morocco_EN.SG\"]\n",
    "print(f\"# Anc_Euro: {len(a12)} populations\")\n",
    "print(f\"# Distal sources:{len(distal)} populations\")"
   ]
  },
  {
   "cell_type": "markdown",
   "metadata": {},
   "source": [
    "# 1) Modify .ind File"
   ]
  },
  {
   "cell_type": "markdown",
   "metadata": {},
   "source": [
    "### 1a) Prepare Early Punic Individuals\n",
    "Load data table with individual assignments - and produce modified .ind file for use in qpadm"
   ]
  },
  {
   "cell_type": "code",
   "execution_count": 3,
   "metadata": {},
   "outputs": [
    {
     "name": "stdout",
     "output_type": "stream",
     "text": [
      "Loaded 1142 Individuals\n",
      "Warning, I26842 not found in original .ind file.\n",
      "Overwriting 18 Individuals\n",
      "Saved updated 1142 IIDs to: ./eigenstrat/anc_only.v49.2.punic_early_ind.ind\n"
     ]
    }
   ],
   "source": [
    "### Populations to overwrite. Typically because they have the \".SG\" label\n",
    "vrs = \"49.2\"\n",
    "ind_merged = f\"./eigenstrat/anc_only.v{vrs}_outgroups.ind\"          # What .ind to load\n",
    "ind_modified = f\"./eigenstrat/anc_only.v{vrs}.punic_early_ind.ind\"    # Where to save the modified version to\n",
    "\n",
    "df_ind = pd.read_csv(ind_merged, delim_whitespace=True, header=None)\n",
    "df_ind.columns=[\"iid\", \"sex\", \"clst\"]\n",
    "print(f\"Loaded {len(df_ind)} Individuals\")\n",
    "\n",
    "df_lbs = pd.read_csv(\"./data/cluster_assignments_punic.v49.2.tsv\", sep=\"\\t\")  ### Load external Label file (Google docs)\n",
    "\n",
    "### Reset Clusters\n",
    "for _, row in df_lbs.iterrows():\n",
    "    iid = row['iid']\n",
    "    \n",
    "    idx = df_ind[\"iid\"] == iid\n",
    "    if np.sum(idx)<1:\n",
    "        print(f\"Warning, {iid} not found in original .ind file.\")\n",
    "    \n",
    "    df_ind.loc[idx, \"clst\"] = row[\"clst_qpadm\"]\n",
    "    ### Reset All the Individuals in the Target Ind\n",
    "    #df_ind = set_iids_to_clst(df_ind, iids=iids, clst=g, savepath=\"\")\n",
    "\n",
    "### Overwrite PunicCentralMedEarly\n",
    "idx = df_ind[\"clst\"]==\"PunicCentralMedEarly\"\n",
    "df_p_cm_early = df_ind[idx].copy()\n",
    "iids = df_p_cm_early[\"iid\"].values\n",
    "df_ind = set_iids_to_label(df_ind, iids_overwrite=iids)\n",
    "\n",
    "df_ind.to_csv(ind_modified, header=False, sep=\" \", index=False)\n",
    "print(f\"Saved updated {len(df_ind)} IIDs to: {ind_modified}\")"
   ]
  },
  {
   "cell_type": "code",
   "execution_count": 4,
   "metadata": {},
   "outputs": [
    {
     "data": {
      "text/plain": [
       "array(['I4798', 'I4799', 'I4800', 'I12666', 'I12847', 'I22115', 'I22121',\n",
       "       'I22122', 'I22117', 'I22118', 'I22232', 'I22096', 'I24678',\n",
       "       'I24676', 'I24675', 'I24556', 'I22095', 'I18201'], dtype=object)"
      ]
     },
     "execution_count": 4,
     "metadata": {},
     "output_type": "execute_result"
    }
   ],
   "source": [
    "### Give out the IIDs\n",
    "iids"
   ]
  },
  {
   "cell_type": "markdown",
   "metadata": {},
   "source": [
    "# 2) Run qpAdm"
   ]
  },
  {
   "cell_type": "markdown",
   "metadata": {},
   "source": [
    "### Test run for pair of indiviuals"
   ]
  },
  {
   "cell_type": "code",
   "execution_count": 12,
   "metadata": {},
   "outputs": [
    {
     "name": "stdout",
     "output_type": "stream",
     "text": [
      "Runtime: 64.207009\n",
      "CPU times: user 5.68 ms, sys: 7.5 ms, total: 13.2 ms\n",
      "Wall time: 1min 4s\n"
     ]
    },
    {
     "data": {
      "text/plain": [
       "0"
      ]
     },
     "execution_count": 12,
     "metadata": {},
     "output_type": "execute_result"
    }
   ],
   "source": [
    "%%time\n",
    "\n",
    "target = \"I4798\"  \n",
    "sources = [\"I4799\"]  # Morocco_EN.SG, Algeria_IA\n",
    "rightpops = a12 + [\"Morocco_EN.SG\", \"Iran_N\"]\n",
    "\n",
    "leftpops = [target] + sources\n",
    "qpAdm_run(leftpops = leftpops, rightpops = rightpops, \n",
    "          output_file = \".\".join(leftpops), \n",
    "          input_folder = \"./eigenstrat/\", \n",
    "          input_file = \"anc_only.v49.2\",\n",
    "          input_ind_suff = \".punic_early_ind\",\n",
    "          par_file_folder = \"./parfiles/\", \n",
    "          output_folder = \"./output/qpAdm/v49.2/area51/\", \n",
    "          path_bin_qpAdm = \"/n/groups/reich/hringbauer/git/AdmixTools/bin/qpAdm\",\n",
    "          all_snps=False)"
   ]
  },
  {
   "cell_type": "markdown",
   "metadata": {},
   "source": [
    "# Run all possible pairs"
   ]
  },
  {
   "cell_type": "code",
   "execution_count": null,
   "metadata": {},
   "outputs": [
    {
     "name": "stdout",
     "output_type": "stream",
     "text": [
      "Runtime: 64.303255\n",
      "Runtime: 64.388395\n",
      "Runtime: 64.606390\n"
     ]
    }
   ],
   "source": [
    "for p in it.combinations(iids, r=2):  ### One run was with r=1\n",
    "    rightpops = a12 + [\"Morocco_EN.SG\", \"Iran_N\"]\n",
    "    leftpops = list(p)\n",
    "    \n",
    "    qpAdm_run(leftpops = leftpops, rightpops = rightpops, \n",
    "              output_file = \".\".join(leftpops), \n",
    "              input_folder = \"./eigenstrat/\", \n",
    "              input_file = \"anc_only.v49.2\",\n",
    "              input_ind_suff = \".punic_early_ind\",\n",
    "              par_file_folder = \"./parfiles/\", \n",
    "              output_folder = \"./output/qpAdm/v49.2/early_punic_pairs_ind/\", \n",
    "              path_bin_qpAdm = \"/n/groups/reich/hringbauer/git/AdmixTools/bin/qpAdm\",\n",
    "              all_snps=False)"
   ]
  },
  {
   "cell_type": "markdown",
   "metadata": {},
   "source": [
    "# 2) Pick up the p-values"
   ]
  },
  {
   "cell_type": "code",
   "execution_count": 16,
   "metadata": {},
   "outputs": [
    {
     "name": "stdout",
     "output_type": "stream",
     "text": [
      "CPU times: user 39.6 ms, sys: 22.9 ms, total: 62.5 ms\n",
      "Wall time: 787 ms\n"
     ]
    }
   ],
   "source": [
    "%%time\n",
    "ps=[]\n",
    "inds =[]\n",
    "\n",
    "for pr in it.combinations(iids, r=2): \n",
    "    rs=load_pvals(f\"./output/qpAdm/v49.2/early_punic_pairs_ind/{pr[0]}.{pr[1]}.log\")\n",
    "    ps.append(rs[0])\n",
    "    inds.append(rs[1])\n",
    "inds = np.array(inds)\n",
    "\n",
    "df = pd.DataFrame({\"ind1\":inds[:,0], \"ind2\":inds[:,1], \"p\":ps})"
   ]
  },
  {
   "cell_type": "code",
   "execution_count": 18,
   "metadata": {},
   "outputs": [],
   "source": [
    "def get_p_mat_ordered(df, pops):\n",
    "    \"\"\"Get p Matrix matching\n",
    "    the list pops\"\"\"\n",
    "    k=len(pops)\n",
    "    pops=np.array(pops)\n",
    "    combs = np.array(list(it.product(pops, repeat=2)))\n",
    "    df_pairs = pd.DataFrame(combs)\n",
    "    df_pairs.columns = [\"ind1\", \"ind2\"]\n",
    "    \n",
    "    ### Flip rows of f_st dataframe\n",
    "    df1 = df.copy()\n",
    "    df1[\"ind2\"], df1[\"ind1\"] = df[\"ind1\"], df[\"ind2\"]\n",
    "    df = df.append(df1).sort_index().reset_index(drop=True)\n",
    "    \n",
    "    df_merge = pd.merge(df_pairs, df, on=[\"ind1\", \"ind2\"], how=\"left\")\n",
    "    p_mat = df_merge[\"p\"].values.reshape((k,k))\n",
    "    return p_mat"
   ]
  },
  {
   "cell_type": "code",
   "execution_count": 22,
   "metadata": {},
   "outputs": [],
   "source": [
    "ps = get_p_mat_ordered(df, iids)"
   ]
  },
  {
   "cell_type": "code",
   "execution_count": null,
   "metadata": {},
   "outputs": [],
   "source": []
  }
 ],
 "metadata": {
  "kernelspec": {
   "display_name": "Python 3",
   "language": "python",
   "name": "python3"
  },
  "language_info": {
   "codemirror_mode": {
    "name": "ipython",
    "version": 3
   },
   "file_extension": ".py",
   "mimetype": "text/x-python",
   "name": "python",
   "nbconvert_exporter": "python",
   "pygments_lexer": "ipython3",
   "version": "3.7.4"
  }
 },
 "nbformat": 4,
 "nbformat_minor": 4
}
