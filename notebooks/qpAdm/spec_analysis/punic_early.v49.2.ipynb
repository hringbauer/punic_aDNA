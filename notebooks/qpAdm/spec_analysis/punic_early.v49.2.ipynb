{
 "cells": [
  {
   "cell_type": "markdown",
   "metadata": {},
   "source": [
    "# Model the early Punic Individuals from all sites, with 2 outliers removed"
   ]
  },
  {
   "cell_type": "code",
   "execution_count": 1,
   "metadata": {},
   "outputs": [
    {
     "name": "stdout",
     "output_type": "stream",
     "text": [
      "compute-a-17-116.o2.rc.hms.harvard.edu\n",
      "HSM Computational partition detected.\n",
      "/n/groups/reich/hringbauer/git/punic_aDNA\n",
      "CPU Count: 32\n",
      "3.7.4 (default, Sep 11 2019, 11:24:51) \n",
      "[GCC 6.2.0]\n"
     ]
    }
   ],
   "source": [
    "import numpy as np\n",
    "import os  # For Saving to Folder\n",
    "import pandas as pd\n",
    "import matplotlib.pyplot as plt\n",
    "\n",
    "import socket\n",
    "import os as os\n",
    "import sys as sys\n",
    "import multiprocessing as mp\n",
    "import itertools as it\n",
    "from time import time\n",
    "\n",
    "# For Arial Font\n",
    "from matplotlib import rcParams\n",
    "rcParams['font.family'] = 'sans-serif'   # Set the defaul\n",
    "# Make sure to have the font installed (it is on cluster for Harald)\n",
    "rcParams['font.sans-serif'] = ['Arial']\n",
    "\n",
    "socket_name = socket.gethostname()\n",
    "print(socket_name)\n",
    "\n",
    "if socket_name.startswith(\"compute-\"):\n",
    "    print(\"HSM Computational partition detected.\")\n",
    "    path = \"/n/groups/reich/hringbauer/git/punic_aDNA/\"  # The Path on Midway Cluster\n",
    "else:\n",
    "    raise RuntimeWarning(\"Not compatible machine. Check!!\")\n",
    "\n",
    "os.chdir(path)  # Set the right Path (in line with Atom default)\n",
    "os.sys.path.append(path)\n",
    "# Show the current working directory. Should be HAPSBURG/Notebooks/ParallelRuns\n",
    "print(os.getcwd())\n",
    "print(f\"CPU Count: {mp.cpu_count()}\")\n",
    "print(sys.version)"
   ]
  },
  {
   "cell_type": "markdown",
   "metadata": {},
   "source": [
    "### Do qpAdm Function Imports and Definitions"
   ]
  },
  {
   "cell_type": "code",
   "execution_count": 2,
   "metadata": {},
   "outputs": [
    {
     "name": "stdout",
     "output_type": "stream",
     "text": [
      "# Anc_Euro: 12 populations\n",
      "# Distal sources:5 populations\n"
     ]
    }
   ],
   "source": [
    "from python.run_qpadm import qpAdm_run, get_meta_ind_table, modifiy_iid_files, set_iids_to_label\n",
    "from python.plot_qpadm import plot_qpadm\n",
    "\n",
    "### Parameters for qpAdm_run are set there!\n",
    "a12 = [\"Mota\", \"Ust_Ishim\", \"Kostenki14\", \"GoyetQ116-1\", \"Vestonice16\", \"MA1\",\n",
    "           \"ElMiron\", \"Villabruna\", \"EHG\", \"CHG\", \"Natufian\",\n",
    "           \"Levant_N\"] # List of ancient European populations for right populations\n",
    "distal = [\"Anatolia_N\", \"WHG\", \"Steppe_EMBA\", \n",
    "          \"Iran_N\", \"Morocco_EN.SG\"]\n",
    "print(f\"# Anc_Euro: {len(a12)} populations\")\n",
    "print(f\"# Distal sources:{len(distal)} populations\")"
   ]
  },
  {
   "cell_type": "markdown",
   "metadata": {},
   "source": [
    "# 1) Modify .ind File"
   ]
  },
  {
   "cell_type": "markdown",
   "metadata": {},
   "source": [
    "### Optional: Screen for Population Lables in anno file"
   ]
  },
  {
   "cell_type": "code",
   "execution_count": 29,
   "metadata": {},
   "outputs": [
    {
     "name": "stdout",
     "output_type": "stream",
     "text": [
      "Filtering to 1137/1142\n",
      "Loaded 1137 Individuals\n",
      "Filtered to 1091 Individuals based on #SNP covered> 30000\n",
      "Filtered to 1002 Individuals based on duplicates.\n"
     ]
    },
    {
     "data": {
      "text/plain": [
       "Morocco_Iberomaurusian                   6\n",
       "Morocco_LN.SG                            3\n",
       "Morocco_EN.SG                            3\n",
       "Morocco_unknown.SG                       1\n",
       "Morocco_Iberomaurusian_sibling.TAF011    1\n",
       "Name: clst, dtype: int64"
      ]
     },
     "execution_count": 29,
     "metadata": {},
     "output_type": "execute_result"
    }
   ],
   "source": [
    "vrs = \"49.2\"\n",
    "df = get_meta_ind_table(path_ind = f\"./eigenstrat/anc_only.v{vrs}_outgroups.ind\",\n",
    "                        path_anno = f\"/n/groups/reich/hringbauer/Data/v{vrs}.anno.csv\",\n",
    "                        min_snp = 30000)\n",
    "### Screen for what one wants\n",
    "df[df[\"clst\"].str.contains(\"Morocco\")][\"clst\"].value_counts()"
   ]
  },
  {
   "cell_type": "markdown",
   "metadata": {},
   "source": [
    "### 1a) Prepare Early Punic Individuals\n",
    "Load data table with individual assignments - and produce modified .ind file for use in qpadm"
   ]
  },
  {
   "cell_type": "code",
   "execution_count": 16,
   "metadata": {},
   "outputs": [
    {
     "name": "stdout",
     "output_type": "stream",
     "text": [
      "Loaded 1142 Individuals\n",
      "Warning, I26842 not found in original .ind file.\n",
      "Saved updated 1142 IIDs to: ./eigenstrat/anc_only.v49.2.punic_early.ind\n"
     ]
    }
   ],
   "source": [
    "### Populations to overwrite. Typically because they have the \".SG\" label\n",
    "ind_merged = f\"./eigenstrat/anc_only.v{vrs}_outgroups.ind\"          # What .ind to load\n",
    "ind_modified = f\"./eigenstrat/anc_only.v{vrs}.punic_early.ind\"    # Where to save the modified version to\n",
    "\n",
    "df_ind = pd.read_csv(ind_merged, delim_whitespace=True, header=None)\n",
    "df_ind.columns=[\"iid\", \"sex\", \"clst\"]\n",
    "print(f\"Loaded {len(df_ind)} Individuals\")\n",
    "\n",
    "df_lbs = pd.read_csv(\"./data/cluster_assignments_punic.v49.2.tsv\", sep=\"\\t\")  ### Load external Label file (Google docs)\n",
    "\n",
    "### Reset Clusters\n",
    "for _, row in df_lbs.iterrows():\n",
    "    iid = row['iid']\n",
    "    \n",
    "    idx = df_ind[\"iid\"] == iid\n",
    "    if np.sum(idx)<1:\n",
    "        print(f\"Warning, {iid} not found in original .ind file.\")\n",
    "    \n",
    "    df_ind.loc[idx, \"clst\"] = row[\"clst_qpadm\"]\n",
    "    ### Reset All the Individuals in the Target Ind\n",
    "    #df_ind = set_iids_to_clst(df_ind, iids=iids, clst=g, savepath=\"\")\n",
    "    \n",
    "#df_ind[df_ind[\"clst\"].str.contains(\"CentralMed\")]  \n",
    "df_ind.to_csv(ind_modified, header=False, sep=\" \", index=False)\n",
    "print(f\"Saved updated {len(df_ind)} IIDs to: {ind_modified}\")"
   ]
  },
  {
   "cell_type": "markdown",
   "metadata": {},
   "source": [
    "### Update other labels in Ind file"
   ]
  },
  {
   "cell_type": "code",
   "execution_count": 9,
   "metadata": {},
   "outputs": [],
   "source": [
    "iids = df_ind[df_ind[\"clst\"] == \"PunicCentralMedEarly\"]"
   ]
  },
  {
   "cell_type": "code",
   "execution_count": 10,
   "metadata": {},
   "outputs": [
    {
     "data": {
      "text/plain": [
       "18"
      ]
     },
     "execution_count": 10,
     "metadata": {},
     "output_type": "execute_result"
    }
   ],
   "source": [
    "len(iids)"
   ]
  },
  {
   "cell_type": "markdown",
   "metadata": {},
   "source": [
    "# 2) Run qpAdm"
   ]
  },
  {
   "cell_type": "markdown",
   "metadata": {},
   "source": [
    "## 2a) Distal Modelling"
   ]
  },
  {
   "cell_type": "markdown",
   "metadata": {},
   "source": [
    "### Run for single Population\n",
    "Here: Run for Morocco_EN with Morocco_Iberomaurusian as Outgroup.\n",
    "Idea: Very distal model, compared to Algeria_IA, which is explored in the full proximal model"
   ]
  },
  {
   "cell_type": "code",
   "execution_count": 33,
   "metadata": {},
   "outputs": [
    {
     "name": "stdout",
     "output_type": "stream",
     "text": [
      "Runtime: 99.532556\n",
      "CPU times: user 6.98 ms, sys: 7.07 ms, total: 14.1 ms\n",
      "Wall time: 1min 39s\n"
     ]
    },
    {
     "data": {
      "text/plain": [
       "0"
      ]
     },
     "execution_count": 33,
     "metadata": {},
     "output_type": "execute_result"
    }
   ],
   "source": [
    "%%time\n",
    "\n",
    "target = \"PunicCentralMedEarly\"  \n",
    "sources = [\"Morocco_EN.SG\", \"WHG\", \"Steppe_EMBA\", \"Anatolia_N\", \"Iran_N\"]  # Morocco_EN.SG, Algeria_IA\n",
    "rightpops = a12 + [\"Morocco_Iberomaurusian\"] \n",
    "\n",
    "leftpops = [target] + sources\n",
    "qpAdm_run(leftpops = leftpops, rightpops = rightpops, \n",
    "          output_file = \".\".join(leftpops), \n",
    "          input_folder = \"./eigenstrat/\", \n",
    "          input_file = \"anc_only.v49.2\",\n",
    "          input_ind_suff = \".punic_early\",\n",
    "          par_file_folder = \"./parfiles/\", \n",
    "          output_folder = \"./output/qpAdm/v49.2/area51/\", \n",
    "          path_bin_qpAdm = \"/n/groups/reich/hringbauer/git/AdmixTools/bin/qpAdm\",\n",
    "          all_snps=False)"
   ]
  },
  {
   "cell_type": "markdown",
   "metadata": {},
   "source": [
    "### Run distal Models for all Reference Populations of Interest"
   ]
  },
  {
   "cell_type": "code",
   "execution_count": null,
   "metadata": {},
   "outputs": [],
   "source": [
    "%%time\n",
    "\n",
    "target = \"PunicCentralMedEarly\"  \n",
    "sources = [\"Anatolia_N\", \"WHG\", \"Steppe_EMBA\", \"Algeria_IA\", \"Iran_N\"]  # Morocco_EN.SG, Algeria_IA\n",
    "rightpops = a12 + [\"Morocco_EN.SG\"]\n",
    "\n",
    "leftpops = [target] + sources\n",
    "qpAdm_run(leftpops = leftpops, rightpops = rightpops, \n",
    "          output_file = \".\".join(leftpops), \n",
    "          input_folder = \"./eigenstrat/\", \n",
    "          input_file = \"anc_only.v49.2\",\n",
    "          input_ind_suff = \".punic_early\",\n",
    "          par_file_folder = \"./parfiles/\", \n",
    "          output_folder = \"./output/qpAdm/v49.2/area51/\", \n",
    "          path_bin_qpAdm = \"/n/groups/reich/hringbauer/git/AdmixTools/bin/qpAdm\",\n",
    "          all_snps=False)"
   ]
  },
  {
   "cell_type": "markdown",
   "metadata": {},
   "source": [
    "### 2b) Distal Modelling for all source groups of interest"
   ]
  },
  {
   "cell_type": "code",
   "execution_count": 10,
   "metadata": {},
   "outputs": [
    {
     "name": "stdout",
     "output_type": "stream",
     "text": [
      "Runtime: 71.884755\n",
      "Runtime: 70.173747\n",
      "Runtime: 71.585433\n",
      "Runtime: 69.511715\n",
      "Runtime: 72.323834\n",
      "Runtime: 70.767218\n",
      "Runtime: 71.703620\n",
      "Runtime: 71.513078\n",
      "Runtime: 73.455270\n",
      "CPU times: user 35.4 ms, sys: 66.7 ms, total: 102 ms\n",
      "Wall time: 10min 43s\n"
     ]
    }
   ],
   "source": [
    "%%time\n",
    "\n",
    "targets = [\"PunicCentralMedEarly\", \"Algeria_IA\", \n",
    "           \"Italy_Sicily_IA_Polizzello\", \n",
    "           \"Greece_BA_Mycenaean\", \"Spain_IA\", \"Italy_Sardinia_BA_Nuragic\",\n",
    "           \"Israel_Phoenician\", \"Israel_C\", \"Israel_MLBA\"]\n",
    "\n",
    "sources = [\"Anatolia_N\", \"WHG\", \"Steppe_EMBA\", \"Morocco_EN.SG\", \"Iran_N\"]  # Morocco_EN.SG, Tunisia_LN for African possible\n",
    "rightpops = a12 # + [\"Morocco_EN.SG\"] ### Remove Morocco_EN.SG from Outgroup if in Source\n",
    "\n",
    "for target in targets:\n",
    "    leftpops = [target] + sources\n",
    "    qpAdm_run(leftpops = leftpops, rightpops = rightpops, \n",
    "              output_file = \".\".join(leftpops), \n",
    "              input_folder = \"./eigenstrat/\", \n",
    "              input_file = \"anc_only.v49.2\",\n",
    "              input_ind_suff = \".punic_early\",\n",
    "              par_file_folder = \"./parfiles/\", \n",
    "              output_folder = \"./output/qpAdm/v49.2/distal_grouped/\", \n",
    "              path_bin_qpAdm = \"/n/groups/reich/hringbauer/git/AdmixTools/bin/qpAdm\",\n",
    "              all_snps=False)"
   ]
  },
  {
   "cell_type": "markdown",
   "metadata": {},
   "source": [
    "## 1,2,3-way models of proximal sources for \"PunicCentralMedEarly\"\n",
    "No 1 or 2-way model of the expected sources work. p<<1e-5\n",
    "\n",
    "Two fitting 3-way models:\n",
    "\n",
    "Algeria_IA/Sicily_IA/Mycenean\n",
    "p=0.0273     0.070     0.619     0.311\n",
    "\n",
    "Algeria_IA/Mycenean/Spain_IA\n",
    "p=0.122     0.089     0.654     0.257\n",
    "\n",
    "To follow up on that add each of them as outgroup for the other [to be done]\n",
    "\n"
   ]
  },
  {
   "cell_type": "code",
   "execution_count": 18,
   "metadata": {},
   "outputs": [
    {
     "name": "stdout",
     "output_type": "stream",
     "text": [
      "Runtime: 76.589441\n",
      "CPU times: user 4.89 ms, sys: 7.48 ms, total: 12.4 ms\n",
      "Wall time: 1min 16s\n"
     ]
    }
   ],
   "source": [
    "%%time\n",
    "\n",
    "### \"Italy_Sicily_IA_Polizzello\", \"Israel_Phoenician\",\n",
    "srcs_pot = [\"Spain_IA\", \"Greece_BA_Mycenaean\", \"Algeria_IA\"]\n",
    "target = \"PunicCentralMedEarly\" \n",
    "rightpops = a12 + [\"Morocco_EN.SG\", \"Iran_N\", \"Israel_Phoenician\"]\n",
    "# Added Phoenician as Outgroup to get that across\n",
    "\n",
    "### Iterate over all pairs\n",
    "for p in it.combinations(srcs_pot, r=3):  ### One run was with r=1\n",
    "    leftpops = [target] + list(p)\n",
    "    qpAdm_run(leftpops = leftpops, rightpops = rightpops, \n",
    "              output_file = \".\".join(leftpops), \n",
    "              input_folder = \"./eigenstrat/\", \n",
    "              input_file = \"anc_only.v49.2\",\n",
    "              input_ind_suff = \".punic_early\",\n",
    "              par_file_folder = \"./parfiles/\", \n",
    "              output_folder = \"./output/qpAdm/v49.2/early_punic_proxi/\", \n",
    "              path_bin_qpAdm = \"/n/groups/reich/hringbauer/git/AdmixTools/bin/qpAdm\",\n",
    "              all_snps=False)"
   ]
  },
  {
   "cell_type": "markdown",
   "metadata": {},
   "source": [
    "### Follow up on the two three-way models\n",
    "They are different in their third source (Spain_IA/Italy_Sicily_IA_Polizzello).\n",
    "Put each of them as outgroup for each other\n",
    "\n",
    "### Result:\n",
    "Only one model survives!!\n",
    "\n",
    "\n",
    "Algeria_IA Mycenean Spain_IA\n",
    "\n",
    "p=0.134404     0.086     0.661     0.253\n",
    "\n",
    "and\n",
    "\n",
    "Algeria_IA Mycenean Sicilly-Polizello\n",
    "\n",
    "p=0.00349    0.077     0.442     0.481 "
   ]
  },
  {
   "cell_type": "code",
   "execution_count": 106,
   "metadata": {},
   "outputs": [
    {
     "name": "stdout",
     "output_type": "stream",
     "text": [
      "Runtime: 60.914796\n",
      "CPU times: user 4.01 ms, sys: 9.5 ms, total: 13.5 ms\n",
      "Wall time: 1min\n"
     ]
    },
    {
     "data": {
      "text/plain": [
       "0"
      ]
     },
     "execution_count": 106,
     "metadata": {},
     "output_type": "execute_result"
    }
   ],
   "source": [
    "%%time\n",
    "\n",
    "target = \"PunicCentralMedEarly\"  \n",
    "sources = [ \"Greece_BA_Mycenaean\", \"Italy_Sicily_IA_Polizzello\"]  # Flip last component with down\n",
    "rightpops = a12 + [\"Morocco_EN.SG\", \"Iran_N\", \"Israel_Phoenician\"] # Flip last component with up\n",
    "\n",
    "leftpops = [target] + sources\n",
    "qpAdm_run(leftpops = leftpops, rightpops = rightpops, \n",
    "          output_file = \".\".join(leftpops), \n",
    "          input_folder = \"./eigenstrat/\", \n",
    "          input_file = \"anc_only.v49.2\",\n",
    "          input_ind_suff = \".punic_early\",\n",
    "          par_file_folder = \"./parfiles/\", \n",
    "          output_folder = \"./output/qpAdm/v49.2/area51/\", \n",
    "          path_bin_qpAdm = \"/n/groups/reich/hringbauer/git/AdmixTools/bin/qpAdm\",\n",
    "          all_snps=False)"
   ]
  },
  {
   "cell_type": "markdown",
   "metadata": {},
   "source": [
    "### 4-way proximal model for PunicCentralMedEarly\n",
    "As another way to test Spain_IA vrs Polizello\n",
    "\n",
    "\n",
    "Algeria_IA Greece_BA_Mycenaean Italy_Sicily_IA_Polizzello Spain_IA\n",
    "p=0.136     0.082     0.453     0.310     0.156 "
   ]
  },
  {
   "cell_type": "code",
   "execution_count": 111,
   "metadata": {},
   "outputs": [
    {
     "name": "stdout",
     "output_type": "stream",
     "text": [
      "Runtime: 66.953734\n",
      "CPU times: user 2.9 ms, sys: 12.1 ms, total: 15 ms\n",
      "Wall time: 1min 6s\n"
     ]
    },
    {
     "data": {
      "text/plain": [
       "0"
      ]
     },
     "execution_count": 111,
     "metadata": {},
     "output_type": "execute_result"
    }
   ],
   "source": [
    "%%time\n",
    "\n",
    "target = \"PunicCentralMedEarly\"  \n",
    "sources = [\"Algeria_IA\", \"Greece_BA_Mycenaean\", \"Italy_Sicily_IA_Polizzello\", \"Spain_IA\"]  # Flip last component with down\n",
    "rightpops = a12 + [\"Morocco_EN.SG\", \"Iran_N\"] # Flip last component with up\n",
    "\n",
    "leftpops = [target] + sources\n",
    "qpAdm_run(leftpops = leftpops, rightpops = rightpops, \n",
    "          output_file = \".\".join(leftpops), \n",
    "          input_folder = \"./eigenstrat/\", \n",
    "          input_file = \"anc_only.v49.2\",\n",
    "          input_ind_suff = \".punic_early\",\n",
    "          par_file_folder = \"./parfiles/\", \n",
    "          output_folder = \"./output/qpAdm/v49.2/area51/\", \n",
    "          path_bin_qpAdm = \"/n/groups/reich/hringbauer/git/AdmixTools/bin/qpAdm\",\n",
    "          all_snps=False)"
   ]
  },
  {
   "cell_type": "markdown",
   "metadata": {},
   "source": [
    "## Run proximal Model for plot of 3 Sources in Paper"
   ]
  },
  {
   "cell_type": "code",
   "execution_count": 34,
   "metadata": {},
   "outputs": [
    {
     "name": "stdout",
     "output_type": "stream",
     "text": [
      "Runtime: 81.713625\n",
      "CPU times: user 3.61 ms, sys: 10.4 ms, total: 14 ms\n",
      "Wall time: 1min 21s\n"
     ]
    },
    {
     "data": {
      "text/plain": [
       "0"
      ]
     },
     "execution_count": 34,
     "metadata": {},
     "output_type": "execute_result"
    }
   ],
   "source": [
    "%%time\n",
    "\n",
    "### \"Italy_Sicily_IA_Polizzello\", \"Israel_Phoenician\",\n",
    "srcs_pot = [\"Algeria_IA\", \"Spain_IA\", \"Greece_BA_Mycenaean\"]\n",
    "target = \"PunicCentralMedEarly\" \n",
    "rightpops = a12 + [\"Morocco_EN.SG\", \"Italy_Sicily_IA_Polizzello\", \"Israel_Phoenician\"] #\"Iran_N\"\n",
    "# Added Phoenician as Outgroup to get across it fits that way\n",
    "\n",
    "leftpops = [target] + srcs_pot\n",
    "qpAdm_run(leftpops = leftpops, rightpops = rightpops, \n",
    "          output_file = \".\".join(leftpops), \n",
    "          input_folder = \"./eigenstrat/\", \n",
    "          input_file = \"anc_only.v49.2\",\n",
    "          input_ind_suff = \".punic_early\",\n",
    "          par_file_folder = \"./parfiles/\", \n",
    "          output_folder = \"./output/qpAdm/v49.2/area51/\", \n",
    "          path_bin_qpAdm = \"/n/groups/reich/hringbauer/git/AdmixTools/bin/qpAdm\",\n",
    "          all_snps=False)"
   ]
  },
  {
   "cell_type": "markdown",
   "metadata": {},
   "source": [
    "# 3) Plot Results"
   ]
  },
  {
   "cell_type": "markdown",
   "metadata": {},
   "source": [
    "### 3)a) Plot single distal Model for Punic Early\n",
    "Really good fit - Iran N needed (when put in outgroup model does not fit)\n",
    "All components \"Anatolia_N\", \"WHG\", \"Steppe_EMBA\", \"Algeria_IA\", \"Iran_N\" needed.\n",
    "\n",
    "Generally low standard errors (0-2%) - good model.\n",
    "\n",
    "Definitely WHG in there (which is very low in Myceneans)"
   ]
  },
  {
   "cell_type": "code",
   "execution_count": 6,
   "metadata": {},
   "outputs": [
    {
     "name": "stdout",
     "output_type": "stream",
     "text": [
      "Saved to ./figures/qpAdm.49.2/fig2/punic_early_distal.pdf\n"
     ]
    },
    {
     "data": {
      "image/png": "[encoded data removed]",
      "text/plain": [
       "<Figure size 72x360 with 2 Axes>"
      ]
     },
     "metadata": {
      "needs_background": "light"
     },
     "output_type": "display_data"
    }
   ],
   "source": [
    "### Load the ancient Individual Label Data\n",
    "\n",
    "t = \"PunicCentralMedEarly\"\n",
    "#sources = [\"Anatolia_N\", \"WHG\", \"Steppe_EMBA\", \"Iran_N\", \"Morocco_EN.SG\"]\n",
    "sources = [\"Morocco_EN.SG\", \"WHG\", \"Steppe_EMBA\", \"Anatolia_N\", \"Iran_N\"]\n",
    "paths = [\".\".join([t]+sources)]\n",
    "\n",
    "dir_path = f\"./output/qpAdm/v49.2/area51/\"\n",
    "save_path = \"./figures/qpAdm.49.2/fig2/punic_early_distal.pdf\" # ./figures/qpAdm/v44/4way_Canaanite.pdf\n",
    "c = [\"#FF165D\", \"#FF9A00\", \"#F6F7D7\", \"#3EC1D3\", \"gray\"]\n",
    "\n",
    "xlabels = [\"Punic Early Aegean\"]\n",
    "plot_qpadm(dir_path=dir_path, test_pops=paths, save_path=save_path,\n",
    "           xlabels=xlabels, sort_p=True, labels=[\"Morocco EN\", \"WHG\", \"Steppe EMBA\", \"Anatolia N\", \"Iran N\"],\n",
    "           best=False, pval_lim = [1e-5,1], figsize=(1,5), bw=0.9, lw=1.5, sgfc=0.01, \n",
    "           fs=12, c=c, ec=\"gray\", l_pos=(-1.15, 1.15))"
   ]
  },
  {
   "cell_type": "code",
   "execution_count": 9,
   "metadata": {},
   "outputs": [
    {
     "name": "stdout",
     "output_type": "stream",
     "text": [
      "Saved to ./figures/qpAdm.49.2/PunicCentralMedEarly/4way_distal.pdf\n"
     ]
    },
    {
     "data": {
      "image/png": "[encoded data removed]",
      "text/plain": [
       "<Figure size 72x360 with 2 Axes>"
      ]
     },
     "metadata": {
      "needs_background": "light"
     },
     "output_type": "display_data"
    }
   ],
   "source": [
    "### Load the ancient Individual Label Data\n",
    "\n",
    "t = \"PunicCentralMedEarly\"\n",
    "sources = [\"Anatolia_N\", \"WHG\", \"Steppe_EMBA\", \"Algeria_IA\", \"Iran_N\"]\n",
    "paths = [\".\".join([t]+sources)]\n",
    "\n",
    "dir_path = f\"./output/qpAdm/v49.2/area51/\"\n",
    "save_path = \"./figures/qpAdm.49.2/PunicCentralMedEarly/4way_distal.pdf\" # ./figures/qpAdm/v44/4way_Canaanite.pdf\n",
    "c = [\"#984ea3\", \"#4daf4a\", \"#377eb8\", \"#e41a1c\", \"gray\"]\n",
    "\n",
    "xlabels = [\"Punic Early Aegean\"]\n",
    "plot_qpadm(dir_path=dir_path, test_pops=paths, save_path=save_path,\n",
    "           xlabels=xlabels, sort_p=True, labels=[\"Anatolia N\", \"WHG\", \"Steppe EMBA\", \"Algeria IA\", \"Iran N\"],\n",
    "           best=False, pval_lim = [1e-5,1], figsize=(1,5), bw=0.9, lw=1.5, \n",
    "           fs=12, c=c, ec=\"gray\", l_pos=(-1.15, 1.15))"
   ]
  },
  {
   "cell_type": "code",
   "execution_count": 4,
   "metadata": {},
   "outputs": [
    {
     "data": {
      "image/png": "[encoded data removed]",
      "text/plain": [
       "<Figure size 432x360 with 2 Axes>"
      ]
     },
     "metadata": {
      "needs_background": "light"
     },
     "output_type": "display_data"
    }
   ],
   "source": [
    "targets = [\"PunicCentralMedEarly\", \"Algeria_IA\", \n",
    "           \"Italy_Sicily_IA_Polizzello\", \n",
    "           \"Greece_BA_Mycenaean\", \"Spain_IA\", \"Italy_Sardinia_BA_Nuragic\",\n",
    "           \"Israel_Phoenician\"]\n",
    "\n",
    "sources = [\"Anatolia_N\", \"WHG\", \"Steppe_EMBA\", \"Tunisia_LN\", \"Iran_N\"]\n",
    "paths = [\".\".join([t]+sources) for t in targets]\n",
    "\n",
    "dir_path = f\"./output/qpAdm/v49.2/distal_grouped/\"\n",
    "save_path = \"\" # ./figures/qpAdm/v44/4way_Canaanite.pdf\n",
    "c = [\"#984ea3\", \"#4daf4a\", \"#377eb8\", \"#e41a1c\", \"yellow\"]\n",
    "\n",
    "xlabels = [t.replace(\"_\", \" \") for t in targets]\n",
    "plot_qpadm(dir_path=dir_path, test_pops=paths, save_path=save_path,\n",
    "           xlabels=xlabels, sort_p=True, labels=[\"Anatolia N\", \"WHG\", \"Steppe EMBA\", \"Algeria IA\", \"Iran N\"],\n",
    "           best=True, pval_lim = [1e-7,1], figsize=(6,5), bw=0.9, lw=1.5, \n",
    "           fs=12, c=c, ec=\"gray\", l_pos=(-0.25, 1.15))"
   ]
  },
  {
   "cell_type": "markdown",
   "metadata": {},
   "source": [
    "### Distal Model for various source pops\n",
    "This is the same plot as above, but this time with Tunisia_EN as N.Afr. source"
   ]
  },
  {
   "cell_type": "code",
   "execution_count": 17,
   "metadata": {},
   "outputs": [
    {
     "data": {
      "image/png": "[encoded data removed]",
      "text/plain": [
       "<Figure size 432x360 with 2 Axes>"
      ]
     },
     "metadata": {
      "needs_background": "light"
     },
     "output_type": "display_data"
    }
   ],
   "source": [
    "targets = [\"PunicCentralMedEarly\", \"Algeria_IA\", \n",
    "           \"Italy_Sicily_IA_Polizzello\", \n",
    "           \"Greece_BA_Mycenaean\", \"Spain_IA\", \"Italy_Sardinia_BA_Nuragic\",\n",
    "           \"Israel_Phoenician\"]\n",
    "\n",
    "sources = [\"Anatolia_N\", \"WHG\", \"Steppe_EMBA\", \"Morocco_EN.SG\", \"Iran_N\"]\n",
    "\n",
    "paths = [\".\".join([t]+sources) for t in targets]\n",
    "\n",
    "dir_path = f\"./output/qpAdm/v49.2/distal_grouped/\"\n",
    "save_path = \"\" # ./figures/qpAdm/v44/4way_Canaanite.pdf\n",
    "c = [\"#984ea3\", \"#4daf4a\", \"#377eb8\", \"#e41a1c\", \"yellow\"]\n",
    "\n",
    "xlabels = [t.replace(\"_\", \" \") for t in targets]\n",
    "plot_qpadm(dir_path=dir_path, test_pops=paths, save_path=save_path,\n",
    "           xlabels=xlabels, sort_p=True, labels=[\"Anatolia N\", \"WHG\", \"Steppe EMBA\", \"Algeria IA\", \"Iran N\"],\n",
    "           best=True, pval_lim = [1e-7,1], figsize=(6,5), bw=0.9, lw=1.5, \n",
    "           fs=12, c=c, ec=\"gray\", l_pos=(-0.25, 1.15))"
   ]
  },
  {
   "cell_type": "markdown",
   "metadata": {},
   "source": [
    "### 3)b) Plot proximal Models"
   ]
  },
  {
   "cell_type": "markdown",
   "metadata": {},
   "source": [
    "### Plot single Model [For Figure 2]"
   ]
  },
  {
   "cell_type": "code",
   "execution_count": 5,
   "metadata": {},
   "outputs": [
    {
     "name": "stdout",
     "output_type": "stream",
     "text": [
      "Saved to ./figures/qpAdm.49.2/fig2/punic_early_proximal.pdf\n"
     ]
    },
    {
     "data": {
      "image/png": "[encoded data removed]",
      "text/plain": [
       "<Figure size 72x360 with 2 Axes>"
      ]
     },
     "metadata": {
      "needs_background": "light"
     },
     "output_type": "display_data"
    }
   ],
   "source": [
    "### Load the ancient Individual Label Data\n",
    "\n",
    "t = \"PunicCentralMedEarly\"\n",
    "sources = [\"Algeria_IA\", \"Spain_IA\", \"Greece_BA_Mycenaean\"]\n",
    "paths = [\".\".join([t]+sources)]\n",
    "\n",
    "dir_path = f\"./output/qpAdm/v49.2/area51/\"\n",
    "save_path = \"./figures/qpAdm.49.2/fig2/punic_early_proximal.pdf\" # ./figures/qpAdm/v44/4way_Canaanite.pdf\n",
    "c = [\"#e41a1c\", \"#007ED6\", \"#FFEC00\", \"#984ea3\", \"gray\"]\n",
    "\n",
    "xlabels = [\"Punic Early Aegean\"]\n",
    "plot_qpadm(dir_path=dir_path, test_pops=paths, save_path=save_path,\n",
    "           xlabels=xlabels, sort_p=True, labels=[\"Algeria IA\", \"Spain IA\", \"Mycenaean\"],\n",
    "           best=False, pval_lim = [1e-5,1], figsize=(1,5), bw=0.9, lw=1.5, sgfc=0.01,\n",
    "           fs=12, c=c, ec=\"gray\", l_pos=(-1.15, 1.15))"
   ]
  },
  {
   "cell_type": "code",
   "execution_count": 138,
   "metadata": {},
   "outputs": [
    {
     "data": {
      "image/png": "[encoded data removed]",
      "text/plain": [
       "<Figure size 72x360 with 2 Axes>"
      ]
     },
     "metadata": {
      "needs_background": "light"
     },
     "output_type": "display_data"
    }
   ],
   "source": [
    "### Load the ancient Individual Label Data\n",
    "\n",
    "t = \"PunicCentralMedEarly\"\n",
    "sources = [\"Algeria_IA\", \"Greece_BA_Mycenaean\", \"Italy_Sicily_IA_Polizzello\", \"Spain_IA\"]\n",
    "paths = [\".\".join([t]+sources)]\n",
    "\n",
    "dir_path = f\"./output/qpAdm/v49.2/area51/\"\n",
    "save_path = \"\" # ./figures/qpAdm/v44/4way_Canaanite.pdf\n",
    "c = [\"#e41a1c\", \"#007ED6\", \"#FFEC00\", \"#984ea3\", \"gray\"]\n",
    "\n",
    "xlabels = [\"Punic Early Aegean\"]\n",
    "plot_qpadm(dir_path=dir_path, test_pops=paths, save_path=save_path,\n",
    "           xlabels=xlabels, sort_p=True, labels=[\"Algeria IA\", \"Mycenaean\", \"Sicily Polizzello IA\", \"Spain IA\"],\n",
    "           best=False, pval_lim = [1e-5,1], figsize=(1,5), bw=0.9, lw=1.5, \n",
    "           fs=12, c=c, ec=\"gray\", l_pos=(-1.15, 1.15))"
   ]
  },
  {
   "cell_type": "markdown",
   "metadata": {},
   "source": [
    "# Area 51"
   ]
  },
  {
   "cell_type": "markdown",
   "metadata": {},
   "source": [
    "### Try out single models"
   ]
  },
  {
   "cell_type": "code",
   "execution_count": 120,
   "metadata": {},
   "outputs": [
    {
     "name": "stdout",
     "output_type": "stream",
     "text": [
      "Runtime: 54.134359\n",
      "CPU times: user 3.41 ms, sys: 11.7 ms, total: 15.1 ms\n",
      "Wall time: 54.1 s\n"
     ]
    },
    {
     "data": {
      "text/plain": [
       "0"
      ]
     },
     "execution_count": 120,
     "metadata": {},
     "output_type": "execute_result"
    }
   ],
   "source": [
    "%%time\n",
    "\n",
    "target = \"Israel_C\"  \n",
    "sources = [\"Levant_N\", \"Iran_N\", \"Anatolia_N\"]  # Morocco_EN.SG, Algeria_IA\n",
    "\n",
    "rightpops = ['Mota', 'Ust_Ishim', 'Kostenki14', 'GoyetQ116-1',\n",
    "             'Vestonice16', 'MA1', 'ElMiron', 'Villabruna',\n",
    "             'EHG', 'CHG', 'Natufian', \"Morocco_EN.SG\"]\n",
    "\n",
    "leftpops = [target] + sources\n",
    "qpAdm_run(leftpops = leftpops, rightpops = rightpops, \n",
    "          output_file = \".\".join(leftpops), \n",
    "          input_folder = \"./eigenstrat/\", \n",
    "          input_file = \"anc_only.v49.2\",\n",
    "          input_ind_suff = \".punic_early\",\n",
    "          par_file_folder = \"./parfiles/\", \n",
    "          output_folder = \"./output/qpAdm/v49.2/area51/\", \n",
    "          path_bin_qpAdm = \"/n/groups/reich/hringbauer/git/AdmixTools/bin/qpAdm\",\n",
    "          all_snps=False)"
   ]
  },
  {
   "cell_type": "code",
   "execution_count": 132,
   "metadata": {},
   "outputs": [
    {
     "name": "stdout",
     "output_type": "stream",
     "text": [
      "Runtime: 84.836933\n",
      "CPU times: user 6.06 ms, sys: 8.55 ms, total: 14.6 ms\n",
      "Wall time: 1min 24s\n"
     ]
    },
    {
     "data": {
      "text/plain": [
       "0"
      ]
     },
     "execution_count": 132,
     "metadata": {},
     "output_type": "execute_result"
    }
   ],
   "source": [
    "%%time\n",
    "\n",
    "target = \"Israel_C\"  \n",
    "sources = [\"Anatolia_N\", \"WHG\", \"Steppe_EMBA\", \"Tunisia_LN\", \"Iran_N\", \"Levant_N\"] # Morocco_EN.SG, Algeria_IA\n",
    "rightpops = ['Mota', 'Ust_Ishim', 'Kostenki14', 'GoyetQ116-1',\n",
    "             'Vestonice16', 'MA1', 'ElMiron', 'Villabruna',\n",
    "             'EHG', 'CHG', 'Natufian', \"Morocco_EN.SG\"]\n",
    "\n",
    "leftpops = [target] + sources\n",
    "qpAdm_run(leftpops = leftpops, rightpops = rightpops, \n",
    "          output_file = \".\".join(leftpops), \n",
    "          input_folder = \"./eigenstrat/\", \n",
    "          input_file = \"anc_only.v49.2\",\n",
    "          input_ind_suff = \".punic_early\",\n",
    "          par_file_folder = \"./parfiles/\", \n",
    "          output_folder = \"./output/qpAdm/v49.2/area51/\", \n",
    "          path_bin_qpAdm = \"/n/groups/reich/hringbauer/git/AdmixTools/bin/qpAdm\",\n",
    "          all_snps=False)"
   ]
  },
  {
   "cell_type": "markdown",
   "metadata": {},
   "source": [
    "# 1-way model from Tunisia_LN to Algeria_IA\n",
    "Does not really fit"
   ]
  },
  {
   "cell_type": "code",
   "execution_count": 18,
   "metadata": {},
   "outputs": [
    {
     "name": "stdout",
     "output_type": "stream",
     "text": [
      "Runtime: 46.118396\n",
      "CPU times: user 6.69 ms, sys: 5.5 ms, total: 12.2 ms\n",
      "Wall time: 46.1 s\n"
     ]
    },
    {
     "data": {
      "text/plain": [
       "0"
      ]
     },
     "execution_count": 18,
     "metadata": {},
     "output_type": "execute_result"
    }
   ],
   "source": [
    "%%time\n",
    "\n",
    "target = \"Algeria_IA\"  \n",
    "sources = [\"Tunisia_LN\"] # Morocco_EN.SG, Algeria_IA\n",
    "rightpops = ['Mota', 'Ust_Ishim', 'Kostenki14', 'GoyetQ116-1',\n",
    "             'Vestonice16', 'MA1', 'ElMiron', 'Villabruna',\n",
    "             'EHG', 'CHG', 'Natufian', \"Morocco_EN.SG\"]\n",
    "\n",
    "leftpops = [target] + sources\n",
    "qpAdm_run(leftpops = leftpops, rightpops = rightpops, \n",
    "          output_file = \".\".join(leftpops), \n",
    "          input_folder = \"./eigenstrat/\", \n",
    "          input_file = \"anc_only.v49.2\",\n",
    "          input_ind_suff = \".punic_early\",\n",
    "          par_file_folder = \"./parfiles/\", \n",
    "          output_folder = \"./output/qpAdm/v49.2/area51/\", \n",
    "          path_bin_qpAdm = \"/n/groups/reich/hringbauer/git/AdmixTools/bin/qpAdm\",\n",
    "          all_snps=False)"
   ]
  },
  {
   "cell_type": "markdown",
   "metadata": {},
   "source": [
    "# Sow 2-way model from Tunisia_LN to Algeria_IA\n",
    "Does not really fit, so try Israel_C as second source.\n",
    "That is also seen on the African PCA - there is a further shift not seen yet in Tunisia_LN.\n",
    "Still not excellent fit - but better (p=10e-5)"
   ]
  },
  {
   "cell_type": "code",
   "execution_count": 19,
   "metadata": {},
   "outputs": [
    {
     "name": "stdout",
     "output_type": "stream",
     "text": [
      "Runtime: 50.525968\n",
      "CPU times: user 2.11 ms, sys: 9.02 ms, total: 11.1 ms\n",
      "Wall time: 50.5 s\n"
     ]
    },
    {
     "data": {
      "text/plain": [
       "0"
      ]
     },
     "execution_count": 19,
     "metadata": {},
     "output_type": "execute_result"
    }
   ],
   "source": [
    "%%time\n",
    "\n",
    "target = \"Algeria_IA\"  \n",
    "sources = [\"Tunisia_LN\", \"Israel_C\", ] # Morocco_EN.SG, Algeria_IA\n",
    "rightpops = ['Mota', 'Ust_Ishim', 'Kostenki14', 'GoyetQ116-1',\n",
    "             'Vestonice16', 'MA1', 'ElMiron', 'Villabruna',\n",
    "             'EHG', 'CHG', 'Natufian', \"Morocco_EN.SG\"]\n",
    "\n",
    "leftpops = [target] + sources\n",
    "qpAdm_run(leftpops = leftpops, rightpops = rightpops, \n",
    "          output_file = \".\".join(leftpops), \n",
    "          input_folder = \"./eigenstrat/\", \n",
    "          input_file = \"anc_only.v49.2\",\n",
    "          input_ind_suff = \".punic_early\",\n",
    "          par_file_folder = \"./parfiles/\", \n",
    "          output_folder = \"./output/qpAdm/v49.2/area51/\", \n",
    "          path_bin_qpAdm = \"/n/groups/reich/hringbauer/git/AdmixTools/bin/qpAdm\",\n",
    "          all_snps=False)"
   ]
  },
  {
   "cell_type": "code",
   "execution_count": 20,
   "metadata": {},
   "outputs": [
    {
     "name": "stdout",
     "output_type": "stream",
     "text": [
      "Runtime: 50.504099\n",
      "CPU times: user 6.22 ms, sys: 6.88 ms, total: 13.1 ms\n",
      "Wall time: 50.5 s\n"
     ]
    },
    {
     "data": {
      "text/plain": [
       "0"
      ]
     },
     "execution_count": 20,
     "metadata": {},
     "output_type": "execute_result"
    }
   ],
   "source": [
    "%%time\n",
    "\n",
    "target = \"Algeria_IA\"  \n",
    "sources = [\"Tunisia_EN\", \"Israel_C\", ] # Morocco_EN.SG, Algeria_IA\n",
    "rightpops = ['Mota', 'Ust_Ishim', 'Kostenki14', 'GoyetQ116-1',\n",
    "             'Vestonice16', 'MA1', 'ElMiron', 'Villabruna',\n",
    "             'EHG', 'CHG', 'Natufian', \"Morocco_EN.SG\"]\n",
    "\n",
    "leftpops = [target] + sources\n",
    "qpAdm_run(leftpops = leftpops, rightpops = rightpops, \n",
    "          output_file = \".\".join(leftpops), \n",
    "          input_folder = \"./eigenstrat/\", \n",
    "          input_file = \"anc_only.v49.2\",\n",
    "          input_ind_suff = \".punic_early\",\n",
    "          par_file_folder = \"./parfiles/\", \n",
    "          output_folder = \"./output/qpAdm/v49.2/area51/\", \n",
    "          path_bin_qpAdm = \"/n/groups/reich/hringbauer/git/AdmixTools/bin/qpAdm\",\n",
    "          all_snps=False)"
   ]
  },
  {
   "cell_type": "code",
   "execution_count": null,
   "metadata": {},
   "outputs": [],
   "source": []
  }
 ],
 "metadata": {
  "kernelspec": {
   "display_name": "Python 3",
   "language": "python",
   "name": "python3"
  },
  "language_info": {
   "codemirror_mode": {
    "name": "ipython",
    "version": 3
   },
   "file_extension": ".py",
   "mimetype": "text/x-python",
   "name": "python",
   "nbconvert_exporter": "python",
   "pygments_lexer": "ipython3",
   "version": "3.7.4"
  }
 },
 "nbformat": 4,
 "nbformat_minor": 4
}
