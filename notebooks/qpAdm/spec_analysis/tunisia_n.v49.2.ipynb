{
 "cells": [
  {
   "cell_type": "markdown",
   "metadata": {},
   "source": [
    "# 2-way Distal Admixture Tunisia Neolithic"
   ]
  },
  {
   "cell_type": "code",
   "execution_count": 4,
   "metadata": {},
   "outputs": [
    {
     "name": "stdout",
     "output_type": "stream",
     "text": [
      "compute-e-16-229.o2.rc.hms.harvard.edu\n",
      "HSM Computational partition detected.\n",
      "/n/groups/reich/hringbauer/git/punic_aDNA\n",
      "CPU Count: 28\n",
      "3.7.4 (default, Sep 11 2019, 11:24:51) \n",
      "[GCC 6.2.0]\n"
     ]
    }
   ],
   "source": [
    "import numpy as np\n",
    "import os  # For Saving to Folder\n",
    "import pandas as pd\n",
    "import matplotlib.pyplot as plt\n",
    "\n",
    "import socket\n",
    "import os as os\n",
    "import sys as sys\n",
    "import multiprocessing as mp\n",
    "import itertools as it\n",
    "from time import time\n",
    "\n",
    "### For Arial Font\n",
    "from matplotlib import rcParams\n",
    "rcParams['font.family'] = 'sans-serif'   # Set the defaul\n",
    "# Make sure to have the font installed (it is on cluster for Harald)\n",
    "rcParams['font.sans-serif'] = ['Arial']\n",
    "\n",
    "socket_name = socket.gethostname()\n",
    "print(socket_name)\n",
    "\n",
    "if socket_name.startswith(\"compute-\"):\n",
    "    print(\"HSM Computational partition detected.\")\n",
    "    path = \"/n/groups/reich/hringbauer/git/punic_aDNA/\"  # The Path on Midway Cluster\n",
    "else:\n",
    "    raise RuntimeWarning(\"Not compatible machine. Check!!\")\n",
    "\n",
    "os.chdir(path)  # Set the right Path (in line with Atom default)\n",
    "os.sys.path.append(path)\n",
    "# Show the current working directory. Should be HAPSBURG/Notebooks/ParallelRuns\n",
    "print(os.getcwd())\n",
    "print(f\"CPU Count: {mp.cpu_count()}\")\n",
    "print(sys.version)"
   ]
  },
  {
   "cell_type": "markdown",
   "metadata": {},
   "source": [
    "### Do qpAdm Function Imports and Definitions"
   ]
  },
  {
   "cell_type": "code",
   "execution_count": 9,
   "metadata": {},
   "outputs": [
    {
     "name": "stdout",
     "output_type": "stream",
     "text": [
      "# Anc_Euro: 12 populations\n",
      "# Distal sources: 5 populations\n"
     ]
    }
   ],
   "source": [
    "from python.run_qpadm import qpAdm_run, get_meta_ind_table, modifiy_iid_files, set_iids_to_label\n",
    "from python.plot_qpadm import plot_qpadm, plot_qpadm_split\n",
    "\n",
    "### Parameters for qpAdm_run are set there!\n",
    "a12 = [\"Mota\", \"Ust_Ishim\", \"Kostenki14\", \"GoyetQ116-1\", \"Vestonice16\", \"MA1\",\n",
    "           \"ElMiron\", \"Villabruna\", \"EHG\", \"CHG\", \"Natufian\",\n",
    "           \"Levant_N\"] # List of ancient European populations for right populations\n",
    "\n",
    "distal = [\"Anatolia_N\", \"WHG\", \"Steppe_EMBA\", \n",
    "          \"Iran_N\", \"Morocco_EN.SG\"]\n",
    "\n",
    "print(f\"# Anc_Euro: {len(a12)} populations\")\n",
    "print(f\"# Distal sources: {len(distal)} populations\")"
   ]
  },
  {
   "cell_type": "markdown",
   "metadata": {},
   "source": [
    "# 1) Get Dataframe with anno clusters"
   ]
  },
  {
   "cell_type": "code",
   "execution_count": 5,
   "metadata": {},
   "outputs": [
    {
     "name": "stdout",
     "output_type": "stream",
     "text": [
      "Filtering to 1137/1142\n",
      "Loaded 1137 Individuals\n",
      "Filtered to 1091 Individuals based on #SNP covered> 30000\n",
      "Filtered to 1002 Individuals based on duplicates.\n"
     ]
    }
   ],
   "source": [
    "vrs = \"49.2\"\n",
    "\n",
    "df = get_meta_ind_table(path_ind = f\"./eigenstrat/anc_only.v{vrs}_outgroups.ind\",\n",
    "                        path_anno = f\"/n/groups/reich/hringbauer/Data/v{vrs}.anno.csv\",\n",
    "                        min_snp = 30000)"
   ]
  },
  {
   "cell_type": "markdown",
   "metadata": {},
   "source": [
    "### 1b) Optional: Screen for population labels"
   ]
  },
  {
   "cell_type": "code",
   "execution_count": 12,
   "metadata": {},
   "outputs": [
    {
     "data": {
      "text/plain": [
       "Morocco_Iberomaurusian                   6\n",
       "Morocco_LN.SG                            3\n",
       "Morocco_EN.SG                            3\n",
       "Morocco_unknown.SG                       1\n",
       "Morocco_Iberomaurusian_sibling.TAF011    1\n",
       "Name: clst, dtype: int64"
      ]
     },
     "execution_count": 12,
     "metadata": {},
     "output_type": "execute_result"
    }
   ],
   "source": [
    "df[df[\"clst\"].str.contains(\"Morocco\")][\"clst\"].value_counts()"
   ]
  },
  {
   "cell_type": "markdown",
   "metadata": {},
   "source": [
    "### Prepare .ind File with Tunisia individuals seperated out"
   ]
  },
  {
   "cell_type": "code",
   "execution_count": 45,
   "metadata": {},
   "outputs": [
    {
     "name": "stdout",
     "output_type": "stream",
     "text": [
      "Loaded 1142 Individuals\n",
      "Found 1 Matches\n",
      "Tunisia_EN    1\n",
      "Name: clst, dtype: int64\n",
      "Found 4 Matches\n",
      "Tunisia_N    4\n",
      "Name: clst, dtype: int64\n",
      "Found 2 Matches\n",
      "Tunisia_LN    2\n",
      "Name: clst, dtype: int64\n",
      "Saved 1142 Individuals to ./eigenstrat/anc_only.v49.2.tunisia_N_ind.ind\n"
     ]
    }
   ],
   "source": [
    "### Populations to overwrite. Typically because they have the \".SG\" label\n",
    "ind_merged = f\"./eigenstrat/anc_only.v{vrs}_outgroups.ind\"          # What .ind to load\n",
    "ind_modified = f\"./eigenstrat/anc_only.v{vrs}.tunisia_N_ind.ind\"    # Where to save the modified version to\n",
    "df_ind = pd.read_csv(ind_merged, delim_whitespace=True, header=None)\n",
    "df_ind.columns=[\"iid\", \"sex\", \"clst\"]\n",
    "print(f\"Loaded {len(df_ind)} Individuals\")\n",
    "\n",
    "modifiy_iid_files(df_ind, pops_overwrite=[\"Tunisia_EN\", \"Tunisia_N\", \"Tunisia_LN\"], \n",
    "                  pops_overwrite12=[],\n",
    "                  ind_modified = ind_modified)"
   ]
  },
  {
   "cell_type": "markdown",
   "metadata": {},
   "source": [
    "# Run distal Models for Tunisia"
   ]
  },
  {
   "cell_type": "markdown",
   "metadata": {},
   "source": [
    "### Test Run for single Individual"
   ]
  },
  {
   "cell_type": "code",
   "execution_count": 21,
   "metadata": {},
   "outputs": [
    {
     "name": "stdout",
     "output_type": "stream",
     "text": [
      "Runtime: 96.386997\n",
      "CPU times: user 5.56 ms, sys: 8.97 ms, total: 14.5 ms\n",
      "Wall time: 1min 36s\n"
     ]
    },
    {
     "data": {
      "text/plain": [
       "0"
      ]
     },
     "execution_count": 21,
     "metadata": {},
     "output_type": "execute_result"
    }
   ],
   "source": [
    "%%time\n",
    "\n",
    "target = \"I20825\"  \n",
    "sources = distal\n",
    "leftpops = [target] + sources\n",
    "rightpops = a12\n",
    "\n",
    "qpAdm_run(leftpops = leftpops, rightpops = rightpops, \n",
    "          output_file = \".\".join(leftpops) + \".log\", \n",
    "          input_folder = \"./eigenstrat/combined/\", \n",
    "          input_file = \"punic.v49.0\",\n",
    "          par_file_folder = \"./parfiles/\", \n",
    "          input_ind_suff = \".tunisia_N_ind\", \n",
    "          output_folder = \"./output/qpAdm/v49.0/area51/\", \n",
    "          path_bin_qpAdm = \"/n/groups/reich/hringbauer/git/AdmixTools/bin/qpAdm\",\n",
    "          all_snps=True)"
   ]
  },
  {
   "cell_type": "markdown",
   "metadata": {},
   "source": [
    "## Run all single Indivdiuals"
   ]
  },
  {
   "cell_type": "code",
   "execution_count": 23,
   "metadata": {},
   "outputs": [
    {
     "name": "stdout",
     "output_type": "stream",
     "text": [
      "Found 8 Individuals to run...\n",
      "Runtime: 99.077401\n",
      "Runtime: 95.819268\n",
      "Runtime: 95.919909\n",
      "Runtime: 98.362426\n",
      "Runtime: 119.191381\n",
      "Runtime: 95.193831\n",
      "Runtime: 95.467838\n",
      "Runtime: 98.731012\n"
     ]
    }
   ],
   "source": [
    "sources = distal\n",
    "rightpops = a12\n",
    "\n",
    "iids = df[df[\"clst\"].str.contains(\"Tunisia_N\")][\"iid\"].values\n",
    "print(f\"Found {len(iids)} Individuals to run...\")\n",
    "\n",
    "for target in iids:\n",
    "    leftpops = [target] + sources\n",
    "    qpAdm_run(leftpops = leftpops, rightpops = rightpops, \n",
    "              output_file = \".\".join(leftpops) + \".log\", \n",
    "              input_folder = \"./eigenstrat/combined/\", \n",
    "              input_file = \"punic.v49.0\",\n",
    "              par_file_folder = \"./parfiles/\", \n",
    "              input_ind_suff = \".tunisia_N_ind\", \n",
    "              output_folder = \"./output/qpAdm/v49.0/tunisia_n_distal/\", \n",
    "              path_bin_qpAdm = \"/n/groups/reich/hringbauer/git/AdmixTools/bin/qpAdm\",\n",
    "              all_snps=True)"
   ]
  },
  {
   "cell_type": "markdown",
   "metadata": {},
   "source": [
    "# Run two way models for shift within Tunisia N:\n",
    "Shift from Tunisia EN to Tunisia LN (only RC dates)"
   ]
  },
  {
   "cell_type": "code",
   "execution_count": 35,
   "metadata": {},
   "outputs": [
    {
     "name": "stdout",
     "output_type": "stream",
     "text": [
      "Loaded 1142 Individuals\n",
      "Overwriting 4 Individuals\n",
      "Overwriting 1 Individuals\n",
      "Saved 1142 Individuals to ./eigenstrat/anc_only.v49.2.tunisia_N_shft.ind\n"
     ]
    },
    {
     "data": {
      "text/html": [
       "<div>\n",
       "<style scoped>\n",
       "    .dataframe tbody tr th:only-of-type {\n",
       "        vertical-align: middle;\n",
       "    }\n",
       "\n",
       "    .dataframe tbody tr th {\n",
       "        vertical-align: top;\n",
       "    }\n",
       "\n",
       "    .dataframe thead th {\n",
       "        text-align: right;\n",
       "    }\n",
       "</style>\n",
       "<table border=\"1\" class=\"dataframe\">\n",
       "  <thead>\n",
       "    <tr style=\"text-align: right;\">\n",
       "      <th></th>\n",
       "      <th>iid</th>\n",
       "      <th>sex</th>\n",
       "      <th>clst</th>\n",
       "    </tr>\n",
       "  </thead>\n",
       "  <tbody>\n",
       "    <tr>\n",
       "      <th>0</th>\n",
       "      <td>I1416</td>\n",
       "      <td>M</td>\n",
       "      <td>Levant_N</td>\n",
       "    </tr>\n",
       "    <tr>\n",
       "      <th>1</th>\n",
       "      <td>I4246_published</td>\n",
       "      <td>M</td>\n",
       "      <td>Spain_BellBeaker_oAfrica_published</td>\n",
       "    </tr>\n",
       "    <tr>\n",
       "      <th>2</th>\n",
       "      <td>I7182</td>\n",
       "      <td>M</td>\n",
       "      <td>Israel_MLBA</td>\n",
       "    </tr>\n",
       "    <tr>\n",
       "      <th>3</th>\n",
       "      <td>I7215</td>\n",
       "      <td>M</td>\n",
       "      <td>Italy_Sicily_Himera_480BCE_shackled</td>\n",
       "    </tr>\n",
       "    <tr>\n",
       "      <th>4</th>\n",
       "      <td>I7216</td>\n",
       "      <td>M</td>\n",
       "      <td>Italy_Sicily_Himera_480BCE_shackled</td>\n",
       "    </tr>\n",
       "    <tr>\n",
       "      <th>...</th>\n",
       "      <td>...</td>\n",
       "      <td>...</td>\n",
       "      <td>...</td>\n",
       "    </tr>\n",
       "    <tr>\n",
       "      <th>1137</th>\n",
       "      <td>I27619</td>\n",
       "      <td>F</td>\n",
       "      <td>Spain_Punic</td>\n",
       "    </tr>\n",
       "    <tr>\n",
       "      <th>1138</th>\n",
       "      <td>I26842.v47</td>\n",
       "      <td>F</td>\n",
       "      <td>Spain_Punic</td>\n",
       "    </tr>\n",
       "    <tr>\n",
       "      <th>1139</th>\n",
       "      <td>I26932.v47</td>\n",
       "      <td>M</td>\n",
       "      <td>Spain_Punic_Hypogeum</td>\n",
       "    </tr>\n",
       "    <tr>\n",
       "      <th>1140</th>\n",
       "      <td>I22103.v49.1</td>\n",
       "      <td>F</td>\n",
       "      <td>Spain_Vandals_possible_1d.rel.I23273</td>\n",
       "    </tr>\n",
       "    <tr>\n",
       "      <th>1141</th>\n",
       "      <td>I27613.v49.1</td>\n",
       "      <td>F</td>\n",
       "      <td>Spain_Punic</td>\n",
       "    </tr>\n",
       "  </tbody>\n",
       "</table>\n",
       "<p>1142 rows × 3 columns</p>\n",
       "</div>"
      ],
      "text/plain": [
       "                  iid sex                                  clst\n",
       "0               I1416   M                              Levant_N\n",
       "1     I4246_published   M    Spain_BellBeaker_oAfrica_published\n",
       "2               I7182   M                           Israel_MLBA\n",
       "3               I7215   M   Italy_Sicily_Himera_480BCE_shackled\n",
       "4               I7216   M   Italy_Sicily_Himera_480BCE_shackled\n",
       "...               ...  ..                                   ...\n",
       "1137           I27619   F                           Spain_Punic\n",
       "1138       I26842.v47   F                           Spain_Punic\n",
       "1139       I26932.v47   M                  Spain_Punic_Hypogeum\n",
       "1140     I22103.v49.1   F  Spain_Vandals_possible_1d.rel.I23273\n",
       "1141     I27613.v49.1   F                           Spain_Punic\n",
       "\n",
       "[1142 rows x 3 columns]"
      ]
     },
     "execution_count": 35,
     "metadata": {},
     "output_type": "execute_result"
    }
   ],
   "source": [
    "### Define Individuals that shifted\n",
    "iids_old = [\"I20824\", \"I20825\", \"I22580\", \"I22866\"] # The four dated Individuals (\"Tunisia Old\")\n",
    "iids_shift = [\"I22852\"] # The Hergla Individual (\"Tunisia Shift\")\n",
    "path_merged = f\"./eigenstrat/anc_only.v{vrs}_outgroups.ind\"\n",
    "\n",
    "df_ind = pd.read_csv(path_merged, delim_whitespace=True, header=None)\n",
    "df_ind.columns=[\"iid\", \"sex\", \"clst\"]\n",
    "print(f\"Loaded {len(df_ind)} Individuals\")\n",
    "\n",
    "set_iids_to_label(df_ind, iids_old, label_new=\"Tunisia_Old\",\n",
    "                    pops_overwrite12=[], savepath=\"\")\n",
    "set_iids_to_label(df_ind, iids_shift, label_new=\"Tunisia_Shift\",\n",
    "                    pops_overwrite12=[], savepath=f\"./eigenstrat/anc_only.v{vrs}.tunisia_N_shft.ind\")\n",
    "\n",
    "# f\"./eigenstrat/combined/punic.v{vrs}.tunisia_N_shft.ind\""
   ]
  },
  {
   "cell_type": "markdown",
   "metadata": {},
   "source": [
    "# Run qpAdm analysis for shift from Tunisia Old to Tunisia Shift"
   ]
  },
  {
   "cell_type": "markdown",
   "metadata": {},
   "source": [
    "### Run a single Model"
   ]
  },
  {
   "cell_type": "code",
   "execution_count": 37,
   "metadata": {},
   "outputs": [
    {
     "name": "stdout",
     "output_type": "stream",
     "text": [
      "Running Israel_C...\n",
      "Runtime: 53.060655\n"
     ]
    }
   ],
   "source": [
    "target = \"Tunisia_Shift\"  \n",
    "\n",
    "s2s =  [\"Spain_EN\", \"France_EN\", \"Israel_C\", 'ElMiron', 'Villabruna', \n",
    "        'EHG','CHG', 'Natufian', 'Levant_N', \"Italy_Sardinia_N\", \n",
    "        \"Anatolia_N\", \"Steppe_MLBA\", \"Iran_N\", \"Israel_MLBA\", \"Lebanon_MBA.SG\"]\n",
    "\n",
    "s2s = [\"Egypt_ThirdIntermediatePeriod\"]\n",
    "\n",
    "for pop in s2s: #a12\n",
    "    print(f\"Running {pop}...\")\n",
    "    a12t = a12.copy()\n",
    "    if pop in a12t:  ### Remove if needed\n",
    "        a12t.remove(pop)\n",
    "\n",
    "    sources = [\"Tunisia_Old\", pop] \n",
    "\n",
    "    leftpops = [target] + sources\n",
    "    rightpops = a12t\n",
    "\n",
    "    qpAdm_run(leftpops = leftpops, rightpops = rightpops, \n",
    "              output_file = \".\".join(leftpops) + \"\", \n",
    "              input_folder = \"./eigenstrat/\", \n",
    "              input_file = f\"anc_only.v{vrs}\", # punic.v{vrs}\n",
    "              par_file_folder = \"./parfiles/\", \n",
    "              input_ind_suff = \".tunisia_N_shft\", \n",
    "              output_folder = f\"./output/qpAdm/v{vrs}/tun_n_shift/\", \n",
    "              path_bin_qpAdm = \"/n/groups/reich/hringbauer/git/AdmixTools/bin/qpAdm\",\n",
    "              all_snps=True)"
   ]
  },
  {
   "cell_type": "markdown",
   "metadata": {},
   "source": [
    "# Plot Results"
   ]
  },
  {
   "cell_type": "code",
   "execution_count": 23,
   "metadata": {},
   "outputs": [
    {
     "name": "stdout",
     "output_type": "stream",
     "text": [
      "Saved to ./figures/nafr/shift_tun_ln.pdf\n"
     ]
    },
    {
     "data": {
      "image/png": "[encoded data removed]",
      "text/plain": [
       "<Figure size 504x432 with 2 Axes>"
      ]
     },
     "metadata": {
      "needs_background": "light"
     },
     "output_type": "display_data"
    }
   ],
   "source": [
    "### Load the ancient Individual Label Data\n",
    "vrs = \"49.2\"\n",
    "s1 = \"Tunisia_Old\"\n",
    "t = \"Tunisia_Shift\"\n",
    "\n",
    "s2s =  ['ElMiron', 'Villabruna', 'EHG','CHG', 'Natufian', 'Levant_N', \"Italy_Sardinia_N\", \n",
    "        \"Anatolia_N\", \"Steppe_MLBA\", \"Iran_N\", \"Israel_MLBA\", \"Lebanon_MBA.SG\",\n",
    "        \"Spain_EN\", \"France_EN\", \"Israel_C\" ]\n",
    "\n",
    "#  \"Egypt_ThirdIntermediatePeriod\"]\n",
    "\n",
    "paths = [\".\".join([t, s1, s2]) for s2 in s2s]\n",
    "\n",
    "dir_path = f\"./output/qpAdm/v{vrs}/tun_n_shift/\"\n",
    "save_path = \"./figures/nafr/shift_tun_ln.pdf\"\n",
    "c = [\"#003049\", \"#FFEC00\"]\n",
    "\n",
    "xlabels = [s.replace(\"_\", \" \") for s in s2s]\n",
    "plot_qpadm(dir_path=dir_path, test_pops=paths, save_path=save_path,\n",
    "           xlabels=xlabels, sort_p=True, labels=[\"Tunisia EN\", \"Source 2\"],\n",
    "           best=False, pval_lim = [1e-5,1], figsize=(7,6), bw=0.9, lw=1.5, \n",
    "           fs=12, c=c, ec=\"gray\", l_pos=(-0.1, 1.15))"
   ]
  },
  {
   "cell_type": "markdown",
   "metadata": {},
   "source": [
    "# Test Shift from Tunisia_HG -> Tunisia_EN"
   ]
  },
  {
   "cell_type": "code",
   "execution_count": 6,
   "metadata": {},
   "outputs": [
    {
     "name": "stdout",
     "output_type": "stream",
     "text": [
      "Loaded 1142 Individuals\n",
      "Overwriting 2 Individuals\n",
      "Overwriting 2 Individuals\n",
      "Saved 1142 Individuals to ./eigenstrat/anc_only.v49.2.tunisia_N_shft1.ind\n"
     ]
    }
   ],
   "source": [
    "### Define Individuals that shifted\n",
    "vrs = \"49.2\"\n",
    "iids_old = [\"I20824\", \"I20825\"] # The two oldest dated Tunisiaindivdiuals, ca 6000 calBCE\n",
    "iids_shift = [\"I22580\", \"I22866\"] # The two indivdiuals from Tunisia dated ca. 5000 calBCE\n",
    "path_merged = f\"./eigenstrat/anc_only.v{vrs}_outgroups.ind\"\n",
    "\n",
    "df_ind = pd.read_csv(path_merged, delim_whitespace=True, header=None)\n",
    "df_ind.columns=[\"iid\", \"sex\", \"clst\"]\n",
    "print(f\"Loaded {len(df_ind)} Individuals\")\n",
    "\n",
    "set_iids_to_label(df_ind, iids_old, label_new=\"Tunisia_Old\",\n",
    "                    pops_overwrite12=[], savepath=\"\")\n",
    "set_iids_to_label(df_ind, iids_shift, label_new=\"Tunisia_Shift\",\n",
    "                    pops_overwrite12=[], savepath=f\"./eigenstrat/anc_only.v{vrs}.tunisia_N_shft1.ind\");"
   ]
  },
  {
   "cell_type": "code",
   "execution_count": 41,
   "metadata": {},
   "outputs": [
    {
     "name": "stdout",
     "output_type": "stream",
     "text": [
      "Running Egypt_ThirdIntermediatePeriod...\n",
      "Runtime: 51.300653\n",
      "CPU times: user 7.15 ms, sys: 6.22 ms, total: 13.4 ms\n",
      "Wall time: 51.3 s\n"
     ]
    }
   ],
   "source": [
    "%%time\n",
    "target = \"Tunisia_Shift\"  \n",
    "\n",
    "s2s =  [\"Spain_EN\", \"France_EN\", \"Israel_C\", 'ElMiron', 'Villabruna', \n",
    "        'EHG','CHG', \n",
    "        'Natufian', 'Levant_N', \"Italy_Sardinia_N\", \n",
    "        \"Anatolia_N\", \"Iran_N\", \"Israel_MLBA\", \"Lebanon_MBA.SG\"]\n",
    "s2s = [\"Egypt_ThirdIntermediatePeriod\"]\n",
    "\n",
    "for pop in s2s: #a12\n",
    "    print(f\"Running {pop}...\")\n",
    "    a12t = a12.copy()\n",
    "    if pop in a12t:  ### Remove if needed\n",
    "        a12t.remove(pop)\n",
    "\n",
    "    sources = [\"Tunisia_Old\", pop] \n",
    "\n",
    "    leftpops = [target] + sources\n",
    "    rightpops = a12t\n",
    "\n",
    "    qpAdm_run(leftpops = leftpops, rightpops = rightpops, \n",
    "              output_file = \".\".join(leftpops) + \"\", \n",
    "              input_folder = \"./eigenstrat/\", \n",
    "              input_file = f\"anc_only.v{vrs}\",\n",
    "              par_file_folder = \"./parfiles/\", \n",
    "              input_ind_suff = \".tunisia_N_shft1\", \n",
    "              output_folder = f\"./output/qpAdm/v{vrs}/tun_n_shift1/\", \n",
    "              path_bin_qpAdm = \"/n/groups/reich/hringbauer/git/AdmixTools/bin/qpAdm\",\n",
    "              all_snps=True)"
   ]
  },
  {
   "cell_type": "code",
   "execution_count": 29,
   "metadata": {},
   "outputs": [
    {
     "name": "stdout",
     "output_type": "stream",
     "text": [
      "Saved to ./figures/nafr/shift_tun_n.pdf\n"
     ]
    },
    {
     "data": {
      "image/png": "[encoded data removed]",
      "text/plain": [
       "<Figure size 360x432 with 2 Axes>"
      ]
     },
     "metadata": {
      "needs_background": "light"
     },
     "output_type": "display_data"
    }
   ],
   "source": [
    "### Load the ancient Individual Label Data\n",
    "vrs = \"49.2\"\n",
    "s1 = \"Tunisia_Old\"\n",
    "t = \"Tunisia_Shift\" \n",
    "\n",
    "s2s =  [\"Spain_EN\", \"France_EN\", \"Israel_C\", 'ElMiron', 'Villabruna', \n",
    "        'EHG','CHG', 'Natufian', 'Levant_N', \"Italy_Sardinia_N\", \n",
    "        \"Anatolia_N\", \"Iran_N\", \"Israel_MLBA\", \"Lebanon_MBA.SG\"]\n",
    "\n",
    "# \"Steppe_MLBA\"\n",
    "paths = [\".\".join([t, s1, s2]) for s2 in s2s]\n",
    "\n",
    "dir_path = f\"./output/qpAdm/v{vrs}/tun_n_shift1/\"\n",
    "save_path = \"./figures/nafr/shift_tun_n.pdf\" # ./figures/qpAdm/v44/4way_Canaanite.pdf\n",
    "c = [\"#003049\", \"#FFEC00\"]\n",
    "\n",
    "xlabels = [s.replace(\"_\", \" \") for s in s2s]\n",
    "plot_qpadm(dir_path=dir_path, test_pops=paths, save_path=save_path,\n",
    "           xlabels=xlabels, sort_p=True, labels=[\"Tunisia EN\", \"Pop X\"],\n",
    "           best=False, pval_lim = [1e-5,1], figsize=(5,6), bw=0.9, lw=1.5, \n",
    "           fs=12, c=c, ec=\"gray\", l_pos=(-0.15, 1.15))"
   ]
  },
  {
   "cell_type": "markdown",
   "metadata": {},
   "source": [
    "# Test the same for EN->LN Morocco Individuals"
   ]
  },
  {
   "cell_type": "code",
   "execution_count": 39,
   "metadata": {},
   "outputs": [
    {
     "name": "stdout",
     "output_type": "stream",
     "text": [
      "Running Egypt_ThirdIntermediatePeriod...\n",
      "Runtime: 52.238663\n"
     ]
    }
   ],
   "source": [
    "target = \"Morocco_LN.SG\"  \n",
    "\n",
    "s2s =  [\"Spain_EN\", \"France_EN\", \"Israel_C\", 'ElMiron', 'Villabruna', \n",
    "        'EHG','CHG', 'Natufian', 'Levant_N', \"Italy_Sardinia_N\", \n",
    "        \"Anatolia_N\", \"Steppe_MLBA\", \"Iran_N\", \"Israel_MLBA\", \"Lebanon_MBA.SG\"]\n",
    "s2s = [\"Egypt_ThirdIntermediatePeriod\"]\n",
    "\n",
    "for pop in s2s: #a12\n",
    "    print(f\"Running {pop}...\")\n",
    "    a12t = a12.copy()\n",
    "    if pop in a12t:  ### Remove if needed\n",
    "        a12t.remove(pop)\n",
    "\n",
    "    sources = [\"Morocco_EN.SG\", pop] \n",
    "    leftpops = [target] + sources\n",
    "    rightpops = a12t\n",
    "\n",
    "    qpAdm_run(leftpops = leftpops, rightpops = rightpops, \n",
    "              output_file = \".\".join(leftpops) + \"\", \n",
    "              input_folder = \"./eigenstrat/\", \n",
    "              input_file = f\"anc_only.v{vrs}\", # punic.v{vrs}\n",
    "              par_file_folder = \"./parfiles/\", \n",
    "              input_ind_suff = \".tunisia_N_shft\", \n",
    "              output_folder = f\"./output/qpAdm/v{vrs}/mor_n_shift/\", \n",
    "              path_bin_qpAdm = \"/n/groups/reich/hringbauer/git/AdmixTools/bin/qpAdm\",\n",
    "              all_snps=True)"
   ]
  },
  {
   "cell_type": "markdown",
   "metadata": {},
   "source": [
    "# Shift in Morocco EN -> LN from Europe"
   ]
  },
  {
   "cell_type": "code",
   "execution_count": 28,
   "metadata": {},
   "outputs": [
    {
     "name": "stdout",
     "output_type": "stream",
     "text": [
      "Saved to ./figures/nafr/shift_mor_en_ln.pdf\n"
     ]
    },
    {
     "data": {
      "image/png": "[encoded data removed]",
      "text/plain": [
       "<Figure size 360x432 with 2 Axes>"
      ]
     },
     "metadata": {
      "needs_background": "light"
     },
     "output_type": "display_data"
    }
   ],
   "source": [
    "### Load the ancient Individual Label Data\n",
    "s1 = \"Morocco_EN.SG\" \n",
    "t = \"Morocco_LN.SG\" \n",
    "\n",
    "s2s =  ['ElMiron', 'Villabruna', 'EHG','CHG', 'Natufian', 'Levant_N', \"Italy_Sardinia_N\", \n",
    "        \"Anatolia_N\", \"Steppe_MLBA\", \"Iran_N\", \"Israel_MLBA\", \"Lebanon_MBA.SG\",\n",
    "        \"Spain_EN\", \"France_EN\", \"Israel_C\"] \n",
    "\n",
    "paths = [\".\".join([t, s1, s2]) for s2 in s2s]\n",
    "\n",
    "dir_path = f\"./output/qpAdm/v{vrs}/mor_n_shift/\"\n",
    "save_path = \"./figures/nafr/shift_mor_en_ln.pdf\" # ./figures/qpAdm/v44/4way_Canaanite.pdf\n",
    "c = [\"#d62828\", \"#FFEC00\"]\n",
    "\n",
    "xlabels = [s.replace(\"_\", \" \") for s in s2s]\n",
    "plot_qpadm(dir_path=dir_path, test_pops=paths, save_path=save_path,\n",
    "           xlabels=xlabels, sort_p=True, labels=[\"Morocco EN\", \"Pop X\"],\n",
    "           best=False, pval_lim = [1e-5,1], figsize=(5,6), bw=0.9, lw=1.5, \n",
    "           fs=12, c=c, ec=\"gray\", l_pos=(-0.15, 1.15))"
   ]
  },
  {
   "cell_type": "markdown",
   "metadata": {},
   "source": [
    "# Run Two Way model for all new Tunisian Samples\n",
    "Model with Tunisia_Old sample + Israel C \n",
    "\n",
    "For each individual"
   ]
  },
  {
   "cell_type": "code",
   "execution_count": 47,
   "metadata": {},
   "outputs": [
    {
     "name": "stdout",
     "output_type": "stream",
     "text": [
      "Loaded 1142 Individuals\n",
      "Overwriting 2 Individuals\n",
      "Saved 1142 Individuals to ./eigenstrat/anc_only.v49.2.tunisia_N_shft0.ind\n"
     ]
    }
   ],
   "source": [
    "### Define Individuals that shifted\n",
    "iids_old = [\"I20824\", \"I20825\"] # The four dated Individuals (\"Tunisia Old\")\n",
    "path_merged = f\"./eigenstrat/anc_only.v{vrs}.tunisia_N_ind.ind\"\n",
    "\n",
    "df_ind = pd.read_csv(path_merged, delim_whitespace=True, header=None)\n",
    "df_ind.columns=[\"iid\", \"sex\", \"clst\"]\n",
    "print(f\"Loaded {len(df_ind)} Individuals\")\n",
    "\n",
    "set_iids_to_label(df_ind, iids_old, label_new=\"Tunisia_Old\",\n",
    "                    pops_overwrite12=[], savepath=f\"./eigenstrat/anc_only.v{vrs}.tunisia_N_shft0.ind\");"
   ]
  },
  {
   "cell_type": "code",
   "execution_count": 49,
   "metadata": {},
   "outputs": [
    {
     "name": "stdout",
     "output_type": "stream",
     "text": [
      "Running I22580...\n",
      "Runtime: 50.035768\n",
      "Running I22866...\n",
      "Runtime: 51.744694\n",
      "Running I22867...\n",
      "Runtime: 53.373607\n",
      "Running I22862...\n",
      "Runtime: 48.913909\n",
      "Running I22577...\n",
      "Runtime: 48.757362\n",
      "Running I22852...\n",
      "Runtime: 50.291023\n",
      "Running Algeria_IA...\n",
      "Runtime: 50.602915\n",
      "CPU times: user 30.3 ms, sys: 50.8 ms, total: 81.1 ms\n",
      "Wall time: 5min 53s\n"
     ]
    }
   ],
   "source": [
    "%%time\n",
    "sources = [\"Tunisia_Old\", \"Israel_C\"]  \n",
    "\n",
    "ts = [\"I22580\", \"I22866\", \"I22867\",\n",
    "      \"I22862\", \"I22577\", \"I22852\", \"Algeria_IA\"]\n",
    "\n",
    "for t in ts: #a12\n",
    "    print(f\"Running {t}...\")\n",
    "    leftpops = [t] + sources\n",
    "    rightpops = a12\n",
    "\n",
    "    qpAdm_run(leftpops = leftpops, rightpops = rightpops, \n",
    "              output_file = \".\".join(leftpops) + \"\", \n",
    "              input_folder = \"./eigenstrat/\", \n",
    "              input_file = f\"anc_only.v{vrs}\",\n",
    "              par_file_folder = \"./parfiles/\", \n",
    "              input_ind_suff = \".tunisia_N_shft0\", \n",
    "              output_folder = f\"./output/qpAdm/v{vrs}/tun_n_shift0/\", \n",
    "              path_bin_qpAdm = \"/n/groups/reich/hringbauer/git/AdmixTools/bin/qpAdm\",\n",
    "              all_snps=True)"
   ]
  },
  {
   "cell_type": "code",
   "execution_count": 21,
   "metadata": {},
   "outputs": [
    {
     "name": "stdout",
     "output_type": "stream",
     "text": [
      "Saved to ./figures/nafr/qpadm_shift_ind.pdf\n"
     ]
    },
    {
     "data": {
      "image/png": "[encoded data removed]",
      "text/plain": [
       "<Figure size 288x360 with 6 Axes>"
      ]
     },
     "metadata": {
      "needs_background": "light"
     },
     "output_type": "display_data"
    }
   ],
   "source": [
    "### Load the ancient Individual Label Data\n",
    "s1 = \"Tunisia_Old\" \n",
    "s2= \"Israel_C\" \n",
    "\n",
    "sites = [\"Dukanet,\\n Tunisia N\", \"Hergla,\\n Tun. LN\", \"Aurès\\nAlg. IA\"]\n",
    "ls = [[\"I22580\", \"I22862\", \"I22866\", \"I22577\", \"I22867\"], [\"I22852\"], [\"Algeria_IA\"]]\n",
    "paths = [[\".\".join([t, s1, s2]) for t in ts] for ts in ls]\n",
    "\n",
    "dir_path = f\"./output/qpAdm/v{vrs}/tun_n_shift0/\"\n",
    "save_path = \"./figures/nafr/qpadm_shift_ind.pdf\" # ./figures/qpAdm/v44/4way_Canaanite.pdf\n",
    "c = [\"#003049\", \"#FFEC00\"]\n",
    "labels = [\"Tunisia EN\", \"Israel C\"]\n",
    "\n",
    "plot_qpadm_split(dir_path=dir_path, test_pops=paths, save_path=save_path,\n",
    "           labels_source=labels, labels_site=sites,\n",
    "           best=True, pval_lim = [1e-5,1], figsize=(4,5), bw=0.9, lw=1.5, wspace=0.4,\n",
    "           fs=12, c=c, ec=\"gray\", l_pos=(-0.38, 1.15))"
   ]
  },
  {
   "cell_type": "markdown",
   "metadata": {},
   "source": [
    "# Tunisia_Old and Morocco_Iberomaurusian 1 way model (with no African Outpgroup other than Mota)\n",
    "p-value ~0.01!!"
   ]
  },
  {
   "cell_type": "code",
   "execution_count": 9,
   "metadata": {},
   "outputs": [
    {
     "data": {
      "text/plain": [
       "['Mota',\n",
       " 'Ust_Ishim',\n",
       " 'Kostenki14',\n",
       " 'GoyetQ116-1',\n",
       " 'Vestonice16',\n",
       " 'MA1',\n",
       " 'ElMiron',\n",
       " 'Villabruna',\n",
       " 'EHG',\n",
       " 'CHG',\n",
       " 'Natufian',\n",
       " 'Levant_N']"
      ]
     },
     "execution_count": 9,
     "metadata": {},
     "output_type": "execute_result"
    }
   ],
   "source": [
    "a12"
   ]
  },
  {
   "cell_type": "code",
   "execution_count": 46,
   "metadata": {},
   "outputs": [
    {
     "name": "stdout",
     "output_type": "stream",
     "text": [
      "Runtime: 54.686758\n",
      "CPU times: user 5.54 ms, sys: 6.55 ms, total: 12.1 ms\n",
      "Wall time: 54.7 s\n"
     ]
    },
    {
     "data": {
      "text/plain": [
       "0"
      ]
     },
     "execution_count": 46,
     "metadata": {},
     "output_type": "execute_result"
    }
   ],
   "source": [
    "%%time\n",
    "\n",
    "target = \"Tunisia_Old\" \n",
    "sources = [\"Morocco_Iberomaurusian\"]\n",
    "leftpops = [target] + sources\n",
    "rightpops = a12\n",
    "\n",
    "qpAdm_run(leftpops = leftpops, rightpops = rightpops, \n",
    "          output_file = \".\".join(leftpops),\n",
    "          input_folder = \"./eigenstrat/combined/\", \n",
    "          input_file = f\"punic.v{vrs}\",\n",
    "          par_file_folder = \"./parfiles/\", \n",
    "          input_ind_suff = \".tunisia_N_shft\", \n",
    "          output_folder = f\"./output/qpAdm/v{vrs}/area51/\", \n",
    "          path_bin_qpAdm = \"/n/groups/reich/hringbauer/git/AdmixTools/bin/qpAdm\",\n",
    "          all_snps=True)"
   ]
  },
  {
   "cell_type": "markdown",
   "metadata": {},
   "source": [
    "# Tunisia LN and Morocco LN not cladal!\n",
    "p-Value: 1.11957036e-05"
   ]
  },
  {
   "cell_type": "code",
   "execution_count": 48,
   "metadata": {},
   "outputs": [
    {
     "name": "stdout",
     "output_type": "stream",
     "text": [
      "Runtime: 54.577098\n",
      "CPU times: user 6.28 ms, sys: 7.3 ms, total: 13.6 ms\n",
      "Wall time: 54.6 s\n"
     ]
    },
    {
     "data": {
      "text/plain": [
       "0"
      ]
     },
     "execution_count": 48,
     "metadata": {},
     "output_type": "execute_result"
    }
   ],
   "source": [
    "%%time\n",
    "\n",
    "target = \"Tunisia_Shift\" \n",
    "sources = [\"Morocco_LN.SG\"]\n",
    "leftpops = [target] + sources\n",
    "rightpops = a12\n",
    "\n",
    "qpAdm_run(leftpops = leftpops, rightpops = rightpops, \n",
    "          output_file = \".\".join(leftpops),\n",
    "          input_folder = \"./eigenstrat/combined/\", \n",
    "          input_file = f\"punic.v{vrs}\",\n",
    "          par_file_folder = \"./parfiles/\", \n",
    "          input_ind_suff = \".tunisia_N_shft\", \n",
    "          output_folder = f\"./output/qpAdm/v{vrs}/area51/\", \n",
    "          path_bin_qpAdm = \"/n/groups/reich/hringbauer/git/AdmixTools/bin/qpAdm\",\n",
    "          all_snps=True)"
   ]
  },
  {
   "cell_type": "markdown",
   "metadata": {},
   "source": [
    "# Do pw. qpAdm Plots"
   ]
  },
  {
   "cell_type": "code",
   "execution_count": 10,
   "metadata": {},
   "outputs": [
    {
     "name": "stdout",
     "output_type": "stream",
     "text": [
      "Loaded 1142 Individuals\n",
      "Overwriting 2 Individuals\n",
      "Overwriting 2 Individuals\n",
      "Overwriting 1 Individuals\n",
      "Saved 1142 Individuals to ./eigenstrat/anc_only.v49.2.tunisia_N_shft2.ind\n"
     ]
    }
   ],
   "source": [
    "### Define Individuals that shifted\n",
    "vrs = \"49.2\"\n",
    "iids_old = [\"I20824\", \"I20825\"] # The two oldest dated Tunisiaindivdiuals, ca 6000 calBCE\n",
    "iids_shift = [\"I22580\", \"I22866\"] # The two indivdiuals from Tunisia dated ca. 5000 calBCE\n",
    "iids_late = [\"I22852\"]\n",
    "\n",
    "path_merged = f\"./eigenstrat/anc_only.v{vrs}_outgroups.ind\"\n",
    "\n",
    "df_ind = pd.read_csv(path_merged, delim_whitespace=True, header=None)\n",
    "df_ind.columns=[\"iid\", \"sex\", \"clst\"]\n",
    "print(f\"Loaded {len(df_ind)} Individuals\")\n",
    "\n",
    "set_iids_to_label(df_ind, iids_old, label_new=\"Tunisia_HG\",\n",
    "                    pops_overwrite12=[], savepath=\"\")\n",
    "set_iids_to_label(df_ind, iids_shift, label_new=\"Tunisia_EN\",\n",
    "                    pops_overwrite12=[], savepath=\"\")\n",
    "set_iids_to_label(df_ind, iids_late, label_new=\"Tunisia_LN\",\n",
    "                    pops_overwrite12=[], savepath=f\"./eigenstrat/anc_only.v{vrs}.tunisia_N_shft2.ind\");"
   ]
  },
  {
   "cell_type": "markdown",
   "metadata": {},
   "source": [
    "### Test shifts from M. Iberomarusian to early African groups"
   ]
  },
  {
   "cell_type": "code",
   "execution_count": 16,
   "metadata": {},
   "outputs": [
    {
     "name": "stdout",
     "output_type": "stream",
     "text": [
      "Runtime: 47.860780\n"
     ]
    },
    {
     "data": {
      "text/plain": [
       "0"
      ]
     },
     "execution_count": 16,
     "metadata": {},
     "output_type": "execute_result"
    }
   ],
   "source": [
    "rightpops = a12 #+ [\"Iran_N\"]\n",
    "leftpops = [\"Morocco_Iberomaurusian\", \"Morocco_EN.SG\"]\n",
    "\n",
    "qpAdm_run(leftpops = leftpops, rightpops = rightpops, \n",
    "          output_file = \".\".join(leftpops), \n",
    "          input_folder = \"./eigenstrat/\", \n",
    "          input_file = \"anc_only.v49.2\",\n",
    "          input_ind_suff = \".tunisia_N_shft2\",\n",
    "          par_file_folder = \"./parfiles/\", \n",
    "          output_folder = \"./output/qpAdm/v49.2/iberom_continuity/\", \n",
    "          path_bin_qpAdm = \"/n/groups/reich/hringbauer/git/AdmixTools/bin/qpAdm\",\n",
    "          all_snps=False)"
   ]
  },
  {
   "cell_type": "code",
   "execution_count": 17,
   "metadata": {},
   "outputs": [
    {
     "name": "stdout",
     "output_type": "stream",
     "text": [
      "Runtime: 45.664495\n"
     ]
    },
    {
     "data": {
      "text/plain": [
       "0"
      ]
     },
     "execution_count": 17,
     "metadata": {},
     "output_type": "execute_result"
    }
   ],
   "source": [
    "rightpops = a12 #+ [\"Iran_N\"]\n",
    "leftpops = [\"Morocco_Iberomaurusian\", \"Tunisia_HG\"]\n",
    "\n",
    "qpAdm_run(leftpops = leftpops, rightpops = rightpops, \n",
    "          output_file = \".\".join(leftpops), \n",
    "          input_folder = \"./eigenstrat/\", \n",
    "          input_file = \"anc_only.v49.2\",\n",
    "          input_ind_suff = \".tunisia_N_shft2\",\n",
    "          par_file_folder = \"./parfiles/\", \n",
    "          output_folder = \"./output/qpAdm/v49.2/iberom_continuity/\", \n",
    "          path_bin_qpAdm = \"/n/groups/reich/hringbauer/git/AdmixTools/bin/qpAdm\",\n",
    "          all_snps=False)"
   ]
  },
  {
   "cell_type": "code",
   "execution_count": 18,
   "metadata": {},
   "outputs": [
    {
     "name": "stdout",
     "output_type": "stream",
     "text": [
      "Runtime: 45.438778\n"
     ]
    },
    {
     "data": {
      "text/plain": [
       "0"
      ]
     },
     "execution_count": 18,
     "metadata": {},
     "output_type": "execute_result"
    }
   ],
   "source": [
    "rightpops = a12 #+ [\"Iran_N\"]\n",
    "leftpops = [\"Morocco_EN.SG\", \"Tunisia_HG\"]\n",
    "\n",
    "qpAdm_run(leftpops = leftpops, rightpops = rightpops, \n",
    "          output_file = \".\".join(leftpops), \n",
    "          input_folder = \"./eigenstrat/\", \n",
    "          input_file = \"anc_only.v49.2\",\n",
    "          input_ind_suff = \".tunisia_N_shft2\",\n",
    "          par_file_folder = \"./parfiles/\", \n",
    "          output_folder = \"./output/qpAdm/v49.2/iberom_continuity/\", \n",
    "          path_bin_qpAdm = \"/n/groups/reich/hringbauer/git/AdmixTools/bin/qpAdm\",\n",
    "          all_snps=False)"
   ]
  },
  {
   "cell_type": "code",
   "execution_count": 19,
   "metadata": {},
   "outputs": [
    {
     "name": "stdout",
     "output_type": "stream",
     "text": [
      "Runtime: 46.362433\n"
     ]
    },
    {
     "data": {
      "text/plain": [
       "0"
      ]
     },
     "execution_count": 19,
     "metadata": {},
     "output_type": "execute_result"
    }
   ],
   "source": [
    "rightpops = a12 + [\"Morocco_Iberomaurusian\"]\n",
    "leftpops = [\"Morocco_EN.SG\", \"Tunisia_HG\"]\n",
    "\n",
    "qpAdm_run(leftpops = leftpops, rightpops = rightpops, \n",
    "          output_file = \".\".join(leftpops), \n",
    "          input_folder = \"./eigenstrat/\", \n",
    "          input_file = \"anc_only.v49.2\",\n",
    "          input_ind_suff = \".tunisia_N_shft2\",\n",
    "          par_file_folder = \"./parfiles/\", \n",
    "          output_folder = \"./output/qpAdm/v49.2/iberom_continuity/\", \n",
    "          path_bin_qpAdm = \"/n/groups/reich/hringbauer/git/AdmixTools/bin/qpAdm\",\n",
    "          all_snps=False)"
   ]
  },
  {
   "cell_type": "markdown",
   "metadata": {},
   "source": [
    "## Run all Nord Afr. Pairs of post-Iberomaurusian"
   ]
  },
  {
   "cell_type": "code",
   "execution_count": 21,
   "metadata": {},
   "outputs": [
    {
     "name": "stdout",
     "output_type": "stream",
     "text": [
      "Runtime: 50.610288\n",
      "Runtime: 48.676206\n",
      "Runtime: 49.447104\n",
      "Runtime: 50.187104\n",
      "Runtime: 48.874556\n",
      "Runtime: 50.733334\n",
      "Runtime: 50.703132\n",
      "Runtime: 50.334632\n",
      "Runtime: 51.191803\n",
      "Runtime: 50.724256\n",
      "Runtime: 48.258289\n",
      "Runtime: 49.642784\n",
      "Runtime: 51.326303\n",
      "Runtime: 47.932543\n",
      "Runtime: 48.036009\n"
     ]
    }
   ],
   "source": [
    "pop_list = [\"Morocco_EN.SG\", \"Morocco_LN.SG\", \"Tunisia_HG\", \n",
    "            \"Tunisia_EN\", \"Tunisia_LN\", \"Algeria_IA\"]\n",
    "\n",
    "for p in it.combinations(pop_list, r=2):  ### One run was with r=1\n",
    "    rightpops = a12 + [\"Morocco_Iberomaurusian\"]\n",
    "    leftpops = list(p)\n",
    "    \n",
    "    qpAdm_run(leftpops = leftpops, rightpops = rightpops, \n",
    "              output_file = \".\".join(leftpops), \n",
    "              input_folder = \"./eigenstrat/\", \n",
    "              input_file = \"anc_only.v49.2\",\n",
    "              input_ind_suff = \".tunisia_N_shft2\",\n",
    "              par_file_folder = \"./parfiles/\", \n",
    "              output_folder = \"./output/qpAdm/v49.2/nafr_2way/\", \n",
    "              path_bin_qpAdm = \"/n/groups/reich/hringbauer/git/AdmixTools/bin/qpAdm\",\n",
    "              all_snps=False)"
   ]
  },
  {
   "cell_type": "code",
   "execution_count": 2,
   "metadata": {},
   "outputs": [],
   "source": [
    "df_nafr = pd.read_csv(\"./data/plot_nafr.v51.1.tsv\", sep=\"\\t\")"
   ]
  },
  {
   "cell_type": "code",
   "execution_count": null,
   "metadata": {},
   "outputs": [],
   "source": [
    "df_nafr"
   ]
  },
  {
   "cell_type": "markdown",
   "metadata": {},
   "source": [
    "# Area 51"
   ]
  },
  {
   "cell_type": "code",
   "execution_count": 24,
   "metadata": {},
   "outputs": [
    {
     "data": {
      "text/html": [
       "<div>\n",
       "<style scoped>\n",
       "    .dataframe tbody tr th:only-of-type {\n",
       "        vertical-align: middle;\n",
       "    }\n",
       "\n",
       "    .dataframe tbody tr th {\n",
       "        vertical-align: top;\n",
       "    }\n",
       "\n",
       "    .dataframe thead th {\n",
       "        text-align: right;\n",
       "    }\n",
       "</style>\n",
       "<table border=\"1\" class=\"dataframe\">\n",
       "  <thead>\n",
       "    <tr style=\"text-align: right;\">\n",
       "      <th></th>\n",
       "      <th>iid</th>\n",
       "      <th>sex_x</th>\n",
       "      <th>clst</th>\n",
       "      <th>Master ID</th>\n",
       "      <th>loc</th>\n",
       "      <th>n_cov_snp</th>\n",
       "      <th>avg_cov_snp</th>\n",
       "      <th>sex_y</th>\n",
       "    </tr>\n",
       "  </thead>\n",
       "  <tbody>\n",
       "    <tr>\n",
       "      <th>539</th>\n",
       "      <td>JK2911</td>\n",
       "      <td>M</td>\n",
       "      <td>Egypt_ThirdIntermediatePeriod</td>\n",
       "      <td>JK2911</td>\n",
       "      <td>Abusir-el Meleq</td>\n",
       "      <td>505080.0</td>\n",
       "      <td>0.880832</td>\n",
       "      <td>M</td>\n",
       "    </tr>\n",
       "    <tr>\n",
       "      <th>612</th>\n",
       "      <td>I4502</td>\n",
       "      <td>M</td>\n",
       "      <td>Egypt_Roman_oGreek</td>\n",
       "      <td>I4502</td>\n",
       "      <td>Giza</td>\n",
       "      <td>402820.0</td>\n",
       "      <td>0.511</td>\n",
       "      <td>M</td>\n",
       "    </tr>\n",
       "    <tr>\n",
       "      <th>626</th>\n",
       "      <td>I3339_all</td>\n",
       "      <td>M</td>\n",
       "      <td>Egypt_Hellenistic_Roman_all</td>\n",
       "      <td>I3339</td>\n",
       "      <td>Thebes</td>\n",
       "      <td>387029.0</td>\n",
       "      <td>0.439</td>\n",
       "      <td>M</td>\n",
       "    </tr>\n",
       "    <tr>\n",
       "      <th>679</th>\n",
       "      <td>I3440_all</td>\n",
       "      <td>M</td>\n",
       "      <td>Egypt_Roman_all</td>\n",
       "      <td>I3440</td>\n",
       "      <td>Abydos, Arabat-el-Matfoon</td>\n",
       "      <td>318559.0</td>\n",
       "      <td>0.355</td>\n",
       "      <td>M</td>\n",
       "    </tr>\n",
       "    <tr>\n",
       "      <th>718</th>\n",
       "      <td>I4281_all</td>\n",
       "      <td>F</td>\n",
       "      <td>Egypt_Dynastic_Nubian_all</td>\n",
       "      <td>I4281</td>\n",
       "      <td>Thebes</td>\n",
       "      <td>256226.0</td>\n",
       "      <td>0.268545</td>\n",
       "      <td>F</td>\n",
       "    </tr>\n",
       "    <tr>\n",
       "      <th>732</th>\n",
       "      <td>I4270_all</td>\n",
       "      <td>M</td>\n",
       "      <td>Egypt_Dynastic_all</td>\n",
       "      <td>I4270</td>\n",
       "      <td>Deshasheh</td>\n",
       "      <td>235639.0</td>\n",
       "      <td>0.241</td>\n",
       "      <td>M</td>\n",
       "    </tr>\n",
       "    <tr>\n",
       "      <th>831</th>\n",
       "      <td>JK2134</td>\n",
       "      <td>M</td>\n",
       "      <td>Egypt_ThirdIntermediatePeriod</td>\n",
       "      <td>JK2134</td>\n",
       "      <td>Abusir-el Meleq</td>\n",
       "      <td>127235.0</td>\n",
       "      <td>0.117729</td>\n",
       "      <td>M</td>\n",
       "    </tr>\n",
       "    <tr>\n",
       "      <th>885</th>\n",
       "      <td>I3438_all</td>\n",
       "      <td>F</td>\n",
       "      <td>Egypt_Hellenistic_all</td>\n",
       "      <td>I3438</td>\n",
       "      <td>Memphis, Saccara, Necropolis, Pyramid of Five-...</td>\n",
       "      <td>89030.0</td>\n",
       "      <td>0.082</td>\n",
       "      <td>F</td>\n",
       "    </tr>\n",
       "    <tr>\n",
       "      <th>890</th>\n",
       "      <td>I5958</td>\n",
       "      <td>M</td>\n",
       "      <td>Egypt_Roman</td>\n",
       "      <td>I5958</td>\n",
       "      <td>..</td>\n",
       "      <td>86706.0</td>\n",
       "      <td>0.077</td>\n",
       "      <td>M</td>\n",
       "    </tr>\n",
       "  </tbody>\n",
       "</table>\n",
       "</div>"
      ],
      "text/plain": [
       "           iid sex_x                           clst Master ID  \\\n",
       "539     JK2911     M  Egypt_ThirdIntermediatePeriod    JK2911   \n",
       "612      I4502     M             Egypt_Roman_oGreek     I4502   \n",
       "626  I3339_all     M    Egypt_Hellenistic_Roman_all     I3339   \n",
       "679  I3440_all     M                Egypt_Roman_all     I3440   \n",
       "718  I4281_all     F      Egypt_Dynastic_Nubian_all     I4281   \n",
       "732  I4270_all     M             Egypt_Dynastic_all     I4270   \n",
       "831     JK2134     M  Egypt_ThirdIntermediatePeriod    JK2134   \n",
       "885  I3438_all     F          Egypt_Hellenistic_all     I3438   \n",
       "890      I5958     M                    Egypt_Roman     I5958   \n",
       "\n",
       "                                                   loc  n_cov_snp avg_cov_snp  \\\n",
       "539                                    Abusir-el Meleq   505080.0    0.880832   \n",
       "612                                               Giza   402820.0       0.511   \n",
       "626                                             Thebes   387029.0       0.439   \n",
       "679                          Abydos, Arabat-el-Matfoon   318559.0       0.355   \n",
       "718                                             Thebes   256226.0    0.268545   \n",
       "732                                          Deshasheh   235639.0       0.241   \n",
       "831                                    Abusir-el Meleq   127235.0    0.117729   \n",
       "885  Memphis, Saccara, Necropolis, Pyramid of Five-...    89030.0       0.082   \n",
       "890                                                 ..    86706.0       0.077   \n",
       "\n",
       "    sex_y  \n",
       "539     M  \n",
       "612     M  \n",
       "626     M  \n",
       "679     M  \n",
       "718     F  \n",
       "732     M  \n",
       "831     M  \n",
       "885     F  \n",
       "890     M  "
      ]
     },
     "execution_count": 24,
     "metadata": {},
     "output_type": "execute_result"
    }
   ],
   "source": [
    "df[df[\"clst\"].str.contains(\"Egypt\")]#[\"iid\"].values"
   ]
  },
  {
   "cell_type": "code",
   "execution_count": null,
   "metadata": {},
   "outputs": [],
   "source": [
    "I22852"
   ]
  },
  {
   "cell_type": "code",
   "execution_count": null,
   "metadata": {},
   "outputs": [],
   "source": []
  }
 ],
 "metadata": {
  "kernelspec": {
   "display_name": "Python 3",
   "language": "python",
   "name": "python3"
  },
  "language_info": {
   "codemirror_mode": {
    "name": "ipython",
    "version": 3
   },
   "file_extension": ".py",
   "mimetype": "text/x-python",
   "name": "python",
   "nbconvert_exporter": "python",
   "pygments_lexer": "ipython3",
   "version": "3.7.4"
  }
 },
 "nbformat": 4,
 "nbformat_minor": 4
}
