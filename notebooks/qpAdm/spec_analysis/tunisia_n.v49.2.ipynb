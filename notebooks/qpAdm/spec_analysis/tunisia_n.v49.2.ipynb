{
 "cells": [
  {
   "cell_type": "markdown",
   "metadata": {},
   "source": [
    "# 2-way Distal Admixture Tunisia Neolithic"
   ]
  },
  {
   "cell_type": "code",
   "execution_count": 1,
   "metadata": {},
   "outputs": [
    {
     "name": "stdout",
     "output_type": "stream",
     "text": [
      "compute-e-16-233.o2.rc.hms.harvard.edu\n",
      "HSM Computational partition detected.\n",
      "/n/groups/reich/hringbauer/git/punic_aDNA\n",
      "CPU Count: 28\n",
      "3.7.4 (default, Sep 11 2019, 11:24:51) \n",
      "[GCC 6.2.0]\n"
     ]
    }
   ],
   "source": [
    "import numpy as np\n",
    "import os  # For Saving to Folder\n",
    "import pandas as pd\n",
    "import matplotlib.pyplot as plt\n",
    "\n",
    "import socket\n",
    "import os as os\n",
    "import sys as sys\n",
    "import multiprocessing as mp\n",
    "import itertools as it\n",
    "from time import time\n",
    "\n",
    "# For Arial Font\n",
    "from matplotlib import rcParams\n",
    "rcParams['font.family'] = 'sans-serif'   # Set the defaul\n",
    "# Make sure to have the font installed (it is on cluster for Harald)\n",
    "rcParams['font.sans-serif'] = ['Arial']\n",
    "\n",
    "socket_name = socket.gethostname()\n",
    "print(socket_name)\n",
    "\n",
    "if socket_name.startswith(\"compute-\"):\n",
    "    print(\"HSM Computational partition detected.\")\n",
    "    path = \"/n/groups/reich/hringbauer/git/punic_aDNA/\"  # The Path on Midway Cluster\n",
    "else:\n",
    "    raise RuntimeWarning(\"Not compatible machine. Check!!\")\n",
    "\n",
    "os.chdir(path)  # Set the right Path (in line with Atom default)\n",
    "os.sys.path.append(path)\n",
    "# Show the current working directory. Should be HAPSBURG/Notebooks/ParallelRuns\n",
    "print(os.getcwd())\n",
    "print(f\"CPU Count: {mp.cpu_count()}\")\n",
    "print(sys.version)"
   ]
  },
  {
   "cell_type": "markdown",
   "metadata": {},
   "source": [
    "### Do qpAdm Function Imports and Definitions"
   ]
  },
  {
   "cell_type": "code",
   "execution_count": 2,
   "metadata": {},
   "outputs": [
    {
     "name": "stdout",
     "output_type": "stream",
     "text": [
      "# Anc_Euro: 12 populations\n",
      "# Distal sources:5 populations\n"
     ]
    }
   ],
   "source": [
    "from python.run_qpadm import qpAdm_run, get_meta_ind_table, modifiy_iid_files, set_iids_to_label\n",
    "from python.plot_qpadm import plot_qpadm\n",
    "\n",
    "### Parameters for qpAdm_run are set there!\n",
    "a12 = [\"Mota\", \"Ust_Ishim\", \"Kostenki14\", \"GoyetQ116-1\", \"Vestonice16\", \"MA1\",\n",
    "           \"ElMiron\", \"Villabruna\", \"EHG\", \"CHG\", \"Natufian\",\n",
    "           \"Levant_N\"] # List of ancient European populations for right populations\n",
    "distal = [\"Anatolia_N\", \"WHG\", \"Steppe_EMBA\", \n",
    "          \"Iran_N\", \"Morocco_EN.SG\"]\n",
    "print(f\"# Anc_Euro: {len(a12)} populations\")\n",
    "print(f\"# Distal sources:{len(distal)} populations\")"
   ]
  },
  {
   "cell_type": "markdown",
   "metadata": {},
   "source": [
    "# 1) Get Dataframe with anno clusters"
   ]
  },
  {
   "cell_type": "code",
   "execution_count": 3,
   "metadata": {},
   "outputs": [
    {
     "name": "stdout",
     "output_type": "stream",
     "text": [
      "Filtering to 1311/1313\n",
      "Loaded 1311 Individuals\n",
      "Filtered to 1264 Individuals based on #SNP covered> 30000\n",
      "Filtered to 1175 Individuals based on duplicates.\n"
     ]
    }
   ],
   "source": [
    "vrs = \"49.2\"\n",
    "\n",
    "df = get_meta_ind_table(path_ind = f\"./eigenstrat/combined/punic.v{vrs}.ind\",\n",
    "                        path_anno = f\"/n/groups/reich/hringbauer/Data/v{vrs}.anno.csv\",\n",
    "                        min_snp = 30000)"
   ]
  },
  {
   "cell_type": "markdown",
   "metadata": {},
   "source": [
    "### 1b) Optional: Screen for population labels"
   ]
  },
  {
   "cell_type": "code",
   "execution_count": 45,
   "metadata": {},
   "outputs": [
    {
     "data": {
      "text/plain": [
       "Morocco_Iberomaurusian                   6\n",
       "Morocco_LN.SG                            3\n",
       "Morocco_EN.SG                            3\n",
       "Morocco_unknown.SG                       1\n",
       "Morocco_Iberomaurusian_sibling.TAF011    1\n",
       "Name: clst, dtype: int64"
      ]
     },
     "execution_count": 45,
     "metadata": {},
     "output_type": "execute_result"
    }
   ],
   "source": [
    "df[df[\"clst\"].str.contains(\"Morocco\")][\"clst\"].value_counts()"
   ]
  },
  {
   "cell_type": "markdown",
   "metadata": {},
   "source": [
    "### Prepare .ind File with Tunisia individuals seperated out"
   ]
  },
  {
   "cell_type": "code",
   "execution_count": 5,
   "metadata": {},
   "outputs": [
    {
     "name": "stdout",
     "output_type": "stream",
     "text": [
      "Loaded 1313 Individuals\n",
      "Found 4 Matches\n",
      "Tunisia_N    4\n",
      "Name: clst, dtype: int64\n",
      "Saved 1313 Individuals to ./eigenstrat/combined/punic.v49.2.tunisia_N_ind.ind\n"
     ]
    }
   ],
   "source": [
    "### Populations to overwrite. Typically because they have the \".SG\" label\n",
    "ind_merged = f\"./eigenstrat/combined/punic.v{vrs}.ind\"          # What .ind to load\n",
    "ind_modified = f\"./eigenstrat/combined/punic.v{vrs}.tunisia_N_ind.ind\"    # Where to save the modified version to\n",
    "df_ind = pd.read_csv(ind_merged, delim_whitespace=True, header=None)\n",
    "df_ind.columns=[\"iid\", \"sex\", \"clst\"]\n",
    "print(f\"Loaded {len(df_ind)} Individuals\")\n",
    "\n",
    "modifiy_iid_files(df_ind, pops_overwrite=[\"Tunisia_N\"], \n",
    "                  pops_overwrite12=[],\n",
    "                  ind_modified = ind_modified)"
   ]
  },
  {
   "cell_type": "markdown",
   "metadata": {},
   "source": [
    "### Run distal Models for Tunisia"
   ]
  },
  {
   "cell_type": "markdown",
   "metadata": {},
   "source": [
    "### Test Run for single Individual"
   ]
  },
  {
   "cell_type": "code",
   "execution_count": 21,
   "metadata": {},
   "outputs": [
    {
     "name": "stdout",
     "output_type": "stream",
     "text": [
      "Runtime: 96.386997\n",
      "CPU times: user 5.56 ms, sys: 8.97 ms, total: 14.5 ms\n",
      "Wall time: 1min 36s\n"
     ]
    },
    {
     "data": {
      "text/plain": [
       "0"
      ]
     },
     "execution_count": 21,
     "metadata": {},
     "output_type": "execute_result"
    }
   ],
   "source": [
    "%%time\n",
    "\n",
    "target = \"I20825\"  \n",
    "sources = distal\n",
    "leftpops = [target] + sources\n",
    "rightpops = a12\n",
    "\n",
    "qpAdm_run(leftpops = leftpops, rightpops = rightpops, \n",
    "          output_file = \".\".join(leftpops) + \".log\", \n",
    "          input_folder = \"./eigenstrat/combined/\", \n",
    "          input_file = \"punic.v49.0\",\n",
    "          par_file_folder = \"./parfiles/\", \n",
    "          input_ind_suff = \".tunisia_N_ind\", \n",
    "          output_folder = \"./output/qpAdm/v49.0/area51/\", \n",
    "          path_bin_qpAdm = \"/n/groups/reich/hringbauer/git/AdmixTools/bin/qpAdm\",\n",
    "          all_snps=True)"
   ]
  },
  {
   "cell_type": "markdown",
   "metadata": {},
   "source": [
    "## Run all single Indivdiuals"
   ]
  },
  {
   "cell_type": "code",
   "execution_count": 23,
   "metadata": {},
   "outputs": [
    {
     "name": "stdout",
     "output_type": "stream",
     "text": [
      "Found 8 Individuals to run...\n",
      "Runtime: 99.077401\n",
      "Runtime: 95.819268\n",
      "Runtime: 95.919909\n",
      "Runtime: 98.362426\n",
      "Runtime: 119.191381\n",
      "Runtime: 95.193831\n",
      "Runtime: 95.467838\n",
      "Runtime: 98.731012\n"
     ]
    }
   ],
   "source": [
    "sources = distal\n",
    "rightpops = a12\n",
    "\n",
    "iids = df[df[\"clst\"].str.contains(\"Tunisia_N\")][\"iid\"].values\n",
    "print(f\"Found {len(iids)} Individuals to run...\")\n",
    "\n",
    "for target in iids:\n",
    "    leftpops = [target] + sources\n",
    "    qpAdm_run(leftpops = leftpops, rightpops = rightpops, \n",
    "              output_file = \".\".join(leftpops) + \".log\", \n",
    "              input_folder = \"./eigenstrat/combined/\", \n",
    "              input_file = \"punic.v49.0\",\n",
    "              par_file_folder = \"./parfiles/\", \n",
    "              input_ind_suff = \".tunisia_N_ind\", \n",
    "              output_folder = \"./output/qpAdm/v49.0/tunisia_n_distal/\", \n",
    "              path_bin_qpAdm = \"/n/groups/reich/hringbauer/git/AdmixTools/bin/qpAdm\",\n",
    "              all_snps=True)"
   ]
  },
  {
   "cell_type": "markdown",
   "metadata": {},
   "source": [
    "# Run two way models for shift within Tunisia N"
   ]
  },
  {
   "cell_type": "code",
   "execution_count": 7,
   "metadata": {},
   "outputs": [
    {
     "name": "stdout",
     "output_type": "stream",
     "text": [
      "Loaded 1313 Individuals\n",
      "Overwriting 4 Individuals\n",
      "Overwriting 1 Individuals\n",
      "Saved 1313 Individuals to ./eigenstrat/combined/punic.v49.2.tunisia_N_shft.ind\n"
     ]
    }
   ],
   "source": [
    "### Define Individuals that shifted\n",
    "iids_old = [\"I20824\", \"I20825\", \"I22580\", \"I22866\"] # The four dated Individuals\n",
    "iids_shift = [\"I22852\"]\n",
    "path_merged = f\"./eigenstrat/combined/punic.v{vrs}.ind\"\n",
    "\n",
    "df_ind = pd.read_csv(path_merged, delim_whitespace=True, header=None)\n",
    "df_ind.columns=[\"iid\", \"sex\", \"clst\"]\n",
    "print(f\"Loaded {len(df_ind)} Individuals\")\n",
    "\n",
    "set_iids_to_label(df_ind, iids_old, label_new=\"Tunisia_Old\",\n",
    "                    pops_overwrite12=[], savepath=\"\")\n",
    "set_iids_to_label(df_ind, iids_shift, label_new=\"Tunisia_Shift\",\n",
    "                    pops_overwrite12=[], savepath=f\"./eigenstrat/combined/punic.v{vrs}.tunisia_N_shft.ind\")"
   ]
  },
  {
   "cell_type": "markdown",
   "metadata": {},
   "source": [
    "# Run qpAdm analysis for shift"
   ]
  },
  {
   "cell_type": "markdown",
   "metadata": {},
   "source": [
    "### Run a single Model"
   ]
  },
  {
   "cell_type": "code",
   "execution_count": 37,
   "metadata": {},
   "outputs": [
    {
     "name": "stdout",
     "output_type": "stream",
     "text": [
      "Running Lebanon_MBA.SG...\n",
      "Runtime: 57.333229\n"
     ]
    }
   ],
   "source": [
    "target = \"Tunisia_Shift\"  \n",
    "\n",
    "s2s =  [\"Spain_EN\", \"France_EN\", \"Israel_C\", 'ElMiron', 'Villabruna', \n",
    "        'EHG','CHG', \n",
    "        'Natufian', 'Levant_N', \"Italy_Sardinia_N\", \n",
    "        \"Anatolia_N\", \"Steppe_MLBA\", \"Iran_N\", \"Israel_MLBA\", \"Lebanon_MBA.SG\"]\n",
    "\n",
    "for pop in s2: #a12\n",
    "    print(f\"Running {pop}...\")\n",
    "    a12t = a12.copy()\n",
    "    if pop in 12t:  ### Remove if needed\n",
    "        a12t.remove(pop)\n",
    "\n",
    "    sources = [\"Tunisia_Old\", pop] \n",
    "\n",
    "    leftpops = [target] + sources\n",
    "    rightpops = a12t\n",
    "\n",
    "    qpAdm_run(leftpops = leftpops, rightpops = rightpops, \n",
    "              output_file = \".\".join(leftpops) + \"\", \n",
    "              input_folder = \"./eigenstrat/combined/\", \n",
    "              input_file = f\"punic.v{vrs}\",\n",
    "              par_file_folder = \"./parfiles/\", \n",
    "              input_ind_suff = \".tunisia_N_shft\", \n",
    "              output_folder = f\"./output/qpAdm/v{vrs}/tun_n_shift/\", \n",
    "              path_bin_qpAdm = \"/n/groups/reich/hringbauer/git/AdmixTools/bin/qpAdm\",\n",
    "              all_snps=True)"
   ]
  },
  {
   "cell_type": "markdown",
   "metadata": {},
   "source": [
    "# Plot Results"
   ]
  },
  {
   "cell_type": "code",
   "execution_count": 23,
   "metadata": {},
   "outputs": [
    {
     "data": {
      "image/png": "[encoded data removed]",
      "text/plain": [
       "<Figure size 504x432 with 2 Axes>"
      ]
     },
     "metadata": {
      "needs_background": "light"
     },
     "output_type": "display_data"
    }
   ],
   "source": [
    "### Load the ancient Individual Label Data\n",
    "s1 = \"Tunisia_Old\"\n",
    "t = \"Tunisia_Shift\"\n",
    "\n",
    "s2s =  ['ElMiron', 'Villabruna', 'EHG','CHG', 'Natufian', 'Levant_N', \"Italy_Sardinia_N\", \n",
    "        \"Anatolia_N\", \"Steppe_MLBA\", \"Iran_N\", \"Israel_MLBA\", \"Lebanon_MBA.SG\",\n",
    "        \"Spain_EN\", \"France_EN\", \"Israel_C\"] \n",
    "\n",
    "paths = [\".\".join([t, s1, s2]) for s2 in s2s]\n",
    "\n",
    "dir_path = f\"./output/qpAdm/v{vrs}/tun_n_shift/\"\n",
    "save_path = \"\" # ./figures/qpAdm/v44/4way_Canaanite.pdf\n",
    "c = [\"#007ED6\", \"#FFEC00\"]\n",
    "\n",
    "xlabels = [s.replace(\"_\", \" \") for s in s2s]\n",
    "plot_qpadm(dir_path=dir_path, test_pops=paths, save_path=save_path,\n",
    "           xlabels=xlabels, sort_p=True, labels=[\"Tunisia EN\", \"Pop X\"],\n",
    "           best=False, pval_lim = [1e-5,1], figsize=(7,6), bw=0.9, lw=1.5, \n",
    "           fs=12, c=c, ec=\"gray\", l_pos=(-0.1, 1.15))"
   ]
  },
  {
   "cell_type": "markdown",
   "metadata": {},
   "source": [
    "# Test the same for Morocco Individuals"
   ]
  },
  {
   "cell_type": "code",
   "execution_count": 31,
   "metadata": {},
   "outputs": [
    {
     "name": "stdout",
     "output_type": "stream",
     "text": [
      "Running Spain_EN...\n",
      "Runtime: 59.870062\n",
      "Running France_EN...\n",
      "Runtime: 60.430316\n",
      "Running Israel_C...\n",
      "Runtime: 62.284293\n",
      "Running ElMiron...\n",
      "Runtime: 59.046171\n",
      "Running Villabruna...\n",
      "Runtime: 60.280983\n",
      "Running EHG...\n",
      "Runtime: 60.362193\n",
      "Running CHG...\n",
      "Runtime: 60.560601\n",
      "Running Natufian...\n",
      "Runtime: 59.878148\n",
      "Running Levant_N...\n",
      "Runtime: 58.083587\n",
      "Running Italy_Sardinia_N...\n",
      "Runtime: 63.023398\n",
      "Running Anatolia_N...\n",
      "Runtime: 62.426632\n",
      "Running Steppe_MLBA...\n",
      "Runtime: 62.810406\n",
      "Running Iran_N...\n",
      "Runtime: 61.549991\n",
      "Running Israel_MLBA...\n",
      "Runtime: 63.641934\n",
      "Running Lebanon_MBA.SG...\n",
      "Runtime: 60.018659\n"
     ]
    }
   ],
   "source": [
    "target = \"Morocco_LN.SG\"  \n",
    "\n",
    "s2s =  [\"Spain_EN\", \"France_EN\", \"Israel_C\", 'ElMiron', 'Villabruna', \n",
    "        'EHG','CHG', 'Natufian', 'Levant_N', \"Italy_Sardinia_N\", \n",
    "        \"Anatolia_N\", \"Steppe_MLBA\", \"Iran_N\", \"Israel_MLBA\", \"Lebanon_MBA.SG\"]\n",
    "\n",
    "for pop in s2s: #a12\n",
    "    print(f\"Running {pop}...\")\n",
    "    a12t = a12.copy()\n",
    "    if pop in a12t:  ### Remove if needed\n",
    "        a12t.remove(pop)\n",
    "\n",
    "    sources = [\"Morocco_EN.SG\", pop] \n",
    "    leftpops = [target] + sources\n",
    "    rightpops = a12t\n",
    "\n",
    "    qpAdm_run(leftpops = leftpops, rightpops = rightpops, \n",
    "              output_file = \".\".join(leftpops) + \"\", \n",
    "              input_folder = \"./eigenstrat/combined/\", \n",
    "              input_file = f\"punic.v{vrs}\",\n",
    "              par_file_folder = \"./parfiles/\", \n",
    "              input_ind_suff = \".tunisia_N_shft\", \n",
    "              output_folder = f\"./output/qpAdm/v{vrs}/mor_n_shift/\", \n",
    "              path_bin_qpAdm = \"/n/groups/reich/hringbauer/git/AdmixTools/bin/qpAdm\",\n",
    "              all_snps=True)"
   ]
  },
  {
   "cell_type": "code",
   "execution_count": 34,
   "metadata": {},
   "outputs": [
    {
     "data": {
      "image/png": "[encoded data removed]",
      "text/plain": [
       "<Figure size 504x432 with 2 Axes>"
      ]
     },
     "metadata": {
      "needs_background": "light"
     },
     "output_type": "display_data"
    }
   ],
   "source": [
    "### Load the ancient Individual Label Data\n",
    "s1 = \"Morocco_EN.SG\" \n",
    "t = \"Morocco_LN.SG\" \n",
    "\n",
    "s2s =  ['ElMiron', 'Villabruna', 'EHG','CHG', 'Natufian', 'Levant_N', \"Italy_Sardinia_N\", \n",
    "        \"Anatolia_N\", \"Steppe_MLBA\", \"Iran_N\", \"Israel_MLBA\", \"Lebanon_MBA.SG\",\n",
    "        \"Spain_EN\", \"France_EN\", \"Israel_C\"] \n",
    "\n",
    "paths = [\".\".join([t, s1, s2]) for s2 in s2s]\n",
    "\n",
    "dir_path = f\"./output/qpAdm/v{vrs}/mor_n_shift/\"\n",
    "save_path = \"\" # ./figures/qpAdm/v44/4way_Canaanite.pdf\n",
    "c = [\"#007ED6\", \"#FFEC00\"]\n",
    "\n",
    "xlabels = [s.replace(\"_\", \" \") for s in s2s]\n",
    "plot_qpadm(dir_path=dir_path, test_pops=paths, save_path=save_path,\n",
    "           xlabels=xlabels, sort_p=True, labels=[\"Tunisia EN\", \"Pop X\"],\n",
    "           best=False, pval_lim = [1e-5,1], figsize=(7,6), bw=0.9, lw=1.5, \n",
    "           fs=12, c=c, ec=\"gray\", l_pos=(-0.1, 1.15))"
   ]
  },
  {
   "cell_type": "markdown",
   "metadata": {},
   "source": [
    "# Test Guanche 3-way Model"
   ]
  },
  {
   "cell_type": "code",
   "execution_count": 39,
   "metadata": {},
   "outputs": [
    {
     "name": "stdout",
     "output_type": "stream",
     "text": [
      "Runtime: 68.349602\n",
      "CPU times: user 3.64 ms, sys: 10.1 ms, total: 13.7 ms\n",
      "Wall time: 1min 8s\n"
     ]
    },
    {
     "data": {
      "text/plain": [
       "0"
      ]
     },
     "execution_count": 39,
     "metadata": {},
     "output_type": "execute_result"
    }
   ],
   "source": [
    "%%time\n",
    "\n",
    "target = \"CanaryIslands_Guanche.SG\" # \"Algeria_IA\"  \n",
    "sources = [\"Morocco_EN.SG\", \"Anatolia_N\", \"Israel_C\"]\n",
    "leftpops = [target] + sources\n",
    "rightpops = a12\n",
    "\n",
    "qpAdm_run(leftpops = leftpops, rightpops = rightpops, \n",
    "          output_file = \".\".join(leftpops),\n",
    "          input_folder = \"./eigenstrat/combined/\", \n",
    "          input_file = f\"punic.v{vrs}\",\n",
    "          par_file_folder = \"./parfiles/\", \n",
    "          input_ind_suff = \".tunisia_N_ind\", \n",
    "          output_folder = f\"./output/qpAdm/v{vrs}/area51/\", \n",
    "          path_bin_qpAdm = \"/n/groups/reich/hringbauer/git/AdmixTools/bin/qpAdm\",\n",
    "          all_snps=True)"
   ]
  },
  {
   "cell_type": "markdown",
   "metadata": {},
   "source": [
    "# Tunisia_Old and Morocco_Iberomaurusian 1 way model:\n",
    "p-value ~0.01!!"
   ]
  },
  {
   "cell_type": "code",
   "execution_count": 46,
   "metadata": {},
   "outputs": [
    {
     "name": "stdout",
     "output_type": "stream",
     "text": [
      "Runtime: 54.686758\n",
      "CPU times: user 5.54 ms, sys: 6.55 ms, total: 12.1 ms\n",
      "Wall time: 54.7 s\n"
     ]
    },
    {
     "data": {
      "text/plain": [
       "0"
      ]
     },
     "execution_count": 46,
     "metadata": {},
     "output_type": "execute_result"
    }
   ],
   "source": [
    "%%time\n",
    "\n",
    "target = \"Tunisia_Old\" \n",
    "sources = [\"Morocco_Iberomaurusian\"]\n",
    "leftpops = [target] + sources\n",
    "rightpops = a12\n",
    "\n",
    "qpAdm_run(leftpops = leftpops, rightpops = rightpops, \n",
    "          output_file = \".\".join(leftpops),\n",
    "          input_folder = \"./eigenstrat/combined/\", \n",
    "          input_file = f\"punic.v{vrs}\",\n",
    "          par_file_folder = \"./parfiles/\", \n",
    "          input_ind_suff = \".tunisia_N_shft\", \n",
    "          output_folder = f\"./output/qpAdm/v{vrs}/area51/\", \n",
    "          path_bin_qpAdm = \"/n/groups/reich/hringbauer/git/AdmixTools/bin/qpAdm\",\n",
    "          all_snps=True)"
   ]
  },
  {
   "cell_type": "markdown",
   "metadata": {},
   "source": [
    "# Tunisia LN and Morocco LN not cladal!\n",
    "p-Value: 1.11957036e-05"
   ]
  },
  {
   "cell_type": "code",
   "execution_count": 48,
   "metadata": {},
   "outputs": [
    {
     "name": "stdout",
     "output_type": "stream",
     "text": [
      "Runtime: 54.577098\n",
      "CPU times: user 6.28 ms, sys: 7.3 ms, total: 13.6 ms\n",
      "Wall time: 54.6 s\n"
     ]
    },
    {
     "data": {
      "text/plain": [
       "0"
      ]
     },
     "execution_count": 48,
     "metadata": {},
     "output_type": "execute_result"
    }
   ],
   "source": [
    "%%time\n",
    "\n",
    "target = \"Tunisia_Shift\" \n",
    "sources = [\"Morocco_LN.SG\"]\n",
    "leftpops = [target] + sources\n",
    "rightpops = a12\n",
    "\n",
    "qpAdm_run(leftpops = leftpops, rightpops = rightpops, \n",
    "          output_file = \".\".join(leftpops),\n",
    "          input_folder = \"./eigenstrat/combined/\", \n",
    "          input_file = f\"punic.v{vrs}\",\n",
    "          par_file_folder = \"./parfiles/\", \n",
    "          input_ind_suff = \".tunisia_N_shft\", \n",
    "          output_folder = f\"./output/qpAdm/v{vrs}/area51/\", \n",
    "          path_bin_qpAdm = \"/n/groups/reich/hringbauer/git/AdmixTools/bin/qpAdm\",\n",
    "          all_snps=True)"
   ]
  },
  {
   "cell_type": "markdown",
   "metadata": {},
   "source": [
    "# Area 51"
   ]
  },
  {
   "cell_type": "code",
   "execution_count": null,
   "metadata": {},
   "outputs": [],
   "source": []
  }
 ],
 "metadata": {
  "kernelspec": {
   "display_name": "Python 3",
   "language": "python",
   "name": "python3"
  },
  "language_info": {
   "codemirror_mode": {
    "name": "ipython",
    "version": 3
   },
   "file_extension": ".py",
   "mimetype": "text/x-python",
   "name": "python",
   "nbconvert_exporter": "python",
   "pygments_lexer": "ipython3",
   "version": "3.7.4"
  }
 },
 "nbformat": 4,
 "nbformat_minor": 4
}
