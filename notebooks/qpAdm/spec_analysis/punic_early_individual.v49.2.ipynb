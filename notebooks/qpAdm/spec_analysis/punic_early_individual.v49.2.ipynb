{
 "cells": [
  {
   "cell_type": "markdown",
   "metadata": {},
   "source": [
    "# Do qpAdm Analysis for Punic Individuals based on overall model\n",
    "Spain IA + Mycenean + Algeria IA"
   ]
  },
  {
   "cell_type": "code",
   "execution_count": 20,
   "metadata": {},
   "outputs": [
    {
     "name": "stdout",
     "output_type": "stream",
     "text": [
      "compute-a-17-116.o2.rc.hms.harvard.edu\n",
      "HSM Computational partition detected.\n",
      "/n/groups/reich/hringbauer/git/punic_aDNA\n",
      "CPU Count: 32\n",
      "3.7.4 (default, Sep 11 2019, 11:24:51) \n",
      "[GCC 6.2.0]\n"
     ]
    }
   ],
   "source": [
    "import numpy as np\n",
    "import os  # For Saving to Folder\n",
    "import pandas as pd\n",
    "import matplotlib.pyplot as plt\n",
    "\n",
    "import socket\n",
    "import os as os\n",
    "import sys as sys\n",
    "import multiprocessing as mp\n",
    "import itertools as it\n",
    "from time import time\n",
    "\n",
    "# For Arial Font\n",
    "from matplotlib import rcParams\n",
    "rcParams['font.family'] = 'sans-serif'   # Set the defaul\n",
    "# Make sure to have the font installed (it is on cluster for Harald)\n",
    "rcParams['font.sans-serif'] = ['Arial']\n",
    "\n",
    "socket_name = socket.gethostname()\n",
    "print(socket_name)\n",
    "\n",
    "if socket_name.startswith(\"compute-\"):\n",
    "    print(\"HSM Computational partition detected.\")\n",
    "    path = \"/n/groups/reich/hringbauer/git/punic_aDNA/\"  # The Path on Midway Cluster\n",
    "else:\n",
    "    raise RuntimeWarning(\"Not compatible machine. Check!!\")\n",
    "\n",
    "os.chdir(path)  # Set the right Path (in line with Atom default)\n",
    "os.sys.path.append(path)\n",
    "# Show the current working directory. Should be HAPSBURG/Notebooks/ParallelRuns\n",
    "print(os.getcwd())\n",
    "print(f\"CPU Count: {mp.cpu_count()}\")\n",
    "print(sys.version)"
   ]
  },
  {
   "cell_type": "markdown",
   "metadata": {},
   "source": [
    "# 0) Import qpAdm and set defintions"
   ]
  },
  {
   "cell_type": "code",
   "execution_count": 21,
   "metadata": {},
   "outputs": [
    {
     "name": "stdout",
     "output_type": "stream",
     "text": [
      "# Anc_Euro: 12 populations\n",
      "# Distal sources: 5 populations\n"
     ]
    }
   ],
   "source": [
    "from python.run_qpadm import qpAdm_run, get_meta_ind_table, modifiy_iid_files, set_iids_to_label\n",
    "from python.plot_qpadm import plot_qpadm, plot_qpadm_split\n",
    "\n",
    "### Parameters for qpAdm_run are set there!\n",
    "a12 = [\"Mota\", \"Ust_Ishim\", \"Kostenki14\", \"GoyetQ116-1\", \"Vestonice16\", \"MA1\",\n",
    "           \"ElMiron\", \"Villabruna\", \"EHG\", \"CHG\", \"Natufian\",\n",
    "           \"Levant_N\"] # List of ancient European populations for right populations\n",
    "distal = [\"Anatolia_N\", \"WHG\", \"Steppe_EMBA\", \n",
    "          \"Iran_N\", \"Morocco_EN.SG\"]\n",
    "print(f\"# Anc_Euro: {len(a12)} populations\")\n",
    "print(f\"# Distal sources: {len(distal)} populations\")"
   ]
  },
  {
   "cell_type": "markdown",
   "metadata": {},
   "source": [
    "## 1) Prepare .ind File"
   ]
  },
  {
   "cell_type": "markdown",
   "metadata": {},
   "source": [
    "### Optional: Screen for Labels"
   ]
  },
  {
   "cell_type": "code",
   "execution_count": 3,
   "metadata": {},
   "outputs": [
    {
     "name": "stdout",
     "output_type": "stream",
     "text": [
      "Filtering to 1137/1142\n",
      "Loaded 1137 Individuals\n",
      "Filtered to 1091 Individuals based on #SNP covered> 30000\n",
      "Filtered to 1002 Individuals based on duplicates.\n"
     ]
    },
    {
     "data": {
      "text/plain": [
       "Series([], Name: clst, dtype: int64)"
      ]
     },
     "execution_count": 3,
     "metadata": {},
     "output_type": "execute_result"
    }
   ],
   "source": [
    "vrs = \"49.2\"\n",
    "df = get_meta_ind_table(path_ind = f\"./eigenstrat/anc_only.v{vrs}_outgroups.ind\",\n",
    "                        path_anno = f\"/n/groups/reich/hringbauer/Data/v{vrs}.anno.csv\",\n",
    "                        min_snp = 30000)\n",
    "### Screen for what one wants\n",
    "df[df[\"clst\"].str.contains(\"Punic_Early\")][\"clst\"].value_counts()"
   ]
  },
  {
   "cell_type": "markdown",
   "metadata": {},
   "source": [
    "### Prepare .ind File with Punic Indivdiuals clustered out"
   ]
  },
  {
   "cell_type": "code",
   "execution_count": 4,
   "metadata": {},
   "outputs": [
    {
     "name": "stdout",
     "output_type": "stream",
     "text": [
      "Loaded 1142 Individuals\n",
      "Warning, I26842 not found in 49.2 .ind file.\n",
      "Saved updated 1142 IIDs to: ./eigenstrat/anc_only.v49.2.punic_early_ind.ind\n"
     ]
    }
   ],
   "source": [
    "### Populations to overwrite. Typically because they have the \".SG\" label\n",
    "ind_merged = f\"./eigenstrat/anc_only.v{vrs}_outgroups.ind\"          # What .ind to load\n",
    "df_lbs = pd.read_csv(\"./data/cluster_assignments_punic.v49.2.tsv\", sep=\"\\t\")  ### Load external Label file (Google docs)\n",
    "\n",
    "ind_modified = f\"./eigenstrat/anc_only.v{vrs}.punic_early_ind.ind\"    # Where to save the modified version to\n",
    "\n",
    "df_ind = pd.read_csv(ind_merged, delim_whitespace=True, header=None)\n",
    "df_ind.columns=[\"iid\", \"sex\", \"clst\"]\n",
    "print(f\"Loaded {len(df_ind)} Individuals\")\n",
    "\n",
    "### Reset Clusters\n",
    "for _, row in df_lbs.iterrows():\n",
    "    iid = row['iid']\n",
    "    \n",
    "    idx = df_ind[\"iid\"] == iid\n",
    "    if np.sum(idx)<1:\n",
    "        print(f\"Warning, {iid} not found in {vrs} .ind file.\")\n",
    "    \n",
    "    df_ind.loc[idx, \"clst\"] = iid\n",
    "    ### Reset All the Individuals in the Target Ind\n",
    "    #df_ind = set_iids_to_clst(df_ind, iids=iids, clst=g, savepath=\"\")\n",
    " \n",
    "# Save individuals\n",
    "df_ind.to_csv(ind_modified, header=False, sep=\" \", index=False)\n",
    "print(f\"Saved updated {len(df_ind)} IIDs to: {ind_modified}\")"
   ]
  },
  {
   "cell_type": "markdown",
   "metadata": {},
   "source": [
    "# 2) Run Indivdiual qpAdm analysis"
   ]
  },
  {
   "cell_type": "markdown",
   "metadata": {},
   "source": [
    "### a) Extract IIDs to run\n",
    "Start with all indivdiuals from Punic Early cluster"
   ]
  },
  {
   "cell_type": "code",
   "execution_count": 5,
   "metadata": {},
   "outputs": [
    {
     "name": "stdout",
     "output_type": "stream",
     "text": [
      "Found 17 Punic_Early indivdiuals\n"
     ]
    }
   ],
   "source": [
    "df_early = df_lbs[df_lbs[\"label\"]==\"Punic_Early\"]\n",
    "print(f\"Found {len(df_early)} Punic_Early indivdiuals\")\n",
    "iids = df_early[\"iid\"].values"
   ]
  },
  {
   "cell_type": "code",
   "execution_count": null,
   "metadata": {},
   "outputs": [],
   "source": [
    "df_lbs"
   ]
  },
  {
   "cell_type": "code",
   "execution_count": 10,
   "metadata": {},
   "outputs": [
    {
     "name": "stdout",
     "output_type": "stream",
     "text": [
      "Runtime: 55.954034\n",
      "CPU times: user 3.91 ms, sys: 7.71 ms, total: 11.6 ms\n",
      "Wall time: 56 s\n"
     ]
    },
    {
     "data": {
      "text/plain": [
       "0"
      ]
     },
     "execution_count": 10,
     "metadata": {},
     "output_type": "execute_result"
    }
   ],
   "source": [
    "%%time\n",
    "\n",
    "### Test Run for single Indivdiual\n",
    "target = iids[0]\n",
    "sources = [\"Algeria_IA\", \"Greece_BA_Mycenaean\", \"Spain_IA\"]  # Flip last component with down\n",
    "rightpops = a12 + [\"Morocco_EN.SG\", \"Iran_N\"] # Flip last component with up\n",
    "\n",
    "leftpops = [target] + sources\n",
    "qpAdm_run(leftpops = leftpops, rightpops = rightpops, \n",
    "          output_file = \".\".join(leftpops), \n",
    "          input_folder = \"./eigenstrat/\", \n",
    "          input_file = \"anc_only.v49.2\",\n",
    "          input_ind_suff = \".punic_early_ind\",\n",
    "          par_file_folder = \"./parfiles/\", \n",
    "          output_folder = \"./output/qpAdm/v49.2/area51/\", \n",
    "          path_bin_qpAdm = \"/n/groups/reich/hringbauer/git/AdmixTools/bin/qpAdm\",\n",
    "          all_snps=False)"
   ]
  },
  {
   "cell_type": "code",
   "execution_count": 21,
   "metadata": {},
   "outputs": [
    {
     "name": "stdout",
     "output_type": "stream",
     "text": [
      "Runtime: 74.878909\n",
      "Runtime: 76.503767\n",
      "Runtime: 74.638568\n",
      "Runtime: 75.984197\n",
      "Runtime: 74.294235\n",
      "Runtime: 75.049619\n",
      "Runtime: 74.728379\n",
      "Runtime: 75.132715\n",
      "Runtime: 74.545568\n",
      "Runtime: 76.380574\n",
      "Runtime: 74.653284\n",
      "Runtime: 77.015095\n",
      "Runtime: 75.474888\n",
      "Runtime: 75.088598\n",
      "Runtime: 76.629949\n",
      "Runtime: 75.920076\n",
      "Runtime: 94.559649\n"
     ]
    }
   ],
   "source": [
    "for iid in iids:\n",
    "    target = iid\n",
    "    sources = [\"Algeria_IA\", \"Greece_BA_Mycenaean\", \"Spain_IA\"]  # Flip last component with down\n",
    "    rightpops = a12 + [\"Morocco_EN.SG\", \"Iran_N\"] # Flip last component with up\n",
    "\n",
    "    leftpops = [target] + sources\n",
    "    qpAdm_run(leftpops = leftpops, rightpops = rightpops, \n",
    "              output_file = \".\".join(leftpops), \n",
    "              input_folder = \"./eigenstrat/\", \n",
    "              input_file = \"anc_only.v49.2\",\n",
    "              input_ind_suff = \".punic_early_ind\",\n",
    "              par_file_folder = \"./parfiles/\", \n",
    "              output_folder = \"./output/qpAdm/v49.2/early_punic_proxi_ind/\", \n",
    "              path_bin_qpAdm = \"/n/groups/reich/hringbauer/git/AdmixTools/bin/qpAdm\",\n",
    "              all_snps=False)"
   ]
  },
  {
   "cell_type": "markdown",
   "metadata": {},
   "source": [
    "# 3) Plot qpAdm Models"
   ]
  },
  {
   "cell_type": "markdown",
   "metadata": {},
   "source": [
    "### 3a) Visualize all individual 3-way models of all early Punic individuals in cluster\n",
    "Interpretation:\n",
    "Highly heterogenous Cluster - Ongoing Mixing - Not one population. Clear Traces of North African Ancestry.\n"
   ]
  },
  {
   "cell_type": "code",
   "execution_count": 31,
   "metadata": {},
   "outputs": [
    {
     "name": "stdout",
     "output_type": "stream",
     "text": [
      "Found 17 Punic_Early indivdiuals\n"
     ]
    },
    {
     "data": {
      "image/png": "[encoded data removed]",
      "text/plain": [
       "<Figure size 360x360 with 2 Axes>"
      ]
     },
     "metadata": {
      "needs_background": "light"
     },
     "output_type": "display_data"
    }
   ],
   "source": [
    "### Load IIDS to plot\n",
    "df_early = df_lbs[df_lbs[\"label\"]==\"Punic_Early\"]\n",
    "print(f\"Found {len(df_early)} Punic_Early indivdiuals\")\n",
    "targets = df_early[\"iid\"].values\n",
    "sources = [\"Algeria_IA\", \"Greece_BA_Mycenaean\", \"Spain_IA\"]\n",
    "\n",
    "paths = [\".\".join([t]+sources) for t in targets]\n",
    "\n",
    "dir_path = f\"./output/qpAdm/v49.2/early_punic_proxi_ind/\"\n",
    "save_path = \"\" # ./figures/qpAdm/v44/4way_Canaanite.pdf\n",
    "c = [\"#e41a1c\", \"#007ED6\", \"#FFEC00\"] # \"#984ea3\", \"gray\"\n",
    "\n",
    "xlabels = [t.replace(\"_\", \" \") for t in targets]\n",
    "labels = [s.replace(\"_\", \" \") for s in sources]\n",
    "\n",
    "plot_qpadm(dir_path=dir_path, test_pops=paths, save_path=save_path,\n",
    "           xlabels=xlabels, sort_p=False, labels=labels,\n",
    "           best=True, pval_lim = [1e-5,1], figsize=(5,5), bw=0.9, lw=1.5, \n",
    "           fs=12, c=c, ec=\"gray\", l_pos=(-0.25, 1.15))"
   ]
  },
  {
   "cell_type": "markdown",
   "metadata": {},
   "source": [
    "# Plot split up by site\n",
    "The aim of this plot is to have better visualization per site"
   ]
  },
  {
   "cell_type": "code",
   "execution_count": 9,
   "metadata": {},
   "outputs": [
    {
     "name": "stdout",
     "output_type": "stream",
     "text": [
      "Found 17 Punic_Early indivdiuals\n"
     ]
    },
    {
     "data": {
      "image/png": "[encoded data removed]",
      "text/plain": [
       "<Figure size 360x360 with 6 Axes>"
      ]
     },
     "metadata": {
      "needs_background": "light"
     },
     "output_type": "display_data"
    }
   ],
   "source": [
    "### Load IIDs to plot\n",
    "df_early = df_lbs[df_lbs[\"label\"]==\"Punic_Early\"]\n",
    "print(f\"Found {len(df_early)} Punic_Early indivdiuals\")\n",
    "\n",
    "\n",
    "sites = [\"Lilybaeum\", \"Motya\", \"Tharros\"]\n",
    "iids = [df_early[df_early[\"label_fine\"].str.contains(s)][\"iid\"].values for s in sites]\n",
    "sources = [\"Algeria_IA\", \"Greece_BA_Mycenaean\", \"Spain_IA\"]\n",
    "paths = [[\".\".join([t] + sources) for t in ls] for ls in iids]\n",
    "\n",
    "\n",
    "dir_path = f\"./output/qpAdm/v49.2/early_punic_proxi_ind/\"\n",
    "save_path = \"\" # ./figures/qpAdm/v44/4way_Canaanite.pdf\n",
    "c = [\"#e41a1c\", \"#007ED6\", \"#FFEC00\"] # \"#984ea3\", \"gray\"\n",
    "\n",
    "#xlabels = [t.replace(\"_\", \" \") for t in targets]\n",
    "labels = [s.replace(\"_\", \" \") for s in sources]\n",
    "\n",
    "plot_qpadm_split(dir_path=dir_path, test_pops=paths, save_path=save_path,\n",
    "           labels_source=labels, labels_site=sites,\n",
    "           best=True, pval_lim = [1e-5,1], figsize=(5,5), bw=0.9, lw=1.5, wspace=0.2,\n",
    "           fs=12, c=c, ec=\"gray\", l_pos=(-0.38, 1.15))"
   ]
  },
  {
   "cell_type": "markdown",
   "metadata": {},
   "source": [
    "# Run and plot Outliers as well"
   ]
  },
  {
   "cell_type": "code",
   "execution_count": 23,
   "metadata": {},
   "outputs": [
    {
     "name": "stdout",
     "output_type": "stream",
     "text": [
      "Runtime: 54.043841\n",
      "Runtime: 56.078955\n"
     ]
    }
   ],
   "source": [
    "for iid in [\"I7762\",\"I22232\"]: # The two outliers\n",
    "    target = iid\n",
    "    sources = [\"Algeria_IA\", \"Greece_BA_Mycenaean\", \"Spain_IA\"]  # Flip last component with down\n",
    "    rightpops = a12 + [\"Morocco_EN.SG\", \"Iran_N\"] # Flip last component with up\n",
    "\n",
    "    leftpops = [target] + sources\n",
    "    qpAdm_run(leftpops = leftpops, rightpops = rightpops, \n",
    "              output_file = \".\".join(leftpops), \n",
    "              input_folder = \"./eigenstrat/\", \n",
    "              input_file = \"anc_only.v49.2\",\n",
    "              input_ind_suff = \".punic_early_ind\",\n",
    "              par_file_folder = \"./parfiles/\", \n",
    "              output_folder = \"./output/qpAdm/v49.2/early_punic_proxi_ind/\", \n",
    "              path_bin_qpAdm = \"/n/groups/reich/hringbauer/git/AdmixTools/bin/qpAdm\",\n",
    "              all_snps=False)"
   ]
  },
  {
   "cell_type": "code",
   "execution_count": 23,
   "metadata": {},
   "outputs": [
    {
     "name": "stdout",
     "output_type": "stream",
     "text": [
      "Found 17 Punic_Early indivdiuals\n",
      "Saved to ./figures/qpAdm.49.2/fig2/punic_early_ind.pdf\n"
     ]
    },
    {
     "data": {
      "image/png": "[encoded data removed]",
      "text/plain": [
       "<Figure size 432x360 with 10 Axes>"
      ]
     },
     "metadata": {
      "needs_background": "light"
     },
     "output_type": "display_data"
    }
   ],
   "source": [
    "### Load IIDs to plot\n",
    "df_early = df_lbs[df_lbs[\"label\"]==\"Punic_Early\"]\n",
    "print(f\"Found {len(df_early)} Punic_Early indivdiuals\")\n",
    "\n",
    "\n",
    "sites = [\"Tharros\", \"Lilybaeum\", \"Motya\"]\n",
    "iids = [df_early[df_early[\"label_fine\"].str.contains(s)][\"iid\"].values for s in sites]\n",
    "\n",
    "#sites = sites \n",
    "iids = iids + [[\"I7762\"],[\"I22232\"]]\n",
    "\n",
    "sources = [\"Algeria_IA\", \"Greece_BA_Mycenaean\", \"Spain_IA\"]\n",
    "paths = [[\".\".join([t] + sources) for t in ls] for ls in iids]\n",
    "\n",
    "site_labels = [\"Tharros,\\n Sardinia\", \"Lilybaeum,\\n Sicily\", \"Motya,\\n Sicily\"] + \\\n",
    "              [\"Motya\\nOEur\", \"Motya\\nOAfr\"]\n",
    "\n",
    "dir_path = f\"./output/qpAdm/v49.2/early_punic_proxi_ind/\"\n",
    "save_path = \"./figures/qpAdm.49.2/fig2/punic_early_ind.pdf\" # ./figures/qpAdm/v44/4way_Canaanite.pdf\n",
    "c = [\"#e41a1c\", \"#007ED6\", \"#FFEC00\"] # \"#984ea3\", \"gray\"\n",
    "\n",
    "#xlabels = [t.replace(\"_\", \" \") for t in targets]\n",
    "labels = [s.replace(\"_\", \" \") for s in sources]\n",
    "\n",
    "plot_qpadm_split(dir_path=dir_path, test_pops=paths, save_path=save_path,\n",
    "           labels_source=labels, labels_site=site_labels,\n",
    "           best=True, pval_lim = [1e-5,1], figsize=(6,5), bw=0.9, lw=1.5, wspace=0.4,\n",
    "           fs=12, c=c, ec=\"gray\", l_pos=(-0.48, 1.15))"
   ]
  },
  {
   "cell_type": "code",
   "execution_count": null,
   "metadata": {},
   "outputs": [],
   "source": [
    "df_lbs[df_lbs[\"label\"].str.contains(\"Punic_Early\")]"
   ]
  },
  {
   "cell_type": "code",
   "execution_count": null,
   "metadata": {},
   "outputs": [],
   "source": []
  },
  {
   "cell_type": "markdown",
   "metadata": {},
   "source": [
    "# Area 51"
   ]
  }
 ],
 "metadata": {
  "kernelspec": {
   "display_name": "Python 3",
   "language": "python",
   "name": "python3"
  },
  "language_info": {
   "codemirror_mode": {
    "name": "ipython",
    "version": 3
   },
   "file_extension": ".py",
   "mimetype": "text/x-python",
   "name": "python",
   "nbconvert_exporter": "python",
   "pygments_lexer": "ipython3",
   "version": "3.7.4"
  }
 },
 "nbformat": 4,
 "nbformat_minor": 4
}
