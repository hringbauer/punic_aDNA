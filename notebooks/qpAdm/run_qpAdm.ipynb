{
 "cells": [
  {
   "cell_type": "markdown",
   "metadata": {},
   "source": [
    "# Run apAdm\n",
    "Goal:\n",
    "Run qp-Admix for identifying question about Sardinian Demography.\n",
    "Use a wrapper to run it with various parameters, for various populations.\n",
    "\n",
    "Use two different set of outgroups: m13 and anc_euro. Save them in different subfolders."
   ]
  },
  {
   "cell_type": "code",
   "execution_count": 8,
   "metadata": {},
   "outputs": [
    {
     "name": "stdout",
     "output_type": "stream",
     "text": [
      "compute-e-16-235.o2.rc.hms.harvard.edu\n",
      "HSM Computational partition detected.\n",
      "/n/groups/reich/hringbauer/git/punic_aDNA\n",
      "CPU Count: 28\n",
      "3.7.4 (default, Sep 11 2019, 11:24:51) \n",
      "[GCC 6.2.0]\n"
     ]
    }
   ],
   "source": [
    "import numpy as np\n",
    "import os  # For Saving to Folder\n",
    "import pandas as pd\n",
    "import matplotlib.pyplot as plt\n",
    "\n",
    "import socket\n",
    "import os as os\n",
    "import sys as sys\n",
    "import multiprocessing as mp\n",
    "import itertools as it\n",
    "from time import time\n",
    "\n",
    "# For Arial Font\n",
    "from matplotlib import rcParams\n",
    "rcParams['font.family'] = 'sans-serif'   # Set the defaul\n",
    "# Make sure to have the font installed (it is on cluster for Harald)\n",
    "rcParams['font.sans-serif'] = ['Arial']\n",
    "\n",
    "socket_name = socket.gethostname()\n",
    "print(socket_name)\n",
    "\n",
    "if socket_name.startswith(\"compute-\"):\n",
    "    print(\"HSM Computational partition detected.\")\n",
    "    path = \"/n/groups/reich/hringbauer/git/punic_aDNA/\"  # The Path on Midway Cluster\n",
    "else:\n",
    "    raise RuntimeWarning(\"Not compatible machine. Check!!\")\n",
    "\n",
    "os.chdir(path)  # Set the right Path (in line with Atom default)\n",
    "# Show the current working directory. Should be HAPSBURG/Notebooks/ParallelRuns\n",
    "print(os.getcwd())\n",
    "print(f\"CPU Count: {mp.cpu_count()}\")\n",
    "print(sys.version)"
   ]
  },
  {
   "cell_type": "markdown",
   "metadata": {},
   "source": [
    "# Define Some Standard Outgroups"
   ]
  },
  {
   "cell_type": "code",
   "execution_count": 2,
   "metadata": {},
   "outputs": [
    {
     "name": "stdout",
     "output_type": "stream",
     "text": [
      "# Anc_Euro: 12 populations\n",
      "# Distal sources: 5 populations\n"
     ]
    }
   ],
   "source": [
    "### Parameters for qpAdm_run are set there!\n",
    "a12 = [\"Mota\", \"Ust_Ishim\", \"Kostenki14\", \"GoyetQ116-1\", \"Vestonice16\", \"MA1\",\n",
    "           \"ElMiron\", \"Villabruna\", \"EHG\", \"CHG\", \"Natufian\",\n",
    "           \"Levant_N\"] # List of ancient European populations for right populations\n",
    "\n",
    "distal = [\"Anatolia_N\", \"WHG\", \"Steppe_EMBA\", \n",
    "          \"Iran_N\", \"Morocco_EN\"]\n",
    "\n",
    "print(\"# Anc_Euro: %i populations\" % len(a12))\n",
    "print(\"# Distal sources: %i populations\" % len(distal))"
   ]
  },
  {
   "cell_type": "code",
   "execution_count": 9,
   "metadata": {},
   "outputs": [],
   "source": [
    "def qpAdm_run(leftpops, rightpops, output_file, \n",
    "              input_folder = \"./eigenstrat/combined/\", \n",
    "              input_file=\"punic0.v43.geno\",\n",
    "              par_file_folder = \"./parfiles/\", \n",
    "              input_ind_suff=\"_mod1\", \n",
    "              output_folder =\"./output/qpAdm/\", \n",
    "              path_bin_qpAdm = \"/n/groups/reich/hringbauer/o2bin/qpAdm\",\n",
    "              all_snps=False):\n",
    "    \"\"\"Run qpAdm. Write temporary parfile and run the analysis\n",
    "    leftpops: List of left populations\n",
    "    rightpops: List of right populations\n",
    "    input_folder: Where to find the input files\n",
    "    par_file_folder: Folder of the parameterfile\n",
    "    input_file: The name of the input file\n",
    "    input_ind_suff: Suffix of .ind file. To allow modified populations\n",
    "    input_ind: name of the input .ind file. If given - write over default\"\"\"\n",
    "    \n",
    "    parfile_path = par_file_folder + \"parfile_qpAdm\"\n",
    "    left_path, right_path = par_file_folder + \"left\", par_file_folder + \"right\"\n",
    "    \n",
    "    ### Create the parfile:\n",
    "    with open(parfile_path, 'w') as f:\n",
    "        f.write(\"%s\\n\" % (\"DIR: \" + input_folder))\n",
    "        f.write(\"%s\\n\" % (\"S1: \" + input_file))\n",
    "        \n",
    "        indline = \"indivname: DIR/S1\" + input_ind_suff + \".ind\"\n",
    "        f.write(\"%s\\n\" % indline)\n",
    "        f.write(\"%s\\n\" % \"snpname: DIR/S1.snp\")\n",
    "        f.write(\"%s\\n\" % \"genotypename: DIR/S1.geno\")\n",
    "        f.write(\"%s\\n\" % (\"popleft: \" + left_path))\n",
    "        f.write(\"%s\\n\" % (\"popright: \" + right_path))\n",
    "        f.write(\"%s\\n\" % \"details: YES\")   \n",
    "        if all_snps==True:\n",
    "            f.write(\"%s\\n\" % \"allsnps: YES\")\n",
    "    \n",
    "    ### Write leftpops rightpops:       \n",
    "    with open(left_path, 'w') as f:\n",
    "        f.write(\"\\n\".join(leftpops))\n",
    "        \n",
    "    with open(right_path, 'w') as f:\n",
    "        f.write(\"\\n\".join(rightpops))\n",
    "      \n",
    "    ### Run qpAdm\n",
    "    start = time()\n",
    "    output_path = output_folder + output_file\n",
    "    !$path_bin_qpAdm -p $parfile_path > $output_path\n",
    "    end = time()\n",
    "    print(\"Runtime: %2f\" % (end - start))\n",
    "    return 0\n",
    "\n",
    "\n",
    "def load_iids_from_indfile(path_ind, string, \n",
    "                           col=\"clst\", col_iid=\"iid\"):\n",
    "    \"\"\"Load IIDs from Ind File\n",
    "    Return List of IIDs\"\"\"\n",
    "    df_ind = pd.read_csv(path_ind, delim_whitespace=True, header=None)\n",
    "    df_ind.columns=[\"iid\", \"sex\",\"clst\"]\n",
    "    idx = df_ind[col].str.contains(string)\n",
    "    ls = df_ind[idx][col_iid].values\n",
    "    return ls"
   ]
  },
  {
   "cell_type": "markdown",
   "metadata": {},
   "source": [
    "### Test distal Modelling Run for single Individual"
   ]
  },
  {
   "cell_type": "code",
   "execution_count": 13,
   "metadata": {},
   "outputs": [
    {
     "name": "stdout",
     "output_type": "stream",
     "text": [
      "Runtime: 34.944050\n",
      "CPU times: user 637 ms, sys: 90.3 ms, total: 727 ms\n",
      "Wall time: 35 s\n"
     ]
    },
    {
     "data": {
      "text/plain": [
       "0"
      ]
     },
     "execution_count": 13,
     "metadata": {},
     "output_type": "execute_result"
    }
   ],
   "source": [
    "%%time\n",
    "#iid = \"I12433\"  # The Iron Age African\n",
    "#iid = \"I11896\"  # The old African one\n",
    "#iid = \"I18400\"   # Steppe 1\n",
    "iid = \"I18194\"\n",
    "\n",
    "distal\n",
    "sources = [\"Anatolia_N\", \"Steppe_EMBA\", \"Morocco_EN\"]\n",
    "add_out = [\"Iran_N\"]\n",
    "leftpops = [iid] + sources\n",
    "\n",
    "qpAdm_run(leftpops = leftpops, \n",
    "          rightpops = a12+add_out, \n",
    "          output_file = \".\".join(leftpops) + \".log\", \n",
    "          input_folder = \"./eigenstrat/combined/\", \n",
    "          input_file = \"punic0.v43\",\n",
    "          par_file_folder = \"./parfiles/\", \n",
    "          input_ind_suff = \"_mod1\", \n",
    "          output_folder = \"./output/qpAdm/diverse/\", \n",
    "          path_bin_qpAdm = \"/n/groups/reich/hringbauer/o2bin/qpAdm\",\n",
    "          all_snps=True)"
   ]
  },
  {
   "cell_type": "markdown",
   "metadata": {},
   "source": [
    "### Run several Individuals"
   ]
  },
  {
   "cell_type": "code",
   "execution_count": null,
   "metadata": {},
   "outputs": [
    {
     "name": "stdout",
     "output_type": "stream",
     "text": [
      "Runtime: 64.200304\n",
      "Runtime: 65.710443\n",
      "Runtime: 63.501141\n",
      "Runtime: 64.098155\n"
     ]
    }
   ],
   "source": [
    "### Load the individual IIDs\n",
    "\n",
    "pops = [\"Sardinia\", \"Algeria_N\", \"Punic\"]\n",
    "path_ind = \"./eigenstrat/combined/punic0.v43.ind\"\n",
    "\n",
    "all_iids = [load_iids_from_indfile(path_ind=path_ind, \n",
    "                        string=pop) for pop in pops]\n",
    "\n",
    "all_iids = np.concatenate(all_iids)\n",
    "sources = distal\n",
    "\n",
    "for iid in all_iids:\n",
    "    qpAdm_run(leftpops = [iid] + sources, \n",
    "          rightpops = a12, \n",
    "          output_file = iid + \".\" + str(len(sources)) + \"way.log\", \n",
    "          input_folder = \"./eigenstrat/combined/\", \n",
    "          input_file = \"punic0.v43\",\n",
    "          par_file_folder = \"./parfiles/\", \n",
    "          input_ind_suff = \"_mod\", \n",
    "          output_folder = \"./output/qpAdm/5wayAll/\", \n",
    "          path_bin_qpAdm = \"/n/groups/reich/hringbauer/o2bin/qpAdm\",\n",
    "          all_snps=True)"
   ]
  },
  {
   "cell_type": "markdown",
   "metadata": {},
   "source": [
    "## Run 2/3-way Models for African - European Admixture"
   ]
  },
  {
   "cell_type": "code",
   "execution_count": 6,
   "metadata": {},
   "outputs": [
    {
     "name": "stdout",
     "output_type": "stream",
     "text": [
      "Doing Individual: MSR002\n",
      "Runtime: 32.329889\n",
      "Doing Individual: MSR003\n",
      "Runtime: 32.197911\n",
      "Doing Individual: ORC002\n",
      "Runtime: 32.199739\n",
      "Doing Individual: VIL004\n",
      "Runtime: 32.198779\n",
      "Doing Individual: VIL006\n",
      "Runtime: 32.501195\n",
      "Doing Individual: VIL007\n",
      "Runtime: 32.166153\n",
      "Doing Individual: VIL009\n",
      "Runtime: 32.191764\n",
      "Doing Individual: VIL010\n",
      "Runtime: 32.105941\n",
      "Doing Individual: VIL011\n",
      "Runtime: 32.232729\n"
     ]
    }
   ],
   "source": [
    "### Load the individual IIDs\n",
    "pops = [\"Iberia_North_BA_Africa_all\", \"Algeria_N\", \n",
    "        \"Morocco_LN\", \"Punic_oAfrican\", \"Sardinia\"]\n",
    "\n",
    "path_ind = \"./eigenstrat/combined/punic0.v43.ind\"\n",
    "\n",
    "all_iids = [load_iids_from_indfile(path_ind=path_ind, \n",
    "                        string=pop) for pop in pops]\n",
    "all_iids = np.concatenate(all_iids)\n",
    "#all_iids = [\"I4246\"] #The Iberian Outlier\n",
    "\n",
    "for iid in all_iids:\n",
    "    print(f\"Doing Individual: {iid}\")\n",
    "    sources = [\"Anatolia_N\", \"WHG\", \"Morocco_EN\"]\n",
    "    add_out = [\"Iran_N\"]\n",
    "    leftpops = [iid] + sources\n",
    "\n",
    "    qpAdm_run(leftpops = leftpops, \n",
    "              rightpops = a12+add_out, \n",
    "              output_file = \".\".join(leftpops) + \".log\", \n",
    "              input_folder = \"./eigenstrat/combined/\", \n",
    "              input_file = \"punic0.v43\",\n",
    "              par_file_folder = \"./parfiles/\", \n",
    "              input_ind_suff = \"_mod1\", \n",
    "              output_folder = \"./output/qpAdm/3wayNAf/\", \n",
    "              path_bin_qpAdm = \"/n/groups/reich/hringbauer/o2bin/qpAdm\",\n",
    "              all_snps=True)"
   ]
  },
  {
   "cell_type": "markdown",
   "metadata": {},
   "source": [
    "# Explore the Ind File"
   ]
  },
  {
   "cell_type": "code",
   "execution_count": 11,
   "metadata": {},
   "outputs": [],
   "source": [
    "df_ind = pd.read_csv(\"./eigenstrat/combined/punic0.v43.ind\", delim_whitespace=True, header=None)\n",
    "df_ind.columns=[\"iid\", \"sex\",\"clst\"]"
   ]
  },
  {
   "cell_type": "code",
   "execution_count": null,
   "metadata": {},
   "outputs": [],
   "source": [
    "df_ind[df_ind[\"clst\"].str.contains(\"Iberia\")]"
   ]
  },
  {
   "cell_type": "code",
   "execution_count": 17,
   "metadata": {},
   "outputs": [],
   "source": [
    "df_ind = pd.read_csv(\"./eigenstrat/combined/punic0.v43_mod.ind\", delim_whitespace=True, header=None)\n",
    "df_ind.columns=[\"iid\", \"sex\",\"clst\"]"
   ]
  },
  {
   "cell_type": "code",
   "execution_count": null,
   "metadata": {},
   "outputs": [],
   "source": [
    "df_ind[df_ind[\"clst\"].str.contains(\"Morocco\")]"
   ]
  },
  {
   "cell_type": "code",
   "execution_count": null,
   "metadata": {},
   "outputs": [],
   "source": []
  }
 ],
 "metadata": {
  "kernelspec": {
   "display_name": "Python 3",
   "language": "python",
   "name": "python3"
  },
  "language_info": {
   "codemirror_mode": {
    "name": "ipython",
    "version": 3
   },
   "file_extension": ".py",
   "mimetype": "text/x-python",
   "name": "python",
   "nbconvert_exporter": "python",
   "pygments_lexer": "ipython3",
   "version": "3.7.4"
  }
 },
 "nbformat": 4,
 "nbformat_minor": 4
}
