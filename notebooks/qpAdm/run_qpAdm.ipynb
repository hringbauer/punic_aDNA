{
 "cells": [
  {
   "cell_type": "markdown",
   "metadata": {},
   "source": [
    "# Run apAdm\n",
    "Goal:\n",
    "Run qp-Admix for identifying question about Sardinian Demography.\n",
    "Use a wrapper to run it with various parameters, for various populations.\n",
    "\n",
    "Use two different set of outgroups: m13 and anc_euro. Save them in different subfolders."
   ]
  },
  {
   "cell_type": "code",
   "execution_count": 10,
   "metadata": {},
   "outputs": [
    {
     "name": "stdout",
     "output_type": "stream",
     "text": [
      "compute-e-16-233.o2.rc.hms.harvard.edu\n",
      "HSM Computational partition detected.\n",
      "/n/groups/reich/hringbauer/git/punic_aDNA\n",
      "CPU Count: 28\n",
      "3.7.4 (default, Sep 11 2019, 11:24:51) \n",
      "[GCC 6.2.0]\n"
     ]
    }
   ],
   "source": [
    "import numpy as np\n",
    "import os  # For Saving to Folder\n",
    "import pandas as pd\n",
    "import matplotlib.pyplot as plt\n",
    "\n",
    "import socket\n",
    "import os as os\n",
    "import sys as sys\n",
    "import multiprocessing as mp\n",
    "import itertools as it\n",
    "from time import time\n",
    "\n",
    "# For Arial Font\n",
    "from matplotlib import rcParams\n",
    "rcParams['font.family'] = 'sans-serif'   # Set the defaul\n",
    "# Make sure to have the font installed (it is on cluster for Harald)\n",
    "rcParams['font.sans-serif'] = ['Arial']\n",
    "\n",
    "socket_name = socket.gethostname()\n",
    "print(socket_name)\n",
    "\n",
    "if socket_name.startswith(\"compute-\"):\n",
    "    print(\"HSM Computational partition detected.\")\n",
    "    path = \"/n/groups/reich/hringbauer/git/punic_aDNA/\"  # The Path on Midway Cluster\n",
    "else:\n",
    "    raise RuntimeWarning(\"Not compatible machine. Check!!\")\n",
    "\n",
    "os.chdir(path)  # Set the right Path (in line with Atom default)\n",
    "# Show the current working directory. Should be HAPSBURG/Notebooks/ParallelRuns\n",
    "print(os.getcwd())\n",
    "print(f\"CPU Count: {mp.cpu_count()}\")\n",
    "print(sys.version)"
   ]
  },
  {
   "cell_type": "markdown",
   "metadata": {},
   "source": [
    "# Define Some Standard Outgroups"
   ]
  },
  {
   "cell_type": "code",
   "execution_count": 5,
   "metadata": {},
   "outputs": [
    {
     "name": "stdout",
     "output_type": "stream",
     "text": [
      "# Anc_Euro: 12 populations\n",
      "# Distal sources: 5 populations\n"
     ]
    }
   ],
   "source": [
    "### Parameters for qpAdm_run are set there!\n",
    "a12 = [\"Mota\", \"Ust_Ishim\", \"Kostenki14\", \"GoyetQ116-1\", \"Vestonice16\", \"MA1\",\n",
    "           \"ElMiron\", \"Villabruna\", \"EHG\", \"CHG\", \"Natufian\",\n",
    "           \"Levant_N\"] # List of ancient European populations for right populations\n",
    "distal = [\"Anatolia_N\", \"WHG\", \"Steppe_EMBA\", \n",
    "          \"Iran_N\", \"Morocco_EN\"]\n",
    "print(\"# Anc_Euro: %i populations\" % len(a12))\n",
    "print(\"# Distal sources: %i populations\" % len(distal))"
   ]
  },
  {
   "cell_type": "code",
   "execution_count": 6,
   "metadata": {},
   "outputs": [],
   "source": [
    "def qpAdm_run(leftpops, rightpops, output_file, \n",
    "              input_folder = \"./eigenstrat/combined/\", \n",
    "              input_file=\"punic.v44\",\n",
    "              par_file_folder = \"./parfiles/\", \n",
    "              input_ind_suff=\"_mod1\", \n",
    "              output_folder =\"./output/qpAdm/\", \n",
    "              path_bin_qpAdm = \"/n/groups/reich/hringbauer/o2bin/qpAdm\",\n",
    "              all_snps=False):\n",
    "    \"\"\"Run qpAdm. Write temporary parfile and run the analysis\n",
    "    leftpops: List of left populations\n",
    "    rightpops: List of right populations\n",
    "    input_folder: Where to find the input files\n",
    "    par_file_folder: Folder of the parameterfile\n",
    "    input_file: The name of the input file\n",
    "    input_ind_suff: Suffix of .ind file. To allow modified populations\n",
    "    input_ind: name of the input .ind file. If given - write over default\"\"\"\n",
    "    \n",
    "    parfile_path = par_file_folder + \"parfile_qpAdm\"\n",
    "    left_path, right_path = par_file_folder + \"left\", par_file_folder + \"right\"\n",
    "    \n",
    "    ### Create the parfile:\n",
    "    with open(parfile_path, 'w') as f:\n",
    "        f.write(\"%s\\n\" % (\"DIR: \" + input_folder))\n",
    "        f.write(\"%s\\n\" % (\"S1: \" + input_file))\n",
    "        \n",
    "        indline = \"indivname: DIR/S1\" + input_ind_suff + \".ind\"\n",
    "        f.write(\"%s\\n\" % indline)\n",
    "        f.write(\"%s\\n\" % \"snpname: DIR/S1.snp\")\n",
    "        f.write(\"%s\\n\" % \"genotypename: DIR/S1.geno\")\n",
    "        f.write(\"%s\\n\" % (\"popleft: \" + left_path))\n",
    "        f.write(\"%s\\n\" % (\"popright: \" + right_path))\n",
    "        f.write(\"%s\\n\" % \"details: YES\")   \n",
    "        if all_snps==True:\n",
    "            f.write(\"%s\\n\" % \"allsnps: YES\")\n",
    "    \n",
    "    ### Write leftpops rightpops:       \n",
    "    with open(left_path, 'w') as f:\n",
    "        f.write(\"\\n\".join(leftpops))\n",
    "        \n",
    "    with open(right_path, 'w') as f:\n",
    "        f.write(\"\\n\".join(rightpops))\n",
    "      \n",
    "    ### Run qpAdm\n",
    "    start = time()\n",
    "    output_path = output_folder + output_file\n",
    "    !$path_bin_qpAdm -p $parfile_path > $output_path\n",
    "    end = time()\n",
    "    print(\"Runtime: %2f\" % (end - start))\n",
    "    return 0\n",
    "\n",
    "############################################\n",
    "### Identify Individuals to run\n",
    "\n",
    "def load_iids_from_indfile(path_ind, string, \n",
    "                           col=\"clst\", col_iid=\"iid\"):\n",
    "    \"\"\"Load IIDs from Ind File\n",
    "    Return List of IIDs\"\"\"\n",
    "    df_ind = pd.read_csv(path_ind, delim_whitespace=True, header=None)\n",
    "    df_ind.columns=[\"iid\", \"sex\", \"clst\"]\n",
    "    idx = df_ind[col].str.contains(string)\n",
    "    ls = df_ind[idx][col_iid].values\n",
    "    return ls\n",
    "\n",
    "def remove_individuals(df, remove_list=[\"_d\"], iid_col=\"iid\"):\n",
    "    \"\"\"Remove indivdiuals from PCA dataframe\"\"\"\n",
    "    idx = df[iid_col].str.contains(\"|\".join(remove_list))\n",
    "    df = df[~idx].copy()\n",
    "    print(f\"Filtering to {len(df)}/{len(idx)}\")\n",
    "    return df\n",
    "\n",
    "def get_sub_pops(df, pop_list=[], pop_col=\"clst\"):\n",
    "    \"\"\"Get Sub Populations\"\"\"\n",
    "    idx = df[pop_col].str.contains(\"|\".join(pop_list))\n",
    "    df = df[idx].copy()\n",
    "    print(f\"Found: {len(df)}/{len(idx)}\")\n",
    "    return df\n",
    "\n",
    "def get_sub_pops_exact(df, pop_list=[], pop_col=\"clst\"):\n",
    "    \"\"\"Get Sub Populations\"\"\"\n",
    "    idx = df[pop_col].isin(pop_list)\n",
    "    df = df[idx].copy()\n",
    "    print(f\"Found: {len(df)}/{len(idx)}\")\n",
    "    return df\n",
    "\n",
    "def get_sub_iid(df, pops=[\"\"], iid_col=\"iid\"):\n",
    "    \"\"\"Remove indivdiuals from PCA dataframe\"\"\"\n",
    "    idx = df[iid_col].str.contains(\"|\".join(pops))\n",
    "    df = df[idx].copy()\n",
    "    print(f\"Found: {len(df)}/{len(idx)}\")\n",
    "    return df"
   ]
  },
  {
   "cell_type": "markdown",
   "metadata": {},
   "source": [
    "### Get Dataframe with .anno clusters, merged with qpAdm eigenstrat IIDs"
   ]
  },
  {
   "cell_type": "code",
   "execution_count": 4,
   "metadata": {},
   "outputs": [
    {
     "name": "stdout",
     "output_type": "stream",
     "text": [
      "Filtering to 1037/1150\n",
      "Loaded 1037 Individuals\n",
      "Filtered to 980 Individuals based on Min SNP: 30000\n",
      "Filtered to 912 based on duplicates\n"
     ]
    }
   ],
   "source": [
    "min_snp = 30000\n",
    "ind_merged=\"./eigenstrat/combined/punic.v44.ind\"          # What .ind to load\n",
    "df = pd.read_csv(ind_merged, delim_whitespace=True, header=None)\n",
    "df.columns=[\"iid\", \"sex\", \"clst\"]\n",
    "df = remove_individuals(df, remove_list=[\"_d\"])\n",
    "print(f\"Loaded {len(df)} Individuals\")\n",
    "\n",
    "df_meta = pd.read_csv(\"/n/groups/reich/hringbauer/Data/v42-v44/v44.0.anno.csv\", sep=\",\")\n",
    "df2 = df_meta[[\"iid\", \"Master ID\", \"loc\", \"n_cov_snp\", \"mean_cov\", \"sex\"]]\n",
    "df = pd.merge(df, df2, on=\"iid\", how=\"left\")\n",
    "idx = (df[\"n_cov_snp\"]<min_snp)\n",
    "df = df[~idx]\n",
    "df.loc[df[\"loc\"].isnull(), \"loc\"]=\"not assigned\"\n",
    "print(f\"Filtered to {len(df)} Individuals based on Min SNP: {min_snp}\")\n",
    "\n",
    "df = df.sort_values(by=\"n_cov_snp\", ascending=False)\n",
    "dup = (df[\"Master ID\"].duplicated() & ~df[\"Master ID\"].isnull())\n",
    "df = df[~dup].copy().reset_index(drop=True)\n",
    "print(f\"Filtered to {len(df)} based on duplicates\")"
   ]
  },
  {
   "cell_type": "markdown",
   "metadata": {},
   "source": [
    "### Diverse Modelling Runs for single Individual"
   ]
  },
  {
   "cell_type": "code",
   "execution_count": 5,
   "metadata": {},
   "outputs": [
    {
     "name": "stdout",
     "output_type": "stream",
     "text": [
      "^C\n",
      "Runtime: 2.645691\n",
      "CPU times: user 61.7 ms, sys: 25.6 ms, total: 87.3 ms\n",
      "Wall time: 2.69 s\n"
     ]
    },
    {
     "data": {
      "text/plain": [
       "0"
      ]
     },
     "execution_count": 5,
     "metadata": {},
     "output_type": "execute_result"
    }
   ],
   "source": [
    "%%time\n",
    "\n",
    "iid = \"Tunisia_N\"  # The Sicilian \"inbred individual\"\n",
    "sources = [\"Morocco_Iberomaurusian\", \"I12433\"]\n",
    "\n",
    "add_out = []\n",
    "leftpops = [iid] + sources\n",
    "\n",
    "qpAdm_run(leftpops = leftpops, \n",
    "          rightpops = a12+add_out, \n",
    "          output_file = \".\".join(leftpops) + \".log\", \n",
    "          input_folder = \"./eigenstrat/combined/\", \n",
    "          input_file = \"punic.v46.3\",\n",
    "          par_file_folder = \"./parfiles/\", \n",
    "          input_ind_suff = \"_ind2\", \n",
    "          output_folder = \"./output/qpAdm/diverse/\", \n",
    "          path_bin_qpAdm = \"/n/groups/reich/hringbauer/git/AdmixTools/bin/qpAdm\",\n",
    "          all_snps=True)"
   ]
  },
  {
   "cell_type": "markdown",
   "metadata": {},
   "source": [
    "# v46.3: Test what additional European Source via Punic Cline\n",
    "Where does the Punic cline point to?"
   ]
  },
  {
   "cell_type": "code",
   "execution_count": 11,
   "metadata": {},
   "outputs": [
    {
     "name": "stdout",
     "output_type": "stream",
     "text": [
      "Runtime: 70.454916\n",
      "CPU times: user 1.68 s, sys: 366 ms, total: 2.05 s\n",
      "Wall time: 1min 10s\n"
     ]
    }
   ],
   "source": [
    "%%time\n",
    "target = \"PunicCline\"  # The Sicilian \"inbred individual\"\n",
    "s1 = \"PunicAfrican\"\n",
    "\n",
    "sources2 = [\"Spain_IA_Tartessian\", \"Spain_IA_Celt\", \n",
    "            \"Italy_Sardinia_BA_Nuragic\",  \"Italy_Sicily_IA_Sicani\", \"Italy_Sicily_IA_Polizzello\", \n",
    "            \"Greece_BA_Mycenaean\", \"Israel_Phoenician\"]\n",
    "\n",
    "for s2 in sources2:\n",
    "    leftpops = [target, s1, s2]\n",
    "\n",
    "    qpAdm_run(leftpops = leftpops, \n",
    "              rightpops = a12 + [\"Morocco_Iberomaurusian\"], \n",
    "              output_file = \".\".join(leftpops) + \".log\", \n",
    "              input_folder = \"./eigenstrat/combined/\", \n",
    "              input_file = \"punic.v46.3\",\n",
    "              par_file_folder = \"./parfiles/\", \n",
    "              input_ind_suff = \"_punic_clst\", \n",
    "              output_folder = \"./output/qpAdm/v46.3/eu_source/\", \n",
    "              path_bin_qpAdm = \"/n/groups/reich/hringbauer/git/AdmixTools/bin/qpAdm\",\n",
    "              all_snps=True)"
   ]
  },
  {
   "cell_type": "markdown",
   "metadata": {},
   "source": [
    "# v46.3: Test what African Source on Punic Cline"
   ]
  },
  {
   "cell_type": "code",
   "execution_count": 12,
   "metadata": {},
   "outputs": [
    {
     "name": "stdout",
     "output_type": "stream",
     "text": [
      "Runtime: 70.315276\n",
      "Runtime: 72.097692\n",
      "Runtime: 70.810354\n",
      "Runtime: 70.837760\n",
      "Runtime: 71.374343\n",
      "Runtime: 70.586507\n",
      "Runtime: 74.052516\n",
      "Runtime: 74.255633\n",
      "Runtime: 74.569834\n",
      "Runtime: 73.747529\n",
      "CPU times: user 16.8 s, sys: 3.65 s, total: 20.5 s\n",
      "Wall time: 12min 2s\n"
     ]
    }
   ],
   "source": [
    "%%time\n",
    "target = \"PunicCline\"  # The Sicilian \"inbred individual\"\n",
    "s1 = \"Italy_Sicily_IA_Polizzello\"\n",
    "\n",
    "sources2 = [\"PunicAfrican\", \"Tunisia_N\", \"Algeria_IA\", \"Morocco_LN.SG\", \"Morocco_EN.SG\",\n",
    "           \"Spain_BellBeaker_oAfrican\", \"Italy_Sicily_MBA_oAfrican\", \n",
    "            \"Italy_Sardinia_C_oAfrican_new\", \"Spain_EBA_Africa_all\", \"Nigeria_Medieval\"] \n",
    "\n",
    "for s2 in sources2:\n",
    "    leftpops = [target, s1, s2]\n",
    "\n",
    "    qpAdm_run(leftpops = leftpops, \n",
    "              rightpops = a12 + [\"Morocco_Iberomaurusian\"], \n",
    "              output_file = \".\".join(leftpops) + \".log\", \n",
    "              input_folder = \"./eigenstrat/combined/\", \n",
    "              input_file = \"punic.v46.3\",\n",
    "              par_file_folder = \"./parfiles/\", \n",
    "              input_ind_suff = \"_punic_clst\", \n",
    "              output_folder = \"./output/qpAdm/v46.3/afr_source/\", \n",
    "              path_bin_qpAdm = \"/n/groups/reich/hringbauer/git/AdmixTools/bin/qpAdm\",\n",
    "              all_snps=True)"
   ]
  },
  {
   "cell_type": "markdown",
   "metadata": {},
   "source": [
    "# v46.3: Run Tests on Punic Cline"
   ]
  },
  {
   "cell_type": "code",
   "execution_count": null,
   "metadata": {},
   "outputs": [],
   "source": [
    "target = \"Spain_Punic_oAfrican2\"  # The Sicilian \"inbred individual\"\n",
    "\n",
    "#sources = [\"Anatolia_N\", \"WHG\", \"Steppe_EMBA\", \"Israel_MLBA_Canaanite\", \"Morocco_EN\"]\n",
    "#sources = [\"Morocco_LN.SG\", \"Morocco_Iberomaurusian\", \"I12433\", \"Nigeria_Medieval\"]\n",
    "sources = [\"Anatolia_N\", \"WHG\", \"Steppe_EMBA\"]\n",
    "sources1 = [\"Tunisia_N\", \"Algeria_IA\", \"Morocco_LN.SG\", \"Morocco_EN.SG\",\n",
    "           \"Spain_BellBeaker_oAfrican\", \"Italy_Sicily_MBA_oAfrican\", \n",
    "            \"Italy_Sardinia_C_oAfrican_new\", \"Spain_EBA_Africa_all\"] \n",
    "\n",
    "for s1 in sources1:\n",
    "    leftpops = [target] + [s1] + sources\n",
    "\n",
    "    qpAdm_run(leftpops = leftpops, \n",
    "              rightpops = a12 + [\"Morocco_Iberomaurusian\"], \n",
    "              output_file = \".\".join(leftpops) + \".log\", \n",
    "              input_folder = \"./eigenstrat/combined/\", \n",
    "              input_file = \"punic.v46.3\",\n",
    "              par_file_folder = \"./parfiles/\", \n",
    "              input_ind_suff = \"\", \n",
    "              output_folder = \"./output/qpAdm/v46.3/afr_source/\", \n",
    "              path_bin_qpAdm = \"/n/groups/reich/hringbauer/git/AdmixTools/bin/qpAdm\",\n",
    "              all_snps=True)"
   ]
  },
  {
   "cell_type": "code",
   "execution_count": 10,
   "metadata": {},
   "outputs": [
    {
     "name": "stdout",
     "output_type": "stream",
     "text": [
      "Finished run!\n"
     ]
    }
   ],
   "source": [
    "print(\"Finished run!\")"
   ]
  },
  {
   "cell_type": "markdown",
   "metadata": {},
   "source": [
    "### Run several Individuals"
   ]
  },
  {
   "cell_type": "markdown",
   "metadata": {},
   "source": [
    "# Run distal Models"
   ]
  },
  {
   "cell_type": "code",
   "execution_count": null,
   "metadata": {},
   "outputs": [],
   "source": [
    "### Load the individual IIDs\n",
    "path_ind = \"./eigenstrat/combined/punic1.v43.ind\"\n",
    "outfolder=\"./output/qpAdm/5wayAll/\"\n",
    "\n",
    "pops = [\"Iberia_Tartessian\", \"Iberia_Iberian\", \"Iberia_Celtiberian\", \"Nuragic\", \n",
    "        \"Sicily_Phoenician\", \"Sicily_IA_Polizzello\"]\n",
    "pops = [\"Sicani\"]\n",
    "all_iids = [load_iids_from_indfile(path_ind=path_ind, \n",
    "                        string=pop) for pop in pops]\n",
    "all_iids = np.concatenate(all_iids)\n",
    "all_iids = [\"I4246\"]\n",
    "\n",
    "pops_tar = []\n",
    "pops_ib = []\n",
    "pops_clt =  []\n",
    "\n",
    "sources = [\"Anatolia_N\", \"WHG\", \"Steppe_EMBA\",\n",
    "           \"Iran_N\", \"Morocco_EN\"]\n",
    "add_out = []\n",
    "\n",
    "print(f\"Will run {len(all_iids)} Individuals\")\n",
    "for iid in all_iids[:]:\n",
    "    print(f\"Running Individual {iid}\")\n",
    "    leftpops = [iid] + sources\n",
    "    qpAdm_run(leftpops = leftpops, \n",
    "          rightpops = a12 + add_out, \n",
    "          output_file =  str(iid) + \".5way.log\", \n",
    "          input_folder = \"./eigenstrat/combined/\", \n",
    "          input_file = \"punic1.v43\",\n",
    "          par_file_folder = \"./parfiles/\", \n",
    "          input_ind_suff = \"_mod_ib\", \n",
    "          output_folder = outfolder, \n",
    "          path_bin_qpAdm = \"/n/groups/reich/hringbauer/o2bin/qpAdm\",\n",
    "          all_snps = True)"
   ]
  },
  {
   "cell_type": "markdown",
   "metadata": {},
   "source": [
    "## Run models with joined output name"
   ]
  },
  {
   "cell_type": "code",
   "execution_count": 8,
   "metadata": {},
   "outputs": [
    {
     "name": "stdout",
     "output_type": "stream",
     "text": [
      "Runtime: 52.080487\n",
      "Runtime: 52.311518\n",
      "Runtime: 52.035265\n",
      "Runtime: 52.738554\n"
     ]
    }
   ],
   "source": [
    "### Load the individual IIDs\n",
    "path_ind = \"./eigenstrat/combined/punic1.v43.ind\"\n",
    "\n",
    "pops = [\"Sardinia\", \"Algeria_N\", \"Punic\"]\n",
    "all_iids = [load_iids_from_indfile(path_ind=path_ind, \n",
    "                        string=pop) for pop in pops]\n",
    "all_iids = np.concatenate(all_iids)\n",
    "\n",
    "all_iids = [\"I18195\", \"MSR002\", \"I4798\", \"I12666\"]\n",
    "\n",
    "sources = [\"Anatolia_N\", \"WHG\", \"Steppe_EMBA\", \n",
    "           \"I12433\", \"Israel_MLBA_Canaanite\"]\n",
    "add_out = [\"Iran_N\"]\n",
    "\n",
    "for iid in all_iids:\n",
    "    leftpops = [iid] + sources\n",
    "    qpAdm_run(leftpops = leftpops, \n",
    "          rightpops = a12 + add_out, \n",
    "          output_file =  \".\".join(leftpops) + \".log\", \n",
    "          input_folder = \"./eigenstrat/combined/\", \n",
    "          input_file = \"punic1.v43\",\n",
    "          par_file_folder = \"./parfiles/\", \n",
    "          input_ind_suff = \"_mod_ib\", \n",
    "          output_folder = \"./output/qpAdm/5way_Canaanite/\", \n",
    "          path_bin_qpAdm = \"/n/groups/reich/hringbauer/o2bin/qpAdm\",\n",
    "          all_snps = True)"
   ]
  },
  {
   "cell_type": "markdown",
   "metadata": {},
   "source": [
    "## Run 2/3-way Models for African - European Admixture"
   ]
  },
  {
   "cell_type": "code",
   "execution_count": 6,
   "metadata": {},
   "outputs": [
    {
     "name": "stdout",
     "output_type": "stream",
     "text": [
      "Doing Individual: MSR002\n",
      "Runtime: 32.329889\n",
      "Doing Individual: MSR003\n",
      "Runtime: 32.197911\n",
      "Doing Individual: ORC002\n",
      "Runtime: 32.199739\n",
      "Doing Individual: VIL004\n",
      "Runtime: 32.198779\n",
      "Doing Individual: VIL006\n",
      "Runtime: 32.501195\n",
      "Doing Individual: VIL007\n",
      "Runtime: 32.166153\n",
      "Doing Individual: VIL009\n",
      "Runtime: 32.191764\n",
      "Doing Individual: VIL010\n",
      "Runtime: 32.105941\n",
      "Doing Individual: VIL011\n",
      "Runtime: 32.232729\n"
     ]
    }
   ],
   "source": [
    "### Load the individual IIDs\n",
    "pops = [\"Iberia_North_BA_Africa_all\", \"Algeria_N\", \n",
    "        \"Morocco_LN\", \"Punic_oAfrican\", \"Sardinia\"]\n",
    "\n",
    "path_ind = \"./eigenstrat/combined/punic1.v43.ind\"\n",
    "\n",
    "all_iids = [load_iids_from_indfile(path_ind=path_ind, \n",
    "                        string=pop) for pop in pops]\n",
    "all_iids = np.concatenate(all_iids)\n",
    "#all_iids = [\"I4246\"] #The Iberian Outlier\n",
    "\n",
    "for iid in all_iids:\n",
    "    print(f\"Doing Individual: {iid}\")\n",
    "    sources = [\"Anatolia_N\", \"WHG\", \"Morocco_EN\"]\n",
    "    add_out = [\"Iran_N\"]\n",
    "    leftpops = [iid] + sources\n",
    "\n",
    "    qpAdm_run(leftpops = leftpops, \n",
    "              rightpops = a12+add_out, \n",
    "              output_file = \".\".join(leftpops) + \".log\", \n",
    "              input_folder = \"./eigenstrat/combined/\", \n",
    "              input_file = \"punic0.v43\",\n",
    "              par_file_folder = \"./parfiles/\", \n",
    "              input_ind_suff = \"_mod1\", \n",
    "              output_folder = \"./output/qpAdm/3wayNAf/\", \n",
    "              path_bin_qpAdm = \"/n/groups/reich/hringbauer/o2bin/qpAdm\",\n",
    "              all_snps=True)"
   ]
  },
  {
   "cell_type": "markdown",
   "metadata": {},
   "source": [
    "# Run 4-way distal models\n",
    "- with Israel_MLBA_Canaaninte as Outgroup\n",
    "\n",
    "Add as proxy for North African ancestry:\n",
    "\n",
    "Morocco_EN, Algeria_N (I12433) or Iberian Outlier (I4246)"
   ]
  },
  {
   "cell_type": "code",
   "execution_count": null,
   "metadata": {},
   "outputs": [],
   "source": [
    "### Load the individual IIDs\n",
    "pops = [\"Italy_Sardinia_Punic\", \"Italy_Sardinia_Punic_Roman\", \"Italy_Sardinia_BA_Nuragic\",\n",
    "        \"Spain_IA\", \"Ibiza_Punic.SG\", \"Italy_Phoenician_Sicily\", \"Italy_Sicily_Punic\",\n",
    "        \"Italy_Sicily_IA_Polizzello\"] # \"Greece_BA_Mycenaean\"\n",
    "\n",
    "pops1 = [\"Villaricos\", \"Menorca\"] # \"Himera\",\n",
    "iids = [\"VIL\", \"MSR\", \"I12517|I15434|I8135\"]\n",
    "\n",
    "#pops = [\"Morocco_LN\"]\n",
    "#df1 = get_sub_pops(df, pop_list=pops)\n",
    "df1 = get_sub_pops_exact(df, pop_list=pops)\n",
    "#df2 = get_sub_pops(df, pops1, pop_col=\"loc\")\n",
    "#df3 = get_sub_iid(df, iids)\n",
    "\n",
    "df_all = pd.concat((df1,))\n",
    "all_iids = df_all[\"iid\"].values\n",
    "print(f\"Will run {len(all_iids)} Indvidiuals\")\n",
    "# df_meno = get_sub_pops(df, [\"Menorca\"])\n",
    "# \"Italy_Sardinia_EBA\"\n",
    "# df_cad = get_sub_iid(df, [\"I12517|I15434|I8135\"])\n",
    "#all_iids = [\"I22112\"]\n",
    "\n",
    "for iid in all_iids:\n",
    "    print(f\"Doing Individual: {iid}\")\n",
    "    sources = [\"Anatolia_N\", \"WHG\", \"Steppe_EMBA\", \"I12433\"]\n",
    "    add_out = [\"Israel_MLBA_Canaanite\"]\n",
    "    leftpops = [iid] + sources\n",
    "\n",
    "    qpAdm_run(leftpops = leftpops, \n",
    "              rightpops = a12 + add_out, \n",
    "              output_file = \".\".join(leftpops) + \".log\", \n",
    "              input_folder = \"./eigenstrat/combined/\", \n",
    "              input_file = \"punic.v44\",\n",
    "              par_file_folder = \"./parfiles/\", \n",
    "              input_ind_suff = \"_ind\",   # _mod1\n",
    "              output_folder = \"./output/qpAdm/v44/4way_r_canaanite/\", \n",
    "              path_bin_qpAdm = \"/n/groups/reich/hringbauer/o2bin/qpAdm\",\n",
    "              all_snps=True)"
   ]
  },
  {
   "cell_type": "code",
   "execution_count": 27,
   "metadata": {},
   "outputs": [
    {
     "ename": "NameError",
     "evalue": "name 'df' is not defined",
     "output_type": "error",
     "traceback": [
      "\u001b[0;31m---------------------------------------------------------------------------\u001b[0m",
      "\u001b[0;31mNameError\u001b[0m                                 Traceback (most recent call last)",
      "\u001b[0;32m<ipython-input-27-0b16eaad81ca>\u001b[0m in \u001b[0;36m<module>\u001b[0;34m\u001b[0m\n\u001b[0;32m----> 1\u001b[0;31m \u001b[0mdf\u001b[0m\u001b[0;34m[\u001b[0m\u001b[0mdf\u001b[0m\u001b[0;34m[\u001b[0m\u001b[0;34m\"clst\"\u001b[0m\u001b[0;34m]\u001b[0m\u001b[0;34m.\u001b[0m\u001b[0mstr\u001b[0m\u001b[0;34m.\u001b[0m\u001b[0mcontains\u001b[0m\u001b[0;34m(\u001b[0m\u001b[0;34m\"Egy\"\u001b[0m\u001b[0;34m)\u001b[0m\u001b[0;34m]\u001b[0m\u001b[0;34m\u001b[0m\u001b[0;34m\u001b[0m\u001b[0m\n\u001b[0m",
      "\u001b[0;31mNameError\u001b[0m: name 'df' is not defined"
     ]
    }
   ],
   "source": [
    "df[df[\"clst\"].str.contains(\"Egy\")]"
   ]
  },
  {
   "cell_type": "markdown",
   "metadata": {},
   "source": [
    "# Run 4-way Source Models including Myc \n",
    "Add as proxy for North African ancestry:\n",
    "Algeria_N (I12433)"
   ]
  },
  {
   "cell_type": "code",
   "execution_count": null,
   "metadata": {},
   "outputs": [],
   "source": [
    "### Load the individual IIDs\n",
    "pops = [\"Iberia_Punic\", \"Sardinia\", \"Iberia_North_BA_Africa_all\",\n",
    "        \"Morocco_LN\", \"Sicily_Phoenician\", \"Ibiza\"]\n",
    "\n",
    "path_ind = \"./eigenstrat/combined/punic1.v43.ind\"\n",
    "\n",
    "all_iids = [load_iids_from_indfile(path_ind=path_ind, \n",
    "                        string=pop) for pop in pops]\n",
    "all_iids = np.concatenate(all_iids)\n",
    "#all_iids = [\"I7253\"] # Do a single Individual\n",
    "\n",
    "for iid in all_iids:\n",
    "    print(f\"Doing Individual: {iid}\")\n",
    "    sources = [\"Anatolia_N\", \"WHG\", \"Steppe_EMBA\", \"I12433\"]\n",
    "    add_out = [\"Israel_MLBA_Canaanite\"]\n",
    "    leftpops = [iid] + sources\n",
    "\n",
    "    qpAdm_run(leftpops = leftpops, \n",
    "              rightpops = a12 + add_out, \n",
    "              output_file = \".\".join(leftpops) + \".log\", \n",
    "              input_folder = \"./eigenstrat/combined/\", \n",
    "              input_file = \"punic1.v43\",\n",
    "              par_file_folder = \"./parfiles/\", \n",
    "              input_ind_suff = \"_mod1\", \n",
    "              output_folder = \"./output/qpAdm/4way_p_Canaanite/\", \n",
    "              path_bin_qpAdm = \"/n/groups/reich/hringbauer/o2bin/qpAdm\",\n",
    "              all_snps=True)"
   ]
  },
  {
   "cell_type": "markdown",
   "metadata": {},
   "source": [
    "# Test Continutity to Mycenean Phoenician Group"
   ]
  },
  {
   "cell_type": "code",
   "execution_count": 12,
   "metadata": {},
   "outputs": [
    {
     "name": "stdout",
     "output_type": "stream",
     "text": [
      "Doing Individual: MS10614.SG\n",
      "Runtime: 33.257306\n"
     ]
    }
   ],
   "source": [
    "### Load the individual IIDs\n",
    "\n",
    "#all_iids = [\"I18199\", \"I18201\", \"I18203\", \"I18202\", \"I18189\", \"I18187\"]\n",
    "#all_iids = [\"MSR002\", \"MSR003\"]\n",
    "all_iids = [\"MS10614.SG\"]\n",
    "\n",
    "for iid in all_iids:\n",
    "    print(f\"Doing Individual: {iid}\")\n",
    "    sources = [\"Mycenaean\"]\n",
    "    add_out = [\"Israel_MLBA_Canaanite\", \"I12433\"]\n",
    "    leftpops = [iid] + sources\n",
    "\n",
    "    qpAdm_run(leftpops = leftpops, \n",
    "              rightpops = a12 + add_out, \n",
    "              output_file = \".\".join(leftpops) + \".log\", \n",
    "              input_folder = \"./eigenstrat/combined/\", \n",
    "              input_file = \"punic1.v43\",\n",
    "              par_file_folder = \"./parfiles/\", \n",
    "              input_ind_suff = \"_mod1\", \n",
    "              output_folder = \"./output/qpAdm/t774_cont/\", \n",
    "              path_bin_qpAdm = \"/n/groups/reich/hringbauer/o2bin/qpAdm\",\n",
    "              all_snps=True)"
   ]
  },
  {
   "cell_type": "markdown",
   "metadata": {},
   "source": [
    "# Run three-way models for Empuries individuals"
   ]
  },
  {
   "cell_type": "code",
   "execution_count": null,
   "metadata": {},
   "outputs": [],
   "source": [
    "pops = [\"Iberia_Greek\", \"Iberia_Hellenistic\"]\n",
    "\n",
    "path_ind = \"./eigenstrat/combined/punic1.v43.ind\"\n",
    "\n",
    "all_iids = [load_iids_from_indfile(path_ind=path_ind, \n",
    "                        string=pop) for pop in pops]\n",
    "all_iids = np.concatenate(all_iids)\n",
    "\n",
    "print(f\"Will run {len(all_iids)} Individuals\")\n",
    "\n",
    "for iid in all_iids:\n",
    "    print(f\"Doing Individual: {iid}\")\n",
    "    sources = [\"Iberia_BA\", \"Greece_BA_Mycenaean\", \"I12433\"]\n",
    "    add_out = [\"Israel_MLBA_Canaanite\"]\n",
    "    leftpops = [iid] + sources\n",
    "\n",
    "    qpAdm_run(leftpops = leftpops, \n",
    "              rightpops = a12 + add_out, \n",
    "              output_file = \".\".join(leftpops) + \".log\", \n",
    "              input_folder = \"./eigenstrat/combined/\", \n",
    "              input_file = \"punic1.v43\",\n",
    "              par_file_folder = \"./parfiles/\", \n",
    "              input_ind_suff = \"_mod1\", \n",
    "              output_folder = \"./output/qpAdm/Empuries_3way/\", \n",
    "              path_bin_qpAdm = \"/n/groups/reich/hringbauer/o2bin/qpAdm\",\n",
    "              all_snps=True)"
   ]
  },
  {
   "cell_type": "code",
   "execution_count": 24,
   "metadata": {},
   "outputs": [
    {
     "name": "stdout",
     "output_type": "stream",
     "text": [
      "test\n"
     ]
    }
   ],
   "source": [
    "print(\"test\")"
   ]
  },
  {
   "cell_type": "markdown",
   "metadata": {},
   "source": [
    "# Do 3-way distal models for Iberan Individuals (EEF, Steppe, WHG)"
   ]
  },
  {
   "cell_type": "code",
   "execution_count": null,
   "metadata": {},
   "outputs": [],
   "source": [
    "pops = [\"Iberia_BA\", \"Iberia_IA\", \"Iberia_Tartessian\", \n",
    "        \"Iberia_Iberian\", \"Iberia_Celtiberian\"]\n",
    "path_ind = \"./eigenstrat/combined/punic1.v43.ind\"\n",
    "\n",
    "\n",
    "all_iids = [load_iids_from_indfile(path_ind=path_ind, \n",
    "                        string=pop) for pop in pops]\n",
    "all_iids = np.concatenate(all_iids)\n",
    "#all_iids = [\"I18187\"] # Do Villaricos Local individual\n",
    "all_iids = [\"I8339\", \"I18203\", \"I8206\", \"I8207\"] # Empuries Individuals\n",
    "\n",
    "print(f\"Will run {len(all_iids)} Individuals\")\n",
    "\n",
    "for iid in all_iids[:]:\n",
    "    print(f\"Doing Individual: {iid}\")\n",
    "    sources = [\"Anatolia_N\", \"WHG\", \"Steppe_EMBA\"]\n",
    "    add_out = []\n",
    "    leftpops = [iid] + sources\n",
    "\n",
    "    qpAdm_run(leftpops = leftpops, \n",
    "              rightpops = a12 + add_out, \n",
    "              output_file = \".\".join(leftpops) + \".log\", \n",
    "              input_folder = \"./eigenstrat/combined/\", \n",
    "              input_file = \"punic1.v43\",\n",
    "              par_file_folder = \"./parfiles/\", \n",
    "              input_ind_suff = \"_mod_ib\", \n",
    "              output_folder = \"./output/qpAdm/3wayIberia/\", \n",
    "              path_bin_qpAdm = \"/n/groups/reich/hringbauer/o2bin/qpAdm\",\n",
    "              all_snps=True)"
   ]
  },
  {
   "cell_type": "markdown",
   "metadata": {},
   "source": [
    "# Explore the Ind File (semi Area 51)"
   ]
  },
  {
   "cell_type": "code",
   "execution_count": null,
   "metadata": {},
   "outputs": [],
   "source": [
    "df_ind = pd.read_csv(\"./eigenstrat/combined/punic1.v43_mod_ib.ind\", delim_whitespace=True, header=None)\n",
    "df_ind.columns=[\"iid\", \"sex\", \"clst\"]"
   ]
  },
  {
   "cell_type": "code",
   "execution_count": 13,
   "metadata": {},
   "outputs": [
    {
     "data": {
      "text/plain": [
       "Europe_LNBA                              78\n",
       "Iberia_BA                                42\n",
       "Europe_EN                                29\n",
       "Europe_MNChL                             28\n",
       "Israel_MLBA_Canaanite                    26\n",
       "                                         ..\n",
       "Iran_IA                                   1\n",
       "Israel_MLBA_Canaanite_o_brother.I2200     1\n",
       "Israel_IA_IIA_Tevet                       1\n",
       "Crete_Armenoi                             1\n",
       "Villabruna                                1\n",
       "Name: clst, Length: 132, dtype: int64"
      ]
     },
     "execution_count": 13,
     "metadata": {},
     "output_type": "execute_result"
    }
   ],
   "source": [
    "df_ind[\"clst\"].value_counts()"
   ]
  },
  {
   "cell_type": "code",
   "execution_count": 14,
   "metadata": {},
   "outputs": [
    {
     "data": {
      "text/plain": [
       "Series([], Name: clst, dtype: int64)"
      ]
     },
     "execution_count": 14,
     "metadata": {},
     "output_type": "execute_result"
    }
   ],
   "source": [
    "df_ind[df_ind[\"clst\"].str.contains(\"Polizello\")]['clst'].value_counts()"
   ]
  },
  {
   "cell_type": "code",
   "execution_count": 28,
   "metadata": {},
   "outputs": [],
   "source": [
    "df_ind = pd.read_csv(\"./eigenstrat/combined/punic.v46.3_punic_clst.ind\", delim_whitespace=True, header=None)\n",
    "df_ind.columns=[\"iid\", \"sex\",\"clst\"]"
   ]
  },
  {
   "cell_type": "code",
   "execution_count": 29,
   "metadata": {},
   "outputs": [
    {
     "data": {
      "text/html": [
       "<div>\n",
       "<style scoped>\n",
       "    .dataframe tbody tr th:only-of-type {\n",
       "        vertical-align: middle;\n",
       "    }\n",
       "\n",
       "    .dataframe tbody tr th {\n",
       "        vertical-align: top;\n",
       "    }\n",
       "\n",
       "    .dataframe thead th {\n",
       "        text-align: right;\n",
       "    }\n",
       "</style>\n",
       "<table border=\"1\" class=\"dataframe\">\n",
       "  <thead>\n",
       "    <tr style=\"text-align: right;\">\n",
       "      <th></th>\n",
       "      <th>iid</th>\n",
       "      <th>sex</th>\n",
       "      <th>clst</th>\n",
       "    </tr>\n",
       "  </thead>\n",
       "  <tbody>\n",
       "    <tr>\n",
       "      <th>74</th>\n",
       "      <td>I4526</td>\n",
       "      <td>F</td>\n",
       "      <td>Egypt_Hellenistic</td>\n",
       "    </tr>\n",
       "    <tr>\n",
       "      <th>78</th>\n",
       "      <td>I4502</td>\n",
       "      <td>M</td>\n",
       "      <td>Egypt_Roman_oGreek</td>\n",
       "    </tr>\n",
       "    <tr>\n",
       "      <th>89</th>\n",
       "      <td>I3339_all</td>\n",
       "      <td>M</td>\n",
       "      <td>Egypt_Hellenistic_Roman_all</td>\n",
       "    </tr>\n",
       "    <tr>\n",
       "      <th>90</th>\n",
       "      <td>I3438_all</td>\n",
       "      <td>F</td>\n",
       "      <td>Egypt_Hellenistic_all</td>\n",
       "    </tr>\n",
       "    <tr>\n",
       "      <th>91</th>\n",
       "      <td>I3440_all</td>\n",
       "      <td>M</td>\n",
       "      <td>Egypt_Roman_all</td>\n",
       "    </tr>\n",
       "    <tr>\n",
       "      <th>99</th>\n",
       "      <td>I4270_all</td>\n",
       "      <td>M</td>\n",
       "      <td>Egypt_Dynastic_all</td>\n",
       "    </tr>\n",
       "    <tr>\n",
       "      <th>104</th>\n",
       "      <td>I5958</td>\n",
       "      <td>M</td>\n",
       "      <td>Egypt_Roman</td>\n",
       "    </tr>\n",
       "    <tr>\n",
       "      <th>105</th>\n",
       "      <td>I4281_all</td>\n",
       "      <td>F</td>\n",
       "      <td>Egypt_Dynastic_Nubian_all</td>\n",
       "    </tr>\n",
       "    <tr>\n",
       "      <th>118</th>\n",
       "      <td>I3438</td>\n",
       "      <td>F</td>\n",
       "      <td>Egypt_Hellenistic</td>\n",
       "    </tr>\n",
       "    <tr>\n",
       "      <th>120</th>\n",
       "      <td>I4270</td>\n",
       "      <td>M</td>\n",
       "      <td>Egypt_Dynastic</td>\n",
       "    </tr>\n",
       "    <tr>\n",
       "      <th>122</th>\n",
       "      <td>I4281</td>\n",
       "      <td>F</td>\n",
       "      <td>Egypt_Dynastic_Nubian</td>\n",
       "    </tr>\n",
       "    <tr>\n",
       "      <th>129</th>\n",
       "      <td>I3440</td>\n",
       "      <td>M</td>\n",
       "      <td>Egypt_Roman</td>\n",
       "    </tr>\n",
       "    <tr>\n",
       "      <th>130</th>\n",
       "      <td>I3339</td>\n",
       "      <td>M</td>\n",
       "      <td>Egypt_Hellenistic_Roman</td>\n",
       "    </tr>\n",
       "  </tbody>\n",
       "</table>\n",
       "</div>"
      ],
      "text/plain": [
       "           iid sex                         clst\n",
       "74       I4526   F            Egypt_Hellenistic\n",
       "78       I4502   M           Egypt_Roman_oGreek\n",
       "89   I3339_all   M  Egypt_Hellenistic_Roman_all\n",
       "90   I3438_all   F        Egypt_Hellenistic_all\n",
       "91   I3440_all   M              Egypt_Roman_all\n",
       "99   I4270_all   M           Egypt_Dynastic_all\n",
       "104      I5958   M                  Egypt_Roman\n",
       "105  I4281_all   F    Egypt_Dynastic_Nubian_all\n",
       "118      I3438   F            Egypt_Hellenistic\n",
       "120      I4270   M               Egypt_Dynastic\n",
       "122      I4281   F        Egypt_Dynastic_Nubian\n",
       "129      I3440   M                  Egypt_Roman\n",
       "130      I3339   M      Egypt_Hellenistic_Roman"
      ]
     },
     "execution_count": 29,
     "metadata": {},
     "output_type": "execute_result"
    }
   ],
   "source": [
    "df_ind[df_ind[\"clst\"].str.contains(\"Eg\")]"
   ]
  },
  {
   "cell_type": "markdown",
   "metadata": {},
   "source": [
    "# Area 51"
   ]
  },
  {
   "cell_type": "code",
   "execution_count": null,
   "metadata": {},
   "outputs": [],
   "source": []
  }
 ],
 "metadata": {
  "kernelspec": {
   "display_name": "Python 3",
   "language": "python",
   "name": "python3"
  },
  "language_info": {
   "codemirror_mode": {
    "name": "ipython",
    "version": 3
   },
   "file_extension": ".py",
   "mimetype": "text/x-python",
   "name": "python",
   "nbconvert_exporter": "python",
   "pygments_lexer": "ipython3",
   "version": "3.7.4"
  }
 },
 "nbformat": 4,
 "nbformat_minor": 4
}
