{
 "cells": [
  {
   "cell_type": "markdown",
   "metadata": {},
   "source": [
    "# Run apAdm\n",
    "Goal:\n",
    "Run qp-Admix for identifying question about Sardinian Demography.\n",
    "Use a wrapper to run it with various parameters, for various populations.\n",
    "\n",
    "Use two different set of outgroups: m13 and anc_euro. Save them in different subfolders."
   ]
  },
  {
   "cell_type": "code",
   "execution_count": 1,
   "metadata": {},
   "outputs": [
    {
     "name": "stdout",
     "output_type": "stream",
     "text": [
      "compute-a-16-166.o2.rc.hms.harvard.edu\n",
      "HSM Computational partition detected.\n",
      "/n/groups/reich/hringbauer/git/punic_aDNA\n",
      "CPU Count: 32\n",
      "3.7.4 (default, Sep 11 2019, 11:24:51) \n",
      "[GCC 6.2.0]\n"
     ]
    }
   ],
   "source": [
    "import numpy as np\n",
    "import os  # For Saving to Folder\n",
    "import pandas as pd\n",
    "import matplotlib.pyplot as plt\n",
    "\n",
    "import socket\n",
    "import os as os\n",
    "import sys as sys\n",
    "import multiprocessing as mp\n",
    "import itertools as it\n",
    "from time import time\n",
    "\n",
    "# For Arial Font\n",
    "from matplotlib import rcParams\n",
    "rcParams['font.family'] = 'sans-serif'   # Set the defaul\n",
    "# Make sure to have the font installed (it is on cluster for Harald)\n",
    "rcParams['font.sans-serif'] = ['Arial']\n",
    "\n",
    "socket_name = socket.gethostname()\n",
    "print(socket_name)\n",
    "\n",
    "if socket_name.startswith(\"compute-\"):\n",
    "    print(\"HSM Computational partition detected.\")\n",
    "    path = \"/n/groups/reich/hringbauer/git/punic_aDNA/\"  # The Path on Midway Cluster\n",
    "else:\n",
    "    raise RuntimeWarning(\"Not compatible machine. Check!!\")\n",
    "\n",
    "os.chdir(path)  # Set the right Path (in line with Atom default)\n",
    "# Show the current working directory. Should be HAPSBURG/Notebooks/ParallelRuns\n",
    "print(os.getcwd())\n",
    "print(f\"CPU Count: {mp.cpu_count()}\")\n",
    "print(sys.version)"
   ]
  },
  {
   "cell_type": "markdown",
   "metadata": {},
   "source": [
    "# Define Some Standard Outgroups"
   ]
  },
  {
   "cell_type": "code",
   "execution_count": 2,
   "metadata": {},
   "outputs": [
    {
     "name": "stdout",
     "output_type": "stream",
     "text": [
      "# Anc_Euro: 12 populations\n",
      "# Distal sources: 5 populations\n"
     ]
    }
   ],
   "source": [
    "### Parameters for qpAdm_run are set there!\n",
    "a12 = [\"Mota\", \"Ust_Ishim\", \"Kostenki14\", \"GoyetQ116-1\", \"Vestonice16\", \"MA1\",\n",
    "           \"ElMiron\", \"Villabruna\", \"EHG\", \"CHG\", \"Natufian\",\n",
    "           \"Levant_N\"] # List of ancient European populations for right populations\n",
    "distal = [\"Anatolia_N\", \"WHG\", \"Steppe_EMBA\", \n",
    "          \"Iran_N\", \"Morocco_EN\"]\n",
    "print(\"# Anc_Euro: %i populations\" % len(a12))\n",
    "print(\"# Distal sources: %i populations\" % len(distal))"
   ]
  },
  {
   "cell_type": "code",
   "execution_count": 3,
   "metadata": {},
   "outputs": [],
   "source": [
    "def qpAdm_run(leftpops, rightpops, output_file, \n",
    "              input_folder = \"./eigenstrat/combined/\", \n",
    "              input_file=\"punic0.v43.geno\",\n",
    "              par_file_folder = \"./parfiles/\", \n",
    "              input_ind_suff=\"_mod1\", \n",
    "              output_folder =\"./output/qpAdm/\", \n",
    "              path_bin_qpAdm = \"/n/groups/reich/hringbauer/o2bin/qpAdm\",\n",
    "              all_snps=False):\n",
    "    \"\"\"Run qpAdm. Write temporary parfile and run the analysis\n",
    "    leftpops: List of left populations\n",
    "    rightpops: List of right populations\n",
    "    input_folder: Where to find the input files\n",
    "    par_file_folder: Folder of the parameterfile\n",
    "    input_file: The name of the input file\n",
    "    input_ind_suff: Suffix of .ind file. To allow modified populations\n",
    "    input_ind: name of the input .ind file. If given - write over default\"\"\"\n",
    "    \n",
    "    parfile_path = par_file_folder + \"parfile_qpAdm\"\n",
    "    left_path, right_path = par_file_folder + \"left\", par_file_folder + \"right\"\n",
    "    \n",
    "    ### Create the parfile:\n",
    "    with open(parfile_path, 'w') as f:\n",
    "        f.write(\"%s\\n\" % (\"DIR: \" + input_folder))\n",
    "        f.write(\"%s\\n\" % (\"S1: \" + input_file))\n",
    "        \n",
    "        indline = \"indivname: DIR/S1\" + input_ind_suff + \".ind\"\n",
    "        f.write(\"%s\\n\" % indline)\n",
    "        f.write(\"%s\\n\" % \"snpname: DIR/S1.snp\")\n",
    "        f.write(\"%s\\n\" % \"genotypename: DIR/S1.geno\")\n",
    "        f.write(\"%s\\n\" % (\"popleft: \" + left_path))\n",
    "        f.write(\"%s\\n\" % (\"popright: \" + right_path))\n",
    "        f.write(\"%s\\n\" % \"details: YES\")   \n",
    "        if all_snps==True:\n",
    "            f.write(\"%s\\n\" % \"allsnps: YES\")\n",
    "    \n",
    "    ### Write leftpops rightpops:       \n",
    "    with open(left_path, 'w') as f:\n",
    "        f.write(\"\\n\".join(leftpops))\n",
    "        \n",
    "    with open(right_path, 'w') as f:\n",
    "        f.write(\"\\n\".join(rightpops))\n",
    "      \n",
    "    ### Run qpAdm\n",
    "    start = time()\n",
    "    output_path = output_folder + output_file\n",
    "    !$path_bin_qpAdm -p $parfile_path > $output_path\n",
    "    end = time()\n",
    "    print(\"Runtime: %2f\" % (end - start))\n",
    "    return 0\n",
    "\n",
    "\n",
    "def load_iids_from_indfile(path_ind, string, \n",
    "                           col=\"clst\", col_iid=\"iid\"):\n",
    "    \"\"\"Load IIDs from Ind File\n",
    "    Return List of IIDs\"\"\"\n",
    "    df_ind = pd.read_csv(path_ind, delim_whitespace=True, header=None)\n",
    "    df_ind.columns=[\"iid\", \"sex\",\"clst\"]\n",
    "    idx = df_ind[col].str.contains(string)\n",
    "    ls = df_ind[idx][col_iid].values\n",
    "    return ls"
   ]
  },
  {
   "cell_type": "markdown",
   "metadata": {},
   "source": [
    "### Test distal Modelling Run for single Individual"
   ]
  },
  {
   "cell_type": "code",
   "execution_count": 5,
   "metadata": {},
   "outputs": [
    {
     "name": "stdout",
     "output_type": "stream",
     "text": [
      "^C\n",
      "Runtime: 4.866229\n",
      "CPU times: user 99.4 ms, sys: 20.4 ms, total: 120 ms\n",
      "Wall time: 4.95 s\n"
     ]
    },
    {
     "data": {
      "text/plain": [
       "0"
      ]
     },
     "execution_count": 5,
     "metadata": {},
     "output_type": "execute_result"
    }
   ],
   "source": [
    "%%time\n",
    "#iid = \"I12433\"  # The Iron Age African\n",
    "#iid = \"I11896\"  # The old African one\n",
    "#iid = \"I18400\"   # Steppe 1  # The Sardinian Outlier\n",
    "# Iron Age Nigeria iid = \"I15940\"\n",
    "#iid = \"I18399\"\n",
    "iid = \"I12844\"  # The Sicilian \"inbred individual\"\n",
    "\n",
    "#sources = [\"Anatolia_N\", \"WHG\", \"Steppe_EMBA\", \"Israel_MLBA_Canaanite\", \"Morocco_EN\"]\n",
    "sources = [\"Anatolia_N\", \"WHG\", \"Steppe_EMBA\", \"Israel_MLBA_Canaanite\", \"I12433\"]\n",
    "sources = [\"Israel_MLBA_Canaanite\", \"I12433\"]\n",
    "#\"Steppe_EMBA\"  \"WHG\" \"Anatolia_N\", \"Steppe_EMBA\", \n",
    "\n",
    "add_out = [\"Mycenaean\", \"Anatolia_N\", \"Steppe_EMBA\"]\n",
    "leftpops = [iid] + sources\n",
    "\n",
    "qpAdm_run(leftpops = leftpops, \n",
    "          rightpops = a12+add_out, \n",
    "          output_file = \".\".join(leftpops) + \".log\", \n",
    "          input_folder = \"./eigenstrat/combined/\", \n",
    "          input_file = \"punic1.v43\",\n",
    "          par_file_folder = \"./parfiles/\", \n",
    "          input_ind_suff = \"_mod1\", \n",
    "          output_folder = \"./output/qpAdm/diverse/\", \n",
    "          path_bin_qpAdm = \"/n/groups/reich/hringbauer/o2bin/qpAdm\",\n",
    "          all_snps=True)"
   ]
  },
  {
   "cell_type": "code",
   "execution_count": 27,
   "metadata": {},
   "outputs": [
    {
     "name": "stdout",
     "output_type": "stream",
     "text": [
      "Finished run!\n"
     ]
    }
   ],
   "source": [
    "print(\"Finished run!\")"
   ]
  },
  {
   "cell_type": "markdown",
   "metadata": {},
   "source": [
    "### Run several Individuals"
   ]
  },
  {
   "cell_type": "markdown",
   "metadata": {},
   "source": [
    "# Run distal Models"
   ]
  },
  {
   "cell_type": "code",
   "execution_count": 4,
   "metadata": {},
   "outputs": [
    {
     "name": "stdout",
     "output_type": "stream",
     "text": [
      "Will run 4 Individuals\n",
      "Running Individual I13140\n",
      "Runtime: 75.193629\n",
      "Running Individual I13125\n",
      "Runtime: 73.936484\n",
      "Running Individual I13128\n",
      "Runtime: 73.976746\n",
      "Running Individual I13142\n",
      "Runtime: 73.878589\n"
     ]
    }
   ],
   "source": [
    "### Load the individual IIDs\n",
    "path_ind = \"./eigenstrat/combined/punic1.v43.ind\"\n",
    "outfolder=\"./output/qpAdm/5wayAll/\"\n",
    "\n",
    "pops = [\"Iberia_Tartessian\", \"Iberia_Iberian\", \"Iberia_Celtiberian\", \"Nuragic\", \n",
    "        \"Sicily_Phoenician\", \"Sicily_IA_Polizzello\"]\n",
    "pops = [\"Sicani\"]\n",
    "all_iids = [load_iids_from_indfile(path_ind=path_ind, \n",
    "                        string=pop) for pop in pops]\n",
    "all_iids = np.concatenate(all_iids)\n",
    "#all_iids = [\"I4246\"]\n",
    "\n",
    "pops_tar = []\n",
    "pops_ib = []\n",
    "pops_clt =  []\n",
    "\n",
    "sources = [\"Anatolia_N\", \"WHG\", \"Steppe_EMBA\",\n",
    "           \"Iran_N\", \"Morocco_EN\"]\n",
    "add_out = []\n",
    "\n",
    "print(f\"Will run {len(all_iids)} Individuals\")\n",
    "for iid in all_iids[:]:\n",
    "    print(f\"Running Individual {iid}\")\n",
    "    leftpops = [iid] + sources\n",
    "    qpAdm_run(leftpops = leftpops, \n",
    "          rightpops = a12 + add_out, \n",
    "          output_file =  str(iid) + \".5way.log\", \n",
    "          input_folder = \"./eigenstrat/combined/\", \n",
    "          input_file = \"punic1.v43\",\n",
    "          par_file_folder = \"./parfiles/\", \n",
    "          input_ind_suff = \"_mod_ib\", \n",
    "          output_folder = outfolder, \n",
    "          path_bin_qpAdm = \"/n/groups/reich/hringbauer/o2bin/qpAdm\",\n",
    "          all_snps = True)"
   ]
  },
  {
   "cell_type": "markdown",
   "metadata": {},
   "source": [
    "## Run models with joined output name"
   ]
  },
  {
   "cell_type": "code",
   "execution_count": 8,
   "metadata": {},
   "outputs": [
    {
     "name": "stdout",
     "output_type": "stream",
     "text": [
      "Runtime: 52.080487\n",
      "Runtime: 52.311518\n",
      "Runtime: 52.035265\n",
      "Runtime: 52.738554\n"
     ]
    }
   ],
   "source": [
    "### Load the individual IIDs\n",
    "path_ind = \"./eigenstrat/combined/punic1.v43.ind\"\n",
    "\n",
    "pops = [\"Sardinia\", \"Algeria_N\", \"Punic\"]\n",
    "all_iids = [load_iids_from_indfile(path_ind=path_ind, \n",
    "                        string=pop) for pop in pops]\n",
    "all_iids = np.concatenate(all_iids)\n",
    "\n",
    "all_iids = [\"I18195\", \"MSR002\", \"I4798\", \"I12666\"]\n",
    "\n",
    "sources = [\"Anatolia_N\", \"WHG\", \"Steppe_EMBA\", \n",
    "           \"I12433\", \"Israel_MLBA_Canaanite\"]\n",
    "add_out = [\"Iran_N\"]\n",
    "\n",
    "for iid in all_iids:\n",
    "    leftpops = [iid] + sources\n",
    "    qpAdm_run(leftpops = leftpops, \n",
    "          rightpops = a12 + add_out, \n",
    "          output_file =  \".\".join(leftpops) + \".log\", \n",
    "          input_folder = \"./eigenstrat/combined/\", \n",
    "          input_file = \"punic1.v43\",\n",
    "          par_file_folder = \"./parfiles/\", \n",
    "          input_ind_suff = \"_mod_ib\", \n",
    "          output_folder = \"./output/qpAdm/5way_Canaanite/\", \n",
    "          path_bin_qpAdm = \"/n/groups/reich/hringbauer/o2bin/qpAdm\",\n",
    "          all_snps = True)"
   ]
  },
  {
   "cell_type": "markdown",
   "metadata": {},
   "source": [
    "## Run 2/3-way Models for African - European Admixture"
   ]
  },
  {
   "cell_type": "code",
   "execution_count": 6,
   "metadata": {},
   "outputs": [
    {
     "name": "stdout",
     "output_type": "stream",
     "text": [
      "Doing Individual: MSR002\n",
      "Runtime: 32.329889\n",
      "Doing Individual: MSR003\n",
      "Runtime: 32.197911\n",
      "Doing Individual: ORC002\n",
      "Runtime: 32.199739\n",
      "Doing Individual: VIL004\n",
      "Runtime: 32.198779\n",
      "Doing Individual: VIL006\n",
      "Runtime: 32.501195\n",
      "Doing Individual: VIL007\n",
      "Runtime: 32.166153\n",
      "Doing Individual: VIL009\n",
      "Runtime: 32.191764\n",
      "Doing Individual: VIL010\n",
      "Runtime: 32.105941\n",
      "Doing Individual: VIL011\n",
      "Runtime: 32.232729\n"
     ]
    }
   ],
   "source": [
    "### Load the individual IIDs\n",
    "pops = [\"Iberia_North_BA_Africa_all\", \"Algeria_N\", \n",
    "        \"Morocco_LN\", \"Punic_oAfrican\", \"Sardinia\"]\n",
    "\n",
    "path_ind = \"./eigenstrat/combined/punic1.v43.ind\"\n",
    "\n",
    "all_iids = [load_iids_from_indfile(path_ind=path_ind, \n",
    "                        string=pop) for pop in pops]\n",
    "all_iids = np.concatenate(all_iids)\n",
    "#all_iids = [\"I4246\"] #The Iberian Outlier\n",
    "\n",
    "for iid in all_iids:\n",
    "    print(f\"Doing Individual: {iid}\")\n",
    "    sources = [\"Anatolia_N\", \"WHG\", \"Morocco_EN\"]\n",
    "    add_out = [\"Iran_N\"]\n",
    "    leftpops = [iid] + sources\n",
    "\n",
    "    qpAdm_run(leftpops = leftpops, \n",
    "              rightpops = a12+add_out, \n",
    "              output_file = \".\".join(leftpops) + \".log\", \n",
    "              input_folder = \"./eigenstrat/combined/\", \n",
    "              input_file = \"punic0.v43\",\n",
    "              par_file_folder = \"./parfiles/\", \n",
    "              input_ind_suff = \"_mod1\", \n",
    "              output_folder = \"./output/qpAdm/3wayNAf/\", \n",
    "              path_bin_qpAdm = \"/n/groups/reich/hringbauer/o2bin/qpAdm\",\n",
    "              all_snps=True)"
   ]
  },
  {
   "cell_type": "markdown",
   "metadata": {},
   "source": [
    "# Run Models with Israle_MLBA_Canaaninte as Outgroup\n",
    "Add as proxy for North African ancestry:\n",
    "Morocco_EN, Algeria_N (I12433) or Iberian Outlier (I4246)"
   ]
  },
  {
   "cell_type": "code",
   "execution_count": null,
   "metadata": {},
   "outputs": [
    {
     "name": "stdout",
     "output_type": "stream",
     "text": [
      "Doing Individual: I13390\n"
     ]
    }
   ],
   "source": [
    "### Load the individual IIDs\n",
    "pops = [\"Iberia_Punic\", \"Sardinia\", \"Iberia_North_BA_Africa_all\",\n",
    "        \"Morocco_LN\", \"Sicily_Phoenician\", \"Ibiza\",\n",
    "        \"Celtiberian\", \"Iberia_Iberian\", \n",
    "        \"Iberia_Tartessian\", \"Nuragic\"]\n",
    "\n",
    "pops = [\"Sicily_IA_Polizzello\"]\n",
    "\n",
    "path_ind = \"./eigenstrat/combined/punic1.v43.ind\"\n",
    "\n",
    "all_iids = [load_iids_from_indfile(path_ind=path_ind, \n",
    "                        string=pop) for pop in pops]\n",
    "\n",
    "all_iids = np.concatenate(all_iids)[:1]\n",
    "\n",
    "for iid in all_iids:\n",
    "    print(f\"Doing Individual: {iid}\")\n",
    "    sources = [\"Anatolia_N\", \"WHG\", \"Steppe_EMBA\", \"I12433\"]\n",
    "    add_out = [\"Israel_MLBA_Canaanite\"]\n",
    "    leftpops = [iid] + sources\n",
    "\n",
    "    qpAdm_run(leftpops = leftpops, \n",
    "              rightpops = a12 + add_out, \n",
    "              output_file = \".\".join(leftpops) + \".log\", \n",
    "              input_folder = \"./eigenstrat/combined/\", \n",
    "              input_file = \"punic1.v43\",\n",
    "              par_file_folder = \"./parfiles/\", \n",
    "              input_ind_suff = \"_mod_ib\",   # _mod1\n",
    "              output_folder = \"./output/qpAdm/4way_p_Canaanite/\", \n",
    "              path_bin_qpAdm = \"/n/groups/reich/hringbauer/o2bin/qpAdm\",\n",
    "              all_snps=True)"
   ]
  },
  {
   "cell_type": "markdown",
   "metadata": {},
   "source": [
    "# Run 4-way Source Models including Myc - with Israle_MLBA_Canaaninte as Outgroup\n",
    "Add as proxy for North African ancestry:\n",
    "Algeria_N (I12433)"
   ]
  },
  {
   "cell_type": "code",
   "execution_count": null,
   "metadata": {},
   "outputs": [],
   "source": [
    "### Load the individual IIDs\n",
    "pops = [\"Iberia_Punic\", \"Sardinia\", \"Iberia_North_BA_Africa_all\",\n",
    "        \"Morocco_LN\", \"Sicily_Phoenician\", \"Ibiza\"]\n",
    "\n",
    "path_ind = \"./eigenstrat/combined/punic1.v43.ind\"\n",
    "\n",
    "all_iids = [load_iids_from_indfile(path_ind=path_ind, \n",
    "                        string=pop) for pop in pops]\n",
    "all_iids = np.concatenate(all_iids)\n",
    "#all_iids = [\"I7253\"] # Do a single Individual\n",
    "\n",
    "for iid in all_iids:\n",
    "    print(f\"Doing Individual: {iid}\")\n",
    "    sources = [\"Anatolia_N\", \"WHG\", \"Steppe_EMBA\", \"I12433\"]\n",
    "    add_out = [\"Israel_MLBA_Canaanite\"]\n",
    "    leftpops = [iid] + sources\n",
    "\n",
    "    qpAdm_run(leftpops = leftpops, \n",
    "              rightpops = a12 + add_out, \n",
    "              output_file = \".\".join(leftpops) + \".log\", \n",
    "              input_folder = \"./eigenstrat/combined/\", \n",
    "              input_file = \"punic1.v43\",\n",
    "              par_file_folder = \"./parfiles/\", \n",
    "              input_ind_suff = \"_mod1\", \n",
    "              output_folder = \"./output/qpAdm/4way_p_Canaanite/\", \n",
    "              path_bin_qpAdm = \"/n/groups/reich/hringbauer/o2bin/qpAdm\",\n",
    "              all_snps=True)"
   ]
  },
  {
   "cell_type": "markdown",
   "metadata": {},
   "source": [
    "# Test Continutity to Mycenean Phoenician Group"
   ]
  },
  {
   "cell_type": "code",
   "execution_count": 12,
   "metadata": {},
   "outputs": [
    {
     "name": "stdout",
     "output_type": "stream",
     "text": [
      "Doing Individual: MS10614.SG\n",
      "Runtime: 33.257306\n"
     ]
    }
   ],
   "source": [
    "### Load the individual IIDs\n",
    "\n",
    "#all_iids = [\"I18199\", \"I18201\", \"I18203\", \"I18202\", \"I18189\", \"I18187\"]\n",
    "#all_iids = [\"MSR002\", \"MSR003\"]\n",
    "all_iids = [\"MS10614.SG\"]\n",
    "\n",
    "for iid in all_iids:\n",
    "    print(f\"Doing Individual: {iid}\")\n",
    "    sources = [\"Mycenaean\"]\n",
    "    add_out = [\"Israel_MLBA_Canaanite\", \"I12433\"]\n",
    "    leftpops = [iid] + sources\n",
    "\n",
    "    qpAdm_run(leftpops = leftpops, \n",
    "              rightpops = a12 + add_out, \n",
    "              output_file = \".\".join(leftpops) + \".log\", \n",
    "              input_folder = \"./eigenstrat/combined/\", \n",
    "              input_file = \"punic1.v43\",\n",
    "              par_file_folder = \"./parfiles/\", \n",
    "              input_ind_suff = \"_mod1\", \n",
    "              output_folder = \"./output/qpAdm/t774_cont/\", \n",
    "              path_bin_qpAdm = \"/n/groups/reich/hringbauer/o2bin/qpAdm\",\n",
    "              all_snps=True)"
   ]
  },
  {
   "cell_type": "markdown",
   "metadata": {},
   "source": [
    "# Run three-way models for Empuries individuals"
   ]
  },
  {
   "cell_type": "code",
   "execution_count": null,
   "metadata": {},
   "outputs": [],
   "source": [
    "pops = [\"Iberia_Greek\", \"Iberia_Hellenistic\"]\n",
    "\n",
    "path_ind = \"./eigenstrat/combined/punic1.v43.ind\"\n",
    "\n",
    "all_iids = [load_iids_from_indfile(path_ind=path_ind, \n",
    "                        string=pop) for pop in pops]\n",
    "all_iids = np.concatenate(all_iids)\n",
    "\n",
    "print(f\"Will run {len(all_iids)} Individuals\")\n",
    "\n",
    "for iid in all_iids:\n",
    "    print(f\"Doing Individual: {iid}\")\n",
    "    sources = [\"Iberia_BA\", \"Greece_BA_Mycenaean\", \"I12433\"]\n",
    "    add_out = [\"Israel_MLBA_Canaanite\"]\n",
    "    leftpops = [iid] + sources\n",
    "\n",
    "    qpAdm_run(leftpops = leftpops, \n",
    "              rightpops = a12 + add_out, \n",
    "              output_file = \".\".join(leftpops) + \".log\", \n",
    "              input_folder = \"./eigenstrat/combined/\", \n",
    "              input_file = \"punic1.v43\",\n",
    "              par_file_folder = \"./parfiles/\", \n",
    "              input_ind_suff = \"_mod1\", \n",
    "              output_folder = \"./output/qpAdm/Empuries_3way/\", \n",
    "              path_bin_qpAdm = \"/n/groups/reich/hringbauer/o2bin/qpAdm\",\n",
    "              all_snps=True)"
   ]
  },
  {
   "cell_type": "code",
   "execution_count": 24,
   "metadata": {},
   "outputs": [
    {
     "name": "stdout",
     "output_type": "stream",
     "text": [
      "test\n"
     ]
    }
   ],
   "source": [
    "print(\"test\")"
   ]
  },
  {
   "cell_type": "markdown",
   "metadata": {},
   "source": [
    "# Do 3-way distal models for Iberan Individuals (EEF, Steppe, WHG)"
   ]
  },
  {
   "cell_type": "code",
   "execution_count": 18,
   "metadata": {},
   "outputs": [
    {
     "name": "stdout",
     "output_type": "stream",
     "text": [
      "Will run 1 Individuals\n",
      "Doing Individual: I8339\n",
      "Runtime: 51.068431\n"
     ]
    }
   ],
   "source": [
    "pops = [\"Iberia_BA\", \"Iberia_IA\", \"Iberia_Tartessian\", \n",
    "        \"Iberia_Iberian\", \"Iberia_Celtiberian\"]\n",
    "path_ind = \"./eigenstrat/combined/punic1.v43.ind\"\n",
    "\n",
    "\n",
    "all_iids = [load_iids_from_indfile(path_ind=path_ind, \n",
    "                        string=pop) for pop in pops]\n",
    "all_iids = np.concatenate(all_iids)\n",
    "#all_iids = [\"I18187\"] # Do Villaricos Local individual\n",
    "all_iids = [\"I8339\", \"I18203\", \"I8206\", \"I8207\"] # Empuries Individuals\n",
    "\n",
    "print(f\"Will run {len(all_iids)} Individuals\")\n",
    "\n",
    "for iid in all_iids[:]:\n",
    "    print(f\"Doing Individual: {iid}\")\n",
    "    sources = [\"Anatolia_N\", \"WHG\", \"Steppe_EMBA\"]\n",
    "    add_out = []\n",
    "    leftpops = [iid] + sources\n",
    "\n",
    "    qpAdm_run(leftpops = leftpops, \n",
    "              rightpops = a12 + add_out, \n",
    "              output_file = \".\".join(leftpops) + \".log\", \n",
    "              input_folder = \"./eigenstrat/combined/\", \n",
    "              input_file = \"punic1.v43\",\n",
    "              par_file_folder = \"./parfiles/\", \n",
    "              input_ind_suff = \"_mod_ib\", \n",
    "              output_folder = \"./output/qpAdm/3wayIberia/\", \n",
    "              path_bin_qpAdm = \"/n/groups/reich/hringbauer/o2bin/qpAdm\",\n",
    "              all_snps=True)"
   ]
  },
  {
   "cell_type": "markdown",
   "metadata": {},
   "source": [
    "# Explore the Ind File (semi Area 51)"
   ]
  },
  {
   "cell_type": "code",
   "execution_count": 15,
   "metadata": {},
   "outputs": [],
   "source": [
    "df_ind = pd.read_csv(\"./eigenstrat/combined/punic1.v43_mod_ib.ind\", delim_whitespace=True, header=None)\n",
    "df_ind.columns=[\"iid\", \"sex\", \"clst\"]"
   ]
  },
  {
   "cell_type": "code",
   "execution_count": 13,
   "metadata": {},
   "outputs": [
    {
     "data": {
      "text/plain": [
       "Europe_LNBA                              78\n",
       "Iberia_BA                                42\n",
       "Europe_EN                                29\n",
       "Europe_MNChL                             28\n",
       "Israel_MLBA_Canaanite                    26\n",
       "                                         ..\n",
       "Iran_IA                                   1\n",
       "Israel_MLBA_Canaanite_o_brother.I2200     1\n",
       "Israel_IA_IIA_Tevet                       1\n",
       "Crete_Armenoi                             1\n",
       "Villabruna                                1\n",
       "Name: clst, Length: 132, dtype: int64"
      ]
     },
     "execution_count": 13,
     "metadata": {},
     "output_type": "execute_result"
    }
   ],
   "source": [
    "df_ind[\"clst\"].value_counts()"
   ]
  },
  {
   "cell_type": "code",
   "execution_count": 14,
   "metadata": {},
   "outputs": [
    {
     "data": {
      "text/plain": [
       "Series([], Name: clst, dtype: int64)"
      ]
     },
     "execution_count": 14,
     "metadata": {},
     "output_type": "execute_result"
    }
   ],
   "source": [
    "df_ind[df_ind[\"clst\"].str.contains(\"Polizello\")]['clst'].value_counts()"
   ]
  },
  {
   "cell_type": "code",
   "execution_count": 16,
   "metadata": {},
   "outputs": [],
   "source": [
    "df_ind = pd.read_csv(\"./eigenstrat/combined/punic1.v43.ind\", delim_whitespace=True, header=None)\n",
    "df_ind.columns=[\"iid\", \"sex\",\"clst\"]"
   ]
  },
  {
   "cell_type": "code",
   "execution_count": 17,
   "metadata": {},
   "outputs": [
    {
     "data": {
      "text/html": [
       "<div>\n",
       "<style scoped>\n",
       "    .dataframe tbody tr th:only-of-type {\n",
       "        vertical-align: middle;\n",
       "    }\n",
       "\n",
       "    .dataframe tbody tr th {\n",
       "        vertical-align: top;\n",
       "    }\n",
       "\n",
       "    .dataframe thead th {\n",
       "        text-align: right;\n",
       "    }\n",
       "</style>\n",
       "<table border=\"1\" class=\"dataframe\">\n",
       "  <thead>\n",
       "    <tr style=\"text-align: right;\">\n",
       "      <th></th>\n",
       "      <th>iid</th>\n",
       "      <th>sex</th>\n",
       "      <th>clst</th>\n",
       "    </tr>\n",
       "  </thead>\n",
       "  <tbody>\n",
       "    <tr>\n",
       "      <th>156</th>\n",
       "      <td>I13390</td>\n",
       "      <td>F</td>\n",
       "      <td>Italy_Sicily_IA_Polizzello</td>\n",
       "    </tr>\n",
       "    <tr>\n",
       "      <th>157</th>\n",
       "      <td>I13381</td>\n",
       "      <td>F</td>\n",
       "      <td>Italy_Sicily_IA_Polizzello</td>\n",
       "    </tr>\n",
       "    <tr>\n",
       "      <th>158</th>\n",
       "      <td>I13376</td>\n",
       "      <td>F</td>\n",
       "      <td>Italy_Sicily_IA_Polizzello</td>\n",
       "    </tr>\n",
       "    <tr>\n",
       "      <th>159</th>\n",
       "      <td>I13395</td>\n",
       "      <td>F</td>\n",
       "      <td>Italy_Sicily_IA_Polizzello</td>\n",
       "    </tr>\n",
       "    <tr>\n",
       "      <th>160</th>\n",
       "      <td>I13382</td>\n",
       "      <td>M</td>\n",
       "      <td>Italy_Sicily_IA_Polizzello</td>\n",
       "    </tr>\n",
       "    <tr>\n",
       "      <th>161</th>\n",
       "      <td>I13377</td>\n",
       "      <td>F</td>\n",
       "      <td>Italy_Sicily_IA_Polizzello</td>\n",
       "    </tr>\n",
       "    <tr>\n",
       "      <th>162</th>\n",
       "      <td>I13389</td>\n",
       "      <td>M</td>\n",
       "      <td>Italy_Sicily_IA_Polizzello</td>\n",
       "    </tr>\n",
       "    <tr>\n",
       "      <th>163</th>\n",
       "      <td>I13383</td>\n",
       "      <td>M</td>\n",
       "      <td>Italy_Sicily_IA_Polizzello</td>\n",
       "    </tr>\n",
       "    <tr>\n",
       "      <th>164</th>\n",
       "      <td>I13393</td>\n",
       "      <td>F</td>\n",
       "      <td>Italy_Sicily_IA_Polizzello</td>\n",
       "    </tr>\n",
       "    <tr>\n",
       "      <th>165</th>\n",
       "      <td>I13384</td>\n",
       "      <td>F</td>\n",
       "      <td>Italy_Sicily_IA_Polizzello</td>\n",
       "    </tr>\n",
       "    <tr>\n",
       "      <th>166</th>\n",
       "      <td>I13392</td>\n",
       "      <td>F</td>\n",
       "      <td>Italy_Sicily_IA_Polizzello</td>\n",
       "    </tr>\n",
       "    <tr>\n",
       "      <th>167</th>\n",
       "      <td>I13380</td>\n",
       "      <td>F</td>\n",
       "      <td>Italy_Sicily_IA_Polizzello</td>\n",
       "    </tr>\n",
       "    <tr>\n",
       "      <th>168</th>\n",
       "      <td>I13387</td>\n",
       "      <td>F</td>\n",
       "      <td>Italy_Sicily_IA_Polizzello</td>\n",
       "    </tr>\n",
       "    <tr>\n",
       "      <th>169</th>\n",
       "      <td>I13386</td>\n",
       "      <td>M</td>\n",
       "      <td>Italy_Sicily_IA_Polizzello</td>\n",
       "    </tr>\n",
       "    <tr>\n",
       "      <th>170</th>\n",
       "      <td>I13385</td>\n",
       "      <td>M</td>\n",
       "      <td>Italy_Sicily_IA_Polizzello</td>\n",
       "    </tr>\n",
       "    <tr>\n",
       "      <th>171</th>\n",
       "      <td>I13379</td>\n",
       "      <td>F</td>\n",
       "      <td>Italy_Sicily_IA_Polizzello</td>\n",
       "    </tr>\n",
       "    <tr>\n",
       "      <th>172</th>\n",
       "      <td>I13378</td>\n",
       "      <td>M</td>\n",
       "      <td>Italy_Sicily_IA_Polizzello</td>\n",
       "    </tr>\n",
       "    <tr>\n",
       "      <th>173</th>\n",
       "      <td>I13394</td>\n",
       "      <td>F</td>\n",
       "      <td>Italy_Sicily_IA_Polizzello</td>\n",
       "    </tr>\n",
       "    <tr>\n",
       "      <th>174</th>\n",
       "      <td>I13391</td>\n",
       "      <td>M</td>\n",
       "      <td>Italy_Sicily_IA_Polizzello</td>\n",
       "    </tr>\n",
       "  </tbody>\n",
       "</table>\n",
       "</div>"
      ],
      "text/plain": [
       "        iid sex                        clst\n",
       "156  I13390   F  Italy_Sicily_IA_Polizzello\n",
       "157  I13381   F  Italy_Sicily_IA_Polizzello\n",
       "158  I13376   F  Italy_Sicily_IA_Polizzello\n",
       "159  I13395   F  Italy_Sicily_IA_Polizzello\n",
       "160  I13382   M  Italy_Sicily_IA_Polizzello\n",
       "161  I13377   F  Italy_Sicily_IA_Polizzello\n",
       "162  I13389   M  Italy_Sicily_IA_Polizzello\n",
       "163  I13383   M  Italy_Sicily_IA_Polizzello\n",
       "164  I13393   F  Italy_Sicily_IA_Polizzello\n",
       "165  I13384   F  Italy_Sicily_IA_Polizzello\n",
       "166  I13392   F  Italy_Sicily_IA_Polizzello\n",
       "167  I13380   F  Italy_Sicily_IA_Polizzello\n",
       "168  I13387   F  Italy_Sicily_IA_Polizzello\n",
       "169  I13386   M  Italy_Sicily_IA_Polizzello\n",
       "170  I13385   M  Italy_Sicily_IA_Polizzello\n",
       "171  I13379   F  Italy_Sicily_IA_Polizzello\n",
       "172  I13378   M  Italy_Sicily_IA_Polizzello\n",
       "173  I13394   F  Italy_Sicily_IA_Polizzello\n",
       "174  I13391   M  Italy_Sicily_IA_Polizzello"
      ]
     },
     "execution_count": 17,
     "metadata": {},
     "output_type": "execute_result"
    }
   ],
   "source": [
    "df_ind[df_ind[\"clst\"].str.contains(\"Poliz\")]"
   ]
  },
  {
   "cell_type": "markdown",
   "metadata": {},
   "source": [
    "# Area 51"
   ]
  },
  {
   "cell_type": "code",
   "execution_count": null,
   "metadata": {},
   "outputs": [],
   "source": []
  }
 ],
 "metadata": {
  "kernelspec": {
   "display_name": "Python 3",
   "language": "python",
   "name": "python3"
  },
  "language_info": {
   "codemirror_mode": {
    "name": "ipython",
    "version": 3
   },
   "file_extension": ".py",
   "mimetype": "text/x-python",
   "name": "python",
   "nbconvert_exporter": "python",
   "pygments_lexer": "ipython3",
   "version": "3.7.4"
  }
 },
 "nbformat": 4,
 "nbformat_minor": 4
}
