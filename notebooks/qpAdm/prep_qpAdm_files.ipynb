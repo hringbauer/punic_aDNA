{
 "cells": [
  {
   "cell_type": "markdown",
   "metadata": {},
   "source": [
    "# Prepare Files for qpAdm"
   ]
  },
  {
   "cell_type": "code",
   "execution_count": 64,
   "metadata": {},
   "outputs": [
    {
     "name": "stdout",
     "output_type": "stream",
     "text": [
      "compute-a-16-166.o2.rc.hms.harvard.edu\n",
      "HSM Computational partition detected.\n",
      "/n/groups/reich/hringbauer/git/punic_aDNA\n",
      "CPU Count: 32\n",
      "3.7.4 (default, Sep 11 2019, 11:24:51) \n",
      "[GCC 6.2.0]\n"
     ]
    }
   ],
   "source": [
    "import numpy as np\n",
    "import os  # For Saving to Folder\n",
    "import pandas as pd\n",
    "import matplotlib.pyplot as plt\n",
    "\n",
    "import socket\n",
    "import os as os\n",
    "import sys as sys\n",
    "import multiprocessing as mp\n",
    "import itertools as it\n",
    "from time import time\n",
    "\n",
    "# For Arial Font\n",
    "from matplotlib import rcParams\n",
    "rcParams['font.family'] = 'sans-serif'   # Set the defaul\n",
    "# Make sure to have the font installed (it is on cluster for Harald)\n",
    "rcParams['font.sans-serif'] = ['Arial']\n",
    "\n",
    "socket_name = socket.gethostname()\n",
    "print(socket_name)\n",
    "\n",
    "if socket_name.startswith(\"compute-\"):\n",
    "    print(\"HSM Computational partition detected.\")\n",
    "    path = \"/n/groups/reich/hringbauer/git/punic_aDNA/\"  # The Path on Midway Cluster\n",
    "else:\n",
    "    raise RuntimeWarning(\"Not compatible machine. Check!!\")\n",
    "\n",
    "os.chdir(path)  # Set the right Path (in line with Atom default)\n",
    "# Show the current working directory. Should be HAPSBURG/Notebooks/ParallelRuns\n",
    "print(os.getcwd())\n",
    "print(f\"CPU Count: {mp.cpu_count()}\")\n",
    "print(sys.version)"
   ]
  },
  {
   "cell_type": "markdown",
   "metadata": {},
   "source": [
    "# Key Definitions"
   ]
  },
  {
   "cell_type": "code",
   "execution_count": 65,
   "metadata": {},
   "outputs": [],
   "source": [
    "base_path = \"/n/groups/reich/DAVID/V42/V42.3/v42.3\"\n",
    "ind_path = base_path + \".ind\""
   ]
  },
  {
   "cell_type": "markdown",
   "metadata": {},
   "source": [
    "# Save Population File (what to pull)"
   ]
  },
  {
   "cell_type": "code",
   "execution_count": 66,
   "metadata": {},
   "outputs": [],
   "source": [
    "def return_pops(df, string, col=\"clst\", \n",
    "                output=False):\n",
    "    \"\"\"Return list of clusters that contain string.\"\"\"\n",
    "    df1 = df[df[col].str.contains(string)]\n",
    "    if output:\n",
    "        print(df1[col].value_counts())\n",
    "    clsts = list(set(df1[col].values))\n",
    "\n",
    "    return clsts\n",
    "\n",
    "def run_convertf(path_convertf = \"./o2bin/convertf\", parfile = \"./explore_ntbk/parfiles/convertf.keep.par\"):\n",
    "    \"\"\"Runs the Downsampling\"\"\"\n",
    "    ! $path_convertf -p $parfile"
   ]
  },
  {
   "cell_type": "code",
   "execution_count": 67,
   "metadata": {},
   "outputs": [
    {
     "name": "stdout",
     "output_type": "stream",
     "text": [
      "Loaded 16667 Individuals\n"
     ]
    }
   ],
   "source": [
    "df_ind = pd.read_csv(ind_path, delim_whitespace=True, header=None)\n",
    "df_ind.columns=[\"iid\", \"sex\", \"clst\"]\n",
    "print(f\"Loaded {len(df_ind)} Individuals\")"
   ]
  },
  {
   "cell_type": "code",
   "execution_count": 68,
   "metadata": {},
   "outputs": [
    {
     "name": "stdout",
     "output_type": "stream",
     "text": [
      "Iberia_C                                  94\n",
      "Iberia_LN                                 51\n",
      "Iberia_BellBeaker                         44\n",
      "Iberia_BA                                 42\n",
      "Iberia_LN_C                               25\n",
      "                                          ..\n",
      "Iberia_Islamic_lc                          1\n",
      "Iberia_Tartessian_o_published_lc           1\n",
      "Iberia_NazariPeriod_Muslim_o_published     1\n",
      "Iberia_Muslim_o1_lc                        1\n",
      "Iberia_BA_1d.rel.I4561                     1\n",
      "Name: clst, Length: 195, dtype: int64\n"
     ]
    }
   ],
   "source": [
    "##############################################\n",
    "### Testing for single Populations Populations\n",
    "return_pops(df_ind, string=\"Iberia\", \n",
    "            output=True);"
   ]
  },
  {
   "cell_type": "code",
   "execution_count": 69,
   "metadata": {},
   "outputs": [],
   "source": [
    "pops = [\"Algeria\", \"Morocco\", \"Punic\", \"Phoenician\", \n",
    "        \"Canaanite\", \"Ashkelon\", \"Greek_Sicily\", \"Sicily_IA\",\n",
    "        \"Israel_IA\", \"Israel_EIA\", \"Israel_Persian\", \"Gibraltar\",\n",
    "        \"Iberia_North_BA_Africa_all\", \"Iberia_BellBeaker_o\", \"Iberia_Greek\",\n",
    "        \"Iberia_Hellenistic\", \"Iberia_Iberian\", \"Iberia_Celtiberian\",\n",
    "        \"Iberia_Tartessian\",\n",
    "        \"Nigeria_IA\", \"Nigeria_Medieval\", \"Italy_Sardinia_C_o\",\n",
    "        \"Italy_Sardinia_BA_Nuragic\", \"Iberia_IA\", \"Iberia_BA\", \"Greece_BA_Mycenaean\"]\n",
    "\n",
    "exclude_strings = [\"_lc\", \"contam\"]"
   ]
  },
  {
   "cell_type": "code",
   "execution_count": 70,
   "metadata": {},
   "outputs": [
    {
     "name": "stdout",
     "output_type": "stream",
     "text": [
      "Loaded 110 Populations\n",
      "After Exclusion 80\n"
     ]
    }
   ],
   "source": [
    "clsts = [return_pops(df_ind, string=pop, \n",
    "                     output=False) for pop in pops]\n",
    "\n",
    "clsts = [inner for ls in clsts for inner in ls]\n",
    "clsts = list(set(clsts)) # Filter to unique Elements\n",
    "print(f\"Loaded {len(clsts)} Populations\")\n",
    "\n",
    "### Exclude Strings\n",
    "for ex in exclude_strings:\n",
    "    clsts = [c for c in clsts if ex not in c]\n",
    "print(f\"After Exclusion {len(clsts)}\")"
   ]
  },
  {
   "cell_type": "markdown",
   "metadata": {},
   "source": [
    "# Save List of populations to keep"
   ]
  },
  {
   "cell_type": "code",
   "execution_count": 62,
   "metadata": {},
   "outputs": [],
   "source": [
    "#keep = np.array([\"Anatolia_N\", \"Iberia_HG\"])\n",
    "keep = np.array(clsts)\n",
    "path_keep = \"./parfiles/keep_pops\"\n",
    "np.savetxt(path_keep, keep, fmt=\"%s\")"
   ]
  },
  {
   "cell_type": "markdown",
   "metadata": {},
   "source": [
    "### Run convertf (with population list to keep)\n",
    "Additional parameters (such as position of output file) are coded into the parameter file"
   ]
  },
  {
   "cell_type": "code",
   "execution_count": null,
   "metadata": {},
   "outputs": [
    {
     "name": "stdout",
     "output_type": "stream",
     "text": [
      "parameter file: ./parfiles/convertf.keep.par\n",
      "BASE: /n/groups/reich/hringbauer\n",
      "DIR: explore_ntbk/v42/V42.3/v42.3\n",
      "OUT: git/punic_aDNA/eigenstrat/punic1.v43\n",
      "genotypename: /n/groups/reich/hringbauer/explore_ntbk/v42/V42.3/v42.3.geno\n",
      "snpname: /n/groups/reich/hringbauer/explore_ntbk/v42/V42.3/v42.3.snp\n",
      "indivname: /n/groups/reich/hringbauer/explore_ntbk/v42/V42.3/v42.3.ind\n",
      "genooutfilename: /n/groups/reich/hringbauer/git/punic_aDNA/eigenstrat/punic1.v43.geno\n",
      "snpoutfilename: /n/groups/reich/hringbauer/git/punic_aDNA/eigenstrat/punic1.v43.snp\n",
      "indoutfilename: /n/groups/reich/hringbauer/git/punic_aDNA/eigenstrat/punic1.v43.ind\n",
      "outputformat: PACKEDANCESTRYMAP\n",
      "hashcheck: YES\n",
      "poplistname: /n/groups/reich/hringbauer/git/punic_aDNA/parfiles/keep_pops\n",
      "## /n/groups/reich/hringbauer/o2bin/convertf version: 5711\n",
      "read 1073741824 bytes\n",
      "read 2147483648 bytes\n",
      "read 3221225472 bytes\n",
      "read 4294967296 bytes\n",
      "read 5137965171 bytes\n",
      "packed geno read OK\n"
     ]
    }
   ],
   "source": [
    "%%time\n",
    "run_convertf(path_convertf = \"/n/groups/reich/hringbauer/o2bin/convertf\", \n",
    "             parfile = \"./parfiles/convertf.keep.par\")"
   ]
  },
  {
   "cell_type": "markdown",
   "metadata": {},
   "source": [
    "## Merge in Lazaridis Ancients with mergeit (with population list to keep)"
   ]
  },
  {
   "cell_type": "code",
   "execution_count": 71,
   "metadata": {},
   "outputs": [],
   "source": [
    "bin_merge_it = \"/n/groups/reich/hringbauer/o2bin/mergeit\"\n",
    "parfile_path = \"./parfiles/parMergeAddAnc\""
   ]
  },
  {
   "cell_type": "code",
   "execution_count": 72,
   "metadata": {},
   "outputs": [
    {
     "name": "stdout",
     "output_type": "stream",
     "text": [
      "parameter file: ./parfiles/parMergeAddAnc\n",
      "BASE: /n/groups/reich/hringbauer/git/punic_aDNA\n",
      "S1: eigenstrat/punic1.v43\n",
      "S2: eigenstrat/additional/MinMyc\n",
      "OUT: eigenstrat/combined/punic1.v43\n",
      "geno1: /n/groups/reich/hringbauer/git/punic_aDNA/eigenstrat/punic1.v43.geno\n",
      "snp1: /n/groups/reich/hringbauer/git/punic_aDNA/eigenstrat/punic1.v43.snp\n",
      "ind1: /n/groups/reich/hringbauer/git/punic_aDNA/eigenstrat/punic1.v43.ind\n",
      "geno2: /n/groups/reich/hringbauer/git/punic_aDNA/eigenstrat/additional/MinMyc.geno\n",
      "snp2: /n/groups/reich/hringbauer/git/punic_aDNA/eigenstrat/additional/MinMyc.snp\n",
      "ind2: /n/groups/reich/hringbauer/git/punic_aDNA/eigenstrat/additional/MinMyc.ind\n",
      "genooutfilename: /n/groups/reich/hringbauer/git/punic_aDNA/eigenstrat/combined/punic1.v43.geno\n",
      "snpoutfilename: /n/groups/reich/hringbauer/git/punic_aDNA/eigenstrat/combined/punic1.v43.snp\n",
      "indoutfilename: /n/groups/reich/hringbauer/git/punic_aDNA/eigenstrat/combined/punic1.v43.ind\n",
      "docheck: YES\n",
      "hashcheck: NO\n",
      "allowdups: YES\n",
      "packed geno read OK\n",
      "end of inpack\n",
      "packed geno read OK\n",
      "end of inpack\n",
      "numsnps input: 1233013 1233013\n",
      "packedancestrymap output\n",
      "numsnps output: 1196712  numindivs: 655\n",
      "\n",
      "\n",
      "Histogram of checkmatch return codes\n",
      "kode:   -2  36301  A/T or C/G and strandcheck\n",
      "kode:    1 1196712  SNP OK (no flip)\n",
      "total:        1233013\n",
      "\n",
      "##end of mergeit:      135.630 seconds cpu     1356.235 Mbytes in use\n",
      "CPU times: user 2.51 s, sys: 332 ms, total: 2.85 s\n",
      "Wall time: 2min 18s\n"
     ]
    }
   ],
   "source": [
    "%%time\n",
    "! $bin_merge_it -p $parfile_path"
   ]
  },
  {
   "cell_type": "markdown",
   "metadata": {},
   "source": [
    "# Prepare Individual File [Stand Alone from here]"
   ]
  },
  {
   "cell_type": "code",
   "execution_count": 74,
   "metadata": {},
   "outputs": [],
   "source": [
    "def overwrite_ind_df(df, string, col=\"clst\", \n",
    "                     output=False, overwrite=\"\", iids=False):\n",
    "    \"\"\"Overwrite Individual Dataframe where col\n",
    "    contains string. Return modified dataframe (Copy)\n",
    "    where overwrite is the new Cluster ID\n",
    "    iids: Overwrite with IIDs if given!\"\"\"\n",
    "    idx = df[col].str.contains(string)\n",
    "    \n",
    "    if np.sum(idx)==0:\n",
    "        if output: \n",
    "            print(\"No Indivdiuals found\")\n",
    "        return\n",
    "    \n",
    "    if output:\n",
    "        print(f\"Found {np.sum(idx)} Matches\")\n",
    "        print(df[idx][col].value_counts())\n",
    "    \n",
    "    ### Actually  overwrite the Column\n",
    "    if len(overwrite)>0:\n",
    "        df.loc[idx, col] = overwrite\n",
    "        if output: \n",
    "            print(f\"{np.sum(idx)} Overwritten!\")\n",
    "            \n",
    "    if iids:\n",
    "        df.loc[idx, col] = df.loc[idx, \"iid\"] \n",
    "        \n",
    "        \n",
    "### Overwrite Individual IIDs\n",
    "def modifiy_iid_files(df_ind, pops_overwrite, \n",
    "                      pops_overwrite12=[], ind_modified=\"\"):\n",
    "    \"\"\"Modify .ind file. Overwrite individuals from pops_overwrite (list)\n",
    "    with their individuals labels. \n",
    "    df_int: Dataframe from Individuals.\n",
    "    pops_overwrite12: [[pop1,pop2]] list (nx2). Overwrites ALL string matches\n",
    "    for pop1 (contain) with pop2\"\"\"\n",
    "    \n",
    "    ### Overwrite with other Label\n",
    "    for pop1,pop2 in pops_overwrite12:\n",
    "        overwrite_ind_df(df_ind, pop1, overwrite=pop2)\n",
    "        \n",
    "    ### Overwrite with individual IIds\n",
    "    for pop in pops_overwrite:\n",
    "        overwrite_ind_df(df_ind, pop, \n",
    "                     iids=True, output=True)\n",
    "    \n",
    "    ### Save here\n",
    "    df_ind.to_csv(ind_modified, sep=\" \", index=None, header=False)\n",
    "    print(f\"Saved {len(df_ind)} Individuals to {ind_modified}\")"
   ]
  },
  {
   "cell_type": "markdown",
   "metadata": {},
   "source": [
    "### Overwrite Individuals\n",
    "(For testing please see below)"
   ]
  },
  {
   "cell_type": "code",
   "execution_count": 78,
   "metadata": {},
   "outputs": [
    {
     "name": "stdout",
     "output_type": "stream",
     "text": [
      "Loaded 655 Individuals\n"
     ]
    }
   ],
   "source": [
    "ind_merged=\"./eigenstrat/combined/punic1.v43.ind\"          # What .ind to load\n",
    "df_ind = pd.read_csv(ind_merged, delim_whitespace=True, header=None)\n",
    "df_ind.columns=[\"iid\", \"sex\", \"clst\"]\n",
    "print(f\"Loaded {len(df_ind)} Individuals\")"
   ]
  },
  {
   "cell_type": "code",
   "execution_count": 24,
   "metadata": {},
   "outputs": [],
   "source": [
    "### Overwrite Group Names DELETE NEXT TIME\n",
    "#overwrite_ind_df(df_ind, \"Morocco_LN\", overwrite=\"Morocco_LN\")\n",
    "#overwrite_ind_df(df_ind, \"Morocco_EN\", overwrite=\"Morocco_EN\")\n",
    "#overwrite_ind_df(df_ind, \"Morocco_Iberomaurusian\", overwrite=\"Morocco_Iberomaurusian\")\n",
    "#overwrite_ind_df(df_ind, \"YRI\", overwrite=\"YRI\")"
   ]
  },
  {
   "cell_type": "code",
   "execution_count": 76,
   "metadata": {},
   "outputs": [
    {
     "name": "stdout",
     "output_type": "stream",
     "text": [
      "Found 2 Matches\n",
      "Algeria_N    2\n",
      "Name: clst, dtype: int64\n",
      "Found 27 Matches\n",
      "Italy_Sardinia_IA_Punic                       9\n",
      "Iberia_Punic_oAfrican2                        4\n",
      "Iberia_Punic_o.3rd.degree.relative.cluster    4\n",
      "Iberia_Punic_oAfrican1                        3\n",
      "Iberia_Punic_o3                               2\n",
      "Iberia_Punic                                  2\n",
      "Iberia_Punic_oEuropean2                       1\n",
      "Ibiza_Punic.SG                                1\n",
      "Iberia_Punic_oEuropean1                       1\n",
      "Name: clst, dtype: int64\n",
      "Found 22 Matches\n",
      "Italy_Sicily_Phoenician      19\n",
      "Italy_Sicily_Phoenician_o     3\n",
      "Name: clst, dtype: int64\n",
      "Found 3 Matches\n",
      "Morocco_LN    3\n",
      "Name: clst, dtype: int64\n",
      "No Indivdiuals found\n",
      "Found 1 Matches\n",
      "Iberia_North_BA_Africa_all    1\n",
      "Name: clst, dtype: int64\n",
      "Found 4 Matches\n",
      "Iberia_Greek     2\n",
      "Iberia_Greek1    1\n",
      "Iberia_Greek2    1\n",
      "Name: clst, dtype: int64\n",
      "Found 7 Matches\n",
      "Iberia_Hellenistic      5\n",
      "Iberia_Hellenistic_B    2\n",
      "Name: clst, dtype: int64\n",
      "Found 4 Matches\n",
      "Iberia_BellBeaker_o              2\n",
      "Iberia_BellBeaker_o2             1\n",
      "Iberia_BellBeaker_o_published    1\n",
      "Name: clst, dtype: int64\n",
      "Found 1 Matches\n",
      "Gibraltar_N    1\n",
      "Name: clst, dtype: int64\n",
      "Found 1 Matches\n",
      "Italy_Sardinia_C_o    1\n",
      "Name: clst, dtype: int64\n",
      "Found 4 Matches\n",
      "Nigeria_IA    4\n",
      "Name: clst, dtype: int64\n",
      "Found 1 Matches\n",
      "Nigeria_Medieval    1\n",
      "Name: clst, dtype: int64\n",
      "Saved 655 Individuals to ./eigenstrat/combined/punic1.v43_mod1.ind\n"
     ]
    }
   ],
   "source": [
    "pops_overwrite12 = [[\"Morocco_LN\", \"Morocco_LN\"], [\"Morocco_EN\", \"Morocco_EN\"],\n",
    "                   [\"Morocco_Iberomaurusian\",\"Morocco_Iberomaurusian\"],[\"YRI\",\"YRI\"]]\n",
    "\n",
    "pops_overwrite = [\"Algeria_N\", \"Punic\", \"Italy_Sicily_Phoenician\",\n",
    "                 \"Morocco_LN\", \"Punic_oAfrican\", \n",
    "                  \"Iberia_North_BA_Africa_all\", \"Iberia_Greek\", \"Iberia_Hellenistic\",\n",
    "                  \"Iberia_BellBeaker_o\", \"Gibraltar_N\", \"Italy_Sardinia_C_o\",\n",
    "                 \"Nigeria_IA\", \"Nigeria_Medieval\"]\n",
    "\n",
    "ind_modified=\"./eigenstrat/combined/punic1.v43_mod1.ind\"    # Where to save the modified version to\n",
    "\n",
    "modifiy_iid_files(df_ind, pops_overwrite=pops_overwrite, \n",
    "                  pops_overwrite12=pops_overwrite12,\n",
    "                  ind_modified = ind_modified)"
   ]
  },
  {
   "cell_type": "markdown",
   "metadata": {},
   "source": [
    "### Split up Iberian Bronze Age too"
   ]
  },
  {
   "cell_type": "code",
   "execution_count": 79,
   "metadata": {},
   "outputs": [
    {
     "name": "stdout",
     "output_type": "stream",
     "text": [
      "Found 2 Matches\n",
      "Algeria_N    2\n",
      "Name: clst, dtype: int64\n",
      "Found 27 Matches\n",
      "Italy_Sardinia_IA_Punic                       9\n",
      "Iberia_Punic_oAfrican2                        4\n",
      "Iberia_Punic_o.3rd.degree.relative.cluster    4\n",
      "Iberia_Punic_oAfrican1                        3\n",
      "Iberia_Punic_o3                               2\n",
      "Iberia_Punic                                  2\n",
      "Iberia_Punic_oEuropean2                       1\n",
      "Ibiza_Punic.SG                                1\n",
      "Iberia_Punic_oEuropean1                       1\n",
      "Name: clst, dtype: int64\n",
      "Found 22 Matches\n",
      "Italy_Sicily_Phoenician      19\n",
      "Italy_Sicily_Phoenician_o     3\n",
      "Name: clst, dtype: int64\n",
      "Found 3 Matches\n",
      "Morocco_LN    3\n",
      "Name: clst, dtype: int64\n",
      "No Indivdiuals found\n",
      "Found 1 Matches\n",
      "Iberia_North_BA_Africa_all    1\n",
      "Name: clst, dtype: int64\n",
      "Found 56 Matches\n",
      "Iberia_BA                 42\n",
      "Iberia_BA.SG               5\n",
      "Iberia_BA_Cogotas          4\n",
      "Iberia_BA_all              2\n",
      "Iberia_BA_1d.rel.I4560     1\n",
      "Iberia_BA_1d.rel.I4561     1\n",
      "Iberia_BA_published        1\n",
      "Name: clst, dtype: int64\n",
      "Found 9 Matches\n",
      "Iberia_IA                         6\n",
      "Iberia_IA_PreIberian_published    1\n",
      "Iberia_IA_PreIberian_all          1\n",
      "Iberia_IA_PreIberian              1\n",
      "Name: clst, dtype: int64\n",
      "Found 4 Matches\n",
      "Iberia_Greek     2\n",
      "Iberia_Greek1    1\n",
      "Iberia_Greek2    1\n",
      "Name: clst, dtype: int64\n",
      "Found 7 Matches\n",
      "Iberia_Hellenistic      5\n",
      "Iberia_Hellenistic_B    2\n",
      "Name: clst, dtype: int64\n",
      "Found 4 Matches\n",
      "Iberia_BellBeaker_o              2\n",
      "Iberia_BellBeaker_o2             1\n",
      "Iberia_BellBeaker_o_published    1\n",
      "Name: clst, dtype: int64\n",
      "Found 1 Matches\n",
      "Gibraltar_N    1\n",
      "Name: clst, dtype: int64\n",
      "Found 11 Matches\n",
      "Iberia_Iberian              7\n",
      "Iberia_Iberian_all          2\n",
      "Iberia_Iberian_published    2\n",
      "Name: clst, dtype: int64\n",
      "Found 5 Matches\n",
      "Iberia_Celtiberian       3\n",
      "Iberia_Celtiberian.DG    1\n",
      "Iberia_Celtiberian.SG    1\n",
      "Name: clst, dtype: int64\n",
      "Found 4 Matches\n",
      "Iberia_Tartessian              2\n",
      "Iberia_Tartessian_published    1\n",
      "Iberia_Tartessian_all          1\n",
      "Name: clst, dtype: int64\n",
      "Found 1 Matches\n",
      "Italy_Sardinia_C_o    1\n",
      "Name: clst, dtype: int64\n",
      "Found 4 Matches\n",
      "Nigeria_IA    4\n",
      "Name: clst, dtype: int64\n",
      "Found 1 Matches\n",
      "Nigeria_Medieval    1\n",
      "Name: clst, dtype: int64\n",
      "Saved 655 Individuals to ./eigenstrat/combined/punic1.v43_mod_ib.ind\n"
     ]
    }
   ],
   "source": [
    "pops_overwrite = [\"Algeria_N\", \"Punic\", \"Italy_Sicily_Phoenician\",\n",
    "                  \"Morocco_LN\", \"Punic_oAfrican\", \n",
    "                  \"Iberia_North_BA_Africa_all\", \"Iberia_BA\", \"Iberia_IA\",\n",
    "                  \"Iberia_Greek\", \"Iberia_Hellenistic\",\n",
    "                  \"Iberia_BellBeaker_o\", \"Gibraltar_N\", \n",
    "                  \"Iberia_Iberian\", \"Iberia_Celtiberian\", \"Iberia_Tartessian\",\n",
    "                  \"Italy_Sardinia_C_o\",\n",
    "                  \"Nigeria_IA\", \"Nigeria_Medieval\"\n",
    "                  ]\n",
    "\n",
    "pops_overwrite12 = [[\"Morocco_LN\", \"Morocco_LN\"], [\"Morocco_EN\", \"Morocco_EN\"],\n",
    "                   [\"Morocco_Iberomaurusian\",\"Morocco_Iberomaurusian\"], [\"YRI\",\"YRI\"]]\n",
    "\n",
    "ind_modified=\"./eigenstrat/combined/punic1.v43_mod_ib.ind\"    # Where to save the modified version to\n",
    "\n",
    "\n",
    "modifiy_iid_files(df_ind, pops_overwrite=pops_overwrite, \n",
    "                  pops_overwrite12=pops_overwrite12,\n",
    "                  ind_modified = ind_modified)"
   ]
  },
  {
   "cell_type": "markdown",
   "metadata": {},
   "source": [
    "### Test indivdiual overwrites"
   ]
  },
  {
   "cell_type": "code",
   "execution_count": null,
   "metadata": {},
   "outputs": [],
   "source": [
    "overwrite_ind_df(df_ind, \"Canaanite\", \n",
    "                 output=True, overwrite=\"\")\n",
    "#YRI.SG\n",
    "#Gibraltar_N\n",
    "#Italy_Sardinia_C_o\n",
    "#Nigeria_IA"
   ]
  },
  {
   "cell_type": "markdown",
   "metadata": {},
   "source": [
    "# Area 51"
   ]
  },
  {
   "cell_type": "code",
   "execution_count": 17,
   "metadata": {},
   "outputs": [
    {
     "name": "stdout",
     "output_type": "stream",
     "text": [
      "Loaded 635 Individuals\n"
     ]
    }
   ],
   "source": [
    "ind_merged=\"./eigenstrat/combined/punic1.v43.ind\"          # What .ind to load\n",
    "df_ind = pd.read_csv(ind_merged, delim_whitespace=True, header=None)\n",
    "df_ind.columns=[\"iid\", \"sex\", \"clst\"]\n",
    "print(f\"Loaded {len(df_ind)} Individuals\")"
   ]
  },
  {
   "cell_type": "code",
   "execution_count": 21,
   "metadata": {},
   "outputs": [
    {
     "name": "stdout",
     "output_type": "stream",
     "text": [
      "Found 98 Matches\n",
      "Iberia_BA                                     42\n",
      "Iberia_IA                                      6\n",
      "Iberia_BA.SG                                   5\n",
      "Iberia_Hellenistic                             5\n",
      "Iberia_Punic_o.3rd.degree.relative.cluster     4\n",
      "Iberia_Punic_oAfrican2                         4\n",
      "Iberia_BA_Cogotas                              4\n",
      "Iberia_Punic_oAfrican1                         3\n",
      "Iberia_Punic_o3                                2\n",
      "Iberia_Greek                                   2\n",
      "Iberia_BellBeaker_o                            2\n",
      "Iberia_BA_all                                  2\n",
      "Iberia_Punic                                   2\n",
      "Iberia_Hellenistic_B                           2\n",
      "Iberia_BellBeaker_o_published                  1\n",
      "Iberia_IA_PreIberian_published                 1\n",
      "Iberia_IA_PreIberian_all                       1\n",
      "Iberia_BA_published                            1\n",
      "Iberia_IA_PreIberian                           1\n",
      "Iberia_North_BA_Africa_all                     1\n",
      "Iberia_BA_1d.rel.I4560                         1\n",
      "Iberia_Punic_oEuropean1                        1\n",
      "Iberia_Punic_oEuropean2                        1\n",
      "Iberia_Greek2                                  1\n",
      "Iberia_BellBeaker_o2                           1\n",
      "Iberia_BA_1d.rel.I4561                         1\n",
      "Iberia_Greek1                                  1\n",
      "Name: clst, dtype: int64\n"
     ]
    }
   ],
   "source": [
    "overwrite_ind_df(df_ind, \"Iberia\", output=True)"
   ]
  },
  {
   "cell_type": "code",
   "execution_count": null,
   "metadata": {},
   "outputs": [],
   "source": [
    "df_ind[df_ind[\"clst\"].str.contains(\"Iberia_Punic\")]"
   ]
  },
  {
   "cell_type": "code",
   "execution_count": null,
   "metadata": {},
   "outputs": [],
   "source": []
  }
 ],
 "metadata": {
  "kernelspec": {
   "display_name": "Python 3",
   "language": "python",
   "name": "python3"
  },
  "language_info": {
   "codemirror_mode": {
    "name": "ipython",
    "version": 3
   },
   "file_extension": ".py",
   "mimetype": "text/x-python",
   "name": "python",
   "nbconvert_exporter": "python",
   "pygments_lexer": "ipython3",
   "version": "3.7.4"
  }
 },
 "nbformat": 4,
 "nbformat_minor": 4
}
