{
 "cells": [
  {
   "cell_type": "markdown",
   "metadata": {},
   "source": [
    "# Prepare Files for qpAdm"
   ]
  },
  {
   "cell_type": "code",
   "execution_count": 4,
   "metadata": {},
   "outputs": [
    {
     "name": "stdout",
     "output_type": "stream",
     "text": [
      "compute-a-16-94.o2.rc.hms.harvard.edu\n",
      "HSM Computational partition detected.\n",
      "/n/groups/reich/hringbauer/git/punic_aDNA\n",
      "CPU Count: 32\n",
      "3.7.4 (default, Sep 11 2019, 11:24:51) \n",
      "[GCC 6.2.0]\n"
     ]
    }
   ],
   "source": [
    "import numpy as np\n",
    "import os  # For Saving to Folder\n",
    "import pandas as pd\n",
    "import matplotlib.pyplot as plt\n",
    "\n",
    "import socket\n",
    "import os as os\n",
    "import sys as sys\n",
    "import multiprocessing as mp\n",
    "import itertools as it\n",
    "from time import time\n",
    "\n",
    "# For Arial Font\n",
    "from matplotlib import rcParams\n",
    "rcParams['font.family'] = 'sans-serif'   # Set the defaul\n",
    "# Make sure to have the font installed (it is on cluster for Harald)\n",
    "rcParams['font.sans-serif'] = ['Arial']\n",
    "\n",
    "socket_name = socket.gethostname()\n",
    "print(socket_name)\n",
    "\n",
    "if socket_name.startswith(\"compute-\"):\n",
    "    print(\"HSM Computational partition detected.\")\n",
    "    path = \"/n/groups/reich/hringbauer/git/punic_aDNA/\"  # The Path on Midway Cluster\n",
    "else:\n",
    "    raise RuntimeWarning(\"Not compatible machine. Check!!\")\n",
    "\n",
    "os.chdir(path)  # Set the right Path (in line with Atom default)\n",
    "# Show the current working directory. Should be HAPSBURG/Notebooks/ParallelRuns\n",
    "print(os.getcwd())\n",
    "print(f\"CPU Count: {mp.cpu_count()}\")\n",
    "print(sys.version)"
   ]
  },
  {
   "cell_type": "markdown",
   "metadata": {},
   "source": [
    "# Key Definitions"
   ]
  },
  {
   "cell_type": "code",
   "execution_count": 5,
   "metadata": {},
   "outputs": [],
   "source": [
    "base_path = \"/n/groups/reich/DAVID/V46/V46.1/v46.1\"\n",
    "ind_path = base_path + \".ind\""
   ]
  },
  {
   "cell_type": "markdown",
   "metadata": {},
   "source": [
    "# Save Population File (what to pull)"
   ]
  },
  {
   "cell_type": "code",
   "execution_count": 6,
   "metadata": {},
   "outputs": [],
   "source": [
    "def return_pops(df, string, col=\"clst\", \n",
    "                output=False):\n",
    "    \"\"\"Return list of clusters that contain string.\"\"\"\n",
    "    df1 = df[df[col].str.contains(string)]\n",
    "    if output:\n",
    "        print(df1[col].value_counts())\n",
    "    clsts = list(set(df1[col].values))\n",
    "\n",
    "    return clsts\n",
    "\n",
    "def run_convertf(path_convertf = \"./o2bin/convertf\", parfile = \"./explore_ntbk/parfiles/convertf.keep.par\"):\n",
    "    \"\"\"Runs the Downsampling\"\"\"\n",
    "    ! $path_convertf -p $parfile"
   ]
  },
  {
   "cell_type": "code",
   "execution_count": 7,
   "metadata": {},
   "outputs": [
    {
     "name": "stdout",
     "output_type": "stream",
     "text": [
      "Loaded 22625 Individuals\n"
     ]
    }
   ],
   "source": [
    "df_ind = pd.read_csv(ind_path, delim_whitespace=True, header=None)\n",
    "df_ind.columns=[\"iid\", \"sex\", \"clst\"]\n",
    "print(f\"Loaded {len(df_ind)} Individuals\")"
   ]
  },
  {
   "cell_type": "code",
   "execution_count": 8,
   "metadata": {},
   "outputs": [
    {
     "name": "stdout",
     "output_type": "stream",
     "text": [
      "Spain_Islamic                     131\n",
      "Spain_C                           121\n",
      "Spain_Visigoth                     57\n",
      "Spain_MLN                          48\n",
      "Spain_LateMedieval_Jewish          39\n",
      "                                 ... \n",
      "Spain_EN_father.or.son.I0410        1\n",
      "Spain_Visigoth_contam_lc            1\n",
      "Spain_Punic_Roman_oAfrican2_lc      1\n",
      "Spain_MLN_lc                        1\n",
      "Spain_Almoloya_Argar_1d.ALM081      1\n",
      "Name: clst, Length: 267, dtype: int64\n"
     ]
    }
   ],
   "source": [
    "##############################################\n",
    "### Testing for single Populations Populations\n",
    "return_pops(df_ind, string=\"Spain\", \n",
    "            output=True);"
   ]
  },
  {
   "cell_type": "code",
   "execution_count": 9,
   "metadata": {},
   "outputs": [],
   "source": [
    "pops = [\"Algeria\", \"Morocco\", \"Tunisia\", \"Punic\", \"Phoenician\", \n",
    "        \"Sardinia\", \"Ibiza\", \"Canaanite\", \"Ashkelon\", \"Sicily\", \"Hellenistic\",\n",
    "        \"Israel_IA\", \"Israel_EIA\", \"Israel_Persian\", \"Gibraltar\",\n",
    "        \"Spain_EBA_Afric\", \"Spain_BellBeaker_o\", \"Spain_Greek\",\n",
    "        \"Spain_Hellenistic\", \"Spain_IA\",\n",
    "        \"Nigeria_IA\", \"Nigeria_Medieval\",\n",
    "        \"Spain_LBA\", \"Greece_\"]\n",
    "\n",
    "# New Ones v46\n",
    "pops = [\"Algeria\", \"Morocco\", \"Tunisia\", \"Punic\", \"Phoenician\", \"Spain_Vandal\", \"Spain_LBA\"\n",
    "        \"Sardinia\", \"Ibiza\", \"Israel_MLBA\", \"Israel_LBA\", \"Ashkelon\", \"Sicily\", \"Hellenistic\",\n",
    "        \"Israel_IA\", \"Israel_EIA\", \"Israel_Persian\", \"Gibraltar\",\n",
    "        \"Spain_EBA_Afric\", \"Spain_BellBeaker_oAfrican\", \"Spain_Greek\",\n",
    "        \"Spain_Hellenistic\", \"Spain_IA\", \"Italy_Sardinia_C_oAfrican\", \n",
    "        \"Nigeria_IA\", \"Nigeria_Medieval\", \"Mallorca\", \n",
    "        \"Egypt_Hellenistic\", \"Egypt_Roman\", \"Egypt_Dynastic\",\n",
    "        \"Greece_\"]\n",
    "\n",
    "exclude_strings = [\"_lc\", \"contam\"]"
   ]
  },
  {
   "cell_type": "code",
   "execution_count": 10,
   "metadata": {},
   "outputs": [
    {
     "name": "stdout",
     "output_type": "stream",
     "text": [
      "Loaded 261 Populations\n",
      "After Exclusion 205\n"
     ]
    }
   ],
   "source": [
    "clsts = [return_pops(df_ind, string=pop, output=False) for pop in pops]\n",
    "\n",
    "clsts = [inner for ls in clsts for inner in ls]\n",
    "clsts = list(set(clsts)) # Filter to unique Elements\n",
    "print(f\"Loaded {len(clsts)} Populations\")\n",
    "\n",
    "### Exclude Strings\n",
    "for ex in exclude_strings:\n",
    "    clsts = [c for c in clsts if ex not in c]\n",
    "print(f\"After Exclusion {len(clsts)}\")"
   ]
  },
  {
   "cell_type": "markdown",
   "metadata": {},
   "source": [
    "# Save List of populations to keep"
   ]
  },
  {
   "cell_type": "code",
   "execution_count": 11,
   "metadata": {},
   "outputs": [],
   "source": [
    "#keep = np.array([\"Anatolia_N\", \"Iberia_HG\"])\n",
    "keep = np.array(clsts)\n",
    "path_keep = \"./parfiles/keep_pops\"\n",
    "np.savetxt(path_keep, keep, fmt=\"%s\")"
   ]
  },
  {
   "cell_type": "markdown",
   "metadata": {},
   "source": [
    "### Run convertf (with population list to keep)\n",
    "Additional parameters (such as position of output file) are coded into the parameter file"
   ]
  },
  {
   "cell_type": "code",
   "execution_count": 11,
   "metadata": {},
   "outputs": [
    {
     "name": "stdout",
     "output_type": "stream",
     "text": [
      "parameter file: ./parfiles/convertf.anc_only.par\n",
      "BASE: /n/groups/reich/\n",
      "DIR: DAVID/V44/V44.0/v44.0\n",
      "OUT: hringbauer/git/punic_aDNA/eigenstrat/anc_only.v44\n",
      "genotypename: /n/groups/reich//DAVID/V44/V44.0/v44.0.geno\n",
      "snpname: /n/groups/reich//DAVID/V44/V44.0/v44.0.snp\n",
      "indivname: /n/groups/reich//DAVID/V44/V44.0/v44.0.ind\n",
      "genooutfilename: /n/groups/reich//hringbauer/git/punic_aDNA/eigenstrat/anc_only.v44.geno\n",
      "snpoutfilename: /n/groups/reich//hringbauer/git/punic_aDNA/eigenstrat/anc_only.v44.snp\n",
      "indoutfilename: /n/groups/reich//hringbauer/git/punic_aDNA/eigenstrat/anc_only.v44.ind\n",
      "outputformat: PACKEDANCESTRYMAP\n",
      "hashcheck: YES\n",
      "poplistname: /n/groups/reich//hringbauer/git/punic_aDNA/parfiles/keep_pops\n",
      "## /n/groups/reich/hringbauer/o2bin/convertf version: 5720\n",
      "read 1073741824 bytes\n",
      "read 2147483648 bytes\n",
      "read 3221225472 bytes\n",
      "read 4294967296 bytes\n",
      "read 5368709120 bytes\n",
      "read 6378376249 bytes\n",
      "packed geno read OK\n",
      "end of inpack\n",
      "before compress: snps: 1233013 indivs: 20692\n",
      "after compress: snps: 1233013 indivs: 816\n",
      "numvalidind:    816  maxmiss: 816001\n",
      "packedancestrymap output\n",
      "numsnps output: 1233013\n",
      "##end of convertf:     1107.390 seconds cpu      759.456 Mbytes in use\n",
      "CPU times: user 23.6 s, sys: 6.23 s, total: 29.8 s\n",
      "Wall time: 18min 50s\n"
     ]
    }
   ],
   "source": [
    "%%time\n",
    "run_convertf(path_convertf = \"/n/groups/reich/hringbauer/o2bin/convertf\", \n",
    "             parfile = \"./parfiles/convertf.anc_only.par\")"
   ]
  },
  {
   "cell_type": "markdown",
   "metadata": {},
   "source": [
    "# Merge in Lazaridis Ancients with mergeit (with population list to keep)\n",
    "Again: Some definitions are in the parfile. Please check there!"
   ]
  },
  {
   "cell_type": "code",
   "execution_count": 12,
   "metadata": {},
   "outputs": [],
   "source": [
    "bin_merge_it = \"/n/groups/reich/hringbauer/o2bin/mergeit\"\n",
    "parfile_path = \"./parfiles/parMergeAddAnc\""
   ]
  },
  {
   "cell_type": "code",
   "execution_count": 13,
   "metadata": {},
   "outputs": [
    {
     "name": "stdout",
     "output_type": "stream",
     "text": [
      "parameter file: ./parfiles/parMergeAddAnc\n",
      "BASE: /n/groups/reich/hringbauer/git/punic_aDNA\n",
      "S1: eigenstrat/anc_only.v44\n",
      "S2: eigenstrat/additional/MinMyc\n",
      "OUT: eigenstrat/combined/punic.v44\n",
      "geno1: /n/groups/reich/hringbauer/git/punic_aDNA/eigenstrat/anc_only.v44.geno\n",
      "snp1: /n/groups/reich/hringbauer/git/punic_aDNA/eigenstrat/anc_only.v44.snp\n",
      "ind1: /n/groups/reich/hringbauer/git/punic_aDNA/eigenstrat/anc_only.v44.ind\n",
      "geno2: /n/groups/reich/hringbauer/git/punic_aDNA/eigenstrat/additional/MinMyc.geno\n",
      "snp2: /n/groups/reich/hringbauer/git/punic_aDNA/eigenstrat/additional/MinMyc.snp\n",
      "ind2: /n/groups/reich/hringbauer/git/punic_aDNA/eigenstrat/additional/MinMyc.ind\n",
      "genooutfilename: /n/groups/reich/hringbauer/git/punic_aDNA/eigenstrat/combined/punic.v44.geno\n",
      "snpoutfilename: /n/groups/reich/hringbauer/git/punic_aDNA/eigenstrat/combined/punic.v44.snp\n",
      "indoutfilename: /n/groups/reich/hringbauer/git/punic_aDNA/eigenstrat/combined/punic.v44.ind\n",
      "docheck: YES\n",
      "hashcheck: NO\n",
      "allowdups: YES\n",
      "packed geno read OK\n",
      "end of inpack\n",
      "packed geno read OK\n",
      "end of inpack\n",
      "numsnps input: 1233013 1233013\n",
      "packedancestrymap output\n",
      "numsnps output: 1196712  numindivs: 1150\n",
      "\n",
      "\n",
      "Histogram of checkmatch return codes\n",
      "kode:   -2  36301  A/T or C/G and strandcheck\n",
      "kode:    1 1196712  SNP OK (no flip)\n",
      "total:        1233013\n",
      "\n",
      "##end of mergeit:      196.210 seconds cpu     1356.235 Mbytes in use\n",
      "CPU times: user 4.13 s, sys: 1.12 s, total: 5.25 s\n",
      "Wall time: 3min 18s\n"
     ]
    }
   ],
   "source": [
    "%%time\n",
    "! $bin_merge_it -p $parfile_path"
   ]
  },
  {
   "cell_type": "markdown",
   "metadata": {},
   "source": [
    "# Prepare Individual File [Stand Alone from here]\n",
    "Overwrite Individuals with their individual labels"
   ]
  },
  {
   "cell_type": "code",
   "execution_count": 14,
   "metadata": {},
   "outputs": [],
   "source": [
    "def overwrite_ind_df(df, string, col=\"clst\", \n",
    "                     output=False, overwrite=\"\", iids=False):\n",
    "    \"\"\"Overwrite Individual Dataframe where col\n",
    "    contains string. Return modified dataframe (Copy)\n",
    "    where overwrite is the new Cluster ID\n",
    "    iids: Overwrite with IIDs if True!\"\"\"\n",
    "    idx = df[col].str.contains(string)\n",
    "    \n",
    "    if np.sum(idx)==0:\n",
    "        if output: \n",
    "            print(\"No Indivdiuals found\")\n",
    "        return\n",
    "    \n",
    "    if output:\n",
    "        print(f\"Found {np.sum(idx)} Matches\")\n",
    "        print(df[idx][col].value_counts())\n",
    "    \n",
    "    ### Actually  overwrite the Column\n",
    "    if len(overwrite)>0:\n",
    "        df.loc[idx, col] = overwrite\n",
    "        if output: \n",
    "            print(f\"{np.sum(idx)} Overwritten!\")\n",
    "            \n",
    "    if iids:\n",
    "        df.loc[idx, col] = df.loc[idx, \"iid\"] \n",
    "        \n",
    "        \n",
    "### Overwrite Individual IIDs\n",
    "def modifiy_iid_files(df_ind, pops_overwrite, \n",
    "                      pops_overwrite12=[], ind_modified=\"\"):\n",
    "    \"\"\"Modify .ind file. Overwrite individuals from pops_overwrite (list)\n",
    "    with their individuals labels. \n",
    "    df_int: Dataframe from Individuals.\n",
    "    pops_overwrite12: [[pop1,pop2]] list (nx2). Overwrites ALL string matches\n",
    "    for pop1 (contain) with pop2\"\"\"\n",
    "    \n",
    "    ### Overwrite with other Label\n",
    "    for pop1,pop2 in pops_overwrite12:\n",
    "        overwrite_ind_df(df_ind, pop1, overwrite=pop2)\n",
    "        \n",
    "    ### Overwrite with individual IIds\n",
    "    for pop in pops_overwrite:\n",
    "        overwrite_ind_df(df_ind, pop, \n",
    "                     iids=True, output=True)\n",
    "    \n",
    "    ### Save here\n",
    "    df_ind.to_csv(ind_modified, sep=\" \", index=None, header=False)\n",
    "    print(f\"Saved {len(df_ind)} Individuals to {ind_modified}\")"
   ]
  },
  {
   "cell_type": "markdown",
   "metadata": {},
   "source": [
    "### Version 1: Overwrite narrow target Individuals\n",
    "(For testing please see below)"
   ]
  },
  {
   "cell_type": "code",
   "execution_count": 26,
   "metadata": {},
   "outputs": [
    {
     "name": "stdout",
     "output_type": "stream",
     "text": [
      "Loaded 1150 Individuals\n"
     ]
    }
   ],
   "source": [
    "ind_merged=\"./eigenstrat/combined/punic.v44.ind\"          # What .ind to load\n",
    "df_ind = pd.read_csv(ind_merged, delim_whitespace=True, header=None)\n",
    "df_ind.columns=[\"iid\", \"sex\", \"clst\"]\n",
    "print(f\"Loaded {len(df_ind)} Individuals\")"
   ]
  },
  {
   "cell_type": "markdown",
   "metadata": {},
   "source": [
    "### Play around with Individual df to identify clusters of interest"
   ]
  },
  {
   "cell_type": "code",
   "execution_count": 38,
   "metadata": {},
   "outputs": [
    {
     "data": {
      "text/html": [
       "<div>\n",
       "<style scoped>\n",
       "    .dataframe tbody tr th:only-of-type {\n",
       "        vertical-align: middle;\n",
       "    }\n",
       "\n",
       "    .dataframe tbody tr th {\n",
       "        vertical-align: top;\n",
       "    }\n",
       "\n",
       "    .dataframe thead th {\n",
       "        text-align: right;\n",
       "    }\n",
       "</style>\n",
       "<table border=\"1\" class=\"dataframe\">\n",
       "  <thead>\n",
       "    <tr style=\"text-align: right;\">\n",
       "      <th></th>\n",
       "      <th>iid</th>\n",
       "      <th>sex</th>\n",
       "      <th>clst</th>\n",
       "    </tr>\n",
       "  </thead>\n",
       "  <tbody>\n",
       "    <tr>\n",
       "      <th>36</th>\n",
       "      <td>I2189</td>\n",
       "      <td>M</td>\n",
       "      <td>Israel_MLBA_Canaanite_o_brother.I2200</td>\n",
       "    </tr>\n",
       "    <tr>\n",
       "      <th>37</th>\n",
       "      <td>I2190</td>\n",
       "      <td>M</td>\n",
       "      <td>Israel_MLBA_Canaanite</td>\n",
       "    </tr>\n",
       "    <tr>\n",
       "      <th>38</th>\n",
       "      <td>I2195</td>\n",
       "      <td>M</td>\n",
       "      <td>Israel_MLBA_Canaanite</td>\n",
       "    </tr>\n",
       "    <tr>\n",
       "      <th>39</th>\n",
       "      <td>I2198</td>\n",
       "      <td>M</td>\n",
       "      <td>Israel_MLBA_Canaanite</td>\n",
       "    </tr>\n",
       "    <tr>\n",
       "      <th>40</th>\n",
       "      <td>I2200</td>\n",
       "      <td>F</td>\n",
       "      <td>Israel_MLBA_Canaanite_o</td>\n",
       "    </tr>\n",
       "    <tr>\n",
       "      <th>67</th>\n",
       "      <td>I4518</td>\n",
       "      <td>M</td>\n",
       "      <td>Israel_MLBA_Canaanite</td>\n",
       "    </tr>\n",
       "    <tr>\n",
       "      <th>68</th>\n",
       "      <td>I4519</td>\n",
       "      <td>M</td>\n",
       "      <td>Israel_MLBA_Canaanite</td>\n",
       "    </tr>\n",
       "    <tr>\n",
       "      <th>69</th>\n",
       "      <td>I4525</td>\n",
       "      <td>M</td>\n",
       "      <td>Israel_MLBA_Canaanite</td>\n",
       "    </tr>\n",
       "    <tr>\n",
       "      <th>145</th>\n",
       "      <td>I10092</td>\n",
       "      <td>F</td>\n",
       "      <td>Israel_MLBA_Canaanite</td>\n",
       "    </tr>\n",
       "    <tr>\n",
       "      <th>146</th>\n",
       "      <td>I10093</td>\n",
       "      <td>M</td>\n",
       "      <td>Israel_MLBA_Canaanite</td>\n",
       "    </tr>\n",
       "    <tr>\n",
       "      <th>147</th>\n",
       "      <td>I10097</td>\n",
       "      <td>F</td>\n",
       "      <td>Israel_MLBA_Canaanite</td>\n",
       "    </tr>\n",
       "    <tr>\n",
       "      <th>148</th>\n",
       "      <td>I10099</td>\n",
       "      <td>F</td>\n",
       "      <td>Israel_MLBA_Canaanite</td>\n",
       "    </tr>\n",
       "    <tr>\n",
       "      <th>149</th>\n",
       "      <td>I10100</td>\n",
       "      <td>F</td>\n",
       "      <td>Israel_MLBA_Canaanite_o</td>\n",
       "    </tr>\n",
       "    <tr>\n",
       "      <th>150</th>\n",
       "      <td>I10101</td>\n",
       "      <td>M</td>\n",
       "      <td>Israel_MLBA_Canaanite</td>\n",
       "    </tr>\n",
       "    <tr>\n",
       "      <th>151</th>\n",
       "      <td>I10104</td>\n",
       "      <td>M</td>\n",
       "      <td>Israel_MLBA_Canaanite</td>\n",
       "    </tr>\n",
       "    <tr>\n",
       "      <th>152</th>\n",
       "      <td>I10106</td>\n",
       "      <td>M</td>\n",
       "      <td>Israel_MLBA_Canaanite</td>\n",
       "    </tr>\n",
       "    <tr>\n",
       "      <th>154</th>\n",
       "      <td>I10264</td>\n",
       "      <td>M</td>\n",
       "      <td>Israel_MLBA_Canaanite</td>\n",
       "    </tr>\n",
       "    <tr>\n",
       "      <th>155</th>\n",
       "      <td>I10265</td>\n",
       "      <td>F</td>\n",
       "      <td>Israel_MLBA_Canaanite</td>\n",
       "    </tr>\n",
       "    <tr>\n",
       "      <th>156</th>\n",
       "      <td>I10266</td>\n",
       "      <td>M</td>\n",
       "      <td>Israel_MLBA_Canaanite</td>\n",
       "    </tr>\n",
       "    <tr>\n",
       "      <th>157</th>\n",
       "      <td>I10268</td>\n",
       "      <td>M</td>\n",
       "      <td>Israel_MLBA_Canaanite</td>\n",
       "    </tr>\n",
       "    <tr>\n",
       "      <th>158</th>\n",
       "      <td>I10361</td>\n",
       "      <td>M</td>\n",
       "      <td>Israel_MLBA_Canaanite_brother.I10359</td>\n",
       "    </tr>\n",
       "    <tr>\n",
       "      <th>186</th>\n",
       "      <td>I8187</td>\n",
       "      <td>M</td>\n",
       "      <td>Israel_MLBA_Canaanite</td>\n",
       "    </tr>\n",
       "    <tr>\n",
       "      <th>187</th>\n",
       "      <td>I8188</td>\n",
       "      <td>M</td>\n",
       "      <td>Israel_MLBA_Canaanite_son.I8187</td>\n",
       "    </tr>\n",
       "    <tr>\n",
       "      <th>256</th>\n",
       "      <td>I10771</td>\n",
       "      <td>F</td>\n",
       "      <td>Israel_MLBA_Canaanite</td>\n",
       "    </tr>\n",
       "    <tr>\n",
       "      <th>257</th>\n",
       "      <td>I10769</td>\n",
       "      <td>M</td>\n",
       "      <td>Israel_MLBA_Canaanite_brother.I10770</td>\n",
       "    </tr>\n",
       "    <tr>\n",
       "      <th>258</th>\n",
       "      <td>I10770</td>\n",
       "      <td>M</td>\n",
       "      <td>Israel_MLBA_Canaanite</td>\n",
       "    </tr>\n",
       "    <tr>\n",
       "      <th>259</th>\n",
       "      <td>I10768</td>\n",
       "      <td>M</td>\n",
       "      <td>Israel_MLBA_Canaanite</td>\n",
       "    </tr>\n",
       "    <tr>\n",
       "      <th>391</th>\n",
       "      <td>I10359_improved</td>\n",
       "      <td>M</td>\n",
       "      <td>Israel_MLBA_Canaanite</td>\n",
       "    </tr>\n",
       "    <tr>\n",
       "      <th>394</th>\n",
       "      <td>I10263_improved</td>\n",
       "      <td>F</td>\n",
       "      <td>Israel_MLBA_Canaanite</td>\n",
       "    </tr>\n",
       "    <tr>\n",
       "      <th>396</th>\n",
       "      <td>I10270_improved</td>\n",
       "      <td>F</td>\n",
       "      <td>Israel_MLBA_Canaanite_sister.I10101</td>\n",
       "    </tr>\n",
       "    <tr>\n",
       "      <th>481</th>\n",
       "      <td>I10263</td>\n",
       "      <td>F</td>\n",
       "      <td>Israel_MLBA_Canaanite_in.preparation</td>\n",
       "    </tr>\n",
       "    <tr>\n",
       "      <th>482</th>\n",
       "      <td>I10270</td>\n",
       "      <td>F</td>\n",
       "      <td>Israel_MLBA_Canaanite_sister.I10101_in.prepara...</td>\n",
       "    </tr>\n",
       "    <tr>\n",
       "      <th>483</th>\n",
       "      <td>I10359</td>\n",
       "      <td>M</td>\n",
       "      <td>Israel_MLBA_Canaanite_in.preparation</td>\n",
       "    </tr>\n",
       "  </tbody>\n",
       "</table>\n",
       "</div>"
      ],
      "text/plain": [
       "                 iid sex                                               clst\n",
       "36             I2189   M              Israel_MLBA_Canaanite_o_brother.I2200\n",
       "37             I2190   M                              Israel_MLBA_Canaanite\n",
       "38             I2195   M                              Israel_MLBA_Canaanite\n",
       "39             I2198   M                              Israel_MLBA_Canaanite\n",
       "40             I2200   F                            Israel_MLBA_Canaanite_o\n",
       "67             I4518   M                              Israel_MLBA_Canaanite\n",
       "68             I4519   M                              Israel_MLBA_Canaanite\n",
       "69             I4525   M                              Israel_MLBA_Canaanite\n",
       "145           I10092   F                              Israel_MLBA_Canaanite\n",
       "146           I10093   M                              Israel_MLBA_Canaanite\n",
       "147           I10097   F                              Israel_MLBA_Canaanite\n",
       "148           I10099   F                              Israel_MLBA_Canaanite\n",
       "149           I10100   F                            Israel_MLBA_Canaanite_o\n",
       "150           I10101   M                              Israel_MLBA_Canaanite\n",
       "151           I10104   M                              Israel_MLBA_Canaanite\n",
       "152           I10106   M                              Israel_MLBA_Canaanite\n",
       "154           I10264   M                              Israel_MLBA_Canaanite\n",
       "155           I10265   F                              Israel_MLBA_Canaanite\n",
       "156           I10266   M                              Israel_MLBA_Canaanite\n",
       "157           I10268   M                              Israel_MLBA_Canaanite\n",
       "158           I10361   M               Israel_MLBA_Canaanite_brother.I10359\n",
       "186            I8187   M                              Israel_MLBA_Canaanite\n",
       "187            I8188   M                    Israel_MLBA_Canaanite_son.I8187\n",
       "256           I10771   F                              Israel_MLBA_Canaanite\n",
       "257           I10769   M               Israel_MLBA_Canaanite_brother.I10770\n",
       "258           I10770   M                              Israel_MLBA_Canaanite\n",
       "259           I10768   M                              Israel_MLBA_Canaanite\n",
       "391  I10359_improved   M                              Israel_MLBA_Canaanite\n",
       "394  I10263_improved   F                              Israel_MLBA_Canaanite\n",
       "396  I10270_improved   F                Israel_MLBA_Canaanite_sister.I10101\n",
       "481           I10263   F               Israel_MLBA_Canaanite_in.preparation\n",
       "482           I10270   F  Israel_MLBA_Canaanite_sister.I10101_in.prepara...\n",
       "483           I10359   M               Israel_MLBA_Canaanite_in.preparation"
      ]
     },
     "execution_count": 38,
     "metadata": {},
     "output_type": "execute_result"
    }
   ],
   "source": [
    "df_ind[df_ind[\"clst\"].str.contains(\"Israel_MLBA_Canaanite\")]"
   ]
  },
  {
   "cell_type": "code",
   "execution_count": 24,
   "metadata": {},
   "outputs": [],
   "source": [
    "### Overwrite Group Names DELETE NEXT TIME\n",
    "#overwrite_ind_df(df_ind, \"Morocco_LN\", overwrite=\"Morocco_LN\")\n",
    "#overwrite_ind_df(df_ind, \"Morocco_EN\", overwrite=\"Morocco_EN\")\n",
    "#overwrite_ind_df(df_ind, \"Morocco_Iberomaurusian\", overwrite=\"Morocco_Iberomaurusian\")\n",
    "#overwrite_ind_df(df_ind, \"YRI\", overwrite=\"YRI\")"
   ]
  },
  {
   "cell_type": "code",
   "execution_count": null,
   "metadata": {},
   "outputs": [],
   "source": [
    "### Populations to overwrite. Typically because they have the \".SG\" label\n",
    "pops_overwrite12 = [[\"Morocco_LN\", \"Morocco_LN\"], [\"Morocco_EN\", \"Morocco_EN\"],\n",
    "                   [\"Morocco_Iberomaurusian\",\"Morocco_Iberomaurusian\"], [\"YRI\", \"YRI\"]]\n",
    "\n",
    "### Population to overwrite because they are the target\n",
    "pops_overwrite = [\"Sardinia\", \"Algeria\", \"Spain\", \"Ibiza\", \"Sicily\"]\n",
    "\n",
    "ind_modified=\"./eigenstrat/combined/punic.v44_ind.ind\"    # Where to save the modified version to\n",
    "\n",
    "modifiy_iid_files(df_ind, pops_overwrite=pops_overwrite, \n",
    "                  pops_overwrite12=pops_overwrite12,\n",
    "                  ind_modified = ind_modified)"
   ]
  },
  {
   "cell_type": "markdown",
   "metadata": {},
   "source": [
    "### Split up Iberian Bronze Age and Sardinian Nuragic too"
   ]
  },
  {
   "cell_type": "code",
   "execution_count": 23,
   "metadata": {},
   "outputs": [
    {
     "name": "stdout",
     "output_type": "stream",
     "text": [
      "No Indivdiuals found\n",
      "No Indivdiuals found\n",
      "No Indivdiuals found\n",
      "No Indivdiuals found\n",
      "No Indivdiuals found\n",
      "No Indivdiuals found\n",
      "No Indivdiuals found\n",
      "No Indivdiuals found\n",
      "Found 56 Matches\n",
      "Iberia_BA                 42\n",
      "Iberia_BA.SG               5\n",
      "Iberia_BA_Cogotas          4\n",
      "Iberia_BA_all              2\n",
      "Iberia_BA_published        1\n",
      "Iberia_BA_1d.rel.I4560     1\n",
      "Iberia_BA_1d.rel.I4561     1\n",
      "Name: clst, dtype: int64\n",
      "Found 9 Matches\n",
      "Iberia_IA                         6\n",
      "Iberia_IA_PreIberian_published    1\n",
      "Iberia_IA_PreIberian_all          1\n",
      "Iberia_IA_PreIberian              1\n",
      "Name: clst, dtype: int64\n",
      "No Indivdiuals found\n",
      "No Indivdiuals found\n",
      "No Indivdiuals found\n",
      "No Indivdiuals found\n",
      "Found 11 Matches\n",
      "Iberia_Iberian              7\n",
      "Iberia_Iberian_all          2\n",
      "Iberia_Iberian_published    2\n",
      "Name: clst, dtype: int64\n",
      "Found 5 Matches\n",
      "Iberia_Celtiberian       3\n",
      "Iberia_Celtiberian.SG    1\n",
      "Iberia_Celtiberian.DG    1\n",
      "Name: clst, dtype: int64\n",
      "Found 4 Matches\n",
      "Iberia_Tartessian              2\n",
      "Iberia_Tartessian_all          1\n",
      "Iberia_Tartessian_published    1\n",
      "Name: clst, dtype: int64\n",
      "No Indivdiuals found\n",
      "Found 15 Matches\n",
      "Italy_Sardinia_BA_Nuragic    15\n",
      "Name: clst, dtype: int64\n",
      "No Indivdiuals found\n",
      "No Indivdiuals found\n",
      "Saved 655 Individuals to ./eigenstrat/combined/punic1.v43_mod_ib.ind\n"
     ]
    }
   ],
   "source": [
    "pops_overwrite = [\"Algeria_N\", \"Punic\", \"Italy_Sicily_Phoenician\",\n",
    "                  \"Sicily_IA_Polizzello\", \"Sicani\",\n",
    "                  \"Morocco_LN\", \"Punic_oAfrican\", \n",
    "                  \"Iberia_North_BA_Africa_all\", \"Iberia_BA\", \"Iberia_IA\",\n",
    "                  \"Iberia_Greek\", \"Iberia_Hellenistic\",\n",
    "                  \"Iberia_BellBeaker_o\", \"Gibraltar_N\", \n",
    "                  \"Iberia_Iberian\", \"Iberia_Celtiberian\", \"Iberia_Tartessian\",\n",
    "                  \"Italy_Sardinia_C_o\", \"Nuragic\",\n",
    "                  \"Nigeria_IA\", \"Nigeria_Medieval\"\n",
    "                  ]\n",
    "\n",
    "pops_overwrite12 = [[\"Morocco_LN\", \"Morocco_LN\"], [\"Morocco_EN\", \"Morocco_EN\"],\n",
    "                   [\"Morocco_Iberomaurusian\",\"Morocco_Iberomaurusian\"], [\"YRI\",\"YRI\"]]\n",
    "\n",
    "ind_modified=\"./eigenstrat/combined/punic.v44_ind.ind\"    # Where to save the modified version to\n",
    "\n",
    "modifiy_iid_files(df_ind, pops_overwrite=pops_overwrite, \n",
    "                  pops_overwrite12=pops_overwrite12,\n",
    "                  ind_modified = ind_modified)"
   ]
  },
  {
   "cell_type": "markdown",
   "metadata": {},
   "source": [
    "### Test indivdiual overwrites"
   ]
  },
  {
   "cell_type": "code",
   "execution_count": null,
   "metadata": {},
   "outputs": [],
   "source": [
    "overwrite_ind_df(df_ind, \"Canaanite\", \n",
    "                 output=True, overwrite=\"\")\n",
    "#YRI.SG\n",
    "#Gibraltar_N\n",
    "#Italy_Sardinia_C_o\n",
    "#Nigeria_IA"
   ]
  },
  {
   "cell_type": "markdown",
   "metadata": {},
   "source": [
    "# Area 51"
   ]
  },
  {
   "cell_type": "markdown",
   "metadata": {},
   "source": [
    "### Compare to David's Assignments"
   ]
  },
  {
   "cell_type": "code",
   "execution_count": 54,
   "metadata": {},
   "outputs": [],
   "source": [
    "df_t = pd.read_csv(\"/n/groups/reich/hringbauer/Data/Unpublished_data.tsv\", sep=\"\\t\")\n",
    "age_col = \"Average of 95.4% date range in calBP (defined as 1950 CE)  \""
   ]
  },
  {
   "cell_type": "code",
   "execution_count": null,
   "metadata": {},
   "outputs": [],
   "source": [
    "df_t.str.contains()"
   ]
  },
  {
   "cell_type": "code",
   "execution_count": 35,
   "metadata": {},
   "outputs": [],
   "source": [
    "group_col = 'Group_ID (format convention which we try to adhere to is \"Country_<Geographic.Region_<Geographic.Subregion_>><Archaeological.Period.Or.DateBP_<Alternative.Archaeological.Period_>><Archaeological.Culture_<Alternative.Archaeological.Culture>><genetic.subgrouping.index.if.necessary_><\"o_\"sometimes.with.additional.detail.if.an.outlier><additional.suffix.especially.relative.status.if.we.recommend.removing.from.main.analysis.grouping><\"contam_\".if.contaminated><\"lc_\".if.<15000.SNPs.on.autosomal.targets><\".SG\".or.\".DG\".if.shotgun.data>; HG=hunter-gatherer, N=Neolithic, C=Chalcolithic/CopperAge, BA=BronzeAge, IA=IronAge, E=Early, M=Middle, L=Late, A=Antiquity)'\n",
    "groups = df_t[group_col]"
   ]
  },
  {
   "cell_type": "code",
   "execution_count": 36,
   "metadata": {},
   "outputs": [
    {
     "name": "stdout",
     "output_type": "stream",
     "text": [
      "Found 174 Individuals\n"
     ]
    }
   ],
   "source": [
    "clsts_list = \"|\".join(clsts)\n",
    "idx = groups.str.contains(clsts_list)\n",
    "print(f\"Found {np.sum(idx)} Individuals\")\n",
    "df_found = df_t[idx]"
   ]
  },
  {
   "cell_type": "code",
   "execution_count": null,
   "metadata": {},
   "outputs": [],
   "source": [
    "df_found[150:174][[\"Master ID\", group_col, \"Publication\", \"Locality\", age_col]]"
   ]
  },
  {
   "cell_type": "code",
   "execution_count": 59,
   "metadata": {},
   "outputs": [],
   "source": [
    "df_found.to_csv(\"./output/tables/samples_claim.tsv\", sep=\"\\t\")"
   ]
  },
  {
   "cell_type": "code",
   "execution_count": 17,
   "metadata": {},
   "outputs": [
    {
     "name": "stdout",
     "output_type": "stream",
     "text": [
      "Loaded 635 Individuals\n"
     ]
    }
   ],
   "source": [
    "ind_merged=\"./eigenstrat/combined/punic1.v43.ind\"          # What .ind to load\n",
    "df_ind = pd.read_csv(ind_merged, delim_whitespace=True, header=None)\n",
    "df_ind.columns=[\"iid\", \"sex\", \"clst\"]\n",
    "print(f\"Loaded {len(df_ind)} Individuals\")"
   ]
  },
  {
   "cell_type": "code",
   "execution_count": null,
   "metadata": {},
   "outputs": [],
   "source": [
    "overwrite_ind_df(df_ind, \"Iberia\", output=True)"
   ]
  },
  {
   "cell_type": "code",
   "execution_count": null,
   "metadata": {},
   "outputs": [],
   "source": [
    "df_ind[df_ind[\"clst\"].str.contains(\"Iberia_Punic\")]"
   ]
  }
 ],
 "metadata": {
  "kernelspec": {
   "display_name": "Python 3",
   "language": "python",
   "name": "python3"
  },
  "language_info": {
   "codemirror_mode": {
    "name": "ipython",
    "version": 3
   },
   "file_extension": ".py",
   "mimetype": "text/x-python",
   "name": "python",
   "nbconvert_exporter": "python",
   "pygments_lexer": "ipython3",
   "version": "3.7.4"
  }
 },
 "nbformat": 4,
 "nbformat_minor": 4
}
