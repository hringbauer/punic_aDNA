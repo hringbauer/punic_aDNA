{
 "cells": [
  {
   "cell_type": "markdown",
   "metadata": {},
   "source": [
    "# Prepare Files for qpAdm"
   ]
  },
  {
   "cell_type": "code",
   "execution_count": 1,
   "metadata": {},
   "outputs": [
    {
     "name": "stdout",
     "output_type": "stream",
     "text": [
      "compute-e-16-235.o2.rc.hms.harvard.edu\n",
      "HSM Computational partition detected.\n",
      "/n/groups/reich/hringbauer/git/punic_aDNA\n",
      "CPU Count: 28\n",
      "3.7.4 (default, Sep 11 2019, 11:24:51) \n",
      "[GCC 6.2.0]\n"
     ]
    }
   ],
   "source": [
    "import numpy as np\n",
    "import os  # For Saving to Folder\n",
    "import pandas as pd\n",
    "import matplotlib.pyplot as plt\n",
    "\n",
    "import socket\n",
    "import os as os\n",
    "import sys as sys\n",
    "import multiprocessing as mp\n",
    "import itertools as it\n",
    "from time import time\n",
    "\n",
    "# For Arial Font\n",
    "from matplotlib import rcParams\n",
    "rcParams['font.family'] = 'sans-serif'   # Set the defaul\n",
    "# Make sure to have the font installed (it is on cluster for Harald)\n",
    "rcParams['font.sans-serif'] = ['Arial']\n",
    "\n",
    "socket_name = socket.gethostname()\n",
    "print(socket_name)\n",
    "\n",
    "if socket_name.startswith(\"compute-\"):\n",
    "    print(\"HSM Computational partition detected.\")\n",
    "    path = \"/n/groups/reich/hringbauer/git/punic_aDNA/\"  # The Path on Midway Cluster\n",
    "else:\n",
    "    raise RuntimeWarning(\"Not compatible machine. Check!!\")\n",
    "\n",
    "os.chdir(path)  # Set the right Path (in line with Atom default)\n",
    "# Show the current working directory. Should be HAPSBURG/Notebooks/ParallelRuns\n",
    "print(os.getcwd())\n",
    "print(f\"CPU Count: {mp.cpu_count()}\")\n",
    "print(sys.version)"
   ]
  },
  {
   "cell_type": "markdown",
   "metadata": {},
   "source": [
    "# Key Definitions"
   ]
  },
  {
   "cell_type": "code",
   "execution_count": 2,
   "metadata": {},
   "outputs": [],
   "source": [
    "base_path = \"/n/groups/reich/DAVID/V42/V42.3/v42.3\"\n",
    "ind_path = base_path + \".ind\""
   ]
  },
  {
   "cell_type": "code",
   "execution_count": 6,
   "metadata": {},
   "outputs": [],
   "source": [
    "#a13_new = [\"Sweden_HG_Motala\", \"Russia_Ust_Ishim.DG\", \"Russia_Kostenki14.SG\",\n",
    "#          \"Goyet_Neanderthal.SG\", \"Czech_Vestonice16\", \"Russia_MA1_HG.SG\",  \"Iberia_ElMiron\",\n",
    "#           \"Italy_North_HG_Villabruna\", \"Russia_HG_Karelia\", \"Israel_Natufian\", \"Iran_N_GanjDareh\"]\n",
    "#\n",
    "#distal = [\"Anatolia_N\", \"Iberia_HG\", \n",
    "#          \"Morocco_Iberomaurusian\", \n",
    "#          \"Russia_EBA_Yamnaya_Samara\"]\n",
    "\n",
    "#print(\"M13: %i popoulations\" % len(m13))\n",
    "#print(\"Anc_Euro: %i populations\" % len(a13_new))"
   ]
  },
  {
   "cell_type": "markdown",
   "metadata": {},
   "source": [
    "# Save Population File (what to pull)"
   ]
  },
  {
   "cell_type": "code",
   "execution_count": 30,
   "metadata": {},
   "outputs": [],
   "source": [
    "def return_pops(df, string, col=\"clst\", \n",
    "                output=False):\n",
    "    \"\"\"Return list of clusters that contain string.\"\"\"\n",
    "    df1 = df[df[col].str.contains(string)]\n",
    "    if output:\n",
    "        print(df1[col].value_counts())\n",
    "    clsts = list(set(df1[col].values))\n",
    "\n",
    "    return clsts"
   ]
  },
  {
   "cell_type": "code",
   "execution_count": 29,
   "metadata": {},
   "outputs": [
    {
     "name": "stdout",
     "output_type": "stream",
     "text": [
      "Loaded 16667 Individuals\n"
     ]
    }
   ],
   "source": [
    "df_ind = pd.read_csv(ind_path, delim_whitespace=True, header=None)\n",
    "df_ind.columns=[\"iid\", \"sex\", \"clst\"]\n",
    "print(f\"Loaded {len(df_ind)} Individuals\")"
   ]
  },
  {
   "cell_type": "code",
   "execution_count": null,
   "metadata": {},
   "outputs": [],
   "source": [
    "##############################################\n",
    "### Testing for single Populations Populations\n",
    "return_pops(df_ind, string=\"Sardinia\", \n",
    "            output=True);"
   ]
  },
  {
   "cell_type": "code",
   "execution_count": 118,
   "metadata": {},
   "outputs": [],
   "source": [
    "pops = [\"Algeria\", \"Morocco\", \"Punic\", \"Phoenician\", \n",
    "        \"Canaanite\", \"Ashkelon\", \"Greek_Sicily\", \"Sicily_IA\",\n",
    "        \"Israel_IA\", \"Israel_EIA\", \"Israel_Persian\", \"Gibraltar\",\n",
    "        \"Iberia_North_BA_Africa_all\", \"Iberia_BellBeaker_o\", \"Iberia_Greek\",\n",
    "        \"Iberia_Hellenistic\"]\n",
    "\n",
    "exclude_strings = [\"_lc\", \"contam\"]"
   ]
  },
  {
   "cell_type": "code",
   "execution_count": 131,
   "metadata": {},
   "outputs": [
    {
     "name": "stdout",
     "output_type": "stream",
     "text": [
      "Loaded 66 Populations\n",
      "After Exclusion 50\n"
     ]
    }
   ],
   "source": [
    "clsts = [return_pops(df_ind, string=pop, \n",
    "                     output=False) for pop in pops]\n",
    "\n",
    "clsts = [inner for ls in clsts for inner in ls]\n",
    "clsts = list(set(clsts)) # Filter to unique Elements\n",
    "print(f\"Loaded {len(clsts)} Populations\")\n",
    "\n",
    "### Exclude Strings\n",
    "for ex in exclude_strings:\n",
    "    clsts = [c for c in clsts if ex not in c]\n",
    "print(f\"After Exclusion {len(clsts)}\")"
   ]
  },
  {
   "cell_type": "markdown",
   "metadata": {},
   "source": [
    "# Save List of populations to keep"
   ]
  },
  {
   "cell_type": "code",
   "execution_count": 132,
   "metadata": {},
   "outputs": [],
   "source": [
    "#keep = np.array([\"Anatolia_N\", \"Iberia_HG\"])\n",
    "keep = np.array(clsts)\n",
    "path_keep = \"./explore_ntbk/parfiles/keep_pops\"\n",
    "np.savetxt(path_keep, keep, fmt=\"%s\")"
   ]
  },
  {
   "cell_type": "markdown",
   "metadata": {},
   "source": [
    "### Run convertf (with population list to keep)"
   ]
  },
  {
   "cell_type": "code",
   "execution_count": 133,
   "metadata": {},
   "outputs": [],
   "source": [
    "def run_convertf(path_convertf = \"./o2bin/convertf\", parfile = \"./explore_ntbk/parfiles/convertf.keep.par\"):\n",
    "    \"\"\"Runs the Downsampling\"\"\"\n",
    "    ! $path_convertf -p $parfile"
   ]
  },
  {
   "cell_type": "code",
   "execution_count": 134,
   "metadata": {},
   "outputs": [
    {
     "name": "stdout",
     "output_type": "stream",
     "text": [
      "parameter file: ./explore_ntbk/parfiles/convertf.keep.par\n",
      "BASE: /n/groups/reich/hringbauer\n",
      "DIR: explore_ntbk/v42/V42.3/v42.3\n",
      "OUT: explore_ntbk/eigenstrat/punic0.v43\n",
      "genotypename: /n/groups/reich/hringbauer/explore_ntbk/v42/V42.3/v42.3.geno\n",
      "snpname: /n/groups/reich/hringbauer/explore_ntbk/v42/V42.3/v42.3.snp\n",
      "indivname: /n/groups/reich/hringbauer/explore_ntbk/v42/V42.3/v42.3.ind\n",
      "genooutfilename: /n/groups/reich/hringbauer/explore_ntbk/eigenstrat/punic0.v43.geno\n",
      "snpoutfilename: /n/groups/reich/hringbauer/explore_ntbk/eigenstrat/punic0.v43.snp\n",
      "indoutfilename: /n/groups/reich/hringbauer/explore_ntbk/eigenstrat/punic0.v43.ind\n",
      "outputformat: PACKEDANCESTRYMAP\n",
      "hashcheck: YES\n",
      "poplistname: /n/groups/reich/hringbauer/explore_ntbk/parfiles/keep_pops\n",
      "## ./o2bin/convertf version: 5711\n",
      "read 1073741824 bytes\n",
      "read 2147483648 bytes\n",
      "read 3221225472 bytes\n",
      "read 4294967296 bytes\n",
      "read 5137965171 bytes\n",
      "packed geno read OK\n",
      "end of inpack\n",
      "before compress: snps: 1233013 indivs: 16667\n",
      "after compress: snps: 1233013 indivs: 174\n",
      "numvalidind:    174  maxmiss: 174001\n",
      "packedancestrymap output\n",
      "numsnps output: 1233013\n",
      "##end of convertf:      757.670 seconds cpu      759.456 Mbytes in use\n",
      "CPU times: user 17.3 s, sys: 1.84 s, total: 19.1 s\n",
      "Wall time: 12min 43s\n"
     ]
    }
   ],
   "source": [
    "%%time\n",
    "run_convertf(path_convertf = \"./o2bin/convertf\", \n",
    "             parfile = \"./explore_ntbk/parfiles/convertf.keep.par\")"
   ]
  },
  {
   "cell_type": "markdown",
   "metadata": {},
   "source": [
    "## Merge in Lazaridis Ancients with mergeit (with population list to keep)"
   ]
  },
  {
   "cell_type": "code",
   "execution_count": 8,
   "metadata": {},
   "outputs": [],
   "source": [
    "bin_merge_it = \"/n/groups/reich/hringbauer/o2bin/mergeit\"\n",
    "parfile_path = \"./parfiles/parMergeAddAnc\""
   ]
  },
  {
   "cell_type": "code",
   "execution_count": 10,
   "metadata": {},
   "outputs": [
    {
     "name": "stdout",
     "output_type": "stream",
     "text": [
      "parameter file: ./parfiles/parMergeAddAnc\n",
      "BASE: /n/groups/reich/hringbauer/git/punic_aDNA\n",
      "S1: eigenstrat/punic0.v43\n",
      "S2: eigenstrat/additional/MinMyc\n",
      "OUT: eigenstrat/combined/punic0.v43\n",
      "geno1: /n/groups/reich/hringbauer/git/punic_aDNA/eigenstrat/punic0.v43.geno\n",
      "snp1: /n/groups/reich/hringbauer/git/punic_aDNA/eigenstrat/punic0.v43.snp\n",
      "ind1: /n/groups/reich/hringbauer/git/punic_aDNA/eigenstrat/punic0.v43.ind\n",
      "geno2: /n/groups/reich/hringbauer/git/punic_aDNA/eigenstrat/additional/MinMyc.geno\n",
      "snp2: /n/groups/reich/hringbauer/git/punic_aDNA/eigenstrat/additional/MinMyc.snp\n",
      "ind2: /n/groups/reich/hringbauer/git/punic_aDNA/eigenstrat/additional/MinMyc.ind\n",
      "genooutfilename: /n/groups/reich/hringbauer/git/punic_aDNA/eigenstrat/combined/punic0.v43.geno\n",
      "snpoutfilename: /n/groups/reich/hringbauer/git/punic_aDNA/eigenstrat/combined/punic0.v43.snp\n",
      "indoutfilename: /n/groups/reich/hringbauer/git/punic_aDNA/eigenstrat/combined/punic0.v43.ind\n",
      "docheck: YES\n",
      "hashcheck: NO\n",
      "allowdups: YES\n",
      "packed geno read OK\n",
      "end of inpack\n",
      "packed geno read OK\n",
      "end of inpack\n",
      "numsnps input: 1233013 1233013\n",
      "packedancestrymap output\n",
      "numsnps output: 1196712  numindivs: 527\n",
      "\n",
      "\n",
      "Histogram of checkmatch return codes\n",
      "kode:   -2  36301  A/T or C/G and strandcheck\n",
      "kode:    1 1196712  SNP OK (no flip)\n",
      "total:        1233013\n",
      "\n",
      "##end of mergeit:      112.370 seconds cpu     1384.890 Mbytes in use\n",
      "CPU times: user 2.18 s, sys: 203 ms, total: 2.39 s\n",
      "Wall time: 1min 54s\n"
     ]
    }
   ],
   "source": [
    "%%time\n",
    "! $bin_merge_it -p $parfile_path"
   ]
  },
  {
   "cell_type": "markdown",
   "metadata": {},
   "source": [
    "# Prepare Individual File [Stand Alone]"
   ]
  },
  {
   "cell_type": "code",
   "execution_count": 12,
   "metadata": {},
   "outputs": [
    {
     "name": "stdout",
     "output_type": "stream",
     "text": [
      "Loaded 527 Individuals\n"
     ]
    }
   ],
   "source": [
    "ind_merged=\"./eigenstrat/combined/punic0.v43.ind\"          # What .ind to load\n",
    "df_ind = pd.read_csv(ind_merged, delim_whitespace=True, header=None)\n",
    "df_ind.columns=[\"iid\", \"sex\", \"clst\"]\n",
    "print(f\"Loaded {len(df_ind)} Individuals\")"
   ]
  },
  {
   "cell_type": "code",
   "execution_count": 25,
   "metadata": {},
   "outputs": [],
   "source": [
    "def overwrite_ind_df(df, string, col=\"clst\", \n",
    "                     output=False, overwrite=\"\", iids=False):\n",
    "    \"\"\"Overwrite Individual Dataframe where col\n",
    "    contains string. Return modified dataframe (Copy)\n",
    "    where overwrite is the new Cluster ID\n",
    "    iids: Overwrite with IIDs if given!\"\"\"\n",
    "    idx = df[col].str.contains(string)\n",
    "    \n",
    "    if np.sum(idx)==0:\n",
    "        if output: \n",
    "            print(\"No Indivdiuals found\")\n",
    "        return\n",
    "    \n",
    "    if output:\n",
    "        print(f\"Found {np.sum(idx)} Matches\")\n",
    "        print(df[idx][col].value_counts())\n",
    "    \n",
    "    ### Actually  overwrite the Column\n",
    "    if len(overwrite)>0:\n",
    "        df.loc[idx, col] = overwrite\n",
    "        if output: \n",
    "            print(f\"{np.sum(idx)} Overwritten!\")\n",
    "            \n",
    "    if iids:\n",
    "        df.loc[idx, col] = df.loc[idx, \"iid\"] "
   ]
  },
  {
   "cell_type": "markdown",
   "metadata": {},
   "source": [
    "### Test around [don't run]"
   ]
  },
  {
   "cell_type": "code",
   "execution_count": 24,
   "metadata": {},
   "outputs": [
    {
     "name": "stdout",
     "output_type": "stream",
     "text": [
      "Found 4 Matches\n",
      "Iberia_BellBeaker_o              2\n",
      "Iberia_BellBeaker_o2             1\n",
      "Iberia_BellBeaker_o_published    1\n",
      "Name: clst, dtype: int64\n"
     ]
    }
   ],
   "source": [
    "overwrite_ind_df(df_ind, \"Iberia_BellBeaker_o\", output=True, overwrite=\"\")"
   ]
  },
  {
   "cell_type": "markdown",
   "metadata": {},
   "source": [
    "### Actually overwrite"
   ]
  },
  {
   "cell_type": "code",
   "execution_count": 26,
   "metadata": {},
   "outputs": [],
   "source": [
    "### Overwrite Group Names\n",
    "overwrite_ind_df(df_ind, \"Morocco_LN\", overwrite=\"Morocco_LN\")\n",
    "overwrite_ind_df(df_ind, \"Morocco_EN\", overwrite=\"Morocco_EN\")\n",
    "overwrite_ind_df(df_ind, \"Morocco_Iberomaurusian\", overwrite=\"Morocco_Iberomaurusian\")"
   ]
  },
  {
   "cell_type": "code",
   "execution_count": 27,
   "metadata": {},
   "outputs": [
    {
     "name": "stdout",
     "output_type": "stream",
     "text": [
      "No Indivdiuals found\n",
      "No Indivdiuals found\n",
      "No Indivdiuals found\n",
      "No Indivdiuals found\n",
      "No Indivdiuals found\n",
      "No Indivdiuals found\n",
      "Found 4 Matches\n",
      "Iberia_BellBeaker_o              2\n",
      "Iberia_BellBeaker_o2             1\n",
      "Iberia_BellBeaker_o_published    1\n",
      "Name: clst, dtype: int64\n"
     ]
    }
   ],
   "source": [
    "### Overwrite Individual IIDs\n",
    "overwrite_ind_df(df_ind, \"Algeria_N\", \n",
    "                 iids=True, output=True)\n",
    "overwrite_ind_df(df_ind, \"Punic\", \n",
    "                 iids=True, output=True)\n",
    "overwrite_ind_df(df_ind, \"Italy_Sicily_Phoenician\", \n",
    "                 iids=True, output=True);\n",
    "overwrite_ind_df(df_ind, \"Morocco_LN\", \n",
    "                 iids=True, output=True)\n",
    "overwrite_ind_df(df_ind, \"Punic_oAfrican\", \n",
    "                 iids=True, output=True)\n",
    "overwrite_ind_df(df_ind, \"Iberia_North_BA_Africa_all\", \n",
    "                 iids=True, output=True)\n",
    "overwrite_ind_df(df_ind, \"Iberia_BellBeaker_o\", \n",
    "                 iids=True, output=True)"
   ]
  },
  {
   "cell_type": "markdown",
   "metadata": {},
   "source": [
    "### Save to Drive here\n",
    "mod.ind is standard (Morocco_LN not split up)  \n",
    "mod1.ind is with Morocc_LN split up  "
   ]
  },
  {
   "cell_type": "code",
   "execution_count": 28,
   "metadata": {},
   "outputs": [
    {
     "name": "stdout",
     "output_type": "stream",
     "text": [
      "Saved 527 Individuals to ./eigenstrat/combined/punic0.v43_mod1.ind\n"
     ]
    }
   ],
   "source": [
    "### Save\n",
    "ind_modified=\"./eigenstrat/combined/punic0.v43_mod1.ind\"    # Where to save the modified version to\n",
    "df_ind.to_csv(ind_modified, sep=\" \", index=None, header=False)\n",
    "print(f\"Saved {len(df_ind)} Individuals to {ind_modified}\")"
   ]
  },
  {
   "cell_type": "markdown",
   "metadata": {},
   "source": [
    "# Area 51"
   ]
  },
  {
   "cell_type": "code",
   "execution_count": 95,
   "metadata": {},
   "outputs": [
    {
     "name": "stdout",
     "output_type": "stream",
     "text": [
      "Loaded 527 Individuals\n"
     ]
    }
   ],
   "source": [
    "ind_merged=\"./eigenstrat/combined/punic0.v43.ind\"          # What .ind to load\n",
    "df_ind = pd.read_csv(ind_merged, delim_whitespace=True, header=None)\n",
    "df_ind.columns=[\"iid\", \"sex\", \"clst\"]\n",
    "print(f\"Loaded {len(df_ind)} Individuals\")"
   ]
  },
  {
   "cell_type": "code",
   "execution_count": 97,
   "metadata": {},
   "outputs": [
    {
     "name": "stdout",
     "output_type": "stream",
     "text": [
      "Found 9 Matches\n",
      "Italy_Sardinia_IA_Punic    9\n",
      "Name: clst, dtype: int64\n"
     ]
    }
   ],
   "source": [
    "overwrite_ind_df(df_ind, \"Sardinia\", output=True)"
   ]
  },
  {
   "cell_type": "code",
   "execution_count": 98,
   "metadata": {},
   "outputs": [
    {
     "data": {
      "text/html": [
       "<div>\n",
       "<style scoped>\n",
       "    .dataframe tbody tr th:only-of-type {\n",
       "        vertical-align: middle;\n",
       "    }\n",
       "\n",
       "    .dataframe tbody tr th {\n",
       "        vertical-align: top;\n",
       "    }\n",
       "\n",
       "    .dataframe thead th {\n",
       "        text-align: right;\n",
       "    }\n",
       "</style>\n",
       "<table border=\"1\" class=\"dataframe\">\n",
       "  <thead>\n",
       "    <tr style=\"text-align: right;\">\n",
       "      <th></th>\n",
       "      <th>iid</th>\n",
       "      <th>sex</th>\n",
       "      <th>clst</th>\n",
       "    </tr>\n",
       "  </thead>\n",
       "  <tbody>\n",
       "    <tr>\n",
       "      <th>165</th>\n",
       "      <td>MSR002</td>\n",
       "      <td>M</td>\n",
       "      <td>Italy_Sardinia_IA_Punic</td>\n",
       "    </tr>\n",
       "    <tr>\n",
       "      <th>166</th>\n",
       "      <td>MSR003</td>\n",
       "      <td>F</td>\n",
       "      <td>Italy_Sardinia_IA_Punic</td>\n",
       "    </tr>\n",
       "    <tr>\n",
       "      <th>167</th>\n",
       "      <td>ORC002</td>\n",
       "      <td>M</td>\n",
       "      <td>Italy_Sardinia_IA_Punic</td>\n",
       "    </tr>\n",
       "    <tr>\n",
       "      <th>168</th>\n",
       "      <td>VIL004</td>\n",
       "      <td>F</td>\n",
       "      <td>Italy_Sardinia_IA_Punic</td>\n",
       "    </tr>\n",
       "    <tr>\n",
       "      <th>169</th>\n",
       "      <td>VIL006</td>\n",
       "      <td>F</td>\n",
       "      <td>Italy_Sardinia_IA_Punic</td>\n",
       "    </tr>\n",
       "    <tr>\n",
       "      <th>170</th>\n",
       "      <td>VIL007</td>\n",
       "      <td>M</td>\n",
       "      <td>Italy_Sardinia_IA_Punic</td>\n",
       "    </tr>\n",
       "    <tr>\n",
       "      <th>171</th>\n",
       "      <td>VIL009</td>\n",
       "      <td>F</td>\n",
       "      <td>Italy_Sardinia_IA_Punic</td>\n",
       "    </tr>\n",
       "    <tr>\n",
       "      <th>172</th>\n",
       "      <td>VIL010</td>\n",
       "      <td>F</td>\n",
       "      <td>Italy_Sardinia_IA_Punic</td>\n",
       "    </tr>\n",
       "    <tr>\n",
       "      <th>173</th>\n",
       "      <td>VIL011</td>\n",
       "      <td>M</td>\n",
       "      <td>Italy_Sardinia_IA_Punic</td>\n",
       "    </tr>\n",
       "  </tbody>\n",
       "</table>\n",
       "</div>"
      ],
      "text/plain": [
       "        iid sex                     clst\n",
       "165  MSR002   M  Italy_Sardinia_IA_Punic\n",
       "166  MSR003   F  Italy_Sardinia_IA_Punic\n",
       "167  ORC002   M  Italy_Sardinia_IA_Punic\n",
       "168  VIL004   F  Italy_Sardinia_IA_Punic\n",
       "169  VIL006   F  Italy_Sardinia_IA_Punic\n",
       "170  VIL007   M  Italy_Sardinia_IA_Punic\n",
       "171  VIL009   F  Italy_Sardinia_IA_Punic\n",
       "172  VIL010   F  Italy_Sardinia_IA_Punic\n",
       "173  VIL011   M  Italy_Sardinia_IA_Punic"
      ]
     },
     "execution_count": 98,
     "metadata": {},
     "output_type": "execute_result"
    }
   ],
   "source": [
    "df_ind[df_ind[\"clst\"].str.contains(\"Sardinia\")]"
   ]
  },
  {
   "cell_type": "code",
   "execution_count": null,
   "metadata": {},
   "outputs": [],
   "source": []
  }
 ],
 "metadata": {
  "kernelspec": {
   "display_name": "Python 3",
   "language": "python",
   "name": "python3"
  },
  "language_info": {
   "codemirror_mode": {
    "name": "ipython",
    "version": 3
   },
   "file_extension": ".py",
   "mimetype": "text/x-python",
   "name": "python",
   "nbconvert_exporter": "python",
   "pygments_lexer": "ipython3",
   "version": "3.7.4"
  }
 },
 "nbformat": 4,
 "nbformat_minor": 4
}
