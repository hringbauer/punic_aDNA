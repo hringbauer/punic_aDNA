{
 "cells": [
  {
   "cell_type": "markdown",
   "metadata": {},
   "source": [
    "# Prepare Files for qpAdm"
   ]
  },
  {
   "cell_type": "code",
   "execution_count": 1,
   "metadata": {},
   "outputs": [
    {
     "name": "stdout",
     "output_type": "stream",
     "text": [
      "compute-e-16-229.o2.rc.hms.harvard.edu\n",
      "HSM Computational partition detected.\n",
      "/n/groups/reich/hringbauer/git/punic_aDNA\n",
      "CPU Count: 28\n",
      "3.7.4 (default, Sep 11 2019, 11:24:51) \n",
      "[GCC 6.2.0]\n"
     ]
    }
   ],
   "source": [
    "import numpy as np\n",
    "import os  # For Saving to Folder\n",
    "import pandas as pd\n",
    "import matplotlib.pyplot as plt\n",
    "\n",
    "import socket\n",
    "import os as os\n",
    "import sys as sys\n",
    "import multiprocessing as mp\n",
    "import itertools as it\n",
    "from time import time\n",
    "\n",
    "# For Arial Font\n",
    "from matplotlib import rcParams\n",
    "rcParams['font.family'] = 'sans-serif'   # Set the defaul\n",
    "# Make sure to have the font installed (it is on cluster for Harald)\n",
    "rcParams['font.sans-serif'] = ['Arial']\n",
    "\n",
    "socket_name = socket.gethostname()\n",
    "print(socket_name)\n",
    "\n",
    "if socket_name.startswith(\"compute-\"):\n",
    "    print(\"HSM Computational partition detected.\")\n",
    "    path = \"/n/groups/reich/hringbauer/git/punic_aDNA/\"  # The Path on Midway Cluster\n",
    "else:\n",
    "    raise RuntimeWarning(\"Not compatible machine. Check!!\")\n",
    "\n",
    "os.chdir(path)  # Set the right Path (in line with Atom default)\n",
    "# Show the current working directory. Should be HAPSBURG/Notebooks/ParallelRuns\n",
    "print(os.getcwd())\n",
    "print(f\"CPU Count: {mp.cpu_count()}\")\n",
    "print(sys.version)"
   ]
  },
  {
   "cell_type": "markdown",
   "metadata": {},
   "source": [
    "# Key Definitions"
   ]
  },
  {
   "cell_type": "code",
   "execution_count": 2,
   "metadata": {},
   "outputs": [],
   "source": [
    "base_path = \"/n/groups/reich/DAVID/V42/V42.3/v42.3\"\n",
    "ind_path = base_path + \".ind\""
   ]
  },
  {
   "cell_type": "code",
   "execution_count": 6,
   "metadata": {},
   "outputs": [],
   "source": [
    "#a13_new = [\"Sweden_HG_Motala\", \"Russia_Ust_Ishim.DG\", \"Russia_Kostenki14.SG\",\n",
    "#          \"Goyet_Neanderthal.SG\", \"Czech_Vestonice16\", \"Russia_MA1_HG.SG\",  \"Iberia_ElMiron\",\n",
    "#           \"Italy_North_HG_Villabruna\", \"Russia_HG_Karelia\", \"Israel_Natufian\", \"Iran_N_GanjDareh\"]\n",
    "#\n",
    "#distal = [\"Anatolia_N\", \"Iberia_HG\", \n",
    "#          \"Morocco_Iberomaurusian\", \n",
    "#          \"Russia_EBA_Yamnaya_Samara\"]\n",
    "\n",
    "#print(\"M13: %i popoulations\" % len(m13))\n",
    "#print(\"Anc_Euro: %i populations\" % len(a13_new))"
   ]
  },
  {
   "cell_type": "markdown",
   "metadata": {},
   "source": [
    "# Save Population File (what to pull)"
   ]
  },
  {
   "cell_type": "code",
   "execution_count": 3,
   "metadata": {},
   "outputs": [],
   "source": [
    "def return_pops(df, string, col=\"clst\", \n",
    "                output=False):\n",
    "    \"\"\"Return list of clusters that contain string.\"\"\"\n",
    "    df1 = df[df[col].str.contains(string)]\n",
    "    if output:\n",
    "        print(df1[col].value_counts())\n",
    "    clsts = list(set(df1[col].values))\n",
    "\n",
    "    return clsts"
   ]
  },
  {
   "cell_type": "code",
   "execution_count": 4,
   "metadata": {},
   "outputs": [
    {
     "name": "stdout",
     "output_type": "stream",
     "text": [
      "Loaded 16667 Individuals\n"
     ]
    }
   ],
   "source": [
    "df_ind = pd.read_csv(ind_path, delim_whitespace=True, header=None)\n",
    "df_ind.columns=[\"iid\", \"sex\", \"clst\"]\n",
    "print(f\"Loaded {len(df_ind)} Individuals\")"
   ]
  },
  {
   "cell_type": "code",
   "execution_count": 13,
   "metadata": {},
   "outputs": [
    {
     "name": "stdout",
     "output_type": "stream",
     "text": [
      "Italy_Sardinia_C_o    1\n",
      "Name: clst, dtype: int64\n"
     ]
    }
   ],
   "source": [
    "##############################################\n",
    "### Testing for single Populations Populations\n",
    "return_pops(df_ind, string=\"Italy_Sardinia_C_o\", \n",
    "            output=True);"
   ]
  },
  {
   "cell_type": "code",
   "execution_count": 14,
   "metadata": {},
   "outputs": [],
   "source": [
    "pops = [\"Algeria\", \"Morocco\", \"Punic\", \"Phoenician\", \n",
    "        \"Canaanite\", \"Ashkelon\", \"Greek_Sicily\", \"Sicily_IA\",\n",
    "        \"Israel_IA\", \"Israel_EIA\", \"Israel_Persian\", \"Gibraltar\",\n",
    "        \"Iberia_North_BA_Africa_all\", \"Iberia_BellBeaker_o\", \"Iberia_Greek\",\n",
    "        \"Iberia_Hellenistic\", \"Nigeria_IA\", \"Nigeria_Medieval\", \"YRI\", \"Italy_Sardinia_C_o\"]\n",
    "\n",
    "exclude_strings = [\"_lc\", \"contam\"]"
   ]
  },
  {
   "cell_type": "code",
   "execution_count": 15,
   "metadata": {},
   "outputs": [
    {
     "name": "stdout",
     "output_type": "stream",
     "text": [
      "Loaded 71 Populations\n",
      "After Exclusion 54\n"
     ]
    }
   ],
   "source": [
    "clsts = [return_pops(df_ind, string=pop, \n",
    "                     output=False) for pop in pops]\n",
    "\n",
    "clsts = [inner for ls in clsts for inner in ls]\n",
    "clsts = list(set(clsts)) # Filter to unique Elements\n",
    "print(f\"Loaded {len(clsts)} Populations\")\n",
    "\n",
    "### Exclude Strings\n",
    "for ex in exclude_strings:\n",
    "    clsts = [c for c in clsts if ex not in c]\n",
    "print(f\"After Exclusion {len(clsts)}\")"
   ]
  },
  {
   "cell_type": "markdown",
   "metadata": {},
   "source": [
    "# Save List of populations to keep"
   ]
  },
  {
   "cell_type": "code",
   "execution_count": 17,
   "metadata": {},
   "outputs": [],
   "source": [
    "#keep = np.array([\"Anatolia_N\", \"Iberia_HG\"])\n",
    "keep = np.array(clsts)\n",
    "path_keep = \"./parfiles/keep_pops\"\n",
    "np.savetxt(path_keep, keep, fmt=\"%s\")"
   ]
  },
  {
   "cell_type": "markdown",
   "metadata": {},
   "source": [
    "### Run convertf (with population list to keep)"
   ]
  },
  {
   "cell_type": "code",
   "execution_count": 18,
   "metadata": {},
   "outputs": [],
   "source": [
    "def run_convertf(path_convertf = \"./o2bin/convertf\", parfile = \"./explore_ntbk/parfiles/convertf.keep.par\"):\n",
    "    \"\"\"Runs the Downsampling\"\"\"\n",
    "    ! $path_convertf -p $parfile"
   ]
  },
  {
   "cell_type": "code",
   "execution_count": null,
   "metadata": {},
   "outputs": [
    {
     "name": "stdout",
     "output_type": "stream",
     "text": [
      "parameter file: ./parfiles/convertf.keep.par\n",
      "BASE: /n/groups/reich/hringbauer\n",
      "DIR: explore_ntbk/v42/V42.3/v42.3\n",
      "OUT: git/punic_aDNA/eigenstrat/punic1.v43\n",
      "genotypename: /n/groups/reich/hringbauer/explore_ntbk/v42/V42.3/v42.3.geno\n",
      "snpname: /n/groups/reich/hringbauer/explore_ntbk/v42/V42.3/v42.3.snp\n",
      "indivname: /n/groups/reich/hringbauer/explore_ntbk/v42/V42.3/v42.3.ind\n",
      "genooutfilename: /n/groups/reich/hringbauer/git/punic_aDNA/eigenstrat/punic1.v43.geno\n",
      "snpoutfilename: /n/groups/reich/hringbauer/git/punic_aDNA/eigenstrat/punic1.v43.snp\n",
      "indoutfilename: /n/groups/reich/hringbauer/git/punic_aDNA/eigenstrat/punic1.v43.ind\n",
      "outputformat: PACKEDANCESTRYMAP\n",
      "hashcheck: YES\n",
      "poplistname: /n/groups/reich/hringbauer/git/punic_aDNA/parfiles/keep_pops\n",
      "## /n/groups/reich/hringbauer/o2bin/convertf version: 5711\n",
      "read 1073741824 bytes\n",
      "read 2147483648 bytes\n",
      "read 3221225472 bytes\n",
      "read 4294967296 bytes\n",
      "read 5137965171 bytes\n",
      "packed geno read OK\n"
     ]
    }
   ],
   "source": [
    "%%time\n",
    "run_convertf(path_convertf = \"/n/groups/reich/hringbauer/o2bin/convertf\", \n",
    "             parfile = \"./parfiles/convertf.keep.par\")"
   ]
  },
  {
   "cell_type": "markdown",
   "metadata": {},
   "source": [
    "## Merge in Lazaridis Ancients with mergeit (with population list to keep)"
   ]
  },
  {
   "cell_type": "code",
   "execution_count": 31,
   "metadata": {},
   "outputs": [],
   "source": [
    "bin_merge_it = \"/n/groups/reich/hringbauer/o2bin/mergeit\"\n",
    "parfile_path = \"./parfiles/parMergeAddAnc\""
   ]
  },
  {
   "cell_type": "code",
   "execution_count": 32,
   "metadata": {},
   "outputs": [
    {
     "name": "stdout",
     "output_type": "stream",
     "text": [
      "parameter file: ./parfiles/parMergeAddAnc\n",
      "BASE: /n/groups/reich/hringbauer/git/punic_aDNA\n",
      "S1: eigenstrat/punic1.v43\n",
      "S2: eigenstrat/additional/MinMyc\n",
      "OUT: eigenstrat/combined/punic1.v43\n",
      "geno1: /n/groups/reich/hringbauer/git/punic_aDNA/eigenstrat/punic1.v43.geno\n",
      "snp1: /n/groups/reich/hringbauer/git/punic_aDNA/eigenstrat/punic1.v43.snp\n",
      "ind1: /n/groups/reich/hringbauer/git/punic_aDNA/eigenstrat/punic1.v43.ind\n",
      "geno2: /n/groups/reich/hringbauer/git/punic_aDNA/eigenstrat/additional/MinMyc.geno\n",
      "snp2: /n/groups/reich/hringbauer/git/punic_aDNA/eigenstrat/additional/MinMyc.snp\n",
      "ind2: /n/groups/reich/hringbauer/git/punic_aDNA/eigenstrat/additional/MinMyc.ind\n",
      "genooutfilename: /n/groups/reich/hringbauer/git/punic_aDNA/eigenstrat/combined/punic1.v43.geno\n",
      "snpoutfilename: /n/groups/reich/hringbauer/git/punic_aDNA/eigenstrat/combined/punic1.v43.snp\n",
      "indoutfilename: /n/groups/reich/hringbauer/git/punic_aDNA/eigenstrat/combined/punic1.v43.ind\n",
      "docheck: YES\n",
      "hashcheck: NO\n",
      "allowdups: YES\n",
      "packed geno read OK\n",
      "end of inpack\n",
      "packed geno read OK\n",
      "end of inpack\n",
      "numsnps input: 1233013 1233013\n",
      "packedancestrymap output\n",
      "numsnps output: 1196712  numindivs: 642\n",
      "\n",
      "\n",
      "Histogram of checkmatch return codes\n",
      "kode:   -2  36301  A/T or C/G and strandcheck\n",
      "kode:    1 1196712  SNP OK (no flip)\n",
      "total:        1233013\n",
      "\n",
      "##end of mergeit:      191.490 seconds cpu     1356.235 Mbytes in use\n",
      "CPU times: user 19 s, sys: 1.97 s, total: 21 s\n",
      "Wall time: 3min 26s\n"
     ]
    }
   ],
   "source": [
    "%%time\n",
    "! $bin_merge_it -p $parfile_path"
   ]
  },
  {
   "cell_type": "markdown",
   "metadata": {},
   "source": [
    "# Prepare Individual File [Stand Alone from here]"
   ]
  },
  {
   "cell_type": "code",
   "execution_count": 43,
   "metadata": {},
   "outputs": [
    {
     "name": "stdout",
     "output_type": "stream",
     "text": [
      "Loaded 642 Individuals\n"
     ]
    }
   ],
   "source": [
    "ind_merged=\"./eigenstrat/combined/punic1.v43.ind\"          # What .ind to load\n",
    "df_ind = pd.read_csv(ind_merged, delim_whitespace=True, header=None)\n",
    "df_ind.columns=[\"iid\", \"sex\", \"clst\"]\n",
    "print(f\"Loaded {len(df_ind)} Individuals\")"
   ]
  },
  {
   "cell_type": "code",
   "execution_count": 44,
   "metadata": {},
   "outputs": [],
   "source": [
    "def overwrite_ind_df(df, string, col=\"clst\", \n",
    "                     output=False, overwrite=\"\", iids=False):\n",
    "    \"\"\"Overwrite Individual Dataframe where col\n",
    "    contains string. Return modified dataframe (Copy)\n",
    "    where overwrite is the new Cluster ID\n",
    "    iids: Overwrite with IIDs if given!\"\"\"\n",
    "    idx = df[col].str.contains(string)\n",
    "    \n",
    "    if np.sum(idx)==0:\n",
    "        if output: \n",
    "            print(\"No Indivdiuals found\")\n",
    "        return\n",
    "    \n",
    "    if output:\n",
    "        print(f\"Found {np.sum(idx)} Matches\")\n",
    "        print(df[idx][col].value_counts())\n",
    "    \n",
    "    ### Actually  overwrite the Column\n",
    "    if len(overwrite)>0:\n",
    "        df.loc[idx, col] = overwrite\n",
    "        if output: \n",
    "            print(f\"{np.sum(idx)} Overwritten!\")\n",
    "            \n",
    "    if iids:\n",
    "        df.loc[idx, col] = df.loc[idx, \"iid\"] "
   ]
  },
  {
   "cell_type": "markdown",
   "metadata": {},
   "source": [
    "### Test around [don't run]"
   ]
  },
  {
   "cell_type": "code",
   "execution_count": 51,
   "metadata": {},
   "outputs": [
    {
     "name": "stdout",
     "output_type": "stream",
     "text": [
      "Found 40 Matches\n",
      "Israel_MLBA_Canaanite                                 26\n",
      "Lebanon_MLBA_Canaanite_MBA.SG                          5\n",
      "Israel_MLBA_Canaanite_in.preparation                   2\n",
      "Israel_MLBA_Canaanite_brother.I10770                   1\n",
      "Israel_MLBA_Canaanite_brother.I10359                   1\n",
      "Israel_MLBA_Canaanite_sister.I10101_in.preparation     1\n",
      "Israel_MLBA_Canaanite_sister.I10101                    1\n",
      "Israel_MLBA_Canaanite_son.I8187                        1\n",
      "Israel_MLBA_Canaanite_o                                1\n",
      "Israel_MLBA_Canaanite_o_brother.I2200                  1\n",
      "Name: clst, dtype: int64\n"
     ]
    }
   ],
   "source": [
    "overwrite_ind_df(df_ind, \"Canaanite\", \n",
    "                 output=True, overwrite=\"\")\n",
    "\n",
    "#YRI.SG\n",
    "#Gibraltar_N\n",
    "#Italy_Sardinia_C_o\n",
    "#Nigeria_IA"
   ]
  },
  {
   "cell_type": "markdown",
   "metadata": {},
   "source": [
    "### Actually overwrite"
   ]
  },
  {
   "cell_type": "code",
   "execution_count": 46,
   "metadata": {},
   "outputs": [],
   "source": [
    "### Overwrite Group Names\n",
    "overwrite_ind_df(df_ind, \"Morocco_LN\", overwrite=\"Morocco_LN\")\n",
    "overwrite_ind_df(df_ind, \"Morocco_EN\", overwrite=\"Morocco_EN\")\n",
    "overwrite_ind_df(df_ind, \"Morocco_Iberomaurusian\", overwrite=\"Morocco_Iberomaurusian\")\n",
    "overwrite_ind_df(df_ind, \"YRI\", overwrite=\"YRI\")"
   ]
  },
  {
   "cell_type": "code",
   "execution_count": 49,
   "metadata": {},
   "outputs": [
    {
     "name": "stdout",
     "output_type": "stream",
     "text": [
      "No Indivdiuals found\n",
      "No Indivdiuals found\n",
      "No Indivdiuals found\n",
      "No Indivdiuals found\n",
      "No Indivdiuals found\n",
      "No Indivdiuals found\n",
      "No Indivdiuals found\n",
      "No Indivdiuals found\n",
      "No Indivdiuals found\n",
      "No Indivdiuals found\n",
      "No Indivdiuals found\n"
     ]
    }
   ],
   "source": [
    "### Overwrite Individual IIDs\n",
    "overwrite_ind_df(df_ind, \"Algeria_N\", \n",
    "                 iids=True, output=True)\n",
    "overwrite_ind_df(df_ind, \"Punic\", \n",
    "                 iids=True, output=True)\n",
    "overwrite_ind_df(df_ind, \"Italy_Sicily_Phoenician\", \n",
    "                 iids=True, output=True);\n",
    "overwrite_ind_df(df_ind, \"Morocco_LN\", \n",
    "                 iids=True, output=True)\n",
    "overwrite_ind_df(df_ind, \"Punic_oAfrican\", \n",
    "                 iids=True, output=True)\n",
    "overwrite_ind_df(df_ind, \"Iberia_North_BA_Africa_all\", \n",
    "                 iids=True, output=True)\n",
    "overwrite_ind_df(df_ind, \"Iberia_BellBeaker_o\", \n",
    "                 iids=True, output=True)\n",
    "overwrite_ind_df(df_ind, \"Gibraltar_N\", \n",
    "                 iids=True, output=True)\n",
    "overwrite_ind_df(df_ind, \"Italy_Sardinia_C_o\", \n",
    "                 iids=True, output=True)\n",
    "overwrite_ind_df(df_ind, \"Nigeria_IA\", \n",
    "                 iids=True, output=True)\n",
    "overwrite_ind_df(df_ind, \"Nigeria_Medieval\", \n",
    "                 iids=True, output=True)"
   ]
  },
  {
   "cell_type": "markdown",
   "metadata": {},
   "source": [
    "### Save to Drive here\n",
    "mod.ind is standard (Morocco_LN not split up)  \n",
    "mod1.ind is with Morocc_LN split up  "
   ]
  },
  {
   "cell_type": "code",
   "execution_count": 48,
   "metadata": {},
   "outputs": [
    {
     "name": "stdout",
     "output_type": "stream",
     "text": [
      "Saved 642 Individuals to ./eigenstrat/combined/punic1.v43_mod1.ind\n"
     ]
    }
   ],
   "source": [
    "### Save\n",
    "ind_modified=\"./eigenstrat/combined/punic1.v43_mod1.ind\"    # Where to save the modified version to\n",
    "df_ind.to_csv(ind_modified, sep=\" \", index=None, header=False)\n",
    "print(f\"Saved {len(df_ind)} Individuals to {ind_modified}\")"
   ]
  },
  {
   "cell_type": "markdown",
   "metadata": {},
   "source": [
    "# Area 51"
   ]
  },
  {
   "cell_type": "code",
   "execution_count": 62,
   "metadata": {},
   "outputs": [
    {
     "name": "stdout",
     "output_type": "stream",
     "text": [
      "Loaded 642 Individuals\n"
     ]
    }
   ],
   "source": [
    "ind_merged=\"./eigenstrat/combined/punic1.v43.ind\"          # What .ind to load\n",
    "df_ind = pd.read_csv(ind_merged, delim_whitespace=True, header=None)\n",
    "df_ind.columns=[\"iid\", \"sex\", \"clst\"]\n",
    "print(f\"Loaded {len(df_ind)} Individuals\")"
   ]
  },
  {
   "cell_type": "code",
   "execution_count": 58,
   "metadata": {},
   "outputs": [
    {
     "name": "stdout",
     "output_type": "stream",
     "text": [
      "Found 35 Matches\n",
      "Israel_MLBA_Canaanite                                 26\n",
      "Israel_MLBA_Canaanite_in.preparation                   2\n",
      "Israel_MLBA_Canaanite_brother.I10770                   1\n",
      "Israel_MLBA_Canaanite_brother.I10359                   1\n",
      "Israel_MLBA_Canaanite_sister.I10101_in.preparation     1\n",
      "Israel_MLBA_Canaanite_sister.I10101                    1\n",
      "Israel_MLBA_Canaanite_son.I8187                        1\n",
      "Israel_MLBA_Canaanite_o                                1\n",
      "Israel_MLBA_Canaanite_o_brother.I2200                  1\n",
      "Name: clst, dtype: int64\n"
     ]
    }
   ],
   "source": [
    "overwrite_ind_df(df_ind, \"Israel_MLBA_Canaanite\", output=True)"
   ]
  },
  {
   "cell_type": "code",
   "execution_count": 67,
   "metadata": {},
   "outputs": [
    {
     "data": {
      "text/html": [
       "<div>\n",
       "<style scoped>\n",
       "    .dataframe tbody tr th:only-of-type {\n",
       "        vertical-align: middle;\n",
       "    }\n",
       "\n",
       "    .dataframe tbody tr th {\n",
       "        vertical-align: top;\n",
       "    }\n",
       "\n",
       "    .dataframe thead th {\n",
       "        text-align: right;\n",
       "    }\n",
       "</style>\n",
       "<table border=\"1\" class=\"dataframe\">\n",
       "  <thead>\n",
       "    <tr style=\"text-align: right;\">\n",
       "      <th></th>\n",
       "      <th>iid</th>\n",
       "      <th>sex</th>\n",
       "      <th>clst</th>\n",
       "    </tr>\n",
       "  </thead>\n",
       "  <tbody>\n",
       "    <tr>\n",
       "      <th>193</th>\n",
       "      <td>I12517</td>\n",
       "      <td>M</td>\n",
       "      <td>Iberia_Punic</td>\n",
       "    </tr>\n",
       "    <tr>\n",
       "      <th>233</th>\n",
       "      <td>I15434</td>\n",
       "      <td>F</td>\n",
       "      <td>Iberia_Punic</td>\n",
       "    </tr>\n",
       "    <tr>\n",
       "      <th>244</th>\n",
       "      <td>I18193</td>\n",
       "      <td>M</td>\n",
       "      <td>Iberia_Punic_oAfrican2</td>\n",
       "    </tr>\n",
       "    <tr>\n",
       "      <th>245</th>\n",
       "      <td>I18199</td>\n",
       "      <td>M</td>\n",
       "      <td>Iberia_Punic_o.3rd.degree.relative.cluster</td>\n",
       "    </tr>\n",
       "    <tr>\n",
       "      <th>246</th>\n",
       "      <td>I18202</td>\n",
       "      <td>M</td>\n",
       "      <td>Iberia_Punic_o.3rd.degree.relative.cluster</td>\n",
       "    </tr>\n",
       "    <tr>\n",
       "      <th>247</th>\n",
       "      <td>I18187</td>\n",
       "      <td>F</td>\n",
       "      <td>Iberia_Punic_oEuropean1</td>\n",
       "    </tr>\n",
       "    <tr>\n",
       "      <th>248</th>\n",
       "      <td>I18194</td>\n",
       "      <td>M</td>\n",
       "      <td>Iberia_Punic_oAfrican1</td>\n",
       "    </tr>\n",
       "    <tr>\n",
       "      <th>249</th>\n",
       "      <td>I18201</td>\n",
       "      <td>M</td>\n",
       "      <td>Iberia_Punic_o.3rd.degree.relative.cluster</td>\n",
       "    </tr>\n",
       "    <tr>\n",
       "      <th>250</th>\n",
       "      <td>I18191</td>\n",
       "      <td>F</td>\n",
       "      <td>Iberia_Punic_oEuropean2</td>\n",
       "    </tr>\n",
       "    <tr>\n",
       "      <th>251</th>\n",
       "      <td>I18400</td>\n",
       "      <td>F</td>\n",
       "      <td>Iberia_Punic_oAfrican1</td>\n",
       "    </tr>\n",
       "    <tr>\n",
       "      <th>252</th>\n",
       "      <td>I18205</td>\n",
       "      <td>F</td>\n",
       "      <td>Iberia_Punic_oAfrican2</td>\n",
       "    </tr>\n",
       "    <tr>\n",
       "      <th>253</th>\n",
       "      <td>I18401</td>\n",
       "      <td>F</td>\n",
       "      <td>Iberia_Punic_oAfrican1</td>\n",
       "    </tr>\n",
       "    <tr>\n",
       "      <th>254</th>\n",
       "      <td>I18189</td>\n",
       "      <td>M</td>\n",
       "      <td>Iberia_Punic_oAfrican2</td>\n",
       "    </tr>\n",
       "    <tr>\n",
       "      <th>255</th>\n",
       "      <td>I18198</td>\n",
       "      <td>F</td>\n",
       "      <td>Iberia_Punic_o.3rd.degree.relative.cluster</td>\n",
       "    </tr>\n",
       "    <tr>\n",
       "      <th>256</th>\n",
       "      <td>I18203</td>\n",
       "      <td>F</td>\n",
       "      <td>Iberia_Punic_o3</td>\n",
       "    </tr>\n",
       "    <tr>\n",
       "      <th>257</th>\n",
       "      <td>I18195</td>\n",
       "      <td>F</td>\n",
       "      <td>Iberia_Punic_o3</td>\n",
       "    </tr>\n",
       "    <tr>\n",
       "      <th>258</th>\n",
       "      <td>I18399</td>\n",
       "      <td>F</td>\n",
       "      <td>Iberia_Punic_oAfrican2</td>\n",
       "    </tr>\n",
       "  </tbody>\n",
       "</table>\n",
       "</div>"
      ],
      "text/plain": [
       "        iid sex                                        clst\n",
       "193  I12517   M                                Iberia_Punic\n",
       "233  I15434   F                                Iberia_Punic\n",
       "244  I18193   M                      Iberia_Punic_oAfrican2\n",
       "245  I18199   M  Iberia_Punic_o.3rd.degree.relative.cluster\n",
       "246  I18202   M  Iberia_Punic_o.3rd.degree.relative.cluster\n",
       "247  I18187   F                     Iberia_Punic_oEuropean1\n",
       "248  I18194   M                      Iberia_Punic_oAfrican1\n",
       "249  I18201   M  Iberia_Punic_o.3rd.degree.relative.cluster\n",
       "250  I18191   F                     Iberia_Punic_oEuropean2\n",
       "251  I18400   F                      Iberia_Punic_oAfrican1\n",
       "252  I18205   F                      Iberia_Punic_oAfrican2\n",
       "253  I18401   F                      Iberia_Punic_oAfrican1\n",
       "254  I18189   M                      Iberia_Punic_oAfrican2\n",
       "255  I18198   F  Iberia_Punic_o.3rd.degree.relative.cluster\n",
       "256  I18203   F                             Iberia_Punic_o3\n",
       "257  I18195   F                             Iberia_Punic_o3\n",
       "258  I18399   F                      Iberia_Punic_oAfrican2"
      ]
     },
     "execution_count": 67,
     "metadata": {},
     "output_type": "execute_result"
    }
   ],
   "source": [
    "df_ind[df_ind[\"clst\"].str.contains(\"Iberia_Punic\")]"
   ]
  },
  {
   "cell_type": "code",
   "execution_count": null,
   "metadata": {},
   "outputs": [],
   "source": []
  }
 ],
 "metadata": {
  "kernelspec": {
   "display_name": "Python 3",
   "language": "python",
   "name": "python3"
  },
  "language_info": {
   "codemirror_mode": {
    "name": "ipython",
    "version": 3
   },
   "file_extension": ".py",
   "mimetype": "text/x-python",
   "name": "python",
   "nbconvert_exporter": "python",
   "pygments_lexer": "ipython3",
   "version": "3.7.4"
  }
 },
 "nbformat": 4,
 "nbformat_minor": 4
}
