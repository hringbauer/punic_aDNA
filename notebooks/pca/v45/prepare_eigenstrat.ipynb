{
 "cells": [
  {
   "cell_type": "markdown",
   "metadata": {},
   "source": [
    "# Prepare Eigenstrat files to run PCA with HO SNPs\n",
    "Extract and Merge in relevant populations"
   ]
  },
  {
   "cell_type": "code",
   "execution_count": 1,
   "metadata": {},
   "outputs": [
    {
     "name": "stdout",
     "output_type": "stream",
     "text": [
      "compute-a-16-94.o2.rc.hms.harvard.edu\n",
      "HSM Computational partition detected.\n",
      "/n/groups/reich/hringbauer/git/punic_aDNA\n",
      "CPU Count: 32\n",
      "3.7.4 (default, Sep 11 2019, 11:24:51) \n",
      "[GCC 6.2.0]\n"
     ]
    }
   ],
   "source": [
    "import numpy as np\n",
    "import os  # For Saving to Folder\n",
    "import pandas as pd\n",
    "import matplotlib.pyplot as plt\n",
    "\n",
    "import socket\n",
    "import os as os\n",
    "import sys as sys\n",
    "import multiprocessing as mp\n",
    "import itertools as it\n",
    "from time import time\n",
    "\n",
    "socket_name = socket.gethostname()\n",
    "print(socket_name)\n",
    "\n",
    "if socket_name.startswith(\"compute-\"):\n",
    "    print(\"HSM Computational partition detected.\")\n",
    "    path = \"/n/groups/reich/hringbauer/git/punic_aDNA/\"  # The Path on Midway Cluster\n",
    "else:\n",
    "    raise RuntimeWarning(\"Not compatible machine. Check!!\")\n",
    "\n",
    "os.chdir(path)  # Set the right Path (in line with Atom default)\n",
    "# Show the current working directory. Should be HAPSBURG/Notebooks/ParallelRuns\n",
    "print(os.getcwd())\n",
    "print(f\"CPU Count: {mp.cpu_count()}\")\n",
    "print(sys.version)"
   ]
  },
  {
   "cell_type": "markdown",
   "metadata": {},
   "source": [
    "# Helper Functions"
   ]
  },
  {
   "cell_type": "code",
   "execution_count": 2,
   "metadata": {},
   "outputs": [],
   "source": [
    "def return_pops(df, string, col=\"clst\", \n",
    "                output=False):\n",
    "    \"\"\"Return list of clusters that contain string.\"\"\"\n",
    "    df1 = df[df[col].str.contains(string)]\n",
    "    if output:\n",
    "        print(df1[col].value_counts())\n",
    "    clsts = list(set(df1[col].values))\n",
    "    print(f\"Found #clsts labels containing {string}: {len(clsts)}\")\n",
    "\n",
    "    return clsts\n",
    "\n",
    "def run_convertf(path_convertf = \"./o2bin/convertf\", parfile = \"./parfiles/convertf.keep.par\"):\n",
    "    \"\"\"Runs the Downsampling\"\"\"\n",
    "    ! $path_convertf -p $parfile"
   ]
  },
  {
   "cell_type": "markdown",
   "metadata": {},
   "source": [
    "# Load the .ind File"
   ]
  },
  {
   "cell_type": "code",
   "execution_count": 3,
   "metadata": {},
   "outputs": [
    {
     "name": "stdout",
     "output_type": "stream",
     "text": [
      "Loaded 34761 Individuals\n"
     ]
    }
   ],
   "source": [
    "base_path = \"/n/groups/reich/DAVID/V46/V46.1/v46.1_HO\"\n",
    "ind_path = base_path + \".ind\"\n",
    "\n",
    "df_ind = pd.read_csv(ind_path, delim_whitespace=True, header=None)\n",
    "df_ind.columns=[\"iid\", \"sex\", \"clst\"]\n",
    "print(f\"Loaded {len(df_ind)} Individuals\")"
   ]
  },
  {
   "cell_type": "code",
   "execution_count": 4,
   "metadata": {},
   "outputs": [
    {
     "name": "stdout",
     "output_type": "stream",
     "text": [
      "Found #clsts labels containing Spain_BA: 2\n"
     ]
    },
    {
     "data": {
      "text/plain": [
       "['Spain_BA.SG', 'Spain_BA']"
      ]
     },
     "execution_count": 4,
     "metadata": {},
     "output_type": "execute_result"
    }
   ],
   "source": [
    "return_pops(df_ind, \"Spain_BA\")"
   ]
  },
  {
   "cell_type": "code",
   "execution_count": 14,
   "metadata": {},
   "outputs": [
    {
     "data": {
      "text/html": [
       "<div>\n",
       "<style scoped>\n",
       "    .dataframe tbody tr th:only-of-type {\n",
       "        vertical-align: middle;\n",
       "    }\n",
       "\n",
       "    .dataframe tbody tr th {\n",
       "        vertical-align: top;\n",
       "    }\n",
       "\n",
       "    .dataframe thead th {\n",
       "        text-align: right;\n",
       "    }\n",
       "</style>\n",
       "<table border=\"1\" class=\"dataframe\">\n",
       "  <thead>\n",
       "    <tr style=\"text-align: right;\">\n",
       "      <th></th>\n",
       "      <th>iid</th>\n",
       "      <th>sex</th>\n",
       "      <th>clst</th>\n",
       "    </tr>\n",
       "  </thead>\n",
       "  <tbody>\n",
       "    <tr>\n",
       "      <th>14454</th>\n",
       "      <td>I4369</td>\n",
       "      <td>F</td>\n",
       "      <td>Egypt_Dynastic_lc</td>\n",
       "    </tr>\n",
       "    <tr>\n",
       "      <th>17656</th>\n",
       "      <td>I4270_all</td>\n",
       "      <td>M</td>\n",
       "      <td>Egypt_Dynastic_all</td>\n",
       "    </tr>\n",
       "    <tr>\n",
       "      <th>17932</th>\n",
       "      <td>I4281_all</td>\n",
       "      <td>F</td>\n",
       "      <td>Egypt_Dynastic_Nubian_all</td>\n",
       "    </tr>\n",
       "    <tr>\n",
       "      <th>18244</th>\n",
       "      <td>I4270</td>\n",
       "      <td>M</td>\n",
       "      <td>Egypt_Dynastic</td>\n",
       "    </tr>\n",
       "    <tr>\n",
       "      <th>18248</th>\n",
       "      <td>I4281</td>\n",
       "      <td>F</td>\n",
       "      <td>Egypt_Dynastic_Nubian</td>\n",
       "    </tr>\n",
       "  </tbody>\n",
       "</table>\n",
       "</div>"
      ],
      "text/plain": [
       "             iid sex                       clst\n",
       "14454      I4369   F          Egypt_Dynastic_lc\n",
       "17656  I4270_all   M         Egypt_Dynastic_all\n",
       "17932  I4281_all   F  Egypt_Dynastic_Nubian_all\n",
       "18244      I4270   M             Egypt_Dynastic\n",
       "18248      I4281   F      Egypt_Dynastic_Nubian"
      ]
     },
     "execution_count": 14,
     "metadata": {},
     "output_type": "execute_result"
    }
   ],
   "source": [
    "df_ind[df_ind[\"clst\"].str.contains(\"Egypt_Dyn\")]"
   ]
  },
  {
   "cell_type": "markdown",
   "metadata": {},
   "source": [
    "# Definie what target populations to pull"
   ]
  },
  {
   "cell_type": "markdown",
   "metadata": {},
   "source": [
    "### Ancients"
   ]
  },
  {
   "cell_type": "code",
   "execution_count": 15,
   "metadata": {},
   "outputs": [
    {
     "name": "stdout",
     "output_type": "stream",
     "text": [
      "Found #clsts labels containing Algeria: 4\n",
      "Found #clsts labels containing Morocco: 8\n",
      "Found #clsts labels containing Tunisia: 6\n",
      "Found #clsts labels containing Punic: 33\n",
      "Found #clsts labels containing Phoenician: 3\n",
      "Found #clsts labels containing Spain_Vandal: 4\n",
      "Found #clsts labels containing Spain_LBASardinia: 0\n",
      "Found #clsts labels containing Ibiza: 1\n",
      "Found #clsts labels containing Israel_MLBA: 12\n",
      "Found #clsts labels containing Israel_LBA: 2\n",
      "Found #clsts labels containing Ashkelon: 4\n",
      "Found #clsts labels containing Sicily: 73\n",
      "Found #clsts labels containing Hellenistic: 32\n",
      "Found #clsts labels containing Israel_IA: 3\n",
      "Found #clsts labels containing Israel_EIA: 1\n",
      "Found #clsts labels containing Israel_Persian: 1\n",
      "Found #clsts labels containing Gibraltar: 2\n",
      "Found #clsts labels containing Spain_EBA_Afric: 3\n",
      "Found #clsts labels containing Spain_BellBeaker_oAfrican: 2\n",
      "Found #clsts labels containing Spain_Greek: 3\n",
      "Found #clsts labels containing Spain_Hellenistic: 4\n",
      "Found #clsts labels containing Spain_IA: 18\n",
      "Found #clsts labels containing Italy_Sardinia_C_oAfrican: 1\n",
      "Found #clsts labels containing Nigeria_IA: 1\n",
      "Found #clsts labels containing Nigeria_Medieval: 2\n",
      "Found #clsts labels containing Mallorca: 1\n",
      "Found #clsts labels containing Egypt_Hellenistic: 5\n",
      "Found #clsts labels containing Egypt_Roman: 3\n",
      "Found #clsts labels containing Egypt_Dynastic: 5\n",
      "Found #clsts labels containing Greece_: 48\n"
     ]
    }
   ],
   "source": [
    "pops = [\"Algeria\", \"Morocco\", \"Tunisia\", \"Punic\", \"Phoenician\", \"Spain_Vandal\", \"Spain_LBA\"\n",
    "        \"Sardinia\", \"Ibiza\", \"Israel_MLBA\", \"Israel_LBA\", \"Ashkelon\", \"Sicily\", \"Hellenistic\",\n",
    "        \"Israel_IA\", \"Israel_EIA\", \"Israel_Persian\", \"Gibraltar\",\n",
    "        \"Spain_EBA_Afric\", \"Spain_BellBeaker_oAfrican\", \"Spain_Greek\",\n",
    "        \"Spain_Hellenistic\", \"Spain_IA\", \"Italy_Sardinia_C_oAfrican\", \n",
    "        \"Nigeria_IA\", \"Nigeria_Medieval\", \"Mallorca\", \n",
    "        \"Egypt_Hellenistic\", \"Egypt_Roman\", \"Egypt_Dynastic\",\n",
    "        \"Greece_\"]\n",
    "\n",
    "exclude_strings = [\"_lc\", \"contam\"]\n",
    "\n",
    "clsts = [return_pops(df_ind, string=pop, \n",
    "                     output=False) for pop in pops]\n",
    "\n",
    "clsts = [inner for ls in clsts for inner in ls]"
   ]
  },
  {
   "cell_type": "markdown",
   "metadata": {},
   "source": [
    "### Moderns\n",
    "Get list of Human Origin Populations to keep"
   ]
  },
  {
   "cell_type": "code",
   "execution_count": 16,
   "metadata": {},
   "outputs": [
    {
     "name": "stdout",
     "output_type": "stream",
     "text": [
      "Loaded 1196 Individuals\n"
     ]
    }
   ],
   "source": [
    "path_ho = \"/n/groups/reich/hringbauer/git/punic_aDNA/parfiles/pca/construct_WE_NA_PCA.list\"\n",
    "\n",
    "df_ho = pd.read_csv(path_ho, header=None, sep=r\"\\s+\", engine=\"python\")\n",
    "df_ho.columns=[\"iid\", \"pop\"]\n",
    "print(f\"Loaded {len(df_ho)} Individuals\")\n",
    "\n",
    "pops = set(df_ho[\"pop\"])\n",
    "clsts1 = [p.rsplit(\"_\", 1)[0] for p in pops]\n",
    "l = [np.sum(df_ind[\"clst\"].str.contains(p)) for p in clsts1]\n",
    "assert(np.min(l)>0)"
   ]
  },
  {
   "cell_type": "markdown",
   "metadata": {},
   "source": [
    "# Prepare and save final pop list"
   ]
  },
  {
   "cell_type": "code",
   "execution_count": 19,
   "metadata": {},
   "outputs": [
    {
     "name": "stdout",
     "output_type": "stream",
     "text": [
      "Loaded 268 Populations\n",
      "After Exclusion 268 populations\n"
     ]
    }
   ],
   "source": [
    "exclude_strings = [\"_lc\", \"contam\", \"_d\"]\n",
    "\n",
    "clsts = list(set(clsts).union(set(clsts1))) # Filter to unique Elements\n",
    "print(f\"Loaded {len(clsts)} Populations\")\n",
    "\n",
    "### Exclude Strings\n",
    "for ex in exclude_strings:\n",
    "    clsts = [c for c in clsts if ex not in c]\n",
    "print(f\"After Exclusion {len(clsts)} populations\")\n",
    "\n",
    "### Originally Loaded 379 Populations\n",
    "# After Exclusion 289 populations"
   ]
  },
  {
   "cell_type": "code",
   "execution_count": 20,
   "metadata": {},
   "outputs": [
    {
     "name": "stdout",
     "output_type": "stream",
     "text": [
      "Saved 268 population names to ./parfiles/pca/keep_pops\n"
     ]
    }
   ],
   "source": [
    "keep = np.array(clsts)\n",
    "path_keep = \"./parfiles/pca/keep_pops\"\n",
    "np.savetxt(path_keep, keep, fmt=\"%s\")\n",
    "print(f\"Saved {len(keep)} population names to {path_keep}\")"
   ]
  },
  {
   "cell_type": "markdown",
   "metadata": {},
   "source": [
    "# Run convertf\n",
    "Takes about 20 min for all individuals\n",
    "\n",
    "Check additional parameters in manually encoded parfile!!"
   ]
  },
  {
   "cell_type": "code",
   "execution_count": 21,
   "metadata": {},
   "outputs": [
    {
     "name": "stdout",
     "output_type": "stream",
     "text": [
      "parameter file: ./parfiles/pca/convertf.keep.par\n",
      "BASE: /n/groups/reich/\n",
      "DIR: DAVID/V46/V46.1/v46.1_HO\n",
      "OUT: hringbauer/git/punic_aDNA/eigenstrat/punic1.v46_HO\n",
      "genotypename: /n/groups/reich//DAVID/V46/V46.1/v46.1_HO.geno\n",
      "snpname: /n/groups/reich//DAVID/V46/V46.1/v46.1_HO.snp\n",
      "indivname: /n/groups/reich//DAVID/V46/V46.1/v46.1_HO.ind\n",
      "genooutfilename: /n/groups/reich//hringbauer/git/punic_aDNA/eigenstrat/punic1.v46_HO.geno\n",
      "snpoutfilename: /n/groups/reich//hringbauer/git/punic_aDNA/eigenstrat/punic1.v46_HO.snp\n",
      "indoutfilename: /n/groups/reich//hringbauer/git/punic_aDNA/eigenstrat/punic1.v46_HO.ind\n",
      "outputformat: PACKEDANCESTRYMAP\n",
      "hashcheck: YES\n",
      "poplistname: /n/groups/reich//hringbauer/git/punic_aDNA/parfiles/pca/keep_pops\n",
      "## /n/groups/reich/hringbauer/o2bin/convertf version: 5722\n",
      "read 1073741824 bytes\n",
      "read 2147483648 bytes\n",
      "read 3221225472 bytes\n",
      "read 4294967296 bytes\n",
      "read 5193506943 bytes\n",
      "packed geno read OK\n",
      "end of inpack\n",
      "before compress: snps: 597573 indivs: 34761\n",
      "after compress: snps: 597573 indivs: 1938\n",
      "numvalidind:   1938  maxmiss: 1938001\n",
      "packedancestrymap output\n",
      "numsnps output: 597573\n",
      "##end of convertf:     1199.390 seconds cpu      368.038 Mbytes in use\n",
      "CPU times: user 29.6 s, sys: 6.15 s, total: 35.7 s\n",
      "Wall time: 21min 2s\n"
     ]
    }
   ],
   "source": [
    "%%time\n",
    "run_convertf(path_convertf = \"/n/groups/reich/hringbauer/o2bin/convertf\", \n",
    "             parfile = \"./parfiles/pca/convertf.keep.par\")"
   ]
  },
  {
   "cell_type": "markdown",
   "metadata": {},
   "source": [
    "# Modify the .ind file to have one population to project on in moderns"
   ]
  },
  {
   "cell_type": "code",
   "execution_count": null,
   "metadata": {},
   "outputs": [],
   "source": [
    "path_ind = \"/n/groups/reich/hringbauer/git/punic_aDNA/eigenstrat/punic1.v46_HO.ind\"\n",
    "path_mod = \"/n/groups/reich/hringbauer/git/punic_aDNA/eigenstrat/punic1.v46_HO_mod.ind\"\n",
    "\n",
    "df_ind = pd.read_csv(path_ind, header=None, sep=r\"\\s+\", engine=\"python\")\n",
    "df_ind.columns = [\"iid\", \"sex\", \"pop\"]\n",
    "iids = df_ho[\"iid\"].values # Alissas original IIDs\n",
    "idx = [iid in iids for iid in df_ind[\"iid\"]]\n",
    "print(f\"Found {np.sum(idx)}/{len(idx)} HO individuals\")\n",
    "\n",
    "df_ind.loc[idx, \"pop\"]  = \"construct_WE_NA_PCA\" #df_ind.loc[idx, \"pop\"] + \"_mod\" \n",
    "df_ind.to_csv(path_mod, sep=\" \", index=None, header=False)\n",
    "print(f\"Saved {len(df_ind)} overall individuals to {path_mod}\")\n",
    "\n",
    "### Sanity Check \n",
    "#idx = [p in pops for p in df_ind[\"pop\"]] \n",
    "idx = [(p==\"construct_WE_NA_PCA\") for p in df_ind[\"pop\"]] \n",
    "print(f\"Found {np.sum(idx)}/{len(idx)} of Alissas _mod pops\")\n",
    "# in v45: 1196/2169 "
   ]
  },
  {
   "cell_type": "code",
   "execution_count": 33,
   "metadata": {},
   "outputs": [
    {
     "name": "stdout",
     "output_type": "stream",
     "text": [
      "Found 1196/1196 of Alissas _mod pops\n"
     ]
    }
   ],
   "source": [
    "### Needed only for trouble shooting ###\n",
    "found = [iid in df_ind[\"iid\"].values for iid in df_ho[\"iid\"]]\n",
    "print(f\"Found {np.sum(found)}/{len(found)} of Alissas _mod pops\")\n",
    "#df_ho[~np.array(found)][\"pop\"].value_counts() # Only for"
   ]
  },
  {
   "cell_type": "code",
   "execution_count": null,
   "metadata": {},
   "outputs": [],
   "source": [
    "df_ind[\"pop\"].value_counts()"
   ]
  },
  {
   "cell_type": "code",
   "execution_count": null,
   "metadata": {},
   "outputs": [],
   "source": [
    "df_ind[df_ind[\"pop\"].str.contains(\"Tunisia_Ph\")]"
   ]
  },
  {
   "cell_type": "markdown",
   "metadata": {},
   "source": [
    "# And now sbatch the PCA script.\n",
    "Takes about 9h for 1000 extra samples\n",
    "\n",
    "See in `./parfiles/pca/`"
   ]
  },
  {
   "cell_type": "markdown",
   "metadata": {},
   "source": [
    "# Area 51"
   ]
  },
  {
   "cell_type": "code",
   "execution_count": 51,
   "metadata": {},
   "outputs": [],
   "source": [
    "path_ho = \"/n/groups/reich//hringbauer/git/punic_aDNA/eigenstrat/punic1.v44_HO.ind\"\n",
    "\n",
    "df_ho = pd.read_csv(path_ho, header=None, sep=r\"\\s+\", engine=\"python\")\n",
    "#df_ho.columns=[\"iid\", \"pop\"]"
   ]
  },
  {
   "cell_type": "code",
   "execution_count": 52,
   "metadata": {},
   "outputs": [
    {
     "data": {
      "text/html": [
       "<div>\n",
       "<style scoped>\n",
       "    .dataframe tbody tr th:only-of-type {\n",
       "        vertical-align: middle;\n",
       "    }\n",
       "\n",
       "    .dataframe tbody tr th {\n",
       "        vertical-align: top;\n",
       "    }\n",
       "\n",
       "    .dataframe thead th {\n",
       "        text-align: right;\n",
       "    }\n",
       "</style>\n",
       "<table border=\"1\" class=\"dataframe\">\n",
       "  <thead>\n",
       "    <tr style=\"text-align: right;\">\n",
       "      <th></th>\n",
       "      <th>0</th>\n",
       "      <th>1</th>\n",
       "      <th>2</th>\n",
       "    </tr>\n",
       "  </thead>\n",
       "  <tbody>\n",
       "    <tr>\n",
       "      <th>0</th>\n",
       "      <td>BBR2</td>\n",
       "      <td>M</td>\n",
       "      <td>Ignore_Morocco_Berber(first_degree_relative)</td>\n",
       "    </tr>\n",
       "    <tr>\n",
       "      <th>1</th>\n",
       "      <td>BBR6</td>\n",
       "      <td>M</td>\n",
       "      <td>Ignore_Morocco_Berber(first_degree_relative)</td>\n",
       "    </tr>\n",
       "    <tr>\n",
       "      <th>2</th>\n",
       "      <td>BBR18</td>\n",
       "      <td>M</td>\n",
       "      <td>Ignore_Morocco_Berber(first_degree_relative)</td>\n",
       "    </tr>\n",
       "    <tr>\n",
       "      <th>3</th>\n",
       "      <td>BBR21</td>\n",
       "      <td>M</td>\n",
       "      <td>Ignore_Morocco_Berber(first_degree_relative)</td>\n",
       "    </tr>\n",
       "    <tr>\n",
       "      <th>4</th>\n",
       "      <td>BBR23</td>\n",
       "      <td>M</td>\n",
       "      <td>Ignore_Morocco_Berber(first_degree_relative)</td>\n",
       "    </tr>\n",
       "    <tr>\n",
       "      <th>...</th>\n",
       "      <td>...</td>\n",
       "      <td>...</td>\n",
       "      <td>...</td>\n",
       "    </tr>\n",
       "    <tr>\n",
       "      <th>1940</th>\n",
       "      <td>I21964_d</td>\n",
       "      <td>U</td>\n",
       "      <td>Italy_Sardinia_Punic</td>\n",
       "    </tr>\n",
       "    <tr>\n",
       "      <th>1941</th>\n",
       "      <td>I22093_d</td>\n",
       "      <td>U</td>\n",
       "      <td>Italy_Sardinia_Punic</td>\n",
       "    </tr>\n",
       "    <tr>\n",
       "      <th>1942</th>\n",
       "      <td>I21971_d</td>\n",
       "      <td>U</td>\n",
       "      <td>Italy_Sicily_Punic</td>\n",
       "    </tr>\n",
       "    <tr>\n",
       "      <th>1943</th>\n",
       "      <td>I22094_d</td>\n",
       "      <td>U</td>\n",
       "      <td>Italy_Sardinia_Punic</td>\n",
       "    </tr>\n",
       "    <tr>\n",
       "      <th>1944</th>\n",
       "      <td>I22088_d</td>\n",
       "      <td>U</td>\n",
       "      <td>Italy_Sardinia_Punic</td>\n",
       "    </tr>\n",
       "  </tbody>\n",
       "</table>\n",
       "<p>1945 rows × 3 columns</p>\n",
       "</div>"
      ],
      "text/plain": [
       "             0  1                                             2\n",
       "0         BBR2  M  Ignore_Morocco_Berber(first_degree_relative)\n",
       "1         BBR6  M  Ignore_Morocco_Berber(first_degree_relative)\n",
       "2        BBR18  M  Ignore_Morocco_Berber(first_degree_relative)\n",
       "3        BBR21  M  Ignore_Morocco_Berber(first_degree_relative)\n",
       "4        BBR23  M  Ignore_Morocco_Berber(first_degree_relative)\n",
       "...        ... ..                                           ...\n",
       "1940  I21964_d  U                          Italy_Sardinia_Punic\n",
       "1941  I22093_d  U                          Italy_Sardinia_Punic\n",
       "1942  I21971_d  U                            Italy_Sicily_Punic\n",
       "1943  I22094_d  U                          Italy_Sardinia_Punic\n",
       "1944  I22088_d  U                          Italy_Sardinia_Punic\n",
       "\n",
       "[1945 rows x 3 columns]"
      ]
     },
     "execution_count": 52,
     "metadata": {},
     "output_type": "execute_result"
    }
   ],
   "source": [
    "df_ho"
   ]
  }
 ],
 "metadata": {
  "kernelspec": {
   "display_name": "Python 3",
   "language": "python",
   "name": "python3"
  },
  "language_info": {
   "codemirror_mode": {
    "name": "ipython",
    "version": 3
   },
   "file_extension": ".py",
   "mimetype": "text/x-python",
   "name": "python",
   "nbconvert_exporter": "python",
   "pygments_lexer": "ipython3",
   "version": "3.7.4"
  }
 },
 "nbformat": 4,
 "nbformat_minor": 4
}
