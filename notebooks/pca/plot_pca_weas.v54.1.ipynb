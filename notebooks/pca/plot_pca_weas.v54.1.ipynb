{
 "cells": [
  {
   "cell_type": "markdown",
   "metadata": {},
   "source": [
    "# Code to run and plot PCA"
   ]
  },
  {
   "cell_type": "code",
   "execution_count": null,
   "metadata": {},
   "outputs": [],
   "source": [
    "import numpy as np\n",
    "import os  # For Saving to Folder\n",
    "import pandas as pd\n",
    "import matplotlib.pyplot as plt\n",
    "\n",
    "import socket\n",
    "import os as os\n",
    "import sys as sys\n",
    "import multiprocessing as mp\n",
    "import itertools as it\n",
    "from time import time\n",
    "\n",
    "# For Arial Font\n",
    "from matplotlib import rcParams\n",
    "rcParams['font.family'] = 'sans-serif'   # Set the defaul\n",
    "rcParams['font.sans-serif'] = ['Arial']\n",
    "\n",
    "socket_name = socket.gethostname()\n",
    "print(socket_name)\n",
    "\n",
    "if socket_name.startswith(\"compute-\"):\n",
    "    print(\"HSM Computational partition detected.\")\n",
    "    path = \"/n/groups/reich/hringbauer/git/punic_aDNA/\"  # The Path on Midway Cluster\n",
    "else:\n",
    "    raise RuntimeWarning(\"Not compatible machine. Check!!\")\n",
    "\n",
    "os.chdir(path)  # Set the right Path (in line with Atom default)\n",
    "# Show the current working directory. Should be HAPSBURG/Notebooks/ParallelRuns\n",
    "print(os.getcwd())\n",
    "print(f\"CPU Count: {mp.cpu_count()}\")\n",
    "print(sys.version)"
   ]
  },
  {
   "cell_type": "code",
   "execution_count": null,
   "metadata": {},
   "outputs": [],
   "source": [
    "def remove_individuals(df, remove_list=[\"_d\"], iid_col=\"iid\"):\n",
    "    \"\"\"Remove indivdiuals from PCA dataframe\"\"\"\n",
    "    idx = df[iid_col].str.contains(\"|\".join(remove_list))\n",
    "    df = df[~idx].copy()\n",
    "    print(f\"Filtering to {len(df)}/{len(idx)}\")\n",
    "    return df\n",
    "\n",
    "def get_sub_iid(df, pop_list=[\"\"], iid_col=\"iid\", exact=False, output=True):\n",
    "    \"\"\"Remove indivdiuals from PCA dataframe\"\"\"\n",
    "    if exact:\n",
    "        idx = df[iid_col].isin(pop_list) \n",
    "    else:\n",
    "        pops = \"|\".join(pop_list)\n",
    "        idx = df[iid_col].str.contains(pops)\n",
    "\n",
    "    df = df[idx].copy()\n",
    "    if output:\n",
    "        print(f\"Matching IIDs: {len(df)}/{len(idx)}\")\n",
    "    return df\n",
    "\n",
    "def get_sub_pops(df, pop_list=[], pop_col=\"pop\"):\n",
    "    \"\"\"Get Sub Populations\"\"\"\n",
    "    pops = \"|\".join(pop_list)\n",
    "    idx = df[pop_col].str.contains(pops)\n",
    "    df = df[idx].copy()\n",
    "    print(f\"{pops} Found: {len(df)}/{len(idx)}\")\n",
    "    return df\n",
    "\n",
    "def get_sub_pops_exact(df, pop_list=[], pop_col=\"pop\"):\n",
    "    \"\"\"Get Sub Populations\"\"\"\n",
    "    idx = df[pop_col].isin(pop_list)\n",
    "    df = df[idx].copy()\n",
    "    print(f\"Found {pop_list} (exact): {len(df)}/{len(idx)}\")\n",
    "    return df\n",
    "\n",
    "def split_up_df(df, col=\"loc\"):\n",
    "    \"\"\"Split up Dataframe by column.\n",
    "    Return column labels and dataframes\"\"\"\n",
    "    locs = [l for l, _ in df.groupby(col)]\n",
    "    dfs = [df for _, df in df.groupby(col)]\n",
    "    return locs, dfs\n",
    "\n",
    "####################################################\n",
    "### Plotting PCA\n",
    "\n",
    "def plot_pca(ax, df, c=\"gray\", alpha=1.0, legend=\"\", marker=\"o\",\n",
    "             s=30, ec=None, text=False):\n",
    "    \"\"\"Plot PCA onto Axis\"\"\"\n",
    "    ax.scatter(-df[\"pc1\"], df[\"pc2\"], c=c, alpha=alpha, label=legend, \n",
    "               ec=ec, s=s, marker=marker)\n",
    "    if text:\n",
    "        x, y = -df[\"pc1\"].values, df[\"pc2\"].values\n",
    "        for i, txt in enumerate(df[\"iid\"]):\n",
    "            ax.annotate(txt, (x[i], y[i]), ha=\"left\", va=\"bottom\", c=c)\n",
    "            \n",
    "def plot_pca_ho(ax, df, c=\"gray\", alpha=1.0, legend=\"\", marker=\"o\",\n",
    "                s=30, ec=None, text=False):\n",
    "    \"\"\"Plot PCA onto Axis\"\"\"\n",
    "    ax.scatter(-df[\"pc1\"], df[\"pc2\"], c=c, alpha=alpha, label=legend, \n",
    "               ec=ec, s=s, marker=marker)\n",
    "    if text:\n",
    "        x, y = -df[\"pc1\"].values, df[\"pc2\"].values\n",
    "        for i, txt in enumerate(df[\"iid\"]):\n",
    "            ax.annotate(txt[:3], (x[i], y[i]), ha=\"center\", va=\"center\")   \n",
    "            \n",
    "###########################################################\n",
    "### Helper Functions\n",
    "\n",
    "def return_pca_matches(df, iid=\"I22119\",\n",
    "                       pcs = [\"pc1\", \"pc2\", \"pc3\", \"pc4\"]):\n",
    "    \"\"\"Return matches in pc space to sample iid.\n",
    "    Report sorted dataframe\"\"\"\n",
    "    pc_t = df[df[\"iid\"]==iid][pcs]\n",
    "    diffs = df[pcs]-pc_t.values\n",
    "    diff_sq = np.sum(diffs**2,axis=1)\n",
    "    idx = diff_sq.sort_values().index\n",
    "    return df.iloc[idx,:].copy()"
   ]
  },
  {
   "cell_type": "code",
   "execution_count": null,
   "metadata": {},
   "outputs": [],
   "source": [
    "min_snp = 20000\n",
    "path_pca = \"./output/pca/v54.1/20230602.punic.v54.1_HO2.construct_WE_NA_PCA.smYES.outitY.evec.txt\"\n",
    "path_meta = \"/n/groups/reich/hringbauer/Data/v54.1.anno.csv\"\n",
    "savepath=\"./output/pca/v54.1/pcs_meta.tsv\"\n",
    "\n",
    "\n",
    "df = pd.read_csv(path_pca, \n",
    "                 sep=r\"\\s+\", skiprows=1, header=None)\n",
    "df.columns=[\"iid\", \"pc1\", \"pc2\", \"pc3\", \"pc4\", \"pop\"]\n",
    "df = remove_individuals(df, remove_list=[\"_d\"])\n",
    "\n",
    "df_meta = pd.read_csv(path_meta, sep=\",\")\n",
    "df2 = df_meta[[\"iid\", \"Master ID\", \"loc\", \"n_cov_snp\", \n",
    "               \"mean_cov\", \"sex\", \"age\", \"contact\", \"clst\"]]\n",
    "df = pd.merge(df, df2, on=\"iid\", how=\"left\")\n",
    "df[\"clst\"].fillna(inplace = True, value=\"missing\") # Fill NaNs\n",
    "\n",
    "idx = (df[\"n_cov_snp\"]<min_snp)\n",
    "df = df[~idx]\n",
    "df.loc[df[\"loc\"].isnull(), \"loc\"]=\"not assigned\"\n",
    "print(f\"Filtered to {len(df)} Individuals based on Min SNP: {min_snp}\")\n",
    "\n",
    "df = df.sort_values(by=\"n_cov_snp\", ascending=False)\n",
    "dup = (df[\"Master ID\"].duplicated() & ~df[\"Master ID\"].isnull())\n",
    "df = df[~dup].copy().reset_index(drop=True)\n",
    "print(f\"Filtered to {len(df)} based on duplicates\")\n",
    "\n",
    "idx = df[\"iid\"]==\"I22257\" # The Sudan Outlier\n",
    "df=df[~idx].copy().reset_index(drop=True)\n",
    "print(f\"Filtered to {len(df)} based on manual removals\")\n",
    "#df[df[\"pop\"].str.contains(\"Lebanon\")]\n",
    "\n",
    "if len(savepath)>0:\n",
    "    #df.to_csv(savepath, sep=\"\\t\", index=False)\n",
    "    print(f\"Saved {len(df)} Indivduals with PCs to {savepath}\")"
   ]
  },
  {
   "cell_type": "markdown",
   "metadata": {},
   "source": [
    "### Get PCA populations"
   ]
  },
  {
   "cell_type": "code",
   "execution_count": null,
   "metadata": {},
   "outputs": [],
   "source": [
    "df_ho = get_sub_pops_exact(df, pop_list=[\"construct_WE_NA_PCA\"])\n",
    "df_is = get_sub_pops_exact(df, pop_list=[\"Israel_MLBA\"])\n",
    "df_is_o = get_sub_pops_exact(df, pop_list=[\"Israel_MLBA_o\"])\n",
    "\n",
    "df_le = get_sub_pops_exact(df, pop_list=[\"Lebanon_MBA.SG\"])\n",
    "#df_isp = get_sub_pops_exact(df, pop_list=[\"Israel_Phoenician\"])\n",
    "df_isp = get_sub_pops(df, pop_list=[\"Israel_Phoenician\"], pop_col=\"clst\")\n",
    "\n",
    "df_sard = get_sub_pops(df, pop_list=[\"Italy_Sardinia_Punic\"])\n",
    "df_sard_ba = get_sub_pops_exact(df, pop_list=[\"Italy_Sardinia_EBA\",\"Italy_Sardinia_BA_Nuragic\"])\n",
    "\n",
    "df_tun = get_sub_pops(df, pop_list=[\"Tunisia_N\", \"Tunisia_Mesolithic\", \"Tunisia_LN\"], pop_col=\"clst\")\n",
    "df_gua = get_sub_pops(df, pop_list=[\"Guanche\"])\n",
    "\n",
    "df_vil = get_sub_iid(df, [\"VIL\"])\n",
    "df_msr = get_sub_iid(df, [\"MSR\"])\n",
    "\n",
    "df_greek = get_sub_pops_exact(df, pop_list=[\"Greece_BA_Mycenaean\"])\n",
    "df_alg = get_sub_pops(df, pop_list=[\"Algeria_IA\"], pop_col=\"clst\")\n",
    "df_spain = get_sub_pops_exact(df, pop_list=[\"Spain_IA\"])\n",
    "\n",
    "df_sic_mba = get_sub_pops_exact(df, pop_list=[\"Italy_Sicily_MBA\"])\n",
    "\n",
    "df_vill = get_sub_pops(df, pop_list=[\"Villaricos\"], pop_col=\"loc\")\n",
    "df_vill = df_vill[(df_vill[\"clst\"].str.contains(\"Punic\")) & (df_vill[\"age\"]>2000)]\n",
    "df_ib = get_sub_pops(df, [\"Ibiza_Punic\"])\n",
    "#df_sic = get_sub_pops_exact(df, [\"Italy_Phoenician_Sicily\"])\n",
    "df_sic2 = get_sub_pops(df, [\"Italy_Sicily_Punic\"])\n",
    "df_mar = df_sic2[df_sic2[\"loc\"].str.contains(\"Marsala\")].copy()\n",
    "df_mot = df_sic2[df_sic2[\"loc\"].str.contains(\"Motya\")].copy()\n",
    "df_bir = df_sic2[df_sic2[\"loc\"].str.contains(\"Birgi\")].copy()\n",
    "df_sel = df_sic2[df_sic2[\"loc\"].str.contains(\"Selinunte\")].copy()\n",
    "df_pal = df_sic2[df_sic2[\"loc\"].str.contains(\"Palermo\")].copy()\n",
    "\n",
    "df_carth = get_sub_pops(df, pop_list=[\"Carthage\"], pop_col=\"loc\")\n",
    "df_carth = df_carth[df_carth[\"clst\"].str.contains(\"Punic\")]\n",
    "df_capbon = get_sub_pops(df, pop_list=[\"Cap Bon\"], pop_col=\"loc\")\n",
    "\n",
    "dft = get_sub_pops(df, [\"Spain_Punic\"])\n",
    "df_cad = get_sub_pops(df, pop_list=[\"Cádiz\"], pop_col=\"loc\")\n",
    "\n",
    "df_sic_ia = get_sub_pops_exact(df, [\"Italy_Sicily_IA_Polizzello\"])\n",
    "df_sic_him = get_sub_pops(df, [\"Sicily_Himera\"])\n",
    "\n",
    "df_eg_hell = get_sub_pops(df, [\"Egypt_Hellenistic\"])\n",
    "df_eg_dyn = get_sub_pops(df, [\"Egypt_Dynastic\"])\n",
    "df_eg_third = get_sub_pops(df, [\"Egypt_ThirdIntermediate\"])\n",
    "df_meno = get_sub_pops(df, [\"Menorca\"])\n",
    "df_kerk = get_sub_pops(df, [\"Kerkouene\"], pop_col=\"loc\")"
   ]
  },
  {
   "cell_type": "code",
   "execution_count": null,
   "metadata": {},
   "outputs": [],
   "source": [
    "dft= get_sub_pops(df, pop_list=[\"Lebanon_IA\"], pop_col=\"pop\")"
   ]
  },
  {
   "cell_type": "code",
   "execution_count": null,
   "metadata": {
    "tags": []
   },
   "outputs": [],
   "source": [
    "dft"
   ]
  },
  {
   "cell_type": "code",
   "execution_count": null,
   "metadata": {},
   "outputs": [],
   "source": [
    "dft = get_sub_pops(df, [\"MA89\"], pop_col=\"iid\")\n",
    "dft"
   ]
  },
  {
   "cell_type": "code",
   "execution_count": null,
   "metadata": {
    "tags": []
   },
   "outputs": [],
   "source": [
    "df"
   ]
  },
  {
   "cell_type": "markdown",
   "metadata": {},
   "source": [
    "### HO PCA shrinkmode YES outlierremoval NO"
   ]
  },
  {
   "cell_type": "code",
   "execution_count": 5,
   "metadata": {},
   "outputs": [
    {
     "name": "stdout",
     "output_type": "stream",
     "text": [
      "Found ['construct_WE_NA_PCA'] (exact): 1196/2531\n"
     ]
    },
    {
     "data": {
      "image/png": "[encoded data removed]",
      "text/plain": [
       "<Figure size 800x800 with 1 Axes>"
      ]
     },
     "metadata": {},
     "output_type": "display_data"
    }
   ],
   "source": [
    "#savepath=\"./figures/pca/west_med_punic_pca.pdf\"\n",
    "savepath=\"\"\n",
    "#savepath=\"\"\n",
    "\n",
    "df_ho = get_sub_pops_exact(df, pop_list=[\"construct_WE_NA_PCA\"])\n",
    "plt.figure(figsize=(8,8))\n",
    "ax = plt.gca()\n",
    "\n",
    "plot_pca_ho(ax, df_ho, c=\"lightgray\", text=False)\n",
    "\n",
    "if len(savepath) > 0:\n",
    "    plt.savefig(savepath, bbox_inches = 'tight', \n",
    "                pad_inches = 0, dpi=600)\n",
    "    print(f\"Saved to: {savepath}\")\n",
    "    \n",
    "plt.show()"
   ]
  },
  {
   "cell_type": "code",
   "execution_count": 11,
   "metadata": {
    "tags": []
   },
   "outputs": [],
   "source": [
    "df_ho[[\"iid\", \"pc1\",\"pc2\",\"pc3\",\"pc4\"]].to_csv(\"/n/groups/reich/hringbauer/git/punic_aDNA/output/tables/pca_ho.v54.1.tsv\", sep=\"\\t\", index=False)"
   ]
  },
  {
   "cell_type": "markdown",
   "metadata": {},
   "source": [
    "# Plot full PCA"
   ]
  },
  {
   "cell_type": "code",
   "execution_count": null,
   "metadata": {},
   "outputs": [],
   "source": [
    "savepath=\"./figures/pca.v51.1/full_pca.pdf\"\n",
    "savepath=\"\"\n",
    "\n",
    "plt.figure(figsize=(8,8))\n",
    "ax = plt.gca()\n",
    "\n",
    "plot_pca_ho(ax, df_ho, c=\"lightgray\", text=False)\n",
    "plot_pca(ax, df_is, c=\"blue\", legend=\"Israel Canaanite MLBA\", ec=\"k\", alpha=0.9)\n",
    "plot_pca(ax, df_le, c=\"aqua\", legend=\"Lebanon Canaanite MLBA\", ec=\"k\", alpha=0.9)\n",
    "\n",
    "### Plot the Sardinian Samples\n",
    "plot_pca(ax, df_sard_ba, c=\"lightgreen\", legend=\"Sardinia BA\", ec=\"k\", s=40)\n",
    "plot_pca(ax, df_tun, c=\"brown\", legend=\"Tunisia N\", ec=\"k\", s=40)\n",
    "plot_pca(ax, df_greek, c=\"gray\", legend=\"Mycenean BA\", ec=\"k\", s=40)\n",
    "\n",
    "plot_pca(ax, df_alg, c=\"k\", legend=\"Algeria IA\", s=40, ec=\"k\")\n",
    "plot_pca(ax, df_spain, c=\"green\", legend=\"Spain IA\", s=40, ec=\"k\")\n",
    "\n",
    "plot_pca(ax, df_sic_mba, c=\"lime\", legend=\"Sicily Motya MBA\", s=49, ec=\"k\")\n",
    "plot_pca(ax, df_sic_ia, c=\"orange\", legend=\"Sicily Polizzello IA\", s=49, ec=\"k\")\n",
    "\n",
    "plot_pca(ax, df_meno, c=\"gold\", legend=\"Menorca LBA\", ec=\"k\", s=49)\n",
    "plot_pca(ax, df_ib, c=\"red\", legend=\"Ibiza Punic\", ec=\"darkred\", s=49, marker=\"D\")\n",
    "\n",
    "plot_pca(ax, df_vil, c=\"yellow\", legend=\"Villamar Sardinian Punic\", ec=\"darkred\", s=49, marker=\"D\")\n",
    "plot_pca(ax, df_msr, c=\"pink\", legend=\"Monte Sirai Sardinian Punic\", ec=\"darkred\", s=49, marker=\"D\")\n",
    "\n",
    "plot_pca(ax, df_sard, c=\"orange\", legend=\"Tharros Sardinian Punic\", ec=\"darkred\", s=49, marker=\"s\", text=False)\n",
    "\n",
    "plot_pca(ax, df_vill, c=\"firebrick\", legend=\"Villaricos Andalusia Punic\", ec=\"darkred\", s=49, marker=\"s\", text=False)\n",
    "plot_pca(ax, df_cad, c=\"lightcoral\", legend=\"Cadiz Andalusia Punic\", ec=\"darkred\", s=49, marker=\"s\", text=False)\n",
    "\n",
    "plot_pca(ax, df_kerk, c=\"red\", legend=\"Kerkouane Punic\", ec=\"darkred\", s=49, marker=\"s\", text=False)\n",
    "\n",
    "plot_pca(ax, df_eg_dyn, c=\"w\", legend=\"Egypt Dynastic\", ec=\"blue\", s=40, marker=\"o\")\n",
    "plot_pca(ax, df_eg_hell, c=\"coral\", legend=\"Egypt Hellenistic\", ec=\"blue\", s=40, marker=\"o\")\n",
    "\n",
    "plot_pca(ax, df_isp, c=\"darkviolet\", legend=\"Israel Akzhiv Phoenician\", ec=\"k\", s=49, marker=\"s\", alpha=0.9)\n",
    "\n",
    "df_iid = get_sub_iid(df, [\"I4800\", \"I22232\", \"I22236\", \"I4798\", \"I4799\"])\n",
    "plot_pca(ax, df_iid, c=\"lightblue\", legend=\"Motya Early (700-400 calBCE)\", ec=\"k\", s=80, marker=\"o\")\n",
    "\n",
    "df_iid = get_sub_iid(df, [\"I12844\"])\n",
    "plot_pca(ax, df_iid, c=\"blue\", legend=\"Motya Late (350-50 calBCE)\", ec=\"k\", s=80, marker=\"o\")\n",
    "\n",
    "df_iid = get_sub_iid(df, [\"I8577|I7454\"])\n",
    "plot_pca(ax, df_iid, c=\"black\", legend=\"Marsala Late (350-50 calBCE)\", ec=\"k\", s=80, marker=\"o\")\n",
    "\n",
    "df_iid = get_sub_iid(df, [\"I12849|I7265\"])\n",
    "plot_pca(ax, df_iid, c=\"darkblue\", legend=\"Marsala Roman (100-300 calCE)\", ec=\"k\", s=80, marker=\"o\")\n",
    "\n",
    "#df_iid = get_sub_iid(df, [\"I12849|I7265\"])\n",
    "plot_pca(ax, df_carth, c=\"red\", legend=\"Cartage\", ec=\"k\", s=80, marker=\"X\")\n",
    "plot_pca(ax, df_capbon, c=\"orange\", legend=\"Cap Bon\", ec=\"k\", s=80, marker=\"x\")\n",
    "\n",
    "\n",
    "\n",
    "#df_iid = get_sub_iid(df, [\"I21971\"])\n",
    "#plot_pca(ax, df_iid, c=\"gray\", legend=\"Marsala Punic Context\", ec=\"k\", s=80, marker=\"o\")\n",
    "\n",
    "ax.legend(loc=\"upper right\", fontsize=7)\n",
    "ax.set_xlabel(\"PC 1\")\n",
    "ax.set_ylabel(\"PC 2\")\n",
    "#ax.set_xlim([-0.035,0.085])\n",
    "#ax.set_ylim([-0.07,0.034])\n",
    "\n",
    "ax.set_xlim([-0.02,0.065])\n",
    "ax.set_ylim([-0.065,0.01])\n",
    "\n",
    "if len(savepath) > 0:\n",
    "    plt.savefig(savepath, bbox_inches = 'tight', \n",
    "                pad_inches = 0, dpi=600)\n",
    "    print(f\"Saved to: {savepath}\")\n",
    "    \n",
    "plt.show()"
   ]
  },
  {
   "cell_type": "code",
   "execution_count": null,
   "metadata": {},
   "outputs": [],
   "source": [
    "df_mos = df_ho[df_ho[\"pop\"].str.contains(\"Moz\")]"
   ]
  },
  {
   "cell_type": "code",
   "execution_count": null,
   "metadata": {},
   "outputs": [],
   "source": [
    "df_mos"
   ]
  },
  {
   "cell_type": "markdown",
   "metadata": {},
   "source": [
    "# Plot set of Samples"
   ]
  },
  {
   "cell_type": "code",
   "execution_count": null,
   "metadata": {},
   "outputs": [],
   "source": [
    "def plot_pca_sample(iid, savepath=\"\", show=True, xy=[], \n",
    "                    label=\"\", only_context=True, exact=False):\n",
    "    \"\"\"Plot PCA of a single new individual\"\"\"\n",
    "    #savepath=\"\"\n",
    "\n",
    "    plt.figure(figsize=(8,8))\n",
    "    ax = plt.gca()\n",
    "\n",
    "    plot_pca_ho(ax, df_ho, c=\"lightgray\", text=False) # HO Reference\n",
    "    \n",
    "    plot_pca(ax, df_is, c=\"blue\", legend=\"Israel Canaanite MLBA\", ec=\"k\", alpha=0.9)\n",
    "    plot_pca(ax, df_le, c=\"aqua\", legend=\"Lebanon Canaanite MLBA\", ec=\"k\", alpha=0.9)\n",
    "    plot_pca(ax, df_sard_ba, c=\"lightgreen\", legend=\"Sardinia BA\", ec=\"k\", s=40)\n",
    "    plot_pca(ax, df_tun, c=\"brown\", legend=\"Tunisia N\", ec=\"k\", s=40)\n",
    "    plot_pca(ax, df_greek, c=\"gray\", legend=\"Mycenean BA\", ec=\"k\", s=40)\n",
    "    plot_pca(ax, df_gua, c=\"yellow\", legend=\"Guanche Pre-Contact\", s=40, ec=\"k\")\n",
    "    plot_pca(ax, df_alg, c=\"k\", legend=\"Algeria IA\", s=40, ec=\"k\")\n",
    "    plot_pca(ax, df_spain, c=\"green\", legend=\"Spain IA\", s=40, ec=\"k\")\n",
    "    plot_pca(ax, df_sic_mba, c=\"lime\", legend=\"Sicily Motya MBA\", s=49, ec=\"k\")\n",
    "    plot_pca(ax, df_sic_ia, c=\"orange\", legend=\"Sicily Polizzello IA\", s=49, ec=\"k\")\n",
    "    plot_pca(ax, df_meno, c=\"gold\", legend=\"Menorca LBA\", ec=\"k\", s=49)\n",
    "    plot_pca(ax, df_eg_dyn, c=\"w\", legend=\"Egypt Dynastic\", ec=\"blue\", s=40, marker=\"o\")\n",
    "    plot_pca(ax, df_eg_hell, c=\"coral\", legend=\"Egypt Hellenistic\", ec=\"blue\", s=40, marker=\"o\")\n",
    "    plot_pca(ax, df_isp, c=\"darkviolet\", legend=\"Israel Akzhiv Phoenician\", ec=\"k\", s=49, marker=\"s\", alpha=0.9)\n",
    "    plot_pca(ax, df_kerk, c=\"gray\", legend=\"\", ec=\"gray\", s=49, marker=\"o\", text=False)\n",
    "    \n",
    "    \n",
    "    if only_context:\n",
    "        plot_pca(ax, df_sard, c=\"gray\", legend=\"Var. Punic\", ec=\"gray\", s=49, marker=\"o\", text=False, alpha=0.9)\n",
    "        plot_pca(ax, df_vill, c=\"gray\", legend=\"\", ec=\"gray\", s=49, marker=\"o\", text=False)\n",
    "        plot_pca(ax, df_cad, c=\"gray\", legend=\"\", ec=\"gray\", s=49, marker=\"o\", text=False)\n",
    "        #plot_pca(ax, df_kerk, c=\"gray\", legend=\"\", ec=\"gray\", s=49, marker=\"o\", text=False)\n",
    "        \n",
    "    else:\n",
    "        #plot_pca(ax, df_kerk, c=\"rosybrown\", legend=\"Kerkouane Punic\", ec=\"darkred\", s=49, marker=\"s\", text=False)\n",
    "        plot_pca(ax, df_ib, c=\"red\", legend=\"Ibiza Punic\", ec=\"darkred\", s=49, marker=\"D\")\n",
    "        plot_pca(ax, df_vil, c=\"yellow\", legend=\"Villamar Sardinian Punic\", ec=\"darkred\", s=49, marker=\"D\")\n",
    "        plot_pca(ax, df_msr, c=\"pink\", legend=\"Monte Sirai Sardinian Punic\", ec=\"darkred\", s=49, marker=\"D\")\n",
    "        plot_pca(ax, df_sard, c=\"orange\", legend=\"Tharros Sardinian Punic\", ec=\"darkred\", s=49, marker=\"s\", text=False)\n",
    "        plot_pca(ax, df_vill, c=\"firebrick\", legend=\"Villaricos Andalusia Punic\", ec=\"darkred\", s=49, marker=\"s\", text=False)\n",
    "        plot_pca(ax, df_cad, c=\"lightcoral\", legend=\"Cadiz Andalusia Punic\", ec=\"darkred\", s=49, marker=\"s\", text=False)\n",
    "\n",
    "    df_iid = get_sub_iid(df, iid, exact=exact)\n",
    "    \n",
    "    if len(label)==0:\n",
    "        label=iid[0]\n",
    "    plot_pca(ax, df_iid, c=\"red\", legend=label, ec=\"k\", s=120, marker=\"X\")\n",
    "\n",
    "    ax.legend(loc=\"upper right\", fontsize=9)\n",
    "    ax.set_xlabel(\"PC 1\")\n",
    "    ax.set_ylabel(\"PC 2\")\n",
    "    ax.set_xlim([-0.035,0.085])\n",
    "    ax.set_ylim([-0.07,0.034])\n",
    "    \n",
    "    if len(xy)>0:\n",
    "        iid = df_iid[\"iid\"].values[0]\n",
    "        depth, age = df_iid[\"n_cov_snp\"].values[0].astype(\"int\"), df_iid[\"age\"].values[0].astype(\"int\")\n",
    "        text = f\"{iid}:\\n{depth:.0f} SNPs\\n{age:.0f} BP\"\n",
    "        ax.text(xy[0], xy[1], text, ha='left', va='bottom', transform=ax.transAxes)\n",
    "    \n",
    "    if len(savepath) > 0:\n",
    "        plt.savefig(savepath, bbox_inches = 'tight', \n",
    "                    pad_inches = 0, dpi=600)\n",
    "        print(f\"Saved to: {savepath}\")\n",
    "    if show:\n",
    "        plt.show()\n",
    "    else:\n",
    "        plt.close()"
   ]
  },
  {
   "cell_type": "code",
   "execution_count": null,
   "metadata": {
    "tags": []
   },
   "outputs": [],
   "source": [
    "#df_is\n",
    "df_le"
   ]
  },
  {
   "cell_type": "code",
   "execution_count": null,
   "metadata": {
    "tags": []
   },
   "outputs": [],
   "source": [
    "df_is"
   ]
  },
  {
   "cell_type": "markdown",
   "metadata": {},
   "source": [
    "### Run single individual on PCA"
   ]
  },
  {
   "cell_type": "code",
   "execution_count": null,
   "metadata": {
    "tags": []
   },
   "outputs": [],
   "source": [
    "df[df[\"iid\"].str.contains(\"I22094\")]"
   ]
  },
  {
   "cell_type": "code",
   "execution_count": null,
   "metadata": {
    "tags": []
   },
   "outputs": [],
   "source": [
    "iids = [\"I21963\"] \n",
    "\n",
    "plot_pca_sample(iid=iids, label=\"Tharros I21987,I22090,I22094\", \n",
    "                savepath=\"./figures/tharros_noC14.pdf\", exact=True) "
   ]
  },
  {
   "cell_type": "code",
   "execution_count": null,
   "metadata": {},
   "outputs": [],
   "source": [
    "iids = [\"I3997_noUDG\", \"I4561\",\"I4560\",\"I4562.SG\",\"I3494\",\n",
    "        \"I6470.SG\",\"I1840\",\"I3756\",\"I8136\", \"VAD001\"] \n",
    "\n",
    "plot_pca_sample(iid=iids, label=\"Ilan Outgroup qpAdm (n=10)\", \n",
    "                savepath=\"./figures/pca_spain_eba.pdf\", exact=True) "
   ]
  },
  {
   "cell_type": "code",
   "execution_count": null,
   "metadata": {
    "tags": []
   },
   "outputs": [],
   "source": [
    "for iid in iids:\n",
    "    plot_pca_sample(iid=[iid], label=iid, savepath=\"\") "
   ]
  },
  {
   "cell_type": "code",
   "execution_count": null,
   "metadata": {},
   "outputs": [],
   "source": [
    "plot_pca_sample(iid=[\"I21854\"], label=\"\", savepath=\"\") "
   ]
  },
  {
   "cell_type": "code",
   "execution_count": null,
   "metadata": {},
   "outputs": [],
   "source": [
    "plot_pca_sample(iid=[\"I12844\"], label=\"\", savepath=\"\") "
   ]
  },
  {
   "cell_type": "markdown",
   "metadata": {},
   "source": [
    "### Lebanon IA Samples"
   ]
  },
  {
   "cell_type": "code",
   "execution_count": null,
   "metadata": {
    "tags": []
   },
   "outputs": [],
   "source": [
    "dft = df[df[\"clst\"].str.contains(\"Lebanon_IA3\")]\n",
    "dft"
   ]
  },
  {
   "cell_type": "code",
   "execution_count": null,
   "metadata": {},
   "outputs": [],
   "source": [
    "plot_pca_sample(iid=dft[\"iid\"].values, label=\"Lebanon IA\", savepath=\"\") # Caramelli Phoenician: I22232 I22235 I22236"
   ]
  },
  {
   "cell_type": "code",
   "execution_count": null,
   "metadata": {},
   "outputs": [],
   "source": []
  },
  {
   "cell_type": "markdown",
   "metadata": {},
   "source": [
    "### Lebanon MBA"
   ]
  },
  {
   "cell_type": "code",
   "execution_count": null,
   "metadata": {
    "tags": []
   },
   "outputs": [],
   "source": [
    "df_sid = df[df[\"clst\"].str.contains(\"Lebanon_MBA\")]\n",
    "df_sid"
   ]
  },
  {
   "cell_type": "code",
   "execution_count": null,
   "metadata": {
    "tags": []
   },
   "outputs": [],
   "source": [
    "plot_pca_sample(iid=df_sid[\"iid\"].values, label=\"Sidon MBA\", savepath=\"\") # Caramelli Phoenician: I22232 I22235 I22236"
   ]
  },
  {
   "cell_type": "code",
   "execution_count": null,
   "metadata": {
    "tags": []
   },
   "outputs": [],
   "source": []
  },
  {
   "cell_type": "code",
   "execution_count": null,
   "metadata": {},
   "outputs": [],
   "source": []
  },
  {
   "cell_type": "code",
   "execution_count": null,
   "metadata": {},
   "outputs": [],
   "source": [
    "plot_pca_sample(iid=[\"I22237\"], label=\"I22237, \\nSicily MBA Afr.\", savepath=\"\") # Caramelli Phoenician: I22232 I22235 I22236\n",
    "\n",
    "#I24040\n",
    "#I24494\n",
    "#I24193\n",
    "#I24194"
   ]
  },
  {
   "cell_type": "code",
   "execution_count": null,
   "metadata": {},
   "outputs": [],
   "source": [
    "plot_pca_sample(iid=[\"HGDP01257\", \"HGDP01253\", \"HGDP01280\", \"HGDP01282\"], label=\"\", savepath=\"\") # Caramelli Phoenician: I22232 I22235 I22236\n",
    "\n",
    "#I24040\n",
    "#I24494\n",
    "#I24193\n",
    "#I24194\n",
    "#I24215"
   ]
  },
  {
   "cell_type": "code",
   "execution_count": null,
   "metadata": {},
   "outputs": [],
   "source": [
    "df_isp.sort_values(by=\"pc1\")"
   ]
  },
  {
   "cell_type": "code",
   "execution_count": null,
   "metadata": {},
   "outputs": [],
   "source": [
    "plot_pca_sample(iid=[\"I22233_d\", \"I22234\", \"I22238\",\n",
    "                    \"I22241\", \"I22242\", \"I22237\"], savepath=\"\") # Caramelli Phoenician: I22232 I22235 I22236\n",
    "#I19532"
   ]
  },
  {
   "cell_type": "code",
   "execution_count": null,
   "metadata": {},
   "outputs": [],
   "source": []
  },
  {
   "cell_type": "markdown",
   "metadata": {},
   "source": [
    "### Run multiple Individuals on PCA"
   ]
  },
  {
   "cell_type": "code",
   "execution_count": null,
   "metadata": {},
   "outputs": [],
   "source": [
    "plot_pca_sample(iid=[\"I22115\", \"I22121\", \"I22118\", \"I22096\"], savepath=\"\") # Caramelli Phoenician: I22232 I22235 I22236\n",
    "\n",
    "#I19532"
   ]
  },
  {
   "cell_type": "code",
   "execution_count": null,
   "metadata": {},
   "outputs": [],
   "source": [
    "iids_afr_cline = [\"I21966\", \"I21984\", \"I22094\", \"I22090\", \"VIL011\", \"VIL006\", \"VIL009\", \"VIL010\", \"VIL007\"] # but not VIL004\n",
    "#plot_pca_sample(iid=iids_afr_cline, savepath=\"./figures/pca.v46/afr_cline.png\") # Caramelli Phoenician: I22232 I22235 I22236\n",
    "\n",
    "iids_afr_punic =  [\"I18193\", \"I18189\", \"I22093\"]  # \"I22113\" high but not high enough\n",
    "plot_pca_sample(iid=iids_afr_punic, savepath=\"./figures/pca.v49.2/afr_end.png\")"
   ]
  },
  {
   "cell_type": "markdown",
   "metadata": {},
   "source": [
    "# Sicily Early Punic [750-450 BCE]"
   ]
  },
  {
   "cell_type": "code",
   "execution_count": null,
   "metadata": {},
   "outputs": [],
   "source": [
    "#savepath=\"./figures/pca/west_med_punic_pca.pdf\"\n",
    "savepath=\"./figures/pca.v49.2/hallstatt_plateau.pdf\"\n",
    "savepath=\"\"\n",
    "\n",
    "\n",
    "plt.figure(figsize=(8,8))\n",
    "ax = plt.gca()\n",
    "\n",
    "plot_pca_ho(ax, df_ho, c=\"lightgray\", text=False)\n",
    "plot_pca(ax, df_is, c=\"blue\", legend=\"Israel Canaanite MLBA\", ec=\"k\", alpha=0.9)\n",
    "#plot_pca(ax, df_le, c=\"aqua\", legend=\"Lebanon Canaanite MLBA\", ec=\"k\", alpha=0.9)\n",
    "plot_pca(ax, df_isp, c=\"darkviolet\", legend=\"Israel \\\"Phoenician\\\"\", ec=\"k\", alpha=0.9)\n",
    "### Plot the Sardinian Samples\n",
    "#plot_pca(ax, df_sard_ba, c=\"lightgreen\", legend=\"Sardinia BA\", ec=\"k\", s=40)\n",
    "\n",
    "plot_pca(ax, df_sard, c=\"gray\", legend=\"Non-Sicily Punic\", ec=\"gray\", s=49, marker=\"o\", text=False, alpha=0.9)\n",
    "#plot_pca(ax, df_sard1, c=\"orange\", legend=\"Tharros Sardinian Roman/Punic\", ec=\"red\", s=49, marker=\"s\", text=False)\n",
    "\n",
    "plot_pca(ax, df_vill, c=\"gray\", legend=\"\", ec=\"gray\", s=49, marker=\"o\", text=False)\n",
    "plot_pca(ax, df_cad, c=\"gray\", legend=\"\", ec=\"gray\", s=49, marker=\"o\", text=False)\n",
    "plot_pca(ax, df_kerk, c=\"gray\", legend=\"\", ec=\"gray\", s=49, marker=\"o\", text=False)\n",
    "\n",
    "plot_pca(ax, df_tun, c=\"brown\", legend=\"Tunisia N\", ec=\"k\", s=40)\n",
    "plot_pca(ax, df_greek, c=\"gray\", legend=\"Mycenean BA\", ec=\"k\", s=40)\n",
    "plot_pca(ax, df_alg, c=\"k\", legend=\"Algeria IA\", s=40, ec=\"k\")\n",
    "plot_pca(ax, df_spain, c=\"green\", legend=\"Spain IA\", s=40, ec=\"k\")\n",
    "plot_pca(ax, df_sic_ia, c=\"orange\", legend=\"Sicily Polizzello IA\", s=49, ec=\"k\")\n",
    "plot_pca(ax, df_sard_ba, c=\"lightgreen\", legend=\"Sardinia BA\", ec=\"k\", s=40)\n",
    "\n",
    "plot_pca(ax, df_sic_mba, c=\"lime\", legend=\"Sicily Motya MBA\", s=49, ec=\"k\")\n",
    "\n",
    "### Plot the Re\n",
    "df_iid = get_sub_iid(df, [\"I12666|I12847|I24678|I24676|I24675|I24556|I22095\"], output=False)\n",
    "plot_pca(ax, df_iid, c=\"red\", legend=\"Birgi Early (800-400 calBCE, n=7)\", ec=\"k\", s=80, marker=\"D\")\n",
    "\n",
    "df_iid = get_sub_iid(df, [\"I4798|I4799|I4800|I7762|I22236\"], output=False)\n",
    "plot_pca(ax, df_iid, c=\"brown\", legend=\"Motya Early (800-400 calBCE, n=5)\", ec=\"k\", s=80, marker=\"D\")\n",
    "\n",
    "df_iid = get_sub_iid(df, [\"I21853\"], output=False)\n",
    "plot_pca(ax, df_iid, c=\"yellow\", legend=\"Selinunte (Greek) Early (800-400 calBCE, n=1)\", ec=\"k\", s=80, marker=\"D\")\n",
    "\n",
    "df_iid = get_sub_iid(df, [\"I14915\", \"I19532\"], output=False)\n",
    "plot_pca(ax, df_iid, c=\"green\", legend=\"Kamerina (Greek) Early (800-400 calBCE, n=2)\", ec=\"k\", s=80, marker=\"D\")\n",
    "\n",
    "df_iid = get_sub_iid(df, [\"I22115\", \"I22121\", \"I22096\", \n",
    "                          \"I22122\", \"I22118\", \"I22117\"], output=False)\n",
    "plot_pca(ax, df_iid, c=\"violet\", legend=\"Tharros, Sardinia Early (800-400 calBCE, n=6)\", ec=\"k\", s=80, marker=\"s\")\n",
    "\n",
    "df_iid = get_sub_iid(df, [\"I18201\"], output=False)\n",
    "plot_pca(ax, df_iid, c=\"darkviolet\", legend=\"Villaricos, Almeria Early (800-400 calBCE, n=1)\", ec=\"k\", s=80, marker=\"s\")\n",
    "\n",
    "\n",
    "ax.legend(loc=\"upper right\", fontsize=9)\n",
    "ax.set_xlabel(\"PC 1\")\n",
    "ax.set_ylabel(\"PC 2\")\n",
    "ax.set_xlim([-0.03,0.11])\n",
    "ax.set_ylim([-0.07,0.02])\n",
    "\n",
    "if len(savepath) > 0:\n",
    "    plt.savefig(savepath, bbox_inches = 'tight', \n",
    "                pad_inches = 0, dpi=600)\n",
    "    print(f\"Saved to: {savepath}\")\n",
    "    \n",
    "plt.show()"
   ]
  },
  {
   "cell_type": "markdown",
   "metadata": {},
   "source": [
    "# Punic proper (450-200 BCE)"
   ]
  },
  {
   "cell_type": "code",
   "execution_count": null,
   "metadata": {},
   "outputs": [],
   "source": [
    "#savepath=\"./figures/pca/west_med_punic_pca.pdf\"\n",
    "#savepath=\"./figures/pca.v46/tharros.pdf\"\n",
    "savepath=\"./figures/pca.v49.2/punic_proper.pdf\"\n",
    "#savepath=\"\"\n",
    "\n",
    "plt.figure(figsize=(8,8))\n",
    "ax = plt.gca()\n",
    "\n",
    "plot_pca_ho(ax, df_ho, c=\"lightgray\", text=False)\n",
    "plot_pca(ax, df_is, c=\"blue\", legend=\"Israel Canaanite MLBA\", ec=\"k\", alpha=0.9)\n",
    "#plot_pca(ax, df_le, c=\"aqua\", legend=\"Lebanon Canaanite MLBA\", ec=\"k\", alpha=0.9)\n",
    "plot_pca(ax, df_isp, c=\"darkviolet\", legend=\"Israel \\\"Phoenician\\\"\", ec=\"k\", alpha=0.9)\n",
    "### Plot the Sardinian Samples\n",
    "#plot_pca(ax, df_sard_ba, c=\"lightgreen\", legend=\"Sardinia BA\", ec=\"k\", s=40)\n",
    "\n",
    "plot_pca(ax, df_sard, c=\"gray\", legend=\"Non-Sicily Punic\", ec=\"gray\", s=49, marker=\"o\", text=False, alpha=0.9)\n",
    "#plot_pca(ax, df_sard1, c=\"orange\", legend=\"Tharros Sardinian Roman/Punic\", ec=\"red\", s=49, marker=\"s\", text=False)\n",
    "\n",
    "plot_pca(ax, df_vill, c=\"gray\", legend=\"\", ec=\"gray\", s=49, marker=\"o\", text=False)\n",
    "plot_pca(ax, df_cad, c=\"gray\", legend=\"\", ec=\"gray\", s=49, marker=\"o\", text=False)\n",
    "plot_pca(ax, df_kerk, c=\"gray\", legend=\"\", ec=\"gray\", s=49, marker=\"o\", text=False)\n",
    "\n",
    "plot_pca(ax, df_tun, c=\"brown\", legend=\"Tunisia N\", ec=\"k\", s=40)\n",
    "plot_pca(ax, df_greek, c=\"gray\", legend=\"Mycenean BA\", ec=\"k\", s=40)\n",
    "plot_pca(ax, df_alg, c=\"k\", legend=\"Algeria IA\", s=40, ec=\"k\")\n",
    "plot_pca(ax, df_spain, c=\"green\", legend=\"Spain IA\", s=40, ec=\"k\")\n",
    "plot_pca(ax, df_sic_ia, c=\"orange\", legend=\"Sicily Polizzello IA\", s=49, ec=\"k\")\n",
    "\n",
    "plot_pca(ax, df_sic_mba, c=\"lime\", legend=\"Sicily Motya MBA\", s=49, ec=\"k\")\n",
    "\n",
    "### Plot the Re\n",
    "\n",
    "df_iid = get_sub_iid(df, [\"I22113|I22114|I22119|I21966|I22093\"], output=False)\n",
    "plot_pca(ax, df_iid, c=\"violet\", legend=\"Tharros Punic (400-200 calBCE, n=4)\", ec=\"k\", s=80, marker=\"s\")\n",
    "\n",
    "df_iid = get_sub_iid(df, [\"I24555\"], output=False)\n",
    "plot_pca(ax, df_iid, c=\"orange\", legend=\"Birgi Punic (391-208 calBCE, n=4)\", ec=\"k\", s=80, marker=\"D\")\n",
    "\n",
    "\n",
    "df_iid = get_sub_iid(df, [\"I7454|I8577|I21857|I12848|I21859\"], output=False)\n",
    "plot_pca(ax, df_iid, c=\"yellow\", legend=\"Marsala Punic (400-50 calBCE, n=4)\", ec=\"k\", s=80, marker=\"D\")\n",
    "\n",
    "df_iid = get_sub_iid(df, [\"I18193|I18189|I18199|I18203\"], output=False)\n",
    "plot_pca(ax, df_iid, c=\"red\", legend=\"Villaricos Punic (370-170 calBCE, n=4)\", ec=\"k\", s=80, marker=\"s\")\n",
    "\n",
    "ax.legend(loc=\"upper right\", fontsize=9)\n",
    "ax.set_xlabel(\"PC 1\")\n",
    "ax.set_ylabel(\"PC 2\")\n",
    "ax.set_xlim([-0.035,0.08])\n",
    "ax.set_ylim([-0.07,0.035])\n",
    "\n",
    "if len(savepath) > 0:\n",
    "    plt.savefig(savepath, bbox_inches = 'tight', \n",
    "                pad_inches = 0, dpi=600)\n",
    "    print(f\"Saved to: {savepath}\")\n",
    "    \n",
    "plt.show()"
   ]
  },
  {
   "cell_type": "markdown",
   "metadata": {},
   "source": [
    "# Plot PCA of Sicily Roman (50-300 calCE)"
   ]
  },
  {
   "cell_type": "code",
   "execution_count": null,
   "metadata": {},
   "outputs": [],
   "source": [
    "iids = [\"I12664\", \"I12849\", \"I7265\", \"I21970\", \"I24680\", \"I24557\"]\n",
    "plot_pca_sample(iid=iids, label=\"Sicily Roman (50-300 calCE, n=6)\",\n",
    "               savepath=\"./figures/pca.v46.transect/roman.png\") # Caramelli Phoenician: I22232 I22235 I22236"
   ]
  },
  {
   "cell_type": "markdown",
   "metadata": {},
   "source": [
    "# Sicily Medieval [500-1200 CE]"
   ]
  },
  {
   "cell_type": "code",
   "execution_count": null,
   "metadata": {},
   "outputs": [],
   "source": [
    "iids_young =  [\"I24560\", \"I24553\", \"I21852\"]  # \"I22113\" high but not high enough\n",
    "plot_pca_sample(iid=iids_young, savepath=\"./figures/pca.v46.transect/medieval.png\", label=\"Sicilian 500-1200 CE\") # Caramelli Phoenician: I22232 I22235 I22236"
   ]
  },
  {
   "cell_type": "markdown",
   "metadata": {},
   "source": [
    "# Sicily Late Medieval"
   ]
  },
  {
   "cell_type": "code",
   "execution_count": null,
   "metadata": {},
   "outputs": [],
   "source": [
    "df_isp"
   ]
  },
  {
   "cell_type": "code",
   "execution_count": null,
   "metadata": {},
   "outputs": [],
   "source": [
    "iids_young =  [\"I7764\", \"I7765\"]  # \"I22113\" high but not high enough\n",
    "plot_pca_sample(iid=iids_young, savepath=\"./figures/pca.v46.transect/medieval_late.png\", label=\"Sicilian 1200-1500 CE\") # Caramelli Phoenician: I22232 I22235 I22236"
   ]
  },
  {
   "cell_type": "markdown",
   "metadata": {},
   "source": [
    "### Plot and safe all Individual Punic Samples\n",
    "Runs about 2 min for Sicily Sample"
   ]
  },
  {
   "cell_type": "code",
   "execution_count": null,
   "metadata": {},
   "outputs": [],
   "source": [
    "#df_plot = get_sub_pops(df, [\"Italy_Sicily_Roman\"])\n",
    "#df_plot = get_sub_pops(df, pop_list=[\"Italy_Sardinia_Punic\"])\n",
    "df_vill = get_sub_pops(df, pop_list=[\"Villaricos\"], pop_col=\"loc\")\n",
    "df_plot = df_vill[(df_vill[\"pop\"].str.contains(\"Punic\")) & (df_vill[\"age\"]>2000)]\n",
    "\n",
    "\n",
    "for iid in df_plot[\"iid\"].values:\n",
    "    savepath = f\"/n/groups/reich/hringbauer/git/punic_aDNA/figures/pca.v46/villaricos_inds/{iid}.pdf\"\n",
    "    plot_pca_sample(iid=[iid], savepath=savepath, xy=[0.01,0.01], show=False) # Caramelli Phoenician: I22232 I22235 I22236"
   ]
  },
  {
   "cell_type": "code",
   "execution_count": null,
   "metadata": {},
   "outputs": [],
   "source": [
    "df_alg"
   ]
  },
  {
   "cell_type": "markdown",
   "metadata": {},
   "source": [
    "### Dated Motya Sample, context 6th century BCE, local Sicilian ancestry"
   ]
  },
  {
   "cell_type": "code",
   "execution_count": null,
   "metadata": {},
   "outputs": [],
   "source": [
    "plot_pca_sample(iid=[\"I12665|I21856|I24554|I22000\"], savepath=\"\") # Caramelli Phoenician: I22232 I22235 I22236"
   ]
  },
  {
   "cell_type": "markdown",
   "metadata": {},
   "source": [
    "### Plot single Ancient Individual"
   ]
  },
  {
   "cell_type": "code",
   "execution_count": null,
   "metadata": {},
   "outputs": [],
   "source": [
    "plot_pca_sample(iid=[\"I22236\"], savepath=\"\", xy=[0.01,0.01], label=\"\") "
   ]
  },
  {
   "cell_type": "markdown",
   "metadata": {},
   "source": [
    "### Plot Series of Indivdiuals"
   ]
  },
  {
   "cell_type": "code",
   "execution_count": null,
   "metadata": {},
   "outputs": [],
   "source": [
    "for iid in iids:\n",
    "    plot_pca_sample(iid=[iid], savepath=f\"./figures/pca.v51.1/kerk/{iid}.pdf\", xy=[0.01,0.01], label=\"\", show=False)"
   ]
  },
  {
   "cell_type": "code",
   "execution_count": null,
   "metadata": {},
   "outputs": [],
   "source": [
    "#savepath=\"./figures/pca/west_med_punic_pca.pdf\"\n",
    "#savepath=\"./figures/pca.v46/tharros.pdf\"\n",
    "savepath=\"./figures/pca.v48.2/spain_inds.pdf\"\n",
    "\n",
    "plt.figure(figsize=(8,8))\n",
    "ax = plt.gca()\n",
    "\n",
    "plot_pca_ho(ax, df_ho, c=\"lightgray\", text=False)\n",
    "plot_pca(ax, df_is, c=\"blue\", legend=\"Israel Canaanite MLBA\", ec=\"k\", alpha=0.9)\n",
    "#plot_pca(ax, df_le, c=\"aqua\", legend=\"Lebanon Canaanite MLBA\", ec=\"k\", alpha=0.9)\n",
    "plot_pca(ax, df_isp, c=\"darkviolet\", legend=\"Israel \\\"Phoenician\\\"\", ec=\"k\", alpha=0.9)\n",
    "### Plot the Sardinian Samples\n",
    "#plot_pca(ax, df_sard_ba, c=\"lightgreen\", legend=\"Sardinia BA\", ec=\"k\", s=40)\n",
    "\n",
    "plot_pca(ax, df_sard, c=\"gray\", legend=\"Non-Sicily Punic\", ec=\"gray\", s=49, marker=\"o\", text=False, alpha=0.9)\n",
    "#plot_pca(ax, df_sard1, c=\"orange\", legend=\"Tharros Sardinian Roman/Punic\", ec=\"red\", s=49, marker=\"s\", text=False)\n",
    "\n",
    "plot_pca(ax, df_vill, c=\"gray\", legend=\"\", ec=\"gray\", s=49, marker=\"o\", text=False)\n",
    "plot_pca(ax, df_cad, c=\"gray\", legend=\"\", ec=\"gray\", s=49, marker=\"o\", text=False)\n",
    "plot_pca(ax, df_kerk, c=\"gray\", legend=\"\", ec=\"gray\", s=49, marker=\"o\", text=False)\n",
    "\n",
    "plot_pca(ax, df_tun, c=\"brown\", legend=\"Tunisia N\", ec=\"k\", s=40)\n",
    "plot_pca(ax, df_greek, c=\"gray\", legend=\"Mycenean BA\", ec=\"k\", s=40)\n",
    "plot_pca(ax, df_alg, c=\"k\", legend=\"Algeria IA\", s=40, ec=\"k\")\n",
    "plot_pca(ax, df_spain, c=\"green\", legend=\"Spain IA\", s=40, ec=\"k\")\n",
    "plot_pca(ax, df_sic_ia, c=\"orange\", legend=\"Sicily Polizzello IA\", s=49, ec=\"k\")\n",
    "plot_pca(ax, df_sard_ba, c=\"lightgreen\", legend=\"Sardinia BA\", ec=\"k\", s=40)\n",
    "\n",
    "plot_pca(ax, df_sic_mba, c=\"lime\", legend=\"Sicily Motya MBA\", s=49, ec=\"k\")\n",
    "\n",
    "### Plot the Re\n",
    "df_iid = get_sub_iid(df, [\"I26842.v47\", \"I26932.v47\", \"I26844\", \"I26915\"], output=False)\n",
    "print(len(df_iid))\n",
    "plot_pca(ax, df_iid, c=\"red\", legend=\"Málaga, Alcazabilla, 600-400 BCE (n=4)\", \n",
    "         ec=\"gray\", s=120, marker=\"X\")\n",
    "\n",
    "df_iid = get_sub_iid(df, [\"I26931\", \"I26932\", \n",
    "                          \"I27075\", \"I27076\"], output=False)\n",
    "plot_pca(ax, df_iid, c=\"maroon\", legend=\"Málaga, Mármoles, 600-500 BCE (n=4)\", \n",
    "         ec=\"gray\", s=120, marker=\"X\")\n",
    "\n",
    "df_iid = get_sub_iid(df, [\"I8135\"], output=False)\n",
    "plot_pca(ax, df_iid, c=\"blue\", legend=\"Cádiz, San Fernando, 600 BCE-400 CE (n=1)\", \n",
    "         ec=\"gray\", s=120, marker=\"X\")\n",
    "\n",
    "df_iid = get_sub_iid(df, [\"I15434\"], output=False)\n",
    "plot_pca(ax, df_iid, c=\"cyan\", legend=\"Cádiz, San Fernando, 200-100 BCE (n=1)\", \n",
    "         ec=\"gray\", s=120, marker=\"X\")\n",
    "\n",
    "ax.legend(loc=\"upper right\", fontsize=9)\n",
    "ax.set_xlabel(\"PC 1\")\n",
    "ax.set_ylabel(\"PC 2\")\n",
    "ax.set_xlim([-0.025,0.085])\n",
    "ax.set_ylim([-0.07,0.04])\n",
    "\n",
    "if len(savepath) > 0:\n",
    "    plt.savefig(savepath, bbox_inches = 'tight', \n",
    "                pad_inches = 0, dpi=600)\n",
    "    print(f\"Saved to: {savepath}\")\n",
    "    \n",
    "plt.show()"
   ]
  },
  {
   "cell_type": "code",
   "execution_count": null,
   "metadata": {},
   "outputs": [],
   "source": [
    "#savepath=\"./figures/pca/west_med_punic_pca.pdf\"\n",
    "#savepath=\"./figures/pca.v46/tharros.pdf\"\n",
    "savepath=\"./figures/pca.v49.0/eivissa_inds.pdf\"\n",
    "\n",
    "plt.figure(figsize=(8,8))\n",
    "ax = plt.gca()\n",
    "\n",
    "plot_pca_ho(ax, df_ho, c=\"lightgray\", text=False)\n",
    "plot_pca(ax, df_is, c=\"blue\", legend=\"Israel Canaanite MLBA\", ec=\"k\", alpha=0.9)\n",
    "#plot_pca(ax, df_le, c=\"aqua\", legend=\"Lebanon Canaanite MLBA\", ec=\"k\", alpha=0.9)\n",
    "plot_pca(ax, df_isp, c=\"darkviolet\", legend=\"Israel \\\"Phoenician\\\"\", ec=\"k\", alpha=0.9)\n",
    "### Plot the Sardinian Samples\n",
    "#plot_pca(ax, df_sard_ba, c=\"lightgreen\", legend=\"Sardinia BA\", ec=\"k\", s=40)\n",
    "\n",
    "plot_pca(ax, df_sard, c=\"gray\", legend=\"Non-Sicily Punic\", ec=\"gray\", s=49, marker=\"o\", text=False, alpha=0.9)\n",
    "#plot_pca(ax, df_sard1, c=\"orange\", legend=\"Tharros Sardinian Roman/Punic\", ec=\"red\", s=49, marker=\"s\", text=False)\n",
    "\n",
    "plot_pca(ax, df_vill, c=\"gray\", legend=\"\", ec=\"gray\", s=49, marker=\"o\", text=False)\n",
    "plot_pca(ax, df_cad, c=\"gray\", legend=\"\", ec=\"gray\", s=49, marker=\"o\", text=False)\n",
    "plot_pca(ax, df_kerk, c=\"gray\", legend=\"\", ec=\"gray\", s=49, marker=\"o\", text=False)\n",
    "\n",
    "plot_pca(ax, df_tun, c=\"brown\", legend=\"Tunisia N\", ec=\"k\", s=40)\n",
    "plot_pca(ax, df_greek, c=\"gray\", legend=\"Mycenean BA\", ec=\"k\", s=40)\n",
    "plot_pca(ax, df_alg, c=\"k\", legend=\"Algeria IA\", s=40, ec=\"k\")\n",
    "plot_pca(ax, df_spain, c=\"green\", legend=\"Spain IA\", s=40, ec=\"k\")\n",
    "plot_pca(ax, df_sic_ia, c=\"orange\", legend=\"Sicily Polizzello IA\", s=49, ec=\"k\")\n",
    "plot_pca(ax, df_sard_ba, c=\"lightgreen\", legend=\"Sardinia BA\", ec=\"k\", s=40)\n",
    "\n",
    "plot_pca(ax, df_sic_mba, c=\"lime\", legend=\"Sicily Motya MBA\", s=49, ec=\"k\")\n",
    "\n",
    "plot_pca(ax, df_meno, c=\"gold\", legend=\"Menorca LBA\", ec=\"k\", s=49)\n",
    "\n",
    "### Plot the Re\n",
    "df_iid = get_sub_iid(df, [\"I27602\"], output=False)\n",
    "plot_pca(ax, df_iid, c=\"red\", legend=\"Eivissa, Can Marines, 500-300 BCE (n=1)\", \n",
    "         ec=\"gray\", s=120, marker=\"X\")\n",
    "\n",
    "df_iid = get_sub_iid(df, [\"I27619\", \"I27620\",\"I27618\"], output=False)\n",
    "plot_pca(ax, df_iid, c=\"maroon\", legend=\"Eivissa, Puig des Molins, 500-300 BCE (n=3)\", \n",
    "         ec=\"gray\", s=120, marker=\"X\")\n",
    "\n",
    "df_iid = get_sub_iid(df, [\"I27610\", \"I27614\",\n",
    "                          \"I27613\", \"I27617\"], output=False)\n",
    "plot_pca(ax, df_iid, c=\"yellow\", legend=\"Eivissa, Ses Païsses, 500 BCE-300 CE (n=5)\", \n",
    "         ec=\"gray\", s=120, marker=\"X\")\n",
    "\n",
    "ax.legend(loc=\"upper right\", fontsize=9)\n",
    "ax.set_xlabel(\"PC 1\")\n",
    "ax.set_ylabel(\"PC 2\")\n",
    "ax.set_xlim([-0.025,0.085])\n",
    "ax.set_ylim([-0.07,0.04])\n",
    "\n",
    "if len(savepath) > 0:\n",
    "    plt.savefig(savepath, bbox_inches = 'tight', \n",
    "                pad_inches = 0, dpi=600)\n",
    "    print(f\"Saved to: {savepath}\")\n",
    "    \n",
    "plt.show()"
   ]
  },
  {
   "cell_type": "code",
   "execution_count": null,
   "metadata": {},
   "outputs": [],
   "source": [
    "iids_young =  [\"I27602\", \"I27619\", \"I27620\",\n",
    "               \"I27618\", \"I27610\", \"I27614\",\n",
    "               \"I27613\", \"I27617\"]  # \", \"VIL004\"\n",
    "plot_pca_sample(iid=iids_young, savepath=\"\", label=\"Ibiza Punic 500-300 BCE\") "
   ]
  },
  {
   "cell_type": "markdown",
   "metadata": {},
   "source": [
    "# Highlight Consanguineous Individuals"
   ]
  },
  {
   "cell_type": "code",
   "execution_count": null,
   "metadata": {},
   "outputs": [],
   "source": [
    "#savepath=\"./figures/pca/west_med_punic_pca.pdf\"\n",
    "iid = \"I24041|I24190|I24045|I24196|I24193\"\n",
    "iid2 = \"I22121|I22119|I21964\"\n",
    "iid3 = \"I18199|I18201|I18203\"\n",
    "savepath=f\"./figures/pca.v45/consagnuineous_pca.pdf\"\n",
    "savepath=\"\"\n",
    "\n",
    "df_iid = get_sub_iid(df, [iid])\n",
    "df_iid2 = get_sub_iid(df, [iid2])\n",
    "df_iid3 = get_sub_iid(df, [iid3])\n",
    "\n",
    "plt.figure(figsize=(8,8))\n",
    "ax = plt.gca()\n",
    "\n",
    "plot_pca_ho(ax, df_ho, c=\"lightgray\", text=False)\n",
    "plot_pca(ax, df_is, c=\"blue\", legend=\"Israel Canaanite MLBA\", ec=\"k\", alpha=0.9)\n",
    "#plot_pca(ax, df_le, c=\"aqua\", legend=\"Lebanon Canaanite MLBA\", ec=\"k\", alpha=0.9)\n",
    "plot_pca(ax, df_isp, c=\"darkviolet\", legend=\"Israel \\\"Phoenician\\\"\", ec=\"k\", alpha=0.9)\n",
    "### Plot the Sardinian Samples\n",
    "plot_pca(ax, df_sard_ba, c=\"lightgreen\", legend=\"Sardinia BA\", ec=\"k\", s=40)\n",
    "plot_pca(ax, df_tun, c=\"brown\", legend=\"Tunisia N\", ec=\"k\", s=40)\n",
    "plot_pca(ax, df_greek, c=\"gray\", legend=\"Mycenean BA\", ec=\"k\", s=40)\n",
    "\n",
    "plot_pca(ax, df_alg, c=\"k\", legend=\"Algeria IA\", s=40, ec=\"k\")\n",
    "plot_pca(ax, df_spain, c=\"green\", legend=\"Spain IA\", s=40, ec=\"k\")\n",
    "\n",
    "plot_pca(ax, df_sic_ia, c=\"orange\", legend=\"Sicily Polizzello IA\", s=49, ec=\"k\")\n",
    "\n",
    "\n",
    "plot_pca(ax, df_meno, c=\"gold\", legend=\"Menorca LBA\", ec=\"k\", s=49)\n",
    "plot_pca(ax, df_ib, c=\"red\", legend=\"Ibiza Punic\", ec=\"darkred\", s=49, marker=\"D\")\n",
    "\n",
    "plot_pca(ax, df_vil, c=\"yellow\", legend=\"Villamar Sardinian Punic\", ec=\"darkred\", s=49, marker=\"D\")\n",
    "plot_pca(ax, df_msr, c=\"pink\", legend=\"Monte Sirai Sardinian Punic\", ec=\"darkred\", s=49, marker=\"D\")\n",
    "\n",
    "plot_pca(ax, df_sard, c=\"orange\", legend=\"Tharros Sardinian Punic\", ec=\"darkred\", s=49, marker=\"s\", text=False)\n",
    "#plot_pca(ax, df_sard1, c=\"orange\", legend=\"Tharros Sardinian Roman/Punic\", ec=\"red\", s=49, marker=\"s\", text=False)\n",
    "\n",
    "plot_pca(ax, df_vill, c=\"firebrick\", legend=\"Villaricos Andalusia Punic\", ec=\"darkred\", s=49, marker=\"s\", text=False)\n",
    "plot_pca(ax, df_cad, c=\"lightcoral\", legend=\"Cadiz Andalusia Punic\", ec=\"darkred\", s=49, marker=\"s\", text=False)\n",
    "\n",
    "plot_pca(ax, df_kerk, c=\"red\", legend=\"Kerkouane Punic\", ec=\"darkred\", s=49, marker=\"s\", text=False)\n",
    "plot_pca(ax, df_iid, c=\"cyan\", legend=f\"Kerkouane Consanguineous\", ec=\"k\", alpha=0.95, s=100)\n",
    "plot_pca(ax, df_iid2, c=\"pink\", legend=f\"Tharros Consanguineous\", ec=\"k\", alpha=0.95, s=100)\n",
    "plot_pca(ax, df_iid3, c=\"lime\", legend=f\"Villariocs Consanguineous\", ec=\"k\", alpha=0.95, s=100)\n",
    "\n",
    "ax.legend(loc=\"upper right\", fontsize=9)\n",
    "ax.set_xlabel(\"PC 1\")\n",
    "ax.set_ylabel(\"PC 2\")\n",
    "ax.set_xlim([-0.035,0.08])\n",
    "ax.set_ylim([-0.07,0.035])\n",
    "\n",
    "if len(savepath) > 0:\n",
    "    plt.savefig(savepath, bbox_inches = 'tight', \n",
    "                pad_inches = 0, dpi=600)\n",
    "    print(f\"Saved to: {savepath}\")\n",
    "    \n",
    "plt.show()"
   ]
  },
  {
   "cell_type": "markdown",
   "metadata": {},
   "source": [
    "# Plot single individual"
   ]
  },
  {
   "cell_type": "code",
   "execution_count": null,
   "metadata": {},
   "outputs": [],
   "source": [
    "#savepath=\"./figures/pca/west_med_punic_pca.pdf\"\n",
    "iid = \"I12847|I24213\"  ### Tunisia - Sicilly relative!\n",
    "#iid = \"I22122|I22118|I22117\"  # Relatives Tharros\n",
    "#iid = \"I22122\"\n",
    "#savepath=f\"./figures/pca.v45/kerkouane_ROH_pca.pdf\"\n",
    "savepath=\"\"\n",
    "\n",
    "df_iid = get_sub_iid(df, [iid])\n",
    "\n",
    "plt.figure(figsize=(8,8))\n",
    "ax = plt.gca()\n",
    "\n",
    "plot_pca_ho(ax, df_ho, c=\"lightgray\", text=False)\n",
    "plot_pca(ax, df_is, c=\"blue\", legend=\"Israel Canaanite MLBA\", ec=\"k\", alpha=0.9)\n",
    "#plot_pca(ax, df_le, c=\"aqua\", legend=\"Lebanon Canaanite MLBA\", ec=\"k\", alpha=0.9)\n",
    "plot_pca(ax, df_isp, c=\"darkviolet\", legend=\"Israel \\\"Phoenician\\\"\", ec=\"k\", alpha=0.9)\n",
    "### Plot the Sardinian Samples\n",
    "plot_pca(ax, df_sard_ba, c=\"lightgreen\", legend=\"Sardinia BA\", ec=\"k\", s=40)\n",
    "plot_pca(ax, df_tun, c=\"brown\", legend=\"Tunisia N\", ec=\"k\", s=40)\n",
    "plot_pca(ax, df_greek, c=\"gray\", legend=\"Mycenean BA\", ec=\"k\", s=40)\n",
    "\n",
    "plot_pca(ax, df_alg, c=\"k\", legend=\"Algeria IA\", s=40, ec=\"k\")\n",
    "plot_pca(ax, df_spain, c=\"green\", legend=\"Spain IA\", s=40, ec=\"k\")\n",
    "\n",
    "plot_pca(ax, df_sic_ia, c=\"orange\", legend=\"Sicily Polizzello IA\", s=49, ec=\"k\")\n",
    "\n",
    "\n",
    "plot_pca(ax, df_meno, c=\"gold\", legend=\"Menorca LBA\", ec=\"k\", s=49)\n",
    "plot_pca(ax, df_ib, c=\"red\", legend=\"Ibiza Punic\", ec=\"darkred\", s=49, marker=\"D\")\n",
    "\n",
    "plot_pca(ax, df_vil, c=\"yellow\", legend=\"Villamar Sardinian Punic\", ec=\"darkred\", s=49, marker=\"D\")\n",
    "plot_pca(ax, df_msr, c=\"pink\", legend=\"Monte Sirai Sardinian Punic\", ec=\"darkred\", s=49, marker=\"D\")\n",
    "\n",
    "plot_pca(ax, df_sard, c=\"orange\", legend=\"Tharros Sardinian Punic\", ec=\"darkred\", s=49, marker=\"s\", text=False)\n",
    "\n",
    "plot_pca(ax, df_vill, c=\"firebrick\", legend=\"Villaricos Andalusia Punic\", ec=\"darkred\", s=49, marker=\"s\", text=False)\n",
    "plot_pca(ax, df_cad, c=\"lightcoral\", legend=\"Cadiz Andalusia Punic\", ec=\"darkred\", s=49, marker=\"s\", text=False)\n",
    "\n",
    "plot_pca(ax, df_kerk, c=\"red\", legend=\"Kerkouane Punic\", ec=\"darkred\", s=49, marker=\"s\", text=False)\n",
    "plot_pca(ax, df_iid, c=\"cyan\", legend=f\"{iid}\", ec=\"k\", alpha=0.95, s=100)\n",
    "\n",
    "\n",
    "\n",
    "ax.legend(loc=\"upper right\", fontsize=9)\n",
    "ax.set_xlabel(\"PC 1\")\n",
    "ax.set_ylabel(\"PC 2\")\n",
    "ax.set_xlim([-0.035,0.08])\n",
    "ax.set_ylim([-0.07,0.035])\n",
    "\n",
    "if len(savepath) > 0:\n",
    "    plt.savefig(savepath, bbox_inches = 'tight', \n",
    "                pad_inches = 0, dpi=600)\n",
    "    print(f\"Saved to: {savepath}\")\n",
    "    \n",
    "plt.show()"
   ]
  },
  {
   "cell_type": "code",
   "execution_count": null,
   "metadata": {},
   "outputs": [],
   "source": [
    "df_vill.sort_values(by=\"pc2\")"
   ]
  },
  {
   "cell_type": "code",
   "execution_count": null,
   "metadata": {},
   "outputs": [],
   "source": [
    "#savepath=\"./figures/pca/west_med_punic_pca.pdf\"\n",
    "iid = \"I22121\"\n",
    "#savepath=f\"./figures/pca.v45/kerkouane_ROH_pca.pdf\"\n",
    "savepath=\"\"\n",
    "\n",
    "df_iid = get_sub_iid(df, [iid])\n",
    "\n",
    "plt.figure(figsize=(8,8))\n",
    "ax = plt.gca()\n",
    "\n",
    "plot_pca_ho(ax, df_ho, c=\"lightgray\", text=False)\n",
    "plot_pca(ax, df_is, c=\"blue\", legend=\"Israel Canaanite MLBA\", ec=\"k\", alpha=0.9)\n",
    "#plot_pca(ax, df_le, c=\"aqua\", legend=\"Lebanon Canaanite MLBA\", ec=\"k\", alpha=0.9)\n",
    "plot_pca(ax, df_isp, c=\"darkviolet\", legend=\"Israel \\\"Phoenician\\\"\", ec=\"k\", alpha=0.9)\n",
    "### Plot the Sardinian Samples\n",
    "plot_pca(ax, df_sard_ba, c=\"lightgreen\", legend=\"Sardinia BA\", ec=\"k\", s=40)\n",
    "plot_pca(ax, df_tun, c=\"brown\", legend=\"Tunisia N\", ec=\"k\", s=40)\n",
    "plot_pca(ax, df_greek, c=\"gray\", legend=\"Mycenean BA\", ec=\"k\", s=40)\n",
    "\n",
    "plot_pca(ax, df_alg, c=\"k\", legend=\"Algeria IA\", s=40, ec=\"k\")\n",
    "plot_pca(ax, df_spain, c=\"green\", legend=\"Spain IA\", s=40, ec=\"k\")\n",
    "\n",
    "plot_pca(ax, df_sic_ia, c=\"orange\", legend=\"Sicily Polizzello IA\", s=49, ec=\"k\")\n",
    "\n",
    "\n",
    "\n",
    "plot_pca(ax, df_meno, c=\"gold\", legend=\"Menorca LBA\", ec=\"k\", s=49)\n",
    "plot_pca(ax, df_ib, c=\"red\", legend=\"Ibiza Punic\", ec=\"darkred\", s=49, marker=\"D\")\n",
    "\n",
    "plot_pca(ax, df_vil, c=\"yellow\", legend=\"Villamar Sardinian Punic\", ec=\"darkred\", s=49, marker=\"D\")\n",
    "plot_pca(ax, df_msr, c=\"pink\", legend=\"Monte Sirai Sardinian Punic\", ec=\"darkred\", s=49, marker=\"D\")\n",
    "\n",
    "plot_pca(ax, df_sard, c=\"orange\", legend=\"Tharros Sardinian Punic\", ec=\"darkred\", s=49, marker=\"s\", text=False)\n",
    "plot_pca(ax, df_sard1, c=\"orange\", legend=\"Tharros Sardinian Roman/Punic\", ec=\"red\", s=49, marker=\"s\", text=False)\n",
    "\n",
    "plot_pca(ax, df_vill, c=\"firebrick\", legend=\"Villaricos Andalusia Punic\", ec=\"darkred\", s=49, marker=\"s\", text=False)\n",
    "plot_pca(ax, df_cad, c=\"lightcoral\", legend=\"Cadiz Andalusia Punic\", ec=\"darkred\", s=49, marker=\"s\", text=False)\n",
    "\n",
    "plot_pca(ax, df_kerk, c=\"red\", legend=\"Kerkouane Punic\", ec=\"darkred\", s=49, marker=\"s\", text=False)\n",
    "plot_pca(ax, df_iid, c=\"cyan\", legend=f\"{iid}\", ec=\"k\", alpha=0.95, s=100)\n",
    "\n",
    "ax.legend(loc=\"upper right\", fontsize=9)\n",
    "ax.set_xlabel(\"PC 1\")\n",
    "ax.set_ylabel(\"PC 2\")\n",
    "ax.set_xlim([-0.035,0.08])\n",
    "ax.set_ylim([-0.07,0.035])\n",
    "\n",
    "if len(savepath) > 0:\n",
    "    plt.savefig(savepath, bbox_inches = 'tight', \n",
    "                pad_inches = 0, dpi=600)\n",
    "    print(f\"Saved to: {savepath}\")\n",
    "    \n",
    "plt.show()"
   ]
  },
  {
   "cell_type": "code",
   "execution_count": null,
   "metadata": {},
   "outputs": [],
   "source": [
    "df_kerk.sort_values(by=\"pc2\")"
   ]
  },
  {
   "cell_type": "markdown",
   "metadata": {},
   "source": [
    "# Sicilian Punic"
   ]
  },
  {
   "cell_type": "markdown",
   "metadata": {},
   "source": [
    "### Sicilly by Site"
   ]
  },
  {
   "cell_type": "markdown",
   "metadata": {},
   "source": [
    "# Plot context"
   ]
  },
  {
   "cell_type": "code",
   "execution_count": null,
   "metadata": {},
   "outputs": [],
   "source": [
    "#savepath=\"./figures/pca/west_med_punic_pca.pdf\"\n",
    "savepath=\"./figures/pca/west_med_context.png\"\n",
    "savepath=\"\"\n",
    "\n",
    "plt.figure(figsize=(8,8))\n",
    "ax = plt.gca()\n",
    "\n",
    "plot_pca_ho(ax, df_ho, c=\"lightgray\", text=False)\n",
    "plot_pca(ax, df_is, c=\"blue\", legend=\"Israel Canaanite MLBA\", ec=\"k\", alpha=0.9)\n",
    "plot_pca(ax, df_le, c=\"aqua\", legend=\"Lebanon Canaanite MLBA\", ec=\"k\", alpha=0.9)\n",
    "\n",
    "### Plot the Sardinian Samples\n",
    "plot_pca(ax, df_sard_ba, c=\"lightgreen\", legend=\"Sardinia BA\", ec=\"k\", s=40)\n",
    "plot_pca(ax, df_tun, c=\"brown\", legend=\"Tunisia N\", ec=\"k\", s=40)\n",
    "plot_pca(ax, df_greek, c=\"gray\", legend=\"Mycenean BA\", ec=\"k\", s=40)\n",
    "\n",
    "plot_pca(ax, df_alg, c=\"k\", legend=\"Algeria IA\", s=40, ec=\"k\")\n",
    "plot_pca(ax, df_spain, c=\"green\", legend=\"Spain IA\", s=40, ec=\"k\")\n",
    "\n",
    "plot_pca(ax, df_sic_ia, c=\"orange\", legend=\"Sicily Polizzello IA\", s=40, ec=\"k\")\n",
    "plot_pca(ax, df_sic_mba, c=\"lime\", legend=\"Sicily Motya MBA\", s=40, ec=\"k\")\n",
    "plot_pca(ax, df_meno, c=\"gold\", legend=\"Menorca LBA\", ec=\"k\", s=50, marker=\"o\")\n",
    "\n",
    "plot_pca(ax, df_eg_hell, c=\"white\", legend=\"Egypt Hellenistic\", ec=\"k\", s=50, marker=\"o\")\n",
    "\n",
    "plot_pca(ax, df_le, c=\"red\", legend=\"Lebanon MLBA\", ec=\"k\", s=50, marker=\"o\")\n",
    "\n",
    "plot_pca(ax, df_is, c=\"blue\", legend=\"Israel MLBA\", ec=\"k\", s=50, marker=\"o\")\n",
    "plot_pca(ax, df_is_o, c=\"lightblue\", legend=\"Israel MLBA O\", ec=\"k\", s=50, marker=\"o\")\n",
    "\n",
    "\n",
    "plot_pca(ax, df_isp, c=\"darkviolet\", legend=\"Israel \\\"Phoenician\\\"\", ec=\"k\", alpha=0.9)\n",
    "\n",
    "#df_is = get_sub_pops_exact(df, pop_list=[\"Israel_MLBA\"])\n",
    "#df_le = get_sub_pops_exact(df, pop_list=[\"Lebanon_MBA.SG\"])\n",
    "\n",
    "#plot_pca(ax, df_sic, c=\"w\", legend=\"Sicilly Punic\", ec=\"blue\", s=70, marker=\"s\")\n",
    "#plot_pca(ax, df_sic2, c=\"coral\", legend=\"Sicilly Punic2\", ec=\"blue\", s=70, marker=\"s\")\n",
    "#plot_pca(ax, df_sic_him, c=\"red\", legend=\"Sicily Himera\", s=90, marker=\"o\", ec=\"k\")\n",
    "\n",
    "#plot_pca(ax, df_sic, c=\"k\", legend=\"Sicilly Punic\", ec=\"blue\", s=70, marker=\">\")\n",
    "#plot_pca(ax, df_sic2, c=\"coral\", legend=\"Sicilly Punic2\", ec=\"blue\", s=70, marker=\">\")\n",
    "\n",
    "ax.legend(loc=\"upper right\", fontsize=10)\n",
    "ax.set_xlabel(\"PC 1\")\n",
    "ax.set_ylabel(\"PC 2\")\n",
    "ax.set_xlim([-0.035,0.08])\n",
    "ax.set_ylim([-0.07,0.035])\n",
    "\n",
    "if len(savepath) > 0:\n",
    "    plt.savefig(savepath, bbox_inches = 'tight', \n",
    "                pad_inches = 0, dpi=600)\n",
    "    print(f\"Saved to: {savepath}\")\n",
    "    \n",
    "plt.show()"
   ]
  },
  {
   "cell_type": "markdown",
   "metadata": {},
   "source": [
    "# Plot Levantine Populations"
   ]
  },
  {
   "cell_type": "code",
   "execution_count": null,
   "metadata": {},
   "outputs": [],
   "source": [
    "#savepath=\"./figures/pca/west_med_punic_pca.pdf\"\n",
    "savepath=\"./figures/pca/west_med_context.png\"\n",
    "savepath=\"\"\n",
    "\n",
    "plt.figure(figsize=(8,8))\n",
    "ax = plt.gca()\n",
    "\n",
    "plot_pca_ho(ax, df_ho, c=\"lightgray\", text=False)\n",
    "plot_pca(ax, df_is, c=\"blue\", legend=\"Israel Canaanite MLBA\", ec=\"k\", alpha=0.9)\n",
    "plot_pca(ax, df_le, c=\"aqua\", legend=\"Lebanon Canaanite MLBA\", ec=\"k\", alpha=0.9)\n",
    "\n",
    "### Plot the Sardinian Samples\n",
    "plot_pca(ax, df_sard_ba, c=\"lightgreen\", legend=\"Sardinia BA\", ec=\"k\", s=40)\n",
    "plot_pca(ax, df_tun, c=\"brown\", legend=\"Tunisia N\", ec=\"k\", s=40)\n",
    "plot_pca(ax, df_greek, c=\"gray\", legend=\"Mycenean BA\", ec=\"k\", s=40)\n",
    "\n",
    "plot_pca(ax, df_alg, c=\"k\", legend=\"Algeria IA\", s=40, ec=\"k\")\n",
    "plot_pca(ax, df_spain, c=\"green\", legend=\"Spain IA\", s=40, ec=\"k\")\n",
    "\n",
    "plot_pca(ax, df_sic_ia, c=\"orange\", legend=\"Sicily Polizzello IA\", s=40, ec=\"k\")\n",
    "plot_pca(ax, df_sic_mba, c=\"lime\", legend=\"Sicily Motya MBA\", s=40, ec=\"k\")\n",
    "plot_pca(ax, df_meno, c=\"gold\", legend=\"Menorca LBA\", ec=\"k\", s=50, marker=\"o\")\n",
    "\n",
    "plot_pca(ax, df_eg_hell, c=\"white\", legend=\"Egypt Hellenistic\", ec=\"k\", s=50, marker=\"o\")\n",
    "\n",
    "plot_pca(ax, df_le, c=\"red\", legend=\"Lebanon MLBA\", ec=\"k\", s=40, marker=\"o\")\n",
    "\n",
    "plot_pca(ax, df_is_o, c=\"lightblue\", legend=\"Israel MLBA Outlier\", ec=\"k\", s=40, marker=\"o\")\n",
    "\n",
    "\n",
    "df_yehud = df_is[df_is[\"loc\"].str.contains(\"Yehud\")]\n",
    "df_megiddo = df_is[df_is[\"loc\"].str.contains(\"Megiddo, Jezreel Valley\")]\n",
    "plot_pca(ax, df_yehud, c=\"blue\", legend=\"Yehud MLBA\", ec=\"k\", s=40, marker=\"o\")\n",
    "plot_pca(ax, df_megiddo, c=\"cyan\", legend=\"Megiddo MLBA\", ec=\"k\", s=40, marker=\"o\")\n",
    "\n",
    "\n",
    "plot_pca(ax, df_isp, c=\"darkviolet\", legend=\"Israel \\\"Phoenician\\\"\", ec=\"k\", alpha=0.9, s=50)\n",
    "\n",
    "\n",
    "ax.legend(loc=\"upper right\", fontsize=10)\n",
    "ax.set_xlabel(\"PC 1\")\n",
    "ax.set_ylabel(\"PC 2\")\n",
    "ax.set_xlim([-0.035,0.08])\n",
    "ax.set_ylim([-0.07,0.035])\n",
    "\n",
    "if len(savepath) > 0:\n",
    "    plt.savefig(savepath, bbox_inches = 'tight', \n",
    "                pad_inches = 0, dpi=600)\n",
    "    print(f\"Saved to: {savepath}\")\n",
    "    \n",
    "plt.show()"
   ]
  },
  {
   "cell_type": "code",
   "execution_count": null,
   "metadata": {},
   "outputs": [],
   "source": []
  },
  {
   "cell_type": "code",
   "execution_count": null,
   "metadata": {},
   "outputs": [],
   "source": [
    "df_is.sort_values(by=\"pc2\")"
   ]
  },
  {
   "cell_type": "markdown",
   "metadata": {},
   "source": [
    "# PCA of Indivdiuals with African Ancestry"
   ]
  },
  {
   "cell_type": "code",
   "execution_count": null,
   "metadata": {},
   "outputs": [],
   "source": [
    "### Play with pulling out sample\n",
    "df[df[\"pop\"].str.contains(\"Africa\")][\"pop\"].value_counts()"
   ]
  },
  {
   "cell_type": "code",
   "execution_count": null,
   "metadata": {},
   "outputs": [],
   "source": [
    "df_alg_IA = get_sub_pops(df, pop_list=[\"Algeria_IA\"])\n",
    "df_alg_N = get_sub_pops(df, pop_list=[\"Algeria_N\"])\n",
    "df_ibero_m = get_sub_pops(df, pop_list=[\"Morocco_Iberomaurusian\"])\n",
    "df_mor_EN = get_sub_pops(df, pop_list=[\"Morocco_EN\"])\n",
    "df_mor_LN = get_sub_pops(df, pop_list=[\"Morocco_LN\"])\n",
    "df_sar_afr = get_sub_pops_exact(df, pop_list=[\"Italy_Sardinia_C_oAfrican_new\"])\n",
    "df_spain_afr = get_sub_pops_exact(df, pop_list=[\"Spain_BellBeaker_oAfrican\"])\n",
    "df_sicily_afr = get_sub_pops_exact(df, pop_list=[\"Italy_Sicily_MBA_oAfrican\"])"
   ]
  },
  {
   "cell_type": "code",
   "execution_count": null,
   "metadata": {},
   "outputs": [],
   "source": [
    "savepath=\"./figures/pca.v46/pca_afr_punic.png\"\n",
    "savepath=\"\"\n",
    "\n",
    "plt.figure(figsize=(8,8))\n",
    "ax = plt.gca()\n",
    "\n",
    "plot_pca(ax, df_ho, c=\"lightgray\")\n",
    "\n",
    "plot_pca(ax, df_is, c=\"blue\", legend=\"Israel Canaanite MLBA\", ec=\"k\", alpha=0.9)\n",
    "#plot_pca(ax, df_le, c=\"aqua\", legend=\"Lebanon Canaanite MLBA\", ec=\"k\", alpha=0.9)\n",
    "plot_pca(ax, df_isp, c=\"darkviolet\", legend=\"Israel \\\"Phoenician\\\"\", ec=\"k\", alpha=0.9)\n",
    "### Plot the Sardinian Samples\n",
    "#plot_pca(ax, df_sard_ba, c=\"lightgreen\", legend=\"Sardinia BA\", ec=\"k\", s=40)\n",
    "plot_pca(ax, df_greek, c=\"gray\", legend=\"Mycenean BA\", ec=\"k\", s=40)\n",
    "plot_pca(ax, df_alg, c=\"k\", legend=\"Algeria IA\", s=40, marker=\"s\", ec=\"k\")\n",
    "plot_pca(ax, df_spain, c=\"green\", legend=\"Spain IA\", s=40, ec=\"k\")\n",
    "plot_pca(ax, df_sic_ia, c=\"orange\", legend=\"Sicily Polizzello IA\", s=40, ec=\"k\")\n",
    "\n",
    "### Punic Samples\n",
    "plot_pca(ax, df_sard, c=\"gray\", legend=\"Non-Sicily Punic\", ec=\"k\", s=49, marker=\"o\", text=False, alpha=0.9)\n",
    "#plot_pca(ax, df_sard1, c=\"orange\", legend=\"Tharros Sardinian Roman/Punic\", ec=\"red\", s=49, marker=\"s\", text=False)\n",
    "plot_pca(ax, df_vill, c=\"gray\", legend=\"\", ec=\"gray\", s=49, marker=\"o\", text=False)\n",
    "plot_pca(ax, df_cad, c=\"gray\", legend=\"\", ec=\"gray\", s=49, marker=\"o\", text=False)\n",
    "plot_pca(ax, df_kerk, c=\"gray\", legend=\"\", ec=\"gray\", s=49, marker=\"o\", text=False)\n",
    "\n",
    "\n",
    "plot_pca(ax, df_eg_dyn, c=\"w\", legend=\"Egypt Dynastic\", ec=\"blue\", s=40, marker=\"o\")\n",
    "plot_pca(ax, df_eg_hell, c=\"coral\", legend=\"Egypt Hellenistic\", ec=\"blue\", s=40, marker=\"o\")\n",
    "\n",
    "plot_pca(ax, df_tun, c=\"brown\", legend=\"Tunisia N\", ec=\"k\", s=60)\n",
    "plot_pca(ax, df_alg_IA, c=\"red\", legend=\"Algeria IA\", ec=\"k\", s=60)\n",
    "plot_pca(ax, df_alg_N, c=\"k\", legend=\"Algeria N\", ec=\"k\", s=60)\n",
    "plot_pca(ax, df_ibero_m, c=\"cyan\", legend=\"Morocco Iberomaurusian\", ec=\"k\", s=60)\n",
    "plot_pca(ax, df_mor_EN, c=\"green\", legend=\"Morocco EN\", ec=\"k\", s=60)\n",
    "plot_pca(ax, df_mor_LN, c=\"lightgreen\", legend=\"Morocco LN\", ec=\"k\", s=60)\n",
    "plot_pca(ax, df_sar_afr, c=\"yellow\", legend=\"Sardinia C Af. Outlier\", ec=\"k\", s=50, marker=\"D\")\n",
    "plot_pca(ax, df_spain_afr, c=\"orange\", legend=\"Spain BB Af. Outlier\", ec=\"k\", s=50, marker=\"D\")\n",
    "plot_pca(ax, df_sicily_afr, c=\"red\", legend=\"Sicily MBA Af. Outlier\", ec=\"k\", s=50, marker=\"D\")\n",
    "\n",
    "ax.legend(loc=\"upper right\", fontsize=9)\n",
    "ax.set_xlabel(\"PC 1\")\n",
    "ax.set_ylabel(\"PC 2\")\n",
    "ax.set_xlim([-0.035,0.12])\n",
    "ax.set_ylim([-0.08,0.03])\n",
    "\n",
    "plt.show()"
   ]
  },
  {
   "cell_type": "markdown",
   "metadata": {},
   "source": [
    "# Find close PCA matches"
   ]
  },
  {
   "cell_type": "code",
   "execution_count": null,
   "metadata": {},
   "outputs": [],
   "source": [
    "return_pca_matches(df, iid=\"I21966\")[:50]"
   ]
  },
  {
   "cell_type": "code",
   "execution_count": null,
   "metadata": {},
   "outputs": [],
   "source": [
    "return_pca_matches(df, iid=\"I18187\")[:30]"
   ]
  },
  {
   "cell_type": "code",
   "execution_count": null,
   "metadata": {},
   "outputs": [],
   "source": [
    "idx"
   ]
  },
  {
   "cell_type": "markdown",
   "metadata": {},
   "source": [
    "### Area 51"
   ]
  },
  {
   "cell_type": "code",
   "execution_count": null,
   "metadata": {},
   "outputs": [],
   "source": [
    "df_isp"
   ]
  },
  {
   "cell_type": "code",
   "execution_count": null,
   "metadata": {},
   "outputs": [],
   "source": [
    "df[\"iid\"][df[\"iid\"].str.contains(\"I22118\")]"
   ]
  },
  {
   "cell_type": "code",
   "execution_count": null,
   "metadata": {},
   "outputs": [],
   "source": [
    "df1 = df[df[\"pop\"].str.contains(\"Sic\")]\n",
    "df1[\"pop\"].value_counts()"
   ]
  },
  {
   "cell_type": "code",
   "execution_count": null,
   "metadata": {},
   "outputs": [],
   "source": [
    "df_sard"
   ]
  },
  {
   "cell_type": "code",
   "execution_count": null,
   "metadata": {},
   "outputs": [],
   "source": [
    "base_path = \"/n/groups/reich/DAVID/V44/V44.0/v44.0_HO\"\n",
    "ind_path = base_path + \".ind\"\n",
    "\n",
    "df_ho = pd.read_csv(ind_path, delim_whitespace=True, header=None)\n",
    "df_ho.columns=[\"iid\", \"sex\", \"clst\"]\n",
    "print(f\"Loaded {len(df_ho)} Individuals\")"
   ]
  },
  {
   "cell_type": "code",
   "execution_count": null,
   "metadata": {},
   "outputs": [],
   "source": [
    "df_ho[df_ho[\"iid\"].str.contains(\"I22118\")]"
   ]
  },
  {
   "cell_type": "code",
   "execution_count": null,
   "metadata": {},
   "outputs": [],
   "source": [
    "df_meta[df_meta[\"iid\"].str.contains(\"I22118\")]"
   ]
  },
  {
   "cell_type": "code",
   "execution_count": null,
   "metadata": {},
   "outputs": [],
   "source": [
    "df_meta"
   ]
  },
  {
   "cell_type": "code",
   "execution_count": null,
   "metadata": {},
   "outputs": [],
   "source": []
  }
 ],
 "metadata": {
  "kernelspec": {
   "display_name": "Python 3",
   "language": "python",
   "name": "python3"
  },
  "language_info": {
   "codemirror_mode": {
    "name": "ipython",
    "version": 3
   },
   "file_extension": ".py",
   "mimetype": "text/x-python",
   "name": "python",
   "nbconvert_exporter": "python",
   "pygments_lexer": "ipython3",
   "version": "3.7.4"
  }
 },
 "nbformat": 4,
 "nbformat_minor": 4
}
