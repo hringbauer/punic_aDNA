{
 "cells": [
  {
   "cell_type": "markdown",
   "metadata": {},
   "source": [
    "### Produce Maps"
   ]
  },
  {
   "cell_type": "code",
   "execution_count": 9,
   "metadata": {},
   "outputs": [
    {
     "name": "stdout",
     "output_type": "stream",
     "text": [
      "compute-e-16-229.o2.rc.hms.harvard.edu\n",
      "HSM Computational partition detected.\n",
      "/n/groups/reich/hringbauer/git/punic_aDNA\n",
      "CPU Count: 28\n",
      "3.7.4 (default, Sep 11 2019, 11:24:51) \n",
      "[GCC 6.2.0]\n"
     ]
    }
   ],
   "source": [
    "import numpy as np\n",
    "import os  # For Saving to Folder\n",
    "import pandas as pd\n",
    "import matplotlib.pyplot as plt\n",
    "\n",
    "import socket\n",
    "import os as os\n",
    "import sys as sys\n",
    "import multiprocessing as mp\n",
    "import matplotlib.cm as cm\n",
    "import matplotlib.colors as cls\n",
    "import matplotlib.colorbar as clb\n",
    "from matplotlib import gridspec\n",
    "\n",
    "# For Arial Font\n",
    "from matplotlib import rcParams\n",
    "rcParams['font.family'] = 'sans-serif'   # Set the defaul\n",
    "# Make sure to have the font installed (it is on cluster for Harald)\n",
    "rcParams['font.sans-serif'] = ['Arial']\n",
    "\n",
    "socket_name = socket.gethostname()\n",
    "print(socket_name)\n",
    "\n",
    "if socket_name.startswith(\"compute-\"):\n",
    "    print(\"HSM Computational partition detected.\")\n",
    "    path = \"/n/groups/reich/hringbauer/git/punic_aDNA/\"  # The Path on HMS Cluster\n",
    "else:\n",
    "    raise RuntimeWarning(\"Not compatible machine. Check!!\")\n",
    "\n",
    "os.chdir(path)  # Set the right Path (in line with Atom default)\n",
    "# Show the current working directory. Should be HAPSBURG/Notebooks/ParallelRuns\n",
    "print(os.getcwd())\n",
    "print(f\"CPU Count: {mp.cpu_count()}\")\n",
    "print(sys.version)\n",
    "\n",
    "import mpl_toolkits\n",
    "mpl_toolkits.__path__.append('/n/groups/reich/hringbauer/explore_ntbk/jptvenv37/lib/python3.7/site-packages/basemap-1.2.1-py3.7-linux-x86_64.egg/mpl_toolkits/')\n",
    "from mpl_toolkits.basemap import Basemap"
   ]
  },
  {
   "cell_type": "markdown",
   "metadata": {},
   "source": [
    "### Define Plotting Functions"
   ]
  },
  {
   "cell_type": "code",
   "execution_count": 10,
   "metadata": {},
   "outputs": [],
   "source": [
    "def plot_map_ax(df, df_c=[], crs=[30, 60, -10, 40], s=40, s_c=40, \n",
    "                lw=0.2, lw_c=0.2, ec=\"k\", \n",
    "                col_cont = \"#d9d9d9\", col_lake = \"#d9d9d9\", \n",
    "                lw_coast=0.5, res=\"i\",\n",
    "                fs_label=14, figsize=(12,11), states=False, countries=False, ew=0.5,\n",
    "                hspace=0.02, fs=18, \n",
    "                show=True, savepath=\"\"): \n",
    "    \"\"\"Plot a continent, based on coordinates in df\n",
    "    df: Specific Dataframe of samples\n",
    "    lat, lon: Arrays of coordinates to plot\n",
    "    crs: [4], Corners of plot (lat and then lon)\n",
    "    vrange: Normalization range for color [cM]\n",
    "    shiftlong: Add to longitude (in cases for map on South America)\n",
    "    vrange_a: The Age Range to Plot\n",
    "    col_cont: Color of the Continent: \"#d9d9d9\" is very faint gray from Sardinia paper\n",
    "    lw: Width of Scatter point edges\n",
    "    ec: Color of Scatter point edges\n",
    "    res: Resolution of Coastline: c l m i h\"\"\"\n",
    "     \n",
    "    m = Basemap(projection='merc', llcrnrlat=crs[0], urcrnrlat=crs[1],\\\n",
    "                llcrnrlon=crs[2], urcrnrlon=crs[3], resolution=res, ax=ax)  # mill\n",
    "    m.fillcontinents(color=col_cont, zorder=0, lake_color=col_lake)\n",
    "    #m.etopo(scale=0.5, alpha=0.4)  # Topological Map\n",
    "    m.drawcoastlines(color='gray', zorder=0, linewidth=lw_coast)\n",
    "    if countries:\n",
    "        m.drawcountries(color=\"dimgray\")\n",
    "    if states:\n",
    "        m.drawstates()\n",
    "        \n",
    "    if len(df_c)>0:\n",
    "        for _, row in df_c.iterrows():\n",
    "            lat, lon, c = row[\"lat\"], row[\"lon\"], row[\"color\"]\n",
    "            x,y = m(lon, lat)\n",
    "            ax.scatter(x, y, c=c, ec=ec, lw=lw_c, s=s_c, zorder=1)\n",
    "     \n",
    "    lat, lon = df[\"lat\"], df[\"lon\"]\n",
    "    \n",
    "    ### Iterate over Entries on Map\n",
    "    for _, row in df.iterrows():\n",
    "        lat, lon, c, c_txt = row[\"lat\"], row[\"lon\"], row[\"c\"], row[\"c_txt\"]\n",
    "        x,y = m(lon, lat) #np.array([m(lon[i],lat[i]) for i in range(len(lon))])\n",
    "        ax.scatter(x, y, c=c, ec=ec, lw=lw, s=s, zorder=3)\n",
    "        \n",
    "        x_off, y_off = row[\"x\"], row[\"y\"]\n",
    "        lab, n = row[\"loc\"], row[\"n_ia\"]\n",
    "        txt = f\"{lab} ({n})\"\n",
    "        fontc=c_txt\n",
    "        \n",
    "        if row[\"stat\"]==\"new\":\n",
    "            ecb=\"k\"\n",
    "            lw=0.6\n",
    "            \n",
    "        else:\n",
    "            ecb=\"white\"\n",
    "            lw=0.6\n",
    "            \n",
    "        ax.annotate(txt, xy = [x,y], xycoords='data',\n",
    "                    xytext=(x_off, y_off), textcoords='offset points',\n",
    "                    size=fs_label, color=fontc,\n",
    "                    bbox=dict(fc=c, ec=ecb, lw=lw),\n",
    "                    arrowprops=dict(arrowstyle=\"->\", lw=1))\n",
    "\n",
    "    if len(savepath)>0:\n",
    "        plt.savefig(savepath, bbox_inches = 'tight', pad_inches = 0)\n",
    "        print(f\"Saved to {savepath}\")    \n",
    "    \n",
    "    if show:\n",
    "        plt.show()"
   ]
  },
  {
   "cell_type": "markdown",
   "metadata": {},
   "source": [
    "### Load the Data (always required)"
   ]
  },
  {
   "cell_type": "markdown",
   "metadata": {},
   "source": [
    "# Define Locations and sample numbers"
   ]
  },
  {
   "cell_type": "code",
   "execution_count": 26,
   "metadata": {},
   "outputs": [
    {
     "name": "stdout",
     "output_type": "stream",
     "text": [
      "Loaded 136 Individuals\n"
     ]
    }
   ],
   "source": [
    "t = [[\"Tharros\", 39.873496,  8.441024, 20, 32, 43, \"new\", \"#ffd400\", \"k\"],\n",
    "     [\"Villamar\", 39.618016, 8.958117, 6, 25, 26, \"published\", \"#fff6cc\", \"k\"],\n",
    "     [\"Monte Sirai\", 39.183931, 8.49329, 2, 30, 12, \"published\", \"#ffee99\", \"k\"],\n",
    "     [\"Málaga\", 36.7222 , -4.4161, 8, 15, -70, \"new\", \"#D00000\", \"white\"],\n",
    "     [\"Cádiz\", 36.46084 , -6.20556, 3, -25, -52, \"new\", \"#9D0208\", \"white\"],\n",
    "     [\"Villaricos\", 37.247, -1.7768, 10, 0, -53, \"new\", \"#DC2F02\", \"white\"],\n",
    "     [\"Eivissa\", 38.90722 , 1.42944, 7, -5, -20, \"new\", \"#E85D04\", \"k\"],\n",
    "     [\"Lilybaeum\", 37.8000 , 12.4300,  44, 40, -60, \"new\", \"#FAA307\", \"k\"],\n",
    "     [\"Motya\", 37.5353 , 12.2637, 11, -5, -30, \"new\", \"#F48C06\", \"k\"],\n",
    "     [\"Selinunte\", 37.5850 , 12.8250, 6, 62, -30, \"new\", \"#FFBA08\", \"k\"],\n",
    "     [\"Akhziv\", 33.049441, 35.10245, 13, -80, 0, \"new\", \"#52b788\", \"k\"],\n",
    "     [\"Carthage\", 36.8696, 10.33536, 5, -90, -25, \"new\", \"#6A040F\", \"white\"],\n",
    "     [\"Kerkouane\", 36.96021373752745, 11.080827687769771, 5, -60, -65, \"new\", \"red\", \"white\"] \n",
    "    ]\n",
    "\n",
    "#36.86967875002713, 10.335363512031163\n",
    "\n",
    "### For the background\n",
    "#[\"Algeria IA\", 35.427657, 7.145072, 1, -45, -45, \"new\", \"#343a40\", \"w\"],\n",
    "\n",
    "df = pd.DataFrame(t)\n",
    "df.columns = [\"loc\", \"lat\", \"lon\", \"n_ia\", \"x\", \"y\", \"stat\", \"c\", \"c_txt\"]\n",
    "df.to_csv(\"./output/tables/target.v45.1.tsv\")\n",
    "\n",
    "df_context = pd.read_csv(\"./output/tables/reference_samples_plot.v51.1.tsv\", sep=\"\\t\")\n",
    "print(f\"Loaded {len(df_context)} Individuals\")"
   ]
  },
  {
   "cell_type": "code",
   "execution_count": null,
   "metadata": {},
   "outputs": [],
   "source": [
    "plt.figure(figsize=(10,5))\n",
    "ax = plt.gca()\n",
    "plot_map_ax(df=df, df_c= df_context, \n",
    "            crs=[29.5, 45, -10, 37], \n",
    "            fs_label=12, s_c=30, s=50, lw=1.0, lw_c=0.2,\n",
    "            savepath=\"\") # ./figures/maps/ia_med.pdf\n",
    "plt.show()"
   ]
  },
  {
   "cell_type": "code",
   "execution_count": null,
   "metadata": {},
   "outputs": [],
   "source": []
  },
  {
   "cell_type": "code",
   "execution_count": 8,
   "metadata": {},
   "outputs": [
    {
     "data": {
      "text/html": [
       "<div>\n",
       "<style scoped>\n",
       "    .dataframe tbody tr th:only-of-type {\n",
       "        vertical-align: middle;\n",
       "    }\n",
       "\n",
       "    .dataframe tbody tr th {\n",
       "        vertical-align: top;\n",
       "    }\n",
       "\n",
       "    .dataframe thead th {\n",
       "        text-align: right;\n",
       "    }\n",
       "</style>\n",
       "<table border=\"1\" class=\"dataframe\">\n",
       "  <thead>\n",
       "    <tr style=\"text-align: right;\">\n",
       "      <th></th>\n",
       "      <th>iid</th>\n",
       "      <th>pc1</th>\n",
       "      <th>pc2</th>\n",
       "      <th>pc3</th>\n",
       "      <th>pc4</th>\n",
       "      <th>pop</th>\n",
       "      <th>Master ID</th>\n",
       "      <th>clst</th>\n",
       "      <th>loc</th>\n",
       "      <th>n_cov_snp</th>\n",
       "      <th>mean_cov</th>\n",
       "      <th>sex</th>\n",
       "      <th>age</th>\n",
       "      <th>contact</th>\n",
       "      <th>lat</th>\n",
       "      <th>lon</th>\n",
       "      <th>color</th>\n",
       "      <th>label</th>\n",
       "    </tr>\n",
       "  </thead>\n",
       "  <tbody>\n",
       "  </tbody>\n",
       "</table>\n",
       "</div>"
      ],
      "text/plain": [
       "Empty DataFrame\n",
       "Columns: [iid, pc1, pc2, pc3, pc4, pop, Master ID, clst, loc, n_cov_snp, mean_cov, sex, age, contact, lat, lon, color, label]\n",
       "Index: []"
      ]
     },
     "execution_count": 8,
     "metadata": {},
     "output_type": "execute_result"
    }
   ],
   "source": [
    "df_context[df_context[\"pop\"].str.contains(\"Kerk\")]"
   ]
  },
  {
   "cell_type": "code",
   "execution_count": null,
   "metadata": {},
   "outputs": [],
   "source": []
  }
 ],
 "metadata": {
  "kernelspec": {
   "display_name": "Python 3",
   "language": "python",
   "name": "python3"
  },
  "language_info": {
   "codemirror_mode": {
    "name": "ipython",
    "version": 3
   },
   "file_extension": ".py",
   "mimetype": "text/x-python",
   "name": "python",
   "nbconvert_exporter": "python",
   "pygments_lexer": "ipython3",
   "version": "3.7.4"
  }
 },
 "nbformat": 4,
 "nbformat_minor": 4
}
