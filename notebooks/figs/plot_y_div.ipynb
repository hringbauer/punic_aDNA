{
 "cells": [
  {
   "cell_type": "markdown",
   "metadata": {},
   "source": [
    "# Notebook to plot Y chromosome diversity over time"
   ]
  },
  {
   "cell_type": "code",
   "execution_count": 60,
   "metadata": {},
   "outputs": [
    {
     "name": "stdout",
     "output_type": "stream",
     "text": [
      "compute-e-16-233.o2.rc.hms.harvard.edu\n",
      "HSM Computational partition detected.\n",
      "/n/groups/reich/hringbauer/git/punic_aDNA\n",
      "CPU Count: 28\n",
      "3.7.4 (default, Sep 11 2019, 11:24:51) \n",
      "[GCC 6.2.0]\n"
     ]
    }
   ],
   "source": [
    "import numpy as np\n",
    "import os  # For Saving to Folder\n",
    "import pandas as pd\n",
    "import matplotlib.pyplot as plt\n",
    "\n",
    "import socket\n",
    "import os as os\n",
    "import sys as sys\n",
    "import multiprocessing as mp\n",
    "import itertools as it\n",
    "from time import time\n",
    "\n",
    "\n",
    "# For Arial Font\n",
    "from matplotlib import rcParams\n",
    "rcParams['font.family'] = 'sans-serif'   # Set the defaul\n",
    "rcParams['font.sans-serif'] = ['Arial']\n",
    "\n",
    "socket_name = socket.gethostname()\n",
    "print(socket_name)\n",
    "\n",
    "if socket_name.startswith(\"compute-\"):\n",
    "    print(\"HSM Computational partition detected.\")\n",
    "    path = \"/n/groups/reich/hringbauer/git/punic_aDNA/\"  # The Path on Midway Cluster\n",
    "else:\n",
    "    raise RuntimeWarning(\"Not compatible machine. Check!!\")\n",
    "\n",
    "os.chdir(path)  # Set the right Path (in line with Atom default)\n",
    "# Show the current working directory. Should be HAPSBURG/Notebooks/ParallelRuns\n",
    "print(os.getcwd())\n",
    "print(f\"CPU Count: {mp.cpu_count()}\")\n",
    "print(sys.version)\n",
    "\n",
    "from python.plot_pca import *  # Import functions needed for the PCA plotting\n",
    "from hapsburg.PackagesSupport.sqrt_scale import SquareRootScale"
   ]
  },
  {
   "cell_type": "code",
   "execution_count": 61,
   "metadata": {},
   "outputs": [
    {
     "name": "stdout",
     "output_type": "stream",
     "text": [
      "Filtering to 29227/35545 indiviuals with >100000 SNPs.\n",
      "Filtering to 22574/29227 inds >0 BP.\n",
      "Filtering to 22448/22574 inds <12000 BP.\n",
      "Kept 17910/22448 inds with matching lat/lon.\n",
      "Kept 17707/17910 inds with good cluster labels.\n",
      "Kept 16715/17707 unique Master IDs.\n",
      "Kept 9262/16715 Males.\n",
      "Extracted IIDs of 160 IIDs in Punic Project\n",
      "Merged to 68 Punic Males\n",
      "Filtered to 58 Punic Samples based on label\n",
      "Filtered general Y to 9194 ancient, non Punic individuals\n",
      "Filtered to 4059 published ancient males\n"
     ]
    }
   ],
   "source": [
    "df_meta = pd.read_csv(\"/n/groups/reich/hringbauer/Data/v56.3.anno.haplogroups.csv\") # Load Meta Data\n",
    "\n",
    "min_snp = 100000 # Min SNP coverage for Y Call\n",
    "age = [0,12000]\n",
    "lat = [20,90]\n",
    "lon = [-28, 180]\n",
    "flag = [\"_contam\", \"_dup\"]\n",
    "\n",
    "df_meta[\"study\"]=df_meta[\"study\"].fillna(\"missing\") # Add Nan\n",
    "idx = df_meta[\"n_cov_snp\"]>min_snp\n",
    "df=df_meta[idx].reset_index(drop=True)\n",
    "print(f\"Filtering to {np.sum(idx)}/{len(idx)} indiviuals with >{min_snp} SNPs.\")\n",
    "df[\"include\"]=df[\"include_alt\"].astype(\"int\")\n",
    "\n",
    "### Filtering based on Age\n",
    "min_age=age[0]\n",
    "idx = df[\"age\"]>min_age\n",
    "df=df[idx].reset_index(drop=True)\n",
    "print(f\"Filtering to {np.sum(idx)}/{len(idx)} inds >{min_age} BP.\")\n",
    "\n",
    "max_age = age[1]\n",
    "idx = df[\"age\"]<max_age\n",
    "df = df[idx].reset_index(drop=True)\n",
    "print(f\"Filtering to {np.sum(idx)}/{len(idx)} inds <{max_age} BP.\")\n",
    "\n",
    "### Geographic Filtering\n",
    "if (len(lat)>0) | (len(lon)>0):\n",
    "    idx_lat = (lat[0] < df[\"lat\"]) & (df[\"lat\"] < lat[1])\n",
    "    idx_lon = (lon[0] < df[\"lon\"]) & (df[\"lon\"] < lon[1])\n",
    "    idx = (idx_lat & idx_lon)\n",
    "    df=df[idx].reset_index(drop=True)\n",
    "    print(f\"Kept {np.sum(idx)}/{len(idx)} inds with matching lat/lon.\")\n",
    "\n",
    "### Flag tricky Indivdiuals\n",
    "idx = df[\"clst\"].str.contains(\"|\".join(flag))\n",
    "print(f\"Kept {np.sum(~idx)}/{len(idx)} inds with good cluster labels.\")\n",
    "df=df[~idx].reset_index(drop=True)\n",
    "df = df.sort_values(by=\"avg_cov_snp\", ascending=False)\n",
    "idx = df[\"Master ID\"].duplicated()\n",
    "print(f\"Kept {np.sum(~idx)}/{len(idx)} unique Master IDs.\")\n",
    "df=df[~idx].reset_index(drop=True)\n",
    "\n",
    "### Extract Males\n",
    "idx= df[\"sex\"]==\"M\"\n",
    "print(f\"Kept {np.sum(idx)}/{len(idx)} Males.\")\n",
    "df=df[idx].reset_index(drop=True)\n",
    "\n",
    "### Flag Punic Individuals\n",
    "df1 = pd.read_csv(\"./data/cluster_assignments_punic.v54.1i.tsv\", sep=\"\\t\")\n",
    "print(f\"Extracted IIDs of {len(df1)} IIDs in Punic Project\")\n",
    "df_punic = pd.merge(df, df1, on=\"iid\")\n",
    "print(f\"Merged to {len(df_punic)} Punic Males\")\n",
    "\n",
    "### Remove Romans\n",
    "label_inc = [\"Punic_Early\", \"Punic_Late\", \"Punic_Late2\"]\n",
    "df_punic = df_punic[df_punic[\"label\"].isin(label_inc)]\n",
    "\n",
    "#df_punic = df_punic[~df_punic[\"label\"].str.contains(\"Roman\")]\n",
    "print(f\"Filtered to {len(df_punic)} Punic Samples based on label\")\n",
    "\n",
    "### Remove Punics from generat Meta\n",
    "df = df[~df[\"iid\"].isin(df1[\"iid\"])]\n",
    "print(f\"Filtered general Y to {len(df)} ancient, non Punic individuals\")\n",
    "\n",
    "### Go to published indivduals only\n",
    "df =df[~df[\"study\"].str.contains(\"Unpublished\")]\n",
    "print(f\"Filtered to {len(df)} published ancient males\")"
   ]
  },
  {
   "cell_type": "code",
   "execution_count": 96,
   "metadata": {
    "tags": []
   },
   "outputs": [
    {
     "data": {
      "text/plain": [
       "45    E1b1b1a1b2a4b~\n",
       "48     J2a1a1b2a1c2~\n",
       "51        J1a2a1a2c1\n",
       "53      E1b1b1b2a1a~\n",
       "58      G2a2b2a1a1b2\n",
       "60     J2a1a1a2b2a1a\n",
       "62      J2b2a1a1a1b~\n",
       "66           R1b1a1b\n",
       "Name: Y_haplo, dtype: object"
      ]
     },
     "execution_count": 96,
     "metadata": {},
     "output_type": "execute_result"
    }
   ],
   "source": [
    "df_punic[df_punic[\"loc\"].str.contains(\"Tunis, Carthage\")][\"Y_haplo\"]"
   ]
  },
  {
   "cell_type": "markdown",
   "metadata": {},
   "source": [
    "# 1) Code for Diversity Calculation"
   ]
  },
  {
   "cell_type": "code",
   "execution_count": 64,
   "metadata": {},
   "outputs": [],
   "source": [
    "def filter_df_age(df, age_delta = 300, output=False):\n",
    "    \"\"\"Takes Dataframe as Input, and filters to samples within age_delta of median age.\n",
    "    Return Dataframe and medium Age\"\"\"\n",
    "    age_med = np.median(df[\"age\"])\n",
    "    idx = (df[\"age\"]< age_med + age_delta) & (df[\"age\"] > age_med - age_delta)\n",
    "    df = df[idx].copy().reset_index(drop=False)\n",
    "    if output:\n",
    "        print(f\"{np.sum(idx)}/{len(idx)} IIDs within {age_delta} y of median age {age_med}\")\n",
    "    return df, age_med\n",
    "\n",
    "def get_y_counts(df, digits=3, col=\"Y_haplo\"):\n",
    "    \"\"\"Get Y Chromosome counts from Dataframe df\"\"\"\n",
    "    ys = df[col].str[:3]\n",
    "    #print(ys)\n",
    "    cts = ys.value_counts().values\n",
    "    return cts\n",
    "\n",
    "def simpson_di(x):\n",
    "    \"\"\" Given a count vector, returns the Simpson Diversity Index\n",
    "    \"\"\"\n",
    "    n = np.sum(x) # Sample Size\n",
    "    h = np.sum(x*(x-1)) / (n*(n-1)) # Fraction of pairs are identiclal\n",
    "    s = 1 - h \n",
    "    return 1-h\n",
    "\n",
    "def create_ydiv_df(df, sites=[], col_loc=\"loc\",\n",
    "                   age_delta = 300, digits=3, min_m=5):\n",
    "    \"\"\"Take Meta Data as input, and for each site calculate\n",
    "    the Simpson Index of Y chromosomes\"\"\"\n",
    "    data = []\n",
    "    \n",
    "    for s in sites:\n",
    "        df_t = df[df[col_loc]==s]\n",
    "        \n",
    "        ### Test Data Set\n",
    "        df_t, age = filter_df_age(df_t, age_delta=age_delta)\n",
    "        m = len(df_t)\n",
    "        \n",
    "        if m >= min_m: # Only run full analysis if enough males\n",
    "            y = get_y_counts(df_t)\n",
    "            D = simpson_di(y)\n",
    "\n",
    "            data.append([s, age, m, D])\n",
    "          \n",
    "        else:\n",
    "            continue\n",
    "\n",
    "    df = pd.DataFrame(data)\n",
    "    df.columns = [\"loc\", \"age\", \"males\", \"D\"]\n",
    "    return df\n",
    "\n",
    "def get_sub_df_region(df, region=\"\", \n",
    "                      rec_col=\"region\", loc_col=\"loc\", min_n=5):\n",
    "    \"\"\"Get a Dataframe of Y haplogroup diversities per sites\"\"\"\n",
    "    df_ib = df[df[rec_col].isin(region)]\n",
    "    cts = df_ib[loc_col].value_counts()\n",
    "    sites = cts[cts>=min_n].index.values\n",
    "    df_y_it = create_ydiv_df(df, sites=sites)\n",
    "    return df_y_it\n",
    "\n",
    "def set_age_ydiv_df(df, site=\"\", age=0,\n",
    "                    site_col=\"loc\", age_col=\"age\"):\n",
    "    \"\"\"Set the Age of a Y Diversity Cluster\"\"\"\n",
    "    idx = df[site_col]==site\n",
    "    df.loc[idx, age_col]= age\n",
    "\n",
    "def set_legends(ax, plots=[], legs=[], title=\"\", loc=\"lower right\"):\n",
    "    \"\"\"Set Legends in Panel Plots\"\"\"\n",
    "    l1 = ax.legend(plots, legs, fontsize=11, loc=loc,\n",
    "             title=title)\n",
    "    \n",
    "    l1.get_title().set_fontsize('13')\n",
    "    l1.get_title().set_fontweight(\"bold\")\n",
    "    [lgd.set_color('white') for lgd in l1.legendHandles]\n",
    "    [lgd.set_edgecolor('k') for lgd in l1.legendHandles]"
   ]
  },
  {
   "cell_type": "code",
   "execution_count": 146,
   "metadata": {},
   "outputs": [],
   "source": [
    "df_y = create_ydiv_df(df_punic, sites=[\"Tunis, Carthage\", \"Sardinia, Tharros\", \"Tunis, Carthage\"])"
   ]
  },
  {
   "cell_type": "code",
   "execution_count": null,
   "metadata": {
    "tags": []
   },
   "outputs": [],
   "source": [
    "df_punic[\"loc\"].value_counts()"
   ]
  },
  {
   "cell_type": "markdown",
   "metadata": {},
   "source": [
    "# 2) Group Sites from Region"
   ]
  },
  {
   "cell_type": "code",
   "execution_count": 149,
   "metadata": {},
   "outputs": [],
   "source": [
    "df_y_it = get_sub_df_region(df, [\"Italy\"], min_n=5)\n",
    "df_y_fr = get_sub_df_region(df, [\"France\", \"Germany\", \"Austria\"], min_n=5)\n",
    "df_y_ib = get_sub_df_region(df, [\"Spain\", \"Portugal\"], min_n=5)\n",
    "df_y_lev = get_sub_df_region(df, [\"Israel\", \"Lebanon\"], min_n=5)\n",
    "#df_y_ib = get_sub_df_region([\"Spain\", \"Portugal\"])\n",
    "\n",
    "sites=[\"Kerkouane\", \"Sardinia, Tharros\",  \"Sicily, Selinunte, Manuzza\", \"Tunis, Carthage\"]\n",
    " \n",
    "dfpk, dfpt, dfps, dfpc = [create_ydiv_df(df_punic, [s], min_m=5) for s in sites] \n",
    "set_age_ydiv_df(dfpc, site='Tunis, Carthage', age=2300)\n",
    "set_age_ydiv_df(dfpt, site='Sardinia, Tharros', age=2400)"
   ]
  },
  {
   "cell_type": "markdown",
   "metadata": {},
   "source": [
    "## 2) Y Div Panel Plot"
   ]
  },
  {
   "cell_type": "code",
   "execution_count": 150,
   "metadata": {},
   "outputs": [
    {
     "data": {
      "image/png": "[encoded data removed]",
      "text/plain": [
       "<Figure size 288x216 with 1 Axes>"
      ]
     },
     "metadata": {
      "needs_background": "light"
     },
     "output_type": "display_data"
    }
   ],
   "source": [
    "epsilon=0\n",
    "s=50\n",
    "m=\"o\"\n",
    "sf=1.4\n",
    "lw = 0.5\n",
    "\n",
    "plt.figure(figsize=(4,3))\n",
    "ax = plt.gca()\n",
    "ax.set_axisbelow(True)\n",
    "ax.grid(axis='y', color='lightgray', linestyle='dashed', linewidth=1, zorder=0)\n",
    "\n",
    "a1 = ax.scatter(df_y_it[\"age\"]-1950, df_y_it[\"D\"]+epsilon, c=\"green\", ec=\"k\", s=s, marker=m, lw=lw)\n",
    "a2 = ax.scatter(df_y_fr[\"age\"]-1950, df_y_fr[\"D\"]+epsilon, c=\"violet\", ec=\"k\", s=s, marker=m, lw=lw)\n",
    "a3 = ax.scatter(df_y_ib[\"age\"]-1950, df_y_ib[\"D\"]+epsilon, c=\"gray\", ec=\"k\", s=s, marker=m, lw=lw)\n",
    "a4 = ax.scatter(df_y_lev[\"age\"]-1950, df_y_lev[\"D\"]+epsilon, c=\"#390099\", ec=\"k\", s=s, marker=m, lw=lw)\n",
    "\n",
    "#ax.scatter(df_y_him[\"age\"]-1950, df_y_him[\"D\"]+epsilon, ec=\"k\", c=\"orange\", label=\"Himera\")\n",
    "ax.set_ylabel(\"Y Haplogroup Diversity per Site\")\n",
    "ax.set_xlabel(\"Years before Present (BCE/CE)\")\n",
    "ax.invert_xaxis()\n",
    "\n",
    "\n",
    "p1 = ax.scatter(dfpk[\"age\"]-1950, dfpk[\"D\"]+epsilon, ec=\"k\", c=\"darkorange\", s=s*sf, marker=\"<\", lw=lw)\n",
    "p2 = ax.scatter(dfpt[\"age\"]-1950, dfpt[\"D\"]+epsilon, ec=\"k\", c=\"darkorange\", s=s*sf, marker=\"v\", lw=lw)\n",
    "p3 = ax.scatter(dfps[\"age\"]-1950, dfps[\"D\"]+epsilon, ec=\"k\", c=\"darkorange\", s=s*sf, marker=\"^\", lw=lw)\n",
    "p4 = ax.scatter(dfpc[\"age\"]-1950, dfpc[\"D\"]+epsilon, ec=\"k\", c=\"darkorange\", s=s*sf, marker=\">\", lw=lw)\n",
    "\n",
    "#### Legend Punic\n",
    "plots = [p1, p2, p3, p4]\n",
    "legs = [\"Kerkouane\", \"Tharros\", \"Selinunte\", \"Carthage\" ]\n",
    "\n",
    "leg1 = ax.legend(plots, legs, fontsize=10, \n",
    "                 title = \"Phoenician-Punic\",\n",
    "                 bbox_to_anchor=(1.00, 1.03), loc=\"upper left\")\n",
    "#[lgd.set_edgecolor('white') for lgd in leg1.legendHandles]\n",
    "leg1.get_title().set_fontsize('10')\n",
    "leg1.get_title().set_fontweight(\"bold\")\n",
    "ax.add_artist(leg1)\n",
    "\n",
    "### Legend Context Sites\n",
    "plots = [a1, a2, a3, a4]\n",
    "legs = [\"Italy\", \"C. Europe\", \"Iberia\", \"Levant\" ]\n",
    "\n",
    "leg2 = ax.legend(plots, legs, fontsize=10, \n",
    "                 title = \"Other Europe\",\n",
    "                 bbox_to_anchor=(1.00, -0.03), loc=\"lower left\")\n",
    "#[lgd.set_edgecolor('white') for lgd in leg1.legendHandles]\n",
    "leg2.get_title().set_fontsize('10')\n",
    "leg2.get_title().set_fontweight(\"bold\")\n",
    "ax.add_artist(leg2)\n",
    "\n",
    "\n",
    "#set_legends(ax, plots=plots, legs=legs, title=\"Phoenician-Punic\")\n",
    "#ax.set_xticks(np.linspace(-5000,1000,7))\n",
    "plt.show()"
   ]
  },
  {
   "cell_type": "markdown",
   "metadata": {},
   "source": [
    "# Save the Y Haplogroup Diversity\n",
    "Plot over in './browse_divpca.ipynb'"
   ]
  },
  {
   "cell_type": "code",
   "execution_count": null,
   "metadata": {},
   "outputs": [],
   "source": [
    "ax.scatter(df_y_it[\"age\"]-1950, df_y_it[\"D\"]+epsilon, ec=\"gray\", label=\"Italy\")\n",
    "ax.scatter(df_y_fr[\"age\"]-1950, df_y_fr[\"D\"]+epsilon, c=\"yellow\", ec=\"gray\", label=\"C. Europe\")\n",
    "ax.scatter(df_y_ib[\"age\"]-1950, df_y_ib[\"D\"]+epsilon, c=\"orange\", ec=\"gray\", label=\"Iberia\")\n",
    "ax.scatter(df_y_lev[\"age\"]-1950, df_y_lev[\"D\"]+epsilon, c=\"green\", ec=\"gray\", label=\"Levant\")\n",
    "ax.scatter(df_y_pun[\"age\"]-1950, df_y_pun[\"D\"]+epsilon, ec=\"k\", c=\"red\", label=\"Phoenician-Punic\")"
   ]
  },
  {
   "cell_type": "code",
   "execution_count": 62,
   "metadata": {},
   "outputs": [],
   "source": [
    "df_y_it.to_csv(\"./output/tables/ydiv/it.tsv\", sep=\"\\t\", index=False)\n",
    "df_y_fr.to_csv(\"./output/tables/ydiv/fr.tsv\", sep=\"\\t\", index=False)\n",
    "df_y_ib.to_csv(\"./output/tables/ydiv/ib.tsv\", sep=\"\\t\", index=False)\n",
    "df_y_lev.to_csv(\"./output/tables/ydiv/lev.tsv\", sep=\"\\t\", index=False)\n",
    "df_y_pun.to_csv(\"./output/tables/ydiv/pun.tsv\", sep=\"\\t\", index=False)"
   ]
  },
  {
   "cell_type": "markdown",
   "metadata": {},
   "source": [
    "# 1b Make Map of Punic Y Haplogroup Diversity \n",
    "Preperation work: Load all Punic Y Haplogroups"
   ]
  },
  {
   "cell_type": "code",
   "execution_count": 50,
   "metadata": {
    "tags": []
   },
   "outputs": [
    {
     "data": {
      "text/plain": [
       "E1b1    14\n",
       "R1b1    10\n",
       "J2a1     7\n",
       "G2a2     6\n",
       "J1a2     4\n",
       "J2b2     3\n",
       "T1a1     2\n",
       "I2a1     2\n",
       "I        1\n",
       "J2a2     1\n",
       "E1a1     1\n",
       "R1a1     1\n",
       "E1       1\n",
       "L        1\n",
       "T1a2     1\n",
       "G2a      1\n",
       "J1       1\n",
       "C1a2     1\n",
       "Name: Y_haplo, dtype: int64"
      ]
     },
     "execution_count": 50,
     "metadata": {},
     "output_type": "execute_result"
    }
   ],
   "source": [
    "df_punic[\"Y_haplo\"].str[:4].value_counts()"
   ]
  },
  {
   "cell_type": "markdown",
   "metadata": {},
   "source": [
    "### Maunally overwrite some uncertain haplogroup calls"
   ]
  },
  {
   "cell_type": "code",
   "execution_count": 68,
   "metadata": {
    "tags": []
   },
   "outputs": [],
   "source": [
    "set_age_ydiv_df(df_punic, site=\"I22114\", age=\"I1\", site_col=\"iid\", age_col=\"Y_haplo\")\n",
    "set_age_ydiv_df(df_punic, site=\"I21197\", age=\"L\", site_col=\"iid\", age_col=\"Y_haplo\")\n",
    "set_age_ydiv_df(df_punic, site=\"I18189\", age=\"E1a1\", site_col=\"iid\", age_col=\"Y_haplo\")\n",
    "set_age_ydiv_df(df_punic, site=\"I11805\", age=\"G2a1a1\", site_col=\"iid\", age_col=\"Y_haplo\")\n",
    "set_age_ydiv_df(df_punic, site=\"I21856\", age=\"J1a2b~\", site_col=\"iid\", age_col=\"Y_haplo\")"
   ]
  },
  {
   "cell_type": "code",
   "execution_count": 70,
   "metadata": {
    "tags": []
   },
   "outputs": [],
   "source": [
    "counts = df_punic[\"Y_haplo\"].str[:4].value_counts()"
   ]
  },
  {
   "cell_type": "code",
   "execution_count": 73,
   "metadata": {
    "tags": []
   },
   "outputs": [
    {
     "data": {
      "text/plain": [
       "array([14, 10,  7,  6,  5,  3,  2,  2,  2,  1,  1,  1,  1,  1,  1,  1])"
      ]
     },
     "execution_count": 73,
     "metadata": {},
     "output_type": "execute_result"
    }
   ],
   "source": []
  },
  {
   "cell_type": "markdown",
   "metadata": {},
   "source": [
    "### Test: Now Make some cakes"
   ]
  },
  {
   "cell_type": "code",
   "execution_count": 74,
   "metadata": {
    "tags": []
   },
   "outputs": [
    {
     "data": {
      "image/png": "[encoded data removed]",
      "text/plain": [
       "<Figure size 432x432 with 1 Axes>"
      ]
     },
     "metadata": {},
     "output_type": "display_data"
    }
   ],
   "source": [
    "plt.figure(figsize=(6,6))\n",
    "ax = plt.gca()\n",
    "ax.pie(counts.values, labels=counts.index, autopct='%1.1f%%')\n",
    "\n",
    "plt.show()"
   ]
  },
  {
   "cell_type": "code",
   "execution_count": 57,
   "metadata": {
    "tags": []
   },
   "outputs": [
    {
     "data": {
      "text/html": [
       "<div>\n",
       "<style scoped>\n",
       "    .dataframe tbody tr th:only-of-type {\n",
       "        vertical-align: middle;\n",
       "    }\n",
       "\n",
       "    .dataframe tbody tr th {\n",
       "        vertical-align: top;\n",
       "    }\n",
       "\n",
       "    .dataframe thead th {\n",
       "        text-align: right;\n",
       "    }\n",
       "</style>\n",
       "<table border=\"1\" class=\"dataframe\">\n",
       "  <thead>\n",
       "    <tr style=\"text-align: right;\">\n",
       "      <th></th>\n",
       "      <th>iid</th>\n",
       "      <th>Master ID</th>\n",
       "      <th>loc</th>\n",
       "      <th>lat</th>\n",
       "      <th>lon</th>\n",
       "      <th>age</th>\n",
       "      <th>region</th>\n",
       "      <th>study</th>\n",
       "      <th>clst</th>\n",
       "      <th>mean_cov</th>\n",
       "      <th>...</th>\n",
       "      <th>include</th>\n",
       "      <th>label_fine</th>\n",
       "      <th>location</th>\n",
       "      <th>label</th>\n",
       "      <th>clst_qpadm</th>\n",
       "      <th>cluster_geo</th>\n",
       "      <th>published</th>\n",
       "      <th>date range</th>\n",
       "      <th>direct date</th>\n",
       "      <th>SNPs</th>\n",
       "    </tr>\n",
       "    <tr>\n",
       "      <th>iid</th>\n",
       "      <th></th>\n",
       "      <th></th>\n",
       "      <th></th>\n",
       "      <th></th>\n",
       "      <th></th>\n",
       "      <th></th>\n",
       "      <th></th>\n",
       "      <th></th>\n",
       "      <th></th>\n",
       "      <th></th>\n",
       "      <th></th>\n",
       "      <th></th>\n",
       "      <th></th>\n",
       "      <th></th>\n",
       "      <th></th>\n",
       "      <th></th>\n",
       "      <th></th>\n",
       "      <th></th>\n",
       "      <th></th>\n",
       "      <th></th>\n",
       "      <th></th>\n",
       "    </tr>\n",
       "  </thead>\n",
       "  <tbody>\n",
       "    <tr>\n",
       "      <th>I22114</th>\n",
       "      <td>I22114</td>\n",
       "      <td>I22114</td>\n",
       "      <td>Sardinia, Tharros</td>\n",
       "      <td>39.873496</td>\n",
       "      <td>8.441024</td>\n",
       "      <td>2239.0</td>\n",
       "      <td>Italy</td>\n",
       "      <td>Unpublished (Harald Ilan Punic)</td>\n",
       "      <td>Italy_Sardinia_Punic_Late_oEurope</td>\n",
       "      <td>0.622697</td>\n",
       "      <td>...</td>\n",
       "      <td>1</td>\n",
       "      <td>Tharros_Late</td>\n",
       "      <td>Tharros</td>\n",
       "      <td>Punic_Late</td>\n",
       "      <td>PunicLateEu</td>\n",
       "      <td>Sardinia</td>\n",
       "      <td>NaN</td>\n",
       "      <td>387-208 calBCE (2245Â±20 BP, PSUAMS-9222)</td>\n",
       "      <td>y</td>\n",
       "      <td>747236</td>\n",
       "    </tr>\n",
       "  </tbody>\n",
       "</table>\n",
       "<p>1 rows × 27 columns</p>\n",
       "</div>"
      ],
      "text/plain": [
       "           iid Master ID                loc        lat       lon     age  \\\n",
       "iid                                                                        \n",
       "I22114  I22114    I22114  Sardinia, Tharros  39.873496  8.441024  2239.0   \n",
       "\n",
       "       region                            study  \\\n",
       "iid                                              \n",
       "I22114  Italy  Unpublished (Harald Ilan Punic)   \n",
       "\n",
       "                                     clst  mean_cov  ...  include  \\\n",
       "iid                                                  ...            \n",
       "I22114  Italy_Sardinia_Punic_Late_oEurope  0.622697  ...        1   \n",
       "\n",
       "          label_fine  location       label   clst_qpadm cluster_geo published  \\\n",
       "iid                                                                             \n",
       "I22114  Tharros_Late   Tharros  Punic_Late  PunicLateEu    Sardinia       NaN   \n",
       "\n",
       "                                       date range direct date    SNPs  \n",
       "iid                                                                    \n",
       "I22114  387-208 calBCE (2245Â±20 BP, PSUAMS-9222)           y  747236  \n",
       "\n",
       "[1 rows x 27 columns]"
      ]
     },
     "execution_count": 57,
     "metadata": {},
     "output_type": "execute_result"
    }
   ],
   "source": [
    "df_punsic[df_punic[\"Y_haplo\"]==\"I\"]"
   ]
  },
  {
   "cell_type": "markdown",
   "metadata": {},
   "source": [
    "# Area 51"
   ]
  },
  {
   "cell_type": "code",
   "execution_count": null,
   "metadata": {},
   "outputs": [],
   "source": [
    "df_y_it.sort_values(by=\"age\", ascending=False)"
   ]
  },
  {
   "cell_type": "code",
   "execution_count": 221,
   "metadata": {},
   "outputs": [],
   "source": [
    "dft = df[df[\"loc\"].str.contains(\"Perdasdefogu\")].sort_values(by=\"age\")[1:]"
   ]
  },
  {
   "cell_type": "code",
   "execution_count": null,
   "metadata": {},
   "outputs": [],
   "source": [
    "df_y_ib = get_sub_df_region([\"Jordania\"])\n",
    "df_y_ib"
   ]
  },
  {
   "cell_type": "code",
   "execution_count": null,
   "metadata": {},
   "outputs": [],
   "source": [
    "df[df[\"loc\"]==\"Abruzzo, Alfedena\"]"
   ]
  }
 ],
 "metadata": {
  "kernelspec": {
   "display_name": "Python 3",
   "language": "python",
   "name": "python3"
  },
  "language_info": {
   "codemirror_mode": {
    "name": "ipython",
    "version": 3
   },
   "file_extension": ".py",
   "mimetype": "text/x-python",
   "name": "python",
   "nbconvert_exporter": "python",
   "pygments_lexer": "ipython3",
   "version": "3.7.4"
  }
 },
 "nbformat": 4,
 "nbformat_minor": 4
}
