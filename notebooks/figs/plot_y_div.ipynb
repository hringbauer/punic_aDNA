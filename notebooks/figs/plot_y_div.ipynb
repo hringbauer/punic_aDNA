{
 "cells": [
  {
   "cell_type": "markdown",
   "metadata": {},
   "source": [
    "# Notebook to plot Y chromosome diversity over time"
   ]
  },
  {
   "cell_type": "code",
   "execution_count": 1,
   "metadata": {},
   "outputs": [
    {
     "name": "stdout",
     "output_type": "stream",
     "text": [
      "compute-e-16-236.o2.rc.hms.harvard.edu\n",
      "HSM Computational partition detected.\n",
      "/n/groups/reich/hringbauer/git/punic_aDNA\n",
      "CPU Count: 28\n",
      "3.7.4 (default, Sep 11 2019, 11:24:51) \n",
      "[GCC 6.2.0]\n"
     ]
    }
   ],
   "source": [
    "import numpy as np\n",
    "import os  # For Saving to Folder\n",
    "import pandas as pd\n",
    "import matplotlib.pyplot as plt\n",
    "\n",
    "import socket\n",
    "import os as os\n",
    "import sys as sys\n",
    "import multiprocessing as mp\n",
    "import itertools as it\n",
    "from time import time\n",
    "\n",
    "# For Arial Font\n",
    "from matplotlib import rcParams\n",
    "rcParams['font.family'] = 'sans-serif'   # Set the defaul\n",
    "rcParams['font.sans-serif'] = ['Arial']\n",
    "from matplotlib import gridspec\n",
    "#plt.style.use('ggplot') #..../whitegrid.mplstyle  # Nice Plotting Style\n",
    "\n",
    "socket_name = socket.gethostname()\n",
    "print(socket_name)\n",
    "\n",
    "if socket_name.startswith(\"compute-\"):\n",
    "    print(\"HSM Computational partition detected.\")\n",
    "    path = \"/n/groups/reich/hringbauer/git/punic_aDNA/\"  # The Path on Midway Cluster\n",
    "else:\n",
    "    raise RuntimeWarning(\"Not compatible machine. Check!!\")\n",
    "\n",
    "os.chdir(path)  # Set the right Path (in line with Atom default)\n",
    "# Show the current working directory. Should be HAPSBURG/Notebooks/ParallelRuns\n",
    "print(os.getcwd())\n",
    "print(f\"CPU Count: {mp.cpu_count()}\")\n",
    "print(sys.version)\n",
    "\n",
    "from python.plot_pca import *  # Import functions needed for the PCA plotting\n",
    "from hapsburg.PackagesSupport.sqrt_scale import SquareRootScale"
   ]
  },
  {
   "cell_type": "markdown",
   "metadata": {},
   "source": [
    "### Helper Functions"
   ]
  },
  {
   "cell_type": "code",
   "execution_count": 2,
   "metadata": {
    "tags": []
   },
   "outputs": [],
   "source": [
    "def filter_df_age(df, age_delta = 300, output=False):\n",
    "    \"\"\"Takes Dataframe as Input, and filters to samples within age_delta of median age.\n",
    "    Return Dataframe and medium Age\"\"\"\n",
    "    age_med = np.median(df[\"age\"])\n",
    "    idx = (df[\"age\"]< age_med + age_delta) & (df[\"age\"] > age_med - age_delta)\n",
    "    df = df[idx].copy().reset_index(drop=False)\n",
    "    if output:\n",
    "        print(f\"{np.sum(idx)}/{len(idx)} IIDs within {age_delta} y of median age {age_med}\")\n",
    "    return df, age_med\n",
    "\n",
    "def get_y_counts(df, digits=3, col=\"Y_haplo\"):\n",
    "    \"\"\"Get Y Chromosome counts from Dataframe df\"\"\"\n",
    "    ys = df[col].str[:3]\n",
    "    cts = ys.value_counts().values\n",
    "    return cts\n",
    "\n",
    "def simpson_di(x):\n",
    "    \"\"\" Given a count vector, returns the Simpson Diversity Index\n",
    "    \"\"\"\n",
    "    n = np.sum(x) # Sample Size\n",
    "    h = np.sum(x*(x-1)) / (n*(n-1)) # Fraction of pairs are identiclal\n",
    "    s = 1 - h \n",
    "    return 1-h\n",
    "\n",
    "def create_ydiv_df(df, sites=[], col_loc=\"loc\",\n",
    "                   age_delta = 300, digits=3, min_m=5):\n",
    "    \"\"\"Take Meta Data as input, and for each site calculate\n",
    "    the Simpson Index of Y chromosomes\"\"\"\n",
    "    data = []\n",
    "    \n",
    "    for s in sites:\n",
    "        df_t = df[df[col_loc]==s]\n",
    "        \n",
    "        ### Test Data Set\n",
    "        df_t, age = filter_df_age(df_t, age_delta=age_delta)\n",
    "        m = len(df_t)\n",
    "        \n",
    "        if m >= min_m: # Only run full analysis if enough males\n",
    "            y = get_y_counts(df_t)\n",
    "            D = simpson_di(y)\n",
    "\n",
    "            data.append([s, age, m, D])\n",
    "          \n",
    "        else:\n",
    "            continue\n",
    "\n",
    "    df = pd.DataFrame(data)\n",
    "    df.columns = [\"loc\", \"age\", \"males\", \"D\"]\n",
    "    return df\n",
    "\n",
    "def get_sub_df_region(df, region=\"\", rec_col=\"region\", loc_col=\"loc\", min_n=5):\n",
    "    \"\"\"Get a Dataframe of Y haplogroup diversities per sites\"\"\"\n",
    "    df_ib = df[df[rec_col].isin(region)]\n",
    "    cts = df_ib[loc_col].value_counts()\n",
    "    sites = cts[cts>=min_n].index.values\n",
    "    df_y_it = create_ydiv_df(df, sites=sites)\n",
    "    return df_y_it\n",
    "\n",
    "def set_age_ydiv_df(df, site=\"\", age=0,\n",
    "                    site_col=\"loc\", age_col=\"age\"):\n",
    "    \"\"\"Set the Age of a Y Diversity Cluster\"\"\"\n",
    "    idx = df[site_col]==site\n",
    "    df.loc[idx, age_col]= age\n",
    "\n",
    "def set_legends(ax, plots=[], legs=[], title=\"\", loc=\"lower right\"):\n",
    "    \"\"\"Set Legends in Panel Plots\"\"\"\n",
    "    l1 = ax.legend(plots, legs, fontsize=11, loc=loc,\n",
    "             title=title)\n",
    "    \n",
    "    l1.get_title().set_fontsize('13')\n",
    "    l1.get_title().set_fontweight(\"bold\")\n",
    "    [lgd.set_color('white') for lgd in l1.legendHandles]\n",
    "    [lgd.set_edgecolor('k') for lgd in l1.legendHandles]"
   ]
  },
  {
   "cell_type": "markdown",
   "metadata": {},
   "source": [
    "### Load Meta and Y haplogroup Data"
   ]
  },
  {
   "cell_type": "code",
   "execution_count": 3,
   "metadata": {},
   "outputs": [
    {
     "name": "stdout",
     "output_type": "stream",
     "text": [
      "Filtering to 29227/35545 indiviuals with >100000 SNPs.\n",
      "Filtering to 22574/29227 inds >0 BP.\n",
      "Filtering to 22448/22574 inds <12000 BP.\n",
      "Kept 17910/22448 inds with matching lat/lon.\n",
      "Kept 17707/17910 inds with good cluster labels.\n",
      "Kept 16715/17707 unique Master IDs.\n",
      "Kept 9262/16715 Males.\n",
      "Extracted IIDs of 160 IIDs in Punic Project\n",
      "Merged to 68 Punic Males\n",
      "Filtered to 58 Punic Samples based on label\n",
      "Filtered general Y to 9194 ancient, non Punic individuals\n",
      "Filtered to 4059 published ancient males\n"
     ]
    }
   ],
   "source": [
    "df_meta = pd.read_csv(\"/n/groups/reich/hringbauer/Data/v56.3.anno.haplogroups.csv\") # Load Meta Data\n",
    "\n",
    "min_snp = 100000 # Min SNP coverage for Y Call\n",
    "age = [0,12000]\n",
    "lat = [20,90]\n",
    "lon = [-28, 180]\n",
    "flag = [\"_contam\", \"_dup\"]\n",
    "\n",
    "df_meta[\"study\"]=df_meta[\"study\"].fillna(\"missing\") # Add Nan\n",
    "idx = df_meta[\"n_cov_snp\"]>min_snp\n",
    "df=df_meta[idx].reset_index(drop=True)\n",
    "print(f\"Filtering to {np.sum(idx)}/{len(idx)} indiviuals with >{min_snp} SNPs.\")\n",
    "df[\"include\"]=df[\"include_alt\"].astype(\"int\")\n",
    "\n",
    "### Filtering based on Age\n",
    "min_age=age[0]\n",
    "idx = df[\"age\"]>min_age\n",
    "df=df[idx].reset_index(drop=True)\n",
    "print(f\"Filtering to {np.sum(idx)}/{len(idx)} inds >{min_age} BP.\")\n",
    "\n",
    "max_age = age[1]\n",
    "idx = df[\"age\"]<max_age\n",
    "df = df[idx].reset_index(drop=True)\n",
    "print(f\"Filtering to {np.sum(idx)}/{len(idx)} inds <{max_age} BP.\")\n",
    "\n",
    "### Geographic Filtering\n",
    "if (len(lat)>0) | (len(lon)>0):\n",
    "    idx_lat = (lat[0] < df[\"lat\"]) & (df[\"lat\"] < lat[1])\n",
    "    idx_lon = (lon[0] < df[\"lon\"]) & (df[\"lon\"] < lon[1])\n",
    "    idx = (idx_lat & idx_lon)\n",
    "    df=df[idx].reset_index(drop=True)\n",
    "    print(f\"Kept {np.sum(idx)}/{len(idx)} inds with matching lat/lon.\")\n",
    "\n",
    "### Flag tricky Indivdiuals\n",
    "idx = df[\"clst\"].str.contains(\"|\".join(flag))\n",
    "print(f\"Kept {np.sum(~idx)}/{len(idx)} inds with good cluster labels.\")\n",
    "df=df[~idx].reset_index(drop=True)\n",
    "df = df.sort_values(by=\"avg_cov_snp\", ascending=False)\n",
    "idx = df[\"Master ID\"].duplicated()\n",
    "print(f\"Kept {np.sum(~idx)}/{len(idx)} unique Master IDs.\")\n",
    "df=df[~idx].reset_index(drop=True)\n",
    "\n",
    "### Extract Males\n",
    "idx= df[\"sex\"]==\"M\"\n",
    "print(f\"Kept {np.sum(idx)}/{len(idx)} Males.\")\n",
    "df=df[idx].reset_index(drop=True)\n",
    "\n",
    "### Flag Punic Individuals\n",
    "df1 = pd.read_csv(\"./data/cluster_assignments_punic.v54.1i.tsv\", sep=\"\\t\")\n",
    "print(f\"Extracted IIDs of {len(df1)} IIDs in Punic Project\")\n",
    "df_punic = pd.merge(df, df1, on=\"iid\")\n",
    "print(f\"Merged to {len(df_punic)} Punic Males\")\n",
    "\n",
    "### Remove Romans\n",
    "label_inc = [\"Punic_Early\", \"Punic_Late\", \"Punic_Late2\"]\n",
    "df_punic = df_punic[df_punic[\"label\"].isin(label_inc)]\n",
    "\n",
    "#df_punic = df_punic[~df_punic[\"label\"].str.contains(\"Roman\")]\n",
    "print(f\"Filtered to {len(df_punic)} Punic Samples based on label\")\n",
    "\n",
    "### Remove Punics from generat Meta\n",
    "df = df[~df[\"iid\"].isin(df1[\"iid\"])]\n",
    "print(f\"Filtered general Y to {len(df)} ancient, non Punic individuals\")\n",
    "\n",
    "### Go to published indivduals only\n",
    "df =df[~df[\"study\"].str.contains(\"Unpublished\")]\n",
    "print(f\"Filtered to {len(df)} published ancient males\")"
   ]
  },
  {
   "cell_type": "code",
   "execution_count": 6,
   "metadata": {
    "tags": []
   },
   "outputs": [
    {
     "data": {
      "text/plain": [
       "45    E1b1b1a1b2a4b~\n",
       "48     J2a1a1b2a1c2~\n",
       "51        J1a2a1a2c1\n",
       "53      E1b1b1b2a1a~\n",
       "58      G2a2b2a1a1b2\n",
       "60     J2a1a1a2b2a1a\n",
       "62      J2b2a1a1a1b~\n",
       "66           R1b1a1b\n",
       "Name: Y_haplo, dtype: object"
      ]
     },
     "execution_count": 6,
     "metadata": {},
     "output_type": "execute_result"
    }
   ],
   "source": [
    "df_punic[df_punic[\"loc\"].str.contains(\"Tunis, Carthage\")][\"Y_haplo\"]"
   ]
  },
  {
   "cell_type": "markdown",
   "metadata": {},
   "source": [
    "# 1) Code for Diversity Calculation"
   ]
  },
  {
   "cell_type": "code",
   "execution_count": 4,
   "metadata": {},
   "outputs": [],
   "source": [
    "df_y = create_ydiv_df(df_punic, sites=[\"Tunis, Carthage\", \"Sardinia, Tharros\", \"Tunis, Carthage\"])"
   ]
  },
  {
   "cell_type": "code",
   "execution_count": null,
   "metadata": {
    "tags": []
   },
   "outputs": [],
   "source": [
    "df_punic[\"loc\"].value_counts()"
   ]
  },
  {
   "cell_type": "markdown",
   "metadata": {},
   "source": [
    "# 2) Group Sites from Region"
   ]
  },
  {
   "cell_type": "code",
   "execution_count": 4,
   "metadata": {},
   "outputs": [],
   "source": [
    "df_y_it = get_sub_df_region(df, [\"Italy\"], min_n=5)\n",
    "df_y_fr = get_sub_df_region(df, [\"France\", \"Germany\", \"Austria\"], min_n=5)\n",
    "df_y_ib = get_sub_df_region(df, [\"Spain\", \"Portugal\"], min_n=5)\n",
    "df_y_lev = get_sub_df_region(df, [\"Israel\", \"Lebanon\"], min_n=5)\n",
    "\n",
    "\n",
    "sites=[\"Kerkouane\", \"Sardinia, Tharros\",  \"Sicily, Selinunte, Manuzza\", \"Tunis, Carthage\"]\n",
    "dfpk, dfpt, dfps, dfpc = [create_ydiv_df(df_punic, [s], min_m=5) for s in sites] \n",
    "dfpa = create_ydiv_df(df_punic, sites=[\"Akhziv\"], col_loc=\"location\", min_m=5)\n",
    "set_age_ydiv_df(dfpc, site='Tunis, Carthage', age=2300)\n",
    "set_age_ydiv_df(dfpt, site='Sardinia, Tharros', age=2400)"
   ]
  },
  {
   "cell_type": "code",
   "execution_count": 27,
   "metadata": {
    "tags": []
   },
   "outputs": [
    {
     "data": {
      "text/html": [
       "<div>\n",
       "<style scoped>\n",
       "    .dataframe tbody tr th:only-of-type {\n",
       "        vertical-align: middle;\n",
       "    }\n",
       "\n",
       "    .dataframe tbody tr th {\n",
       "        vertical-align: top;\n",
       "    }\n",
       "\n",
       "    .dataframe thead th {\n",
       "        text-align: right;\n",
       "    }\n",
       "</style>\n",
       "<table border=\"1\" class=\"dataframe\">\n",
       "  <thead>\n",
       "    <tr style=\"text-align: right;\">\n",
       "      <th></th>\n",
       "      <th>loc</th>\n",
       "      <th>age</th>\n",
       "      <th>males</th>\n",
       "      <th>D</th>\n",
       "    </tr>\n",
       "  </thead>\n",
       "  <tbody>\n",
       "    <tr>\n",
       "      <th>0</th>\n",
       "      <td>Akhziv</td>\n",
       "      <td>2600.0</td>\n",
       "      <td>6</td>\n",
       "      <td>0.6</td>\n",
       "    </tr>\n",
       "  </tbody>\n",
       "</table>\n",
       "</div>"
      ],
      "text/plain": [
       "      loc     age  males    D\n",
       "0  Akhziv  2600.0      6  0.6"
      ]
     },
     "execution_count": 27,
     "metadata": {},
     "output_type": "execute_result"
    }
   ],
   "source": [
    "df_y_akz"
   ]
  },
  {
   "cell_type": "markdown",
   "metadata": {},
   "source": [
    "## Y Div Panel Plot Function"
   ]
  },
  {
   "cell_type": "code",
   "execution_count": 5,
   "metadata": {
    "tags": []
   },
   "outputs": [],
   "source": [
    "def plot_y_div_panel(ax=0, figsize=(4,3), epsilon=0, s=50, m=\"o\", sf=1.4, lw = 0.5):\n",
    "    \"\"\"Plot Y Diversity Panel. Assumes that the dataframes are named externall!\n",
    "    If axis not given, make new plot with figsize\"\"\"\n",
    "    \n",
    "    if ax==0:\n",
    "        plt.figure(figsize=figsize)\n",
    "        ax = plt.gca()\n",
    "    ax.set_axisbelow(True)\n",
    "    ax.grid(axis='y', color='lightgray', linestyle='dashed', linewidth=1, zorder=0)\n",
    "\n",
    "    a1 = ax.scatter(df_y_it[\"age\"]-1950, df_y_it[\"D\"]+epsilon, c=\"green\", ec=\"k\", s=s, marker=m, lw=lw)\n",
    "    a2 = ax.scatter(df_y_fr[\"age\"]-1950, df_y_fr[\"D\"]+epsilon, c=\"violet\", ec=\"k\", s=s, marker=m, lw=lw)\n",
    "    a3 = ax.scatter(df_y_ib[\"age\"]-1950, df_y_ib[\"D\"]+epsilon, c=\"gray\", ec=\"k\", s=s, marker=m, lw=lw)\n",
    "    a4 = ax.scatter(df_y_lev[\"age\"]-1950, df_y_lev[\"D\"]+epsilon, c=\"#390099\", ec=\"k\", s=s, marker=m, lw=lw)\n",
    "\n",
    "    #ax.scatter(df_y_him[\"age\"]-1950, df_y_him[\"D\"]+epsilon, ec=\"k\", c=\"orange\", label=\"Himera\")\n",
    "    ax.set_ylabel(\"Y Haplogroup Diversity per Site\")\n",
    "    ax.set_xlabel(\"Years before Present (BCE/CE)\")\n",
    "    ax.invert_xaxis()\n",
    "\n",
    "    p1 = ax.scatter(dfpk[\"age\"]-1950, dfpk[\"D\"]+epsilon, ec=\"k\", c=\"darkorange\", s=s*sf, marker=\"<\", lw=lw)\n",
    "    p2 = ax.scatter(dfpt[\"age\"]-1950, dfpt[\"D\"]+epsilon, ec=\"k\", c=\"darkorange\", s=s*sf, marker=\"v\", lw=lw)\n",
    "    p3 = ax.scatter(dfps[\"age\"]-1950, dfps[\"D\"]+epsilon, ec=\"k\", c=\"darkorange\", s=s*sf, marker=\"^\", lw=lw)\n",
    "    p4 = ax.scatter(dfpc[\"age\"]-1950, dfpc[\"D\"]+epsilon, ec=\"k\", c=\"darkorange\", s=s*sf, marker=\">\", lw=lw)\n",
    "    p5 = ax.scatter(dfpa[\"age\"]-1950, dfpa[\"D\"]+epsilon, c=\"orangered\", ec=\"k\", s=s, marker='H', lw=lw)\n",
    "\n",
    "    #### Legend Punic\n",
    "    plots = [p1, p2, p3, p4, p5]\n",
    "    legs = [\"Kerkouane\", \"Tharros\", \"Selinunte\", \"Carthage\", \"Akhziv\"]\n",
    "\n",
    "    leg1 = ax.legend(plots, legs, fontsize=10, \n",
    "                     title = \"Phoenician-Punic\",\n",
    "                     bbox_to_anchor=(1.00, 1.03), loc=\"upper left\")\n",
    "    #[lgd.set_edgecolor('white') for lgd in leg1.legendHandles]\n",
    "    leg1.get_title().set_fontsize('10')\n",
    "    leg1.get_title().set_fontweight(\"bold\")\n",
    "    ax.add_artist(leg1)\n",
    "\n",
    "    ### Legend Context Sites\n",
    "    plots = [a1, a2, a3, a4]\n",
    "    legs = [\"Italy\", \"C. Europe\", \"Iberia\", \"Levant\" ]\n",
    "\n",
    "    leg2 = ax.legend(plots, legs, fontsize=10, \n",
    "                     title = \"Other Europe\",\n",
    "                     bbox_to_anchor=(1.00, -0.03), loc=\"lower left\")\n",
    "    #[lgd.set_edgecolor('white') for lgd in leg1.legendHandles]\n",
    "    leg2.get_title().set_fontsize('10')\n",
    "    leg2.get_title().set_fontweight(\"bold\")\n",
    "    ax.add_artist(leg2)\n",
    "\n",
    "    #set_legends(ax, plots=plots, legs=legs, title=\"Phoenician-Punic\")\n",
    "    #ax.set_xticks(np.linspace(-5000,1000,7))\n",
    "    plt.show()"
   ]
  },
  {
   "cell_type": "code",
   "execution_count": 6,
   "metadata": {
    "tags": []
   },
   "outputs": [
    {
     "data": {
      "image/png": "[encoded data removed]",
      "text/plain": [
       "<Figure size 288x216 with 1 Axes>"
      ]
     },
     "metadata": {
      "needs_background": "light"
     },
     "output_type": "display_data"
    }
   ],
   "source": [
    "plot_y_div_panel()"
   ]
  },
  {
   "cell_type": "markdown",
   "metadata": {},
   "source": [
    "# Save the Y Haplogroup Diversity\n",
    "Plot over in './browse_divpca.ipynb'"
   ]
  },
  {
   "cell_type": "code",
   "execution_count": 7,
   "metadata": {},
   "outputs": [],
   "source": [
    "df_y_it.to_csv(\"./output/tables/ydiv/it.tsv\", sep=\"\\t\", index=False)\n",
    "df_y_fr.to_csv(\"./output/tables/ydiv/fr.tsv\", sep=\"\\t\", index=False)\n",
    "df_y_ib.to_csv(\"./output/tables/ydiv/ib.tsv\", sep=\"\\t\", index=False)\n",
    "df_y_lev.to_csv(\"./output/tables/ydiv/lev.tsv\", sep=\"\\t\", index=False)\n",
    "df_punic.to_csv(\"./output/tables/ydiv/pun.tsv\", sep=\"\\t\", index=False)"
   ]
  },
  {
   "cell_type": "markdown",
   "metadata": {},
   "source": [
    "# 1b) Make Map of Punic Y Haplogroup Diversity \n",
    "Preperation work: Load all Punic Y Haplogroups"
   ]
  },
  {
   "cell_type": "markdown",
   "metadata": {},
   "source": [
    "## Maunally overwrite some automatic haplogroup calls"
   ]
  },
  {
   "cell_type": "markdown",
   "metadata": {},
   "source": [
    "## Plot Y Diversity\n",
    "### Prepare the Y Haplogroup Counts"
   ]
  },
  {
   "cell_type": "code",
   "execution_count": 31,
   "metadata": {
    "tags": []
   },
   "outputs": [
    {
     "data": {
      "text/plain": [
       "Carthage      10\n",
       "Kerkouene      8\n",
       "Akhziv         6\n",
       "Tharros        6\n",
       "Selinunte      6\n",
       "Lilybaeum      5\n",
       "Birgi          4\n",
       "Motya          4\n",
       "Villaricos     4\n",
       "Villamar       2\n",
       "Malaga         1\n",
       "MonteSirai     1\n",
       "Eivissa        1\n",
       "Name: location, dtype: int64"
      ]
     },
     "execution_count": 31,
     "metadata": {},
     "output_type": "execute_result"
    }
   ],
   "source": [
    "df_punic[\"location\"].value_counts()"
   ]
  },
  {
   "cell_type": "code",
   "execution_count": 16,
   "metadata": {
    "tags": []
   },
   "outputs": [],
   "source": [
    "set_age_ydiv_df(df_punic, site=\"I22114\", age=\"I1\", site_col=\"iid\", age_col=\"Y_haplo\")\n",
    "set_age_ydiv_df(df_punic, site=\"I21197\", age=\"L\", site_col=\"iid\", age_col=\"Y_haplo\")\n",
    "set_age_ydiv_df(df_punic, site=\"I18189\", age=\"E1a1\", site_col=\"iid\", age_col=\"Y_haplo\")\n",
    "set_age_ydiv_df(df_punic, site=\"I11805\", age=\"G2a1a1\", site_col=\"iid\", age_col=\"Y_haplo\")\n",
    "set_age_ydiv_df(df_punic, site=\"I21856\", age=\"J1a2b~\", site_col=\"iid\", age_col=\"Y_haplo\")"
   ]
  },
  {
   "cell_type": "code",
   "execution_count": 74,
   "metadata": {
    "tags": []
   },
   "outputs": [],
   "source": [
    "df_punic[\"Y_h\"]= df_punic[\"Y_haplo\"].str[:4]\n",
    "counts = df_punic[\"Y_h\"].value_counts().reset_index()\n",
    "counts = counts.sort_values(\"index\")\n",
    "\n",
    "df_c = pd.DataFrame([[\"C1a2\",\"#577590\"], [\"E1a1\",\"#ffee32\"], [\"E1b1\",\"#ffd100\"], \n",
    "                     [\"G2a1\",\"#9b5de5\"], [\"G2a2\",\"#f15bb5\"], [\"I1\",\"#a4ac86\"], [\"I2a1\",\"#656d4a\"], \n",
    "                     [\"J1a2\",\"#0e6ba8\"], [\"J2a1\", \"blue\"], [\"J2a2\",\"aqua\"], [\"J2b2\",\"#a6e1fa\"],[\"L\",\"#ff9505\"], \n",
    "                     [\"R1a1\",\"gray\"], [\"R1b1\",\"#595959\"], [\"T1a1\",\"#29bf12\"], [\"T1a2\",\"#abff4f\"]])\n",
    "df_c.columns = [\"index\", \"c\"]\n",
    "\n",
    "counts = pd.merge(counts, df_c, on=\"index\", how=\"left\")\n",
    "counts[\"cs\"] = np.concatenate(([0], np.cumsum(counts[\"Y_h\"])[:-1]))\n",
    "counts[\"means\"] = counts[\"cs\"] + counts[\"Y_h\"]/2\n",
    "counts[\"labels\"] = counts[\"index\"].str[:] + \" (\" + counts[\"Y_h\"].astype(\"str\").str[:] + \")\"\n",
    "\n",
    "df_pt = pd.merge(df_punic, counts[[\"index\", \"c\", \"means\"]], how=\"left\", left_on=\"Y_h\", right_on=\"index\") # prepare the indivdiual summary"
   ]
  },
  {
   "cell_type": "code",
   "execution_count": null,
   "metadata": {
    "tags": []
   },
   "outputs": [],
   "source": [
    "df_punic[\"Y_haplo\"].str[:4]"
   ]
  },
  {
   "cell_type": "markdown",
   "metadata": {},
   "source": [
    "### Overall Pie chart"
   ]
  },
  {
   "cell_type": "code",
   "execution_count": 20,
   "metadata": {
    "tags": []
   },
   "outputs": [
    {
     "data": {
      "image/png": "[encoded data removed]",
      "text/plain": [
       "<Figure size 432x432 with 1 Axes>"
      ]
     },
     "metadata": {},
     "output_type": "display_data"
    }
   ],
   "source": [
    "plt.figure(figsize=(6,6))\n",
    "ax = plt.gca()\n",
    "ax.pie(counts[\"Y_haplo\"], \n",
    "       labels=counts[\"labels\"], \n",
    "       autopct='%1.1f%%', colors=counts[\"c\"], pctdistance=0.9)\n",
    "ax.set_title(\"Y Haplogroup Diversity all Punic\")\n",
    "plt.show()"
   ]
  },
  {
   "cell_type": "markdown",
   "metadata": {},
   "source": [
    "## Make Plot per Site"
   ]
  },
  {
   "cell_type": "code",
   "execution_count": 81,
   "metadata": {
    "tags": []
   },
   "outputs": [],
   "source": [
    "def plot_label_bar(ax, counts, xlim=[-0.51,0.51]):\n",
    "    \"\"\"Plot the Label Bar\"\"\"\n",
    "    for _, row in counts.iterrows():\n",
    "        ax.bar(0, row[\"Y_h\"], 1,  bottom=row[\"cs\"], color=row[\"c\"], edgecolor=\"k\")\n",
    "\n",
    "    ax.set_xlim(xlim)\n",
    "    ylim=[0,np.sum(counts[\"Y_h\"])] # The Y Limit\n",
    "    ax.set_ylim(ylim)\n",
    "    ax.axes.get_xaxis().set_visible(False) # Turn off x axis\n",
    "    #ax.axes.grid(b=None)\n",
    "\n",
    "    ax_r = ax.twinx()\n",
    "    ax_r.set_yticks([0, 0.2, 0.4, 0.6, 0.8, 1])\n",
    "    ax_r.set_yticklabels([0, 0.2, 0.4, 0.6, 0.8, 1.0], rotation=0, fontsize=lfs)\n",
    "\n",
    "    ax.set_yticks(counts[\"means\"] )\n",
    "    ax.set_yticklabels(counts[\"labels\"] , rotation=0, fontsize=10)\n",
    "    for ytick, c in zip(ax.get_yticklabels(), counts[\"c\"]):\n",
    "        ytick.set_color(c)\n",
    "\n",
    "    ttl = ax.set_title(\"Y Haplogroup \\nFrequency\", fontsize=fst)\n",
    "    ttl.set_position([.0, 1.01])"
   ]
  },
  {
   "cell_type": "code",
   "execution_count": 71,
   "metadata": {
    "tags": []
   },
   "outputs": [
    {
     "data": {
      "text/html": [
       "<div>\n",
       "<style scoped>\n",
       "    .dataframe tbody tr th:only-of-type {\n",
       "        vertical-align: middle;\n",
       "    }\n",
       "\n",
       "    .dataframe tbody tr th {\n",
       "        vertical-align: top;\n",
       "    }\n",
       "\n",
       "    .dataframe thead th {\n",
       "        text-align: right;\n",
       "    }\n",
       "</style>\n",
       "<table border=\"1\" class=\"dataframe\">\n",
       "  <thead>\n",
       "    <tr style=\"text-align: right;\">\n",
       "      <th></th>\n",
       "      <th>index</th>\n",
       "      <th>Y_h</th>\n",
       "      <th>c</th>\n",
       "      <th>cs</th>\n",
       "      <th>means</th>\n",
       "      <th>labels</th>\n",
       "    </tr>\n",
       "  </thead>\n",
       "  <tbody>\n",
       "    <tr>\n",
       "      <th>0</th>\n",
       "      <td>C1a2</td>\n",
       "      <td>1</td>\n",
       "      <td>#577590</td>\n",
       "      <td>0</td>\n",
       "      <td>0.5</td>\n",
       "      <td>C1a2 (1)</td>\n",
       "    </tr>\n",
       "    <tr>\n",
       "      <th>1</th>\n",
       "      <td>E1a1</td>\n",
       "      <td>2</td>\n",
       "      <td>#ffee32</td>\n",
       "      <td>1</td>\n",
       "      <td>2.0</td>\n",
       "      <td>E1a1 (2)</td>\n",
       "    </tr>\n",
       "    <tr>\n",
       "      <th>2</th>\n",
       "      <td>E1b1</td>\n",
       "      <td>14</td>\n",
       "      <td>#ffd100</td>\n",
       "      <td>3</td>\n",
       "      <td>10.0</td>\n",
       "      <td>E1b1 (14)</td>\n",
       "    </tr>\n",
       "    <tr>\n",
       "      <th>3</th>\n",
       "      <td>G2a1</td>\n",
       "      <td>1</td>\n",
       "      <td>#9b5de5</td>\n",
       "      <td>17</td>\n",
       "      <td>17.5</td>\n",
       "      <td>G2a1 (1)</td>\n",
       "    </tr>\n",
       "    <tr>\n",
       "      <th>4</th>\n",
       "      <td>G2a2</td>\n",
       "      <td>6</td>\n",
       "      <td>#f15bb5</td>\n",
       "      <td>18</td>\n",
       "      <td>21.0</td>\n",
       "      <td>G2a2 (6)</td>\n",
       "    </tr>\n",
       "    <tr>\n",
       "      <th>5</th>\n",
       "      <td>I1</td>\n",
       "      <td>1</td>\n",
       "      <td>#a4ac86</td>\n",
       "      <td>24</td>\n",
       "      <td>24.5</td>\n",
       "      <td>I1 (1)</td>\n",
       "    </tr>\n",
       "    <tr>\n",
       "      <th>6</th>\n",
       "      <td>I2a1</td>\n",
       "      <td>2</td>\n",
       "      <td>#656d4a</td>\n",
       "      <td>25</td>\n",
       "      <td>26.0</td>\n",
       "      <td>I2a1 (2)</td>\n",
       "    </tr>\n",
       "    <tr>\n",
       "      <th>7</th>\n",
       "      <td>J1a2</td>\n",
       "      <td>5</td>\n",
       "      <td>#0e6ba8</td>\n",
       "      <td>27</td>\n",
       "      <td>29.5</td>\n",
       "      <td>J1a2 (5)</td>\n",
       "    </tr>\n",
       "    <tr>\n",
       "      <th>8</th>\n",
       "      <td>J2a1</td>\n",
       "      <td>7</td>\n",
       "      <td>blue</td>\n",
       "      <td>32</td>\n",
       "      <td>35.5</td>\n",
       "      <td>J2a1 (7)</td>\n",
       "    </tr>\n",
       "    <tr>\n",
       "      <th>9</th>\n",
       "      <td>J2a2</td>\n",
       "      <td>1</td>\n",
       "      <td>aqua</td>\n",
       "      <td>39</td>\n",
       "      <td>39.5</td>\n",
       "      <td>J2a2 (1)</td>\n",
       "    </tr>\n",
       "    <tr>\n",
       "      <th>10</th>\n",
       "      <td>J2b2</td>\n",
       "      <td>3</td>\n",
       "      <td>#a6e1fa</td>\n",
       "      <td>40</td>\n",
       "      <td>41.5</td>\n",
       "      <td>J2b2 (3)</td>\n",
       "    </tr>\n",
       "    <tr>\n",
       "      <th>11</th>\n",
       "      <td>L</td>\n",
       "      <td>1</td>\n",
       "      <td>#ff9505</td>\n",
       "      <td>43</td>\n",
       "      <td>43.5</td>\n",
       "      <td>L (1)</td>\n",
       "    </tr>\n",
       "    <tr>\n",
       "      <th>12</th>\n",
       "      <td>R1a1</td>\n",
       "      <td>1</td>\n",
       "      <td>gray</td>\n",
       "      <td>44</td>\n",
       "      <td>44.5</td>\n",
       "      <td>R1a1 (1)</td>\n",
       "    </tr>\n",
       "    <tr>\n",
       "      <th>13</th>\n",
       "      <td>R1b1</td>\n",
       "      <td>10</td>\n",
       "      <td>#595959</td>\n",
       "      <td>45</td>\n",
       "      <td>50.0</td>\n",
       "      <td>R1b1 (10)</td>\n",
       "    </tr>\n",
       "    <tr>\n",
       "      <th>14</th>\n",
       "      <td>T1a1</td>\n",
       "      <td>2</td>\n",
       "      <td>#29bf12</td>\n",
       "      <td>55</td>\n",
       "      <td>56.0</td>\n",
       "      <td>T1a1 (2)</td>\n",
       "    </tr>\n",
       "    <tr>\n",
       "      <th>15</th>\n",
       "      <td>T1a2</td>\n",
       "      <td>1</td>\n",
       "      <td>#abff4f</td>\n",
       "      <td>57</td>\n",
       "      <td>57.5</td>\n",
       "      <td>T1a2 (1)</td>\n",
       "    </tr>\n",
       "  </tbody>\n",
       "</table>\n",
       "</div>"
      ],
      "text/plain": [
       "   index  Y_h        c  cs  means     labels\n",
       "0   C1a2    1  #577590   0    0.5   C1a2 (1)\n",
       "1   E1a1    2  #ffee32   1    2.0   E1a1 (2)\n",
       "2   E1b1   14  #ffd100   3   10.0  E1b1 (14)\n",
       "3   G2a1    1  #9b5de5  17   17.5   G2a1 (1)\n",
       "4   G2a2    6  #f15bb5  18   21.0   G2a2 (6)\n",
       "5     I1    1  #a4ac86  24   24.5     I1 (1)\n",
       "6   I2a1    2  #656d4a  25   26.0   I2a1 (2)\n",
       "7   J1a2    5  #0e6ba8  27   29.5   J1a2 (5)\n",
       "8   J2a1    7     blue  32   35.5   J2a1 (7)\n",
       "9   J2a2    1     aqua  39   39.5   J2a2 (1)\n",
       "10  J2b2    3  #a6e1fa  40   41.5   J2b2 (3)\n",
       "11     L    1  #ff9505  43   43.5      L (1)\n",
       "12  R1a1    1     gray  44   44.5   R1a1 (1)\n",
       "13  R1b1   10  #595959  45   50.0  R1b1 (10)\n",
       "14  T1a1    2  #29bf12  55   56.0   T1a1 (2)\n",
       "15  T1a2    1  #abff4f  57   57.5   T1a2 (1)"
      ]
     },
     "execution_count": 71,
     "metadata": {},
     "output_type": "execute_result"
    }
   ],
   "source": [
    "counts"
   ]
  },
  {
   "cell_type": "code",
   "execution_count": 102,
   "metadata": {
    "tags": []
   },
   "outputs": [
    {
     "data": {
      "text/plain": [
       "array([10,  8,  6,  1,  2,  1,  1,  4,  6,  5,  6,  4,  4])"
      ]
     },
     "execution_count": 102,
     "metadata": {},
     "output_type": "execute_result"
    }
   ],
   "source": [
    "\n",
    "w"
   ]
  },
  {
   "cell_type": "code",
   "execution_count": 105,
   "metadata": {
    "tags": []
   },
   "outputs": [
    {
     "data": {
      "image/png": "[encoded data removed]",
      "text/plain": [
       "<Figure size 576x504 with 15 Axes>"
      ]
     },
     "metadata": {},
     "output_type": "display_data"
    }
   ],
   "source": [
    "figsize = (8,7)\n",
    "lfs = 12 # Label Fontsize\n",
    "fst = 12 # Fontsize Axis label\n",
    "ec = \"k\"\n",
    "\n",
    "sites = [\"Carthage\", \"Kerkouene\",  \"Tharros\", \"MonteSirai\",  \n",
    "         \"Villamar\", \"Eivissa\", \"Malaga\", \"Villaricos\", \"Selinunte\", \n",
    "         \"Lilybaeum\", \"Birgi\", \"Motya\", \"Akhziv\"]\n",
    "w= df_pt[\"location\"].value_counts()[sites].values\n",
    "\n",
    "####################\n",
    "### Do the actual figure\n",
    "\n",
    "fig = plt.figure(figsize=figsize) \n",
    "gs = gridspec.GridSpec(1, 2, width_ratios=[0.3, 8], wspace=0.18)\n",
    "\n",
    "# Do the left bar\n",
    "ax = plt.subplot(gs[0]) \n",
    "plot_label_bar(ax, counts) \n",
    "\n",
    "# Plot IIDs per Site\n",
    "gs1 = gridspec.GridSpecFromSubplotSpec(1, len(sites), width_ratios=np.sqrt(w), \n",
    "                                       subplot_spec = gs[1], wspace=0.01) # width_ratios=[1,1,10]\n",
    "ylim=[0,np.sum(counts[\"Y_h\"])]\n",
    "\n",
    "for i, s in enumerate(sites):\n",
    "    ax = plt.subplot(gs1[i])\n",
    "    ax.set_title(f\"{s} ({w[i]})\", rotation=300)\n",
    "    ax.set_xticks([])\n",
    "    ax.set_yticks([])\n",
    "    \n",
    "    dft = df_pt[df_pt[\"location\"]==s]\n",
    "    ax.scatter(np.random.random(len(dft)), dft[\"means\"]+np.random.random(len(dft))-0.5, \n",
    "               ec=ec, c = dft[\"c\"])\n",
    "    ax.set_ylim(ylim)\n",
    "    ax.set_xlim([-1,2])\n",
    "     \n",
    "plt.show()"
   ]
  },
  {
   "cell_type": "code",
   "execution_count": 87,
   "metadata": {
    "tags": []
   },
   "outputs": [
    {
     "data": {
      "text/html": [
       "<div>\n",
       "<style scoped>\n",
       "    .dataframe tbody tr th:only-of-type {\n",
       "        vertical-align: middle;\n",
       "    }\n",
       "\n",
       "    .dataframe tbody tr th {\n",
       "        vertical-align: top;\n",
       "    }\n",
       "\n",
       "    .dataframe thead th {\n",
       "        text-align: right;\n",
       "    }\n",
       "</style>\n",
       "<table border=\"1\" class=\"dataframe\">\n",
       "  <thead>\n",
       "    <tr style=\"text-align: right;\">\n",
       "      <th></th>\n",
       "      <th>iid</th>\n",
       "      <th>Master ID</th>\n",
       "      <th>loc</th>\n",
       "      <th>lat</th>\n",
       "      <th>lon</th>\n",
       "      <th>age</th>\n",
       "      <th>region</th>\n",
       "      <th>study</th>\n",
       "      <th>clst</th>\n",
       "      <th>mean_cov</th>\n",
       "      <th>...</th>\n",
       "      <th>clst_qpadm</th>\n",
       "      <th>cluster_geo</th>\n",
       "      <th>published</th>\n",
       "      <th>date range</th>\n",
       "      <th>direct date</th>\n",
       "      <th>SNPs</th>\n",
       "      <th>Y_h</th>\n",
       "      <th>index</th>\n",
       "      <th>c</th>\n",
       "      <th>means</th>\n",
       "    </tr>\n",
       "  </thead>\n",
       "  <tbody>\n",
       "    <tr>\n",
       "      <th>9</th>\n",
       "      <td>I12844</td>\n",
       "      <td>I12844</td>\n",
       "      <td>Sicily, Motya</td>\n",
       "      <td>37.5353</td>\n",
       "      <td>12.2637</td>\n",
       "      <td>2086.0</td>\n",
       "      <td>Italy</td>\n",
       "      <td>Unpublished (Harald Ilan Punic)</td>\n",
       "      <td>Italy_Sicily_Punic_Roman</td>\n",
       "      <td>0.716190</td>\n",
       "      <td>...</td>\n",
       "      <td>PuncicMotya</td>\n",
       "      <td>Sicily</td>\n",
       "      <td>NaN</td>\n",
       "      <td>334-54 calBCE (2122Â±16 BP) [R_combine: (2130Â...</td>\n",
       "      <td>y</td>\n",
       "      <td>859428</td>\n",
       "      <td>R1a1</td>\n",
       "      <td>R1a1</td>\n",
       "      <td>gray</td>\n",
       "      <td>44.5</td>\n",
       "    </tr>\n",
       "    <tr>\n",
       "      <th>10</th>\n",
       "      <td>I4798</td>\n",
       "      <td>I4798</td>\n",
       "      <td>Sicily, Motya</td>\n",
       "      <td>37.5353</td>\n",
       "      <td>12.2637</td>\n",
       "      <td>2442.0</td>\n",
       "      <td>Italy</td>\n",
       "      <td>Unpublished (Harald Ilan Punic)</td>\n",
       "      <td>Italy_Sicily_Punic_Early</td>\n",
       "      <td>0.693153</td>\n",
       "      <td>...</td>\n",
       "      <td>PunicCentralMedEarly</td>\n",
       "      <td>Sicily</td>\n",
       "      <td>NaN</td>\n",
       "      <td>723-404 calBCE (2415Â±20 BP, PSUAMS-5506)</td>\n",
       "      <td>y</td>\n",
       "      <td>831784</td>\n",
       "      <td>J2b2</td>\n",
       "      <td>J2b2</td>\n",
       "      <td>#a6e1fa</td>\n",
       "      <td>41.5</td>\n",
       "    </tr>\n",
       "    <tr>\n",
       "      <th>38</th>\n",
       "      <td>I22232</td>\n",
       "      <td>I22232</td>\n",
       "      <td>Sicily, Motya</td>\n",
       "      <td>37.5353</td>\n",
       "      <td>12.2637</td>\n",
       "      <td>2403.0</td>\n",
       "      <td>Italy</td>\n",
       "      <td>Unpublished (Harald Ilan Punic)</td>\n",
       "      <td>Italy_Sicily_Punic_Early</td>\n",
       "      <td>0.423758</td>\n",
       "      <td>...</td>\n",
       "      <td>PunicCentralMedEarly_OAfrica</td>\n",
       "      <td>Sicily</td>\n",
       "      <td>NaN</td>\n",
       "      <td>545-360 calBCE</td>\n",
       "      <td>y</td>\n",
       "      <td>508509</td>\n",
       "      <td>J2a1</td>\n",
       "      <td>J2a1</td>\n",
       "      <td>blue</td>\n",
       "      <td>35.5</td>\n",
       "    </tr>\n",
       "    <tr>\n",
       "      <th>45</th>\n",
       "      <td>I7762</td>\n",
       "      <td>I7762</td>\n",
       "      <td>Sicily, Motya</td>\n",
       "      <td>37.5353</td>\n",
       "      <td>12.2637</td>\n",
       "      <td>2576.0</td>\n",
       "      <td>Italy</td>\n",
       "      <td>Unpublished (Harald Ilan Punic)</td>\n",
       "      <td>Italy_Sicily_Punic_Early</td>\n",
       "      <td>0.297208</td>\n",
       "      <td>...</td>\n",
       "      <td>PunicCentralMedEarly_OEurope</td>\n",
       "      <td>Sicily</td>\n",
       "      <td>NaN</td>\n",
       "      <td>757-423 calBCE (2465Â±20 BP, PSUAMS-9196)</td>\n",
       "      <td>y</td>\n",
       "      <td>356650</td>\n",
       "      <td>R1b1</td>\n",
       "      <td>R1b1</td>\n",
       "      <td>#595959</td>\n",
       "      <td>50.0</td>\n",
       "    </tr>\n",
       "  </tbody>\n",
       "</table>\n",
       "<p>4 rows × 31 columns</p>\n",
       "</div>"
      ],
      "text/plain": [
       "       iid Master ID            loc      lat      lon     age region  \\\n",
       "9   I12844    I12844  Sicily, Motya  37.5353  12.2637  2086.0  Italy   \n",
       "10   I4798     I4798  Sicily, Motya  37.5353  12.2637  2442.0  Italy   \n",
       "38  I22232    I22232  Sicily, Motya  37.5353  12.2637  2403.0  Italy   \n",
       "45   I7762     I7762  Sicily, Motya  37.5353  12.2637  2576.0  Italy   \n",
       "\n",
       "                              study                      clst  mean_cov  ...  \\\n",
       "9   Unpublished (Harald Ilan Punic)  Italy_Sicily_Punic_Roman  0.716190  ...   \n",
       "10  Unpublished (Harald Ilan Punic)  Italy_Sicily_Punic_Early  0.693153  ...   \n",
       "38  Unpublished (Harald Ilan Punic)  Italy_Sicily_Punic_Early  0.423758  ...   \n",
       "45  Unpublished (Harald Ilan Punic)  Italy_Sicily_Punic_Early  0.297208  ...   \n",
       "\n",
       "                      clst_qpadm cluster_geo  published  \\\n",
       "9                    PuncicMotya      Sicily        NaN   \n",
       "10          PunicCentralMedEarly      Sicily        NaN   \n",
       "38  PunicCentralMedEarly_OAfrica      Sicily        NaN   \n",
       "45  PunicCentralMedEarly_OEurope      Sicily        NaN   \n",
       "\n",
       "                                           date range direct date    SNPs  \\\n",
       "9   334-54 calBCE (2122Â±16 BP) [R_combine: (2130Â...           y  859428   \n",
       "10          723-404 calBCE (2415Â±20 BP, PSUAMS-5506)           y  831784   \n",
       "38                                     545-360 calBCE           y  508509   \n",
       "45          757-423 calBCE (2465Â±20 BP, PSUAMS-9196)           y  356650   \n",
       "\n",
       "     Y_h  index        c means  \n",
       "9   R1a1   R1a1     gray  44.5  \n",
       "10  J2b2   J2b2  #a6e1fa  41.5  \n",
       "38  J2a1   J2a1     blue  35.5  \n",
       "45  R1b1   R1b1  #595959  50.0  \n",
       "\n",
       "[4 rows x 31 columns]"
      ]
     },
     "execution_count": 87,
     "metadata": {},
     "output_type": "execute_result"
    }
   ],
   "source": [
    "dft"
   ]
  },
  {
   "cell_type": "markdown",
   "metadata": {},
   "source": [
    "# Area 51"
   ]
  },
  {
   "cell_type": "code",
   "execution_count": null,
   "metadata": {},
   "outputs": [],
   "source": [
    "\n",
    "\n",
    "### Original Function to do the Plot\n",
    "\n",
    "def plot_y_chromosome(save_path = \"\"):\n",
    "    \"\"\"Plot and save the Y Chromosomes.\n",
    "    Save: Whether to actually save / load the plot\"\"\"\n",
    "    ### Define some parameters\n",
    "    fst = 12 # Fontsize Axis label\n",
    "    lfs = 12 # Label Fontsize\n",
    "    ms = 40  # Markersize\n",
    "    sc_y = 20\n",
    "    sc_x = 100\n",
    "    p = 2000 # BCE\n",
    "\n",
    "    fig = plt.figure(figsize=(8, 7)) \n",
    "\n",
    "    gs = gridspec.GridSpec(1, 2, width_ratios=[0.5, 8], wspace=0.18)\n",
    "    ax = plt.subplot(gs[0]) \n",
    "\n",
    "    gs1 = gridspec.GridSpecFromSubplotSpec(1, 3, width_ratios=[1,1,10], subplot_spec = gs[1], wspace=0.06)\n",
    "    ax1 = plt.subplot(gs1[2]) \n",
    "    ax3 = plt.subplot(gs1[1])\n",
    "    ax4 = plt.subplot(gs1[0])\n",
    "\n",
    "    for i in range(len(cls)): # Go over every haplogroup\n",
    "        ax.bar(0, widths[i], 1, start_bar[i], color=cls[i], edgecolor='black')\n",
    "\n",
    "    ax.set_xlim([-0.51,0.51])\n",
    "    ylim=[-0.5,nr_total+0.5] # The Y Limit\n",
    "    ax.set_ylim(ylim)\n",
    "    ax.axes.get_xaxis().set_visible(False) # Turn off x axis\n",
    "    ax.axes.grid(b=None)\n",
    "\n",
    "    ax_r = ax.twinx()\n",
    "    ax_r.set_yticks([0, 0.2, 0.4, 0.6, 0.8, 1])\n",
    "    ax_r.set_yticklabels([0, 0.2, 0.4, 0.6, 0.8, 1.0], rotation=0, fontsize=lfs)\n",
    "    ax_r.axes.grid(b=None)\n",
    "\n",
    "    ax.set_yticks(means)\n",
    "    ax.set_yticklabels(hpl, rotation=0, fontsize=10)\n",
    "    for ytick, c in zip(ax.get_yticklabels(), cls):\n",
    "        ytick.set_color(c)\n",
    "\n",
    "    ttl = ax.set_title(\"Modern \\nSardinians\", fontsize=fst)\n",
    "    ttl.set_position([.0, 1.01])\n",
    "\n",
    "    #plt.barh(pos,Happiness_Index_Female,color='pink',edgecolor='black',bottom=Happiness_Index_Male)\n",
    "\n",
    "\n",
    "    ##### Plot Chromosomes against ages\n",
    "    #ax1.axis('off') # Turn off the frame\n",
    "    ax1.get_yaxis().set_visible(False) # Turn off x axis\n",
    "    ax1.set_xlim([-1700, 4600])\n",
    "    ax1.set_xlabel(\"Age [years BCE]\", fontsize=fst)\n",
    "    ax1.xaxis.set_label_coords(0.3, -0.12)\n",
    "    \n",
    "    ax1.scatter(p_df[\"BCE\"] + scatter * sc_x, p_df[\"means\"]+scatter1 * sc_y, c=p_df[\"Color\"], \n",
    "                s=ms, edgecolors=\"black\", marker=\"o\")\n",
    "    ax1.set_ylim(ylim)\n",
    "\n",
    "    ttl1 = ax1.set_title(\"Ancient\\n Sardinians\", fontsize=fst)\n",
    "    ttl1.set_position([.5, 1.01])\n",
    "    \n",
    "    ## Plot the Delimiters for the Periods\n",
    "    \n",
    "    #per_delims = [2000, 2800, 3500, 4500, 5500]\n",
    "    #per_means = [500, 2400, 3100, 4000, 5000, 6000] # For manual plotting\n",
    "    #per_name \n",
    "    \n",
    "    for v in per_delims:\n",
    "        ax1.axvline(v-p, color=\"gray\", linewidth=0.5, zorder=0)\n",
    "        \n",
    "    boxprops = dict(boxstyle='round', alpha=0.8, facecolor=\"white\", edgecolor=\"k\")\n",
    "    for i in range(len(per_name)):\n",
    "        ax1.text(per_means[i] - p, 30, per_name[i], color = \"k\", \n",
    "                fontsize = lfs*0.7, ha='center', va=\"center\")  # bbox=boxprops\n",
    "    \n",
    "    # facecolor=per_col[i]\n",
    "    #################################################\n",
    "    ### Do the Right most 2 subplots (other ancients)\n",
    "\n",
    "    p_df_bn, p_df_bm\n",
    "\n",
    "    for ax in [ax3,ax4]:\n",
    "        #ax.set_xticks([])\n",
    "        ax.set_yticks([])\n",
    "        ax.set_ylim(ylim)\n",
    "\n",
    "    ttl3 = ax3.set_title(\"Neol.\\nBalkan\", color=\"k\", fontsize=fst)\n",
    "    ttl3.set_position([.65, 1.01])\n",
    "    \n",
    "    ax3.scatter(p_df_bn[\"BCE\"], p_df_bn[\"means\"] + sc_n1 * sc_y, c=p_df_bn[\"Color\"], \n",
    "                s=ms, edgecolors=\"black\", marker=\"o\")\n",
    "    ax3.set_xlim([3500,6400])\n",
    "    ax3.set_xticks([4000,6000])\n",
    "\n",
    "    ttl4 = ax4.set_title(\"Mesol.\\nBalkan\", color=\"k\", fontsize=fst)\n",
    "    ttl4.set_position([0.4, 1.01])\n",
    "    ax4.set_xlim([5000, 9500])\n",
    "    ax4.set_xticks([6000,9000])\n",
    "    ax4.scatter(p_df_bm[\"BCE\"], p_df_bm[\"means\"] + sc_m1 * sc_y, \n",
    "                c=p_df_bm[\"Color\"], s=ms, edgecolors=\"black\", marker=\"o\")\n",
    "\n",
    "    for ax in [ax1, ax3, ax4]:\n",
    "        ax.xaxis.set_tick_params(labelsize=lfs, rotation=55)\n",
    "        ax.axes.grid(b=None)\n",
    "        ax.invert_xaxis()\n",
    "\n",
    "    if len(save_path)>0:\n",
    "        plt.savefig(save_path, bbox_inches = 'tight', pad_inches = 0)\n",
    "        print(f\"Successfully saved to {save_path}\")\n",
    "    \n",
    "    plt.show()"
   ]
  }
 ],
 "metadata": {
  "kernelspec": {
   "display_name": "Python 3",
   "language": "python",
   "name": "python3"
  },
  "language_info": {
   "codemirror_mode": {
    "name": "ipython",
    "version": 3
   },
   "file_extension": ".py",
   "mimetype": "text/x-python",
   "name": "python",
   "nbconvert_exporter": "python",
   "pygments_lexer": "ipython3",
   "version": "3.7.4"
  }
 },
 "nbformat": 4,
 "nbformat_minor": 4
}
