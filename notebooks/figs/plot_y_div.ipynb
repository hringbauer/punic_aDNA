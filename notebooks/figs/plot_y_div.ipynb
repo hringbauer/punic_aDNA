{
 "cells": [
  {
   "cell_type": "markdown",
   "metadata": {},
   "source": [
    "# Notebook to plot Y chromosome diversity over time"
   ]
  },
  {
   "cell_type": "code",
   "execution_count": 2,
   "metadata": {},
   "outputs": [
    {
     "name": "stdout",
     "output_type": "stream",
     "text": [
      "compute-e-16-233.o2.rc.hms.harvard.edu\n",
      "HSM Computational partition detected.\n",
      "/n/groups/reich/hringbauer/git/punic_aDNA\n",
      "CPU Count: 28\n",
      "3.7.4 (default, Sep 11 2019, 11:24:51) \n",
      "[GCC 6.2.0]\n"
     ]
    }
   ],
   "source": [
    "import numpy as np\n",
    "import os  # For Saving to Folder\n",
    "import pandas as pd\n",
    "import matplotlib.pyplot as plt\n",
    "import socket\n",
    "import os as os\n",
    "import sys as sys\n",
    "import multiprocessing as mp\n",
    "import itertools as it\n",
    "from time import time\n",
    "from scipy.spatial.distance import pdist\n",
    "\n",
    "# For Arial Font\n",
    "from matplotlib import rcParams\n",
    "rcParams['font.family'] = 'sans-serif'   # Set the defaul\n",
    "rcParams['font.sans-serif'] = ['Arial']\n",
    "from matplotlib import gridspec\n",
    "#plt.style.use('ggplot') #..../whitegrid.mplstyle  # Nice Plotting Style\n",
    "\n",
    "socket_name = socket.gethostname()\n",
    "print(socket_name)\n",
    "\n",
    "if socket_name.startswith(\"compute-\"):\n",
    "    print(\"HSM Computational partition detected.\")\n",
    "    path = \"/n/groups/reich/hringbauer/git/punic_aDNA/\"  # The Path on Midway Cluster\n",
    "else:\n",
    "    raise RuntimeWarning(\"Not compatible machine. Check!!\")\n",
    "\n",
    "os.chdir(path)  # Set the right Path (in line with Atom default)\n",
    "# Show the current working directory. Should be HAPSBURG/Notebooks/ParallelRuns\n",
    "print(os.getcwd())\n",
    "print(f\"CPU Count: {mp.cpu_count()}\")\n",
    "print(sys.version)\n",
    "\n",
    "from python.plot_pca import *  # Import functions needed for the PCA plotting\n",
    "from hapsburg.PackagesSupport.sqrt_scale import SquareRootScale"
   ]
  },
  {
   "cell_type": "markdown",
   "metadata": {},
   "source": [
    "### Helper Functions"
   ]
  },
  {
   "cell_type": "code",
   "execution_count": 4,
   "metadata": {
    "tags": []
   },
   "outputs": [],
   "source": [
    "def filter_df_age(df, age_delta = 300, output=False):\n",
    "    \"\"\"Takes Dataframe df as Input, and filters to samples within age_delta of median age.\n",
    "    Return filtered Dataframe and medium Age\"\"\"\n",
    "    age_med = np.median(df[\"age\"])\n",
    "    idx = (df[\"age\"]< age_med + age_delta) & (df[\"age\"] > age_med - age_delta)\n",
    "    df = df[idx].copy().reset_index(drop=False)\n",
    "    if output:\n",
    "        print(f\"{np.sum(idx)}/{len(idx)} IIDs within {age_delta} y of median age {age_med}\")\n",
    "    return df, age_med\n",
    "\n",
    "def get_y_counts(df, digits=3, col=\"Y_haplo\"):\n",
    "    \"\"\"Get Y Chromosome counts from Dataframe df\"\"\"\n",
    "    ys = df[col].str[:3]\n",
    "    cts = ys.value_counts().values\n",
    "    return cts\n",
    "\n",
    "def simpson_di(x):\n",
    "    \"\"\" Given a count vector, returns the Simpson Diversity Index\n",
    "    \"\"\"\n",
    "    n = np.sum(x) # Sample Size\n",
    "    h = np.sum(x*(x-1)) / (n*(n-1)) # Fraction of pairs are identiclal\n",
    "    s = 1 - h \n",
    "    return 1-h\n",
    "\n",
    "def create_ydiv_df(df, sites=[], col_loc=\"loc\",\n",
    "                   age_delta = 300, digits=3, min_m=5):\n",
    "    \"\"\"Take Meta Data as input, and for each site calculate\n",
    "    the Simpson Index of Y chromosomes\"\"\"\n",
    "    data = []\n",
    "    \n",
    "    for s in sites:\n",
    "        df_t = df[df[col_loc]==s]\n",
    "        df_t, age = filter_df_age(df_t, age_delta=age_delta)\n",
    "        m = len(df_t)\n",
    "        \n",
    "        if m >= min_m: # Only run full analysis if enough males\n",
    "            y = get_y_counts(df_t)\n",
    "            D = simpson_di(y)\n",
    "\n",
    "            data.append([s, age, m, D])\n",
    "          \n",
    "        else:\n",
    "            continue\n",
    "\n",
    "    df = pd.DataFrame(data)\n",
    "    df.columns = [\"loc\", \"age\", \"males\", \"D\"]\n",
    "    return df\n",
    "\n",
    "def get_sub_df_region(df, region=\"\", rec_col=\"region\", loc_col=\"loc\", min_n=5):\n",
    "    \"\"\"Get a Dataframe of Y haplogroup diversities per sites\"\"\"\n",
    "    df_ib = df[df[rec_col].isin(region)]\n",
    "    cts = df_ib[loc_col].value_counts()\n",
    "    sites = cts[cts>=min_n].index.values\n",
    "    df_y_it = create_ydiv_df(df, sites=sites)\n",
    "    return df_y_it\n",
    "\n",
    "def set_age_ydiv_df(df, site=\"\", age=0,\n",
    "                    site_col=\"loc\", age_col=\"age\"):\n",
    "    \"\"\"Set the Age of a Y Diversity Cluster\"\"\"\n",
    "    idx = df[site_col]==site\n",
    "    df.loc[idx, age_col]= age\n",
    "\n",
    "def set_legends(ax, plots=[], legs=[], title=\"\", loc=\"lower right\"):\n",
    "    \"\"\"Set Legends in Panel Plots\"\"\"\n",
    "    l1 = ax.legend(plots, legs, fontsize=11, loc=loc,\n",
    "             title=title)\n",
    "    \n",
    "    l1.get_title().set_fontsize('13')\n",
    "    l1.get_title().set_fontweight(\"bold\")\n",
    "    [lgd.set_color('white') for lgd in l1.legendHandles]\n",
    "    [lgd.set_edgecolor('k') for lgd in l1.legendHandles]"
   ]
  },
  {
   "cell_type": "markdown",
   "metadata": {},
   "source": [
    "### Load Meta and Y haplogroup Data"
   ]
  },
  {
   "cell_type": "code",
   "execution_count": 5,
   "metadata": {},
   "outputs": [
    {
     "name": "stdout",
     "output_type": "stream",
     "text": [
      "Filtering to 29227/35545 indiviuals with >100000 SNPs.\n",
      "Filtering to 22574/29227 inds >0 BP.\n",
      "Filtering to 22448/22574 inds <12000 BP.\n",
      "Kept 17910/22448 inds with matching lat/lon.\n",
      "Kept 17707/17910 inds with good cluster labels.\n",
      "Kept 16715/17707 unique Master IDs.\n",
      "Kept 9262/16715 Males.\n",
      "Extracted IIDs of 160 IIDs in Punic Project\n",
      "Merged to 68 Punic Males\n",
      "Filtered to 58 Punic Samples based on label\n",
      "Filtered general Y to 9194 ancient, non Punic individuals\n",
      "Filtered to 4059 published ancient males\n"
     ]
    }
   ],
   "source": [
    "df_meta = pd.read_csv(\"/n/groups/reich/hringbauer/Data/v56.3.anno.haplogroups.csv\") # Load Meta Data\n",
    "\n",
    "min_snp = 100000 # Min SNP coverage for Y Call\n",
    "age = [0,12000]\n",
    "lat = [20,90]\n",
    "lon = [-28, 180]\n",
    "flag = [\"_contam\", \"_dup\"]\n",
    "\n",
    "df_meta[\"study\"]=df_meta[\"study\"].fillna(\"missing\") # Add Nan\n",
    "idx = df_meta[\"n_cov_snp\"]>min_snp\n",
    "df=df_meta[idx].reset_index(drop=True)\n",
    "print(f\"Filtering to {np.sum(idx)}/{len(idx)} indiviuals with >{min_snp} SNPs.\")\n",
    "df[\"include\"]=df[\"include_alt\"].astype(\"int\")\n",
    "\n",
    "### Filtering based on Age\n",
    "min_age=age[0]\n",
    "idx = df[\"age\"]>min_age\n",
    "df=df[idx].reset_index(drop=True)\n",
    "print(f\"Filtering to {np.sum(idx)}/{len(idx)} inds >{min_age} BP.\")\n",
    "\n",
    "max_age = age[1]\n",
    "idx = df[\"age\"]<max_age\n",
    "df = df[idx].reset_index(drop=True)\n",
    "print(f\"Filtering to {np.sum(idx)}/{len(idx)} inds <{max_age} BP.\")\n",
    "\n",
    "### Geographic Filtering\n",
    "if (len(lat)>0) | (len(lon)>0):\n",
    "    idx_lat = (lat[0] < df[\"lat\"]) & (df[\"lat\"] < lat[1])\n",
    "    idx_lon = (lon[0] < df[\"lon\"]) & (df[\"lon\"] < lon[1])\n",
    "    idx = (idx_lat & idx_lon)\n",
    "    df=df[idx].reset_index(drop=True)\n",
    "    print(f\"Kept {np.sum(idx)}/{len(idx)} inds with matching lat/lon.\")\n",
    "\n",
    "### Flag tricky Indivdiuals\n",
    "idx = df[\"clst\"].str.contains(\"|\".join(flag))\n",
    "print(f\"Kept {np.sum(~idx)}/{len(idx)} inds with good cluster labels.\")\n",
    "df=df[~idx].reset_index(drop=True)\n",
    "df = df.sort_values(by=\"avg_cov_snp\", ascending=False)\n",
    "idx = df[\"Master ID\"].duplicated()\n",
    "print(f\"Kept {np.sum(~idx)}/{len(idx)} unique Master IDs.\")\n",
    "df=df[~idx].reset_index(drop=True)\n",
    "\n",
    "### Extract Males\n",
    "idx= df[\"sex\"]==\"M\"\n",
    "print(f\"Kept {np.sum(idx)}/{len(idx)} Males.\")\n",
    "df=df[idx].reset_index(drop=True)\n",
    "\n",
    "### Flag Punic Individuals\n",
    "df1 = pd.read_csv(\"./data/cluster_assignments_punic.v54.1i.tsv\", sep=\"\\t\")\n",
    "print(f\"Extracted IIDs of {len(df1)} IIDs in Punic Project\")\n",
    "df_punic = pd.merge(df, df1, on=\"iid\")\n",
    "print(f\"Merged to {len(df_punic)} Punic Males\")\n",
    "\n",
    "### Remove Romans\n",
    "label_inc = [\"Punic_Early\", \"Punic_Late\", \"Punic_Late2\"]\n",
    "df_punic = df_punic[df_punic[\"label\"].isin(label_inc)]\n",
    "\n",
    "#df_punic = df_punic[~df_punic[\"label\"].str.contains(\"Roman\")]\n",
    "print(f\"Filtered to {len(df_punic)} Punic Samples based on label\")\n",
    "\n",
    "### Remove Punics from generat Meta\n",
    "df = df[~df[\"iid\"].isin(df1[\"iid\"])]\n",
    "print(f\"Filtered general Y to {len(df)} ancient, non Punic individuals\")\n",
    "\n",
    "### Go to published indivduals only\n",
    "df =df[~df[\"study\"].str.contains(\"Unpublished\")]\n",
    "print(f\"Filtered to {len(df)} published ancient males\")"
   ]
  },
  {
   "cell_type": "markdown",
   "metadata": {},
   "source": [
    "### [Browse] See if certain Sites are covered"
   ]
  },
  {
   "cell_type": "code",
   "execution_count": 6,
   "metadata": {
    "tags": []
   },
   "outputs": [
    {
     "data": {
      "text/plain": [
       "45    E1b1b1a1b2a4b~\n",
       "48     J2a1a1b2a1c2~\n",
       "51        J1a2a1a2c1\n",
       "53      E1b1b1b2a1a~\n",
       "58      G2a2b2a1a1b2\n",
       "60     J2a1a1a2b2a1a\n",
       "62      J2b2a1a1a1b~\n",
       "66           R1b1a1b\n",
       "Name: Y_haplo, dtype: object"
      ]
     },
     "execution_count": 6,
     "metadata": {},
     "output_type": "execute_result"
    }
   ],
   "source": [
    "df_punic[df_punic[\"loc\"].str.contains(\"Tunis, Carthage\")][\"Y_haplo\"]"
   ]
  },
  {
   "cell_type": "markdown",
   "metadata": {},
   "source": [
    "# 2) Group Sites from Region"
   ]
  },
  {
   "cell_type": "code",
   "execution_count": 7,
   "metadata": {},
   "outputs": [],
   "source": [
    "df_y_it = get_sub_df_region(df, [\"Italy\"], min_n=5)\n",
    "df_y_fr = get_sub_df_region(df, [\"France\", \"Germany\", \"Austria\"], min_n=5)\n",
    "df_y_ib = get_sub_df_region(df, [\"Spain\", \"Portugal\"], min_n=5)\n",
    "df_y_lev = get_sub_df_region(df, [\"Israel\", \"Lebanon\"], min_n=5)\n",
    "\n",
    "sites=[\"Kerkouane\", \"Sardinia, Tharros\",  \"Sicily, Selinunte, Manuzza\", \"Tunis, Carthage\"]\n",
    "dfpk, dfpt, dfps, dfpc = [create_ydiv_df(df_punic, [s], min_m=5) for s in sites] \n",
    "dfpa = create_ydiv_df(df_punic, sites=[\"Akhziv\"], col_loc=\"location\", min_m=5)\n",
    "set_age_ydiv_df(dfpc, site='Tunis, Carthage', age=2300)\n",
    "set_age_ydiv_df(dfpt, site='Sardinia, Tharros', age=2400)"
   ]
  },
  {
   "cell_type": "markdown",
   "metadata": {},
   "source": [
    "## Y Div Panel Plot Function"
   ]
  },
  {
   "cell_type": "code",
   "execution_count": 29,
   "metadata": {
    "tags": []
   },
   "outputs": [],
   "source": [
    "def plot_y_div_panel(ax=0, figsize=(4,3), s=50, m=\"o\", sf=1.4, lw = 0.5, show=False, leg_p=True):\n",
    "    \"\"\"Plot Y Diversity Panel. Assumes that the dataframes are named externall!\n",
    "    If axis not given, make new plot with figsize\"\"\"\n",
    "    \n",
    "    if ax==0:\n",
    "        plt.figure(figsize=figsize)\n",
    "        ax = plt.gca()\n",
    "    \n",
    "    ### Do the Scatter Plots\n",
    "    a1 = ax.scatter(df_y_it[\"age\"]-1950, df_y_it[\"D\"], c=\"green\", ec=\"k\", s=s, marker=m, lw=lw)\n",
    "    a2 = ax.scatter(df_y_fr[\"age\"]-1950, df_y_fr[\"D\"], c=\"violet\", ec=\"k\", s=s, marker=m, lw=lw)\n",
    "    a3 = ax.scatter(df_y_ib[\"age\"]-1950, df_y_ib[\"D\"], c=\"gray\", ec=\"k\", s=s, marker=m, lw=lw)\n",
    "    a4 = ax.scatter(df_y_lev[\"age\"]-1950, df_y_lev[\"D\"], c=\"#390099\", ec=\"k\", s=s, marker=m, lw=lw)\n",
    "\n",
    "    p1 = ax.scatter(dfpk[\"age\"]-1950, dfpk[\"D\"], ec=\"k\", c=\"darkorange\", s=s*sf, marker=\"<\", lw=lw)\n",
    "    p2 = ax.scatter(dfpt[\"age\"]-1950, dfpt[\"D\"], ec=\"k\", c=\"darkorange\", s=s*sf, marker=\"v\", lw=lw)\n",
    "    p3 = ax.scatter(dfps[\"age\"]-1950, dfps[\"D\"], ec=\"k\", c=\"darkorange\", s=s*sf, marker=\"^\", lw=lw)\n",
    "    p4 = ax.scatter(dfpc[\"age\"]-1950, dfpc[\"D\"], ec=\"k\", c=\"darkorange\", s=s*sf, marker=\">\", lw=lw)\n",
    "    p5 = ax.scatter(dfpa[\"age\"]-1950, dfpa[\"D\"], c=\"orangered\", ec=\"k\", s=s*sf, marker='H', lw=lw)\n",
    "    \n",
    "    ax.set_axisbelow(True)\n",
    "    ax.grid(axis='y', color='lightgray', linestyle='dashed', linewidth=1, zorder=0)\n",
    "    ax.set_ylabel(\"Y Haplogroup Diversity per Site\")\n",
    "    ax.set_xlabel(\"Years before Present (BCE/CE)\")\n",
    "    ax.invert_xaxis()\n",
    "    \n",
    "    div_max = np.max(df_y_fr[df_y_fr[\"age\"]>2500][\"D\"])\n",
    "    ax.axhline(div_max, c=\"k\", ls=\"--\", zorder=0, lw=1)\n",
    "    \n",
    "    #### Legend Punic\n",
    "    plots = [p1, p2, p3, p4, p5]\n",
    "    legs = [\"Kerkouane\", \"Tharros\", \"Selinunte\", \"Carthage\", \"Akhziv\"]\n",
    "    \n",
    "    if leg_p:\n",
    "        leg1 = ax.legend(plots, legs, fontsize=10, \n",
    "                         title = \"Phoenician-Punic\",\n",
    "                         bbox_to_anchor=(1.00, 1.03), loc=\"upper left\")\n",
    "        #[lgd.set_edgecolor('white') for lgd in leg1.legendHandles]\n",
    "        leg1.get_title().set_fontsize('10')\n",
    "        leg1.get_title().set_fontweight(\"bold\")\n",
    "        ax.add_artist(leg1)\n",
    "\n",
    "    ### Legend Context Sites\n",
    "    plots = [a1, a2, a3, a4]\n",
    "    legs = [\"Italy\", \"C. Europe\", \"Iberia\", \"Levant\" ]\n",
    "\n",
    "    leg2 = ax.legend(plots, legs, fontsize=10, \n",
    "                     title = \"Other Europe\",\n",
    "                     bbox_to_anchor=(1.00, -0.03), loc=\"lower left\")\n",
    "    #[lgd.set_edgecolor('white') for lgd in leg1.legendHandles]\n",
    "    leg2.get_title().set_fontsize('10')\n",
    "    leg2.get_title().set_fontweight(\"bold\")\n",
    "    ax.add_artist(leg2)\n",
    "\n",
    "    #set_legends(ax, plots=plots, legs=legs, title=\"Phoenician-Punic\")\n",
    "    #ax.set_xticks(np.linspace(-5000,1000,7))\n",
    "    if show:\n",
    "        plt.show()"
   ]
  },
  {
   "cell_type": "code",
   "execution_count": 9,
   "metadata": {
    "tags": []
   },
   "outputs": [
    {
     "data": {
      "image/png": "[encoded data removed]",
      "text/plain": [
       "<Figure size 288x216 with 1 Axes>"
      ]
     },
     "metadata": {
      "needs_background": "light"
     },
     "output_type": "display_data"
    }
   ],
   "source": [
    "plot_y_div_panel(show=True)"
   ]
  },
  {
   "cell_type": "markdown",
   "metadata": {},
   "source": [
    "# [Optional] Save the Y Haplogroup Diversity\n",
    "Plot over in './browse_divpca.ipynb'"
   ]
  },
  {
   "cell_type": "code",
   "execution_count": 9,
   "metadata": {},
   "outputs": [],
   "source": [
    "df_y_it.to_csv(\"./output/tables/ydiv/it.tsv\", sep=\"\\t\", index=False)\n",
    "df_y_fr.to_csv(\"./output/tables/ydiv/fr.tsv\", sep=\"\\t\", index=False)\n",
    "df_y_ib.to_csv(\"./output/tables/ydiv/ib.tsv\", sep=\"\\t\", index=False)\n",
    "df_y_lev.to_csv(\"./output/tables/ydiv/lev.tsv\", sep=\"\\t\", index=False)\n",
    "df_punic.to_csv(\"./output/tables/ydiv/pun.tsv\", sep=\"\\t\", index=False)"
   ]
  },
  {
   "cell_type": "markdown",
   "metadata": {},
   "source": [
    "# 1b) Visualize Punic Y Haplogroup Diversity \n",
    "Preperation work: Load all Punic Y Haplogroups"
   ]
  },
  {
   "cell_type": "code",
   "execution_count": null,
   "metadata": {
    "tags": []
   },
   "outputs": [],
   "source": [
    "df_punic[\"location\"].value_counts()"
   ]
  },
  {
   "cell_type": "markdown",
   "metadata": {},
   "source": [
    "## Manually overwrite some automatic haplogroup calls\n",
    "The new calls were manually called, pulling down against ISOGG19/20"
   ]
  },
  {
   "cell_type": "code",
   "execution_count": 10,
   "metadata": {
    "tags": []
   },
   "outputs": [],
   "source": [
    "set_age_ydiv_df(df_punic, site=\"I22114\", age=\"I1\", site_col=\"iid\", age_col=\"Y_haplo\")\n",
    "set_age_ydiv_df(df_punic, site=\"I21197\", age=\"L\", site_col=\"iid\", age_col=\"Y_haplo\")\n",
    "set_age_ydiv_df(df_punic, site=\"I18189\", age=\"E1a1\", site_col=\"iid\", age_col=\"Y_haplo\")\n",
    "set_age_ydiv_df(df_punic, site=\"I11805\", age=\"G2a1a1\", site_col=\"iid\", age_col=\"Y_haplo\")\n",
    "set_age_ydiv_df(df_punic, site=\"I21856\", age=\"J1a2b~\", site_col=\"iid\", age_col=\"Y_haplo\")"
   ]
  },
  {
   "cell_type": "markdown",
   "metadata": {},
   "source": [
    "### Define colors and symbols"
   ]
  },
  {
   "cell_type": "code",
   "execution_count": 143,
   "metadata": {
    "tags": []
   },
   "outputs": [],
   "source": [
    "df_punic[\"Y_h\"]= df_punic[\"Y_haplo\"].str[:4]\n",
    "counts = df_punic[\"Y_h\"].value_counts().reset_index()\n",
    "counts = counts.sort_values(\"index\")\n",
    "\n",
    "### Merge in Colors\n",
    "df_c = pd.DataFrame([[\"C1a2\",\"#577590\"], [\"E1a1\",\"#ffee32\"], [\"E1b1\",\"#ffd100\"], \n",
    "                     [\"G2a1\",\"#9b5de5\"], [\"G2a2\",\"#f15bb5\"], [\"I1\",\"#a4ac86\"], [\"I2a1\",\"#656d4a\"], \n",
    "                     [\"J1a2\",\"#0e6ba8\"], [\"J2a1\", \"blue\"], [\"J2a2\",\"aqua\"], [\"J2b2\",\"#a6e1fa\"],[\"L\",\"#ff9505\"], \n",
    "                     [\"R1a1\",\"gray\"], [\"R1b1\",\"#595959\"], [\"T1a1\",\"#29bf12\"], [\"T1a2\",\"#abff4f\"]])\n",
    "df_c.columns = [\"index\", \"c\"]\n",
    "\n",
    "counts = pd.merge(counts, df_c, on=\"index\", how=\"left\")\n",
    "counts[\"cs\"] = np.concatenate(([0], np.cumsum(counts[\"Y_h\"])[:-1]))\n",
    "counts[\"means\"] = counts[\"cs\"] + counts[\"Y_h\"]/2\n",
    "counts[\"labels\"] = counts[\"index\"].str[:] + \" (\" + counts[\"Y_h\"].astype(\"str\").str[:] + \")\"\n",
    "\n",
    "df_pt = pd.merge(df_punic, counts[[\"index\", \"c\", \"means\"]], how=\"left\", left_on=\"Y_h\", right_on=\"index\") # prepare the indivdiual summary\n",
    "\n",
    "### Merge in Markers\n",
    "df_ms = pd.DataFrame([[\"Punic_Early\", \"o\"],[\"Punic_Late\", \"o\"],[\"Punic_Late2\", \"o\"]])\n",
    "df_ms.columns = [\"label\", \"m\"]\n",
    "df_pt = pd.merge(df_pt, df_ms, how=\"left\", on=\"label\") # prepare the indivdiual summary"
   ]
  },
  {
   "cell_type": "code",
   "execution_count": null,
   "metadata": {
    "tags": []
   },
   "outputs": [],
   "source": [
    "df_punic[\"Y_haplo\"].str[:4]"
   ]
  },
  {
   "cell_type": "markdown",
   "metadata": {},
   "source": [
    "### Overall Pie chart"
   ]
  },
  {
   "cell_type": "code",
   "execution_count": null,
   "metadata": {
    "tags": []
   },
   "outputs": [],
   "source": [
    "counts"
   ]
  },
  {
   "cell_type": "code",
   "execution_count": 148,
   "metadata": {
    "tags": []
   },
   "outputs": [
    {
     "name": "stdout",
     "output_type": "stream",
     "text": [
      "Saved to: ./figures/div/y_total.pdf\n"
     ]
    },
    {
     "data": {
      "image/png": "[encoded data removed]",
      "text/plain": [
       "<Figure size 432x576 with 1 Axes>"
      ]
     },
     "metadata": {},
     "output_type": "display_data"
    }
   ],
   "source": [
    "savepath  = \"./figures/div/y_total.pdf\" \n",
    "\n",
    "plt.figure(figsize=(6,8))\n",
    "ax = plt.gca()\n",
    "ax.pie(counts[\"Y_h\"], \n",
    "       labels=counts[\"labels\"], \n",
    "       autopct='%1.1f%%', colors=counts[\"c\"], pctdistance=0.9)\n",
    "ax.set_title(\"Y Haplogroup Diversity all Punic\")\n",
    "\n",
    "if len(savepath) > 0:\n",
    "    plt.savefig(savepath, bbox_inches = 'tight', \n",
    "                pad_inches = 0, dpi=600)\n",
    "    print(f\"Saved to: {savepath}\")\n",
    "    \n",
    "plt.show()"
   ]
  },
  {
   "cell_type": "markdown",
   "metadata": {},
   "source": [
    "## Make Plot per Site"
   ]
  },
  {
   "cell_type": "code",
   "execution_count": 11,
   "metadata": {
    "tags": []
   },
   "outputs": [],
   "source": [
    "def plot_label_bar(ax, counts, xlim=[-0.51,0.51], lfs=10):\n",
    "    \"\"\"Plot the Label Bar\"\"\"\n",
    "    for _, row in counts.iterrows():\n",
    "        ax.bar(0, row[\"Y_h\"], 1,  bottom=row[\"cs\"], color=row[\"c\"], edgecolor=\"k\")\n",
    "\n",
    "    ax.set_xlim(xlim)\n",
    "    ylim=[0,np.sum(counts[\"Y_h\"])] # The Y Limit\n",
    "    ax.set_ylim(ylim)\n",
    "    ax.axes.get_xaxis().set_visible(False) # Turn off x axis\n",
    "    #ax.axes.grid(b=None)\n",
    "\n",
    "    ax_r = ax.twinx()\n",
    "    ax_r.set_yticks([0, 0.2, 0.4, 0.6, 0.8, 1])\n",
    "    ax_r.set_yticklabels([0, 0.2, 0.4, 0.6, 0.8, 1.0], rotation=0, fontsize=lfs)\n",
    "\n",
    "    ax.set_yticks(counts[\"means\"] )\n",
    "    ax.set_yticklabels(counts[\"labels\"] , rotation=0, fontsize=10)\n",
    "    for ytick, c in zip(ax.get_yticklabels(), counts[\"c\"]):\n",
    "        ytick.set_color(c)\n",
    "\n",
    "    ttl = ax.set_title(\"Y Haplogroup \\nFrequency\", fontsize=fst)\n",
    "    ttl.set_position([.0, 1.01])\n",
    "\n",
    "def plot_site_y(df, ax, ec =\"k\", title=\"\", rot=50, \n",
    "                delta_x=0.3, hlines=[], ha=\"left\"):\n",
    "    \"\"\"Plot Y chromosome div. per site.\n",
    "    df: Y Haplo Dataframe\n",
    "    ax: Axis to plot on\"\"\"\n",
    "    ### Calc x shifts bc of counts\n",
    "    df[\"s_x\"] = 0 # Specify def value\n",
    "    vs = set(df[\"Y_h\"])\n",
    "    for v in vs:\n",
    "        idx = df[\"Y_h\"] == v\n",
    "        df.loc[idx, \"s_x\"] = (np.arange(np.sum(idx)) - (np.sum(idx)-1)/2)   * delta_x\n",
    "        #if np.sum(idx)>1:\n",
    "            #df.loc[idx, \"s_x\"] = np.arange(np.sum(idx)) / (np.sum(idx)-1) #- (np.sum(idx)-1)/2\n",
    "    \n",
    "    ax.set_title(title, rotation=rot, ha=ha)\n",
    "    ax.set_xticks([])\n",
    "    ax.set_yticks([])\n",
    "    \n",
    "    for h in hlines:\n",
    "        ax.axhline(h, c=\"gray\", ls=\"--\", lw=0.5)\n",
    "    \n",
    "    for m in set(df[\"m\"]):  # Iterate over all markers\n",
    "        dft = df[df[\"m\"]==m]\n",
    "        ax.scatter(dft[\"s_x\"], dft[\"means\"],  #+np.random.random(len(df))-0.5 \n",
    "                   ec=ec, c = dft[\"c\"], marker=m)\n",
    "    \n",
    "    ax.set_ylim(ylim)\n",
    "    ax.set_xlim([-1,1])  # Plot range is 0,1"
   ]
  },
  {
   "cell_type": "code",
   "execution_count": 144,
   "metadata": {
    "tags": []
   },
   "outputs": [
    {
     "name": "stdout",
     "output_type": "stream",
     "text": [
      "Saved to: ./figures/div/y_persite.pdf\n"
     ]
    },
    {
     "data": {
      "image/png": "[encoded data removed]",
      "text/plain": [
       "<Figure size 576x576 with 15 Axes>"
      ]
     },
     "metadata": {},
     "output_type": "display_data"
    }
   ],
   "source": [
    "savepath = \"./figures/div/y_persite.pdf\"\n",
    "figsize = (8,8)\n",
    "lfs = 10 # Label Fontsize\n",
    "fst = 12 # Fontsize Axis label\n",
    "ec = \"k\"\n",
    "delta_x=0.3\n",
    "\n",
    "sites = [\"Kerkouene\", \"Carthage\", \"Tharros\", \"MonteSirai\",  \n",
    "         \"Villamar\", \"Eivissa\", \"Malaga\", \"Villaricos\", \"Selinunte\", \n",
    "         \"Lilybaeum\", \"Birgi\", \"Motya\", \"Akhziv\"]\n",
    "w= df_pt[\"location\"].value_counts()[sites].values\n",
    "\n",
    "\n",
    "####################\n",
    "### Do the actual figure\n",
    "\n",
    "fig = plt.figure(figsize=figsize) \n",
    "gs = gridspec.GridSpec(1, 2, width_ratios=[0.3, 8], wspace=0.12)\n",
    "\n",
    "# Do the left bar\n",
    "ax = plt.subplot(gs[0]) \n",
    "plot_label_bar(ax, counts, lfs=lfs) \n",
    "\n",
    "# Plot IIDs per Site\n",
    "gs1 = gridspec.GridSpecFromSubplotSpec(1, len(sites), width_ratios=np.sqrt(w), \n",
    "                                       subplot_spec = gs[1], wspace=0.01) # width_ratios=[1,1,10]\n",
    "ylim=[0,np.sum(counts[\"Y_h\"])]\n",
    "\n",
    "for i, s in enumerate(sites):\n",
    "    dft = df_pt[df_pt[\"location\"]==s].sort_values(by=\"age\", ascending=False).copy()\n",
    "    ax = plt.subplot(gs1[i])\n",
    "    plot_site_y(dft, ax=ax, ec=ec, title= f\"{s} ({w[i]})\", \n",
    "                delta_x=delta_x, hlines=counts[\"cs\"])\n",
    "    \n",
    "if len(savepath) > 0:\n",
    "    plt.savefig(savepath, bbox_inches = 'tight', \n",
    "                pad_inches = 0, dpi=600)\n",
    "    print(f\"Saved to: {savepath}\")\n",
    "\n",
    "plt.show()"
   ]
  },
  {
   "cell_type": "code",
   "execution_count": 128,
   "metadata": {
    "tags": []
   },
   "outputs": [
    {
     "data": {
      "text/html": [
       "<div>\n",
       "<style scoped>\n",
       "    .dataframe tbody tr th:only-of-type {\n",
       "        vertical-align: middle;\n",
       "    }\n",
       "\n",
       "    .dataframe tbody tr th {\n",
       "        vertical-align: top;\n",
       "    }\n",
       "\n",
       "    .dataframe thead th {\n",
       "        text-align: right;\n",
       "    }\n",
       "</style>\n",
       "<table border=\"1\" class=\"dataframe\">\n",
       "  <thead>\n",
       "    <tr style=\"text-align: right;\">\n",
       "      <th></th>\n",
       "      <th>label</th>\n",
       "      <th>m</th>\n",
       "    </tr>\n",
       "  </thead>\n",
       "  <tbody>\n",
       "    <tr>\n",
       "      <th>0</th>\n",
       "      <td>Punic_Early</td>\n",
       "      <td>o</td>\n",
       "    </tr>\n",
       "    <tr>\n",
       "      <th>1</th>\n",
       "      <td>Punic_Late</td>\n",
       "      <td>h</td>\n",
       "    </tr>\n",
       "    <tr>\n",
       "      <th>2</th>\n",
       "      <td>Punic_Late2</td>\n",
       "      <td>X</td>\n",
       "    </tr>\n",
       "  </tbody>\n",
       "</table>\n",
       "</div>"
      ],
      "text/plain": [
       "         label  m\n",
       "0  Punic_Early  o\n",
       "1   Punic_Late  h\n",
       "2  Punic_Late2  X"
      ]
     },
     "execution_count": 128,
     "metadata": {},
     "output_type": "execute_result"
    }
   ],
   "source": []
  },
  {
   "cell_type": "code",
   "execution_count": null,
   "metadata": {
    "tags": []
   },
   "outputs": [],
   "source": [
    "df_punic[\"label\"]"
   ]
  },
  {
   "cell_type": "code",
   "execution_count": 112,
   "metadata": {
    "tags": []
   },
   "outputs": [
    {
     "data": {
      "text/plain": [
       "4     E1b1b1a1\n",
       "18    E1b1b1a1\n",
       "24    E1b1b1b2\n",
       "27    E1b1b1b2\n",
       "29    E1b1b1a1\n",
       "30    E1b1b1a1\n",
       "36    E1b1b1a1\n",
       "39    E1b1b1a1\n",
       "40    E1b1b1a1\n",
       "43    E1b1b1a1\n",
       "45    E1b1b1a1\n",
       "53    E1b1b1b2\n",
       "57    E1b1b1a1\n",
       "61    E1b1b1a1\n",
       "Name: Y_haplo, dtype: object"
      ]
     },
     "execution_count": 112,
     "metadata": {},
     "output_type": "execute_result"
    }
   ],
   "source": [
    "df_punic[df_punic[\"Y_h\"]==\"E1b1\"][\"Y_haplo\"].str[:8]\n",
    "\n",
    "#E1b1b1b2a\n",
    "# E1b1b1a1 very Greek (need to check whether \n",
    "# E1b1b1b2 more Eastern Med."
   ]
  },
  {
   "cell_type": "code",
   "execution_count": null,
   "metadata": {
    "tags": []
   },
   "outputs": [],
   "source": [
    "df_punic[df_punic[\"Y_haplo\"].str[:8]==\"E1b1b1b2\"]"
   ]
  },
  {
   "cell_type": "markdown",
   "metadata": {},
   "source": [
    "# 2) Plot PCA Diversity"
   ]
  },
  {
   "cell_type": "markdown",
   "metadata": {},
   "source": [
    "### Helper Functions"
   ]
  },
  {
   "cell_type": "code",
   "execution_count": 13,
   "metadata": {
    "tags": []
   },
   "outputs": [],
   "source": [
    "def get_pca_div_region(df, region=\"\", min_n=10, metric=\"mean_dist\", col_loc=\"loc\"):\n",
    "    \"\"\"Get a Dataframe of Y haplogroup diversities per sites\"\"\"\n",
    "    df_reg = df[df[\"region\"].isin(region)]\n",
    "    cts = df_reg[col_loc].value_counts()\n",
    "    sites = cts[cts>=min_n].index.values\n",
    "    \n",
    "    df_res = create_pca_div_df(df, sites=sites, metric=metric, col_loc=col_loc)\n",
    "    return df_res\n",
    "\n",
    "def create_pca_div_df(df, sites=[], min_n=10, col_loc=\"loc\", age_delta=300,\n",
    "                      metric=\"mean_dist\"):\n",
    "    \"\"\"Take Meta Data as input, and for each site calculate diversity metric.\n",
    "    metric: Whhich metric (var: Variance, mean_dist: mean pw. distance\n",
    "    age_delta: max temp dist from median age\"\"\"\n",
    "    data = []\n",
    "    \n",
    "    for s in sites:\n",
    "        dft = df[df[col_loc]==s] # Extract Site df \n",
    "        if len(dft)==0:\n",
    "            raise RuntimeWarning(f\"Site {s} has no matching samples\")\n",
    "        \n",
    "        dft, age = filter_df_age(dft, age_delta=age_delta) # Filter to samples within age range\n",
    "        m = len(dft) # Filtered df\n",
    "        if m >= min_n: # Calculate Variance    \n",
    "            \n",
    "            if metric==\"var\":\n",
    "                vars2 = np.var(dft[[\"pc1\", \"pc2\"]], axis=0)\n",
    "                var = np.sum(vars2)\n",
    "                      \n",
    "            elif metric==\"mean_dist\":\n",
    "                ds = pdist(dft[[\"pc1\", \"pc2\"]].values)\n",
    "                var = np.mean(ds)\n",
    "       \n",
    "            else:\n",
    "                raise RuntimeWarning(f\"Metric {metric} not found!\")\n",
    "                \n",
    "            data.append([s, age, m, var]) \n",
    "        else: \n",
    "            continue\n",
    "    \n",
    "    # Make the summary Data Frame\n",
    "    df_res = pd.DataFrame(data)\n",
    "    df_res.columns = [\"loc\", \"age\", \"n\", \"div\"]\n",
    "    return df_res"
   ]
  },
  {
   "cell_type": "code",
   "execution_count": 14,
   "metadata": {
    "tags": []
   },
   "outputs": [
    {
     "name": "stdout",
     "output_type": "stream",
     "text": [
      "Filtered to 3568 Individuals based on Min SNP: 20000\n",
      "Filtered to 3568 based on duplicates\n",
      "Filtered to 3568 based on manual removals\n",
      "Extracted IIDs of 160 IIDs in Punic Project\n",
      "Merged to 149 Punic IIDs\n",
      "Filtered to 136 Phoenician-Punic Samples\n",
      "Filtered general Meta to 2287 ancient, non Punic individuals\n",
      "Filtered to 2279 published ancient IIDs\n"
     ]
    }
   ],
   "source": [
    "min_snp = 20000\n",
    "path_pca = \"./output/pca/v54.1var/20230425.varPCA.v54.1.construct_WE_NA_PCA.smYES.outitY.evec.txt\"\n",
    "path_meta = \"/n/groups/reich/hringbauer/Data/v54.1.anno.csv\" \n",
    "\n",
    "df = pd.read_csv(path_pca, \n",
    "                 sep=r\"\\s+\", skiprows=1, header=None)\n",
    "df.columns=[\"iid\", \"pc1\", \"pc2\", \"pc3\", \"pc4\", \"pop\"]\n",
    "df_meta = pd.read_csv(path_meta, sep=\",\")\n",
    "df2 = df_meta[[\"iid\", \"Master ID\", \"loc\", \"n_cov_snp\", \n",
    "               \"mean_cov\", \"sex\", \"age\", \"contact\", \"clst\", \"region\", \"study\"]]\n",
    "df = pd.merge(df, df2, on=\"iid\", how=\"left\")\n",
    "df[\"clst\"].fillna(inplace = True, value=\"missing\") # Fill NaNs\n",
    "\n",
    "idx = (df[\"n_cov_snp\"]<min_snp)\n",
    "df = df[~idx]\n",
    "df.loc[df[\"loc\"].isnull(), \"loc\"]=\"not assigned\"\n",
    "print(f\"Filtered to {len(df)} Individuals based on Min SNP: {min_snp}\")\n",
    "\n",
    "df = df.sort_values(by=\"n_cov_snp\", ascending=False)\n",
    "dup = (df[\"Master ID\"].duplicated() & ~df[\"Master ID\"].isnull())\n",
    "df = df[~dup].copy().reset_index(drop=True)\n",
    "print(f\"Filtered to {len(df)} based on duplicates\")\n",
    "\n",
    "# Remove female Sudan Outlier\n",
    "idx = df[\"iid\"]==\"I22257\" \n",
    "df=df[~idx].copy().reset_index(drop=True)\n",
    "print(f\"Filtered to {len(df)} based on manual removals\")\n",
    "#df[df[\"pop\"].str.contains(\"Lebanon\")]\n",
    "\n",
    "### Seperate Individuals from Punic project\n",
    "df1 = pd.read_csv(\"./data/cluster_assignments_punic.v54.1i.tsv\", sep=\"\\t\")\n",
    "print(f\"Extracted IIDs of {len(df1)} IIDs in Punic Project\")\n",
    "df_p_pca = pd.merge(df, df1, on=\"iid\")\n",
    "print(f\"Merged to {len(df_p_pca)} Punic IIDs\")\n",
    "\n",
    "### Remove Romans from Punic dataset\n",
    "df_p_pca = df_p_pca[~df_p_pca[\"label\"].str.contains(\"Roman\")]\n",
    "print(f\"Filtered to {len(df_p_pca)} Phoenician-Punic Samples\")\n",
    "\n",
    "### Remove Punics from general Meta\n",
    "df = df[~df[\"iid\"].isin(df1[\"iid\"])]\n",
    "df_anc_pca = df[df[\"pop\"]==\"keep_anc\"]\n",
    "print(f\"Filtered general Meta to {len(df_anc_pca)} ancient, non Punic individuals\")\n",
    "\n",
    "### Go to published indivduals only (Sanity Check - should be already done in PCA creation)\n",
    "df_anc_pca =df_anc_pca[~df_anc_pca[\"study\"].str.contains(\"Unpublished\")]\n",
    "print(f\"Filtered to {len(df_anc_pca)} published ancient IIDs\")"
   ]
  },
  {
   "cell_type": "code",
   "execution_count": 16,
   "metadata": {
    "tags": []
   },
   "outputs": [],
   "source": [
    "min_n = 10 # In Prep the Cutoff is at 10\n",
    "df_pca_it = get_pca_div_region(df_anc_pca, [\"Italy\"], min_n=min_n)\n",
    "df_pca_fr = get_pca_div_region(df_anc_pca, [\"France\", \"Germany\", \"Austria\"], min_n=min_n)\n",
    "df_pca_ib = get_pca_div_region(df_anc_pca, [\"Spain\", \"Portugal\"], min_n=min_n)\n",
    "df_pca_lev = get_pca_div_region(df_anc_pca, [\"Israel\", \"Lebanon\"], min_n=min_n)\n",
    "\n",
    "df_pca_pun = create_pca_div_df(df_p_pca,  col_loc='location', min_n=7,\n",
    "                               sites=[\"Kerkouene\", \"Tharros\",  \"Selinunte\", \"Birgi\", \"Motya\", \"Lilybaeum\",\n",
    "                                      'Villaricos', \"Carthage\"]) #Eivissa missing bc not one site \n",
    "\n",
    "df_pca_ph = create_pca_div_df(df_p_pca,  col_loc='location', min_n=7, sites=[\"Akhziv\"])\n",
    "\n",
    "sites=[\"Kerkouene\", \"Carthage\", 'Villaricos', \"Tharros\",  \"Selinunte\", \"Birgi\", \"Motya\", \"Lilybaeum\"]\n",
    "dfpk1, dfpc1, dfpv1, dfpt1, dfps1, dfpb1, dfpm1, dfpl1 = [create_pca_div_df(df_p_pca, [s], age_delta=500,\n",
    "                                                                            min_n=7, col_loc=\"location\") for s in sites] \n",
    "df_pca_ph = create_pca_div_df(df_p_pca, sites=[\"Akhziv\"], col_loc=\"location\", min_n=7)\n",
    "set_age_ydiv_df(dfpc1, site='Carthage', age=2300)\n",
    "set_age_ydiv_df(dfpt1, site='Tharros', age=2400)"
   ]
  },
  {
   "cell_type": "code",
   "execution_count": 68,
   "metadata": {
    "tags": []
   },
   "outputs": [],
   "source": [
    "def plot_pca_div_panel(ax=0, figsize=(4,3), col_plot=\"div\", ylim=[0, 0.04],\n",
    "                       s=50, m=\"o\", sf=1.4, lw = 0.5, show=False):\n",
    "    \"\"\"Plot PCA Diversity Panel. Assumes that the data dataframes are defined externally.\n",
    "    If axis not given, make new plot with figsize.\"\"\"\n",
    "    if ax==0:\n",
    "        plt.figure(figsize=figsize)\n",
    "        ax = plt.gca()\n",
    "    \n",
    "    ### Plot the data\n",
    "    a1 = ax.scatter(df_pca_it[\"age\"]-1950, df_pca_it[col_plot], c=\"green\", ec=\"k\", s=s, marker=m, lw=lw)\n",
    "    a2 = ax.scatter(df_pca_fr[\"age\"]-1950, df_pca_fr[col_plot], c=\"violet\", ec=\"k\", s=s, marker=m, lw=lw)\n",
    "    a3 = ax.scatter(df_pca_ib[\"age\"]-1950, df_pca_ib[col_plot], c=\"gray\", ec=\"k\", s=s, marker=m, lw=lw)\n",
    "    a4 = ax.scatter(df_pca_lev[\"age\"]-1950, df_pca_lev[col_plot], c=\"#390099\", ec=\"k\", s=s, marker=m, lw=lw)\n",
    "    p1 = ax.scatter(dfpk1[\"age\"]-1950, dfpk1[col_plot], ec=\"k\", c=\"darkorange\", s=s*sf, marker=\"<\", lw=lw)\n",
    "    p2 = ax.scatter(dfpc1[\"age\"]-1950, dfpc1[col_plot], ec=\"k\", c=\"darkorange\", s=s*sf, marker=\">\", lw=lw)\n",
    "    p3 = ax.scatter(dfpv1[\"age\"]-1950, dfpv1[col_plot], ec=\"k\", c=\"darkorange\", s=s*sf, marker=\"^\", lw=lw)\n",
    "    p4 = ax.scatter(dfpt1[\"age\"]-1950, dfpt1[col_plot], ec=\"k\", c=\"darkorange\", s=s*sf, marker=\"v\", lw=lw)\n",
    "    p5 = ax.scatter(dfps1[\"age\"]-1950, dfps1[col_plot], ec=\"k\", c=\"darkorange\", s=s*sf, marker=\"o\", lw=lw)\n",
    "    p6 = ax.scatter(dfpb1[\"age\"]-1950, dfpb1[col_plot], ec=\"k\", c=\"darkorange\", s=s*sf, marker=\"X\", lw=lw)\n",
    "    p7 = ax.scatter(dfpm1[\"age\"]-1950, dfpm1[col_plot], ec=\"k\", c=\"darkorange\", s=s*sf, marker=\"h\", lw=lw)\n",
    "    p8 = ax.scatter(dfpl1[\"age\"]-1950, dfpl1[col_plot], ec=\"k\", c=\"darkorange\", s=s*sf, marker=\"*\", lw=lw)\n",
    "    p9 = ax.scatter(df_pca_ph[\"age\"]-1950, df_pca_ph[col_plot], c=\"orangered\", ec=\"k\", s=s, marker='H', lw=lw)\n",
    "\n",
    "    dfpk1, dfpc1, dfpv1, dfpt1, dfps1, dfpb1, dfpm1, dfpl1\n",
    "    \n",
    "    ### Plot the prev. maximum line\n",
    "    div_max = np.max(df_pca_fr[df_pca_fr[\"age\"]>2500][col_plot])\n",
    "    ax.axhline(div_max, c=\"k\", ls=\"--\", zorder=0, lw=1)\n",
    "    ax.text(5400, div_max*1.05, \"Max. before Phoenician/Punic\", va=\"bottom\")\n",
    "    \n",
    "    ############################################################\n",
    "    ### Formating the plot\n",
    "    ax.set_axisbelow(True)\n",
    "    ax.grid(axis='y', color='lightgray', linestyle='dashed', linewidth=1, zorder=0)\n",
    "    ax.set_ylabel(\"2D PCA Diversity per Site\")\n",
    "    ax.set_xlabel(\"Years before Present (BCE/CE)\")\n",
    "    ax.invert_xaxis()\n",
    "    \n",
    "    #### Legend Punic\n",
    "    plots = [p1, p2, p3, p4, p5, p6, p7, p8, p9]\n",
    "    legs = [\"Kerkouene\", \"Carthage\", 'Villaricos', \"Tharros\", \"Selinunte\", \"Birgi\", \"Motya\", \"Lilybaeum\", \"Akhziv\"]\n",
    "\n",
    "    leg1 = ax.legend(plots, legs, fontsize=10, \n",
    "                     title = \"Phoenician-Punic\",\n",
    "                     bbox_to_anchor=(1.00, 1.03), loc=\"upper left\")\n",
    "    #[lgd.set_edgecolor('white') for lgd in leg1.legendHandles]\n",
    "    leg1.get_title().set_fontsize('10')\n",
    "    leg1.get_title().set_fontweight(\"bold\")\n",
    "    ax.add_artist(leg1)\n",
    "\n",
    "    ### Legend Context Sites (in other plot)\n",
    "    if len(ylim)>0:\n",
    "        ax.set_ylim(ylim)\n",
    "    if show:\n",
    "        plt.show()"
   ]
  },
  {
   "cell_type": "code",
   "execution_count": 69,
   "metadata": {
    "tags": []
   },
   "outputs": [
    {
     "data": {
      "image/png": "[encoded data removed]",
      "text/plain": [
       "<Figure size 288x216 with 1 Axes>"
      ]
     },
     "metadata": {
      "needs_background": "light"
     },
     "output_type": "display_data"
    }
   ],
   "source": [
    "plot_pca_div_panel()"
   ]
  },
  {
   "cell_type": "code",
   "execution_count": 38,
   "metadata": {
    "tags": []
   },
   "outputs": [
    {
     "data": {
      "text/html": [
       "<div>\n",
       "<style scoped>\n",
       "    .dataframe tbody tr th:only-of-type {\n",
       "        vertical-align: middle;\n",
       "    }\n",
       "\n",
       "    .dataframe tbody tr th {\n",
       "        vertical-align: top;\n",
       "    }\n",
       "\n",
       "    .dataframe thead th {\n",
       "        text-align: right;\n",
       "    }\n",
       "</style>\n",
       "<table border=\"1\" class=\"dataframe\">\n",
       "  <thead>\n",
       "    <tr style=\"text-align: right;\">\n",
       "      <th></th>\n",
       "      <th>loc</th>\n",
       "      <th>age</th>\n",
       "      <th>n</th>\n",
       "      <th>div</th>\n",
       "    </tr>\n",
       "  </thead>\n",
       "  <tbody>\n",
       "    <tr>\n",
       "      <th>0</th>\n",
       "      <td>North Rhine-Westphalia, Alt-Inden</td>\n",
       "      <td>1350.0</td>\n",
       "      <td>17</td>\n",
       "      <td>0.017021</td>\n",
       "    </tr>\n",
       "    <tr>\n",
       "      <th>1</th>\n",
       "      <td>Kleinaitingen - Gewerbegebiet Nord</td>\n",
       "      <td>3748.0</td>\n",
       "      <td>17</td>\n",
       "      <td>0.007366</td>\n",
       "    </tr>\n",
       "    <tr>\n",
       "      <th>2</th>\n",
       "      <td>Bavaria, Straubing- Bajuwarenstraße</td>\n",
       "      <td>1437.5</td>\n",
       "      <td>16</td>\n",
       "      <td>0.020953</td>\n",
       "    </tr>\n",
       "    <tr>\n",
       "      <th>3</th>\n",
       "      <td>Lower Saxony, Drantum</td>\n",
       "      <td>1200.0</td>\n",
       "      <td>16</td>\n",
       "      <td>0.009429</td>\n",
       "    </tr>\n",
       "    <tr>\n",
       "      <th>4</th>\n",
       "      <td>Baden-Württemberg, Stuttgart-Mühlhausen I</td>\n",
       "      <td>7096.0</td>\n",
       "      <td>16</td>\n",
       "      <td>0.004314</td>\n",
       "    </tr>\n",
       "    <tr>\n",
       "      <th>5</th>\n",
       "      <td>Schleswig-Holstein, Schleswig</td>\n",
       "      <td>850.0</td>\n",
       "      <td>15</td>\n",
       "      <td>0.007025</td>\n",
       "    </tr>\n",
       "    <tr>\n",
       "      <th>6</th>\n",
       "      <td>Esperstedt</td>\n",
       "      <td>4225.0</td>\n",
       "      <td>15</td>\n",
       "      <td>0.014267</td>\n",
       "    </tr>\n",
       "    <tr>\n",
       "      <th>7</th>\n",
       "      <td>Southern Germany, Singen</td>\n",
       "      <td>3915.0</td>\n",
       "      <td>14</td>\n",
       "      <td>0.007338</td>\n",
       "    </tr>\n",
       "    <tr>\n",
       "      <th>8</th>\n",
       "      <td>Lower Saxony, Anderten</td>\n",
       "      <td>1150.0</td>\n",
       "      <td>13</td>\n",
       "      <td>0.007385</td>\n",
       "    </tr>\n",
       "    <tr>\n",
       "      <th>9</th>\n",
       "      <td>Mecklenburg-Vorpommern, Tollense battlefield</td>\n",
       "      <td>3200.0</td>\n",
       "      <td>12</td>\n",
       "      <td>0.013285</td>\n",
       "    </tr>\n",
       "    <tr>\n",
       "      <th>10</th>\n",
       "      <td>Marne, Chemin de Coupetz, Faux Vesigneul</td>\n",
       "      <td>2200.0</td>\n",
       "      <td>11</td>\n",
       "      <td>0.008178</td>\n",
       "    </tr>\n",
       "    <tr>\n",
       "      <th>11</th>\n",
       "      <td>France, Yonne, Gurgy \"les Noisats\" Family A (1...</td>\n",
       "      <td>6450.0</td>\n",
       "      <td>11</td>\n",
       "      <td>0.003503</td>\n",
       "    </tr>\n",
       "    <tr>\n",
       "      <th>12</th>\n",
       "      <td>Königsbrunn - Obere Kreuzstraße (Baugebiet 110)</td>\n",
       "      <td>3914.5</td>\n",
       "      <td>10</td>\n",
       "      <td>0.006810</td>\n",
       "    </tr>\n",
       "    <tr>\n",
       "      <th>13</th>\n",
       "      <td>Bavaria, Altenerding- Klettham</td>\n",
       "      <td>1455.0</td>\n",
       "      <td>10</td>\n",
       "      <td>0.017193</td>\n",
       "    </tr>\n",
       "    <tr>\n",
       "      <th>14</th>\n",
       "      <td>Calvados, Fleury-sur-Orne</td>\n",
       "      <td>6350.5</td>\n",
       "      <td>10</td>\n",
       "      <td>0.004513</td>\n",
       "    </tr>\n",
       "    <tr>\n",
       "      <th>15</th>\n",
       "      <td>Sarrebourg, Marxberg Necropolis</td>\n",
       "      <td>1671.5</td>\n",
       "      <td>10</td>\n",
       "      <td>0.022370</td>\n",
       "    </tr>\n",
       "  </tbody>\n",
       "</table>\n",
       "</div>"
      ],
      "text/plain": [
       "                                                  loc     age   n       div\n",
       "0                   North Rhine-Westphalia, Alt-Inden  1350.0  17  0.017021\n",
       "1                  Kleinaitingen - Gewerbegebiet Nord  3748.0  17  0.007366\n",
       "2                 Bavaria, Straubing- Bajuwarenstraße  1437.5  16  0.020953\n",
       "3                               Lower Saxony, Drantum  1200.0  16  0.009429\n",
       "4           Baden-Württemberg, Stuttgart-Mühlhausen I  7096.0  16  0.004314\n",
       "5                       Schleswig-Holstein, Schleswig   850.0  15  0.007025\n",
       "6                                          Esperstedt  4225.0  15  0.014267\n",
       "7                            Southern Germany, Singen  3915.0  14  0.007338\n",
       "8                              Lower Saxony, Anderten  1150.0  13  0.007385\n",
       "9       Mecklenburg-Vorpommern, Tollense battlefield   3200.0  12  0.013285\n",
       "10           Marne, Chemin de Coupetz, Faux Vesigneul  2200.0  11  0.008178\n",
       "11  France, Yonne, Gurgy \"les Noisats\" Family A (1...  6450.0  11  0.003503\n",
       "12    Königsbrunn - Obere Kreuzstraße (Baugebiet 110)  3914.5  10  0.006810\n",
       "13                     Bavaria, Altenerding- Klettham  1455.0  10  0.017193\n",
       "14                          Calvados, Fleury-sur-Orne  6350.5  10  0.004513\n",
       "15                    Sarrebourg, Marxberg Necropolis  1671.5  10  0.022370"
      ]
     },
     "execution_count": 38,
     "metadata": {},
     "output_type": "execute_result"
    }
   ],
   "source": [
    "df_pca_fr#[df_pca_fr[\"div\"]>2500]"
   ]
  },
  {
   "cell_type": "markdown",
   "metadata": {},
   "source": [
    "# 3) Master Diversity Plot"
   ]
  },
  {
   "cell_type": "code",
   "execution_count": 71,
   "metadata": {
    "tags": []
   },
   "outputs": [
    {
     "name": "stdout",
     "output_type": "stream",
     "text": [
      "Saved to: ./figures/div/master_div.png\n"
     ]
    },
    {
     "data": {
      "image/png": "[encoded data removed]",
      "text/plain": [
       "<Figure size 432x504 with 2 Axes>"
      ]
     },
     "metadata": {
      "needs_background": "light"
     },
     "output_type": "display_data"
    }
   ],
   "source": [
    "savepath = \"./figures/div/master_div.png\"\n",
    "\n",
    "fig = plt.figure(figsize=(6,7) )\n",
    "gs = gridspec.GridSpec(2, 1, height_ratios=[1,1], hspace=0.1)\n",
    "\n",
    "# Do the left bar\n",
    "ax0 = plt.subplot(gs[0]) \n",
    "ax1 = plt.subplot(gs[1]) \n",
    "\n",
    "plot_pca_div_panel(ax=ax0, show=False)\n",
    "plot_y_div_panel(ax=ax1, show=False, leg_p=False)                 \n",
    "\n",
    "### Some Formatting for the panel\n",
    "ax0.set_xlabel(\"\")\n",
    "ax0.text(-0.14, 1.03, 'a', ha='left', va='top', \n",
    "        transform = ax0.transAxes, weight='bold')\n",
    "ax1.text(-0.14, 1.03, 'b', ha='left', va='top', \n",
    "        transform = ax1.transAxes, weight='bold')\n",
    "\n",
    "### Save the Figure\n",
    "if len(savepath) > 0:\n",
    "    plt.savefig(savepath, bbox_inches = 'tight', \n",
    "                pad_inches = 0, dpi=800)\n",
    "    print(f\"Saved to: {savepath}\")\n",
    "    \n",
    "plt.show()"
   ]
  },
  {
   "cell_type": "code",
   "execution_count": 261,
   "metadata": {
    "tags": []
   },
   "outputs": [
    {
     "data": {
      "text/html": [
       "<div>\n",
       "<style scoped>\n",
       "    .dataframe tbody tr th:only-of-type {\n",
       "        vertical-align: middle;\n",
       "    }\n",
       "\n",
       "    .dataframe tbody tr th {\n",
       "        vertical-align: top;\n",
       "    }\n",
       "\n",
       "    .dataframe thead th {\n",
       "        text-align: right;\n",
       "    }\n",
       "</style>\n",
       "<table border=\"1\" class=\"dataframe\">\n",
       "  <thead>\n",
       "    <tr style=\"text-align: right;\">\n",
       "      <th></th>\n",
       "      <th>loc</th>\n",
       "      <th>age</th>\n",
       "      <th>n</th>\n",
       "      <th>div</th>\n",
       "    </tr>\n",
       "  </thead>\n",
       "  <tbody>\n",
       "    <tr>\n",
       "      <th>5</th>\n",
       "      <td>Tuscany, Grosseto, Casenovole</td>\n",
       "      <td>2350.0</td>\n",
       "      <td>10</td>\n",
       "      <td>0.007200</td>\n",
       "    </tr>\n",
       "    <tr>\n",
       "      <th>2</th>\n",
       "      <td>Lazio, Viterbo, Tarquinia</td>\n",
       "      <td>2151.0</td>\n",
       "      <td>17</td>\n",
       "      <td>0.009339</td>\n",
       "    </tr>\n",
       "    <tr>\n",
       "      <th>4</th>\n",
       "      <td>Villa Magna</td>\n",
       "      <td>595.0</td>\n",
       "      <td>11</td>\n",
       "      <td>0.012350</td>\n",
       "    </tr>\n",
       "    <tr>\n",
       "      <th>3</th>\n",
       "      <td>Basilicata, Potenza, Venosa</td>\n",
       "      <td>1250.0</td>\n",
       "      <td>14</td>\n",
       "      <td>0.013856</td>\n",
       "    </tr>\n",
       "    <tr>\n",
       "      <th>0</th>\n",
       "      <td>Piedmont, Collegno</td>\n",
       "      <td>1345.0</td>\n",
       "      <td>22</td>\n",
       "      <td>0.019920</td>\n",
       "    </tr>\n",
       "    <tr>\n",
       "      <th>1</th>\n",
       "      <td>Isola Sacra</td>\n",
       "      <td>1750.0</td>\n",
       "      <td>20</td>\n",
       "      <td>0.024799</td>\n",
       "    </tr>\n",
       "    <tr>\n",
       "      <th>6</th>\n",
       "      <td>Tarquinia Monterozzi</td>\n",
       "      <td>2238.5</td>\n",
       "      <td>10</td>\n",
       "      <td>0.029262</td>\n",
       "    </tr>\n",
       "  </tbody>\n",
       "</table>\n",
       "</div>"
      ],
      "text/plain": [
       "                             loc     age   n       div\n",
       "5  Tuscany, Grosseto, Casenovole  2350.0  10  0.007200\n",
       "2      Lazio, Viterbo, Tarquinia  2151.0  17  0.009339\n",
       "4                    Villa Magna   595.0  11  0.012350\n",
       "3    Basilicata, Potenza, Venosa  1250.0  14  0.013856\n",
       "0             Piedmont, Collegno  1345.0  22  0.019920\n",
       "1                    Isola Sacra  1750.0  20  0.024799\n",
       "6           Tarquinia Monterozzi  2238.5  10  0.029262"
      ]
     },
     "execution_count": 261,
     "metadata": {},
     "output_type": "execute_result"
    }
   ],
   "source": [
    "df_pca_it.sort_values(by=\"div\")"
   ]
  },
  {
   "cell_type": "code",
   "execution_count": 263,
   "metadata": {
    "tags": []
   },
   "outputs": [
    {
     "data": {
      "text/html": [
       "<div>\n",
       "<style scoped>\n",
       "    .dataframe tbody tr th:only-of-type {\n",
       "        vertical-align: middle;\n",
       "    }\n",
       "\n",
       "    .dataframe tbody tr th {\n",
       "        vertical-align: top;\n",
       "    }\n",
       "\n",
       "    .dataframe thead th {\n",
       "        text-align: right;\n",
       "    }\n",
       "</style>\n",
       "<table border=\"1\" class=\"dataframe\">\n",
       "  <thead>\n",
       "    <tr style=\"text-align: right;\">\n",
       "      <th></th>\n",
       "      <th>iid</th>\n",
       "      <th>pc1</th>\n",
       "      <th>pc2</th>\n",
       "      <th>pc3</th>\n",
       "      <th>pc4</th>\n",
       "      <th>pop</th>\n",
       "      <th>Master ID</th>\n",
       "      <th>loc</th>\n",
       "      <th>n_cov_snp</th>\n",
       "      <th>mean_cov</th>\n",
       "      <th>sex</th>\n",
       "      <th>age</th>\n",
       "      <th>contact</th>\n",
       "      <th>clst</th>\n",
       "      <th>region</th>\n",
       "      <th>study</th>\n",
       "    </tr>\n",
       "  </thead>\n",
       "  <tbody>\n",
       "    <tr>\n",
       "      <th>131</th>\n",
       "      <td>R10361.SG</td>\n",
       "      <td>0.018501</td>\n",
       "      <td>-0.019929</td>\n",
       "      <td>0.008697</td>\n",
       "      <td>-0.002149</td>\n",
       "      <td>keep_anc</td>\n",
       "      <td>R10361</td>\n",
       "      <td>Tarquinia Monterozzi</td>\n",
       "      <td>940475.0</td>\n",
       "      <td>0.783729</td>\n",
       "      <td>M</td>\n",
       "      <td>2328.0</td>\n",
       "      <td>Moots, Hannah M.; Pinhasi, Ron</td>\n",
       "      <td>Italy_TarquiniaMonterozzi_IA.SG</td>\n",
       "      <td>Italy</td>\n",
       "      <td>MootsbioRxiv2022</td>\n",
       "    </tr>\n",
       "    <tr>\n",
       "      <th>618</th>\n",
       "      <td>R10342.SG</td>\n",
       "      <td>0.026318</td>\n",
       "      <td>-0.015178</td>\n",
       "      <td>-0.001976</td>\n",
       "      <td>-0.000712</td>\n",
       "      <td>keep_anc</td>\n",
       "      <td>R10342</td>\n",
       "      <td>Tarquinia Monterozzi</td>\n",
       "      <td>786219.0</td>\n",
       "      <td>0.655183</td>\n",
       "      <td>M</td>\n",
       "      <td>2044.0</td>\n",
       "      <td>Moots, Hannah M.; Pinhasi, Ron</td>\n",
       "      <td>Italy_TarquiniaMonterozzi_IA.SG</td>\n",
       "      <td>Italy</td>\n",
       "      <td>MootsbioRxiv2022</td>\n",
       "    </tr>\n",
       "    <tr>\n",
       "      <th>722</th>\n",
       "      <td>R10343.SG</td>\n",
       "      <td>0.011269</td>\n",
       "      <td>-0.013103</td>\n",
       "      <td>0.015169</td>\n",
       "      <td>-0.004025</td>\n",
       "      <td>keep_anc</td>\n",
       "      <td>R10343</td>\n",
       "      <td>Tarquinia Monterozzi</td>\n",
       "      <td>763790.0</td>\n",
       "      <td>0.636492</td>\n",
       "      <td>F</td>\n",
       "      <td>2328.0</td>\n",
       "      <td>Moots, Hannah M.; Pinhasi, Ron</td>\n",
       "      <td>Italy_TarquiniaMonterozzi_IA.SG</td>\n",
       "      <td>Italy</td>\n",
       "      <td>MootsbioRxiv2022</td>\n",
       "    </tr>\n",
       "    <tr>\n",
       "      <th>749</th>\n",
       "      <td>R10363.SG</td>\n",
       "      <td>0.015554</td>\n",
       "      <td>-0.025272</td>\n",
       "      <td>0.008580</td>\n",
       "      <td>-0.001770</td>\n",
       "      <td>keep_anc</td>\n",
       "      <td>R10363</td>\n",
       "      <td>Tarquinia Monterozzi</td>\n",
       "      <td>758416.0</td>\n",
       "      <td>0.632013</td>\n",
       "      <td>M</td>\n",
       "      <td>2253.0</td>\n",
       "      <td>Moots, Hannah M.; Pinhasi, Ron</td>\n",
       "      <td>Italy_TarquiniaMonterozzi_IA.SG</td>\n",
       "      <td>Italy</td>\n",
       "      <td>MootsbioRxiv2022</td>\n",
       "    </tr>\n",
       "    <tr>\n",
       "      <th>763</th>\n",
       "      <td>R10338.SG</td>\n",
       "      <td>0.014412</td>\n",
       "      <td>-0.026537</td>\n",
       "      <td>0.007785</td>\n",
       "      <td>-0.000641</td>\n",
       "      <td>keep_anc</td>\n",
       "      <td>R10338</td>\n",
       "      <td>Tarquinia Monterozzi</td>\n",
       "      <td>754348.0</td>\n",
       "      <td>0.628623</td>\n",
       "      <td>M</td>\n",
       "      <td>2328.0</td>\n",
       "      <td>Moots, Hannah M.; Pinhasi, Ron</td>\n",
       "      <td>Italy_TarquiniaMonterozzi_IA.SG</td>\n",
       "      <td>Italy</td>\n",
       "      <td>MootsbioRxiv2022</td>\n",
       "    </tr>\n",
       "    <tr>\n",
       "      <th>777</th>\n",
       "      <td>R10359.SG</td>\n",
       "      <td>0.015206</td>\n",
       "      <td>-0.026961</td>\n",
       "      <td>0.013146</td>\n",
       "      <td>-0.004550</td>\n",
       "      <td>keep_anc</td>\n",
       "      <td>R10359</td>\n",
       "      <td>Tarquinia Monterozzi</td>\n",
       "      <td>751224.0</td>\n",
       "      <td>0.626020</td>\n",
       "      <td>F</td>\n",
       "      <td>2224.0</td>\n",
       "      <td>Moots, Hannah M.; Pinhasi, Ron</td>\n",
       "      <td>Italy_TarquiniaMonterozzi_IA.SG</td>\n",
       "      <td>Italy</td>\n",
       "      <td>MootsbioRxiv2022</td>\n",
       "    </tr>\n",
       "    <tr>\n",
       "      <th>875</th>\n",
       "      <td>R10337.SG</td>\n",
       "      <td>-0.035047</td>\n",
       "      <td>-0.000236</td>\n",
       "      <td>0.008281</td>\n",
       "      <td>-0.000090</td>\n",
       "      <td>keep_anc</td>\n",
       "      <td>R10337</td>\n",
       "      <td>Tarquinia Monterozzi</td>\n",
       "      <td>726431.0</td>\n",
       "      <td>0.605359</td>\n",
       "      <td>M</td>\n",
       "      <td>2028.0</td>\n",
       "      <td>Moots, Hannah M.; Pinhasi, Ron</td>\n",
       "      <td>Italy_TarquiniaMonterozzi_IA_oLevent.SG</td>\n",
       "      <td>Italy</td>\n",
       "      <td>MootsbioRxiv2022</td>\n",
       "    </tr>\n",
       "    <tr>\n",
       "      <th>947</th>\n",
       "      <td>R10340.SG</td>\n",
       "      <td>0.018166</td>\n",
       "      <td>-0.021824</td>\n",
       "      <td>0.007920</td>\n",
       "      <td>-0.006685</td>\n",
       "      <td>keep_anc</td>\n",
       "      <td>R10340</td>\n",
       "      <td>Tarquinia Monterozzi</td>\n",
       "      <td>709616.0</td>\n",
       "      <td>0.591347</td>\n",
       "      <td>M</td>\n",
       "      <td>2328.0</td>\n",
       "      <td>Moots, Hannah M.; Pinhasi, Ron</td>\n",
       "      <td>Italy_TarquiniaMonterozzi_IA.SG</td>\n",
       "      <td>Italy</td>\n",
       "      <td>MootsbioRxiv2022</td>\n",
       "    </tr>\n",
       "    <tr>\n",
       "      <th>960</th>\n",
       "      <td>R10341.SG</td>\n",
       "      <td>-0.033897</td>\n",
       "      <td>0.007572</td>\n",
       "      <td>0.006198</td>\n",
       "      <td>-0.002651</td>\n",
       "      <td>keep_anc</td>\n",
       "      <td>R10341</td>\n",
       "      <td>Tarquinia Monterozzi</td>\n",
       "      <td>707028.0</td>\n",
       "      <td>0.589190</td>\n",
       "      <td>M</td>\n",
       "      <td>2054.0</td>\n",
       "      <td>Moots, Hannah M.; Pinhasi, Ron</td>\n",
       "      <td>Italy_TarquiniaMonterozzi_IA_oLevent.SG</td>\n",
       "      <td>Italy</td>\n",
       "      <td>MootsbioRxiv2022</td>\n",
       "    </tr>\n",
       "    <tr>\n",
       "      <th>1444</th>\n",
       "      <td>R10339.SG</td>\n",
       "      <td>0.032835</td>\n",
       "      <td>-0.001707</td>\n",
       "      <td>-0.019000</td>\n",
       "      <td>-0.003498</td>\n",
       "      <td>keep_anc</td>\n",
       "      <td>R10339</td>\n",
       "      <td>Tarquinia Monterozzi</td>\n",
       "      <td>519536.0</td>\n",
       "      <td>0.432947</td>\n",
       "      <td>M</td>\n",
       "      <td>2054.0</td>\n",
       "      <td>Moots, Hannah M.; Pinhasi, Ron</td>\n",
       "      <td>Italy_TarquiniaMonterozzi_IA.SG</td>\n",
       "      <td>Italy</td>\n",
       "      <td>MootsbioRxiv2022</td>\n",
       "    </tr>\n",
       "  </tbody>\n",
       "</table>\n",
       "</div>"
      ],
      "text/plain": [
       "            iid       pc1       pc2       pc3       pc4       pop Master ID  \\\n",
       "131   R10361.SG  0.018501 -0.019929  0.008697 -0.002149  keep_anc    R10361   \n",
       "618   R10342.SG  0.026318 -0.015178 -0.001976 -0.000712  keep_anc    R10342   \n",
       "722   R10343.SG  0.011269 -0.013103  0.015169 -0.004025  keep_anc    R10343   \n",
       "749   R10363.SG  0.015554 -0.025272  0.008580 -0.001770  keep_anc    R10363   \n",
       "763   R10338.SG  0.014412 -0.026537  0.007785 -0.000641  keep_anc    R10338   \n",
       "777   R10359.SG  0.015206 -0.026961  0.013146 -0.004550  keep_anc    R10359   \n",
       "875   R10337.SG -0.035047 -0.000236  0.008281 -0.000090  keep_anc    R10337   \n",
       "947   R10340.SG  0.018166 -0.021824  0.007920 -0.006685  keep_anc    R10340   \n",
       "960   R10341.SG -0.033897  0.007572  0.006198 -0.002651  keep_anc    R10341   \n",
       "1444  R10339.SG  0.032835 -0.001707 -0.019000 -0.003498  keep_anc    R10339   \n",
       "\n",
       "                       loc  n_cov_snp  mean_cov sex     age  \\\n",
       "131   Tarquinia Monterozzi   940475.0  0.783729   M  2328.0   \n",
       "618   Tarquinia Monterozzi   786219.0  0.655183   M  2044.0   \n",
       "722   Tarquinia Monterozzi   763790.0  0.636492   F  2328.0   \n",
       "749   Tarquinia Monterozzi   758416.0  0.632013   M  2253.0   \n",
       "763   Tarquinia Monterozzi   754348.0  0.628623   M  2328.0   \n",
       "777   Tarquinia Monterozzi   751224.0  0.626020   F  2224.0   \n",
       "875   Tarquinia Monterozzi   726431.0  0.605359   M  2028.0   \n",
       "947   Tarquinia Monterozzi   709616.0  0.591347   M  2328.0   \n",
       "960   Tarquinia Monterozzi   707028.0  0.589190   M  2054.0   \n",
       "1444  Tarquinia Monterozzi   519536.0  0.432947   M  2054.0   \n",
       "\n",
       "                             contact                                     clst  \\\n",
       "131   Moots, Hannah M.; Pinhasi, Ron          Italy_TarquiniaMonterozzi_IA.SG   \n",
       "618   Moots, Hannah M.; Pinhasi, Ron          Italy_TarquiniaMonterozzi_IA.SG   \n",
       "722   Moots, Hannah M.; Pinhasi, Ron          Italy_TarquiniaMonterozzi_IA.SG   \n",
       "749   Moots, Hannah M.; Pinhasi, Ron          Italy_TarquiniaMonterozzi_IA.SG   \n",
       "763   Moots, Hannah M.; Pinhasi, Ron          Italy_TarquiniaMonterozzi_IA.SG   \n",
       "777   Moots, Hannah M.; Pinhasi, Ron          Italy_TarquiniaMonterozzi_IA.SG   \n",
       "875   Moots, Hannah M.; Pinhasi, Ron  Italy_TarquiniaMonterozzi_IA_oLevent.SG   \n",
       "947   Moots, Hannah M.; Pinhasi, Ron          Italy_TarquiniaMonterozzi_IA.SG   \n",
       "960   Moots, Hannah M.; Pinhasi, Ron  Italy_TarquiniaMonterozzi_IA_oLevent.SG   \n",
       "1444  Moots, Hannah M.; Pinhasi, Ron          Italy_TarquiniaMonterozzi_IA.SG   \n",
       "\n",
       "     region             study  \n",
       "131   Italy  MootsbioRxiv2022  \n",
       "618   Italy  MootsbioRxiv2022  \n",
       "722   Italy  MootsbioRxiv2022  \n",
       "749   Italy  MootsbioRxiv2022  \n",
       "763   Italy  MootsbioRxiv2022  \n",
       "777   Italy  MootsbioRxiv2022  \n",
       "875   Italy  MootsbioRxiv2022  \n",
       "947   Italy  MootsbioRxiv2022  \n",
       "960   Italy  MootsbioRxiv2022  \n",
       "1444  Italy  MootsbioRxiv2022  "
      ]
     },
     "execution_count": 263,
     "metadata": {},
     "output_type": "execute_result"
    }
   ],
   "source": [
    "df[df[\"loc\"]==\"Tarquinia Monterozzi\"]"
   ]
  },
  {
   "cell_type": "markdown",
   "metadata": {},
   "source": [
    "# Area 51\n",
    "Test code here"
   ]
  }
 ],
 "metadata": {
  "kernelspec": {
   "display_name": "Python 3",
   "language": "python",
   "name": "python3"
  },
  "language_info": {
   "codemirror_mode": {
    "name": "ipython",
    "version": 3
   },
   "file_extension": ".py",
   "mimetype": "text/x-python",
   "name": "python",
   "nbconvert_exporter": "python",
   "pygments_lexer": "ipython3",
   "version": "3.7.4"
  }
 },
 "nbformat": 4,
 "nbformat_minor": 4
}
