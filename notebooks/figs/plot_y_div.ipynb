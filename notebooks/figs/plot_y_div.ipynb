{
 "cells": [
  {
   "cell_type": "markdown",
   "metadata": {},
   "source": [
    "# Notebook to plot Y chromosome diversity over time"
   ]
  },
  {
   "cell_type": "code",
   "execution_count": 1,
   "metadata": {},
   "outputs": [
    {
     "name": "stdout",
     "output_type": "stream",
     "text": [
      "compute-a-16-108.o2.rc.hms.harvard.edu\n",
      "HSM Computational partition detected.\n",
      "/n/groups/reich/hringbauer/git/punic_aDNA\n",
      "CPU Count: 32\n",
      "3.7.4 (default, Sep 11 2019, 11:24:51) \n",
      "[GCC 6.2.0]\n"
     ]
    }
   ],
   "source": [
    "import numpy as np\n",
    "import os  # For Saving to Folder\n",
    "import pandas as pd\n",
    "import matplotlib.pyplot as plt\n",
    "\n",
    "import socket\n",
    "import os as os\n",
    "import sys as sys\n",
    "import multiprocessing as mp\n",
    "import itertools as it\n",
    "from time import time\n",
    "\n",
    "\n",
    "# For Arial Font\n",
    "from matplotlib import rcParams\n",
    "rcParams['font.family'] = 'sans-serif'   # Set the defaul\n",
    "rcParams['font.sans-serif'] = ['Arial']\n",
    "\n",
    "socket_name = socket.gethostname()\n",
    "print(socket_name)\n",
    "\n",
    "if socket_name.startswith(\"compute-\"):\n",
    "    print(\"HSM Computational partition detected.\")\n",
    "    path = \"/n/groups/reich/hringbauer/git/punic_aDNA/\"  # The Path on Midway Cluster\n",
    "else:\n",
    "    raise RuntimeWarning(\"Not compatible machine. Check!!\")\n",
    "\n",
    "os.chdir(path)  # Set the right Path (in line with Atom default)\n",
    "# Show the current working directory. Should be HAPSBURG/Notebooks/ParallelRuns\n",
    "print(os.getcwd())\n",
    "print(f\"CPU Count: {mp.cpu_count()}\")\n",
    "print(sys.version)\n",
    "\n",
    "from python.plot_pca import *  # Import functions needed for the PCA plotting"
   ]
  },
  {
   "cell_type": "code",
   "execution_count": 14,
   "metadata": {},
   "outputs": [],
   "source": [
    "df_meta = pd.read_csv(\"/n/groups/reich/hringbauer/Data/v53.1.anno.haplogroups.csv\") # Load Meta Data\n",
    "min_snp=600000\n",
    "age = [0,12000]\n",
    "lat = [20,90]\n",
    "lon = [-28, 180]\n",
    "flag = [\"_contam\", \"_dup\"]"
   ]
  },
  {
   "cell_type": "code",
   "execution_count": 23,
   "metadata": {},
   "outputs": [
    {
     "name": "stdout",
     "output_type": "stream",
     "text": [
      "Filtering to 18885/31997 indiviuals with >600000 SNPs.\n",
      "Filtering to 12446/18885 inds >0 BP.\n",
      "Filtering to 12396/12446 inds <12000 BP.\n",
      "Kept 9540/12396 inds with matching lat/lon.\n",
      "Kept 9469/9540 inds with good cluster labels.\n",
      "Kept 8854/9469 unique Master IDs.\n",
      "Kept 4900/8854 Males.\n"
     ]
    }
   ],
   "source": [
    "df_meta[\"study\"]=df_meta[\"study\"].fillna(\"missing\")\n",
    "idx = df_meta[\"n_cov_snp\"]>min_snp\n",
    "df=df_meta[idx].reset_index(drop=True)\n",
    "print(f\"Filtering to {np.sum(idx)}/{len(idx)} indiviuals with >{min_snp} SNPs.\")\n",
    "df[\"include\"]=df[\"include_alt\"].astype(\"int\")\n",
    "\n",
    "### Filtering based on Age\n",
    "min_age=age[0]\n",
    "idx = df[\"age\"]>min_age\n",
    "df=df[idx].reset_index(drop=True)\n",
    "print(f\"Filtering to {np.sum(idx)}/{len(idx)} inds >{min_age} BP.\")\n",
    "\n",
    "max_age = age[1]\n",
    "idx = df[\"age\"]<max_age\n",
    "df = df[idx].reset_index(drop=True)\n",
    "print(f\"Filtering to {np.sum(idx)}/{len(idx)} inds <{max_age} BP.\")\n",
    "\n",
    "### Geographic Filtering\n",
    "if (len(lat)>0) | (len(lon)>0):\n",
    "    idx_lat = (lat[0] < df[\"lat\"]) & (df[\"lat\"] < lat[1])\n",
    "    idx_lon = (lon[0] < df[\"lon\"]) & (df[\"lon\"] < lon[1])\n",
    "    idx = (idx_lat & idx_lon)\n",
    "    df=df[idx].reset_index(drop=True)\n",
    "    print(f\"Kept {np.sum(idx)}/{len(idx)} inds with matching lat/lon.\")\n",
    "\n",
    "### Flag tricky Indivdiuals\n",
    "idx = df[\"clst\"].str.contains(\"|\".join(flag))\n",
    "print(f\"Kept {np.sum(~idx)}/{len(idx)} inds with good cluster labels.\")\n",
    "df=df[~idx].reset_index(drop=True)\n",
    "df = df.sort_values(by=\"avg_cov_snp\", ascending=False)\n",
    "idx = df[\"Master ID\"].duplicated()\n",
    "print(f\"Kept {np.sum(~idx)}/{len(idx)} unique Master IDs.\")\n",
    "df=df[~idx].reset_index(drop=True)\n",
    "\n",
    "idx= df[\"sex\"]==\"M\"\n",
    "print(f\"Kept {np.sum(idx)}/{len(idx)} Males.\")\n",
    "df=df[idx].reset_index(drop=True)"
   ]
  },
  {
   "cell_type": "markdown",
   "metadata": {},
   "source": [
    "# Prepare Sardinia"
   ]
  },
  {
   "cell_type": "code",
   "execution_count": 33,
   "metadata": {},
   "outputs": [],
   "source": [
    "df_sar = df[df[\"region\"].str.contains(\"Sardinia\")]"
   ]
  },
  {
   "cell_type": "code",
   "execution_count": 32,
   "metadata": {},
   "outputs": [
    {
     "data": {
      "text/html": [
       "<div>\n",
       "<style scoped>\n",
       "    .dataframe tbody tr th:only-of-type {\n",
       "        vertical-align: middle;\n",
       "    }\n",
       "\n",
       "    .dataframe tbody tr th {\n",
       "        vertical-align: top;\n",
       "    }\n",
       "\n",
       "    .dataframe thead th {\n",
       "        text-align: right;\n",
       "    }\n",
       "</style>\n",
       "<table border=\"1\" class=\"dataframe\">\n",
       "  <thead>\n",
       "    <tr style=\"text-align: right;\">\n",
       "      <th></th>\n",
       "      <th>iid</th>\n",
       "      <th>Master ID</th>\n",
       "      <th>loc</th>\n",
       "      <th>lat</th>\n",
       "      <th>lon</th>\n",
       "      <th>age</th>\n",
       "      <th>region</th>\n",
       "      <th>study</th>\n",
       "      <th>clst</th>\n",
       "      <th>mean_cov</th>\n",
       "      <th>n_cov_snp</th>\n",
       "      <th>avg_cov_snp</th>\n",
       "      <th>include_alt</th>\n",
       "      <th>sex</th>\n",
       "      <th>Y_haplo</th>\n",
       "      <th>mtDNA_haplo</th>\n",
       "      <th>include</th>\n",
       "    </tr>\n",
       "  </thead>\n",
       "  <tbody>\n",
       "  </tbody>\n",
       "</table>\n",
       "</div>"
      ],
      "text/plain": [
       "Empty DataFrame\n",
       "Columns: [iid, Master ID, loc, lat, lon, age, region, study, clst, mean_cov, n_cov_snp, avg_cov_snp, include_alt, sex, Y_haplo, mtDNA_haplo, include]\n",
       "Index: []"
      ]
     },
     "execution_count": 32,
     "metadata": {},
     "output_type": "execute_result"
    }
   ],
   "source": [
    "df_sar"
   ]
  },
  {
   "cell_type": "code",
   "execution_count": 28,
   "metadata": {},
   "outputs": [
    {
     "data": {
      "text/plain": [
       "Montecilfone                                      28\n",
       "Abruzzo, Peltuinum                                26\n",
       "Campania, Naples, Herculaneum                     26\n",
       "Lazio, Rieti, Corvaro                             25\n",
       "Sicily, Himera                                    22\n",
       "Marche, Pesaro e Urbino, Urbino Bivio C.M.        21\n",
       "Castel Sozzio                                     19\n",
       "Bologna, Via Orfeo Jewish Medieval Cemetery       19\n",
       "Molise, Isernia, Pozzilli                         16\n",
       "Campania, San Marzano                             15\n",
       "Abruzzo, Presciano                                13\n",
       "Emilia Romagna, Ceretolo, Casalecchio di Reno     13\n",
       "Piedmont, Collegno                                12\n",
       "San Marzano                                       12\n",
       "Tortora                                           12\n",
       "Campania, Eboli                                   11\n",
       "Sardinia, Su Crucefissu Mannu                     10\n",
       "Marche, Pesaro e Urbino, Urbino San Donato        10\n",
       "Lazio, Roma, Magliana                              9\n",
       "Villa Magna                                        9\n",
       "Rome, Parco Talenti Innesto Via Nomentana 1085     9\n",
       "Sardinia, Serra Cabriles                           9\n",
       "Campania, Velia                                    9\n",
       "Abruzzo, Alfedena                                  9\n",
       "Lazio, Viterbo, Tarquinia                          9\n",
       "Lazio, Rome, Via Appia Antica                      9\n",
       "Campania, Salerno, Sala Consilina                  9\n",
       "Monte Saraceno                                     8\n",
       "Cancelleria                                        8\n",
       "Emilia Romagna, Montericco, Imola                  8\n",
       "Veneto, Verona, Arano                              8\n",
       "Galea                                              8\n",
       "Campania, San Palolo Belsito                       7\n",
       "Campania, Naples, Ponticelli via Botteghelle       7\n",
       "Sardinia, Tharros                                  7\n",
       "Capestrano                                         7\n",
       "Recanati Villa Teresa                              7\n",
       "Molise, Campobasso, Macchia Valfortore             6\n",
       "Abruzzo, Grotta de Continenza                      6\n",
       "Campania, Salerno, San Marzano                     6\n",
       "Sicily, Polizzello                                 6\n",
       "Abruzzo, Caporciano Cinturelli                     6\n",
       "Abruzzo, Teramo, Campovalano                       6\n",
       "Viggiano                                           6\n",
       "Lazio, Roma, Fontanaccia                           6\n",
       "Veneto, Padova, Piovego                            6\n",
       "Crypta Balbi                                       5\n",
       "Abruzzo, Amiternum, Teatro                         5\n",
       "Mausoleo di Augusto                                5\n",
       "Sardinia, Perdasdefogu, NUO, S’Orcu ‘e Tueri       5\n",
       "Name: loc, dtype: int64"
      ]
     },
     "execution_count": 28,
     "metadata": {},
     "output_type": "execute_result"
    }
   ],
   "source": [
    "df_ib = df[df[\"region\"]==\"Italy\"]\n",
    "df_ib[\"loc\"].value_counts()[:50]"
   ]
  },
  {
   "cell_type": "code",
   "execution_count": null,
   "metadata": {},
   "outputs": [],
   "source": []
  }
 ],
 "metadata": {
  "kernelspec": {
   "display_name": "Python 3",
   "language": "python",
   "name": "python3"
  },
  "language_info": {
   "codemirror_mode": {
    "name": "ipython",
    "version": 3
   },
   "file_extension": ".py",
   "mimetype": "text/x-python",
   "name": "python",
   "nbconvert_exporter": "python",
   "pygments_lexer": "ipython3",
   "version": "3.7.4"
  }
 },
 "nbformat": 4,
 "nbformat_minor": 4
}
