{
 "cells": [
  {
   "cell_type": "markdown",
   "metadata": {},
   "source": [
    "# Notebook to plot Y chromosome diversity over time"
   ]
  },
  {
   "cell_type": "code",
   "execution_count": 27,
   "metadata": {},
   "outputs": [
    {
     "name": "stdout",
     "output_type": "stream",
     "text": [
      "compute-e-16-231.o2.rc.hms.harvard.edu\n",
      "HSM Computational partition detected.\n",
      "/n/groups/reich/hringbauer/git/punic_aDNA\n",
      "CPU Count: 28\n",
      "3.8.12 (default, Sep 13 2021, 17:05:27) \n",
      "[GCC 9.2.0]\n"
     ]
    }
   ],
   "source": [
    "import numpy as np\n",
    "import os  # For Saving to Folder\n",
    "import pandas as pd\n",
    "import matplotlib.pyplot as plt\n",
    "import socket\n",
    "import os as os\n",
    "import sys as sys\n",
    "import multiprocessing as mp\n",
    "import itertools as it\n",
    "from time import time\n",
    "from scipy.spatial.distance import pdist\n",
    "\n",
    "# For Arial Font\n",
    "from matplotlib import rcParams\n",
    "rcParams['font.family'] = 'sans-serif'   # Set the defaul\n",
    "rcParams['font.sans-serif'] = ['Arial']\n",
    "from matplotlib import gridspec\n",
    "#plt.style.use('ggplot') #..../whitegrid.mplstyle  # Nice Plotting Style\n",
    "\n",
    "socket_name = socket.gethostname()\n",
    "print(socket_name)\n",
    "\n",
    "if socket_name.startswith(\"compute-\"):\n",
    "    print(\"HSM Computational partition detected.\")\n",
    "    path = \"/n/groups/reich/hringbauer/git/punic_aDNA/\"  # The Path on Midway Cluster\n",
    "else:\n",
    "    raise RuntimeWarning(\"Not compatible machine. Check!!\")\n",
    "\n",
    "os.chdir(path)  # Set the right Path (in line with Atom default)\n",
    "# Show the current working directory. Should be HAPSBURG/Notebooks/ParallelRuns\n",
    "print(os.getcwd())\n",
    "print(f\"CPU Count: {mp.cpu_count()}\")\n",
    "print(sys.version)\n",
    "\n",
    "from python.plot_pca import *  # Import functions needed for the PCA plotting\n",
    "from hapsburg.PackagesSupport.sqrt_scale import SquareRootScale"
   ]
  },
  {
   "cell_type": "markdown",
   "metadata": {},
   "source": [
    "### Helper Functions"
   ]
  },
  {
   "cell_type": "code",
   "execution_count": 28,
   "metadata": {
    "tags": []
   },
   "outputs": [],
   "source": [
    "def filter_df_age(df, age_delta = 300, output=False):\n",
    "    \"\"\"Takes Dataframe df as Input, and filters to samples within age_delta of median age.\n",
    "    Return filtered Dataframe and medium Age\"\"\"\n",
    "    age_med = np.median(df[\"age\"])\n",
    "    idx = (df[\"age\"]< age_med + age_delta) & (df[\"age\"] > age_med - age_delta)\n",
    "    df = df[idx].copy().reset_index(drop=False)\n",
    "    if output:\n",
    "        print(f\"{np.sum(idx)}/{len(idx)} IIDs within {age_delta} y of median age {age_med}\")\n",
    "    return df, age_med\n",
    "\n",
    "def get_y_counts(df, digits=3, col=\"Y_haplo\"):\n",
    "    \"\"\"Get Y Chromosome counts from Dataframe df\"\"\"\n",
    "    ys = df[col].str[:3]\n",
    "    cts = ys.value_counts().values\n",
    "    return cts\n",
    "\n",
    "def simpson_di(x):\n",
    "    \"\"\" Given a count vector, returns the Simpson Diversity Index\n",
    "    \"\"\"\n",
    "    n = np.sum(x) # Sample Size\n",
    "    h = np.sum(x*(x-1)) / (n*(n-1)) # Fraction of pairs are identiclal\n",
    "    \n",
    "    if h==0: ### Set minimimum homo-cutoff (one homo-pair):\n",
    "        h = 2 / (n*(n-1))\n",
    "    return 1 / h\n",
    "\n",
    "def frac_max_haplo(x):\n",
    "    \"\"\"Given a count vector, return frequency of non most-common alleles\"\"\"\n",
    "    f = np.max(x) / np.sum(x)\n",
    "    return f\n",
    "\n",
    "def create_ydiv_df(df, sites=[], col_loc=\"loc\", method=\"simpson\",\n",
    "                   age_delta = 300, digits=3, min_m=5):\n",
    "    \"\"\"Take Meta Data as input, and for each site calculate\n",
    "    the Simpson Index of Y chromosomes.\n",
    "    method: simpson, frac_max_haplo\"\"\"\n",
    "    data = []\n",
    "    \n",
    "    for s in sites:\n",
    "        df_t = df[df[col_loc]==s]\n",
    "        df_t, age = filter_df_age(df_t, age_delta=age_delta)\n",
    "        m = len(df_t)\n",
    "        \n",
    "        if m >= min_m: # Only run full analysis if enough males\n",
    "            y = get_y_counts(df_t)\n",
    "            if method==\"simpson\":\n",
    "                D = simpson_di(y)\n",
    "            elif method==\"frac_max_haplo\":\n",
    "                D = frac_max_haplo(y)\n",
    "            else:\n",
    "                raise RuntimeWarning(\"No fitting mode found.\")\n",
    "            data.append([s, age, m, D])\n",
    "          \n",
    "        else:\n",
    "            continue\n",
    "\n",
    "    df = pd.DataFrame(data)\n",
    "    df.columns = [\"loc\", \"age\", \"males\", \"D\"]\n",
    "    return df\n",
    "\n",
    "def get_sub_df_region(df, region=\"\", rec_col=\"region\", loc_col=\"loc\", min_n=5):\n",
    "    \"\"\"Get a Dataframe of Y haplogroup diversities per sites\"\"\"\n",
    "    df_ib = df[df[rec_col].isin(region)]\n",
    "    cts = df_ib[loc_col].value_counts()\n",
    "    sites = cts[cts>=min_n].index.values\n",
    "    df_y_it = create_ydiv_df(df, sites=sites)\n",
    "    return df_y_it\n",
    "\n",
    "def set_age_ydiv_df(df, site=\"\", age=0,\n",
    "                    site_col=\"loc\", age_col=\"age\"):\n",
    "    \"\"\"Set the Age of a Y Diversity Cluster\"\"\"\n",
    "    idx = df[site_col]==site\n",
    "    df.loc[idx, age_col]= age\n",
    "\n",
    "def set_legends(ax, plots=[], legs=[], title=\"\", loc=\"lower right\"):\n",
    "    \"\"\"Set Legends in Panel Plots\"\"\"\n",
    "    l1 = ax.legend(plots, legs, fontsize=11, loc=loc,\n",
    "             title=title)\n",
    "    \n",
    "    l1.get_title().set_fontsize('13')\n",
    "    l1.get_title().set_fontweight(\"bold\")\n",
    "    [lgd.set_color('white') for lgd in l1.legendHandles]\n",
    "    [lgd.set_edgecolor('k') for lgd in l1.legendHandles]"
   ]
  },
  {
   "cell_type": "markdown",
   "metadata": {},
   "source": [
    "### Load Meta and Y haplogroup Data"
   ]
  },
  {
   "cell_type": "code",
   "execution_count": 29,
   "metadata": {},
   "outputs": [
    {
     "name": "stdout",
     "output_type": "stream",
     "text": [
      "Filtering to 29227/35545 indiviuals with >100000 SNPs.\n",
      "Filtering to 22574/29227 inds >0 BP.\n",
      "Filtering to 22448/22574 inds <12000 BP.\n",
      "Kept 17910/22448 inds with matching lat/lon.\n",
      "Kept 17707/17910 inds with good cluster labels.\n",
      "Kept 16715/17707 unique Master IDs.\n",
      "Kept 9262/16715 Males.\n",
      "Extracted IIDs of 160 IIDs in Punic Project\n",
      "Merged to 68 Punic Males\n",
      "Filtered to 58 Punic Samples based on label\n",
      "Filtered general Y to 9194 ancient, non Punic individuals\n",
      "Filtered to 4059 published ancient males\n"
     ]
    }
   ],
   "source": [
    "df_meta = pd.read_csv(\"/n/groups/reich/hringbauer/Data/v56.3.anno.haplogroups.csv\") # Load Meta Data\n",
    "\n",
    "min_snp = 100000 # Min SNP coverage for Y Call\n",
    "age = [0,12000]\n",
    "lat = [20,90]\n",
    "lon = [-28, 180]\n",
    "flag = [\"_contam\", \"_dup\"]\n",
    "\n",
    "df_meta[\"study\"]=df_meta[\"study\"].fillna(\"missing\") # Add Nan\n",
    "idx = df_meta[\"n_cov_snp\"]>min_snp\n",
    "df=df_meta[idx].reset_index(drop=True)\n",
    "print(f\"Filtering to {np.sum(idx)}/{len(idx)} indiviuals with >{min_snp} SNPs.\")\n",
    "df[\"include\"]=df[\"include_alt\"].astype(\"int\")\n",
    "\n",
    "### Filtering based on Age\n",
    "min_age=age[0]\n",
    "idx = df[\"age\"]>min_age\n",
    "df=df[idx].reset_index(drop=True)\n",
    "print(f\"Filtering to {np.sum(idx)}/{len(idx)} inds >{min_age} BP.\")\n",
    "\n",
    "max_age = age[1]\n",
    "idx = df[\"age\"]<max_age\n",
    "df = df[idx].reset_index(drop=True)\n",
    "print(f\"Filtering to {np.sum(idx)}/{len(idx)} inds <{max_age} BP.\")\n",
    "\n",
    "### Geographic Filtering\n",
    "if (len(lat)>0) | (len(lon)>0):\n",
    "    idx_lat = (lat[0] < df[\"lat\"]) & (df[\"lat\"] < lat[1])\n",
    "    idx_lon = (lon[0] < df[\"lon\"]) & (df[\"lon\"] < lon[1])\n",
    "    idx = (idx_lat & idx_lon)\n",
    "    df=df[idx].reset_index(drop=True)\n",
    "    print(f\"Kept {np.sum(idx)}/{len(idx)} inds with matching lat/lon.\")\n",
    "\n",
    "### Flag tricky Indivdiuals\n",
    "idx = df[\"clst\"].str.contains(\"|\".join(flag))\n",
    "print(f\"Kept {np.sum(~idx)}/{len(idx)} inds with good cluster labels.\")\n",
    "df=df[~idx].reset_index(drop=True)\n",
    "df = df.sort_values(by=\"avg_cov_snp\", ascending=False)\n",
    "idx = df[\"Master ID\"].duplicated()\n",
    "print(f\"Kept {np.sum(~idx)}/{len(idx)} unique Master IDs.\")\n",
    "df=df[~idx].reset_index(drop=True)\n",
    "\n",
    "### Extract Males\n",
    "idx= df[\"sex\"]==\"M\"\n",
    "print(f\"Kept {np.sum(idx)}/{len(idx)} Males.\")\n",
    "df=df[idx].reset_index(drop=True)\n",
    "\n",
    "### Flag Punic Individuals\n",
    "df1 = pd.read_csv(\"./data/cluster_assignments_punic.v54.1i.tsv\", sep=\"\\t\")\n",
    "print(f\"Extracted IIDs of {len(df1)} IIDs in Punic Project\")\n",
    "df_punic = pd.merge(df, df1, on=\"iid\")\n",
    "print(f\"Merged to {len(df_punic)} Punic Males\")\n",
    "\n",
    "### Remove Romans\n",
    "label_inc = [\"Punic_Early\", \"Punic_Late\", \"Punic_Late2\"]\n",
    "df_punic = df_punic[df_punic[\"label\"].isin(label_inc)]\n",
    "\n",
    "#df_punic = df_punic[~df_punic[\"label\"].str.contains(\"Roman\")]\n",
    "print(f\"Filtered to {len(df_punic)} Punic Samples based on label\")\n",
    "\n",
    "### Remove Punics from generat Meta\n",
    "df = df[~df[\"iid\"].isin(df1[\"iid\"])]\n",
    "print(f\"Filtered general Y to {len(df)} ancient, non Punic individuals\")\n",
    "\n",
    "### Go to published indivduals only\n",
    "df =df[~df[\"study\"].str.contains(\"Unpublished\")]\n",
    "print(f\"Filtered to {len(df)} published ancient males\")"
   ]
  },
  {
   "cell_type": "code",
   "execution_count": null,
   "metadata": {
    "tags": []
   },
   "outputs": [],
   "source": [
    "df.sort_values(by=\"age\")"
   ]
  },
  {
   "cell_type": "markdown",
   "metadata": {},
   "source": [
    "### [Browse] See if certain Sites are covered"
   ]
  },
  {
   "cell_type": "code",
   "execution_count": 8,
   "metadata": {
    "tags": []
   },
   "outputs": [
    {
     "data": {
      "text/plain": [
       "45    E1b1b1a1b2a4b~\n",
       "48     J2a1a1b2a1c2~\n",
       "51        J1a2a1a2c1\n",
       "53      E1b1b1b2a1a~\n",
       "58      G2a2b2a1a1b2\n",
       "60     J2a1a1a2b2a1a\n",
       "62      J2b2a1a1a1b~\n",
       "66           R1b1a1b\n",
       "Name: Y_haplo, dtype: object"
      ]
     },
     "execution_count": 8,
     "metadata": {},
     "output_type": "execute_result"
    }
   ],
   "source": [
    "df_punic[df_punic[\"loc\"].str.contains(\"Tunis, Carthage\")][\"Y_haplo\"]"
   ]
  },
  {
   "cell_type": "markdown",
   "metadata": {},
   "source": [
    "# 2) Group Sites from Region"
   ]
  },
  {
   "cell_type": "code",
   "execution_count": 4,
   "metadata": {},
   "outputs": [],
   "source": [
    "df_y_it = get_sub_df_region(df, [\"Italy\"], min_n=5)\n",
    "df_y_fr = get_sub_df_region(df, [\"France\", \"Germany\", \"Austria\"], min_n=5)\n",
    "df_y_ib = get_sub_df_region(df, [\"Spain\", \"Portugal\"], min_n=5)\n",
    "df_y_lev = get_sub_df_region(df, [\"Israel\", \"Lebanon\"], min_n=5)\n",
    "\n",
    "sites = [\"Kerkouane\", \"Sardinia, Tharros\",  \"Sicily, Selinunte, Manuzza\", \"Tunis, Carthage\"]\n",
    "dfpk, dfpt, dfps, dfpc = [create_ydiv_df(df_punic, [s], min_m=5) for s in sites] \n",
    "dfpa = create_ydiv_df(df_punic, sites=[\"Akhziv\"], col_loc=\"location\", min_m=5)\n",
    "set_age_ydiv_df(dfpc, site='Tunis, Carthage', age=2300)\n",
    "set_age_ydiv_df(dfpt, site='Sardinia, Tharros', age=2400)"
   ]
  },
  {
   "cell_type": "markdown",
   "metadata": {},
   "source": [
    "## Y Div Panel Plot Function"
   ]
  },
  {
   "cell_type": "code",
   "execution_count": 5,
   "metadata": {
    "tags": []
   },
   "outputs": [],
   "source": [
    "def plot_y_div_panel(ax=0, figsize=(4,3), s=50, m=\"o\", sf=1.4, lw = 0.5, show=False, leg_p=True):\n",
    "    \"\"\"Plot Y Diversity Panel. Assumes that the dataframes are named externall!\n",
    "    If axis not given, make new plot with figsize\"\"\"\n",
    "    \n",
    "    if ax==0:\n",
    "        plt.figure(figsize=figsize)\n",
    "        ax = plt.gca()\n",
    "    \n",
    "    ### Do the Scatter Plots\n",
    "    a1 = ax.scatter(df_y_it[\"age\"]-1950, df_y_it[\"D\"], c=\"green\", ec=\"k\", s=s, marker=m, lw=lw)\n",
    "    a2 = ax.scatter(df_y_fr[\"age\"]-1950, df_y_fr[\"D\"], c=\"violet\", ec=\"k\", s=s, marker=m, lw=lw)\n",
    "    a3 = ax.scatter(df_y_ib[\"age\"]-1950, df_y_ib[\"D\"], c=\"gray\", ec=\"k\", s=s, marker=m, lw=lw)\n",
    "    a4 = ax.scatter(df_y_lev[\"age\"]-1950, df_y_lev[\"D\"], c=\"#390099\", ec=\"k\", s=s, marker=m, lw=lw)\n",
    "\n",
    "    p1 = ax.scatter(dfpk[\"age\"]-1950, dfpk[\"D\"], ec=\"k\", c=\"darkorange\", s=s*sf, marker=\"<\", lw=lw)\n",
    "    p2 = ax.scatter(dfpt[\"age\"]-1950, dfpt[\"D\"], ec=\"k\", c=\"darkorange\", s=s*sf, marker=\"v\", lw=lw)\n",
    "    p3 = ax.scatter(dfps[\"age\"]-1950, dfps[\"D\"], ec=\"k\", c=\"darkorange\", s=s*sf, marker=\"^\", lw=lw)\n",
    "    p4 = ax.scatter(dfpc[\"age\"]-1950, dfpc[\"D\"], ec=\"k\", c=\"darkorange\", s=s*sf, marker=\">\", lw=lw)\n",
    "    p5 = ax.scatter(dfpa[\"age\"]-1950, dfpa[\"D\"], c=\"orangered\", ec=\"k\", s=s*sf, marker='H', lw=lw)\n",
    "    \n",
    "    ax.set_axisbelow(True)\n",
    "    ax.grid(axis='y', color='lightgray', linestyle='dashed', linewidth=1, zorder=0)\n",
    "    ax.set_ylabel(\"Effective number of Y haplotypes\")\n",
    "    ax.set_xlabel(\"Years before Present (BCE/CE)\")\n",
    "    ax.invert_xaxis()\n",
    "    \n",
    "    div_max = np.max(df_y_fr[df_y_fr[\"age\"]>2500][\"D\"])\n",
    "    ax.axhline(div_max, c=\"k\", ls=\"--\", zorder=0, lw=1)\n",
    "    ax.text(5400, div_max*1.05, \"Max. before Phoenician/Punic\", va=\"bottom\")\n",
    "    \n",
    "    #### Legend Punic\n",
    "    plots = [p1, p2, p3, p4, p5]\n",
    "    legs = [\"Kerkouane\", \"Tharros\", \"Selinunte\", \"Carthage\", \"Akhziv\"]\n",
    "    \n",
    "    if leg_p:\n",
    "        leg1 = ax.legend(plots, legs, fontsize=10, \n",
    "                         title = \"Phoenician-Punic\\nSites\",\n",
    "                         bbox_to_anchor=(1.00, 1.03), loc=\"upper left\")\n",
    "        #[lgd.set_edgecolor('white') for lgd in leg1.legendHandles]\n",
    "        leg1.get_title().set_fontsize('10')\n",
    "        leg1.get_title().set_fontweight(\"bold\")\n",
    "        ax.add_artist(leg1)\n",
    "\n",
    "    ### Legend Context Sites\n",
    "    plots = [a1, a2, a3, a4]\n",
    "    legs = [\"Italy\", \"C. Europe\", \"Iberia\", \"Levant\" ]\n",
    "\n",
    "    leg2 = ax.legend(plots, legs, fontsize=10, \n",
    "                     title = \"Arch. Sites \\nOther Europe\",\n",
    "                     bbox_to_anchor=(1.00, -0.03), loc=\"lower left\")\n",
    "    #[lgd.set_edgecolor('white') for lgd in leg1.legendHandles]\n",
    "    leg2.get_title().set_fontsize('10')\n",
    "    leg2.get_title().set_fontweight(\"bold\")\n",
    "    ax.add_artist(leg2)\n",
    "\n",
    "    #set_legends(ax, plots=plots, legs=legs, title=\"Phoenician-Punic\")\n",
    "    #ax.set_xticks(np.linspace(-5000,1000,7))\n",
    "    if show:\n",
    "        plt.show()"
   ]
  },
  {
   "cell_type": "code",
   "execution_count": 63,
   "metadata": {
    "tags": []
   },
   "outputs": [
    {
     "data": {
      "image/png": "[encoded data removed]",
      "text/plain": [
       "<Figure size 288x216 with 1 Axes>"
      ]
     },
     "metadata": {
      "needs_background": "light"
     },
     "output_type": "display_data"
    }
   ],
   "source": [
    "plot_y_div_panel(show=True)"
   ]
  },
  {
   "cell_type": "code",
   "execution_count": 50,
   "metadata": {
    "tags": []
   },
   "outputs": [
    {
     "data": {
      "text/html": [
       "<div>\n",
       "<style scoped>\n",
       "    .dataframe tbody tr th:only-of-type {\n",
       "        vertical-align: middle;\n",
       "    }\n",
       "\n",
       "    .dataframe tbody tr th {\n",
       "        vertical-align: top;\n",
       "    }\n",
       "\n",
       "    .dataframe thead th {\n",
       "        text-align: right;\n",
       "    }\n",
       "</style>\n",
       "<table border=\"1\" class=\"dataframe\">\n",
       "  <thead>\n",
       "    <tr style=\"text-align: right;\">\n",
       "      <th></th>\n",
       "      <th>loc</th>\n",
       "      <th>age</th>\n",
       "      <th>males</th>\n",
       "      <th>D</th>\n",
       "    </tr>\n",
       "  </thead>\n",
       "  <tbody>\n",
       "    <tr>\n",
       "      <th>0</th>\n",
       "      <td>Sicily, Selinunte, Manuzza</td>\n",
       "      <td>2482.0</td>\n",
       "      <td>6</td>\n",
       "      <td>inf</td>\n",
       "    </tr>\n",
       "  </tbody>\n",
       "</table>\n",
       "</div>"
      ],
      "text/plain": [
       "                          loc     age  males    D\n",
       "0  Sicily, Selinunte, Manuzza  2482.0      6  inf"
      ]
     },
     "execution_count": 50,
     "metadata": {},
     "output_type": "execute_result"
    }
   ],
   "source": [
    "dfps"
   ]
  },
  {
   "cell_type": "code",
   "execution_count": 51,
   "metadata": {
    "tags": []
   },
   "outputs": [
    {
     "data": {
      "text/plain": [
       "4.999999999999999"
      ]
     },
     "execution_count": 51,
     "metadata": {},
     "output_type": "execute_result"
    }
   ],
   "source": [
    "1 / (5 * (1/5)**2)"
   ]
  },
  {
   "cell_type": "markdown",
   "metadata": {},
   "source": [
    "# [Optional] Save the Y Haplogroup Diversity\n",
    "Plot over in './browse_divpca.ipynb'"
   ]
  },
  {
   "cell_type": "code",
   "execution_count": 9,
   "metadata": {},
   "outputs": [],
   "source": [
    "df_y_it.to_csv(\"./output/tables/ydiv/it.tsv\", sep=\"\\t\", index=False)\n",
    "df_y_fr.to_csv(\"./output/tables/ydiv/fr.tsv\", sep=\"\\t\", index=False)\n",
    "df_y_ib.to_csv(\"./output/tables/ydiv/ib.tsv\", sep=\"\\t\", index=False)\n",
    "df_y_lev.to_csv(\"./output/tables/ydiv/lev.tsv\", sep=\"\\t\", index=False)\n",
    "df_punic.to_csv(\"./output/tables/ydiv/pun.tsv\", sep=\"\\t\", index=False)"
   ]
  },
  {
   "cell_type": "markdown",
   "metadata": {},
   "source": [
    "# 1b) Visualize Punic Y Haplogroup Diversity \n",
    "Preperation work: Load all Punic Y Haplogroups"
   ]
  },
  {
   "cell_type": "code",
   "execution_count": 16,
   "metadata": {
    "tags": []
   },
   "outputs": [
    {
     "data": {
      "text/plain": [
       "Carthage      10\n",
       "Kerkouene      8\n",
       "Selinunte      6\n",
       "Akhziv         6\n",
       "Tharros        6\n",
       "Lilybaeum      5\n",
       "Birgi          4\n",
       "Motya          4\n",
       "Villaricos     4\n",
       "Villamar       2\n",
       "Eivissa        1\n",
       "MonteSirai     1\n",
       "Malaga         1\n",
       "Name: location, dtype: int64"
      ]
     },
     "execution_count": 16,
     "metadata": {},
     "output_type": "execute_result"
    }
   ],
   "source": [
    "df_punic[\"location\"].value_counts()"
   ]
  },
  {
   "cell_type": "markdown",
   "metadata": {},
   "source": [
    "## Manually overwrite some automatic haplogroup calls\n",
    "The new calls were manually called, pulling down against ISOGG19/20"
   ]
  },
  {
   "cell_type": "code",
   "execution_count": 6,
   "metadata": {
    "tags": []
   },
   "outputs": [],
   "source": [
    "set_age_ydiv_df(df_punic, site=\"I22114\", age=\"I1\", site_col=\"iid\", age_col=\"Y_haplo\")\n",
    "set_age_ydiv_df(df_punic, site=\"I21197\", age=\"L\", site_col=\"iid\", age_col=\"Y_haplo\")\n",
    "set_age_ydiv_df(df_punic, site=\"I18189\", age=\"E1a1\", site_col=\"iid\", age_col=\"Y_haplo\")\n",
    "set_age_ydiv_df(df_punic, site=\"I11805\", age=\"G2a1a1\", site_col=\"iid\", age_col=\"Y_haplo\")\n",
    "set_age_ydiv_df(df_punic, site=\"I21856\", age=\"J1a2b~\", site_col=\"iid\", age_col=\"Y_haplo\")"
   ]
  },
  {
   "cell_type": "markdown",
   "metadata": {},
   "source": [
    "### Define colors and symbols"
   ]
  },
  {
   "cell_type": "code",
   "execution_count": null,
   "metadata": {
    "tags": []
   },
   "outputs": [],
   "source": [
    "df_punic[\"Y_h\"]= df_punic[\"Y_haplo\"].str[:4]\n",
    "counts = df_punic[\"Y_h\"].value_counts().reset_index()\n",
    "counts = counts.sort_values(\"index\")\n",
    "\n",
    "### Merge in Colors\n",
    "df_c = pd.DataFrame([[\"C1a2\",\"#577590\"], [\"E1a1\",\"#ffee32\"], [\"E1b1\",\"#ffd100\"], \n",
    "                     [\"G2a1\",\"#9b5de5\"], [\"G2a2\",\"#f15bb5\"], [\"I1\",\"#a4ac86\"], [\"I2a1\",\"#656d4a\"], \n",
    "                     [\"J1a2\",\"#0e6ba8\"], [\"J2a1\", \"blue\"], [\"J2a2\",\"aqua\"], [\"J2b2\",\"#a6e1fa\"],[\"L\",\"#ff9505\"], \n",
    "                     [\"R1a1\",\"gray\"], [\"R1b1\",\"#595959\"], [\"T1a1\",\"#29bf12\"], [\"T1a2\",\"#abff4f\"]])\n",
    "df_c.columns = [\"index\", \"c\"]\n",
    "\n",
    "counts = pd.merge(counts, df_c, on=\"index\", how=\"left\")\n",
    "counts[\"cs\"] = np.concatenate(([0], np.cumsum(counts[\"Y_h\"])[:-1]))\n",
    "counts[\"means\"] = counts[\"cs\"] + counts[\"Y_h\"]/2\n",
    "counts[\"labels\"] = counts[\"index\"].str[:] + \" (\" + counts[\"Y_h\"].astype(\"str\").str[:] + \")\"\n",
    "\n",
    "df_pt = pd.merge(df_punic, counts[[\"index\", \"c\", \"means\"]], how=\"left\", left_on=\"Y_h\", right_on=\"index\") # prepare the indivdiual summary\n",
    "\n",
    "### Merge in Markers\n",
    "df_ms = pd.DataFrame([[\"Punic_Early\", \"o\"],[\"Punic_Late\", \"o\"],[\"Punic_Late2\", \"o\"]])\n",
    "df_ms.columns = [\"label\", \"m\"]\n",
    "df_pt = pd.merge(df_pt, df_ms, how=\"left\", on=\"label\") # prepare the indivdiual summary"
   ]
  },
  {
   "cell_type": "code",
   "execution_count": 22,
   "metadata": {
    "tags": []
   },
   "outputs": [
    {
     "data": {
      "text/plain": [
       "E1b1b1a1    11\n",
       "R1b1a1b1     9\n",
       "G2a2b2a1     4\n",
       "J1a2a1a2     4\n",
       "E1b1b1b2     3\n",
       "J2a1a1a2     3\n",
       "T1a1a1a1     2\n",
       "J2b2a1a1     2\n",
       "J2a1a2b2     2\n",
       "E1a1         1\n",
       "G2a2a1a      1\n",
       "J2a2a1a~     1\n",
       "R1b1a1b      1\n",
       "J2b2a1       1\n",
       "I2a1a1a2     1\n",
       "T1a2         1\n",
       "I2a1a1a1     1\n",
       "G2a2a1a2     1\n",
       "C1a2a2       1\n",
       "J1a2b~       1\n",
       "E1a1a2d~     1\n",
       "J2a1a1b2     1\n",
       "G2a1a1       1\n",
       "R1a1a1b2     1\n",
       "J2a1a1b1     1\n",
       "I1           1\n",
       "L            1\n",
       "Name: Y_haplo, dtype: int64"
      ]
     },
     "execution_count": 22,
     "metadata": {},
     "output_type": "execute_result"
    }
   ],
   "source": [
    "df_punic[\"Y_haplo\"].str[:8].value_counts()"
   ]
  },
  {
   "cell_type": "markdown",
   "metadata": {},
   "source": [
    "### Overall Pie chart"
   ]
  },
  {
   "cell_type": "code",
   "execution_count": null,
   "metadata": {
    "tags": []
   },
   "outputs": [],
   "source": [
    "counts"
   ]
  },
  {
   "cell_type": "code",
   "execution_count": 23,
   "metadata": {
    "tags": []
   },
   "outputs": [
    {
     "name": "stdout",
     "output_type": "stream",
     "text": [
      "Saved to: ./figures/div/y_total.pdf\n"
     ]
    },
    {
     "data": {
      "image/png": "[encoded data removed]",
      "text/plain": [
       "<Figure size 432x576 with 1 Axes>"
      ]
     },
     "metadata": {},
     "output_type": "display_data"
    }
   ],
   "source": [
    "savepath  = \"./figures/div/y_total.pdf\" \n",
    "\n",
    "plt.figure(figsize=(6,8))\n",
    "ax = plt.gca()\n",
    "ax.pie(counts[\"Y_h\"], \n",
    "       labels=counts[\"labels\"], \n",
    "       autopct='%1.1f%%', colors=counts[\"c\"], pctdistance=0.9)\n",
    "ax.set_title(\"Y Haplogroup Diversity all Punic\")\n",
    "\n",
    "if len(savepath) > 0:\n",
    "    plt.savefig(savepath, bbox_inches = 'tight', \n",
    "                pad_inches = 0, dpi=600)\n",
    "    print(f\"Saved to: {savepath}\")\n",
    "    \n",
    "plt.show()"
   ]
  },
  {
   "cell_type": "markdown",
   "metadata": {},
   "source": [
    "## Make Plot per Site"
   ]
  },
  {
   "cell_type": "code",
   "execution_count": 9,
   "metadata": {
    "tags": []
   },
   "outputs": [],
   "source": [
    "def plot_label_bar(ax, counts, xlim=[-0.51,0.51], lfs=10):\n",
    "    \"\"\"Plot the Label Bar\"\"\"\n",
    "    for _, row in counts.iterrows():\n",
    "        ax.bar(0, row[\"Y_h\"], 1,  bottom=row[\"cs\"], color=row[\"c\"], edgecolor=\"k\")\n",
    "\n",
    "    ax.set_xlim(xlim)\n",
    "    ylim=[0,np.sum(counts[\"Y_h\"])] # The Y Limit\n",
    "    ax.set_ylim(ylim)\n",
    "    ax.axes.get_xaxis().set_visible(False) # Turn off x axis\n",
    "    #ax.axes.grid(b=None)\n",
    "\n",
    "    ax_r = ax.twinx()\n",
    "    ax_r.set_yticks([0, 0.2, 0.4, 0.6, 0.8, 1])\n",
    "    ax_r.set_yticklabels([0, 0.2, 0.4, 0.6, 0.8, 1.0], rotation=0, fontsize=lfs)\n",
    "\n",
    "    ax.set_yticks(counts[\"means\"] )\n",
    "    ax.set_yticklabels(counts[\"labels\"] , rotation=0, fontsize=10)\n",
    "    for ytick, c in zip(ax.get_yticklabels(), counts[\"c\"]):\n",
    "        ytick.set_color(c)\n",
    "\n",
    "    ttl = ax.set_title(\"Y Haplogroup \\nFrequency\", fontsize=fst)\n",
    "    ttl.set_position([.0, 1.01])\n",
    "\n",
    "def plot_site_y(df, ax, ec =\"k\", title=\"\", rot=50, \n",
    "                delta_x=0.3, hlines=[], ha=\"left\"):\n",
    "    \"\"\"Plot Y chromosome div. per site.\n",
    "    df: Y Haplo Dataframe\n",
    "    ax: Axis to plot on\"\"\"\n",
    "    ### Calc x shifts bc of counts\n",
    "    df[\"s_x\"] = 0 # Specify def value\n",
    "    vs = set(df[\"Y_h\"])\n",
    "    for v in vs:\n",
    "        idx = df[\"Y_h\"] == v\n",
    "        df.loc[idx, \"s_x\"] = (np.arange(np.sum(idx)) - (np.sum(idx)-1)/2)   * delta_x\n",
    "        #if np.sum(idx)>1:\n",
    "            #df.loc[idx, \"s_x\"] = np.arange(np.sum(idx)) / (np.sum(idx)-1) #- (np.sum(idx)-1)/2\n",
    "    \n",
    "    ax.set_title(title, rotation=rot, ha=ha)\n",
    "    ax.set_xticks([])\n",
    "    ax.set_yticks([])\n",
    "    \n",
    "    for h in hlines:\n",
    "        ax.axhline(h, c=\"gray\", ls=\"--\", lw=0.5)\n",
    "    \n",
    "    for m in set(df[\"m\"]):  # Iterate over all markers\n",
    "        dft = df[df[\"m\"]==m]\n",
    "        ax.scatter(dft[\"s_x\"], dft[\"means\"],  #+np.random.random(len(df))-0.5 \n",
    "                   ec=ec, c = dft[\"c\"], marker=m)\n",
    "    \n",
    "    ax.set_ylim(ylim)\n",
    "    ax.set_xlim([-1,1])  # Plot range is 0,1"
   ]
  },
  {
   "cell_type": "code",
   "execution_count": 31,
   "metadata": {
    "tags": []
   },
   "outputs": [
    {
     "data": {
      "text/html": [
       "<div>\n",
       "<style scoped>\n",
       "    .dataframe tbody tr th:only-of-type {\n",
       "        vertical-align: middle;\n",
       "    }\n",
       "\n",
       "    .dataframe tbody tr th {\n",
       "        vertical-align: top;\n",
       "    }\n",
       "\n",
       "    .dataframe thead th {\n",
       "        text-align: right;\n",
       "    }\n",
       "</style>\n",
       "<table border=\"1\" class=\"dataframe\">\n",
       "  <thead>\n",
       "    <tr style=\"text-align: right;\">\n",
       "      <th></th>\n",
       "      <th>iid</th>\n",
       "      <th>Master ID</th>\n",
       "      <th>loc</th>\n",
       "      <th>lat</th>\n",
       "      <th>lon</th>\n",
       "      <th>age</th>\n",
       "      <th>region</th>\n",
       "      <th>study</th>\n",
       "      <th>clst</th>\n",
       "      <th>mean_cov</th>\n",
       "      <th>...</th>\n",
       "      <th>cluster_geo</th>\n",
       "      <th>published</th>\n",
       "      <th>date range</th>\n",
       "      <th>direct date</th>\n",
       "      <th>SNPs</th>\n",
       "      <th>Y_h</th>\n",
       "      <th>index</th>\n",
       "      <th>c</th>\n",
       "      <th>means</th>\n",
       "      <th>m</th>\n",
       "    </tr>\n",
       "  </thead>\n",
       "  <tbody>\n",
       "    <tr>\n",
       "      <th>30</th>\n",
       "      <td>I27602</td>\n",
       "      <td>I27602</td>\n",
       "      <td>Eivissa, Can Marines</td>\n",
       "      <td>38.989</td>\n",
       "      <td>1.5376</td>\n",
       "      <td>2350.0</td>\n",
       "      <td>Spain</td>\n",
       "      <td>Unpublished (Harald Ilan Punic)</td>\n",
       "      <td>Spain_Punic</td>\n",
       "      <td>0.56444</td>\n",
       "      <td>...</td>\n",
       "      <td>Iberia</td>\n",
       "      <td>NaN</td>\n",
       "      <td>408-374 calBCE (2318 ± 19 BP, OxA-41759) FROM ...</td>\n",
       "      <td>y</td>\n",
       "      <td>677328</td>\n",
       "      <td>R1b1</td>\n",
       "      <td>R1b1</td>\n",
       "      <td>#595959</td>\n",
       "      <td>50.0</td>\n",
       "      <td>o</td>\n",
       "    </tr>\n",
       "  </tbody>\n",
       "</table>\n",
       "<p>1 rows × 32 columns</p>\n",
       "</div>"
      ],
      "text/plain": [
       "       iid Master ID                   loc     lat     lon     age region  \\\n",
       "30  I27602    I27602  Eivissa, Can Marines  38.989  1.5376  2350.0  Spain   \n",
       "\n",
       "                              study         clst  mean_cov  ...  cluster_geo  \\\n",
       "30  Unpublished (Harald Ilan Punic)  Spain_Punic   0.56444  ...       Iberia   \n",
       "\n",
       "   published                                         date range direct date  \\\n",
       "30       NaN  408-374 calBCE (2318 ± 19 BP, OxA-41759) FROM ...           y   \n",
       "\n",
       "      SNPs   Y_h index        c means  m  \n",
       "30  677328  R1b1  R1b1  #595959  50.0  o  \n",
       "\n",
       "[1 rows x 32 columns]"
      ]
     },
     "execution_count": 31,
     "metadata": {},
     "output_type": "execute_result"
    }
   ],
   "source": [
    "df_pt[df_pt[\"location\"]==\"Eivissa\"]\n",
    "\n",
    "df_p"
   ]
  },
  {
   "cell_type": "code",
   "execution_count": 25,
   "metadata": {
    "tags": []
   },
   "outputs": [
    {
     "name": "stdout",
     "output_type": "stream",
     "text": [
      "Saved to: ./figures/div/y_persite.pdf\n"
     ]
    },
    {
     "data": {
      "image/png": "[encoded data removed]",
      "text/plain": [
       "<Figure size 576x576 with 15 Axes>"
      ]
     },
     "metadata": {},
     "output_type": "display_data"
    }
   ],
   "source": [
    "savepath = \"./figures/div/y_persite.pdf\"\n",
    "figsize = (8,8)\n",
    "lfs = 10 # Label Fontsize\n",
    "fst = 12 # Fontsize Axis label\n",
    "ec = \"k\"\n",
    "delta_x=0.3\n",
    "\n",
    "sites = [\"Kerkouene\", \"Carthage\", \"Tharros\", \"MonteSirai\",  \n",
    "         \"Villamar\", \"Eivissa\", \"Malaga\", \"Villaricos\", \"Selinunte\", \n",
    "         \"Lilybaeum\", \"Birgi\", \"Motya\", \"Akhziv\"]\n",
    "w= df_pt[\"location\"].value_counts()[sites].values\n",
    "\n",
    "\n",
    "####################\n",
    "### Do the actual figure\n",
    "\n",
    "fig = plt.figure(figsize=figsize) \n",
    "gs = gridspec.GridSpec(1, 2, width_ratios=[0.3, 8], wspace=0.12)\n",
    "\n",
    "# Do the left bar\n",
    "ax = plt.subplot(gs[0]) \n",
    "plot_label_bar(ax, counts, lfs=lfs) \n",
    "\n",
    "# Plot IIDs per Site\n",
    "gs1 = gridspec.GridSpecFromSubplotSpec(1, len(sites), width_ratios=np.sqrt(w), \n",
    "                                       subplot_spec = gs[1], wspace=0.01) # width_ratios=[1,1,10]\n",
    "ylim=[0,np.sum(counts[\"Y_h\"])]\n",
    "\n",
    "for i, s in enumerate(sites):\n",
    "    dft = df_pt[df_pt[\"location\"]==s].sort_values(by=\"age\", ascending=False).copy()\n",
    "    ax = plt.subplot(gs1[i])\n",
    "    plot_site_y(dft, ax=ax, ec=ec, title= f\"{s} ({w[i]})\", \n",
    "                delta_x=delta_x, hlines=counts[\"cs\"])\n",
    "    \n",
    "if len(savepath) > 0:\n",
    "    plt.savefig(savepath, bbox_inches = 'tight', \n",
    "                pad_inches = 0, dpi=600)\n",
    "    print(f\"Saved to: {savepath}\")\n",
    "\n",
    "plt.show()"
   ]
  },
  {
   "cell_type": "code",
   "execution_count": null,
   "metadata": {
    "tags": []
   },
   "outputs": [],
   "source": [
    "df_punic[\"label\"]"
   ]
  },
  {
   "cell_type": "code",
   "execution_count": 112,
   "metadata": {
    "tags": []
   },
   "outputs": [
    {
     "data": {
      "text/plain": [
       "4     E1b1b1a1\n",
       "18    E1b1b1a1\n",
       "24    E1b1b1b2\n",
       "27    E1b1b1b2\n",
       "29    E1b1b1a1\n",
       "30    E1b1b1a1\n",
       "36    E1b1b1a1\n",
       "39    E1b1b1a1\n",
       "40    E1b1b1a1\n",
       "43    E1b1b1a1\n",
       "45    E1b1b1a1\n",
       "53    E1b1b1b2\n",
       "57    E1b1b1a1\n",
       "61    E1b1b1a1\n",
       "Name: Y_haplo, dtype: object"
      ]
     },
     "execution_count": 112,
     "metadata": {},
     "output_type": "execute_result"
    }
   ],
   "source": [
    "df_punic[df_punic[\"Y_h\"]==\"E1b1\"][\"Y_haplo\"].str[:8]\n",
    "\n",
    "#E1b1b1b2a\n",
    "# E1b1b1a1 very Greek (need to check whether \n",
    "# E1b1b1b2 more Eastern Med."
   ]
  },
  {
   "cell_type": "code",
   "execution_count": null,
   "metadata": {
    "tags": []
   },
   "outputs": [],
   "source": [
    "df_punic[df_punic[\"Y_haplo\"].str[:8]==\"E1b1b1b2\"]"
   ]
  },
  {
   "cell_type": "markdown",
   "metadata": {},
   "source": [
    "# 2) Plot PCA Diversity"
   ]
  },
  {
   "cell_type": "markdown",
   "metadata": {},
   "source": [
    "### Helper Functions"
   ]
  },
  {
   "cell_type": "code",
   "execution_count": 30,
   "metadata": {
    "tags": []
   },
   "outputs": [],
   "source": [
    "def get_pca_div_region(df, region=\"\", min_n=10, metric=\"mean_dist\", col_loc=\"loc\"):\n",
    "    \"\"\"Get a Dataframe of Y haplogroup diversities per sites\"\"\"\n",
    "    df_reg = df[df[\"region\"].isin(region)]\n",
    "    cts = df_reg[col_loc].value_counts()\n",
    "    sites = cts[cts>=min_n].index.values\n",
    "    \n",
    "    df_res = create_pca_div_df(df, sites=sites, metric=metric, col_loc=col_loc)\n",
    "    return df_res\n",
    "\n",
    "def create_pca_div_df(df, sites=[], min_n=10, col_loc=\"loc\", age_delta=300,\n",
    "                      metric=\"mean_dist\"):\n",
    "    \"\"\"Take Meta Data as input, and for each site calculate diversity metric.\n",
    "    metric: Whhich metric (var: Variance, mean_dist: mean pw. distance\n",
    "    age_delta: max temp dist from median age\"\"\"\n",
    "    data = []\n",
    "    \n",
    "    for s in sites:\n",
    "        dft = df[df[col_loc]==s] # Extract Site df \n",
    "        if len(dft)==0:\n",
    "            raise RuntimeWarning(f\"Site {s} has no matching samples\")\n",
    "        \n",
    "        dft, age = filter_df_age(dft, age_delta=age_delta) # Filter to samples within age range\n",
    "        m = len(dft) # Filtered df\n",
    "        if m >= min_n: # Calculate Variance    \n",
    "            \n",
    "            if metric==\"var\":\n",
    "                vars2 = np.var(dft[[\"pc1\", \"pc2\"]], axis=0)\n",
    "                var = np.sum(vars2)\n",
    "                      \n",
    "            elif metric==\"mean_dist\":\n",
    "                ds = pdist(dft[[\"pc1\", \"pc2\"]].values)\n",
    "                var = np.mean(ds)\n",
    "       \n",
    "            else:\n",
    "                raise RuntimeWarning(f\"Metric {metric} not found!\")\n",
    "                \n",
    "            data.append([s, age, m, var]) \n",
    "        else: \n",
    "            continue\n",
    "    \n",
    "    # Make the summary Data Frame\n",
    "    df_res = pd.DataFrame(data)\n",
    "    df_res.columns = [\"loc\", \"age\", \"n\", \"div\"]\n",
    "    return df_res"
   ]
  },
  {
   "cell_type": "code",
   "execution_count": 32,
   "metadata": {
    "tags": []
   },
   "outputs": [
    {
     "name": "stdout",
     "output_type": "stream",
     "text": [
      "Filtered to 3568 Individuals based on Min SNP: 20000\n",
      "Filtered to 3568 based on duplicates\n",
      "Filtered to 3568 based on manual removals\n",
      "Extracted IIDs of 160 IIDs in Punic Project\n",
      "Merged to 149 Punic IIDs\n",
      "Filtered to 136 Phoenician-Punic Samples\n",
      "Filtered general Meta to 2287 ancient, non Punic individuals\n",
      "Filtered to 2279 published ancient IIDs\n"
     ]
    }
   ],
   "source": [
    "min_snp = 20000\n",
    "path_pca = \"./output/pca/v54.1var/20230425.varPCA.v54.1.construct_WE_NA_PCA.smYES.outitY.evec.txt\"\n",
    "path_meta = \"/n/groups/reich/hringbauer/Data/v54.1.anno.csv\" \n",
    "\n",
    "df = pd.read_csv(path_pca, \n",
    "                 sep=r\"\\s+\", skiprows=1, header=None)\n",
    "df.columns=[\"iid\", \"pc1\", \"pc2\", \"pc3\", \"pc4\", \"pop\"]\n",
    "df_meta = pd.read_csv(path_meta, sep=\",\")\n",
    "df2 = df_meta[[\"iid\", \"Master ID\", \"loc\", \"n_cov_snp\", \n",
    "               \"mean_cov\", \"sex\", \"age\", \"contact\", \"clst\", \"region\", \"study\"]]\n",
    "df = pd.merge(df, df2, on=\"iid\", how=\"left\")\n",
    "df[\"clst\"].fillna(inplace = True, value=\"missing\") # Fill NaNs\n",
    "\n",
    "idx = (df[\"n_cov_snp\"]<min_snp)\n",
    "df = df[~idx]\n",
    "df.loc[df[\"loc\"].isnull(), \"loc\"]=\"not assigned\"\n",
    "print(f\"Filtered to {len(df)} Individuals based on Min SNP: {min_snp}\")\n",
    "\n",
    "df = df.sort_values(by=\"n_cov_snp\", ascending=False)\n",
    "dup = (df[\"Master ID\"].duplicated() & ~df[\"Master ID\"].isnull())\n",
    "df = df[~dup].copy().reset_index(drop=True)\n",
    "print(f\"Filtered to {len(df)} based on duplicates\")\n",
    "\n",
    "# Remove female Sudan Outlier\n",
    "idx = df[\"iid\"]==\"I22257\" \n",
    "df=df[~idx].copy().reset_index(drop=True)\n",
    "print(f\"Filtered to {len(df)} based on manual removals\")\n",
    "#df[df[\"pop\"].str.contains(\"Lebanon\")]\n",
    "\n",
    "### Seperate Individuals from Punic project\n",
    "df1 = pd.read_csv(\"./data/cluster_assignments_punic.v54.1j.tsv\", sep=\"\\t\")\n",
    "print(f\"Extracted IIDs of {len(df1)} IIDs in Punic Project\")\n",
    "df_p_pca = pd.merge(df, df1, on=\"iid\")\n",
    "print(f\"Merged to {len(df_p_pca)} Punic IIDs\")\n",
    "\n",
    "### Remove Romans from Punic dataset\n",
    "df_p_pca = df_p_pca[~df_p_pca[\"labelPCA\"].str.contains(\"Roman\")]\n",
    "print(f\"Filtered to {len(df_p_pca)} Phoenician-Punic Samples\")\n",
    "\n",
    "### Remove Punics from general Meta\n",
    "df = df[~df[\"iid\"].isin(df1[\"iid\"])]\n",
    "df_anc_pca = df[df[\"pop\"]==\"keep_anc\"]\n",
    "print(f\"Filtered general Meta to {len(df_anc_pca)} ancient, non Punic individuals\")\n",
    "\n",
    "### Go to published indivduals only (Sanity Check - should be already done in PCA creation)\n",
    "df_anc_pca =df_anc_pca[~df_anc_pca[\"study\"].str.contains(\"Unpublished\")]\n",
    "print(f\"Filtered to {len(df_anc_pca)} published ancient IIDs\")"
   ]
  },
  {
   "cell_type": "code",
   "execution_count": null,
   "metadata": {},
   "outputs": [],
   "source": [
    "df[\"study\"].value_counts()"
   ]
  },
  {
   "cell_type": "code",
   "execution_count": 14,
   "metadata": {
    "tags": []
   },
   "outputs": [],
   "source": [
    "min_n = 10 # In Prep the Cutoff is at 10\n",
    "df_pca_it = get_pca_div_region(df_anc_pca, [\"Italy\"], min_n=min_n)\n",
    "df_pca_fr = get_pca_div_region(df_anc_pca, [\"France\", \"Germany\", \"Austria\"], min_n=min_n)\n",
    "df_pca_ib = get_pca_div_region(df_anc_pca, [\"Spain\", \"Portugal\"], min_n=min_n)\n",
    "df_pca_lev = get_pca_div_region(df_anc_pca, [\"Israel\", \"Lebanon\"], min_n=min_n)\n",
    "\n",
    "df_pca_pun = create_pca_div_df(df_p_pca,  col_loc='location', min_n=7,\n",
    "                               sites=[\"Kerkouene\", \"Tharros\",  \"Selinunte\", \"Birgi\", \"Motya\", \"Lilybaeum\",\n",
    "                                      'Villaricos', \"Carthage\"]) #Eivissa missing bc not one site \n",
    "\n",
    "df_pca_ph = create_pca_div_df(df_p_pca,  col_loc='location', min_n=7, sites=[\"Akhziv\"])\n",
    "\n",
    "sites=[\"Kerkouene\", \"Carthage\", 'Villaricos', \"Tharros\",  \"Selinunte\", \"Birgi\", \"Motya\", \"Lilybaeum\"]\n",
    "dfpk1, dfpc1, dfpv1, dfpt1, dfps1, dfpb1, dfpm1, dfpl1 = [create_pca_div_df(df_p_pca, [s], age_delta=500,\n",
    "                                                                            min_n=7, col_loc=\"location\") for s in sites] \n",
    "df_pca_ph = create_pca_div_df(df_p_pca, sites=[\"Akhziv\"], col_loc=\"location\", min_n=7)\n",
    "set_age_ydiv_df(dfpc1, site='Carthage', age=2300)\n",
    "set_age_ydiv_df(dfpt1, site='Tharros', age=2400)"
   ]
  },
  {
   "cell_type": "code",
   "execution_count": 15,
   "metadata": {
    "tags": []
   },
   "outputs": [],
   "source": [
    "def plot_pca_div_panel(ax=0, figsize=(4,3), col_plot=\"div\", ylim=[0, 0.04],\n",
    "                       s=50, m=\"o\", sf=1.4, lw = 0.5, show=False):\n",
    "    \"\"\"Plot PCA Diversity Panel. Assumes that the data dataframes are defined externally.\n",
    "    If axis not given, make new plot with figsize.\"\"\"\n",
    "    if ax==0:\n",
    "        plt.figure(figsize=figsize)\n",
    "        ax = plt.gca()\n",
    "    \n",
    "    ### Plot the data\n",
    "    a1 = ax.scatter(df_pca_it[\"age\"]-1950, df_pca_it[col_plot], c=\"green\", ec=\"k\", s=s, marker=m, lw=lw)\n",
    "    a2 = ax.scatter(df_pca_fr[\"age\"]-1950, df_pca_fr[col_plot], c=\"violet\", ec=\"k\", s=s, marker=m, lw=lw)\n",
    "    a3 = ax.scatter(df_pca_ib[\"age\"]-1950, df_pca_ib[col_plot], c=\"gray\", ec=\"k\", s=s, marker=m, lw=lw)\n",
    "    a4 = ax.scatter(df_pca_lev[\"age\"]-1950, df_pca_lev[col_plot], c=\"#390099\", ec=\"k\", s=s, marker=m, lw=lw)\n",
    "    p1 = ax.scatter(dfpk1[\"age\"]-1950, dfpk1[col_plot], ec=\"k\", c=\"darkorange\", s=s*sf, marker=\"<\", lw=lw)\n",
    "    p2 = ax.scatter(dfpc1[\"age\"]-1950, dfpc1[col_plot], ec=\"k\", c=\"darkorange\", s=s*sf, marker=\">\", lw=lw)\n",
    "    p3 = ax.scatter(dfpv1[\"age\"]-1950, dfpv1[col_plot], ec=\"k\", c=\"darkorange\", s=s*sf, marker=\"^\", lw=lw)\n",
    "    p4 = ax.scatter(dfpt1[\"age\"]-1950, dfpt1[col_plot], ec=\"k\", c=\"darkorange\", s=s*sf, marker=\"v\", lw=lw)\n",
    "    p5 = ax.scatter(dfps1[\"age\"]-1950, dfps1[col_plot], ec=\"k\", c=\"darkorange\", s=s*sf, marker=\"o\", lw=lw)\n",
    "    p6 = ax.scatter(dfpb1[\"age\"]-1950, dfpb1[col_plot], ec=\"k\", c=\"darkorange\", s=s*sf, marker=\"X\", lw=lw)\n",
    "    p7 = ax.scatter(dfpm1[\"age\"]-1950, dfpm1[col_plot], ec=\"k\", c=\"darkorange\", s=s*sf, marker=\"h\", lw=lw)\n",
    "    p8 = ax.scatter(dfpl1[\"age\"]-1950, dfpl1[col_plot], ec=\"k\", c=\"darkorange\", s=s*sf, marker=\"*\", lw=lw)\n",
    "    p9 = ax.scatter(df_pca_ph[\"age\"]-1950, df_pca_ph[col_plot], c=\"orangered\", ec=\"k\", s=s, marker='H', lw=lw)\n",
    "\n",
    "    dfpk1, dfpc1, dfpv1, dfpt1, dfps1, dfpb1, dfpm1, dfpl1\n",
    "    \n",
    "    ### Plot the prev. maximum line\n",
    "    div_max = np.max(df_pca_fr[df_pca_fr[\"age\"]>2500][col_plot])\n",
    "    ax.axhline(div_max, c=\"k\", ls=\"--\", zorder=0, lw=1)\n",
    "    ax.text(5400, div_max*1.05, \"Max. before Phoenician/Punic\", va=\"bottom\")\n",
    "    \n",
    "    ############################################################\n",
    "    ### Formating the plot\n",
    "    ax.set_axisbelow(True)\n",
    "    ax.grid(axis='y', color='lightgray', linestyle='dashed', linewidth=1, zorder=0)\n",
    "    ax.set_ylabel(\"2D PCA Diversity\")\n",
    "    ax.set_xlabel(\"Years before Present (BCE/CE)\")\n",
    "    ax.invert_xaxis()\n",
    "    \n",
    "    #### Legend Punic\n",
    "    plots = [p1, p2, p3, p4, p5, p6, p7, p8, p9]\n",
    "    legs = [\"Kerkouene\", \"Carthage\", 'Villaricos', \n",
    "            \"Tharros\", \"Selinunte\", \"Birgi\", \n",
    "            \"Motya\", \"Lilybaeum\", \"Akhziv\"]\n",
    "\n",
    "    leg1 = ax.legend(plots, legs, fontsize=10, \n",
    "                     title = \"Phoenician-Punic\\nSites\",\n",
    "                     bbox_to_anchor=(1.00, 1.03), loc=\"upper left\")\n",
    "    #[lgd.set_edgecolor('white') for lgd in leg1.legendHandles]\n",
    "    leg1.get_title().set_fontsize('10')\n",
    "    leg1.get_title().set_fontweight(\"bold\")\n",
    "    ax.add_artist(leg1)\n",
    "\n",
    "    ### Legend Context Sites (in other plot)\n",
    "    if len(ylim)>0:\n",
    "        ax.set_ylim(ylim)\n",
    "    if show:\n",
    "        plt.show()"
   ]
  },
  {
   "cell_type": "code",
   "execution_count": 16,
   "metadata": {
    "tags": []
   },
   "outputs": [
    {
     "data": {
      "image/png": "[encoded data removed]",
      "text/plain": [
       "<Figure size 400x300 with 1 Axes>"
      ]
     },
     "metadata": {},
     "output_type": "display_data"
    }
   ],
   "source": [
    "plot_pca_div_panel()"
   ]
  },
  {
   "cell_type": "code",
   "execution_count": 17,
   "metadata": {
    "tags": []
   },
   "outputs": [
    {
     "data": {
      "text/html": [
       "<div>\n",
       "<style scoped>\n",
       "    .dataframe tbody tr th:only-of-type {\n",
       "        vertical-align: middle;\n",
       "    }\n",
       "\n",
       "    .dataframe tbody tr th {\n",
       "        vertical-align: top;\n",
       "    }\n",
       "\n",
       "    .dataframe thead th {\n",
       "        text-align: right;\n",
       "    }\n",
       "</style>\n",
       "<table border=\"1\" class=\"dataframe\">\n",
       "  <thead>\n",
       "    <tr style=\"text-align: right;\">\n",
       "      <th></th>\n",
       "      <th>loc</th>\n",
       "      <th>age</th>\n",
       "      <th>n</th>\n",
       "      <th>div</th>\n",
       "    </tr>\n",
       "  </thead>\n",
       "  <tbody>\n",
       "    <tr>\n",
       "      <th>0</th>\n",
       "      <td>Piedmont, Collegno</td>\n",
       "      <td>1345.0</td>\n",
       "      <td>22</td>\n",
       "      <td>0.019920</td>\n",
       "    </tr>\n",
       "    <tr>\n",
       "      <th>1</th>\n",
       "      <td>Isola Sacra</td>\n",
       "      <td>1750.0</td>\n",
       "      <td>20</td>\n",
       "      <td>0.024799</td>\n",
       "    </tr>\n",
       "    <tr>\n",
       "      <th>2</th>\n",
       "      <td>Lazio, Viterbo, Tarquinia</td>\n",
       "      <td>2151.0</td>\n",
       "      <td>17</td>\n",
       "      <td>0.009339</td>\n",
       "    </tr>\n",
       "    <tr>\n",
       "      <th>3</th>\n",
       "      <td>Basilicata, Potenza, Venosa</td>\n",
       "      <td>1250.0</td>\n",
       "      <td>14</td>\n",
       "      <td>0.013856</td>\n",
       "    </tr>\n",
       "    <tr>\n",
       "      <th>4</th>\n",
       "      <td>Villa Magna</td>\n",
       "      <td>595.0</td>\n",
       "      <td>11</td>\n",
       "      <td>0.012350</td>\n",
       "    </tr>\n",
       "    <tr>\n",
       "      <th>5</th>\n",
       "      <td>Tarquinia Monterozzi</td>\n",
       "      <td>2238.5</td>\n",
       "      <td>10</td>\n",
       "      <td>0.029262</td>\n",
       "    </tr>\n",
       "    <tr>\n",
       "      <th>6</th>\n",
       "      <td>Tuscany, Grosseto, Casenovole</td>\n",
       "      <td>2350.0</td>\n",
       "      <td>10</td>\n",
       "      <td>0.007200</td>\n",
       "    </tr>\n",
       "  </tbody>\n",
       "</table>\n",
       "</div>"
      ],
      "text/plain": [
       "                             loc     age   n       div\n",
       "0             Piedmont, Collegno  1345.0  22  0.019920\n",
       "1                    Isola Sacra  1750.0  20  0.024799\n",
       "2      Lazio, Viterbo, Tarquinia  2151.0  17  0.009339\n",
       "3    Basilicata, Potenza, Venosa  1250.0  14  0.013856\n",
       "4                    Villa Magna   595.0  11  0.012350\n",
       "5           Tarquinia Monterozzi  2238.5  10  0.029262\n",
       "6  Tuscany, Grosseto, Casenovole  2350.0  10  0.007200"
      ]
     },
     "execution_count": 17,
     "metadata": {},
     "output_type": "execute_result"
    }
   ],
   "source": [
    "df_pca_it#[df_pca_fr[\"div\"]>2500]"
   ]
  },
  {
   "cell_type": "markdown",
   "metadata": {},
   "source": [
    "# 3) Master Diversity Plot\n",
    "Panel a and b"
   ]
  },
  {
   "cell_type": "code",
   "execution_count": 18,
   "metadata": {
    "tags": []
   },
   "outputs": [
    {
     "name": "stdout",
     "output_type": "stream",
     "text": [
      "Saved to: ./figures/div/master_div.v3.png\n"
     ]
    },
    {
     "data": {
      "image/png": "[encoded data removed]",
      "text/plain": [
       "<Figure size 600x700 with 2 Axes>"
      ]
     },
     "metadata": {},
     "output_type": "display_data"
    }
   ],
   "source": [
    "savepath = \"./figures/div/master_div.v3.png\"\n",
    "\n",
    "fig = plt.figure(figsize=(6,7) )\n",
    "gs = gridspec.GridSpec(2, 1, height_ratios=[1,1], hspace=0.1)\n",
    "\n",
    "# Do the left bar\n",
    "ax0 = plt.subplot(gs[0]) \n",
    "ax1 = plt.subplot(gs[1]) \n",
    "\n",
    "plot_y_div_panel(ax=ax0, show=False, leg_p=False)                 \n",
    "plot_pca_div_panel(ax=ax1, show=False)\n",
    "\n",
    "### Some Formatting for the panel\n",
    "ax0.set_xlabel(\"\")\n",
    "ax0.text(-0.14, 1.03, 'a', ha='left', va='top', \n",
    "        transform = ax0.transAxes, weight='bold')\n",
    "ax1.text(-0.14, 1.03, 'b', ha='left', va='top', \n",
    "        transform = ax1.transAxes, weight='bold')\n",
    "\n",
    "### Save the Figure\n",
    "if len(savepath) > 0:\n",
    "    plt.savefig(savepath, bbox_inches = 'tight', \n",
    "                pad_inches = 0, dpi=400)\n",
    "    print(f\"Saved to: {savepath}\")\n",
    "    \n",
    "plt.show()"
   ]
  },
  {
   "cell_type": "code",
   "execution_count": 23,
   "metadata": {
    "tags": []
   },
   "outputs": [
    {
     "data": {
      "text/html": [
       "<div>\n",
       "<style scoped>\n",
       "    .dataframe tbody tr th:only-of-type {\n",
       "        vertical-align: middle;\n",
       "    }\n",
       "\n",
       "    .dataframe tbody tr th {\n",
       "        vertical-align: top;\n",
       "    }\n",
       "\n",
       "    .dataframe thead th {\n",
       "        text-align: right;\n",
       "    }\n",
       "</style>\n",
       "<table border=\"1\" class=\"dataframe\">\n",
       "  <thead>\n",
       "    <tr style=\"text-align: right;\">\n",
       "      <th></th>\n",
       "      <th>loc</th>\n",
       "      <th>age</th>\n",
       "      <th>males</th>\n",
       "      <th>D</th>\n",
       "    </tr>\n",
       "  </thead>\n",
       "  <tbody>\n",
       "    <tr>\n",
       "      <th>5</th>\n",
       "      <td>Cancelleria</td>\n",
       "      <td>514.0</td>\n",
       "      <td>6</td>\n",
       "      <td>15.000000</td>\n",
       "    </tr>\n",
       "    <tr>\n",
       "      <th>0</th>\n",
       "      <td>Sicily, Himera</td>\n",
       "      <td>2430.0</td>\n",
       "      <td>19</td>\n",
       "      <td>12.214286</td>\n",
       "    </tr>\n",
       "    <tr>\n",
       "      <th>10</th>\n",
       "      <td>Crypta Balbi</td>\n",
       "      <td>1450.0</td>\n",
       "      <td>5</td>\n",
       "      <td>10.000000</td>\n",
       "    </tr>\n",
       "    <tr>\n",
       "      <th>13</th>\n",
       "      <td>Mausoleo di Augusto</td>\n",
       "      <td>1450.0</td>\n",
       "      <td>5</td>\n",
       "      <td>10.000000</td>\n",
       "    </tr>\n",
       "    <tr>\n",
       "      <th>14</th>\n",
       "      <td>Via Paisiello (Necropoli Salaria)</td>\n",
       "      <td>1850.0</td>\n",
       "      <td>5</td>\n",
       "      <td>10.000000</td>\n",
       "    </tr>\n",
       "    <tr>\n",
       "      <th>4</th>\n",
       "      <td>Villa Magna</td>\n",
       "      <td>595.0</td>\n",
       "      <td>7</td>\n",
       "      <td>5.250000</td>\n",
       "    </tr>\n",
       "    <tr>\n",
       "      <th>6</th>\n",
       "      <td>Isola Sacra</td>\n",
       "      <td>1750.0</td>\n",
       "      <td>7</td>\n",
       "      <td>5.250000</td>\n",
       "    </tr>\n",
       "    <tr>\n",
       "      <th>9</th>\n",
       "      <td>Monterotondo</td>\n",
       "      <td>1814.0</td>\n",
       "      <td>5</td>\n",
       "      <td>5.000000</td>\n",
       "    </tr>\n",
       "    <tr>\n",
       "      <th>8</th>\n",
       "      <td>Sardinia, Perdasdefogu, NUO, S’Orcu ‘e Tueri</td>\n",
       "      <td>3148.0</td>\n",
       "      <td>5</td>\n",
       "      <td>3.333333</td>\n",
       "    </tr>\n",
       "    <tr>\n",
       "      <th>12</th>\n",
       "      <td>Basilicata, Potenza, Venosa</td>\n",
       "      <td>1250.0</td>\n",
       "      <td>5</td>\n",
       "      <td>3.333333</td>\n",
       "    </tr>\n",
       "    <tr>\n",
       "      <th>3</th>\n",
       "      <td>Tarquinia Monterozzi</td>\n",
       "      <td>2253.0</td>\n",
       "      <td>8</td>\n",
       "      <td>2.800000</td>\n",
       "    </tr>\n",
       "    <tr>\n",
       "      <th>1</th>\n",
       "      <td>Piedmont, Collegno</td>\n",
       "      <td>1345.0</td>\n",
       "      <td>15</td>\n",
       "      <td>2.333333</td>\n",
       "    </tr>\n",
       "    <tr>\n",
       "      <th>11</th>\n",
       "      <td>Tuscany, Grosseto, Casenovole</td>\n",
       "      <td>2300.0</td>\n",
       "      <td>5</td>\n",
       "      <td>1.666667</td>\n",
       "    </tr>\n",
       "    <tr>\n",
       "      <th>2</th>\n",
       "      <td>Lazio, Viterbo, Tarquinia</td>\n",
       "      <td>2151.0</td>\n",
       "      <td>10</td>\n",
       "      <td>1.551724</td>\n",
       "    </tr>\n",
       "    <tr>\n",
       "      <th>7</th>\n",
       "      <td>Sicily, Polizzello</td>\n",
       "      <td>2650.0</td>\n",
       "      <td>7</td>\n",
       "      <td>1.000000</td>\n",
       "    </tr>\n",
       "  </tbody>\n",
       "</table>\n",
       "</div>"
      ],
      "text/plain": [
       "                                             loc     age  males          D\n",
       "5                                    Cancelleria   514.0      6  15.000000\n",
       "0                                 Sicily, Himera  2430.0     19  12.214286\n",
       "10                                  Crypta Balbi  1450.0      5  10.000000\n",
       "13                           Mausoleo di Augusto  1450.0      5  10.000000\n",
       "14             Via Paisiello (Necropoli Salaria)  1850.0      5  10.000000\n",
       "4                                    Villa Magna   595.0      7   5.250000\n",
       "6                                    Isola Sacra  1750.0      7   5.250000\n",
       "9                                   Monterotondo  1814.0      5   5.000000\n",
       "8   Sardinia, Perdasdefogu, NUO, S’Orcu ‘e Tueri  3148.0      5   3.333333\n",
       "12                   Basilicata, Potenza, Venosa  1250.0      5   3.333333\n",
       "3                           Tarquinia Monterozzi  2253.0      8   2.800000\n",
       "1                             Piedmont, Collegno  1345.0     15   2.333333\n",
       "11                 Tuscany, Grosseto, Casenovole  2300.0      5   1.666667\n",
       "2                      Lazio, Viterbo, Tarquinia  2151.0     10   1.551724\n",
       "7                             Sicily, Polizzello  2650.0      7   1.000000"
      ]
     },
     "execution_count": 23,
     "metadata": {},
     "output_type": "execute_result"
    }
   ],
   "source": [
    "df_y_it.sort_values(by=\"D\", ascending=False)"
   ]
  },
  {
   "cell_type": "code",
   "execution_count": 26,
   "metadata": {},
   "outputs": [
    {
     "data": {
      "text/html": [
       "<div>\n",
       "<style scoped>\n",
       "    .dataframe tbody tr th:only-of-type {\n",
       "        vertical-align: middle;\n",
       "    }\n",
       "\n",
       "    .dataframe tbody tr th {\n",
       "        vertical-align: top;\n",
       "    }\n",
       "\n",
       "    .dataframe thead th {\n",
       "        text-align: right;\n",
       "    }\n",
       "</style>\n",
       "<table border=\"1\" class=\"dataframe\">\n",
       "  <thead>\n",
       "    <tr style=\"text-align: right;\">\n",
       "      <th></th>\n",
       "      <th>loc</th>\n",
       "      <th>age</th>\n",
       "      <th>n</th>\n",
       "      <th>div</th>\n",
       "    </tr>\n",
       "  </thead>\n",
       "  <tbody>\n",
       "    <tr>\n",
       "      <th>0</th>\n",
       "      <td>Piedmont, Collegno</td>\n",
       "      <td>1345.0</td>\n",
       "      <td>22</td>\n",
       "      <td>0.019920</td>\n",
       "    </tr>\n",
       "    <tr>\n",
       "      <th>1</th>\n",
       "      <td>Isola Sacra</td>\n",
       "      <td>1750.0</td>\n",
       "      <td>20</td>\n",
       "      <td>0.024799</td>\n",
       "    </tr>\n",
       "    <tr>\n",
       "      <th>2</th>\n",
       "      <td>Lazio, Viterbo, Tarquinia</td>\n",
       "      <td>2151.0</td>\n",
       "      <td>17</td>\n",
       "      <td>0.009339</td>\n",
       "    </tr>\n",
       "    <tr>\n",
       "      <th>3</th>\n",
       "      <td>Basilicata, Potenza, Venosa</td>\n",
       "      <td>1250.0</td>\n",
       "      <td>14</td>\n",
       "      <td>0.013856</td>\n",
       "    </tr>\n",
       "    <tr>\n",
       "      <th>4</th>\n",
       "      <td>Villa Magna</td>\n",
       "      <td>595.0</td>\n",
       "      <td>11</td>\n",
       "      <td>0.012350</td>\n",
       "    </tr>\n",
       "    <tr>\n",
       "      <th>5</th>\n",
       "      <td>Tarquinia Monterozzi</td>\n",
       "      <td>2238.5</td>\n",
       "      <td>10</td>\n",
       "      <td>0.029262</td>\n",
       "    </tr>\n",
       "    <tr>\n",
       "      <th>6</th>\n",
       "      <td>Tuscany, Grosseto, Casenovole</td>\n",
       "      <td>2350.0</td>\n",
       "      <td>10</td>\n",
       "      <td>0.007200</td>\n",
       "    </tr>\n",
       "  </tbody>\n",
       "</table>\n",
       "</div>"
      ],
      "text/plain": [
       "                             loc     age   n       div\n",
       "0             Piedmont, Collegno  1345.0  22  0.019920\n",
       "1                    Isola Sacra  1750.0  20  0.024799\n",
       "2      Lazio, Viterbo, Tarquinia  2151.0  17  0.009339\n",
       "3    Basilicata, Potenza, Venosa  1250.0  14  0.013856\n",
       "4                    Villa Magna   595.0  11  0.012350\n",
       "5           Tarquinia Monterozzi  2238.5  10  0.029262\n",
       "6  Tuscany, Grosseto, Casenovole  2350.0  10  0.007200"
      ]
     },
     "execution_count": 26,
     "metadata": {},
     "output_type": "execute_result"
    }
   ],
   "source": [
    "df_pca_it"
   ]
  },
  {
   "cell_type": "code",
   "execution_count": 24,
   "metadata": {
    "tags": []
   },
   "outputs": [
    {
     "data": {
      "text/html": [
       "<div>\n",
       "<style scoped>\n",
       "    .dataframe tbody tr th:only-of-type {\n",
       "        vertical-align: middle;\n",
       "    }\n",
       "\n",
       "    .dataframe tbody tr th {\n",
       "        vertical-align: top;\n",
       "    }\n",
       "\n",
       "    .dataframe thead th {\n",
       "        text-align: right;\n",
       "    }\n",
       "</style>\n",
       "<table border=\"1\" class=\"dataframe\">\n",
       "  <thead>\n",
       "    <tr style=\"text-align: right;\">\n",
       "      <th></th>\n",
       "      <th>iid</th>\n",
       "      <th>pc1</th>\n",
       "      <th>pc2</th>\n",
       "      <th>pc3</th>\n",
       "      <th>pc4</th>\n",
       "      <th>pop</th>\n",
       "      <th>Master ID</th>\n",
       "      <th>loc</th>\n",
       "      <th>n_cov_snp</th>\n",
       "      <th>mean_cov</th>\n",
       "      <th>sex</th>\n",
       "      <th>age</th>\n",
       "      <th>contact</th>\n",
       "      <th>clst</th>\n",
       "      <th>region</th>\n",
       "      <th>study</th>\n",
       "    </tr>\n",
       "  </thead>\n",
       "  <tbody>\n",
       "  </tbody>\n",
       "</table>\n",
       "</div>"
      ],
      "text/plain": [
       "Empty DataFrame\n",
       "Columns: [iid, pc1, pc2, pc3, pc4, pop, Master ID, loc, n_cov_snp, mean_cov, sex, age, contact, clst, region, study]\n",
       "Index: []"
      ]
     },
     "execution_count": 24,
     "metadata": {},
     "output_type": "execute_result"
    }
   ],
   "source": [
    "df[df[\"loc\"]==\"Sicily, Himera\"]"
   ]
  },
  {
   "cell_type": "markdown",
   "metadata": {},
   "source": [
    "# 3b) Save the tabular values"
   ]
  },
  {
   "cell_type": "markdown",
   "metadata": {},
   "source": [
    "### a) Save the Y Haplogroup Diversity"
   ]
  },
  {
   "cell_type": "code",
   "execution_count": null,
   "metadata": {},
   "outputs": [],
   "source": [
    "    a1 = ax.scatter(df_y_it[\"age\"]-1950, df_y_it[\"D\"], c=\"green\", ec=\"k\", s=s, marker=m, lw=lw)\n",
    "    a2 = ax.scatter(df_y_fr[\"age\"]-1950, df_y_fr[\"D\"], c=\"violet\", ec=\"k\", s=s, marker=m, lw=lw)\n",
    "    a3 = ax.scatter(df_y_ib[\"age\"]-1950, df_y_ib[\"D\"], c=\"gray\", ec=\"k\", s=s, marker=m, lw=lw)\n",
    "    a4 = ax.scatter(df_y_lev[\"age\"]-1950, df_y_lev[\"D\"], c=\"#390099\", ec=\"k\", s=s, marker=m, lw=lw)\n",
    "\n",
    "    p1 = ax.scatter(dfpk[\"age\"]-1950, dfpk[\"D\"], ec=\"k\", c=\"darkorange\", s=s*sf, marker=\"<\", lw=lw)\n",
    "    p2 = ax.scatter(dfpt[\"age\"]-1950, dfpt[\"D\"], ec=\"k\", c=\"darkorange\", s=s*sf, marker=\"v\", lw=lw)\n",
    "    p3 = ax.scatter(dfps[\"age\"]-1950, dfps[\"D\"], ec=\"k\", c=\"darkorange\", s=s*sf, marker=\"^\", lw=lw)\n",
    "    p4 = ax.scatter(dfpc[\"age\"]-1950, dfpc[\"D\"], ec=\"k\", c=\"darkorange\", s=s*sf, marker=\">\", lw=lw)\n",
    "    p5 = ax.scatter(dfpa[\"age\"]-1950, dfpa[\"D\"], c=\"orangered\", ec=\"k\", s=s*sf, marker='H', lw=lw)"
   ]
  },
  {
   "cell_type": "code",
   "execution_count": 11,
   "metadata": {
    "tags": []
   },
   "outputs": [],
   "source": [
    "df_y_it[\"label\"]=\"Italy\"\n",
    "df_y_fr[\"label\"]=\"Central Europe\"\n",
    "df_y_ib[\"label\"]=\"Iberia\"\n",
    "df_y_lev[\"label\"]=\"Levant\"\n",
    "for df in [dfpk,dfpt,dfps, dfpc,dfpa]:\n",
    "    df[\"label\"]=\"Punic\""
   ]
  },
  {
   "cell_type": "code",
   "execution_count": 12,
   "metadata": {
    "tags": []
   },
   "outputs": [],
   "source": [
    "dfm = pd.concat((df_y_it,df_y_fr,df_y_ib,df_y_lev,dfpk,dfpt,dfps,dfpc,dfpa))"
   ]
  },
  {
   "cell_type": "code",
   "execution_count": 16,
   "metadata": {
    "tags": []
   },
   "outputs": [],
   "source": [
    "dfm = dfm.sort_values(by=\"age\", ascending=False)\n",
    "dfm.to_csv(\"./output/tables/divs/y_div.v1.tsv\", sep=\"\\t\", index=False)"
   ]
  },
  {
   "cell_type": "markdown",
   "metadata": {},
   "source": [
    "### b) Save the Autosomal Divs"
   ]
  },
  {
   "cell_type": "code",
   "execution_count": null,
   "metadata": {},
   "outputs": [],
   "source": [
    "    a1 = ax.scatter(df_pca_it[\"age\"]-1950, df_pca_it[col_plot], c=\"green\", ec=\"k\", s=s, marker=m, lw=lw)\n",
    "    a2 = ax.scatter(df_pca_fr[\"age\"]-1950, df_pca_fr[col_plot], c=\"violet\", ec=\"k\", s=s, marker=m, lw=lw)\n",
    "    a3 = ax.scatter(df_pca_ib[\"age\"]-1950, df_pca_ib[col_plot], c=\"gray\", ec=\"k\", s=s, marker=m, lw=lw)\n",
    "    a4 = ax.scatter(df_pca_lev[\"age\"]-1950, df_pca_lev[col_plot], c=\"#390099\", ec=\"k\", s=s, marker=m, lw=lw)\n",
    "    p1 = ax.scatter(dfpk1[\"age\"]-1950, dfpk1[col_plot], ec=\"k\", c=\"darkorange\", s=s*sf, marker=\"<\", lw=lw)\n",
    "    p2 = ax.scatter(dfpc1[\"age\"]-1950, dfpc1[col_plot], ec=\"k\", c=\"darkorange\", s=s*sf, marker=\">\", lw=lw)\n",
    "    p3 = ax.scatter(dfpv1[\"age\"]-1950, dfpv1[col_plot], ec=\"k\", c=\"darkorange\", s=s*sf, marker=\"^\", lw=lw)\n",
    "    p4 = ax.scatter(dfpt1[\"age\"]-1950, dfpt1[col_plot], ec=\"k\", c=\"darkorange\", s=s*sf, marker=\"v\", lw=lw)\n",
    "    p5 = ax.scatter(dfps1[\"age\"]-1950, dfps1[col_plot], ec=\"k\", c=\"darkorange\", s=s*sf, marker=\"o\", lw=lw)\n",
    "    p6 = ax.scatter(dfpb1[\"age\"]-1950, dfpb1[col_plot], ec=\"k\", c=\"darkorange\", s=s*sf, marker=\"X\", lw=lw)\n",
    "    p7 = ax.scatter(dfpm1[\"age\"]-1950, dfpm1[col_plot], ec=\"k\", c=\"darkorange\", s=s*sf, marker=\"h\", lw=lw)\n",
    "    p8 = ax.scatter(dfpl1[\"age\"]-1950, dfpl1[col_plot], ec=\"k\", c=\"darkorange\", s=s*sf, marker=\"*\", lw=lw)\n",
    "    p9 = ax.scatter(df_pca_ph[\"age\"]-1950, df_pca_ph[col_plot], c=\"orangered\", ec=\"k\", s=s, marker='H', lw=lw)"
   ]
  },
  {
   "cell_type": "code",
   "execution_count": 22,
   "metadata": {
    "tags": []
   },
   "outputs": [],
   "source": [
    "df_pca_it[\"label\"]=\"Italy\"\n",
    "df_pca_fr[\"label\"]=\"Central Europe\"\n",
    "df_pca_ib[\"label\"]=\"Iberia\"\n",
    "df_pca_lev[\"label\"]=\"Levant\"\n",
    "for df in [dfpk1,dfpc1,dfpv1,dfpt1,dfps1,dfpb1,dfpm1,dfpl1]:\n",
    "    df[\"label\"]=\"Punic\""
   ]
  },
  {
   "cell_type": "code",
   "execution_count": 23,
   "metadata": {
    "tags": []
   },
   "outputs": [],
   "source": [
    "dfm = pd.concat((df_pca_it,df_pca_fr,df_pca_ib,df_pca_lev,dfpk1,dfpc1,dfpv1,dfpt1,dfps1,dfpb1,dfpm1,dfpl1))\n",
    "dfm = dfm.sort_values(by=\"age\", ascending=False)\n",
    "dfm.to_csv(\"./output/tables/divs/pca_div.v1.tsv\", sep=\"\\t\", index=False)"
   ]
  },
  {
   "cell_type": "markdown",
   "metadata": {},
   "source": [
    "### Save the PCA Diversity"
   ]
  },
  {
   "cell_type": "markdown",
   "metadata": {},
   "source": [
    "# Area 51\n",
    "Test code here"
   ]
  }
 ],
 "metadata": {
  "kernelspec": {
   "display_name": "Python 3 (ipykernel)",
   "language": "python",
   "name": "python3"
  },
  "language_info": {
   "codemirror_mode": {
    "name": "ipython",
    "version": 3
   },
   "file_extension": ".py",
   "mimetype": "text/x-python",
   "name": "python",
   "nbconvert_exporter": "python",
   "pygments_lexer": "ipython3",
   "version": "3.8.12"
  }
 },
 "nbformat": 4,
 "nbformat_minor": 4
}
